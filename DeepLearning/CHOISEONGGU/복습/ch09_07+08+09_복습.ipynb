{
  "nbformat": 4,
  "nbformat_minor": 0,
  "metadata": {
    "colab": {
      "provenance": [],
      "include_colab_link": true
    },
    "kernelspec": {
      "name": "python3",
      "display_name": "Python 3"
    },
    "language_info": {
      "name": "python"
    }
  },
  "cells": [
    {
      "cell_type": "markdown",
      "metadata": {
        "id": "view-in-github",
        "colab_type": "text"
      },
      "source": [
        "<a href=\"https://colab.research.google.com/github/CHOISEONGGU/DeepLearning/blob/main/CHOISEONGGU/%EB%B3%B5%EC%8A%B5/ch09_07%2B08%2B09_%EB%B3%B5%EC%8A%B5.ipynb\" target=\"_parent\"><img src=\"https://colab.research.google.com/assets/colab-badge.svg\" alt=\"Open In Colab\"/></a>"
      ]
    },
    {
      "cell_type": "markdown",
      "source": [
        "* 오토인코더\n",
        "* GAN, cGAN"
      ],
      "metadata": {
        "id": "tMcO1NBqyoXi"
      }
    },
    {
      "cell_type": "markdown",
      "source": [
        "# 오토인코더"
      ],
      "metadata": {
        "id": "7BAzX1NR1X7t"
      }
    },
    {
      "cell_type": "markdown",
      "source": [
        "## Course\n",
        "\n",
        "* 대주제 -> 소주제 -> 트렌드 (질문들을 확장, 심화)\n",
        "* 실생활에 있는 개념으로 비유\n",
        "\n",
        "> 딥러닝에서 오토인코더의 개념과 구조 및 사용을 실생활적인 비유를 들어서 간단하게 설명해줘\n",
        "  * https://sharegpt.com/c/oAbYrR9\n",
        "\n",
        "* 다른 언어나 인접 영역의 대른 개념과 연결<br>\n",
        "\n",
        "> PCA와 오토인코더 간의 공통점과 차이점에 대해서 간단하게 설명해줘.\n",
        "* https://sharegpt.com/c/d6QcOw8\n",
        "\n",
        "> 오코인코더와 GAN 알고리즘 간의 공통점과 차이점을 각각 5개씩 들어줘\n",
        "* https://sharegpt.com/c/RsGjQls\n",
        "\n",
        "* 다양한 방식의 코딩\n",
        "    * 인코더와 디코더를 생성할 때, nn.Module을 상속받는 방식, 혹은 nn.Sequential을 사용하는 방식, 혹은 nn.functional을 사용하는 방식...\n",
        "    * torchsummary, torchviz -> 구조와 데이터의 흐름들을 파악"
      ],
      "metadata": {
        "id": "YT9uh-9h1as0"
      }
    },
    {
      "cell_type": "markdown",
      "source": [
        "* 비지도학습 (<-> 지도학습)\n",
        "    > 딥러닝에서 지도학습과 비지도학습 간의 차이를 설명해줘\n",
        "\n",
        "    > 딥러닝에서 비지도학습 시에 손실함수는 어떻게 최적화해?\n",
        "\n",
        "    > 딥러닝에서 대표적인 비지도학습인 오토인코더에서의 학습 과정을 설명해줘\n",
        "\n",
        "    * https://sharegpt.com/c/WYugiNx"
      ],
      "metadata": {
        "id": "ZBKpPzH5zV_9"
      }
    },
    {
      "cell_type": "markdown",
      "source": [
        "* 인코더, 디코더, 잠재변수\n",
        "* 차원 축소, 특징 추출, 잡음 제거\n",
        "* 재구성 오차, MSE<br>\n",
        "\n",
        "-> 이런 검색 결과의 내용으로 확장해 나가본다. 질문을 만들어보면서."
      ],
      "metadata": {
        "id": "1py_XB-E0mLU"
      }
    },
    {
      "cell_type": "markdown",
      "source": [
        "## Challenge\n",
        "* 빈 칸 채우기\n",
        "* 연습문제\n",
        "* 에러 코드 (TDD)\n",
        "---\n",
        "> 오코인코더에서 인코더와 디코더를 구성하는 다양한 방법을 PyTorch 예제 코드와 함께 5개 제시해줘\n",
        "* https://sharegpt.com/c/cr2qKVI\n",
        "\n",
        "> 오토인코더를 통해서 잠재변수로 차원을 2차원 또는 3차원으로 축소한 다음에, 해당 잠재변수를 통해서 데이터들의 상관관계를 시각화하는 예시 코드를 PyTorch와 여러 시각화 라이브러리들을 사용해서 5가지 예시를 들어줘\n",
        "* https://sharegpt.com/c/Imfyvct"
      ],
      "metadata": {
        "id": "jet8KdDZFPrl"
      }
    },
    {
      "cell_type": "markdown",
      "source": [
        "## Creativity\n",
        "\n",
        "* 간단한 복습용 데이터 프로젝트\n",
        "* 본인 직무와 관련된 심화 프로젝트 & 팀 프로젝트\n",
        "* 결과물들을 어떻게 문서화 & 시각화"
      ],
      "metadata": {
        "id": "v4eRkEosGu8m"
      }
    },
    {
      "cell_type": "markdown",
      "source": [
        "# GAN\n"
      ],
      "metadata": {
        "id": "IXSR0vzPG6-D"
      }
    },
    {
      "cell_type": "markdown",
      "source": [
        "## Course\n",
        "* 비지도학습, 생성, 생성자, 감별자, 정규분포, BCE, cGAN(조건부 GAN) - 추가하고자 하는 class라던가를 추가해 내가 만들고 싶은 GAN을 만든다. (conditional GAN)\n",
        "\n",
        "* 대주제 -> 소주제 -> Trand : 흐름으로 질문 던져서 확장 및 심화 하면서 복습\n",
        "* 실생활에 있는 개념으로 비유\n",
        "    > 딥러닝에서의 GAN의 특징과 구조를 실생활에 있는 개념들을 바탕으로 비유를 들어서 설명해줘\n",
        "    * https://sharegpt.com/c/OHCYDsh\n",
        "* 다양한 방식의 코딩"
      ],
      "metadata": {
        "id": "8n9tbTQsH8i0"
      }
    },
    {
      "cell_type": "markdown",
      "source": [
        "## Challenge\n",
        "* 빈 칸 채우기\n",
        "* 연습문제\n",
        "* 에러 코드 (TDD)\n",
        "---\n",
        "> PyTorch 예제 코드를 통해 다양한 GAN 신경망 예제 연습 코드를 3가지만 제공해줘\n",
        "* https://sharegpt.com/c/XVeCkNZ\n",
        "\n",
        "> GAN 신경망의 최신 트렌드와 포트폴리오에 활용한만한 최신 신경망을 2개만 추천해줘\n",
        "* https://shareg.pt/s7rC4Yj"
      ],
      "metadata": {
        "id": "G7QzQnl6ILSY"
      }
    },
    {
      "cell_type": "markdown",
      "source": [
        "## Creativity\n",
        "---\n",
        "\n",
        "* 간단한 복습용 데이터 프로젝트\n",
        "* 본인 직무와 관련된 심화 프로젝트 & 팀 프로젝트\n",
        "* 결과물들을 어떻게 문서화 & 시각화\n",
        "\n",
        "> GAN을 통해서, 유튜브 제목을 넣으면 적절한 유튜브 썸네일을 만드는 프로젝트를 하고 싶어. 해당 프로젝트를 위한 프로토타입의 PyTorch 예제코드를 제공해줘\n",
        "* https://sharegpt.com/c/afR1QJw"
      ],
      "metadata": {
        "id": "OWhcQbnJJV5W"
      }
    }
  ]
}