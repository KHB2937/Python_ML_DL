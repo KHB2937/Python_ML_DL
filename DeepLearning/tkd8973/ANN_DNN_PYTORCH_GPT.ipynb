{
  "nbformat": 4,
  "nbformat_minor": 0,
  "metadata": {
    "colab": {
      "provenance": [],
      "authorship_tag": "ABX9TyM1zBs0WQd2oH3ilobneetU",
      "include_colab_link": true
    },
    "kernelspec": {
      "name": "python3",
      "display_name": "Python 3"
    },
    "language_info": {
      "name": "python"
    }
  },
  "cells": [
    {
      "cell_type": "markdown",
      "metadata": {
        "id": "view-in-github",
        "colab_type": "text"
      },
      "source": [
        "<a href=\"https://colab.research.google.com/github/tkd8973/DeepLearning_SW/blob/main/tkd8973/ANN_DNN_PYTORCH_GPT.ipynb\" target=\"_parent\"><img src=\"https://colab.research.google.com/assets/colab-badge.svg\" alt=\"Open In Colab\"/></a>"
      ]
    },
    {
      "cell_type": "markdown",
      "source": [
        "# Tensor \n",
        "## ChatGPT\n",
        "1. 딥러닝의 개념과 Pytorch에 대해 설명해줘\n",
        "2. Pytorch 의 Tensor의 개념을 설명해줘\n",
        "3. Tensor의 스칼라 값을 추출하는 법을 알려줘\n",
        "4. Tensor의 shape나 size를 알 수 있는 법을 알려줘\n",
        "5. Tensor의 사이즈를 바꾸는 법을 알려줘 \n",
        "6. Tensor의 차원을 늘리거나 줄이는 법을 알려줘\n",
        "7. Tensor와 Numpy(BroadCasting)의 합, 곱 연산의 차이점을 알려줘\n",
        "8. Tensor의 곱연산과 Numpy의 곱연산의 예시 코드를 알려줘\n",
        "9. Tensor의 곱연산을 진행 할 때, 주의 할 점을 알려줘\n",
        "10. Tensor의 autograd와, 머신러닝의 오차와 거리를 바탕으로 경사하강법을 설명해줘\n",
        "11. 경사하강법 에서의 손실함수에 대해 설명해줘\n",
        "12. 경사하강법 에서의 학습률을 설명해주고 과적합과의 관계도 설명해줘\n",
        "13. Pytorch로 경사하강법의 예시 코드를 하나 주고, 순서를 설명해줘"
      ],
      "metadata": {
        "id": "9uHGpAU5AFJ5"
      }
    },
    {
      "cell_type": "markdown",
      "source": [
        "## ANN\n",
        "1. 퍼셉트론과 입력, 은닉, 출력층 개념을 바탕으로 ANN을 설명해줘\n",
        "1. MLP를 뫁해 XOR문제를 해결하는 파이토치 모델 코드를 작성해줘\n",
        "1. XOR 문제는 왜 단일퍼셉트론으로는 못해?\n",
        "1. MLP의 활성화 함수들에 대해 알려줘\n",
        "1. MLP 과정에서 과적합을 피할 수 있는 방법들을 알려줘\n",
        "1. 다중분류 문제의 손실 함수에 대해 알려줘"
      ],
      "metadata": {
        "id": "w_GiPX0rMNLf"
      }
    },
    {
      "cell_type": "markdown",
      "source": [
        "## DNN\n",
        "1. DNN에 대한 개념을 심층 심경망을 바탕으로 설명해줘\n",
        "1. 활성화 함수(activation function)가 뭐지?\n",
        "1. 심층 신경망에서 Relu를 자주 사용하는 이유\n",
        "1. DNN에서의 기울기 소실 문제가 뭐야?\n",
        "1. DNN을 사용해서 Fashion MNIST 이미지 분류 모델을 예시 코드로 작성해줘"
      ],
      "metadata": {
        "id": "ZQcOh298OyI2"
      }
    }
  ]
}