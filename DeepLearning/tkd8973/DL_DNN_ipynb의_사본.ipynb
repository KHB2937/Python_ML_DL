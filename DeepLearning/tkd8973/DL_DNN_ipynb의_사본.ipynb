{
  "nbformat": 4,
  "nbformat_minor": 0,
  "metadata": {
    "colab": {
      "provenance": [],
      "machine_shape": "hm",
      "include_colab_link": true
    },
    "kernelspec": {
      "name": "python3",
      "display_name": "Python 3"
    },
    "language_info": {
      "name": "python"
    },
    "accelerator": "GPU",
    "gpuClass": "standard",
    "widgets": {
      "application/vnd.jupyter.widget-state+json": {
        "21ec0b4d2d414b1c948f580484d1f738": {
          "model_module": "@jupyter-widgets/controls",
          "model_name": "HBoxModel",
          "model_module_version": "1.5.0",
          "state": {
            "_dom_classes": [],
            "_model_module": "@jupyter-widgets/controls",
            "_model_module_version": "1.5.0",
            "_model_name": "HBoxModel",
            "_view_count": null,
            "_view_module": "@jupyter-widgets/controls",
            "_view_module_version": "1.5.0",
            "_view_name": "HBoxView",
            "box_style": "",
            "children": [
              "IPY_MODEL_900d939c5e5a4b4698b4e8663057c1cf",
              "IPY_MODEL_28d8e591bf9948fb83bce2349b647650",
              "IPY_MODEL_28d3b144d09b4ea591ca46fb1b0c1006"
            ],
            "layout": "IPY_MODEL_c4d53f4d00f04a5eb38c52e91e963a64"
          }
        },
        "900d939c5e5a4b4698b4e8663057c1cf": {
          "model_module": "@jupyter-widgets/controls",
          "model_name": "HTMLModel",
          "model_module_version": "1.5.0",
          "state": {
            "_dom_classes": [],
            "_model_module": "@jupyter-widgets/controls",
            "_model_module_version": "1.5.0",
            "_model_name": "HTMLModel",
            "_view_count": null,
            "_view_module": "@jupyter-widgets/controls",
            "_view_module_version": "1.5.0",
            "_view_name": "HTMLView",
            "description": "",
            "description_tooltip": null,
            "layout": "IPY_MODEL_92bbde8f664d4db4b6504c9d315e65a9",
            "placeholder": "​",
            "style": "IPY_MODEL_e7264ce605f04962ae40e06e3f601625",
            "value": "100%"
          }
        },
        "28d8e591bf9948fb83bce2349b647650": {
          "model_module": "@jupyter-widgets/controls",
          "model_name": "FloatProgressModel",
          "model_module_version": "1.5.0",
          "state": {
            "_dom_classes": [],
            "_model_module": "@jupyter-widgets/controls",
            "_model_module_version": "1.5.0",
            "_model_name": "FloatProgressModel",
            "_view_count": null,
            "_view_module": "@jupyter-widgets/controls",
            "_view_module_version": "1.5.0",
            "_view_name": "ProgressView",
            "bar_style": "success",
            "description": "",
            "description_tooltip": null,
            "layout": "IPY_MODEL_43db66dc825542d39577df19c2ce0a9e",
            "max": 26421880,
            "min": 0,
            "orientation": "horizontal",
            "style": "IPY_MODEL_cb8abfcc0c8042fe9ba12edd1b3d37a6",
            "value": 26421880
          }
        },
        "28d3b144d09b4ea591ca46fb1b0c1006": {
          "model_module": "@jupyter-widgets/controls",
          "model_name": "HTMLModel",
          "model_module_version": "1.5.0",
          "state": {
            "_dom_classes": [],
            "_model_module": "@jupyter-widgets/controls",
            "_model_module_version": "1.5.0",
            "_model_name": "HTMLModel",
            "_view_count": null,
            "_view_module": "@jupyter-widgets/controls",
            "_view_module_version": "1.5.0",
            "_view_name": "HTMLView",
            "description": "",
            "description_tooltip": null,
            "layout": "IPY_MODEL_c912d9cabdf34be1b38ee09edb4d89f5",
            "placeholder": "​",
            "style": "IPY_MODEL_79040859992c4e3c890a34f077f020df",
            "value": " 26421880/26421880 [00:01&lt;00:00, 23684481.48it/s]"
          }
        },
        "c4d53f4d00f04a5eb38c52e91e963a64": {
          "model_module": "@jupyter-widgets/base",
          "model_name": "LayoutModel",
          "model_module_version": "1.2.0",
          "state": {
            "_model_module": "@jupyter-widgets/base",
            "_model_module_version": "1.2.0",
            "_model_name": "LayoutModel",
            "_view_count": null,
            "_view_module": "@jupyter-widgets/base",
            "_view_module_version": "1.2.0",
            "_view_name": "LayoutView",
            "align_content": null,
            "align_items": null,
            "align_self": null,
            "border": null,
            "bottom": null,
            "display": null,
            "flex": null,
            "flex_flow": null,
            "grid_area": null,
            "grid_auto_columns": null,
            "grid_auto_flow": null,
            "grid_auto_rows": null,
            "grid_column": null,
            "grid_gap": null,
            "grid_row": null,
            "grid_template_areas": null,
            "grid_template_columns": null,
            "grid_template_rows": null,
            "height": null,
            "justify_content": null,
            "justify_items": null,
            "left": null,
            "margin": null,
            "max_height": null,
            "max_width": null,
            "min_height": null,
            "min_width": null,
            "object_fit": null,
            "object_position": null,
            "order": null,
            "overflow": null,
            "overflow_x": null,
            "overflow_y": null,
            "padding": null,
            "right": null,
            "top": null,
            "visibility": null,
            "width": null
          }
        },
        "92bbde8f664d4db4b6504c9d315e65a9": {
          "model_module": "@jupyter-widgets/base",
          "model_name": "LayoutModel",
          "model_module_version": "1.2.0",
          "state": {
            "_model_module": "@jupyter-widgets/base",
            "_model_module_version": "1.2.0",
            "_model_name": "LayoutModel",
            "_view_count": null,
            "_view_module": "@jupyter-widgets/base",
            "_view_module_version": "1.2.0",
            "_view_name": "LayoutView",
            "align_content": null,
            "align_items": null,
            "align_self": null,
            "border": null,
            "bottom": null,
            "display": null,
            "flex": null,
            "flex_flow": null,
            "grid_area": null,
            "grid_auto_columns": null,
            "grid_auto_flow": null,
            "grid_auto_rows": null,
            "grid_column": null,
            "grid_gap": null,
            "grid_row": null,
            "grid_template_areas": null,
            "grid_template_columns": null,
            "grid_template_rows": null,
            "height": null,
            "justify_content": null,
            "justify_items": null,
            "left": null,
            "margin": null,
            "max_height": null,
            "max_width": null,
            "min_height": null,
            "min_width": null,
            "object_fit": null,
            "object_position": null,
            "order": null,
            "overflow": null,
            "overflow_x": null,
            "overflow_y": null,
            "padding": null,
            "right": null,
            "top": null,
            "visibility": null,
            "width": null
          }
        },
        "e7264ce605f04962ae40e06e3f601625": {
          "model_module": "@jupyter-widgets/controls",
          "model_name": "DescriptionStyleModel",
          "model_module_version": "1.5.0",
          "state": {
            "_model_module": "@jupyter-widgets/controls",
            "_model_module_version": "1.5.0",
            "_model_name": "DescriptionStyleModel",
            "_view_count": null,
            "_view_module": "@jupyter-widgets/base",
            "_view_module_version": "1.2.0",
            "_view_name": "StyleView",
            "description_width": ""
          }
        },
        "43db66dc825542d39577df19c2ce0a9e": {
          "model_module": "@jupyter-widgets/base",
          "model_name": "LayoutModel",
          "model_module_version": "1.2.0",
          "state": {
            "_model_module": "@jupyter-widgets/base",
            "_model_module_version": "1.2.0",
            "_model_name": "LayoutModel",
            "_view_count": null,
            "_view_module": "@jupyter-widgets/base",
            "_view_module_version": "1.2.0",
            "_view_name": "LayoutView",
            "align_content": null,
            "align_items": null,
            "align_self": null,
            "border": null,
            "bottom": null,
            "display": null,
            "flex": null,
            "flex_flow": null,
            "grid_area": null,
            "grid_auto_columns": null,
            "grid_auto_flow": null,
            "grid_auto_rows": null,
            "grid_column": null,
            "grid_gap": null,
            "grid_row": null,
            "grid_template_areas": null,
            "grid_template_columns": null,
            "grid_template_rows": null,
            "height": null,
            "justify_content": null,
            "justify_items": null,
            "left": null,
            "margin": null,
            "max_height": null,
            "max_width": null,
            "min_height": null,
            "min_width": null,
            "object_fit": null,
            "object_position": null,
            "order": null,
            "overflow": null,
            "overflow_x": null,
            "overflow_y": null,
            "padding": null,
            "right": null,
            "top": null,
            "visibility": null,
            "width": null
          }
        },
        "cb8abfcc0c8042fe9ba12edd1b3d37a6": {
          "model_module": "@jupyter-widgets/controls",
          "model_name": "ProgressStyleModel",
          "model_module_version": "1.5.0",
          "state": {
            "_model_module": "@jupyter-widgets/controls",
            "_model_module_version": "1.5.0",
            "_model_name": "ProgressStyleModel",
            "_view_count": null,
            "_view_module": "@jupyter-widgets/base",
            "_view_module_version": "1.2.0",
            "_view_name": "StyleView",
            "bar_color": null,
            "description_width": ""
          }
        },
        "c912d9cabdf34be1b38ee09edb4d89f5": {
          "model_module": "@jupyter-widgets/base",
          "model_name": "LayoutModel",
          "model_module_version": "1.2.0",
          "state": {
            "_model_module": "@jupyter-widgets/base",
            "_model_module_version": "1.2.0",
            "_model_name": "LayoutModel",
            "_view_count": null,
            "_view_module": "@jupyter-widgets/base",
            "_view_module_version": "1.2.0",
            "_view_name": "LayoutView",
            "align_content": null,
            "align_items": null,
            "align_self": null,
            "border": null,
            "bottom": null,
            "display": null,
            "flex": null,
            "flex_flow": null,
            "grid_area": null,
            "grid_auto_columns": null,
            "grid_auto_flow": null,
            "grid_auto_rows": null,
            "grid_column": null,
            "grid_gap": null,
            "grid_row": null,
            "grid_template_areas": null,
            "grid_template_columns": null,
            "grid_template_rows": null,
            "height": null,
            "justify_content": null,
            "justify_items": null,
            "left": null,
            "margin": null,
            "max_height": null,
            "max_width": null,
            "min_height": null,
            "min_width": null,
            "object_fit": null,
            "object_position": null,
            "order": null,
            "overflow": null,
            "overflow_x": null,
            "overflow_y": null,
            "padding": null,
            "right": null,
            "top": null,
            "visibility": null,
            "width": null
          }
        },
        "79040859992c4e3c890a34f077f020df": {
          "model_module": "@jupyter-widgets/controls",
          "model_name": "DescriptionStyleModel",
          "model_module_version": "1.5.0",
          "state": {
            "_model_module": "@jupyter-widgets/controls",
            "_model_module_version": "1.5.0",
            "_model_name": "DescriptionStyleModel",
            "_view_count": null,
            "_view_module": "@jupyter-widgets/base",
            "_view_module_version": "1.2.0",
            "_view_name": "StyleView",
            "description_width": ""
          }
        },
        "e3134c1979664d9fad24724d9d904044": {
          "model_module": "@jupyter-widgets/controls",
          "model_name": "HBoxModel",
          "model_module_version": "1.5.0",
          "state": {
            "_dom_classes": [],
            "_model_module": "@jupyter-widgets/controls",
            "_model_module_version": "1.5.0",
            "_model_name": "HBoxModel",
            "_view_count": null,
            "_view_module": "@jupyter-widgets/controls",
            "_view_module_version": "1.5.0",
            "_view_name": "HBoxView",
            "box_style": "",
            "children": [
              "IPY_MODEL_de81dab164c94ee28891d78e6ea8387c",
              "IPY_MODEL_8ce481e7c4fd48c89edcdf09bad15136",
              "IPY_MODEL_12870a8ebd6f43bf9ae277872f61d821"
            ],
            "layout": "IPY_MODEL_4cb6775fa0144e9baa5f26da34796342"
          }
        },
        "de81dab164c94ee28891d78e6ea8387c": {
          "model_module": "@jupyter-widgets/controls",
          "model_name": "HTMLModel",
          "model_module_version": "1.5.0",
          "state": {
            "_dom_classes": [],
            "_model_module": "@jupyter-widgets/controls",
            "_model_module_version": "1.5.0",
            "_model_name": "HTMLModel",
            "_view_count": null,
            "_view_module": "@jupyter-widgets/controls",
            "_view_module_version": "1.5.0",
            "_view_name": "HTMLView",
            "description": "",
            "description_tooltip": null,
            "layout": "IPY_MODEL_9d8f2214be464aa58f6e73ef8bc9e230",
            "placeholder": "​",
            "style": "IPY_MODEL_fd6973f41d6243bdaf6dc76290c713b7",
            "value": "100%"
          }
        },
        "8ce481e7c4fd48c89edcdf09bad15136": {
          "model_module": "@jupyter-widgets/controls",
          "model_name": "FloatProgressModel",
          "model_module_version": "1.5.0",
          "state": {
            "_dom_classes": [],
            "_model_module": "@jupyter-widgets/controls",
            "_model_module_version": "1.5.0",
            "_model_name": "FloatProgressModel",
            "_view_count": null,
            "_view_module": "@jupyter-widgets/controls",
            "_view_module_version": "1.5.0",
            "_view_name": "ProgressView",
            "bar_style": "success",
            "description": "",
            "description_tooltip": null,
            "layout": "IPY_MODEL_75ebce9239f84c748f7fed3b4039ed2a",
            "max": 29515,
            "min": 0,
            "orientation": "horizontal",
            "style": "IPY_MODEL_3f2d5573a4994d78b8afb4bc3d3115a6",
            "value": 29515
          }
        },
        "12870a8ebd6f43bf9ae277872f61d821": {
          "model_module": "@jupyter-widgets/controls",
          "model_name": "HTMLModel",
          "model_module_version": "1.5.0",
          "state": {
            "_dom_classes": [],
            "_model_module": "@jupyter-widgets/controls",
            "_model_module_version": "1.5.0",
            "_model_name": "HTMLModel",
            "_view_count": null,
            "_view_module": "@jupyter-widgets/controls",
            "_view_module_version": "1.5.0",
            "_view_name": "HTMLView",
            "description": "",
            "description_tooltip": null,
            "layout": "IPY_MODEL_0f98ab6a33954b0fa22ed2ddba81ce1b",
            "placeholder": "​",
            "style": "IPY_MODEL_4e27d14e5a2446b4931f802ee30734c8",
            "value": " 29515/29515 [00:00&lt;00:00, 252215.91it/s]"
          }
        },
        "4cb6775fa0144e9baa5f26da34796342": {
          "model_module": "@jupyter-widgets/base",
          "model_name": "LayoutModel",
          "model_module_version": "1.2.0",
          "state": {
            "_model_module": "@jupyter-widgets/base",
            "_model_module_version": "1.2.0",
            "_model_name": "LayoutModel",
            "_view_count": null,
            "_view_module": "@jupyter-widgets/base",
            "_view_module_version": "1.2.0",
            "_view_name": "LayoutView",
            "align_content": null,
            "align_items": null,
            "align_self": null,
            "border": null,
            "bottom": null,
            "display": null,
            "flex": null,
            "flex_flow": null,
            "grid_area": null,
            "grid_auto_columns": null,
            "grid_auto_flow": null,
            "grid_auto_rows": null,
            "grid_column": null,
            "grid_gap": null,
            "grid_row": null,
            "grid_template_areas": null,
            "grid_template_columns": null,
            "grid_template_rows": null,
            "height": null,
            "justify_content": null,
            "justify_items": null,
            "left": null,
            "margin": null,
            "max_height": null,
            "max_width": null,
            "min_height": null,
            "min_width": null,
            "object_fit": null,
            "object_position": null,
            "order": null,
            "overflow": null,
            "overflow_x": null,
            "overflow_y": null,
            "padding": null,
            "right": null,
            "top": null,
            "visibility": null,
            "width": null
          }
        },
        "9d8f2214be464aa58f6e73ef8bc9e230": {
          "model_module": "@jupyter-widgets/base",
          "model_name": "LayoutModel",
          "model_module_version": "1.2.0",
          "state": {
            "_model_module": "@jupyter-widgets/base",
            "_model_module_version": "1.2.0",
            "_model_name": "LayoutModel",
            "_view_count": null,
            "_view_module": "@jupyter-widgets/base",
            "_view_module_version": "1.2.0",
            "_view_name": "LayoutView",
            "align_content": null,
            "align_items": null,
            "align_self": null,
            "border": null,
            "bottom": null,
            "display": null,
            "flex": null,
            "flex_flow": null,
            "grid_area": null,
            "grid_auto_columns": null,
            "grid_auto_flow": null,
            "grid_auto_rows": null,
            "grid_column": null,
            "grid_gap": null,
            "grid_row": null,
            "grid_template_areas": null,
            "grid_template_columns": null,
            "grid_template_rows": null,
            "height": null,
            "justify_content": null,
            "justify_items": null,
            "left": null,
            "margin": null,
            "max_height": null,
            "max_width": null,
            "min_height": null,
            "min_width": null,
            "object_fit": null,
            "object_position": null,
            "order": null,
            "overflow": null,
            "overflow_x": null,
            "overflow_y": null,
            "padding": null,
            "right": null,
            "top": null,
            "visibility": null,
            "width": null
          }
        },
        "fd6973f41d6243bdaf6dc76290c713b7": {
          "model_module": "@jupyter-widgets/controls",
          "model_name": "DescriptionStyleModel",
          "model_module_version": "1.5.0",
          "state": {
            "_model_module": "@jupyter-widgets/controls",
            "_model_module_version": "1.5.0",
            "_model_name": "DescriptionStyleModel",
            "_view_count": null,
            "_view_module": "@jupyter-widgets/base",
            "_view_module_version": "1.2.0",
            "_view_name": "StyleView",
            "description_width": ""
          }
        },
        "75ebce9239f84c748f7fed3b4039ed2a": {
          "model_module": "@jupyter-widgets/base",
          "model_name": "LayoutModel",
          "model_module_version": "1.2.0",
          "state": {
            "_model_module": "@jupyter-widgets/base",
            "_model_module_version": "1.2.0",
            "_model_name": "LayoutModel",
            "_view_count": null,
            "_view_module": "@jupyter-widgets/base",
            "_view_module_version": "1.2.0",
            "_view_name": "LayoutView",
            "align_content": null,
            "align_items": null,
            "align_self": null,
            "border": null,
            "bottom": null,
            "display": null,
            "flex": null,
            "flex_flow": null,
            "grid_area": null,
            "grid_auto_columns": null,
            "grid_auto_flow": null,
            "grid_auto_rows": null,
            "grid_column": null,
            "grid_gap": null,
            "grid_row": null,
            "grid_template_areas": null,
            "grid_template_columns": null,
            "grid_template_rows": null,
            "height": null,
            "justify_content": null,
            "justify_items": null,
            "left": null,
            "margin": null,
            "max_height": null,
            "max_width": null,
            "min_height": null,
            "min_width": null,
            "object_fit": null,
            "object_position": null,
            "order": null,
            "overflow": null,
            "overflow_x": null,
            "overflow_y": null,
            "padding": null,
            "right": null,
            "top": null,
            "visibility": null,
            "width": null
          }
        },
        "3f2d5573a4994d78b8afb4bc3d3115a6": {
          "model_module": "@jupyter-widgets/controls",
          "model_name": "ProgressStyleModel",
          "model_module_version": "1.5.0",
          "state": {
            "_model_module": "@jupyter-widgets/controls",
            "_model_module_version": "1.5.0",
            "_model_name": "ProgressStyleModel",
            "_view_count": null,
            "_view_module": "@jupyter-widgets/base",
            "_view_module_version": "1.2.0",
            "_view_name": "StyleView",
            "bar_color": null,
            "description_width": ""
          }
        },
        "0f98ab6a33954b0fa22ed2ddba81ce1b": {
          "model_module": "@jupyter-widgets/base",
          "model_name": "LayoutModel",
          "model_module_version": "1.2.0",
          "state": {
            "_model_module": "@jupyter-widgets/base",
            "_model_module_version": "1.2.0",
            "_model_name": "LayoutModel",
            "_view_count": null,
            "_view_module": "@jupyter-widgets/base",
            "_view_module_version": "1.2.0",
            "_view_name": "LayoutView",
            "align_content": null,
            "align_items": null,
            "align_self": null,
            "border": null,
            "bottom": null,
            "display": null,
            "flex": null,
            "flex_flow": null,
            "grid_area": null,
            "grid_auto_columns": null,
            "grid_auto_flow": null,
            "grid_auto_rows": null,
            "grid_column": null,
            "grid_gap": null,
            "grid_row": null,
            "grid_template_areas": null,
            "grid_template_columns": null,
            "grid_template_rows": null,
            "height": null,
            "justify_content": null,
            "justify_items": null,
            "left": null,
            "margin": null,
            "max_height": null,
            "max_width": null,
            "min_height": null,
            "min_width": null,
            "object_fit": null,
            "object_position": null,
            "order": null,
            "overflow": null,
            "overflow_x": null,
            "overflow_y": null,
            "padding": null,
            "right": null,
            "top": null,
            "visibility": null,
            "width": null
          }
        },
        "4e27d14e5a2446b4931f802ee30734c8": {
          "model_module": "@jupyter-widgets/controls",
          "model_name": "DescriptionStyleModel",
          "model_module_version": "1.5.0",
          "state": {
            "_model_module": "@jupyter-widgets/controls",
            "_model_module_version": "1.5.0",
            "_model_name": "DescriptionStyleModel",
            "_view_count": null,
            "_view_module": "@jupyter-widgets/base",
            "_view_module_version": "1.2.0",
            "_view_name": "StyleView",
            "description_width": ""
          }
        },
        "52ef878df3034affaaff7c6eb7fda5d6": {
          "model_module": "@jupyter-widgets/controls",
          "model_name": "HBoxModel",
          "model_module_version": "1.5.0",
          "state": {
            "_dom_classes": [],
            "_model_module": "@jupyter-widgets/controls",
            "_model_module_version": "1.5.0",
            "_model_name": "HBoxModel",
            "_view_count": null,
            "_view_module": "@jupyter-widgets/controls",
            "_view_module_version": "1.5.0",
            "_view_name": "HBoxView",
            "box_style": "",
            "children": [
              "IPY_MODEL_ebb4fdd1261243d8988dd0d61f5d1546",
              "IPY_MODEL_4ade0216b9b1415f96b69b1d292349b5",
              "IPY_MODEL_a4705c890510482b92d80b645960896e"
            ],
            "layout": "IPY_MODEL_15431c7e4a444335ae3bca7094cb6216"
          }
        },
        "ebb4fdd1261243d8988dd0d61f5d1546": {
          "model_module": "@jupyter-widgets/controls",
          "model_name": "HTMLModel",
          "model_module_version": "1.5.0",
          "state": {
            "_dom_classes": [],
            "_model_module": "@jupyter-widgets/controls",
            "_model_module_version": "1.5.0",
            "_model_name": "HTMLModel",
            "_view_count": null,
            "_view_module": "@jupyter-widgets/controls",
            "_view_module_version": "1.5.0",
            "_view_name": "HTMLView",
            "description": "",
            "description_tooltip": null,
            "layout": "IPY_MODEL_b4c6b062feb84d53b96fd5074d480d78",
            "placeholder": "​",
            "style": "IPY_MODEL_522bf9f9a0c1405da3ae32b1da9497b2",
            "value": "100%"
          }
        },
        "4ade0216b9b1415f96b69b1d292349b5": {
          "model_module": "@jupyter-widgets/controls",
          "model_name": "FloatProgressModel",
          "model_module_version": "1.5.0",
          "state": {
            "_dom_classes": [],
            "_model_module": "@jupyter-widgets/controls",
            "_model_module_version": "1.5.0",
            "_model_name": "FloatProgressModel",
            "_view_count": null,
            "_view_module": "@jupyter-widgets/controls",
            "_view_module_version": "1.5.0",
            "_view_name": "ProgressView",
            "bar_style": "success",
            "description": "",
            "description_tooltip": null,
            "layout": "IPY_MODEL_a266f8338f70434e8cd827a857bb2b88",
            "max": 4422102,
            "min": 0,
            "orientation": "horizontal",
            "style": "IPY_MODEL_98807d6d57c44618b72381ab041c3c9b",
            "value": 4422102
          }
        },
        "a4705c890510482b92d80b645960896e": {
          "model_module": "@jupyter-widgets/controls",
          "model_name": "HTMLModel",
          "model_module_version": "1.5.0",
          "state": {
            "_dom_classes": [],
            "_model_module": "@jupyter-widgets/controls",
            "_model_module_version": "1.5.0",
            "_model_name": "HTMLModel",
            "_view_count": null,
            "_view_module": "@jupyter-widgets/controls",
            "_view_module_version": "1.5.0",
            "_view_name": "HTMLView",
            "description": "",
            "description_tooltip": null,
            "layout": "IPY_MODEL_18c31946ecce4fcca7cd518d4a2780b9",
            "placeholder": "​",
            "style": "IPY_MODEL_cc631dd3318b46208a9e19368d610a1b",
            "value": " 4422102/4422102 [00:00&lt;00:00, 7551129.41it/s]"
          }
        },
        "15431c7e4a444335ae3bca7094cb6216": {
          "model_module": "@jupyter-widgets/base",
          "model_name": "LayoutModel",
          "model_module_version": "1.2.0",
          "state": {
            "_model_module": "@jupyter-widgets/base",
            "_model_module_version": "1.2.0",
            "_model_name": "LayoutModel",
            "_view_count": null,
            "_view_module": "@jupyter-widgets/base",
            "_view_module_version": "1.2.0",
            "_view_name": "LayoutView",
            "align_content": null,
            "align_items": null,
            "align_self": null,
            "border": null,
            "bottom": null,
            "display": null,
            "flex": null,
            "flex_flow": null,
            "grid_area": null,
            "grid_auto_columns": null,
            "grid_auto_flow": null,
            "grid_auto_rows": null,
            "grid_column": null,
            "grid_gap": null,
            "grid_row": null,
            "grid_template_areas": null,
            "grid_template_columns": null,
            "grid_template_rows": null,
            "height": null,
            "justify_content": null,
            "justify_items": null,
            "left": null,
            "margin": null,
            "max_height": null,
            "max_width": null,
            "min_height": null,
            "min_width": null,
            "object_fit": null,
            "object_position": null,
            "order": null,
            "overflow": null,
            "overflow_x": null,
            "overflow_y": null,
            "padding": null,
            "right": null,
            "top": null,
            "visibility": null,
            "width": null
          }
        },
        "b4c6b062feb84d53b96fd5074d480d78": {
          "model_module": "@jupyter-widgets/base",
          "model_name": "LayoutModel",
          "model_module_version": "1.2.0",
          "state": {
            "_model_module": "@jupyter-widgets/base",
            "_model_module_version": "1.2.0",
            "_model_name": "LayoutModel",
            "_view_count": null,
            "_view_module": "@jupyter-widgets/base",
            "_view_module_version": "1.2.0",
            "_view_name": "LayoutView",
            "align_content": null,
            "align_items": null,
            "align_self": null,
            "border": null,
            "bottom": null,
            "display": null,
            "flex": null,
            "flex_flow": null,
            "grid_area": null,
            "grid_auto_columns": null,
            "grid_auto_flow": null,
            "grid_auto_rows": null,
            "grid_column": null,
            "grid_gap": null,
            "grid_row": null,
            "grid_template_areas": null,
            "grid_template_columns": null,
            "grid_template_rows": null,
            "height": null,
            "justify_content": null,
            "justify_items": null,
            "left": null,
            "margin": null,
            "max_height": null,
            "max_width": null,
            "min_height": null,
            "min_width": null,
            "object_fit": null,
            "object_position": null,
            "order": null,
            "overflow": null,
            "overflow_x": null,
            "overflow_y": null,
            "padding": null,
            "right": null,
            "top": null,
            "visibility": null,
            "width": null
          }
        },
        "522bf9f9a0c1405da3ae32b1da9497b2": {
          "model_module": "@jupyter-widgets/controls",
          "model_name": "DescriptionStyleModel",
          "model_module_version": "1.5.0",
          "state": {
            "_model_module": "@jupyter-widgets/controls",
            "_model_module_version": "1.5.0",
            "_model_name": "DescriptionStyleModel",
            "_view_count": null,
            "_view_module": "@jupyter-widgets/base",
            "_view_module_version": "1.2.0",
            "_view_name": "StyleView",
            "description_width": ""
          }
        },
        "a266f8338f70434e8cd827a857bb2b88": {
          "model_module": "@jupyter-widgets/base",
          "model_name": "LayoutModel",
          "model_module_version": "1.2.0",
          "state": {
            "_model_module": "@jupyter-widgets/base",
            "_model_module_version": "1.2.0",
            "_model_name": "LayoutModel",
            "_view_count": null,
            "_view_module": "@jupyter-widgets/base",
            "_view_module_version": "1.2.0",
            "_view_name": "LayoutView",
            "align_content": null,
            "align_items": null,
            "align_self": null,
            "border": null,
            "bottom": null,
            "display": null,
            "flex": null,
            "flex_flow": null,
            "grid_area": null,
            "grid_auto_columns": null,
            "grid_auto_flow": null,
            "grid_auto_rows": null,
            "grid_column": null,
            "grid_gap": null,
            "grid_row": null,
            "grid_template_areas": null,
            "grid_template_columns": null,
            "grid_template_rows": null,
            "height": null,
            "justify_content": null,
            "justify_items": null,
            "left": null,
            "margin": null,
            "max_height": null,
            "max_width": null,
            "min_height": null,
            "min_width": null,
            "object_fit": null,
            "object_position": null,
            "order": null,
            "overflow": null,
            "overflow_x": null,
            "overflow_y": null,
            "padding": null,
            "right": null,
            "top": null,
            "visibility": null,
            "width": null
          }
        },
        "98807d6d57c44618b72381ab041c3c9b": {
          "model_module": "@jupyter-widgets/controls",
          "model_name": "ProgressStyleModel",
          "model_module_version": "1.5.0",
          "state": {
            "_model_module": "@jupyter-widgets/controls",
            "_model_module_version": "1.5.0",
            "_model_name": "ProgressStyleModel",
            "_view_count": null,
            "_view_module": "@jupyter-widgets/base",
            "_view_module_version": "1.2.0",
            "_view_name": "StyleView",
            "bar_color": null,
            "description_width": ""
          }
        },
        "18c31946ecce4fcca7cd518d4a2780b9": {
          "model_module": "@jupyter-widgets/base",
          "model_name": "LayoutModel",
          "model_module_version": "1.2.0",
          "state": {
            "_model_module": "@jupyter-widgets/base",
            "_model_module_version": "1.2.0",
            "_model_name": "LayoutModel",
            "_view_count": null,
            "_view_module": "@jupyter-widgets/base",
            "_view_module_version": "1.2.0",
            "_view_name": "LayoutView",
            "align_content": null,
            "align_items": null,
            "align_self": null,
            "border": null,
            "bottom": null,
            "display": null,
            "flex": null,
            "flex_flow": null,
            "grid_area": null,
            "grid_auto_columns": null,
            "grid_auto_flow": null,
            "grid_auto_rows": null,
            "grid_column": null,
            "grid_gap": null,
            "grid_row": null,
            "grid_template_areas": null,
            "grid_template_columns": null,
            "grid_template_rows": null,
            "height": null,
            "justify_content": null,
            "justify_items": null,
            "left": null,
            "margin": null,
            "max_height": null,
            "max_width": null,
            "min_height": null,
            "min_width": null,
            "object_fit": null,
            "object_position": null,
            "order": null,
            "overflow": null,
            "overflow_x": null,
            "overflow_y": null,
            "padding": null,
            "right": null,
            "top": null,
            "visibility": null,
            "width": null
          }
        },
        "cc631dd3318b46208a9e19368d610a1b": {
          "model_module": "@jupyter-widgets/controls",
          "model_name": "DescriptionStyleModel",
          "model_module_version": "1.5.0",
          "state": {
            "_model_module": "@jupyter-widgets/controls",
            "_model_module_version": "1.5.0",
            "_model_name": "DescriptionStyleModel",
            "_view_count": null,
            "_view_module": "@jupyter-widgets/base",
            "_view_module_version": "1.2.0",
            "_view_name": "StyleView",
            "description_width": ""
          }
        },
        "9670d27689954aadbbb684dca7cd170f": {
          "model_module": "@jupyter-widgets/controls",
          "model_name": "HBoxModel",
          "model_module_version": "1.5.0",
          "state": {
            "_dom_classes": [],
            "_model_module": "@jupyter-widgets/controls",
            "_model_module_version": "1.5.0",
            "_model_name": "HBoxModel",
            "_view_count": null,
            "_view_module": "@jupyter-widgets/controls",
            "_view_module_version": "1.5.0",
            "_view_name": "HBoxView",
            "box_style": "",
            "children": [
              "IPY_MODEL_17cadb7f337a467f9fdb2130ac9a4ab5",
              "IPY_MODEL_3a7724ee28874eaa845378b246535e6b",
              "IPY_MODEL_4cee2173d7fe4bb5a8de80cc0a99aa63"
            ],
            "layout": "IPY_MODEL_e9e98767b9f04b40b92e92a1683e9f51"
          }
        },
        "17cadb7f337a467f9fdb2130ac9a4ab5": {
          "model_module": "@jupyter-widgets/controls",
          "model_name": "HTMLModel",
          "model_module_version": "1.5.0",
          "state": {
            "_dom_classes": [],
            "_model_module": "@jupyter-widgets/controls",
            "_model_module_version": "1.5.0",
            "_model_name": "HTMLModel",
            "_view_count": null,
            "_view_module": "@jupyter-widgets/controls",
            "_view_module_version": "1.5.0",
            "_view_name": "HTMLView",
            "description": "",
            "description_tooltip": null,
            "layout": "IPY_MODEL_4cd0dc4a98184b5298012283781ddcdd",
            "placeholder": "​",
            "style": "IPY_MODEL_94e87293534346b3a921ec81a014fc57",
            "value": "100%"
          }
        },
        "3a7724ee28874eaa845378b246535e6b": {
          "model_module": "@jupyter-widgets/controls",
          "model_name": "FloatProgressModel",
          "model_module_version": "1.5.0",
          "state": {
            "_dom_classes": [],
            "_model_module": "@jupyter-widgets/controls",
            "_model_module_version": "1.5.0",
            "_model_name": "FloatProgressModel",
            "_view_count": null,
            "_view_module": "@jupyter-widgets/controls",
            "_view_module_version": "1.5.0",
            "_view_name": "ProgressView",
            "bar_style": "success",
            "description": "",
            "description_tooltip": null,
            "layout": "IPY_MODEL_174e67fd8811419bb468c544e3072b6b",
            "max": 5148,
            "min": 0,
            "orientation": "horizontal",
            "style": "IPY_MODEL_bc106b4182214ed88a42415f16ac01a8",
            "value": 5148
          }
        },
        "4cee2173d7fe4bb5a8de80cc0a99aa63": {
          "model_module": "@jupyter-widgets/controls",
          "model_name": "HTMLModel",
          "model_module_version": "1.5.0",
          "state": {
            "_dom_classes": [],
            "_model_module": "@jupyter-widgets/controls",
            "_model_module_version": "1.5.0",
            "_model_name": "HTMLModel",
            "_view_count": null,
            "_view_module": "@jupyter-widgets/controls",
            "_view_module_version": "1.5.0",
            "_view_name": "HTMLView",
            "description": "",
            "description_tooltip": null,
            "layout": "IPY_MODEL_312fe807a72b4882be3c00d07bc211a4",
            "placeholder": "​",
            "style": "IPY_MODEL_4cdf9a90ac364c97a471f1aad26a6f55",
            "value": " 5148/5148 [00:00&lt;00:00, 81834.18it/s]"
          }
        },
        "e9e98767b9f04b40b92e92a1683e9f51": {
          "model_module": "@jupyter-widgets/base",
          "model_name": "LayoutModel",
          "model_module_version": "1.2.0",
          "state": {
            "_model_module": "@jupyter-widgets/base",
            "_model_module_version": "1.2.0",
            "_model_name": "LayoutModel",
            "_view_count": null,
            "_view_module": "@jupyter-widgets/base",
            "_view_module_version": "1.2.0",
            "_view_name": "LayoutView",
            "align_content": null,
            "align_items": null,
            "align_self": null,
            "border": null,
            "bottom": null,
            "display": null,
            "flex": null,
            "flex_flow": null,
            "grid_area": null,
            "grid_auto_columns": null,
            "grid_auto_flow": null,
            "grid_auto_rows": null,
            "grid_column": null,
            "grid_gap": null,
            "grid_row": null,
            "grid_template_areas": null,
            "grid_template_columns": null,
            "grid_template_rows": null,
            "height": null,
            "justify_content": null,
            "justify_items": null,
            "left": null,
            "margin": null,
            "max_height": null,
            "max_width": null,
            "min_height": null,
            "min_width": null,
            "object_fit": null,
            "object_position": null,
            "order": null,
            "overflow": null,
            "overflow_x": null,
            "overflow_y": null,
            "padding": null,
            "right": null,
            "top": null,
            "visibility": null,
            "width": null
          }
        },
        "4cd0dc4a98184b5298012283781ddcdd": {
          "model_module": "@jupyter-widgets/base",
          "model_name": "LayoutModel",
          "model_module_version": "1.2.0",
          "state": {
            "_model_module": "@jupyter-widgets/base",
            "_model_module_version": "1.2.0",
            "_model_name": "LayoutModel",
            "_view_count": null,
            "_view_module": "@jupyter-widgets/base",
            "_view_module_version": "1.2.0",
            "_view_name": "LayoutView",
            "align_content": null,
            "align_items": null,
            "align_self": null,
            "border": null,
            "bottom": null,
            "display": null,
            "flex": null,
            "flex_flow": null,
            "grid_area": null,
            "grid_auto_columns": null,
            "grid_auto_flow": null,
            "grid_auto_rows": null,
            "grid_column": null,
            "grid_gap": null,
            "grid_row": null,
            "grid_template_areas": null,
            "grid_template_columns": null,
            "grid_template_rows": null,
            "height": null,
            "justify_content": null,
            "justify_items": null,
            "left": null,
            "margin": null,
            "max_height": null,
            "max_width": null,
            "min_height": null,
            "min_width": null,
            "object_fit": null,
            "object_position": null,
            "order": null,
            "overflow": null,
            "overflow_x": null,
            "overflow_y": null,
            "padding": null,
            "right": null,
            "top": null,
            "visibility": null,
            "width": null
          }
        },
        "94e87293534346b3a921ec81a014fc57": {
          "model_module": "@jupyter-widgets/controls",
          "model_name": "DescriptionStyleModel",
          "model_module_version": "1.5.0",
          "state": {
            "_model_module": "@jupyter-widgets/controls",
            "_model_module_version": "1.5.0",
            "_model_name": "DescriptionStyleModel",
            "_view_count": null,
            "_view_module": "@jupyter-widgets/base",
            "_view_module_version": "1.2.0",
            "_view_name": "StyleView",
            "description_width": ""
          }
        },
        "174e67fd8811419bb468c544e3072b6b": {
          "model_module": "@jupyter-widgets/base",
          "model_name": "LayoutModel",
          "model_module_version": "1.2.0",
          "state": {
            "_model_module": "@jupyter-widgets/base",
            "_model_module_version": "1.2.0",
            "_model_name": "LayoutModel",
            "_view_count": null,
            "_view_module": "@jupyter-widgets/base",
            "_view_module_version": "1.2.0",
            "_view_name": "LayoutView",
            "align_content": null,
            "align_items": null,
            "align_self": null,
            "border": null,
            "bottom": null,
            "display": null,
            "flex": null,
            "flex_flow": null,
            "grid_area": null,
            "grid_auto_columns": null,
            "grid_auto_flow": null,
            "grid_auto_rows": null,
            "grid_column": null,
            "grid_gap": null,
            "grid_row": null,
            "grid_template_areas": null,
            "grid_template_columns": null,
            "grid_template_rows": null,
            "height": null,
            "justify_content": null,
            "justify_items": null,
            "left": null,
            "margin": null,
            "max_height": null,
            "max_width": null,
            "min_height": null,
            "min_width": null,
            "object_fit": null,
            "object_position": null,
            "order": null,
            "overflow": null,
            "overflow_x": null,
            "overflow_y": null,
            "padding": null,
            "right": null,
            "top": null,
            "visibility": null,
            "width": null
          }
        },
        "bc106b4182214ed88a42415f16ac01a8": {
          "model_module": "@jupyter-widgets/controls",
          "model_name": "ProgressStyleModel",
          "model_module_version": "1.5.0",
          "state": {
            "_model_module": "@jupyter-widgets/controls",
            "_model_module_version": "1.5.0",
            "_model_name": "ProgressStyleModel",
            "_view_count": null,
            "_view_module": "@jupyter-widgets/base",
            "_view_module_version": "1.2.0",
            "_view_name": "StyleView",
            "bar_color": null,
            "description_width": ""
          }
        },
        "312fe807a72b4882be3c00d07bc211a4": {
          "model_module": "@jupyter-widgets/base",
          "model_name": "LayoutModel",
          "model_module_version": "1.2.0",
          "state": {
            "_model_module": "@jupyter-widgets/base",
            "_model_module_version": "1.2.0",
            "_model_name": "LayoutModel",
            "_view_count": null,
            "_view_module": "@jupyter-widgets/base",
            "_view_module_version": "1.2.0",
            "_view_name": "LayoutView",
            "align_content": null,
            "align_items": null,
            "align_self": null,
            "border": null,
            "bottom": null,
            "display": null,
            "flex": null,
            "flex_flow": null,
            "grid_area": null,
            "grid_auto_columns": null,
            "grid_auto_flow": null,
            "grid_auto_rows": null,
            "grid_column": null,
            "grid_gap": null,
            "grid_row": null,
            "grid_template_areas": null,
            "grid_template_columns": null,
            "grid_template_rows": null,
            "height": null,
            "justify_content": null,
            "justify_items": null,
            "left": null,
            "margin": null,
            "max_height": null,
            "max_width": null,
            "min_height": null,
            "min_width": null,
            "object_fit": null,
            "object_position": null,
            "order": null,
            "overflow": null,
            "overflow_x": null,
            "overflow_y": null,
            "padding": null,
            "right": null,
            "top": null,
            "visibility": null,
            "width": null
          }
        },
        "4cdf9a90ac364c97a471f1aad26a6f55": {
          "model_module": "@jupyter-widgets/controls",
          "model_name": "DescriptionStyleModel",
          "model_module_version": "1.5.0",
          "state": {
            "_model_module": "@jupyter-widgets/controls",
            "_model_module_version": "1.5.0",
            "_model_name": "DescriptionStyleModel",
            "_view_count": null,
            "_view_module": "@jupyter-widgets/base",
            "_view_module_version": "1.2.0",
            "_view_name": "StyleView",
            "description_width": ""
          }
        }
      }
    }
  },
  "cells": [
    {
      "cell_type": "markdown",
      "metadata": {
        "id": "view-in-github",
        "colab_type": "text"
      },
      "source": [
        "<a href=\"https://colab.research.google.com/github/tkd8973/DeepLearning_SW/blob/main/tkd8973/DL_DNN_ipynb%EC%9D%98_%EC%82%AC%EB%B3%B8.ipynb\" target=\"_parent\"><img src=\"https://colab.research.google.com/assets/colab-badge.svg\" alt=\"Open In Colab\"/></a>"
      ]
    },
    {
      "cell_type": "markdown",
      "source": [
        "# Fashion MNIST\n",
        "* 28 x 28 px, 70,000개의 흑백 이미지로 구성\n",
        "* 신발, 드레스, 가방 등 총 10가지 카테고리가 존재\n",
        "![MNIST](https://codetorial.net/tensorflow/_images/fashion_MNIST_sample.png)"
      ],
      "metadata": {
        "id": "KppNb-pUtnZc"
      }
    },
    {
      "cell_type": "markdown",
      "source": [
        "* torch.utils.data\n",
        "    * 데이터셋의 표준을 정의하고 데이터셋을 불러오고 자르고 섞는 데 쓰는 도구들이 들어있는 모듈\n",
        "    * 파이토치 모델을 학습시키기 위한 데이터셋의 표준을 torch.utils.data.Dataset에 정의\n",
        "    * Dataset 모듈을 상속하는 파생 클래스는 학습에 필요한 데이터를 로딩해주는 torch.utils.data.DataLoader 인스턴스의 입력으로 사용할 수 있음\n",
        "* torchvision.datasets\n",
        "    * torch.utils.data.Dataset을 상속하는 이미지 데이터셋의 모음. 패션 아이템 데이터셋이 바로 여기에 들어있음\n",
        "* torchvision.transforms\n",
        "    * 이미지 데이터셋에 쓸 수 있는 여러 가지 변환 필터를 담고 있는 모듈.\n",
        "    * 예를 들어 텐서로 변환한다든지, 크기 조절(resize)과 크롭(crop)으로 이미지를 수정할 수도 있고, 밝기(brightness), 대비(contrast) 등을 조절하는 데 사용될 수도 있음\n",
        "* torchvision.utils\n",
        "    * 이미지 데이터를 저장하고 시각화하기 위한 도구가 들어있는 모듈"
      ],
      "metadata": {
        "id": "xWs544KmubOq"
      }
    },
    {
      "cell_type": "code",
      "execution_count": 1,
      "metadata": {
        "id": "3kqe4peAtTr5"
      },
      "outputs": [],
      "source": [
        "from torchvision import datasets, transforms, utils\n",
        "from torch.utils import data"
      ]
    },
    {
      "cell_type": "code",
      "source": [
        "import numpy as np\n",
        "import matplotlib.pyplot as plt"
      ],
      "metadata": {
        "id": "7GpC73miwKyn"
      },
      "execution_count": 2,
      "outputs": []
    },
    {
      "cell_type": "code",
      "source": [
        "# 이미지를 텐서로 변환\n",
        "# 토치비전의 transforms : 입력받은 이미지를 변환시키는 도구\n",
        "# 기능을 추가하고 싶다 -> transforms.Compose() 함수 안의 리스트로 넣어주면 순서대로 변환\n",
        "transform = transforms.Compose([transforms.ToTensor()])\n"
      ],
      "metadata": {
        "id": "EjO2Pzc2wWoi"
      },
      "execution_count": 3,
      "outputs": []
    },
    {
      "cell_type": "markdown",
      "source": [
        "## Transforms에서 자주 쓰이는 기능\n",
        "* ToTensor : 이미지를 파이토치 텐서로 변환\n",
        "* Resize : 이미지 크기 조정\n",
        "* Normalize : 주어진 평균과 표준편차를 이용하여 정규화\n",
        "* RandomHorizontalFlip : 무작위로 이미지의 오른쪽과 왼쪽을 뒤집는 기능\n",
        "* RandomCrop : 이미지를 무작위로 자르는 기능"
      ],
      "metadata": {
        "id": "58FnQhaB3Ydw"
      }
    },
    {
      "cell_type": "code",
      "source": [
        "# Fashion MNIST 데이터셋 불러오기\n",
        "# 토치비전의 datesets 패키지 : 데이터셋을 내려받고, Compose로 만든 이미지 변환 설정을 적용하는데 사용\n",
        "# 데이터셋을 번거롭게 다운로드 받을 필요 없고, 'download = True'. -> 현재 root 폴더. 데이터 존재 여부 판단 -> 다운로드 받아줌\n",
        "# 훈련셋/시험셋 -> train = T/F\n",
        "trainset = datasets.FashionMNIST(\n",
        "    root = './.data/',\n",
        "    train = True,\n",
        "    download = True,\n",
        "    transform = transform # ToTensor를 통해 이미지를 파이토치 Tensor화\n",
        ")\n",
        "testset = datasets.FashionMNIST(\n",
        "    root = './.data/',\n",
        "    train = False, # 시험셋\n",
        "    download = True,\n",
        "    transform = transform # ToTensor를 통해 이미지를 파이토치 Tensor화\n",
        ")"
      ],
      "metadata": {
        "colab": {
          "base_uri": "https://localhost:8080/",
          "height": 459,
          "referenced_widgets": [
            "21ec0b4d2d414b1c948f580484d1f738",
            "900d939c5e5a4b4698b4e8663057c1cf",
            "28d8e591bf9948fb83bce2349b647650",
            "28d3b144d09b4ea591ca46fb1b0c1006",
            "c4d53f4d00f04a5eb38c52e91e963a64",
            "92bbde8f664d4db4b6504c9d315e65a9",
            "e7264ce605f04962ae40e06e3f601625",
            "43db66dc825542d39577df19c2ce0a9e",
            "cb8abfcc0c8042fe9ba12edd1b3d37a6",
            "c912d9cabdf34be1b38ee09edb4d89f5",
            "79040859992c4e3c890a34f077f020df",
            "e3134c1979664d9fad24724d9d904044",
            "de81dab164c94ee28891d78e6ea8387c",
            "8ce481e7c4fd48c89edcdf09bad15136",
            "12870a8ebd6f43bf9ae277872f61d821",
            "4cb6775fa0144e9baa5f26da34796342",
            "9d8f2214be464aa58f6e73ef8bc9e230",
            "fd6973f41d6243bdaf6dc76290c713b7",
            "75ebce9239f84c748f7fed3b4039ed2a",
            "3f2d5573a4994d78b8afb4bc3d3115a6",
            "0f98ab6a33954b0fa22ed2ddba81ce1b",
            "4e27d14e5a2446b4931f802ee30734c8",
            "52ef878df3034affaaff7c6eb7fda5d6",
            "ebb4fdd1261243d8988dd0d61f5d1546",
            "4ade0216b9b1415f96b69b1d292349b5",
            "a4705c890510482b92d80b645960896e",
            "15431c7e4a444335ae3bca7094cb6216",
            "b4c6b062feb84d53b96fd5074d480d78",
            "522bf9f9a0c1405da3ae32b1da9497b2",
            "a266f8338f70434e8cd827a857bb2b88",
            "98807d6d57c44618b72381ab041c3c9b",
            "18c31946ecce4fcca7cd518d4a2780b9",
            "cc631dd3318b46208a9e19368d610a1b",
            "9670d27689954aadbbb684dca7cd170f",
            "17cadb7f337a467f9fdb2130ac9a4ab5",
            "3a7724ee28874eaa845378b246535e6b",
            "4cee2173d7fe4bb5a8de80cc0a99aa63",
            "e9e98767b9f04b40b92e92a1683e9f51",
            "4cd0dc4a98184b5298012283781ddcdd",
            "94e87293534346b3a921ec81a014fc57",
            "174e67fd8811419bb468c544e3072b6b",
            "bc106b4182214ed88a42415f16ac01a8",
            "312fe807a72b4882be3c00d07bc211a4",
            "4cdf9a90ac364c97a471f1aad26a6f55"
          ]
        },
        "id": "IuUSL2A0xbZR",
        "outputId": "f90596e4-8df2-45c1-fca5-39320088b180"
      },
      "execution_count": 4,
      "outputs": [
        {
          "output_type": "stream",
          "name": "stdout",
          "text": [
            "Downloading http://fashion-mnist.s3-website.eu-central-1.amazonaws.com/train-images-idx3-ubyte.gz\n",
            "Downloading http://fashion-mnist.s3-website.eu-central-1.amazonaws.com/train-images-idx3-ubyte.gz to ./.data/FashionMNIST/raw/train-images-idx3-ubyte.gz\n"
          ]
        },
        {
          "output_type": "display_data",
          "data": {
            "text/plain": [
              "  0%|          | 0/26421880 [00:00<?, ?it/s]"
            ],
            "application/vnd.jupyter.widget-view+json": {
              "version_major": 2,
              "version_minor": 0,
              "model_id": "21ec0b4d2d414b1c948f580484d1f738"
            }
          },
          "metadata": {}
        },
        {
          "output_type": "stream",
          "name": "stdout",
          "text": [
            "Extracting ./.data/FashionMNIST/raw/train-images-idx3-ubyte.gz to ./.data/FashionMNIST/raw\n",
            "\n",
            "Downloading http://fashion-mnist.s3-website.eu-central-1.amazonaws.com/train-labels-idx1-ubyte.gz\n",
            "Downloading http://fashion-mnist.s3-website.eu-central-1.amazonaws.com/train-labels-idx1-ubyte.gz to ./.data/FashionMNIST/raw/train-labels-idx1-ubyte.gz\n"
          ]
        },
        {
          "output_type": "display_data",
          "data": {
            "text/plain": [
              "  0%|          | 0/29515 [00:00<?, ?it/s]"
            ],
            "application/vnd.jupyter.widget-view+json": {
              "version_major": 2,
              "version_minor": 0,
              "model_id": "e3134c1979664d9fad24724d9d904044"
            }
          },
          "metadata": {}
        },
        {
          "output_type": "stream",
          "name": "stdout",
          "text": [
            "Extracting ./.data/FashionMNIST/raw/train-labels-idx1-ubyte.gz to ./.data/FashionMNIST/raw\n",
            "\n",
            "Downloading http://fashion-mnist.s3-website.eu-central-1.amazonaws.com/t10k-images-idx3-ubyte.gz\n",
            "Downloading http://fashion-mnist.s3-website.eu-central-1.amazonaws.com/t10k-images-idx3-ubyte.gz to ./.data/FashionMNIST/raw/t10k-images-idx3-ubyte.gz\n"
          ]
        },
        {
          "output_type": "display_data",
          "data": {
            "text/plain": [
              "  0%|          | 0/4422102 [00:00<?, ?it/s]"
            ],
            "application/vnd.jupyter.widget-view+json": {
              "version_major": 2,
              "version_minor": 0,
              "model_id": "52ef878df3034affaaff7c6eb7fda5d6"
            }
          },
          "metadata": {}
        },
        {
          "output_type": "stream",
          "name": "stdout",
          "text": [
            "Extracting ./.data/FashionMNIST/raw/t10k-images-idx3-ubyte.gz to ./.data/FashionMNIST/raw\n",
            "\n",
            "Downloading http://fashion-mnist.s3-website.eu-central-1.amazonaws.com/t10k-labels-idx1-ubyte.gz\n",
            "Downloading http://fashion-mnist.s3-website.eu-central-1.amazonaws.com/t10k-labels-idx1-ubyte.gz to ./.data/FashionMNIST/raw/t10k-labels-idx1-ubyte.gz\n"
          ]
        },
        {
          "output_type": "display_data",
          "data": {
            "text/plain": [
              "  0%|          | 0/5148 [00:00<?, ?it/s]"
            ],
            "application/vnd.jupyter.widget-view+json": {
              "version_major": 2,
              "version_minor": 0,
              "model_id": "9670d27689954aadbbb684dca7cd170f"
            }
          },
          "metadata": {}
        },
        {
          "output_type": "stream",
          "name": "stdout",
          "text": [
            "Extracting ./.data/FashionMNIST/raw/t10k-labels-idx1-ubyte.gz to ./.data/FashionMNIST/raw\n",
            "\n"
          ]
        }
      ]
    },
    {
      "cell_type": "code",
      "source": [
        "# torchvision.datasets로 생성된 객체 -> 파이토치 내부 클래스 torch.utils.data.Dataset을 상속\n",
        "# 파이토치 DataLoader (Dataset 클래스를 넣어줌) -> 모델의 데이터를 로딩 -> 바로 사용해줄 수 있음\n",
        "# DataLoader는 데이터셋을 배치batch라는 작은 단위로 쪼개고, 학습 시 반복문 안에서 데이터를 공급해주는 클래스\n",
        "\n",
        "# 배치 크기(batch size)를 지정\n",
        "# -> 한 번에 처리하는 데이터 개수 (처리 -> 딥러닝 : 학습)\n",
        "# 배치 크기가 16이다 -> 반복할 때마다 (한 번 로딩할 때) 16개씩 읽어줌\n",
        "batch_size = 16\n",
        "# 컴퓨터 메모리 공간에 여유가 있다면 더 크게 해도 되고, 여유가 없다면 적게 해야함 (2의 배수)"
      ],
      "metadata": {
        "id": "aPsodT-N5Jnn"
      },
      "execution_count": 5,
      "outputs": []
    },
    {
      "cell_type": "code",
      "source": [
        "# 메모리 확인 명령어\n",
        "!free"
      ],
      "metadata": {
        "colab": {
          "base_uri": "https://localhost:8080/"
        },
        "id": "xAN2OKSc58fh",
        "outputId": "9c667398-0cb7-49b0-d3fb-2bd16a7d3c1b"
      },
      "execution_count": 6,
      "outputs": [
        {
          "output_type": "stream",
          "name": "stdout",
          "text": [
            "              total        used        free      shared  buff/cache   available\n",
            "Mem:       13297200     1048264     8457776        1384     3791160    11955600\n",
            "Swap:             0           0           0\n"
          ]
        }
      ]
    },
    {
      "cell_type": "code",
      "source": [
        "# 데이터로더(DataLoader)의 매개변수에 앞서 불러온 데이터셋을 넣어주고 배치 크기를 지정\n",
        "# 한 번에 16개씩의 배치를 로딩해주는 데이터로더 학습셋/시험셋\n",
        "train_loader = data.DataLoader(\n",
        "    dataset= trainset,\n",
        "    batch_size=batch_size\n",
        ")\n",
        "test_loader = data.DataLoader(\n",
        "    dataset = testset,\n",
        "    batch_size=batch_size\n",
        ")"
      ],
      "metadata": {
        "id": "b4scChpA6Tsi"
      },
      "execution_count": 7,
      "outputs": []
    },
    {
      "cell_type": "code",
      "source": [
        "# iter() 함수 : 반복되는 객체를 반복문 안에 이용할 수 있도록 만들어주는 함수\n",
        "# next() 함수 : 배치 1개를 (아직 반복되지 않은 하나의 원소를) 불러와주는 함수\n",
        "# 배치 1개의 images와 labels을 불러오는 구조 -> images, labels -> 앞서 설정한 배치 크기만큼 각각 이미지 16개와 레이블 16개가 들어있음\n",
        "dataiter = iter(train_loader)\n",
        "images,labels = next(dataiter)\n"
      ],
      "metadata": {
        "id": "hqZpm66L6tJe"
      },
      "execution_count": 8,
      "outputs": []
    },
    {
      "cell_type": "code",
      "source": [
        "# utils.make_grid() 함수 -> 여러 이미지를 모아서 하나의 이미지\n",
        "# img -> matplotlib 호환 -> numpy 배열로 변환\n",
        "img = utils.make_grid(images)\n",
        "npimg =img.numpy()\n",
        "# 텐서 -> 넘파이 배열\n",
        "print(npimg.shape) # 색상(0), 세로(1), 가로(2) -> (맷플롯립) 세로(1), 가로(2), 색상(0)\n",
        "plt.figure(figsize=(10, 7))\n",
        "# npimg - 이미지 넘파이 배열\n",
        "# np.transpose -> 차원의 순서를 교체\n",
        "plt.imshow(np.transpose(npimg, (1, 2, 0)))\n",
        "plt.show()"
      ],
      "metadata": {
        "colab": {
          "base_uri": "https://localhost:8080/",
          "height": 281
        },
        "id": "Xf7t05-c7V8W",
        "outputId": "da124e30-f769-4036-8731-d7fabdf11a69"
      },
      "execution_count": 9,
      "outputs": [
        {
          "output_type": "stream",
          "name": "stdout",
          "text": [
            "(3, 62, 242)\n"
          ]
        },
        {
          "output_type": "display_data",
          "data": {
            "text/plain": [
              "<Figure size 1000x700 with 1 Axes>"
            ],
            "image/png": "[encoded data removed]"
          },
          "metadata": {}
        }
      ]
    },
    {
      "cell_type": "code",
      "source": [
        "print(labels) # 한 배치에서 각각의 패션아이템 종류 "
      ],
      "metadata": {
        "colab": {
          "base_uri": "https://localhost:8080/"
        },
        "id": "C5OLMzLt80Kd",
        "outputId": "e3c8a9d9-209b-4735-b23a-5902c012c330"
      },
      "execution_count": 10,
      "outputs": [
        {
          "output_type": "stream",
          "name": "stdout",
          "text": [
            "tensor([9, 0, 0, 3, 0, 2, 7, 2, 5, 5, 0, 9, 5, 5, 7, 9])\n"
          ]
        }
      ]
    },
    {
      "cell_type": "code",
      "source": [
        "# 이미지들의 클래스들은 '티셔츠/윗옷, 바지', 스웨터', '드레스', '코트', '샌들. 셔츠, '운동화', '가방, '앵글부츠, 이렇게 10가지\n",
        "# 데이터셋에서는 이름 대신에 숫자 번호로 레이블이 주어짐 -> 딕셔너리화\n",
        "CLASSES = {\n",
        "    0: 'T-shirt/top',\n",
        "    1: 'Trouser',\n",
        "    2: 'Pullover',\n",
        "    3: 'Dress',\n",
        "    4: 'Coat',\n",
        "    5: 'Sandal',\n",
        "    6: 'Shirt',\n",
        "    7: 'Sneaker',\n",
        "    8: 'Bag',\n",
        "    9: 'Ankle boot'\n",
        "}\n",
        "\n",
        "for label in labels:\n",
        "    index = label.item()\n",
        "    print(CLASSES[index])"
      ],
      "metadata": {
        "colab": {
          "base_uri": "https://localhost:8080/"
        },
        "id": "miFdoj6s86tV",
        "outputId": "c19c6073-669b-4ddb-b820-16a224e936eb"
      },
      "execution_count": 11,
      "outputs": [
        {
          "output_type": "stream",
          "name": "stdout",
          "text": [
            "Ankle boot\n",
            "T-shirt/top\n",
            "T-shirt/top\n",
            "Dress\n",
            "T-shirt/top\n",
            "Pullover\n",
            "Sneaker\n",
            "Pullover\n",
            "Sandal\n",
            "Sandal\n",
            "T-shirt/top\n",
            "Ankle boot\n",
            "Sandal\n",
            "Sandal\n",
            "Sneaker\n",
            "Ankle boot\n"
          ]
        }
      ]
    },
    {
      "cell_type": "markdown",
      "source": [
        "* 이미지의 데이터는 가로, 세로, 색상으로 구성된 3차원 행렬로 표현\n",
        "* 가로세로는 각각의 픽셀 수, 그리고 색상값은 흑백 사진이니 1가지 숫자로 나타낼 수 있음\n",
        "\n",
        "![MNIST 데이터](https://github.com/BigData23th/Data/raw/main/dl_02_01.jpeg)\n",
        "\n",
        "* 각 픽셀은 0부터 255까지 값을 가짐.\n",
        "* Fashion MNIST에서 이미지의 크기는 28 x 28, 색상 채널은 흑백 1가지 → 입력 x의 특징값 총개 수는 28 x 28 x 1개, 즉 784개"
      ],
      "metadata": {
        "id": "pwXbopXV9e0b"
      }
    },
    {
      "cell_type": "code",
      "source": [
        "# 개별 이미지 보기 (0~15)\n",
        "idx = 3 #@param {\"type\":\"number\"}\n",
        "\n",
        "item_img = images[idx] # 첫번째 이미지 꺼내기\n",
        "item_npimg = item_img.squeeze().numpy() # squeeze하고 numpy를 통해 넘파이 행렬로 만들기\n",
        "\n",
        "plt.title(CLASSES[labels[idx].item()]) # 종류 보기\n",
        "print(item_npimg.shape)\n",
        "plt.imshow(item_npimg, cmap='gray')\n",
        "plt.show()"
      ],
      "metadata": {
        "colab": {
          "base_uri": "https://localhost:8080/",
          "height": 470
        },
        "id": "tWF6pMl499Z6",
        "outputId": "c6f11d4e-8fbc-4551-dc14-72462a5e422a"
      },
      "execution_count": 12,
      "outputs": [
        {
          "output_type": "stream",
          "name": "stdout",
          "text": [
            "(28, 28)\n"
          ]
        },
        {
          "output_type": "display_data",
          "data": {
            "text/plain": [
              "<Figure size 640x480 with 1 Axes>"
            ],
            "image/png": "[encoded data removed]"
          },
          "metadata": {}
        }
      ]
    },
    {
      "cell_type": "markdown",
      "source": [
        "# 인공신경망으로 패션 아이템 분류\n",
        "심층 인공 신경망 `deep neural network, DNN`"
      ],
      "metadata": {
        "id": "eiV9-jz7Cyfo"
      }
    },
    {
      "cell_type": "markdown",
      "source": [
        "## 환경설정"
      ],
      "metadata": {
        "id": "NrA5gTAzEktT"
      }
    },
    {
      "cell_type": "code",
      "source": [
        "import torch\n",
        "\n",
        "# GPU 사용 환경\n",
        "torch.cuda.is_available()# 현재 컴퓨터(머신)에서 CUDA(GPU)를 사용할 수 있는지 확인\n",
        "# 런타임 > 런타임 유형 변경 > 하드웨어 가속기 > GPU"
      ],
      "metadata": {
        "colab": {
          "base_uri": "https://localhost:8080/"
        },
        "id": "AtOKEkVIDEKA",
        "outputId": "e4643009-d571-49d3-f48e-3dd8f0cc2075"
      },
      "execution_count": 13,
      "outputs": [
        {
          "output_type": "execute_result",
          "data": {
            "text/plain": [
              "True"
            ]
          },
          "metadata": {},
          "execution_count": 13
        }
      ]
    },
    {
      "cell_type": "code",
      "source": [
        "USE_CUDA = torch.cuda.is_available()\n",
        "USE_CUDA"
      ],
      "metadata": {
        "colab": {
          "base_uri": "https://localhost:8080/"
        },
        "id": "o1-ul0BADYsT",
        "outputId": "72373ba4-41a1-478d-df12-6cda4e45879e"
      },
      "execution_count": 14,
      "outputs": [
        {
          "output_type": "execute_result",
          "data": {
            "text/plain": [
              "True"
            ]
          },
          "metadata": {},
          "execution_count": 14
        }
      ]
    },
    {
      "cell_type": "code",
      "source": [
        "# USE_CUDA가 True면 cuda를 입력해서, GPU 장치를 사용하고, 아니면 CPU를 쓰겠다\n",
        "DEVICE = torch.device('cuda' if USE_CUDA else 'cpu')\n",
        "DEVICE"
      ],
      "metadata": {
        "colab": {
          "base_uri": "https://localhost:8080/"
        },
        "id": "QOHWGKjgEILa",
        "outputId": "cc34c066-982b-4d36-8a3b-09e7a6996864"
      },
      "execution_count": 15,
      "outputs": [
        {
          "output_type": "execute_result",
          "data": {
            "text/plain": [
              "device(type='cuda')"
            ]
          },
          "metadata": {},
          "execution_count": 15
        }
      ]
    },
    {
      "cell_type": "code",
      "source": [
        "# 환경에 따라서 CPU / GPU 를 알아서 설정하게 하는 코드\n",
        "USE_CUDA = torch.cuda.is_available()\n",
        "DEVICE = torch.device('cuda' if USE_CUDA else 'cpu')"
      ],
      "metadata": {
        "id": "rKwAt-4tEaoD"
      },
      "execution_count": 16,
      "outputs": []
    },
    {
      "cell_type": "code",
      "source": [
        "# 효율적 학습을 위해 (데이터셋을) 배치로 잘라서 사용\n",
        "# 각 미니 패치의 크기 (2의 배수)\n",
        "# 학습 데이터를 총 몇 번 볼 것인가\n",
        "batch_size = 64\n",
        "epochs = 30"
      ],
      "metadata": {
        "id": "VJRju8MVEoEg"
      },
      "execution_count": 17,
      "outputs": []
    },
    {
      "cell_type": "code",
      "source": [
        "import torch # 파이토치\n",
        "import torch.nn as nn # 인공 신경망 모델의 재료 -> 클래스 -> 객체 (값을 저장할 수 있음) -> 가중치가 저장되어야할 때\n",
        "import torch.optim as optim # 최적화를 위한 모듈\n",
        "import torch.nn.functional as F # nn 모듈의 함수 버전 -> 가중치 저장은 필요없고, 함수/기능만 필요\n",
        "from torchvision import transforms, datasets # 토치비전의 데이터셋 다루기 "
      ],
      "metadata": {
        "id": "WarRhp8xFvIR"
      },
      "execution_count": 18,
      "outputs": []
    },
    {
      "cell_type": "markdown",
      "source": [
        "# 데이터셋 불러오기"
      ],
      "metadata": {
        "id": "sHCBaOZ6FHAo"
      }
    },
    {
      "cell_type": "code",
      "source": [
        "# 이미지를 변환 시켜주는 transform 정의\n",
        "transform = transforms.Compose([\n",
        "    transforms.ToTensor()\n",
        "])\n",
        "trainset = datasets.FashionMNIST(\n",
        "    root = './.data/',\n",
        "    train = True,\n",
        "    download = True,\n",
        "    transform = transform # ToTensor를 통해 이미지를 파이토치 Tensor화\n",
        ")\n",
        "testset = datasets.FashionMNIST(\n",
        "    root = './.data/',\n",
        "    train = False, # 시험셋\n",
        "    download = True,\n",
        "    transform = transform # ToTensor를 통해 이미지를 파이토치 Tensor화\n",
        ")\n",
        "\n",
        "\n",
        "# 반복해서 불러올 때 배치 사이즈, 방식\n",
        "train_loader = data.DataLoader(\n",
        "    dataset= trainset,\n",
        "    batch_size=batch_size,\n",
        "    shuffle = True\n",
        ")\n",
        "test_loader = data.DataLoader(\n",
        "    dataset = testset,\n",
        "    batch_size=batch_size,\n",
        "    shuffle = True\n",
        ")"
      ],
      "metadata": {
        "id": "z41_4UMRE7Px"
      },
      "execution_count": 19,
      "outputs": []
    },
    {
      "cell_type": "markdown",
      "source": [
        "## 이미지 분류 문제\n",
        "**이미지 분류** `image classification`\n",
        "* 한 장의 이미지를 받아 이 이미지가 어느 클래스(레이블)에 속하는지 알려주는 문제\n",
        "* 상대적으로 단순한 문제지만 상업적으로 가장 영향력이 있는 문제\n",
        "* 인공 신경망을 이용한 이미지 분류 알고리즘들은 이미 여러 서비스에서 이미지 기반 검색, 추천, 광고 등에 사용\n",
        "![이미지 분류](https://github.com/BigData23th/Data/raw/main/dl_02_02.jpeg)\n",
        "* 연속된 이미지라고 할 수 있는 비디오 분류 모델들도 결국 기본적인 이미지 분류 방식에서 크게 벗어나지 않음"
      ],
      "metadata": {
        "id": "pZi-vbyUGZRK"
      }
    },
    {
      "cell_type": "markdown",
      "source": [
        "## 이미지 분류를 위한 인공 신경망 구현\n",
        "입력 x와 레이블(정답) y를 받아서 학습한 다음, 새로운 X가 왔을 때 어떤 패션 아이템인지 예측하는 모델"
      ],
      "metadata": {
        "id": "I57spdzuHy3b"
      }
    },
    {
      "cell_type": "markdown",
      "source": [
        "### 인공 신경망 구성"
      ],
      "metadata": {
        "id": "ZzhllagIH82m"
      }
    },
    {
      "cell_type": "code",
      "source": [
        "# (은닉층) 레이어가 3개인 (깊이가 3인) 인공신경망 구성\n",
        "class Net(nn.Module):\n",
        "    def __init__(self):\n",
        "        super(Net,self).__init__()\n",
        "\n",
        "    # 먼저 생성자에 모델의 가중치 변수들이 들어가는 연산(객체)들을 선언\n",
        "    # 클래스를 통해서 생성될 객체 -> self\n",
        "        \n",
        "        ## nn.Linear 클래스는 선형 결합을 수행하는 객체를 만듦\n",
        "        # input 784, output 256\n",
        "        self.fc1 = nn.Linear(784,256)\n",
        "\n",
        "        # 1 x 28 x 28 -> 784 픽셀값(한 점씩)을 입력 받아서 가중치를 행렬곱/편향. 값 256개를 출력\n",
        "        # fc는 fully connected -> 이전 레이어의 모든 노드가 다음 레이어의 모든 노드에 연결된 층 (Dense) \n",
        "        \n",
        "        # input 256, output 128\n",
        "        self.fc2 = nn.Linear(256,128)\n",
        "    \n",
        "        # input 128, output 10\n",
        "        self.fc3 = nn.Linear(128,10)\n",
        "        # 출력값 10개 각각은 클래스가 될 확률을 나타내며, 10개 중 값이 가장 큰 클래스가 이 모델의 예측값의 될 것임\n",
        "    \n",
        "    # 훈련 과정을 표현\n",
        "    # x은 입력되는 텐서\n",
        "    def forward(self,x):\n",
        "        # 데이터의 흐름을 정의\n",
        "        # n, 색상, 세로, 가로 ->  (-1, 784) # 64, 784 (배치 사이즈 만큼)\n",
        "        # 입력을 받아 view) 함수를 이용하여 랭크 1 텐서로 변환\n",
        "        # 28px x 28px인 이미지 텐서를 784 한 줄짜리 1차원 텐서\n",
        "        x = x.view(-1,784)\n",
        "        # -1 : 나머지값들. (배치 사이즈, 데이터 사이즈...)\n",
        "        # fc1()과 fc2()를 거치게 할 것, 각각 층은 ReLU 활성화 함수를 통해서 처리\n",
        "        # F.relu == nn.ReLU (거의 동일, 취향 문제) -> 가중치가 없는 연산 (저장 X)\n",
        "        x = F.relu(self.fc1(x))  # 첫번째 은닉층 연산후, relu연산\n",
        "        x = F.relu(self.fc2(x))  # 두번째 은닉층 연산후, relu연산\n",
        "        # nn.Linear -> 선형결합 (가중치) -> 거의 강제. (init(생성자)에 선언하는 것이 권장)\n",
        "        \n",
        "        x = self.fc3(x)  # 마지막으로 fc3() 함수까지 거쳐 나온 값 10개\n",
        "        return x"
      ],
      "metadata": {
        "id": "dwB8mC6dH_ao"
      },
      "execution_count": 20,
      "outputs": []
    },
    {
      "cell_type": "markdown",
      "source": [
        "* 모델 선언과 동시에 to() 함수로 연산을 어디서 수행할지 정할 수 있음\n",
        "* to() 함수는 모델의 파라미터들을 지정한 장치의 메모리로 보내는 역할을 함\n",
        "* 일반적으로 CPU만 사용한다면 필요 없지만, GPU를 사용하려면 to(\"cuda\")로 지정하여 GPU의 메모리로 보내야 함\n",
        "* 아무것도 지정하지 않으면 CPU에서 처리"
      ],
      "metadata": {
        "id": "lvw1kUjPjdj0"
      }
    },
    {
      "cell_type": "code",
      "source": [
        "model = Net().to(DEVICE)  # 기기에 맞는 (CPU, GPU) 환경을 넣어서 처리"
      ],
      "metadata": {
        "id": "y-ZCS4S_jbx6"
      },
      "execution_count": 21,
      "outputs": []
    },
    {
      "cell_type": "code",
      "source": [
        "model"
      ],
      "metadata": {
        "colab": {
          "base_uri": "https://localhost:8080/"
        },
        "id": "z66dTVr7gFwi",
        "outputId": "f874d810-7a1f-4513-ec20-c96657aa3d97"
      },
      "execution_count": 22,
      "outputs": [
        {
          "output_type": "execute_result",
          "data": {
            "text/plain": [
              "Net(\n",
              "  (fc1): Linear(in_features=784, out_features=256, bias=True)\n",
              "  (fc2): Linear(in_features=256, out_features=128, bias=True)\n",
              "  (fc3): Linear(in_features=128, out_features=10, bias=True)\n",
              ")"
            ]
          },
          "metadata": {},
          "execution_count": 22
        }
      ]
    },
    {
      "cell_type": "markdown",
      "source": [
        "### 최적화 알고리즘"
      ],
      "metadata": {
        "id": "hbnyF5hMkAEn"
      }
    },
    {
      "cell_type": "code",
      "source": [
        "# 최적화 알고리즘 : 파이토치 내장 모듈인 optim.SGD를 사용\n",
        "# SGD (확률적 경사하강법, stochastic gradient descent) : 모델 최적화를 확률적 경사하강법\n",
        "# 모델 내부의 정보를 넘겨주는 model.parameters() 함수와 직접 설정한 학습률(lr)을 입력\n",
        "optimizer = optim.SGD(model.parameters(),lr = 0.01)"
      ],
      "metadata": {
        "id": "cnt4FxoCj8gj"
      },
      "execution_count": 23,
      "outputs": []
    },
    {
      "cell_type": "markdown",
      "source": [
        "### 학습"
      ],
      "metadata": {
        "id": "Jhgcf3Fzkl48"
      }
    },
    {
      "cell_type": "code",
      "source": [
        "# 학습을 위한 연산을 train 함수로 정의\n",
        "# train : 학습할 model, 데이터를 공급해주는 train_loader, 최적화를 담당할 optimizer를 넣을 것\n",
        "def train(model : nn.Module, train_loader, optimizer):  # epoch 1번 = train 1번 = train 내부의 batch 사이즈별 학습이 따로 돎\n",
        "    # 학습 모드\n",
        "    model.train()\n",
        "    # <-> model.eval() : 평가모드\n",
        "    # 모드에 따라서 동작이 다른 파이토치 모듈\n",
        "    # 배치를 반복하여서 훈련\n",
        "    # enumerate(연속된 데이터) -> zip(인덱스, 값)\n",
        "    # data(img) : 모델에 입력할 data, target(Label) : 해당 이미지의 분류값. 클래스.\n",
        "    \n",
        "    for batch_idx, (data, target) in enumerate(train_loader):\n",
        "        # 모델에 입력될 데이터 모양(shape): [배치크기(64), 색, 높이(세로), 넓이(가로)]\n",
        "        # data.size() : [64, 1, 28, 28] <- 배치 데이터\n",
        "        # 모델의 가중치를 보낸 장치(DEVICE) -> 학습 데이터도 같은 장치로 보내야 함\n",
        "        \n",
        "        data, target = data.to(DEVICE), target.to(DEVICE)  # cuda 사용가능한 컴퓨터라면 GPU, 아니면 CPU\n",
        "\n",
        "        # 배치를 처리할 때마다 기울기를 새로 계산해줘야함 -> optimizer.zero_grad()\n",
        "        optimizer.zero_grad()\n",
        "        \n",
        "        # 학습 데이터에 대한 모델의 예측값을 output\n",
        "        output = model(data) # 순전파\n",
        "\n",
        "        # output -> 오차를 구해서 개선\n",
        "        # output & 레이블(target, 정답) 사이의 오차 구하기\n",
        "        # 한 배치(64)에 대한 오차(손실)\n",
        "        loss = F.cross_entropy(output,target)  # (결과 - 실제) error값\n",
        "        # 이진 교차 엔트로피 binary cross entropy : 클래스가 2개 (분류해야하는 대상이 2개)\n",
        "        # **교차 엔트로피 cross entropy : 클래스가 3개 이상 (이번에는 10개)\n",
        "        # F.cross_entropy -> 이것에 대한 기울기를 저장할 필요가 없어서 F 함수를 씀\n",
        "        \n",
        "        loss.backward()  # 오차 역전파로 기울기 (gradient) 계산\n",
        "        optimizer.step()  # 계산한 기울기를 바탕으로 앞서 정의한 알고리즘에 맞추어 가중치를 수정"
      ],
      "metadata": {
        "id": "5WxkMA9QkkWr"
      },
      "execution_count": 24,
      "outputs": []
    },
    {
      "cell_type": "markdown",
      "source": [
        "* 우리가 원하는 모델? : 학습 데이터에 최적화된 모델이 아닌 모든 데이터에 높은 성능을 보이는 모델\n",
        "* 일반화 `generalization` : 세상에 존재하는 모든 데이터에 최적화하는 것\n",
        "* 일반화 오류 `generalization error` : 학습 데이터를 기반으로 한 모델이 학습하지 않은 데이터에 얼마나 적응하는지를 수치로 나타낸 것\n",
        "    * 일반화 오류는 학습과 실제 성능의 괴리를 뜻하므로 작을수록 좋음\n",
        "* 학습 데이터의 일부를 떼어내어 평가용 데이터셋을 마련\n",
        "* 평가용 데이터 셋 = 테스트셋 `test set`\n",
        "    * 모델이 학습 과정에서 본 적이 없는 '실제 세상의 모든 데이터'를 대표\n",
        "\n",
        "* Fashion MNIST는 비교적 규모가 작은 데이터셋이므로 학습과 테스트 두 가지로 나뉘어 있음\n",
        "* 일반적인 머신러닝 데이터셋은 학습 `train`, 검증 `validator`, 테스트 `test` 3단계로 나뉨 \n",
        "    * 학습용 데이터셋 : 가중치를 조절\n",
        "    * 검증용 데이터셋 : 배치 크기와 모델 설계 같은 하이퍼파라미터 `hyperparameter`를 조절하는데 사용\n",
        "    * 테스트용 데이터셋 : 성능 보고에 사용\n",
        "\n",
        "* **하이퍼 파라미터** : 모델 층의 종류와 크기, 배치 크기, 학습률 등 머신러닝 모델이 배우지 않고 사용자가 직접 지정해주는 값\n",
        "    * 모델의 가중치(파라미터 parameter)를 최적화하는 데 많은 영향을 주게 됨\n",
        "    * 고로 하이퍼파라미터를 최적화하는 것도 딥러닝에서 데이터를 모으는 과정만큼이나 중요"
      ],
      "metadata": {
        "id": "ofsFCWMIvdoz"
      }
    },
    {
      "cell_type": "code",
      "source": [
        "# 평가 함수 evaluate\n",
        "# 모델의 일반화 정도 확인 + 학습을 언제 멈춰야할지 알아냄 (조기종료)\n",
        "\n",
        "def evaluate(model, test_loader): # 최적화 담당하는 optimizer 없어도 됌\n",
        "    # epoch가 끝날 때마다 테스트셋으로 모델의 성능을 측정\n",
        "    # 평가 모드\n",
        "    model.eval()\n",
        "\n",
        "    # 테스트셋의 오차\n",
        "    test_loss = 0\n",
        "    # 예측이 맞은 갯수를 담아줄 변수\n",
        "    correct = 0\n",
        "    # torch.no_grad() -> 생성 / with가 끝나면 해당 객체, 기능을 close.\n",
        "    with torch.no_grad():  # 기울기 계산 끄기\n",
        "        for data,target in test_loader:\n",
        "            # DEVICE로 데이터 보내기\n",
        "            # 테스트 데이터의 예측값\n",
        "            data,target = data.to(DEVICE), target.to(DEVICE)\n",
        "            ouput = model(data)\n",
        "\n",
        "            # 평가를 위해서 교차 엔트로피를 거칠 때 reduction을 'sum'을 지정\n",
        "            # 원래 default는 mean(평균)\n",
        "            # 모든 오차를 더해줌\n",
        "            test_loss += F.cross_entropy(ouput,target,\n",
        "                                         reduction='sum').item()\n",
        "            # item() : 스칼라 텐서 안의 숫자값을 파이썬 숫자 자료형 형태로 뽑아줌\n",
        "            # ---\n",
        "\n",
        "            # 정확도\n",
        "            # 가장 큰 값을 가진 클래스가 모델의 예측값\n",
        "            # 예측과 정답을 비교하여서 일치할 경우 -> correct에 1을 더함 \n",
        "            # print(output)\n",
        "            # https://pytorch.org/docs/stable/generated/torch.Tensor.max.html\n",
        "            pred = ouput.max(1,keepdim=True)[1]  # max(차원) : 가장큰 값을 가지는 index => class(label), \n",
        "            # print(pred)\n",
        "\n",
        "            # 모델의 예측 패션 아이템과 레이블(정답)이 일치하는지는 eq (0, 1)\n",
        "            # sum (모두 더하면 현 배치에서 모델을 맞춘 정답 개수 구함)\n",
        "            correct += pred.eq(target.view_as(pred)).sum().item()  # target을 pred의 모양으로\n",
        "            \n",
        "    # 배치별 총 오차와, 총 맞춘 개수를 합친 test_loss, correct\n",
        "\n",
        "    # test_loss : 전체 데이터셋에 대한 오차 -> 배치별로 나눠져 있는 것의 합\n",
        "    # correct : 맞힌 개수의 합\n",
        "    # 총 정답 평균 -> 100을 곱해서 정확도 (accuracy) 구하기\n",
        "    test_loss /= len(test_loader.dataset)\n",
        "    test_acc = 100. * correct / len(test_loader.dataset)\n",
        "    # 얼마나 맞췄는지\n",
        "    return test_loss, test_acc"
      ],
      "metadata": {
        "id": "vS91OmcHwSTq"
      },
      "execution_count": 25,
      "outputs": []
    },
    {
      "cell_type": "code",
      "source": [
        "# 에포크마다 학습과 테스트셋을 이용한 검증을 반복하고 결과를 출력\n",
        "for epoch in range(1, epochs + 1):\n",
        "    train(model, train_loader, optimizer)\n",
        "    test_loss, test_accuracy = evaluate(model, test_loader)\n",
        "    \n",
        "    print(f'[{epoch}] Test Loss: {test_loss:.4f}, Accuracy: {test_accuracy:.2f}%')"
      ],
      "metadata": {
        "id": "FWsUznM30aOQ",
        "colab": {
          "base_uri": "https://localhost:8080/"
        },
        "outputId": "6ec53826-4331-437b-9ec1-db8958881fcb"
      },
      "execution_count": 26,
      "outputs": [
        {
          "output_type": "stream",
          "name": "stdout",
          "text": [
            "[1] Test Loss: 0.8428, Accuracy: 70.36%\n",
            "[2] Test Loss: 0.6741, Accuracy: 75.47%\n",
            "[3] Test Loss: 0.5799, Accuracy: 79.46%\n",
            "[4] Test Loss: 0.5454, Accuracy: 80.44%\n",
            "[5] Test Loss: 0.5088, Accuracy: 82.04%\n",
            "[6] Test Loss: 0.4953, Accuracy: 82.41%\n",
            "[7] Test Loss: 0.4897, Accuracy: 82.79%\n",
            "[8] Test Loss: 0.4788, Accuracy: 82.93%\n",
            "[9] Test Loss: 0.4698, Accuracy: 83.00%\n",
            "[10] Test Loss: 0.4560, Accuracy: 83.76%\n",
            "[11] Test Loss: 0.4480, Accuracy: 83.97%\n",
            "[12] Test Loss: 0.4739, Accuracy: 82.86%\n",
            "[13] Test Loss: 0.4400, Accuracy: 84.32%\n",
            "[14] Test Loss: 0.4407, Accuracy: 84.17%\n",
            "[15] Test Loss: 0.4682, Accuracy: 83.82%\n",
            "[16] Test Loss: 0.4289, Accuracy: 84.59%\n",
            "[17] Test Loss: 0.4180, Accuracy: 85.06%\n",
            "[18] Test Loss: 0.4242, Accuracy: 84.89%\n",
            "[19] Test Loss: 0.4296, Accuracy: 84.46%\n",
            "[20] Test Loss: 0.4204, Accuracy: 85.32%\n",
            "[21] Test Loss: 0.3911, Accuracy: 86.02%\n",
            "[22] Test Loss: 0.3950, Accuracy: 85.94%\n",
            "[23] Test Loss: 0.3878, Accuracy: 86.17%\n",
            "[24] Test Loss: 0.3867, Accuracy: 86.39%\n",
            "[25] Test Loss: 0.3829, Accuracy: 86.15%\n",
            "[26] Test Loss: 0.3897, Accuracy: 86.32%\n",
            "[27] Test Loss: 0.3980, Accuracy: 85.35%\n",
            "[28] Test Loss: 0.3735, Accuracy: 86.77%\n",
            "[29] Test Loss: 0.3994, Accuracy: 85.67%\n",
            "[30] Test Loss: 0.3737, Accuracy: 86.86%\n"
          ]
        }
      ]
    },
    {
      "cell_type": "markdown",
      "source": [
        "## 과적합과 드롭아웃\n",
        "* 과적합 `overfitting`\n",
        "    * 학습 성능은 잘 나오지만, 테스트셋이나 실제 상황에서는 성능이 나오지 않을 때\n",
        "    * 너무 학습 데이터에만 치중되어 유연성이 부족해지고, 그 결과 새로운 데이터에서는 성능이 잘 나오지 않는 상황 (예 : 기출문제만 공부하고 시험 치기)\n",
        "* 과소적합 `underfitting`\n",
        "    * 과적합과는 반대로 학습을 제대로 진행하지 않은 상황\n",
        "    * 학습 데이터도 제대로 학습하지 않은 경우\n",
        "\n",
        "**바람직한 상태?** → 과소적합과 과적합의 중간\n",
        "* 학습 데이터와 학습하지 않은 실제 데이터에서 동시에 높은 성능을 내는 상태 = 일반화 `generalization`\n",
        "\n",
        "![과소적합, 일반화, 과적합](https://github.com/BigData23th/Data/raw/main/dl_02_03.jpeg)"
      ],
      "metadata": {
        "id": "93yOaHM48S0n"
      }
    },
    {
      "cell_type": "markdown",
      "source": [
        "* 분류용 모델의 결과는 일반화를 지향.\n",
        "* 데이터셋을 학습, 검증, 테스트셋으로 나누는 것도 과적합을 탐지하려는 노력의 일환\n",
        "    * 학습 데이터셋만 이용해서 학습하면 오차는 무한정 내려갈 수밖에 없음. 실제로 학습을 멈추지 않고 계속 진행해보면 학습 성능은 계속 좋아지지만, 검증/테스트 성능이 오히려 떨어지는 것을 확인할 수 있음\n",
        "    * 따라서 학습 중간중간 검증용 데이터셋으로 모델이 학습 데이터에만 과적합되지 않았는지 확인\n",
        "* 검증 데이터셋에 대한 성능이 나빠지기 시작하기 직전이 가장 적합한 모델 → 이 타이밍에 모델을 저장하여 이용하는 것을 **조기 종료**`early stopping`라고 함\n",
        "\n",
        "![조기종료](https://github.com/BigData23th/Data/raw/main/dl_02_04_.jpeg)"
      ],
      "metadata": {
        "id": "VC04E-jL8t4X"
      }
    },
    {
      "cell_type": "markdown",
      "source": [
        "* 학습을 무한히 진행하다 보면 학습 오차는 꾸준히 내려가 0으로 수렴하지만, 검증 오차는 어느 순간부터 올라가게 됨 → 너무 학습 데이터셋에 과적합되므로 검증 오차가 올라가는 것\n",
        "* 검증 오차가 올라가는 순간을 포착하여 학습을 종료하는 것이 바로 조기 종료\n",
        "* 한편, 과적합 방지를 위해 학습 데이터를 늘리는 방법과 과적합 방지 기능을 하는 드롭아웃을 모델 구조에 적용하는 방법이 있음"
      ],
      "metadata": {
        "id": "AfZoPHQ288vw"
      }
    },
    {
      "cell_type": "markdown",
      "source": [
        "### 데이터 늘리기\n",
        "* 과적합을 막기 위해 이미 가진 데이터를 최대한 늘리는 방법data augmentation 을 적용\n",
        "* 이미지 데이터라면 보통 이미지 일부분을 자르거나, 돌리고, 노이즈를 더하고, 색상을 변경하는 등 여러 방법을 사용할 수 있음\n",
        "* 예) 오른쪽과 왼쪽을 뒤집는 가로 대칭 이동 전략"
      ],
      "metadata": {
        "id": "YLl0iALE-kbo"
      }
    },
    {
      "cell_type": "code",
      "source": [
        "import torch # 파이토치\n",
        "import torch.nn as nn # 인공 신경망 모델의 재료 -> 클래스 -> 객체 (값을 저장할 수 있음) -> 가중치가 저장되어야할 때\n",
        "import torch.optim as optim # 최적화를 위한 모듈\n",
        "import torch.nn.functional as F # nn 모듈의 함수 버전 -> 가중치 저장은 필요없고, 함수/기능만 필요\n",
        "from torchvision import transforms, datasets # 토치비전의 데이터셋 다루기\n",
        "USE_CUDA = torch.cuda.is_available()\n",
        "DEVICE = torch.device(\"cuda\" if USE_CUDA else \"cpu\")\n",
        "BATCH_SIZE = 64"
      ],
      "metadata": {
        "id": "oLraaPZXbWzM"
      },
      "execution_count": 27,
      "outputs": []
    },
    {
      "cell_type": "code",
      "source": [
        "train_loader = torch.utils.data.DataLoader(\n",
        "    datasets.FashionMNIST('./.data',\n",
        "                   train=True,\n",
        "                   download=True,\n",
        "                   transform=transforms.Compose([\n",
        "                       transforms.RandomHorizontalFlip(),  # 이미지를 무작위로 수평 뒤집기 - 좌우반전 (뒤집는 것만으로 예제 수가 2배로 늚)\n",
        "                       transforms.ToTensor(),\n",
        "                       transforms.Normalize((0.1307,),(0.3081)),\n",
        "                     ])),\n",
        "    batch_size=BATCH_SIZE, shuffle=True)\n",
        "test_loader = torch.utils.data.DataLoader(\n",
        "    datasets.FashionMNIST('./.data',\n",
        "                   train=False, \n",
        "                   transform=transforms.Compose([\n",
        "                       transforms.RandomHorizontalFlip(),  # 이미지를 무작위로 수평 뒤집기 - 좌우반전 (뒤집는 것만으로 예제 수가 2배로 늚)\n",
        "                       transforms.ToTensor(),\n",
        "                       transforms.Normalize((0.1307,),(0.3081)),\n",
        "                       \n",
        "                   ])),\n",
        "    batch_size=BATCH_SIZE, shuffle=True)"
      ],
      "metadata": {
        "id": "xQC-rb4y8RxB"
      },
      "execution_count": 28,
      "outputs": []
    },
    {
      "cell_type": "markdown",
      "source": [
        "* 좌우를 뒤바꾸어 학습 데이터 늘리기\n",
        "![flip](https://github.com/BigData23th/Data/raw/main/dl_02_05.jpeg)"
      ],
      "metadata": {
        "id": "8x8PtvXy_PIa"
      }
    },
    {
      "cell_type": "markdown",
      "source": [
        "* 드롭아웃 `dropout`\n",
        "  * 학습 진행 과정에서 신경망의 일부를 사용하지 않는 방법 (모델에 직접 영향을 주어 과적합을 해결)\n",
        "  * 예) 50% 드롭아웃이면 학습 단계마다 절반의 뉴런만 사용, 검증과 테스트 단계에서는 모든 뉴런을 사용합니다\n",
        "  * 학습에서 배제된 뉴런 외에 다른 뉴런들에 가중치를 분산시키고 개별 뉴런이 특징에 고정되는 현상을 방지하는 기능 (영향력이 큰 몇몇 요소들을 의도적으로 배제)\n",
        "  \n",
        "![드롭아웃](https://github.com/BigData23th/Data/raw/main/dl_02_06.jpeg)"
      ],
      "metadata": {
        "id": "t0vjrIWv_e8p"
      }
    },
    {
      "cell_type": "code",
      "source": [
        "# 드롭 아웃 적용을 위한 신경망 구조 수정\n",
        "class Net(nn.Module):\n",
        "    def __init__(self, dropout_p = 0.2): # 직접 설정할 수 있게 생성자로 받음 (기본값 0.2)\n",
        "        super(Net,self).__init__() # == super().__init__()\n",
        "        self.fc1 = nn.Linear(28*28,256)\n",
        "        self.fc2 = nn.Linear(256,128)\n",
        "        self.fc3 = nn.Linear(128,10)    # 10 = len(class or label)\n",
        "        # 드롭아웃 비율을 결정하는 dropout_p 파라미터를 추가\n",
        "        self.dropout_p = dropout_p\n",
        "\n",
        "    def forward(self, x): # forward에 dropout 관련 설정 추가\n",
        "        x = x.view(-1,28*28)\n",
        "        x = F.relu(self.fc1(x)) # 은닉층1 을 걸친 x를 relu 연산 \n",
        "\n",
        "        # F.dropout() 함수는 가중치가 없으므로 torch.nn.functional 패키지에서 바로 가져와서 사용할 수 있음\n",
        "        # 취향에 따라 nn.Dropout 클래스를 사용해도 무방\n",
        "        # nn.Dropout은 내부적으로 F.dropout () 함수를 쓰며 self,training 등 몇 가지 내부 변수를 자동으로 적용해주는 모듈\n",
        "        # nn.Dropout과 F.dropout()은 같은 기능의 클래스를 쓰느냐 함수를 쓰느냐 의 차이\n",
        "        \n",
        "        # 모델에는 학습과 평가 모드가 있음 → F.dropout () 함수는 모델의 모드에 따라 동작이 달라짐\n",
        "        # 학습 모드에서만 드롭아웃을 하고 평가 모드에서는 모든 뉴런을 사용해야 하기 때문.\n",
        "        \n",
        "        # model.train ()과 model.eval() 함수를 호출하여 모드를 바꿀 때마다 모델 내부의 self.training 변숫값이 True나 False로 바뀜\n",
        "        # 신경망 층의 출력 x와 학습인지를 알려주는 self.training, 그리고 드롭아웃 확률인 self. dropout_p를 입력해줌\n",
        "        # 드롭아웃 추가\n",
        "        x = F.dropout(x,training=self.training, p = self.dropout_p) # 트레이닝을 정의하지 않아도 nn.Module안에 있어 사용\n",
        "        # 드롭아웃 추가\n",
        "        x = F.relu(self.fc2(x)) # 은닉층2 (256->128) 을 걸친 x를 relu 연산 \n",
        "        x = F.dropout(x,training=self.training, p = self.dropout_p) # 트레이닝을 정의하지 않아도 nn.Module안에 있어 사용\n",
        "        \n",
        "        x = self.fc3(x) # 마지막층 dropout X\n",
        "\n",
        "        return x"
      ],
      "metadata": {
        "id": "dujxbDD4_5nl"
      },
      "execution_count": 29,
      "outputs": []
    },
    {
      "cell_type": "code",
      "source": [
        "# 학습을 위한 연산을 train 함수로 정의\n",
        "# train : 학습할 model, 데이터를 공급해주는 train_loader, 최적화를 담당할 optimizer를 넣을 것\n",
        "def train(model : nn.Module, train_loader, optimizer):  # epoch 1번 = train 1번 = train 내부의 batch 사이즈별 학습이 따로 돎\n",
        "    # 학습 모드\n",
        "    model.train()\n",
        "    # <-> model.eval() : 평가모드\n",
        "    # 모드에 따라서 동작이 다른 파이토치 모듈\n",
        "    # 배치를 반복하여서 훈련\n",
        "    # enumerate(연속된 데이터) -> zip(인덱스, 값)\n",
        "    # data(img) : 모델에 입력할 data, target(Label) : 해당 이미지의 분류값. 클래스.\n",
        "    \n",
        "    for batch_idx, (data, target) in enumerate(train_loader):\n",
        "        # 모델에 입력될 데이터 모양(shape): [배치크기(64), 색, 높이(세로), 넓이(가로)]\n",
        "        # data.size() : [64, 1, 28, 28] <- 배치 데이터\n",
        "        # 모델의 가중치를 보낸 장치(DEVICE) -> 학습 데이터도 같은 장치로 보내야 함\n",
        "        \n",
        "        data, target = data.to(DEVICE), target.to(DEVICE)  # cuda 사용가능한 컴퓨터라면 GPU, 아니면 CPU\n",
        "\n",
        "        # 배치를 처리할 때마다 기울기를 새로 계산해줘야함 -> optimizer.zero_grad()\n",
        "        optimizer.zero_grad()\n",
        "        \n",
        "        # 학습 데이터에 대한 모델의 예측값을 output\n",
        "        output = model(data) # 순전파\n",
        "\n",
        "        # output -> 오차를 구해서 개선\n",
        "        # output & 레이블(target, 정답) 사이의 오차 구하기\n",
        "        # 한 배치(64)에 대한 오차(손실)\n",
        "        loss = F.cross_entropy(output,target)  # (결과 - 실제) error값\n",
        "        # 이진 교차 엔트로피 binary cross entropy : 클래스가 2개 (분류해야하는 대상이 2개)\n",
        "        # **교차 엔트로피 cross entropy : 클래스가 3개 이상 (이번에는 10개)\n",
        "        # F.cross_entropy -> 이것에 대한 기울기를 저장할 필요가 없어서 F 함수를 씀\n",
        "        \n",
        "        loss.backward()  # 오차 역전파로 기울기 (gradient) 계산\n",
        "        optimizer.step()  # 계산한 기울기를 바탕으로 앞서 정의한 알고리즘에 맞추어 가중치를 수정"
      ],
      "metadata": {
        "id": "gvfxaLu2l91j"
      },
      "execution_count": 30,
      "outputs": []
    },
    {
      "cell_type": "code",
      "source": [
        "# 평가 함수 evaluate\n",
        "# 모델의 일반화 정도 확인 + 학습을 언제 멈춰야할지 알아냄 (조기종료)\n",
        "\n",
        "def evaluate(model, test_loader): # 최적화 담당하는 optimizer 없어도 됌\n",
        "    # epoch가 끝날 때마다 테스트셋으로 모델의 성능을 측정\n",
        "    # 평가 모드\n",
        "    model.eval()\n",
        "\n",
        "    # 테스트셋의 오차\n",
        "    test_loss = 0\n",
        "    # 예측이 맞은 갯수를 담아줄 변수\n",
        "    correct = 0\n",
        "    # torch.no_grad() -> 생성 / with가 끝나면 해당 객체, 기능을 close.\n",
        "    with torch.no_grad():  # 기울기 계산 끄기\n",
        "        for data,target in test_loader:\n",
        "            # DEVICE로 데이터 보내기\n",
        "            # 테스트 데이터의 예측값\n",
        "            data,target = data.to(DEVICE), target.to(DEVICE)\n",
        "            ouput = model(data)\n",
        "\n",
        "            # 평가를 위해서 교차 엔트로피를 거칠 때 reduction을 'sum'을 지정\n",
        "            # 원래 default는 mean(평균)\n",
        "            # 모든 오차를 더해줌\n",
        "            test_loss += F.cross_entropy(ouput,target,\n",
        "                                         reduction='sum').item()\n",
        "            # item() : 스칼라 텐서 안의 숫자값을 파이썬 숫자 자료형 형태로 뽑아줌\n",
        "            # ---\n",
        "\n",
        "            # 정확도\n",
        "            # 가장 큰 값을 가진 클래스가 모델의 예측값\n",
        "            # 예측과 정답을 비교하여서 일치할 경우 -> correct에 1을 더함 \n",
        "            # print(output)\n",
        "            # https://pytorch.org/docs/stable/generated/torch.Tensor.max.html\n",
        "            pred = ouput.max(1,keepdim=True)[1]  # max(차원) : 가장큰 값을 가지는 index => class(label), \n",
        "            # print(pred)\n",
        "\n",
        "            # 모델의 예측 패션 아이템과 레이블(정답)이 일치하는지는 eq (0, 1)\n",
        "            # sum (모두 더하면 현 배치에서 모델을 맞춘 정답 개수 구함)\n",
        "            correct += pred.eq(target.view_as(pred)).sum().item()  # target을 pred의 모양으로\n",
        "            \n",
        "    # 배치별 총 오차와, 총 맞춘 개수를 합친 test_loss, correct\n",
        "\n",
        "    # test_loss : 전체 데이터셋에 대한 오차 -> 배치별로 나눠져 있는 것의 합\n",
        "    # correct : 맞힌 개수의 합\n",
        "    # 총 정답 평균 -> 100을 곱해서 정확도 (accuracy) 구하기\n",
        "    test_loss /= len(test_loader.dataset)\n",
        "    test_acc = 100. * correct / len(test_loader.dataset)\n",
        "    # 얼마나 맞췄는지\n",
        "    return test_loss, test_acc"
      ],
      "metadata": {
        "id": "AGuh0cHYmBN7"
      },
      "execution_count": 31,
      "outputs": []
    },
    {
      "cell_type": "code",
      "source": [
        "# 드롭아웃 확률을 추가하여 모델 객체 생성 (모델을 인스턴스화)\n",
        "model = Net(dropout_p=0.1).to(DEVICE)\n",
        "optimizer = optim.Adam(model.parameters(),lr=0.001)  # 최적화 함수"
      ],
      "metadata": {
        "id": "WUhh62dzAl69"
      },
      "execution_count": 34,
      "outputs": []
    },
    {
      "cell_type": "code",
      "source": [
        "# 데이터셋에 노이즈를 추가(변형)하거나 모델에 드롭아웃을 적용할 때,\n",
        "# 최고 성능에 도달하는 데까지 걸리는 시간은 길어짐 ← 데이터셋이 늘고, 모델이 느리게 학습되기 때문\n",
        "# 에포크를 늘려서 학습 → 정확도가 눈에 띄게 높이 시작해서 꾸준히 오랫동안 증가\n",
        "EPOCHS = 50\n",
        "for epoch in range(1, EPOCHS + 1):\n",
        "    train(model, train_loader, optimizer)\n",
        "    test_loss, test_accuracy = evaluate(model, test_loader)\n",
        "    \n",
        "    print(f'[{epoch}] Test Loss: {test_loss:.4f}, Accuracy: {test_accuracy:.2f}%')"
      ],
      "metadata": {
        "id": "nRLMVTBuAudo",
        "outputId": "f0447cd5-d441-470b-a2e8-8c2a00a90100",
        "colab": {
          "base_uri": "https://localhost:8080/",
          "height": 969
        }
      },
      "execution_count": 35,
      "outputs": [
        {
          "output_type": "stream",
          "name": "stdout",
          "text": [
            "[1] Test Loss: 0.4135, Accuracy: 84.84%\n",
            "[2] Test Loss: 0.3913, Accuracy: 85.46%\n",
            "[3] Test Loss: 0.3799, Accuracy: 86.09%\n",
            "[4] Test Loss: 0.3580, Accuracy: 87.03%\n",
            "[5] Test Loss: 0.3740, Accuracy: 86.42%\n",
            "[6] Test Loss: 0.3535, Accuracy: 87.60%\n",
            "[7] Test Loss: 0.3440, Accuracy: 87.67%\n",
            "[8] Test Loss: 0.3560, Accuracy: 87.03%\n",
            "[9] Test Loss: 0.3395, Accuracy: 87.99%\n",
            "[10] Test Loss: 0.3257, Accuracy: 88.49%\n",
            "[11] Test Loss: 0.3427, Accuracy: 87.89%\n",
            "[12] Test Loss: 0.3297, Accuracy: 88.01%\n",
            "[13] Test Loss: 0.3330, Accuracy: 88.36%\n",
            "[14] Test Loss: 0.3362, Accuracy: 88.19%\n",
            "[15] Test Loss: 0.3409, Accuracy: 88.62%\n",
            "[16] Test Loss: 0.3240, Accuracy: 88.53%\n",
            "[17] Test Loss: 0.3306, Accuracy: 88.68%\n",
            "[18] Test Loss: 0.3348, Accuracy: 88.65%\n",
            "[19] Test Loss: 0.3298, Accuracy: 88.98%\n",
            "[20] Test Loss: 0.3400, Accuracy: 88.44%\n",
            "[21] Test Loss: 0.3334, Accuracy: 88.76%\n",
            "[22] Test Loss: 0.3414, Accuracy: 89.10%\n",
            "[23] Test Loss: 0.3358, Accuracy: 88.85%\n",
            "[24] Test Loss: 0.3495, Accuracy: 89.17%\n",
            "[25] Test Loss: 0.3649, Accuracy: 88.81%\n",
            "[26] Test Loss: 0.3658, Accuracy: 89.03%\n",
            "[27] Test Loss: 0.3594, Accuracy: 89.21%\n",
            "[28] Test Loss: 0.3312, Accuracy: 89.55%\n",
            "[29] Test Loss: 0.3694, Accuracy: 88.95%\n",
            "[30] Test Loss: 0.3603, Accuracy: 88.82%\n",
            "[31] Test Loss: 0.3633, Accuracy: 89.03%\n"
          ]
        },
        {
          "output_type": "error",
          "ename": "KeyboardInterrupt",
          "evalue": "ignored",
          "traceback": [
            "\u001b[0;31m---------------------------------------------------------------------------\u001b[0m",
            "\u001b[0;31mKeyboardInterrupt\u001b[0m                         Traceback (most recent call last)",
            "\u001b[0;32m<ipython-input-35-3a92e3fd5ee3>\u001b[0m in \u001b[0;36m<cell line: 5>\u001b[0;34m()\u001b[0m\n\u001b[1;32m      4\u001b[0m \u001b[0mEPOCHS\u001b[0m \u001b[0;34m=\u001b[0m \u001b[0;36m50\u001b[0m\u001b[0;34m\u001b[0m\u001b[0;34m\u001b[0m\u001b[0m\n\u001b[1;32m      5\u001b[0m \u001b[0;32mfor\u001b[0m \u001b[0mepoch\u001b[0m \u001b[0;32min\u001b[0m \u001b[0mrange\u001b[0m\u001b[0;34m(\u001b[0m\u001b[0;36m1\u001b[0m\u001b[0;34m,\u001b[0m \u001b[0mEPOCHS\u001b[0m \u001b[0;34m+\u001b[0m \u001b[0;36m1\u001b[0m\u001b[0;34m)\u001b[0m\u001b[0;34m:\u001b[0m\u001b[0;34m\u001b[0m\u001b[0;34m\u001b[0m\u001b[0m\n\u001b[0;32m----> 6\u001b[0;31m     \u001b[0mtrain\u001b[0m\u001b[0;34m(\u001b[0m\u001b[0mmodel\u001b[0m\u001b[0;34m,\u001b[0m \u001b[0mtrain_loader\u001b[0m\u001b[0;34m,\u001b[0m \u001b[0moptimizer\u001b[0m\u001b[0;34m)\u001b[0m\u001b[0;34m\u001b[0m\u001b[0;34m\u001b[0m\u001b[0m\n\u001b[0m\u001b[1;32m      7\u001b[0m     \u001b[0mtest_loss\u001b[0m\u001b[0;34m,\u001b[0m \u001b[0mtest_accuracy\u001b[0m \u001b[0;34m=\u001b[0m \u001b[0mevaluate\u001b[0m\u001b[0;34m(\u001b[0m\u001b[0mmodel\u001b[0m\u001b[0;34m,\u001b[0m \u001b[0mtest_loader\u001b[0m\u001b[0;34m)\u001b[0m\u001b[0;34m\u001b[0m\u001b[0;34m\u001b[0m\u001b[0m\n\u001b[1;32m      8\u001b[0m \u001b[0;34m\u001b[0m\u001b[0m\n",
            "\u001b[0;32m<ipython-input-30-c63f25b7682c>\u001b[0m in \u001b[0;36mtrain\u001b[0;34m(model, train_loader, optimizer)\u001b[0m\n\u001b[1;32m     10\u001b[0m     \u001b[0;31m# data(img) : 모델에 입력할 data, target(Label) : 해당 이미지의 분류값. 클래스.\u001b[0m\u001b[0;34m\u001b[0m\u001b[0;34m\u001b[0m\u001b[0m\n\u001b[1;32m     11\u001b[0m \u001b[0;34m\u001b[0m\u001b[0m\n\u001b[0;32m---> 12\u001b[0;31m     \u001b[0;32mfor\u001b[0m \u001b[0mbatch_idx\u001b[0m\u001b[0;34m,\u001b[0m \u001b[0;34m(\u001b[0m\u001b[0mdata\u001b[0m\u001b[0;34m,\u001b[0m \u001b[0mtarget\u001b[0m\u001b[0;34m)\u001b[0m \u001b[0;32min\u001b[0m \u001b[0menumerate\u001b[0m\u001b[0;34m(\u001b[0m\u001b[0mtrain_loader\u001b[0m\u001b[0;34m)\u001b[0m\u001b[0;34m:\u001b[0m\u001b[0;34m\u001b[0m\u001b[0;34m\u001b[0m\u001b[0m\n\u001b[0m\u001b[1;32m     13\u001b[0m         \u001b[0;31m# 모델에 입력될 데이터 모양(shape): [배치크기(64), 색, 높이(세로), 넓이(가로)]\u001b[0m\u001b[0;34m\u001b[0m\u001b[0;34m\u001b[0m\u001b[0m\n\u001b[1;32m     14\u001b[0m         \u001b[0;31m# data.size() : [64, 1, 28, 28] <- 배치 데이터\u001b[0m\u001b[0;34m\u001b[0m\u001b[0;34m\u001b[0m\u001b[0m\n",
            "\u001b[0;32m/usr/local/lib/python3.9/dist-packages/torch/utils/data/dataloader.py\u001b[0m in \u001b[0;36m__next__\u001b[0;34m(self)\u001b[0m\n\u001b[1;32m    626\u001b[0m                 \u001b[0;31m# TODO(https://github.com/pytorch/pytorch/issues/76750)\u001b[0m\u001b[0;34m\u001b[0m\u001b[0;34m\u001b[0m\u001b[0m\n\u001b[1;32m    627\u001b[0m                 \u001b[0mself\u001b[0m\u001b[0;34m.\u001b[0m\u001b[0m_reset\u001b[0m\u001b[0;34m(\u001b[0m\u001b[0;34m)\u001b[0m  \u001b[0;31m# type: ignore[call-arg]\u001b[0m\u001b[0;34m\u001b[0m\u001b[0;34m\u001b[0m\u001b[0m\n\u001b[0;32m--> 628\u001b[0;31m             \u001b[0mdata\u001b[0m \u001b[0;34m=\u001b[0m \u001b[0mself\u001b[0m\u001b[0;34m.\u001b[0m\u001b[0m_next_data\u001b[0m\u001b[0;34m(\u001b[0m\u001b[0;34m)\u001b[0m\u001b[0;34m\u001b[0m\u001b[0;34m\u001b[0m\u001b[0m\n\u001b[0m\u001b[1;32m    629\u001b[0m             \u001b[0mself\u001b[0m\u001b[0;34m.\u001b[0m\u001b[0m_num_yielded\u001b[0m \u001b[0;34m+=\u001b[0m \u001b[0;36m1\u001b[0m\u001b[0;34m\u001b[0m\u001b[0;34m\u001b[0m\u001b[0m\n\u001b[1;32m    630\u001b[0m             \u001b[0;32mif\u001b[0m \u001b[0mself\u001b[0m\u001b[0;34m.\u001b[0m\u001b[0m_dataset_kind\u001b[0m \u001b[0;34m==\u001b[0m \u001b[0m_DatasetKind\u001b[0m\u001b[0;34m.\u001b[0m\u001b[0mIterable\u001b[0m \u001b[0;32mand\u001b[0m\u001b[0;31m \u001b[0m\u001b[0;31m\\\u001b[0m\u001b[0;34m\u001b[0m\u001b[0;34m\u001b[0m\u001b[0m\n",
            "\u001b[0;32m/usr/local/lib/python3.9/dist-packages/torch/utils/data/dataloader.py\u001b[0m in \u001b[0;36m_next_data\u001b[0;34m(self)\u001b[0m\n\u001b[1;32m    669\u001b[0m     \u001b[0;32mdef\u001b[0m \u001b[0m_next_data\u001b[0m\u001b[0;34m(\u001b[0m\u001b[0mself\u001b[0m\u001b[0;34m)\u001b[0m\u001b[0;34m:\u001b[0m\u001b[0;34m\u001b[0m\u001b[0;34m\u001b[0m\u001b[0m\n\u001b[1;32m    670\u001b[0m         \u001b[0mindex\u001b[0m \u001b[0;34m=\u001b[0m \u001b[0mself\u001b[0m\u001b[0;34m.\u001b[0m\u001b[0m_next_index\u001b[0m\u001b[0;34m(\u001b[0m\u001b[0;34m)\u001b[0m  \u001b[0;31m# may raise StopIteration\u001b[0m\u001b[0;34m\u001b[0m\u001b[0;34m\u001b[0m\u001b[0m\n\u001b[0;32m--> 671\u001b[0;31m         \u001b[0mdata\u001b[0m \u001b[0;34m=\u001b[0m \u001b[0mself\u001b[0m\u001b[0;34m.\u001b[0m\u001b[0m_dataset_fetcher\u001b[0m\u001b[0;34m.\u001b[0m\u001b[0mfetch\u001b[0m\u001b[0;34m(\u001b[0m\u001b[0mindex\u001b[0m\u001b[0;34m)\u001b[0m  \u001b[0;31m# may raise StopIteration\u001b[0m\u001b[0;34m\u001b[0m\u001b[0;34m\u001b[0m\u001b[0m\n\u001b[0m\u001b[1;32m    672\u001b[0m         \u001b[0;32mif\u001b[0m \u001b[0mself\u001b[0m\u001b[0;34m.\u001b[0m\u001b[0m_pin_memory\u001b[0m\u001b[0;34m:\u001b[0m\u001b[0;34m\u001b[0m\u001b[0;34m\u001b[0m\u001b[0m\n\u001b[1;32m    673\u001b[0m             \u001b[0mdata\u001b[0m \u001b[0;34m=\u001b[0m \u001b[0m_utils\u001b[0m\u001b[0;34m.\u001b[0m\u001b[0mpin_memory\u001b[0m\u001b[0;34m.\u001b[0m\u001b[0mpin_memory\u001b[0m\u001b[0;34m(\u001b[0m\u001b[0mdata\u001b[0m\u001b[0;34m,\u001b[0m \u001b[0mself\u001b[0m\u001b[0;34m.\u001b[0m\u001b[0m_pin_memory_device\u001b[0m\u001b[0;34m)\u001b[0m\u001b[0;34m\u001b[0m\u001b[0;34m\u001b[0m\u001b[0m\n",
            "\u001b[0;32m/usr/local/lib/python3.9/dist-packages/torch/utils/data/_utils/fetch.py\u001b[0m in \u001b[0;36mfetch\u001b[0;34m(self, possibly_batched_index)\u001b[0m\n\u001b[1;32m     56\u001b[0m                 \u001b[0mdata\u001b[0m \u001b[0;34m=\u001b[0m \u001b[0mself\u001b[0m\u001b[0;34m.\u001b[0m\u001b[0mdataset\u001b[0m\u001b[0;34m.\u001b[0m\u001b[0m__getitems__\u001b[0m\u001b[0;34m(\u001b[0m\u001b[0mpossibly_batched_index\u001b[0m\u001b[0;34m)\u001b[0m\u001b[0;34m\u001b[0m\u001b[0;34m\u001b[0m\u001b[0m\n\u001b[1;32m     57\u001b[0m             \u001b[0;32melse\u001b[0m\u001b[0;34m:\u001b[0m\u001b[0;34m\u001b[0m\u001b[0;34m\u001b[0m\u001b[0m\n\u001b[0;32m---> 58\u001b[0;31m                 \u001b[0mdata\u001b[0m \u001b[0;34m=\u001b[0m \u001b[0;34m[\u001b[0m\u001b[0mself\u001b[0m\u001b[0;34m.\u001b[0m\u001b[0mdataset\u001b[0m\u001b[0;34m[\u001b[0m\u001b[0midx\u001b[0m\u001b[0;34m]\u001b[0m \u001b[0;32mfor\u001b[0m \u001b[0midx\u001b[0m \u001b[0;32min\u001b[0m \u001b[0mpossibly_batched_index\u001b[0m\u001b[0;34m]\u001b[0m\u001b[0;34m\u001b[0m\u001b[0;34m\u001b[0m\u001b[0m\n\u001b[0m\u001b[1;32m     59\u001b[0m         \u001b[0;32melse\u001b[0m\u001b[0;34m:\u001b[0m\u001b[0;34m\u001b[0m\u001b[0;34m\u001b[0m\u001b[0m\n\u001b[1;32m     60\u001b[0m             \u001b[0mdata\u001b[0m \u001b[0;34m=\u001b[0m \u001b[0mself\u001b[0m\u001b[0;34m.\u001b[0m\u001b[0mdataset\u001b[0m\u001b[0;34m[\u001b[0m\u001b[0mpossibly_batched_index\u001b[0m\u001b[0;34m]\u001b[0m\u001b[0;34m\u001b[0m\u001b[0;34m\u001b[0m\u001b[0m\n",
            "\u001b[0;32m/usr/local/lib/python3.9/dist-packages/torch/utils/data/_utils/fetch.py\u001b[0m in \u001b[0;36m<listcomp>\u001b[0;34m(.0)\u001b[0m\n\u001b[1;32m     56\u001b[0m                 \u001b[0mdata\u001b[0m \u001b[0;34m=\u001b[0m \u001b[0mself\u001b[0m\u001b[0;34m.\u001b[0m\u001b[0mdataset\u001b[0m\u001b[0;34m.\u001b[0m\u001b[0m__getitems__\u001b[0m\u001b[0;34m(\u001b[0m\u001b[0mpossibly_batched_index\u001b[0m\u001b[0;34m)\u001b[0m\u001b[0;34m\u001b[0m\u001b[0;34m\u001b[0m\u001b[0m\n\u001b[1;32m     57\u001b[0m             \u001b[0;32melse\u001b[0m\u001b[0;34m:\u001b[0m\u001b[0;34m\u001b[0m\u001b[0;34m\u001b[0m\u001b[0m\n\u001b[0;32m---> 58\u001b[0;31m                 \u001b[0mdata\u001b[0m \u001b[0;34m=\u001b[0m \u001b[0;34m[\u001b[0m\u001b[0mself\u001b[0m\u001b[0;34m.\u001b[0m\u001b[0mdataset\u001b[0m\u001b[0;34m[\u001b[0m\u001b[0midx\u001b[0m\u001b[0;34m]\u001b[0m \u001b[0;32mfor\u001b[0m \u001b[0midx\u001b[0m \u001b[0;32min\u001b[0m \u001b[0mpossibly_batched_index\u001b[0m\u001b[0;34m]\u001b[0m\u001b[0;34m\u001b[0m\u001b[0;34m\u001b[0m\u001b[0m\n\u001b[0m\u001b[1;32m     59\u001b[0m         \u001b[0;32melse\u001b[0m\u001b[0;34m:\u001b[0m\u001b[0;34m\u001b[0m\u001b[0;34m\u001b[0m\u001b[0m\n\u001b[1;32m     60\u001b[0m             \u001b[0mdata\u001b[0m \u001b[0;34m=\u001b[0m \u001b[0mself\u001b[0m\u001b[0;34m.\u001b[0m\u001b[0mdataset\u001b[0m\u001b[0;34m[\u001b[0m\u001b[0mpossibly_batched_index\u001b[0m\u001b[0;34m]\u001b[0m\u001b[0;34m\u001b[0m\u001b[0;34m\u001b[0m\u001b[0m\n",
            "\u001b[0;32m/usr/local/lib/python3.9/dist-packages/torchvision/datasets/mnist.py\u001b[0m in \u001b[0;36m__getitem__\u001b[0;34m(self, index)\u001b[0m\n\u001b[1;32m    143\u001b[0m \u001b[0;34m\u001b[0m\u001b[0m\n\u001b[1;32m    144\u001b[0m         \u001b[0;32mif\u001b[0m \u001b[0mself\u001b[0m\u001b[0;34m.\u001b[0m\u001b[0mtransform\u001b[0m \u001b[0;32mis\u001b[0m \u001b[0;32mnot\u001b[0m \u001b[0;32mNone\u001b[0m\u001b[0;34m:\u001b[0m\u001b[0;34m\u001b[0m\u001b[0;34m\u001b[0m\u001b[0m\n\u001b[0;32m--> 145\u001b[0;31m             \u001b[0mimg\u001b[0m \u001b[0;34m=\u001b[0m \u001b[0mself\u001b[0m\u001b[0;34m.\u001b[0m\u001b[0mtransform\u001b[0m\u001b[0;34m(\u001b[0m\u001b[0mimg\u001b[0m\u001b[0;34m)\u001b[0m\u001b[0;34m\u001b[0m\u001b[0;34m\u001b[0m\u001b[0m\n\u001b[0m\u001b[1;32m    146\u001b[0m \u001b[0;34m\u001b[0m\u001b[0m\n\u001b[1;32m    147\u001b[0m         \u001b[0;32mif\u001b[0m \u001b[0mself\u001b[0m\u001b[0;34m.\u001b[0m\u001b[0mtarget_transform\u001b[0m \u001b[0;32mis\u001b[0m \u001b[0;32mnot\u001b[0m \u001b[0;32mNone\u001b[0m\u001b[0;34m:\u001b[0m\u001b[0;34m\u001b[0m\u001b[0;34m\u001b[0m\u001b[0m\n",
            "\u001b[0;32m/usr/local/lib/python3.9/dist-packages/torchvision/transforms/transforms.py\u001b[0m in \u001b[0;36m__call__\u001b[0;34m(self, img)\u001b[0m\n\u001b[1;32m     93\u001b[0m     \u001b[0;32mdef\u001b[0m \u001b[0m__call__\u001b[0m\u001b[0;34m(\u001b[0m\u001b[0mself\u001b[0m\u001b[0;34m,\u001b[0m \u001b[0mimg\u001b[0m\u001b[0;34m)\u001b[0m\u001b[0;34m:\u001b[0m\u001b[0;34m\u001b[0m\u001b[0;34m\u001b[0m\u001b[0m\n\u001b[1;32m     94\u001b[0m         \u001b[0;32mfor\u001b[0m \u001b[0mt\u001b[0m \u001b[0;32min\u001b[0m \u001b[0mself\u001b[0m\u001b[0;34m.\u001b[0m\u001b[0mtransforms\u001b[0m\u001b[0;34m:\u001b[0m\u001b[0;34m\u001b[0m\u001b[0;34m\u001b[0m\u001b[0m\n\u001b[0;32m---> 95\u001b[0;31m             \u001b[0mimg\u001b[0m \u001b[0;34m=\u001b[0m \u001b[0mt\u001b[0m\u001b[0;34m(\u001b[0m\u001b[0mimg\u001b[0m\u001b[0;34m)\u001b[0m\u001b[0;34m\u001b[0m\u001b[0;34m\u001b[0m\u001b[0m\n\u001b[0m\u001b[1;32m     96\u001b[0m         \u001b[0;32mreturn\u001b[0m \u001b[0mimg\u001b[0m\u001b[0;34m\u001b[0m\u001b[0;34m\u001b[0m\u001b[0m\n\u001b[1;32m     97\u001b[0m \u001b[0;34m\u001b[0m\u001b[0m\n",
            "\u001b[0;32m/usr/local/lib/python3.9/dist-packages/torchvision/transforms/transforms.py\u001b[0m in \u001b[0;36m__call__\u001b[0;34m(self, pic)\u001b[0m\n\u001b[1;32m    133\u001b[0m             \u001b[0mTensor\u001b[0m\u001b[0;34m:\u001b[0m \u001b[0mConverted\u001b[0m \u001b[0mimage\u001b[0m\u001b[0;34m.\u001b[0m\u001b[0;34m\u001b[0m\u001b[0;34m\u001b[0m\u001b[0m\n\u001b[1;32m    134\u001b[0m         \"\"\"\n\u001b[0;32m--> 135\u001b[0;31m         \u001b[0;32mreturn\u001b[0m \u001b[0mF\u001b[0m\u001b[0;34m.\u001b[0m\u001b[0mto_tensor\u001b[0m\u001b[0;34m(\u001b[0m\u001b[0mpic\u001b[0m\u001b[0;34m)\u001b[0m\u001b[0;34m\u001b[0m\u001b[0;34m\u001b[0m\u001b[0m\n\u001b[0m\u001b[1;32m    136\u001b[0m \u001b[0;34m\u001b[0m\u001b[0m\n\u001b[1;32m    137\u001b[0m     \u001b[0;32mdef\u001b[0m \u001b[0m__repr__\u001b[0m\u001b[0;34m(\u001b[0m\u001b[0mself\u001b[0m\u001b[0;34m)\u001b[0m \u001b[0;34m->\u001b[0m \u001b[0mstr\u001b[0m\u001b[0;34m:\u001b[0m\u001b[0;34m\u001b[0m\u001b[0;34m\u001b[0m\u001b[0m\n",
            "\u001b[0;32m/usr/local/lib/python3.9/dist-packages/torchvision/transforms/functional.py\u001b[0m in \u001b[0;36mto_tensor\u001b[0;34m(pic)\u001b[0m\n\u001b[1;32m    161\u001b[0m     \u001b[0;31m# handle PIL Image\u001b[0m\u001b[0;34m\u001b[0m\u001b[0;34m\u001b[0m\u001b[0m\n\u001b[1;32m    162\u001b[0m     \u001b[0mmode_to_nptype\u001b[0m \u001b[0;34m=\u001b[0m \u001b[0;34m{\u001b[0m\u001b[0;34m\"I\"\u001b[0m\u001b[0;34m:\u001b[0m \u001b[0mnp\u001b[0m\u001b[0;34m.\u001b[0m\u001b[0mint32\u001b[0m\u001b[0;34m,\u001b[0m \u001b[0;34m\"I;16\"\u001b[0m\u001b[0;34m:\u001b[0m \u001b[0mnp\u001b[0m\u001b[0;34m.\u001b[0m\u001b[0mint16\u001b[0m\u001b[0;34m,\u001b[0m \u001b[0;34m\"F\"\u001b[0m\u001b[0;34m:\u001b[0m \u001b[0mnp\u001b[0m\u001b[0;34m.\u001b[0m\u001b[0mfloat32\u001b[0m\u001b[0;34m}\u001b[0m\u001b[0;34m\u001b[0m\u001b[0;34m\u001b[0m\u001b[0m\n\u001b[0;32m--> 163\u001b[0;31m     \u001b[0mimg\u001b[0m \u001b[0;34m=\u001b[0m \u001b[0mtorch\u001b[0m\u001b[0;34m.\u001b[0m\u001b[0mfrom_numpy\u001b[0m\u001b[0;34m(\u001b[0m\u001b[0mnp\u001b[0m\u001b[0;34m.\u001b[0m\u001b[0marray\u001b[0m\u001b[0;34m(\u001b[0m\u001b[0mpic\u001b[0m\u001b[0;34m,\u001b[0m \u001b[0mmode_to_nptype\u001b[0m\u001b[0;34m.\u001b[0m\u001b[0mget\u001b[0m\u001b[0;34m(\u001b[0m\u001b[0mpic\u001b[0m\u001b[0;34m.\u001b[0m\u001b[0mmode\u001b[0m\u001b[0;34m,\u001b[0m \u001b[0mnp\u001b[0m\u001b[0;34m.\u001b[0m\u001b[0muint8\u001b[0m\u001b[0;34m)\u001b[0m\u001b[0;34m,\u001b[0m \u001b[0mcopy\u001b[0m\u001b[0;34m=\u001b[0m\u001b[0;32mTrue\u001b[0m\u001b[0;34m)\u001b[0m\u001b[0;34m)\u001b[0m\u001b[0;34m\u001b[0m\u001b[0;34m\u001b[0m\u001b[0m\n\u001b[0m\u001b[1;32m    164\u001b[0m \u001b[0;34m\u001b[0m\u001b[0m\n\u001b[1;32m    165\u001b[0m     \u001b[0;32mif\u001b[0m \u001b[0mpic\u001b[0m\u001b[0;34m.\u001b[0m\u001b[0mmode\u001b[0m \u001b[0;34m==\u001b[0m \u001b[0;34m\"1\"\u001b[0m\u001b[0;34m:\u001b[0m\u001b[0;34m\u001b[0m\u001b[0;34m\u001b[0m\u001b[0m\n",
            "\u001b[0;32m/usr/local/lib/python3.9/dist-packages/PIL/Image.py\u001b[0m in \u001b[0;36m__array__\u001b[0;34m(self, dtype)\u001b[0m\n\u001b[1;32m    701\u001b[0m             \u001b[0m__array_interface__\u001b[0m \u001b[0;34m=\u001b[0m \u001b[0mnew\u001b[0m\u001b[0;34m\u001b[0m\u001b[0;34m\u001b[0m\u001b[0m\n\u001b[1;32m    702\u001b[0m \u001b[0;34m\u001b[0m\u001b[0m\n\u001b[0;32m--> 703\u001b[0;31m         \u001b[0;32mreturn\u001b[0m \u001b[0mnp\u001b[0m\u001b[0;34m.\u001b[0m\u001b[0marray\u001b[0m\u001b[0;34m(\u001b[0m\u001b[0mArrayData\u001b[0m\u001b[0;34m(\u001b[0m\u001b[0;34m)\u001b[0m\u001b[0;34m,\u001b[0m \u001b[0mdtype\u001b[0m\u001b[0;34m)\u001b[0m\u001b[0;34m\u001b[0m\u001b[0;34m\u001b[0m\u001b[0m\n\u001b[0m\u001b[1;32m    704\u001b[0m \u001b[0;34m\u001b[0m\u001b[0m\n\u001b[1;32m    705\u001b[0m     \u001b[0;32mdef\u001b[0m \u001b[0m__getstate__\u001b[0m\u001b[0;34m(\u001b[0m\u001b[0mself\u001b[0m\u001b[0;34m)\u001b[0m\u001b[0;34m:\u001b[0m\u001b[0;34m\u001b[0m\u001b[0;34m\u001b[0m\u001b[0m\n",
            "\u001b[0;31mKeyboardInterrupt\u001b[0m: "
          ]
        }
      ]
    },
    {
      "cell_type": "code",
      "source": [],
      "metadata": {
        "id": "GYPJ3g0IkbJd"
      },
      "execution_count": null,
      "outputs": []
    }
  ]
}