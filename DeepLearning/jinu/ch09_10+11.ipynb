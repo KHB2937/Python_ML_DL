{
  "nbformat": 4,
  "nbformat_minor": 0,
  "metadata": {
    "colab": {
      "provenance": [],
      "include_colab_link": true
    },
    "kernelspec": {
      "name": "python3",
      "display_name": "Python 3"
    },
    "language_info": {
      "name": "python"
    }
  },
  "cells": [
    {
      "cell_type": "markdown",
      "metadata": {
        "id": "view-in-github",
        "colab_type": "text"
      },
      "source": [
        "<a href=\"https://colab.research.google.com/github/baejinu/DeepLearning/blob/main/jinu/ch09_10%2B11.ipynb\" target=\"_parent\"><img src=\"https://colab.research.google.com/assets/colab-badge.svg\" alt=\"Open In Colab\"/></a>"
      ]
    },
    {
      "cell_type": "markdown",
      "source": [
        "# RNN"
      ],
      "metadata": {
        "id": "g5OpnDI26GEO"
      }
    },
    {
      "cell_type": "markdown",
      "source": [
        "## Course"
      ],
      "metadata": {
        "id": "NU7lY_bY6qkr"
      }
    },
    {
      "cell_type": "markdown",
      "source": [
        "### 실생활 비유\n",
        "> 딥러닝에서의 RNN의 개념을 실생활의 비유로 설명해줘\n",
        "* https://sharegpt.com/c/r9zUbKj\n"
      ],
      "metadata": {
        "id": "fUW_71jR7Gre"
      }
    },
    {
      "cell_type": "markdown",
      "source": [
        "### 주요 개념, 컨셉들을 위주로 심화 질문\n",
        "> RNN에 있어서 은닉 상태와, 기울기 소실, 기울기 폭발 등의 개념에 대해서 구체적으로 설명해줘\n",
        "* https://sharegpt.com/c/3TU5u0F\n",
        "\n",
        "> 프로그래밍에서 재귀구조가 뭐야? 재귀구조를 대표적인 실생활 예시를 들어서 설명해줘, 대표적인 재귀 프로그래밍인 팩토리얼을 파이썬 코드 예시를 통해서 설명해줘.\n",
        "* https://sharegpt.com/c/vZ3Ep2s"
      ],
      "metadata": {
        "id": "RnzYxnkt9WOF"
      }
    },
    {
      "cell_type": "markdown",
      "source": [
        "### 인접 개념이나 유사 개념에 대해서 비교하면서 학습\n",
        "\n",
        "> 딥러닝에서 RNN과 CNN의 차이점이 뭐야?\n",
        "* https://sharegpt.com/c/9DaAko8\n",
        "\n",
        "> 머신러닝에서의 시계열 데이터 처리와 딥러닝 RNN에서의 시계열 데이터 처리의 공통점과 차이점이 뭐야? (Kaggle 이상거래 감지 데이터를 바탕으로 예시를 들어서 설명해줘)\n",
        "* https://sharegpt.com/c/d5T9Nx0"
      ],
      "metadata": {
        "id": "ATC5amvJ9bZo"
      }
    },
    {
      "cell_type": "markdown",
      "source": [
        "---\n",
        "* 은닉상태 (hidden State)\n",
        "* 재귀적 구조\n",
        "* 맥락을 인식할 수 있는 신경망\n",
        "* 자연어처리, 시계열, 비디오, 음성 (순서가 있는 비정형데이터)\n",
        "* 기울기 소실, 기울기 폭발\n",
        "* GRU, 게이트, 업데이트 게이트, 리셋 게이트"
      ],
      "metadata": {
        "id": "j-K6bYI7_tVF"
      }
    },
    {
      "cell_type": "markdown",
      "source": [
        "### 자연어 처리\n",
        "* 텍스트 전처리\n",
        "* 토큰화\n",
        "* 형태소분석, 형태소분석기 (Mecab, Khaiii, Okt), ElasticSearch (ELK)\n",
        "* 임베딩, 단어사전, torchtext, torchtext.text, 차원축소\n",
        "* 감성분석 (긍/부정), 감정분석 (희노애락), 주제분석, 클러스터링(주제별 묶기), 텍스트 분류 (Text Classification), 리스크 분석, 언론 분석, 여론 분석, SNS 분석"
      ],
      "metadata": {
        "id": "5p6AgVWg__jo"
      }
    },
    {
      "cell_type": "markdown",
      "source": [
        "## Challenge\n",
        "* 빈 칸 채우기\n",
        "* 연습문제\n",
        "* 에러 코드 (TDD)"
      ],
      "metadata": {
        "id": "065BT7pr6sqL"
      }
    },
    {
      "cell_type": "markdown",
      "source": [
        "> PyTorch에서 RNN을 사용할 때 있을 수 있는 가장 대표적인 실수 3가지를 예시코드와 함께 제시해줘\n",
        "\n",
        "> RNN을 신경망을 구현하면서 입력이나 구현과정에서 실수할 수 있는 대표적인 코딩 실수를 3가지 제시해줘\n",
        "* https://sharegpt.com/c/SM6UrdR"
      ],
      "metadata": {
        "id": "AcYGDpRVG1bj"
      }
    },
    {
      "cell_type": "markdown",
      "source": [
        "> 최신 RNN 모델들을 소개해주고 PyTorch 예시 코드도 같이 제시해줘\n",
        "* https://sharegpt.com/c/M3k0iXd"
      ],
      "metadata": {
        "id": "I4UfG2EPIBSJ"
      }
    },
    {
      "cell_type": "markdown",
      "source": [
        "## Creativity\n",
        "* 간단한 복습용 데이터 프로젝트\n",
        "* 본인 직무와 관련된 심화 프로젝트 & 팀 프로젝트\n",
        "* 결과물들을 어떻게 문서화 & 시각화"
      ],
      "metadata": {
        "id": "enUcGXmw6t_G"
      }
    },
    {
      "cell_type": "markdown",
      "source": [
        "> RNN을 통해서 코인 가격 예측을 하는 프로젝트 예시를 PyTorch 기반으로 구현해줘\n",
        "* https://sharegpt.com/c/E2DIJqY"
      ],
      "metadata": {
        "id": "9hnyIRNHILoZ"
      }
    },
    {
      "cell_type": "markdown",
      "source": [
        "> 실제로 존재하는 한글로 되어 있는 뉴스 빅데이터를 사용해서, 뉴스의 감성과 주제를 분석할 수 있는 RNN 딥러닝 신경망 프로젝트 예시를 추천해주고, 해당 코드는 PyTorch의 최신 버전을 기반으로 해줘. 그리고 RNN도 최신 구조를 바탕으로 예시 코드를 해줘.\n",
        "* https://sharegpt.com/c/p5EnqlA\n",
        "* https://www.bigkinds.or.kr/"
      ],
      "metadata": {
        "id": "0pkOakmpJw3R"
      }
    },
    {
      "cell_type": "markdown",
      "source": [
        "> RNN을 통한 비디오 분석 예제를 PyTorch로 들어줘. PyTorch Tutorial 내용 제외하고, Kaggle이나 Youtube를 통해서 쉽게 구할 수 있는 데이터 예제로 제안해줘.\n",
        "* https://sharegpt.com/c/nCNkgkS"
      ],
      "metadata": {
        "id": "lBdnNUZILLLe"
      }
    }
  ]
}