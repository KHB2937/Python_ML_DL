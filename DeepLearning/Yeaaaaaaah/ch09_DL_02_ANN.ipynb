{
  "nbformat": 4,
  "nbformat_minor": 0,
  "metadata": {
    "colab": {
      "provenance": [],
      "include_colab_link": true
    },
    "kernelspec": {
      "name": "python3",
      "display_name": "Python 3"
    },
    "language_info": {
      "name": "python"
    }
  },
  "cells": [
    {
      "cell_type": "markdown",
      "metadata": {
        "id": "view-in-github",
        "colab_type": "text"
      },
      "source": [
        "<a href=\"https://colab.research.google.com/github/Yeaaaaaaah/DeepLearning/blob/main/Yeaaaaaaah/ch09_DL_02_ANN.ipynb\" target=\"_parent\"><img src=\"https://colab.research.google.com/assets/colab-badge.svg\" alt=\"Open In Colab\"/></a>"
      ]
    },
    {
      "cell_type": "markdown",
      "source": [
        "# 신경망 모델 구현하기"
      ],
      "metadata": {
        "id": "CpPjB6ksx-ue"
      }
    },
    {
      "cell_type": "markdown",
      "source": [
        "## 인공 신경망 (ANN)\n",
        "artificial neural network, ANN"
      ],
      "metadata": {
        "id": "fxL1qxvCyBA_"
      }
    },
    {
      "cell_type": "markdown",
      "source": [
        "* 인간의 신경계의 작동 방식에서 영감을 받음\n",
        "    * 자극 → (감각 기관) → (신경 세포 1) → (신경 세포 2) → ... \n",
        "* 입력층 input layer : 자극을 입력받는 감각기관에 해당\n",
        "* 은닉층 hidden layer (혹은 중간층) : 입력층을 거친 자극이 지나가는 곳\n",
        "* 출력층 output layer : 마지막으로 전달되는 뉴런\n",
        "* 각 층에 존재하는 한 단위의 인공 뉴런을 노드 node 라고 함\n",
        "![인공신경망](https://github.com/BigData23th/Data/raw/main/dl_01_03.jpg)"
      ],
      "metadata": {
        "id": "-OW7qZBHySQc"
      }
    },
    {
      "cell_type": "markdown",
      "source": [
        "* 인공 신경망의 각 노드는 입력된 자극에 특정한 수학 연산을 실행\n",
        "* 각 층에 존재하는 매개변수인 가중치 weight 에 행렬곱시키고 편향 bias 를 더해줌\n",
        "    * **가중치** : 입력 신호가 출력에 주는 영향을 계산하는 매개변수\n",
        "    * **편향** : 각 노드가 얼마나 데이터에 민감한지 알려주는 매개변수\n",
        "* 이 행렬곱의 결과는 활성화 함수 activation function 을 거쳐 인공뉴런의 결괏값을 산출하게 됨\n",
        "    * **활성화 함수** : 입력에 적절한 처리를 해서 출력 신호로 변환하는 함수\n",
        "    * 입력 신호의 합이 활성화를 일으키는지 아닌지(얼마나 출력할지)를 정하는 역할\n",
        "\n",
        "![가중치, 편향, 활성화 함수](https://github.com/BigData23th/Data/raw/main/dl_01_04.jpg)"
      ],
      "metadata": {
        "id": "oWZKNcvQzgQO"
      }
    },
    {
      "cell_type": "markdown",
      "source": [
        "* 노드를 통해 나온 결괏값은 이어지는 은닉층의 인공뉴런으로 전달되고, 가중치 곱 & 활성화 함수를 거치게 됨\n",
        "\n",
        "> 이러한 뉴런 간의 자극 처리와 전달 과정을 몇 겹에 걸쳐 반복한 후 마지막 출력층에서 결괏값을 만들어내는 것\n",
        "\n",
        "* 인공 신경망의 출력층이 낸 결괏값과 정답을 비교해 오차를 계산해야 함\n",
        "* 이 오차를 기반으로 신경망 전체를 학습시키려면 출력층이 가중치부터 입력층의 가중치까지 모두 경사하강법을 활용해 변경해줘야 함\n",
        "* 이렇게 겹겹이 쌓인 가중치를 뒤에서부터 차례대로 조정하고 최적화하는 알고리즘 = 역전파 Backpropagation 알고리즘 (오차역전파)\n",
        "---\n",
        "* https://youtu.be/p9M0A1VBUpM\n",
        "* https://youtu.be/1Q_etC_GHHk\n",
        "* https://youtu.be/573EZkzfnZ0"
      ],
      "metadata": {
        "id": "GBJfymwg0sAf"
      }
    },
    {
      "cell_type": "markdown",
      "source": [
        "# 간단한 분류 모델 구현"
      ],
      "metadata": {
        "id": "mSeMMWg66FRb"
      }
    },
    {
      "cell_type": "code",
      "source": [
        "# 신경망의 학습과 평가에 사용할 데이터셋 만들기\n",
        "from sklearn.datasets import make_blobs\n",
        "# make_blobs() : 데이터를 2차원 벡터 형태로 만든 데이터셋을 생성"
      ],
      "metadata": {
        "id": "xGpZZDqYzfus"
      },
      "execution_count": 1,
      "outputs": []
    },
    {
      "cell_type": "code",
      "execution_count": 2,
      "metadata": {
        "id": "uVoN6UQuxO0D"
      },
      "outputs": [],
      "source": [
        "n_dim = 2 # 차원\n",
        "# 좌표값 / 분류.라벨.정답값\n",
        "# Train\n",
        "x_train, y_train = make_blobs(\n",
        "    random_state=100,\n",
        "    n_samples=80, # 추출할(생성할) 샘플(데이터) 갯수\n",
        "    n_features=n_dim, # 차원의 수 (특성 갯수)\n",
        "    centers=[[1, 1], [-1, -1], [1, -1], [-1, 1]], # 중심점들 (예시 : 4개)\n",
        "    shuffle=True,\n",
        "    cluster_std=0.3 # 중심점으로부터 얼마나 퍼져있을 건지 (표준편차)\n",
        ")\n",
        "# → 인덱스를 생성해주는 함수. (0, 1, 2, 3)\n",
        "# → 각 데이터 한 점 한 점이 몇 번째 클러스터에 속해 있는지 알려주는 인덱스\n",
        "# x (좌표), y(인덱스->몇번째 클러스터에 속해있는지)\n",
        "# Test\n",
        "x_test, y_test = make_blobs(\n",
        "    random_state=100,\n",
        "    n_samples=20, # 추출할(생성할) 샘플(데이터) 갯수\n",
        "    n_features=n_dim, # 차원의 수 (특성 갯수)\n",
        "    centers=[[1, 1], [-1, -1], [1, -1], [-1, 1]], # 중심점들 (예시 : 4개)\n",
        "    shuffle=True,\n",
        "    cluster_std=0.3 # 중심점으로부터 얼마나 퍼져있을 건지 (표준편차)\n",
        ")\n",
        "# 훈련 데이터 (학습 데이터) 80개 / 시험 데이터 20개"
      ]
    },
    {
      "cell_type": "code",
      "source": [
        "x_train"
      ],
      "metadata": {
        "colab": {
          "base_uri": "https://localhost:8080/"
        },
        "id": "bZKsJ1MS736R",
        "outputId": "ca778361-9a83-4093-87c0-f149a9704284"
      },
      "execution_count": 3,
      "outputs": [
        {
          "output_type": "execute_result",
          "data": {
            "text/plain": [
              "array([[ 0.90212858,  1.0167028 ],\n",
              "       [ 0.94449577, -1.74614546],\n",
              "       [-0.31040382,  0.95043713],\n",
              "       [-0.67189401,  0.93114467],\n",
              "       [-1.2586682 , -0.62515908],\n",
              "       [-0.99780563, -1.18388162],\n",
              "       [-1.42451288,  0.80777202],\n",
              "       [ 0.94315125,  1.07650043],\n",
              "       [ 1.34591074,  0.92426919],\n",
              "       [-0.86011019,  1.08099617],\n",
              "       [ 0.82635225, -1.35983536],\n",
              "       [-0.71529857,  0.99418072],\n",
              "       [-1.36517624,  0.95282045],\n",
              "       [-1.29499303, -0.89274767],\n",
              "       [ 0.48860464, -1.3408783 ],\n",
              "       [-1.55235649, -0.89017203],\n",
              "       [ 1.20181624,  0.96867666],\n",
              "       [-0.81608834, -0.77913844],\n",
              "       [ 1.09521039, -1.22572425],\n",
              "       [-0.61112122,  1.28568269],\n",
              "       [-1.02388337, -1.26691944],\n",
              "       [ 1.20703644, -0.79393298],\n",
              "       [-0.7758833 ,  1.12890293],\n",
              "       [ 1.03972834, -0.99333582],\n",
              "       [-0.94212484,  0.89546232],\n",
              "       [-0.76611211,  0.86856373],\n",
              "       [-1.09953314, -1.20676539],\n",
              "       [ 0.61108246, -0.97145817],\n",
              "       [ 0.86855931,  0.66450453],\n",
              "       [ 0.9253334 , -1.13505293],\n",
              "       [ 1.2193001 ,  1.40846684],\n",
              "       [ 0.8903614 , -1.38130691],\n",
              "       [ 1.29439624,  1.15426565],\n",
              "       [ 0.87288547, -1.35579507],\n",
              "       [-1.09594931,  0.65567752],\n",
              "       [-1.18498881,  1.22895509],\n",
              "       [-1.45227555,  1.03236524],\n",
              "       [-1.4190998 ,  0.6708484 ],\n",
              "       [-0.61007558, -1.51992869],\n",
              "       [-1.07161386,  0.57127993],\n",
              "       [-0.69192357, -1.42965718],\n",
              "       [ 1.0326616 , -0.99151491],\n",
              "       [ 0.8625919 ,  1.13054905],\n",
              "       [ 0.77309431,  1.2449362 ],\n",
              "       [-1.48407355, -0.55878584],\n",
              "       [-1.44931611,  0.64183421],\n",
              "       [-0.4889128 ,  0.78335477],\n",
              "       [-1.49065882, -1.31326296],\n",
              "       [-0.825828  , -1.33135693],\n",
              "       [-0.38961773, -1.16521432],\n",
              "       [-0.73162069,  1.22790794],\n",
              "       [ 1.23364672, -0.87153014],\n",
              "       [-0.96734096, -0.84765712],\n",
              "       [ 1.35688668,  0.49281495],\n",
              "       [ 1.56297203, -1.11307101],\n",
              "       [-1.26453952, -0.99440832],\n",
              "       [ 0.10800536, -0.99000482],\n",
              "       [ 0.47507036,  1.10280412],\n",
              "       [ 0.84061589,  1.30891981],\n",
              "       [ 1.47585128, -0.7919828 ],\n",
              "       [ 1.05535561,  1.28112466],\n",
              "       [ 0.52999374, -0.72850776],\n",
              "       [-0.37756205,  0.8970107 ],\n",
              "       [-1.28201385, -1.24837971],\n",
              "       [ 0.82492148,  1.24505412],\n",
              "       [ 0.97719296, -0.99881272],\n",
              "       [ 0.92443626,  0.74726928],\n",
              "       [ 0.41257563, -1.04044039],\n",
              "       [ 1.0663539 ,  0.678987  ],\n",
              "       [-1.16333175, -1.20045152],\n",
              "       [ 0.59308029,  0.63026965],\n",
              "       [ 1.06671988,  0.5670349 ],\n",
              "       [ 1.22513343,  0.86321592],\n",
              "       [-1.46218481,  1.61401419],\n",
              "       [-0.774864  , -1.3920977 ],\n",
              "       [ 1.4856945 ,  1.46248155],\n",
              "       [-0.92864661, -0.99593544],\n",
              "       [-1.35640528, -1.16492386],\n",
              "       [ 0.4882144 , -0.88925081],\n",
              "       [ 1.54958082, -0.99909477]])"
            ]
          },
          "metadata": {},
          "execution_count": 3
        }
      ]
    },
    {
      "cell_type": "code",
      "source": [
        "y_train # 0, 1, 2, 3"
      ],
      "metadata": {
        "colab": {
          "base_uri": "https://localhost:8080/"
        },
        "id": "kOljwNMZ7_vi",
        "outputId": "32c861ec-18b2-4c5e-c0ec-2f157b8b4ca5"
      },
      "execution_count": 4,
      "outputs": [
        {
          "output_type": "execute_result",
          "data": {
            "text/plain": [
              "array([0, 2, 3, 3, 1, 1, 3, 0, 0, 3, 2, 3, 3, 1, 2, 1, 0, 1, 2, 3, 1, 2,\n",
              "       3, 2, 3, 3, 1, 2, 0, 2, 0, 2, 0, 2, 3, 3, 3, 3, 1, 3, 1, 2, 0, 0,\n",
              "       1, 3, 3, 1, 1, 1, 3, 2, 1, 0, 2, 1, 2, 0, 0, 2, 0, 2, 3, 1, 0, 2,\n",
              "       0, 2, 0, 1, 0, 0, 0, 3, 1, 0, 1, 1, 2, 2])"
            ]
          },
          "metadata": {},
          "execution_count": 4
        }
      ]
    },
    {
      "cell_type": "code",
      "source": [
        "x_test"
      ],
      "metadata": {
        "colab": {
          "base_uri": "https://localhost:8080/"
        },
        "id": "WiBGs5Hy8GCI",
        "outputId": "e8c79110-be7a-468d-924b-bef27cfa0119"
      },
      "execution_count": 5,
      "outputs": [
        {
          "output_type": "execute_result",
          "data": {
            "text/plain": [
              "array([[-1.40691971,  0.63026965],\n",
              "       [-1.15938411, -0.69108019],\n",
              "       [ 1.0663539 ,  0.678987  ],\n",
              "       [-0.77486657,  0.86321592],\n",
              "       [ 0.47507036,  1.10280412],\n",
              "       [-1.13144069, -1.33549547],\n",
              "       [ 0.90212858, -0.9832972 ],\n",
              "       [ 1.05535561, -0.71887534],\n",
              "       [ 1.34591074,  0.92426919],\n",
              "       [-1.22690569,  1.2449362 ],\n",
              "       [ 1.2193001 , -0.59153316],\n",
              "       [-0.64311332,  0.49281495],\n",
              "       [ 1.4856945 , -0.53751845],\n",
              "       [ 1.29439624,  1.15426565],\n",
              "       [-0.93328012,  0.5670349 ],\n",
              "       [-1.17507852, -0.75494588],\n",
              "       [-0.79818376, -1.03132334],\n",
              "       [-1.1374081 , -0.86945095],\n",
              "       [ 0.94315125,  1.07650043],\n",
              "       [ 0.92443626, -1.25273072]])"
            ]
          },
          "metadata": {},
          "execution_count": 5
        }
      ]
    },
    {
      "cell_type": "code",
      "source": [
        "y_test"
      ],
      "metadata": {
        "colab": {
          "base_uri": "https://localhost:8080/"
        },
        "id": "2IkYI4oF8HzK",
        "outputId": "62fc634f-4e81-4676-f6b2-8ba6ddc6ea76"
      },
      "execution_count": 6,
      "outputs": [
        {
          "output_type": "execute_result",
          "data": {
            "text/plain": [
              "array([3, 1, 0, 3, 0, 1, 2, 2, 0, 3, 2, 3, 2, 0, 3, 1, 1, 1, 0, 2])"
            ]
          },
          "metadata": {},
          "execution_count": 6
        }
      ]
    },
    {
      "cell_type": "code",
      "source": [
        "import numpy as np\n",
        "# 딥러닝에서 유명한 XOR문제\n",
        "\n",
        "# 이번에는 이진분류를 할 모델이기 때문에 레이블 합치기\n",
        "def label_map(y_, from_, to_):\n",
        "    y = np.copy(y_) # 얕은 복사 상태라서 y_의 원본에 영향을 미치지 않기 위해 copy로 깊은 복사\n",
        "    # y 복사본\n",
        "    for f in from_: # from_ : 리스트 : 0, 1 -> for문으로 반복해주겠다\n",
        "        # y : numpy 배열 -> 배열[  ] -> 인덱싱 -> 조건? -> 불리언 배열 인덱싱\n",
        "        # y_ == f : y_ (원본) 중에 f 값과 일치하는 경우 True\n",
        "        # 0 : y_ == 0 만 필터링 -> to_ -> y => 0\n",
        "        # 1 : y_ == 1 만 필터링 -> to_ -> y => 0\n",
        "        # 2 : y_ == 2 만 필터링 -> to_ -> y => 1\n",
        "        # 3 : y_ == 3 만 필터링 -> to_ -> y => 1\n",
        "        y[y_ == f] = to_\n",
        "    return y\n",
        "\n",
        "y_train = label_map(y_train, [0, 1], 0)\n",
        "y_train = label_map(y_train, [2, 3], 1)\n",
        "y_test = label_map(y_test, [0, 1], 0)\n",
        "y_test = label_map(y_test, [2, 3], 1)"
      ],
      "metadata": {
        "id": "B-Gs81yf8UOG"
      },
      "execution_count": 8,
      "outputs": []
    },
    {
      "cell_type": "code",
      "source": [
        "y_train"
      ],
      "metadata": {
        "colab": {
          "base_uri": "https://localhost:8080/"
        },
        "id": "ju4eT4JU9dKH",
        "outputId": "faee3f39-4877-4135-8b08-ae42d6ee65fa"
      },
      "execution_count": 9,
      "outputs": [
        {
          "output_type": "execute_result",
          "data": {
            "text/plain": [
              "array([0, 0, 0, 0, 0, 0, 0, 0, 0, 0, 0, 0, 0, 0, 0, 0, 0, 0, 0, 0, 0, 0,\n",
              "       0, 0, 0, 0, 0, 0, 0, 0, 0, 0, 0, 0, 0, 0, 0, 0, 0, 0, 0, 0, 0, 0,\n",
              "       0, 0, 0, 0, 0, 0, 0, 0, 0, 0, 0, 0, 0, 0, 0, 0, 0, 0, 0, 0, 0, 0,\n",
              "       0, 0, 0, 0, 0, 0, 0, 0, 0, 0, 0, 0, 0, 0])"
            ]
          },
          "metadata": {},
          "execution_count": 9
        }
      ]
    },
    {
      "cell_type": "code",
      "source": [
        "y_test"
      ],
      "metadata": {
        "colab": {
          "base_uri": "https://localhost:8080/"
        },
        "id": "yyuq8LPw9hoB",
        "outputId": "861e2637-14fa-4579-c942-6afc2440f375"
      },
      "execution_count": 10,
      "outputs": [
        {
          "output_type": "execute_result",
          "data": {
            "text/plain": [
              "array([0, 0, 0, 0, 0, 0, 0, 0, 0, 0, 0, 0, 0, 0, 0, 0, 0, 0, 0, 0])"
            ]
          },
          "metadata": {},
          "execution_count": 10
        }
      ]
    },
    {
      "cell_type": "code",
      "source": [
        "import matplotlib.pyplot as plt\n",
        "\n",
        "# 시각화\n",
        "def vis_data(x,y = None, c = 'r'):\n",
        "    if y is None:\n",
        "        y = [None] * len(x)\n",
        "    for x_, y_ in zip(x,y): # zip -> 같은 크기의 연속된 리스트를 같이 반복시켜줄 수 있는 기능\n",
        "        # 같은 번의 x, y 배열의 원소들 x_, y_\n",
        "        if y_ is None:\n",
        "            plt.plot(x_[0], x_[1], '*',markerfacecolor='none', markeredgecolor=c)\n",
        "        else: # x_[0] x좌표(가로), x_[1] y좌표(세로)\n",
        "            # c+'o' if y_ == 0 else c+'+'\n",
        "            # y_ == 0 이라면 c에다가 이어서 점을 의미하는 'o' 붙여달라\n",
        "            # 아니면 (y_ == 1) c... + 모양을 의미하는 '+' 붙여라\n",
        "            plt.plot(x_[0], x_[1], c+'o' if y_ == 0 else c+'+')\n",
        "\n",
        "plt.figure()\n",
        "# vis_data(x_train, y_train, c='r')\n",
        "vis_data(x_train, y_train, c='b')\n",
        "plt.show()"
      ],
      "metadata": {
        "colab": {
          "base_uri": "https://localhost:8080/",
          "height": 430
        },
        "id": "TuIfRC3i9rBr",
        "outputId": "e200a330-b918-483f-a0d2-58c87b46c305"
      },
      "execution_count": 11,
      "outputs": [
        {
          "output_type": "display_data",
          "data": {
            "text/plain": [
              "<Figure size 640x480 with 1 Axes>"
            ],
            "image/png": "[encoded data removed]"
          },
          "metadata": {}
        }
      ]
    },
    {
      "cell_type": "code",
      "source": [
        "# 벡터 → 텐서\n",
        "import torch\n",
        "\n",
        "# Numpy 배열 -> torch Tensor\n",
        "x_train = torch.FloatTensor(x_train)\n",
        "print(x_train.shape)"
      ],
      "metadata": {
        "colab": {
          "base_uri": "https://localhost:8080/"
        },
        "id": "ov-DlGGV_BC8",
        "outputId": "0dbe50df-078f-4d97-e904-9edc1c0395fa"
      },
      "execution_count": 13,
      "outputs": [
        {
          "output_type": "stream",
          "name": "stdout",
          "text": [
            "torch.Size([80, 2])\n"
          ]
        }
      ]
    },
    {
      "cell_type": "code",
      "source": [
        "x_test = torch.FloatTensor(x_test)\n",
        "y_train = torch.FloatTensor(y_train)\n",
        "y_test = torch.FloatTensor(y_test)"
      ],
      "metadata": {
        "id": "ZPYkSVPz-DWn"
      },
      "execution_count": 14,
      "outputs": []
    },
    {
      "cell_type": "code",
      "source": [
        "# 신경망 모델을 구현\n",
        "# 파이토치에서는 신경망을 클래스 구현\n",
        "# 파이토치 -> 모듈. 이미 기본적인 설계도를 구현\n",
        "# torch.nn.Module -> 상속\n",
        "# class 이름:\n",
        "    # ...\n",
        "class NeuralNet:\n",
        "  def helloworld(self):  # 클래스에 들어갈 기능(self, ...):\n",
        "      print(\"hello my name is neural net\")\n",
        "\n",
        "nn = NeuralNet() # 클래스이름(...?) -> 생성자 -> 특정한 변수에 클래스를 통해서 생성된 객체를 할당\n",
        "nn.helloworld()# 클래스가 가진 기능(메소드), 특성 또는 변수 (프로퍼티)"
      ],
      "metadata": {
        "colab": {
          "base_uri": "https://localhost:8080/"
        },
        "id": "4SlazXpb_okT",
        "outputId": "878838dd-0fad-4035-9256-3053e1868135"
      },
      "execution_count": 16,
      "outputs": [
        {
          "output_type": "stream",
          "name": "stdout",
          "text": [
            "hello my name is neural net\n"
          ]
        }
      ]
    },
    {
      "cell_type": "code",
      "source": [
        "class Glory:\n",
        "    def __init__(self) : #자동호출\n",
        "        self.name = \"연진\"\n",
        "    def say(self):\n",
        "        print(f\"{self.name}아 나 지금 신나\")\n",
        "\n",
        "a = Glory()\n",
        "a.say()\n",
        "a.name"
      ],
      "metadata": {
        "colab": {
          "base_uri": "https://localhost:8080/",
          "height": 54
        },
        "id": "oU5LgTboA-1D",
        "outputId": "222b2673-4c90-4b70-ca96-9f1a2d56d2fc"
      },
      "execution_count": 19,
      "outputs": [
        {
          "output_type": "stream",
          "name": "stdout",
          "text": [
            "연진아 나 지금 신나\n"
          ]
        },
        {
          "output_type": "execute_result",
          "data": {
            "text/plain": [
              "'연진'"
            ],
            "application/vnd.google.colaboratory.intrinsic+json": {
              "type": "string"
            }
          },
          "metadata": {},
          "execution_count": 19
        }
      ]
    },
    {
      "cell_type": "code",
      "source": [
        "class GloryPt2:\n",
        "    def __init__(self, name): # 자동호출\n",
        "        self.name = name\n",
        "    def say(self):\n",
        "        print(f\"{self.name}아 나 지금 신나\")\n",
        "\n",
        "b = GloryPt2(\"동은\")\n",
        "b.say()\n",
        "b.name"
      ],
      "metadata": {
        "colab": {
          "base_uri": "https://localhost:8080/",
          "height": 54
        },
        "id": "aeyR6O3VBUu-",
        "outputId": "3c7e965e-3ea8-4ef4-88a4-f0f3dbc11455"
      },
      "execution_count": 22,
      "outputs": [
        {
          "output_type": "stream",
          "name": "stdout",
          "text": [
            "동은아 나 지금 신나\n"
          ]
        },
        {
          "output_type": "execute_result",
          "data": {
            "text/plain": [
              "'동은'"
            ],
            "application/vnd.google.colaboratory.intrinsic+json": {
              "type": "string"
            }
          },
          "metadata": {},
          "execution_count": 22
        }
      ]
    },
    {
      "cell_type": "code",
      "source": [
        "# 상속하고 싶은 클래스를 옆에 괄호에 넣어줌\n",
        "class GloryPt3(GloryPt2):\n",
        "    pass\n",
        "\n",
        "c = GloryPt3(\"스튜디어스혜정\")\n",
        "c.say()\n",
        "c.name"
      ],
      "metadata": {
        "colab": {
          "base_uri": "https://localhost:8080/",
          "height": 54
        },
        "id": "rYqSjfRtBo89",
        "outputId": "e03a48d9-6e2a-423e-84e9-884730884725"
      },
      "execution_count": 23,
      "outputs": [
        {
          "output_type": "stream",
          "name": "stdout",
          "text": [
            "스튜디어스혜정아 나 지금 신나\n"
          ]
        },
        {
          "output_type": "execute_result",
          "data": {
            "text/plain": [
              "'스튜디어스혜정'"
            ],
            "application/vnd.google.colaboratory.intrinsic+json": {
              "type": "string"
            }
          },
          "metadata": {},
          "execution_count": 23
        }
      ]
    },
    {
      "cell_type": "markdown",
      "source": [
        "## 신경망 모델 구현"
      ],
      "metadata": {
        "id": "ZD86Js0HVy-m"
      }
    },
    {
      "cell_type": "code",
      "source": [
        "# torch.nn.Module -> 상속 : 이미 구현된 클래스의 기능과 속성을 사용하는 것\n",
        "class NeuralNet(torch.nn.Module): # torch.nn.Module : 부모 클래스 / NeuralNet : 자식 클래스\n",
        "    # 생성자 __init__\n",
        "    # 신경망의 구조와 동작을 (부여, 결정) 정의하는 생성자를 모델 클래스(NeuralNet)에 정의(기록)\n",
        "    # __init__() : 파이썬에서 객체가 갖는 속성값을 초기화하는 역할\n",
        "    # 초기화 (initialization) : 할당된 자리에 값을 채워줌 / 어떤 값을 대입해 줌\n",
        "    # 정의 (definition) : (변수등의) 자리를 만들어 줌\n",
        "    # __init__ -> 객체가 생성되면 자동으로 호출(실행)됨\n",
        "    def __init__(self, input_size, hidden_size): # 입력층과 은닉층의 사이즈를 초기화 시 결정\n",
        "        # 이미 정의된 nn.Module 활용해서 모델을 구성\n",
        "        # super.__init__() # 생성자를 super를 통해 직접 실행해서 부모 클래스의 생성자를 작동시킴\n",
        "        super(NeuralNet, self).__init__()\n",
        "        # super() 함수를 부르면 nn.Module(부모 클래스)의 속성들을 가지고 초기화\n",
        "        # ---\n",
        "        # 객체를 만들 때 input_size, hidden_size 입력\n",
        "        # input_size : 입력층 차원, hidden_size : 은닉층 차원\n",
        "        # self는 생성될 객체 그 자체를 의미\n",
        "        self.input_size = input_size\n",
        "        # self -> input_size 속성이 생성 -> __init__ 전달받은 input_size가 부여\n",
        "        self.hidden_size = hidden_size\n",
        "        # self -> hidden_size 속성이 생성 -> __init__ 전달받은 hidden_size가 부여\n",
        "\n",
        "        # 인공 신경망 연산 정의 (층을 이동할 때 어떠한 계산이 일어날지)\n",
        "        # nn.Linear - 선형 결합, 행렬곱(가중치)과 편향(bias)를 포함하는 연산\n",
        "        # 입력층 -> 입력을 받아서 은닉층으로 넘겨줄 것\n",
        "        self.linear_1 = torch.nn.Linear(self.input_size, self.hidden_size)\n",
        "        # 들어올 크기 -> 나갈 크기\n",
        "        self.relu = torch.nn.ReLU() # 활성화 함수\n",
        "        # linear_1 층을 통해서 -> 가중치 계산 -> relu 필터링 (0보다 작으면 0, 그보다 크면 그대로)\n",
        "        # 은닉층 -> 출력\n",
        "        self.linear_2 = torch.nn.Linear(self.hidden_size, 1)\n",
        "        # 이진분류 -> linear_1의 결과물을 받아서 -> 1개의 출력을 몰아줌 (0, 1)\n",
        "        self.sigmoid = torch.nn.Sigmoid() # 활성화 함수\n",
        "        # linear_1, relu, ... -> 함수처럼 쓰임\n",
        "    \n",
        "    # 가중치를 통해서 입력받은 값들을 변환하는 작업 : 순전파\n",
        "    def forward(self, input_tensor): # 학습에 쓰일 텐서 (데이터)\n",
        "        # init() 함수에서 정의된 동작들을 차례로 실행\n",
        "        # linear1 : 입력 데이터 (input_tensor)에 [input_size, hidden_size] 크기의 가중치를 행렬 곱\n",
        "        # 편향을 더해서 [1, hidden_size] 의 텐서를 반환\n",
        "        linear1 = self.linear_1(input_tensor)\n",
        "        relu = self.relu(linear1) # [1, hidden_size]\n",
        "        # linear2 : [1, 1] 모양으로 변환\n",
        "        linear2 = self.linear_2(relu)\n",
        "        output = self.sigmoid(linear2)\n",
        "        return output"
      ],
      "metadata": {
        "id": "2bvxJxtVV2Hl"
      },
      "execution_count": 25,
      "outputs": []
    },
    {
      "cell_type": "markdown",
      "source": [
        "### ReLU\n",
        "* ReLU : 입력값이 0보다 작으면 0을, 0보다 크면 입력값을 그대로 출력\n",
        "![ReLU](https://github.com/BigData23th/Data/raw/main/dl_01_05.jpg)"
      ],
      "metadata": {
        "id": "3DIixPXHZxEK"
      }
    },
    {
      "cell_type": "markdown",
      "source": [
        "### 시그모이드 sigmoid\n",
        "* 0과 1 사이의 값을 반환\n",
        "* 데이터를 0과 1 사이의 임의의 수로 제한해주어 결괏값이 0이나 1 중에 어디에 가까운지 알 수 있음\n",
        "![sigmoid](https://github.com/BigData23th/Data/raw/main/dl_01_06.jpg)"
      ],
      "metadata": {
        "id": "Lv6dvLkta5ZL"
      }
    },
    {
      "cell_type": "markdown",
      "source": [
        "# 모델링 진행"
      ],
      "metadata": {
        "id": "SAIvHSejcbso"
      }
    },
    {
      "cell_type": "code",
      "source": [
        "x_train.shape # 행 80, 열 2 -> 행은 데이터 하나 하나를 의미 -> [x좌표, y좌표]"
      ],
      "metadata": {
        "colab": {
          "base_uri": "https://localhost:8080/"
        },
        "id": "3Mbu8ucXckcO",
        "outputId": "dc6b6d9c-af53-40ca-b1c3-781520381904"
      },
      "execution_count": 42,
      "outputs": [
        {
          "output_type": "execute_result",
          "data": {
            "text/plain": [
              "torch.Size([80, 2])"
            ]
          },
          "metadata": {},
          "execution_count": 42
        }
      ]
    },
    {
      "cell_type": "code",
      "source": [
        "# 신경망 객체를 생성\n",
        "model = NeuralNet(2, 5) # 입력층 레이어 2, 은닉층 레이어 5"
      ],
      "metadata": {
        "id": "6FPWBJvkcah4"
      },
      "execution_count": 43,
      "outputs": []
    },
    {
      "cell_type": "code",
      "source": [
        "# 학습 관련 변수와 알고리즘 정의\n",
        "learning_rate = 0.03 # 학습률 설정\n",
        "# 평가함수? 오차함수? 손실함수? -> 예측값(모델의 결과) vs 실제값(라벨링, 정답값)\n",
        "criterion = torch.nn.BCELoss() # 이진교차 엔트로피 (binary cross entropy) # 분류, 회귀..."
      ],
      "metadata": {
        "id": "infbYE6QdCO8"
      },
      "execution_count": 44,
      "outputs": []
    },
    {
      "cell_type": "code",
      "source": [
        "# 에포크(이폭, epoch) : 전체 학습 데이터를 총 몇 번 모델에 입력할지 결정\n",
        "epochs = 2000\n",
        "# 너무 작게 설정하면 모델이 충분히 학습되지 않을 수 있음                (언더피팅, 과소적합)\n",
        "# 너무 크게 설정하면 모델 학습이 오래 걸리고, 새로운 데이터에 적응 못함 (오버피팅, 과적합)"
      ],
      "metadata": {
        "id": "xDPqV5DsiorA"
      },
      "execution_count": 45,
      "outputs": []
    },
    {
      "cell_type": "code",
      "source": [
        "# 학습에 사용할 최적화 알고리즘 결정\n",
        "# 확률적 경사하강법 stochastic gradient descent (SGD)\n",
        "# 새 가중치 = 가중치 - 학습률 x 가중치에 대한 기울기\n",
        "optimizer = torch.optim.SGD(model.parameters(), lr = learning_rate)\n",
        "# optimizer.step() 함수를 호출할 때마다 가중치를 학습률만큼 갱신\n",
        "# model.parameters() 함수로 모델 내부의 가중치를 추출 -> 가중치, 학습률"
      ],
      "metadata": {
        "id": "U4eVCirljSGb"
      },
      "execution_count": 46,
      "outputs": []
    },
    {
      "cell_type": "code",
      "source": [
        "# 아무 학습도 안 한 모델의 성능 시험\n",
        "model.eval() # evaluate (nn.Module) -> 시험모드로 설정\n",
        "# 임의의 가중치\n",
        "# 모델의 결과값과 레이블값(정답값)의 차원을 맞추기 위해 squeeze() -> 오차 구하기\n",
        "y_pred = model(x_test)\n",
        "y_pred"
      ],
      "metadata": {
        "colab": {
          "base_uri": "https://localhost:8080/"
        },
        "id": "ng86j0xWkM4n",
        "outputId": "600e05f2-f966-4665-d44f-d1b63c4dbb02"
      },
      "execution_count": 47,
      "outputs": [
        {
          "output_type": "execute_result",
          "data": {
            "text/plain": [
              "tensor([[0.5515],\n",
              "        [0.6592],\n",
              "        [0.6460],\n",
              "        [0.5500],\n",
              "        [0.5910],\n",
              "        [0.6776],\n",
              "        [0.7224],\n",
              "        [0.7119],\n",
              "        [0.6479],\n",
              "        [0.5016],\n",
              "        [0.7090],\n",
              "        [0.5875],\n",
              "        [0.7129],\n",
              "        [0.6330],\n",
              "        [0.5719],\n",
              "        [0.6614],\n",
              "        [0.6807],\n",
              "        [0.6640],\n",
              "        [0.6182],\n",
              "        [0.7373]], grad_fn=<SigmoidBackward0>)"
            ]
          },
          "metadata": {},
          "execution_count": 47
        }
      ]
    },
    {
      "cell_type": "code",
      "source": [
        "y_test, y_test.shape"
      ],
      "metadata": {
        "colab": {
          "base_uri": "https://localhost:8080/"
        },
        "id": "eN9OmBqOk3Ae",
        "outputId": "9a4a1030-abbc-4e61-8c87-6e8285cb9f34"
      },
      "execution_count": 49,
      "outputs": [
        {
          "output_type": "execute_result",
          "data": {
            "text/plain": [
              "(tensor([0., 0., 0., 0., 0., 0., 0., 0., 0., 0., 0., 0., 0., 0., 0., 0., 0., 0., 0., 0.]),\n",
              " torch.Size([20]))"
            ]
          },
          "metadata": {},
          "execution_count": 49
        }
      ]
    },
    {
      "cell_type": "code",
      "source": [
        "test_loss_before = criterion(y_pred.squeeze(), y_test)"
      ],
      "metadata": {
        "id": "qdkCOBtZk7P7"
      },
      "execution_count": 50,
      "outputs": []
    },
    {
      "cell_type": "code",
      "source": [
        "print(f'학습 전 loss는 {test_loss_before.item()}')"
      ],
      "metadata": {
        "colab": {
          "base_uri": "https://localhost:8080/"
        },
        "id": "anQpqL-KlGdX",
        "outputId": "907b0744-d330-44b8-d831-e597fb672105"
      },
      "execution_count": 51,
      "outputs": [
        {
          "output_type": "stream",
          "name": "stdout",
          "text": [
            "학습 전 loss는 1.0420618057250977\n"
          ]
        }
      ]
    },
    {
      "cell_type": "markdown",
      "source": [
        "## 학습을 통한 성능 개선"
      ],
      "metadata": {
        "id": "dkHSyQbRlbH3"
      }
    },
    {
      "cell_type": "code",
      "source": [
        "for epoch in range(epochs): # 2000번 돌리기\n",
        "    # 학습 모드로 전환\n",
        "    model.train()\n",
        "    \n",
        "    # 한 번 반복해주는 에포크마다, 새로운 경사값을 계산할 것이므로\n",
        "    # zero_grad() 함수를 호출해서 경사값(기울기)을 0으로 설정\n",
        "    optimizer.zero_grad() # 그 전 기울기가 저장이 되어 있으므로 reset\n",
        "    # 학습 데이터를 입력해서 결과값을 개선\n",
        "    train_output = model(x_train) # x_train을 넣었을 때의 결과물\n",
        "    # nn.module -> 알아서 forward()를 호출해줌\n",
        "    \n",
        "    # 결과값의 차원과 레이블의 차원을 같게 만들고 오차를 계산\n",
        "    # loss_function\n",
        "    train_loss = criterion(train_output.squeeze(), y_train) # x_train -> 모델을 통해 나온 예측값 vs 실제 정답값 비교\n",
        "    \n",
        "    # 100 에포크마다 오차를 출력해서 학습이 잘 되는지 확인 \n",
        "    if epoch % 100 == 0:\n",
        "        print(f\"train loss at {epoch} : {train_loss.item()}\")\n",
        "    \n",
        "    # 오차함수(손실함수)를 가중치로 미분하여 오차가 최소가 되는 방향을 구하고,\n",
        "    # 그 방향으로 모델을 학습률만큼 이동시킴 (오차 역전파)\n",
        "    train_loss.backward()\n",
        "    optimizer.step() # optimizer.step() 함수를 호출할 때마다 가중치를 학습률만큼 갱신"
      ],
      "metadata": {
        "colab": {
          "base_uri": "https://localhost:8080/"
        },
        "id": "tm04VEIJlZj0",
        "outputId": "2ad13c31-4f81-482a-9a86-5e78e946dfec"
      },
      "execution_count": 52,
      "outputs": [
        {
          "output_type": "stream",
          "name": "stdout",
          "text": [
            "train loss at 0 : 1.0459282398223877\n",
            "train loss at 100 : 0.26771628856658936\n",
            "train loss at 200 : 0.11954014003276825\n",
            "train loss at 300 : 0.06777527183294296\n",
            "train loss at 400 : 0.04416868835687637\n",
            "train loss at 500 : 0.031474851071834564\n",
            "train loss at 600 : 0.023854676634073257\n",
            "train loss at 700 : 0.01888468489050865\n",
            "train loss at 800 : 0.01544423121958971\n",
            "train loss at 900 : 0.012948805466294289\n",
            "train loss at 1000 : 0.011074701324105263\n",
            "train loss at 1100 : 0.009625047445297241\n",
            "train loss at 1200 : 0.00847101490944624\n",
            "train loss at 1300 : 0.007535276003181934\n",
            "train loss at 1400 : 0.006764799356460571\n",
            "train loss at 1500 : 0.006120739039033651\n",
            "train loss at 1600 : 0.00557685736566782\n",
            "train loss at 1700 : 0.005112954881042242\n",
            "train loss at 1800 : 0.004713341593742371\n",
            "train loss at 1900 : 0.004365918226540089\n"
          ]
        }
      ]
    },
    {
      "cell_type": "markdown",
      "source": [
        "## 학습 후 성능 측정"
      ],
      "metadata": {
        "id": "gkIa1_LMnrG4"
      }
    },
    {
      "cell_type": "code",
      "source": [
        "# 평가 모드로 바꾸기 + 테스트 데이터인 x_test & y_test를 통해 오차 구해보기\n",
        "model.eval() # evaluate\n",
        "test_loss = criterion(torch.squeeze(model(x_test)), y_test)\n",
        "print(f'학습 후 loss는 {test_loss.item()}')"
      ],
      "metadata": {
        "colab": {
          "base_uri": "https://localhost:8080/"
        },
        "id": "v0SB0EoTnqwb",
        "outputId": "8f1f7acf-d583-49ce-d748-109feea90784"
      },
      "execution_count": 56,
      "outputs": [
        {
          "output_type": "stream",
          "name": "stdout",
          "text": [
            "학습 후 loss는 0.004755956120789051\n"
          ]
        }
      ]
    },
    {
      "cell_type": "code",
      "source": [
        "model(x_test), y_test"
      ],
      "metadata": {
        "colab": {
          "base_uri": "https://localhost:8080/"
        },
        "id": "rT7Z28cZoq7u",
        "outputId": "cdb53476-a633-4201-b665-694fcd9f9980"
      },
      "execution_count": 58,
      "outputs": [
        {
          "output_type": "execute_result",
          "data": {
            "text/plain": [
              "(tensor([[0.0017],\n",
              "         [0.0051],\n",
              "         [0.0075],\n",
              "         [0.0034],\n",
              "         [0.0054],\n",
              "         [0.0026],\n",
              "         [0.0052],\n",
              "         [0.0069],\n",
              "         [0.0047],\n",
              "         [0.0013],\n",
              "         [0.0077],\n",
              "         [0.0060],\n",
              "         [0.0075],\n",
              "         [0.0036],\n",
              "         [0.0037],\n",
              "         [0.0048],\n",
              "         [0.0049],\n",
              "         [0.0044],\n",
              "         [0.0049],\n",
              "         [0.0036]], grad_fn=<SigmoidBackward0>),\n",
              " tensor([0., 0., 0., 0., 0., 0., 0., 0., 0., 0., 0., 0., 0., 0., 0., 0., 0., 0., 0., 0.]))"
            ]
          },
          "metadata": {},
          "execution_count": 58
        }
      ]
    },
    {
      "cell_type": "code",
      "source": [
        "model.state_dict()"
      ],
      "metadata": {
        "colab": {
          "base_uri": "https://localhost:8080/"
        },
        "id": "6ejp3CFrNXEh",
        "outputId": "0039763e-300a-4456-a46d-41c9046f88da"
      },
      "execution_count": 59,
      "outputs": [
        {
          "output_type": "execute_result",
          "data": {
            "text/plain": [
              "OrderedDict([('linear_1.weight',\n",
              "              tensor([[-0.2402, -0.8537],\n",
              "                      [-1.0161,  0.6118],\n",
              "                      [ 0.7496, -0.4484],\n",
              "                      [-0.7684, -0.4637],\n",
              "                      [-0.0156,  1.3311]])),\n",
              "             ('linear_1.bias',\n",
              "              tensor([ 0.8345,  0.0099,  0.5365, -0.3060,  0.5397])),\n",
              "             ('linear_2.weight',\n",
              "              tensor([[-1.1034, -0.7707, -0.8486, -0.6084, -1.2326]])),\n",
              "             ('linear_2.bias', tensor([-2.2490]))])"
            ]
          },
          "metadata": {},
          "execution_count": 59
        }
      ]
    },
    {
      "cell_type": "code",
      "source": [
        "# 모델을 저장 -> 딥러닝에서 모델을 저장 -> 레이어마다의 가중치를 저장\n",
        "# model.state_dict() : 모델 내의 가중치들을 딕셔너리 형태\n",
        "# {연산 이름: 가중치 텐서와 편향 텐서}와 같이 표현된 데이터\n",
        "torch.save(model.state_dict(), './model.pt') #.pth"
      ],
      "metadata": {
        "id": "ewleGn-EoPJW"
      },
      "execution_count": 60,
      "outputs": []
    },
    {
      "cell_type": "code",
      "source": [
        "from google.colab import files\n",
        "\n",
        "files.download('./model.pt')"
      ],
      "metadata": {
        "id": "4B_XdwpNo-rp",
        "colab": {
          "base_uri": "https://localhost:8080/",
          "height": 17
        },
        "outputId": "e40fceb2-c98b-44a5-fc22-861275bea21b"
      },
      "execution_count": 61,
      "outputs": [
        {
          "output_type": "display_data",
          "data": {
            "text/plain": [
              "<IPython.core.display.Javascript object>"
            ],
            "application/javascript": [
              "\n",
              "    async function download(id, filename, size) {\n",
              "      if (!google.colab.kernel.accessAllowed) {\n",
              "        return;\n",
              "      }\n",
              "      const div = document.createElement('div');\n",
              "      const label = document.createElement('label');\n",
              "      label.textContent = `Downloading \"${filename}\": `;\n",
              "      div.appendChild(label);\n",
              "      const progress = document.createElement('progress');\n",
              "      progress.max = size;\n",
              "      div.appendChild(progress);\n",
              "      document.body.appendChild(div);\n",
              "\n",
              "      const buffers = [];\n",
              "      let downloaded = 0;\n",
              "\n",
              "      const channel = await google.colab.kernel.comms.open(id);\n",
              "      // Send a message to notify the kernel that we're ready.\n",
              "      channel.send({})\n",
              "\n",
              "      for await (const message of channel.messages) {\n",
              "        // Send a message to notify the kernel that we're ready.\n",
              "        channel.send({})\n",
              "        if (message.buffers) {\n",
              "          for (const buffer of message.buffers) {\n",
              "            buffers.push(buffer);\n",
              "            downloaded += buffer.byteLength;\n",
              "            progress.value = downloaded;\n",
              "          }\n",
              "        }\n",
              "      }\n",
              "      const blob = new Blob(buffers, {type: 'application/binary'});\n",
              "      const a = document.createElement('a');\n",
              "      a.href = window.URL.createObjectURL(blob);\n",
              "      a.download = filename;\n",
              "      div.appendChild(a);\n",
              "      a.click();\n",
              "      div.remove();\n",
              "    }\n",
              "  "
            ]
          },
          "metadata": {}
        },
        {
          "output_type": "display_data",
          "data": {
            "text/plain": [
              "<IPython.core.display.Javascript object>"
            ],
            "application/javascript": [
              "download(\"download_98c58d60-f8a1-4233-93e7-ef7c52d12d39\", \"model.pt\", 1683)"
            ]
          },
          "metadata": {}
        }
      ]
    },
    {
      "cell_type": "code",
      "source": [
        "# 사용하려고 하는 모델 자체는 직접 구현 (Class 선언)\n",
        "new_model = NeuralNet(2,5)# 아까 만든 model과는 다른 객체\n",
        "# .load_state_dict -> 이미 학습된 모델의 가중치를 적용\n",
        "new_model.load_state_dict(torch.load('./model.pt'))"
      ],
      "metadata": {
        "colab": {
          "base_uri": "https://localhost:8080/"
        },
        "id": "uajGhTjapVa1",
        "outputId": "070d57de-ae79-45f0-ead9-5a0951421f03"
      },
      "execution_count": 63,
      "outputs": [
        {
          "output_type": "execute_result",
          "data": {
            "text/plain": [
              "<All keys matched successfully>"
            ]
          },
          "metadata": {},
          "execution_count": 63
        }
      ]
    },
    {
      "cell_type": "code",
      "source": [
        "new_model.eval()\n",
        "new_model(torch.FloatTensor([-1,1])).item() # 벡터 [-1,1] -> 레이블 1이 될 확률"
      ],
      "metadata": {
        "colab": {
          "base_uri": "https://localhost:8080/"
        },
        "id": "ayHGPserptJ8",
        "outputId": "6f96e914-b1ed-4387-ab7d-aaff8977a150"
      },
      "execution_count": 64,
      "outputs": [
        {
          "output_type": "execute_result",
          "data": {
            "text/plain": [
              "0.002282526344060898"
            ]
          },
          "metadata": {},
          "execution_count": 64
        }
      ]
    },
    {
      "cell_type": "code",
      "source": [
        "new_model(torch.FloatTensor([1,1])).item() # 벡터 [1,1] -> 레이블 1이 될 확률"
      ],
      "metadata": {
        "colab": {
          "base_uri": "https://localhost:8080/"
        },
        "id": "jIo0VASA3QHn",
        "outputId": "04bc9870-50e1-4a9d-edf1-38ab8df1ca2c"
      },
      "execution_count": 65,
      "outputs": [
        {
          "output_type": "execute_result",
          "data": {
            "text/plain": [
              "0.005237661302089691"
            ]
          },
          "metadata": {},
          "execution_count": 65
        }
      ]
    }
  ]
}