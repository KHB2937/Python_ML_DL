{
  "nbformat": 4,
  "nbformat_minor": 0,
  "metadata": {
    "colab": {
      "provenance": [],
      "include_colab_link": true
    },
    "kernelspec": {
      "name": "python3",
      "display_name": "Python 3"
    },
    "language_info": {
      "name": "python"
    }
  },
  "cells": [
    {
      "cell_type": "markdown",
      "metadata": {
        "id": "view-in-github",
        "colab_type": "text"
      },
      "source": [
        "<a href=\"https://colab.research.google.com/github/cc5547/DeepLearning/blob/main/cc5547/2023_04_04_CH_GPT_%ED%99%9C%EC%9A%A9.ipynb\" target=\"_parent\"><img src=\"https://colab.research.google.com/assets/colab-badge.svg\" alt=\"Open In Colab\"/></a>"
      ]
    },
    {
      "cell_type": "markdown",
      "source": [
        "# 전이학습"
      ],
      "metadata": {
        "id": "Ik-N-fskogq8"
      }
    },
    {
      "cell_type": "markdown",
      "source": [
        "## Course"
      ],
      "metadata": {
        "id": "JQuHVAyYoiim"
      }
    },
    {
      "cell_type": "markdown",
      "source": [
        "> PyTorch와 Colab 환경에서, 전이학습의 개념과 사용법을 설명해줘. 예시 코드를 포함해서 설명해줘.\n",
        "\n",
        "> 사전학습과 파인튜닝에 대해서 조금 더 설명해줄래?\n",
        "\n",
        "* https://sharegpt.com/c/Yc4CpLX"
      ],
      "metadata": {
        "id": "HYpOIwovnQvl"
      }
    },
    {
      "cell_type": "markdown",
      "source": [
        "> PyTorch에서 전이학습을 할 때, torchvision에 내장되어 있는 모델을 사용하는 것 외의 방법을 3가지 이상 제시해줘. 예제코드도 같이 표현해주고, 가능한 코딩 블록이 안끊기게 해줘.\n",
        "\n",
        "> 플랫폼을 사용하거나, 기존에 학습된 모델 패키지를 사용하는 방법으로 3개 이상 더 추천해줘\n",
        "\n",
        "* https://sharegpt.com/c/A6vXzKn\n",
        "\n"
      ],
      "metadata": {
        "id": "ZtlSlOdypaLL"
      }
    },
    {
      "cell_type": "markdown",
      "source": [
        "> pretrainedmodels을 사용해서 전이학습하는 방법과, 파이썬 패키지화된 EfficientNet을 사용해서 전이학습하는 방법을 알려줘. 예시코드와 함께.\n",
        "\n",
        "* https://sharegpt.com/c/SDRv9SI\n"
      ],
      "metadata": {
        "id": "i4mIxVCcqQ5c"
      }
    },
    {
      "cell_type": "markdown",
      "source": [
        "> PyTorch에서 이미지 관련 딥러닝을 진행을 할 때, 데이터 전처리 과정에서 이미지 증강 관련 기능들을 알려줘. (Compose)\n",
        "* https://sharegpt.com/c/yj3veZs\n",
        "\n"
      ],
      "metadata": {
        "id": "v6lA2EHWsSGf"
      }
    },
    {
      "cell_type": "markdown",
      "source": [
        "> albumentations으로 pytorch에서 이미지 증강을 하는 방법을 알려줘. 이미지 데이터셋을 만들 때 torchvision에 내장된 transform을 쓸 때와 비교해서 주의해야하는 점을 포함해서 예제코드를 작성해줘.\n",
        "* https://sharegpt.com/c/VPVoNgw\n",
        "\n",
        "> PyTorch를 통해서 이미지 분류 관련된 문제를 딥러닝 신경망으로 해결할 때, albumentations으로 이미지를 증강하는 방법을, kaggle에서 우수한 성적을 거둔 방식들을 바탕으로 제안해줘\n",
        "* https://sharegpt.com/c/oY7CDoM"
      ],
      "metadata": {
        "id": "Y59sHchdsb5C"
      }
    },
    {
      "cell_type": "markdown",
      "source": [
        "> PyTorch에서 모델 학습 시에 스케쥴러를 활용하는 방법에 대해서 예시 코드와 함께 설명해줘 (get_cosine_schedule_with_warmup)\n",
        "* https://sharegpt.com/c/SYdDf3B"
      ],
      "metadata": {
        "id": "g9-szJfgt9_b"
      }
    },
    {
      "cell_type": "markdown",
      "source": [
        "> PyTorch에서 Kaggle 등에서의 Score를 높이기 위해 TTA를 사용하는 방법에 대한 예시와 관련 기법에 대한 자세한 설명을 들려줘.\n",
        "* https://sharegpt.com/c/jx0zE1N"
      ],
      "metadata": {
        "id": "Z07HFO-RuoFL"
      }
    },
    {
      "cell_type": "markdown",
      "source": [
        "> PyTorch에서 Kaggle 등에서의 Score를 높이기 위해 레이블 스무딩을 사용하는 방법에 대한 예시와 관련 기법에 대한 자세한 설명을 들려줘.\n",
        "* https://sharegpt.com/c/mKc15sX"
      ],
      "metadata": {
        "id": "6u0Tn3UGvfmv"
      }
    },
    {
      "cell_type": "markdown",
      "source": [
        "## Challenge"
      ],
      "metadata": {
        "id": "SQOhn4wlwL_o"
      }
    },
    {
      "cell_type": "markdown",
      "source": [
        "* 빈 칸 채우기\n",
        "* 연습문제\n",
        "* 오류코드"
      ],
      "metadata": {
        "id": "ymcDKUy9wOsP"
      }
    },
    {
      "cell_type": "markdown",
      "source": [
        "> PyTorch에서 전이학습을 통해 Kaggle 대회에 참여할 건데, 이미지 분류 문제를 해결할 때 추천하는 사전학습 모델을 3개 이상 추천해주고, 해당 예제코드와, PyTorch에 내장되지 않은 Kaggle 데이터를 통한 예시코드를 포함해서 알려줘. + 추가적으로 모델 또는 데이터를 추천해줘...\n",
        "* https://sharegpt.com/c/ILQOe0d"
      ],
      "metadata": {
        "id": "iqbms4rSwl5i"
      }
    },
    {
      "cell_type": "markdown",
      "source": [
        "> PyTorch에서 일반화 성능을 높여서 Kaggle 수상권이 되기 위한 여러 가지 추가적인 기법들을 추천해줘\n",
        "* https://sharegpt.com/c/j9elGer"
      ],
      "metadata": {
        "id": "AhqSeKjBwTVH"
      }
    },
    {
      "cell_type": "markdown",
      "source": [
        "## Creativity"
      ],
      "metadata": {
        "id": "PLUjevaly-Ro"
      }
    },
    {
      "cell_type": "markdown",
      "source": [
        "* 2~3시간 안에 할 수 있는 간단한 포트폴리오용 프로젝트 주제/데이터\n",
        "* 내가 원하는 전공분야나 직무 관련된 심화 포트폴리오 추천\n",
        "* 팀 프로젝트나 미니/토이프로젝트화 했을 때 발표자료나 문서 등에 포함되어야할 내용"
      ],
      "metadata": {
        "id": "A4mjxzi4zLcd"
      }
    },
    {
      "cell_type": "markdown",
      "source": [
        "> PyTorch에서 사전학습된 모델을 통해 전이학습으로 비디오 딥러닝을 하는 예시코드와 관련된 구조에 대한 자세한 설명을 해줘. 해당 내용은 파이토치 기본 문서가 아니라, 실제 Kaggle 대회나 서비스를 바탕으로 설명해줘. (오디오, 딥페이크, 생성모델, 강화학습, 추천...)\n",
        "* https://sharegpt.com/c/Pexv7Cj"
      ],
      "metadata": {
        "id": "BuqXPdMYzbOL"
      }
    }
  ]
}