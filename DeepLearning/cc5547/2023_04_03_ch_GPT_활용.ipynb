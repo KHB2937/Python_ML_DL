{
  "nbformat": 4,
  "nbformat_minor": 0,
  "metadata": {
    "colab": {
      "provenance": [],
      "include_colab_link": true
    },
    "kernelspec": {
      "name": "python3",
      "display_name": "Python 3"
    },
    "language_info": {
      "name": "python"
    }
  },
  "cells": [
    {
      "cell_type": "markdown",
      "metadata": {
        "id": "view-in-github",
        "colab_type": "text"
      },
      "source": [
        "<a href=\"https://colab.research.google.com/github/cc5547/DeepLearning/blob/main/cc5547/2023_04_03_ch_GPT_%ED%99%9C%EC%9A%A9.ipynb\" target=\"_parent\"><img src=\"https://colab.research.google.com/assets/colab-badge.svg\" alt=\"Open In Colab\"/></a>"
      ]
    },
    {
      "cell_type": "markdown",
      "source": [
        "# 파이토치에서의 텐서"
      ],
      "metadata": {
        "id": "uXW6TZQ6epLa"
      }
    },
    {
      "cell_type": "markdown",
      "source": [
        "## Course"
      ],
      "metadata": {
        "id": "s4IliRUMgp0o"
      }
    },
    {
      "cell_type": "markdown",
      "source": [
        "> PyTorch에서, 데이터 전처리와 모델링을 위한 텐서의 사용법을 설명해줘. 파이썬에 대해서 두 달 미만으로 공부한 사람을 대상으로 하고, 텐서의 차원과 모양 등에 대한 예시 코드를 포함해서 설명해줘.\n",
        "* https://sharegpt.com/c/KSQkTWz"
      ],
      "metadata": {
        "id": "xh1D8efXgvs1"
      }
    },
    {
      "cell_type": "markdown",
      "source": [
        "> 파이토치에서의 0차원 스칼라의 개념과, 그와 관련된 메소드를 코드 예시로 설명해주고, 텐서의 크기와 차원 등과 관련된 메소드를 예제코드와 소개해주고, FloatTensor처럼 타입을 미리 지정해서 텐서를 생성하는 방법에 대한 것도 알려줘\n",
        "* https://sharegpt.com/c/Mba8fL4"
      ],
      "metadata": {
        "id": "aGNK4_2Ijn7r"
      }
    },
    {
      "cell_type": "markdown",
      "source": [
        "> 파이토치에서, 텐서를 다룰 때, 차원을 증강하거나 감소시키고, 변화시키는 메소드들에 대해서 적절한 예시코드와 함께 설명해줘\n",
        "* https://sharegpt.com/c/h8WEfUL"
      ],
      "metadata": {
        "id": "L39iiztajpuG"
      }
    },
    {
      "cell_type": "markdown",
      "source": [
        "> 텐서에서, 전결합 층을 통해서 10개의 클래스 값들을 구했다고 했을 때, 해당 클래스 중에서 가장 높은 확률을 지니는 값을 추출하는 방법에 대한 것을, 구체적으로 예시코드를 통해 자세한 주석 설명을 포함해서 알려줘\n",
        "* https://sharegpt.com/c/y9IW8u2"
      ],
      "metadata": {
        "id": "3FSquv6Rjq9_"
      }
    },
    {
      "cell_type": "markdown",
      "source": [
        "> PyTorch에서, 텐서를 통해 행렬곱과 행렬합을 구하는 방식에 대한 것을, numpy에서의 연산과 비교하여 그 사용법을 설명해줘. 두 패키지와 관련된 예시 코드를 포함해서 설명해줘.\n",
        "* https://sharegpt.com/c/8yVLNeq"
      ],
      "metadata": {
        "id": "mS9JZ5ezqI14"
      }
    },
    {
      "cell_type": "markdown",
      "source": [
        "## Challenge"
      ],
      "metadata": {
        "id": "9wRPO_vhgse3"
      }
    },
    {
      "cell_type": "markdown",
      "source": [
        "> 파이토치에서 텐서와 관련된 핵심적인 개념들과 사용법에 관련된 10개의 문장의 **빈 칸 채우기 문제**를 출제해줘. 해당 '답안과 설명과 예시 코드'를 모두 모아서 블록 밑에 따로 표시해줘\n",
        "* https://sharegpt.com/c/Ua0qrTH"
      ],
      "metadata": {
        "id": "WbtiJvNOiOMV"
      }
    },
    {
      "cell_type": "markdown",
      "source": [
        "> PyTorch에서 텐서의 차원 변환에 관련된 것을 익힐 수 있는 **연습문제**와 그 예제코드를 실제 데이터를 바탕으로 10개 만들어줘. 먼저 실제 데이터를 제시해주고, 그 다음 문제를 먼저 알려주고, 마지막에 예제코드를 표시해줘. 예제 코드에는 주석으로 자세한 설명을 부탁해\n",
        "* https://sharegpt.com/c/p0iB9xb"
      ],
      "metadata": {
        "id": "LhNBNigWjQej"
      }
    },
    {
      "cell_type": "markdown",
      "source": [
        "> 파이토치에서 텐서를 다룰 때 자주 틀리는 부분들을 의도적으로 망가트린 코드를 **TDD** 방식으로 5개 제시해주고, 해당 코드에 대한 설명을 그때그때 표시하지 말고, 한번에 따로 모아서 맨끝에 제시해줘.\n",
        "* https://sharegpt.com/c/uKZ44n7"
      ],
      "metadata": {
        "id": "wVKt2HE4j6vJ"
      }
    },
    {
      "cell_type": "markdown",
      "source": [
        "# 경사하강법"
      ],
      "metadata": {
        "id": "P35NvJ6EpmWj"
      }
    },
    {
      "cell_type": "markdown",
      "source": [
        "## Course"
      ],
      "metadata": {
        "id": "gAQ_SUtepqdd"
      }
    },
    {
      "cell_type": "markdown",
      "source": [
        "> PyTorch에서, 경사하강법을 구현하는 방법에 대해서 설명해줘. nn.Module을 사용하는 방식과 requires_grad를 통해 하는 방법 모두  예시 코드를 포함해서 설명해줘.\n",
        "* https://sharegpt.com/c/bi8P7hP"
      ],
      "metadata": {
        "id": "L1H2hYp2psT_"
      }
    },
    {
      "cell_type": "markdown",
      "source": [
        "## Challenge"
      ],
      "metadata": {
        "id": "o6hbVkxisPd-"
      }
    },
    {
      "cell_type": "markdown",
      "source": [
        "> PyTorch에서의 경사하강법을 직관적으로 이해할 수 있는 데이터를 기반으로 한 예제를 3개 이상 제시해주고, 해당 예시를 예제 코드와 상세한 주석으로 설명 부탁해.\n",
        "* https://sharegpt.com/c/F2zvw3y"
      ],
      "metadata": {
        "id": "_EBZZWl-rhzr"
      }
    },
    {
      "cell_type": "markdown",
      "source": [
        "> 파이토치에서 경사하강법과 관련된 핵심적인 개념들과 사용법에 관련된 10개의 '문장 빈 칸 채우기 문제'를 출제해줘. 해당 '답안과 설명과 예시 코드'를 모두 모아서 블록 밑에 따로 표시해줘\n",
        "* https://sharegpt.com/c/6tomxCn"
      ],
      "metadata": {
        "id": "4q29njVxsyN8"
      }
    },
    {
      "cell_type": "markdown",
      "source": [
        "# ANN"
      ],
      "metadata": {
        "id": "pb-cVW4usRZb"
      }
    },
    {
      "cell_type": "markdown",
      "source": [
        "## Course"
      ],
      "metadata": {
        "id": "_AyGcWxhvtgC"
      }
    },
    {
      "cell_type": "markdown",
      "source": [
        "> PyTorch에서, 단순 인공 신경망(퍼셉트론)을 구현하는 방법에 대해서 설명해줘. nn.Module을 사용하는 방식과 nn.Sequential 통해 하는 방법 모두 예시 코드를 포함해서 설명해줘.\n",
        "* https://sharegpt.com/c/orIX8pI"
      ],
      "metadata": {
        "id": "0IemZGPmtkMZ"
      }
    },
    {
      "cell_type": "markdown",
      "source": [
        "> Pytorch에서 단순 인공 신경망을 구현하는 과정을 입력층, 은닉층, 출력층, 노드, 활성화 함수 등 중요한 개념들을 상세히 설명하는 방식으로 예제 코드로 제시해주고, 해당 신경망을 거치면서 어떠한 변화가 나타나는지를 dot 언어를 통해서 graph viz로 시각화할 수 있는 코드도 같이 제시해줘\n",
        "* https://sharegpt.com/c/t02d9v3"
      ],
      "metadata": {
        "id": "g5ULN1fxvFGw"
      }
    },
    {
      "cell_type": "code",
      "source": [
        "!pip install torchviz -q\n",
        "import torch\n",
        "import torch.nn as nn\n",
        "import torch.optim as optim\n",
        "from torchviz import make_dot\n",
        "import numpy as np\n",
        "\n",
        "# 데이터 준비\n",
        "X = torch.tensor([[0, 0], [0, 1], [1, 0], [1, 1]], dtype=torch.float32)\n",
        "y = torch.tensor([[0], [1], [1], [0]], dtype=torch.float32)\n",
        "\n",
        "# 인공 신경망 모델 정의\n",
        "class SimpleNet(nn.Module):\n",
        "    def __init__(self):\n",
        "        super(SimpleNet, self).__init__()\n",
        "        self.fc1 = nn.Linear(2, 2)\n",
        "        self.fc2 = nn.Linear(2, 1)\n",
        "        self.sigmoid = nn.Sigmoid()\n",
        "\n",
        "    def forward(self, x):\n",
        "        x = self.fc1(x)\n",
        "        x = self.sigmoid(x)\n",
        "        x = self.fc2(x)\n",
        "        x = self.sigmoid(x)\n",
        "        return x\n",
        "\n",
        "net = SimpleNet()\n",
        "\n",
        "# 손실 함수와 최적화 함수 정의\n",
        "criterion = nn.MSELoss()\n",
        "optimizer = optim.SGD(net.parameters(), lr=0.1)\n",
        "\n",
        "# 인공 신경망 학습\n",
        "for epoch in range(10000):\n",
        "    optimizer.zero_grad()\n",
        "    outputs = net(X)\n",
        "    loss = criterion(outputs, y)\n",
        "    loss.backward()\n",
        "    optimizer.step()\n",
        "    if epoch % 1000 == 0:\n",
        "        print(\"Epoch {}, Loss: {}\".format(epoch, loss.item()))\n",
        "\n",
        "# 예측\n",
        "print(net(X).round())\n",
        "\n",
        "# 그래프 출력\n",
        "x = torch.tensor([0, 0], dtype=torch.float32)\n",
        "make_dot(net(x), params=dict(net.named_parameters()))"
      ],
      "metadata": {
        "colab": {
          "base_uri": "https://localhost:8080/",
          "height": 1000
        },
        "id": "XZpLZFVTuxlu",
        "outputId": "92282938-6a41-43ac-8666-e2d83cb2bbf2"
      },
      "execution_count": null,
      "outputs": [
        {
          "output_type": "stream",
          "name": "stdout",
          "text": [
            "Looking in indexes: https://pypi.org/simple, https://us-python.pkg.dev/colab-wheels/public/simple/\n",
            "Collecting torchviz\n",
            "  Downloading torchviz-0.0.2.tar.gz (4.9 kB)\n",
            "  Preparing metadata (setup.py) ... \u001b[?25l\u001b[?25hdone\n",
            "Requirement already satisfied: torch in /usr/local/lib/python3.9/dist-packages (from torchviz) (1.13.1+cu116)\n",
            "Requirement already satisfied: graphviz in /usr/local/lib/python3.9/dist-packages (from torchviz) (0.20.1)\n",
            "Requirement already satisfied: typing-extensions in /usr/local/lib/python3.9/dist-packages (from torch->torchviz) (4.5.0)\n",
            "Building wheels for collected packages: torchviz\n",
            "  Building wheel for torchviz (setup.py) ... \u001b[?25l\u001b[?25hdone\n",
            "  Created wheel for torchviz: filename=torchviz-0.0.2-py3-none-any.whl size=4147 sha256=e71aed0a30a938a8b4a4fe5ff9d1cac6f0e5f590e87302c0ed30fe72da498df3\n",
            "  Stored in directory: /root/.cache/pip/wheels/29/65/6e/db2515eb1dc760fecd36b40d54df65c1e18534013f1c037e2e\n",
            "Successfully built torchviz\n",
            "Installing collected packages: torchviz\n",
            "Successfully installed torchviz-0.0.2\n",
            "Epoch 0, Loss: 0.28835001587867737\n",
            "Epoch 1000, Loss: 0.25016728043556213\n",
            "Epoch 2000, Loss: 0.2500597834587097\n",
            "Epoch 3000, Loss: 0.2499884068965912\n",
            "Epoch 4000, Loss: 0.2499198317527771\n",
            "Epoch 5000, Loss: 0.2498224675655365\n",
            "Epoch 6000, Loss: 0.24963468313217163\n",
            "Epoch 7000, Loss: 0.24917452037334442\n",
            "Epoch 8000, Loss: 0.24778302013874054\n",
            "Epoch 9000, Loss: 0.24310123920440674\n",
            "tensor([[0.],\n",
            "        [1.],\n",
            "        [1.],\n",
            "        [1.]], grad_fn=<RoundBackward0>)\n"
          ]
        },
        {
          "output_type": "execute_result",
          "data": {
            "image/svg+xml": "<?xml version=\"1.0\" encoding=\"UTF-8\" standalone=\"no\"?>\n<!DOCTYPE svg PUBLIC \"-//W3C//DTD SVG 1.1//EN\"\n \"http://www.w3.org/Graphics/SVG/1.1/DTD/svg11.dtd\">\n<!-- Generated by graphviz version 2.43.0 (0)\n -->\n<!-- Title: %3 Pages: 1 -->\n<svg width=\"364pt\" height=\"743pt\"\n viewBox=\"0.00 0.00 364.00 743.00\" xmlns=\"http://www.w3.org/2000/svg\" xmlns:xlink=\"http://www.w3.org/1999/xlink\">\n<g id=\"graph0\" class=\"graph\" transform=\"scale(1 1) rotate(0) translate(4 739)\">\n<title>%3</title>\n<polygon fill=\"white\" stroke=\"transparent\" points=\"-4,4 -4,-739 360,-739 360,4 -4,4\"/>\n<!-- 140101727691616 -->\n<g id=\"node1\" class=\"node\">\n<title>140101727691616</title>\n<polygon fill=\"#caff70\" stroke=\"black\" points=\"269.5,-31 215.5,-31 215.5,0 269.5,0 269.5,-31\"/>\n<text text-anchor=\"middle\" x=\"242.5\" y=\"-7\" font-family=\"monospace\" font-size=\"10.00\"> (1)</text>\n</g>\n<!-- 140101727660304 -->\n<g id=\"node2\" class=\"node\">\n<title>140101727660304</title>\n<polygon fill=\"lightgrey\" stroke=\"black\" points=\"299,-86 186,-86 186,-67 299,-67 299,-86\"/>\n<text text-anchor=\"middle\" x=\"242.5\" y=\"-74\" font-family=\"monospace\" font-size=\"10.00\">SigmoidBackward0</text>\n</g>\n<!-- 140101727660304&#45;&gt;140101727691616 -->\n<g id=\"edge19\" class=\"edge\">\n<title>140101727660304&#45;&gt;140101727691616</title>\n<path fill=\"none\" stroke=\"black\" d=\"M242.5,-66.79C242.5,-60.07 242.5,-50.4 242.5,-41.34\"/>\n<polygon fill=\"black\" stroke=\"black\" points=\"246,-41.19 242.5,-31.19 239,-41.19 246,-41.19\"/>\n</g>\n<!-- 140101727659872 -->\n<g id=\"node3\" class=\"node\">\n<title>140101727659872</title>\n<polygon fill=\"lightgrey\" stroke=\"black\" points=\"287,-141 198,-141 198,-122 287,-122 287,-141\"/>\n<text text-anchor=\"middle\" x=\"242.5\" y=\"-129\" font-family=\"monospace\" font-size=\"10.00\">AddBackward0</text>\n</g>\n<!-- 140101727659872&#45;&gt;140101727660304 -->\n<g id=\"edge1\" class=\"edge\">\n<title>140101727659872&#45;&gt;140101727660304</title>\n<path fill=\"none\" stroke=\"black\" d=\"M242.5,-121.75C242.5,-114.8 242.5,-104.85 242.5,-96.13\"/>\n<polygon fill=\"black\" stroke=\"black\" points=\"246,-96.09 242.5,-86.09 239,-96.09 246,-96.09\"/>\n</g>\n<!-- 140101727659968 -->\n<g id=\"node4\" class=\"node\">\n<title>140101727659968</title>\n<polygon fill=\"lightgrey\" stroke=\"black\" points=\"237,-196 124,-196 124,-177 237,-177 237,-196\"/>\n<text text-anchor=\"middle\" x=\"180.5\" y=\"-184\" font-family=\"monospace\" font-size=\"10.00\">SqueezeBackward3</text>\n</g>\n<!-- 140101727659968&#45;&gt;140101727659872 -->\n<g id=\"edge2\" class=\"edge\">\n<title>140101727659968&#45;&gt;140101727659872</title>\n<path fill=\"none\" stroke=\"black\" d=\"M190.46,-176.98C199.63,-169.15 213.44,-157.34 224.53,-147.86\"/>\n<polygon fill=\"black\" stroke=\"black\" points=\"227.03,-150.33 232.36,-141.17 222.48,-145.01 227.03,-150.33\"/>\n</g>\n<!-- 140101727659680 -->\n<g id=\"node5\" class=\"node\">\n<title>140101727659680</title>\n<polygon fill=\"lightgrey\" stroke=\"black\" points=\"222,-256.5 139,-256.5 139,-237.5 222,-237.5 222,-256.5\"/>\n<text text-anchor=\"middle\" x=\"180.5\" y=\"-244.5\" font-family=\"monospace\" font-size=\"10.00\">MmBackward0</text>\n</g>\n<!-- 140101727659680&#45;&gt;140101727659968 -->\n<g id=\"edge3\" class=\"edge\">\n<title>140101727659680&#45;&gt;140101727659968</title>\n<path fill=\"none\" stroke=\"black\" d=\"M180.5,-237.37C180.5,-229.25 180.5,-216.81 180.5,-206.39\"/>\n<polygon fill=\"black\" stroke=\"black\" points=\"184,-206.17 180.5,-196.17 177,-206.17 184,-206.17\"/>\n</g>\n<!-- 140101727659584 -->\n<g id=\"node6\" class=\"node\">\n<title>140101727659584</title>\n<polygon fill=\"lightgrey\" stroke=\"black\" points=\"184,-317 59,-317 59,-298 184,-298 184,-317\"/>\n<text text-anchor=\"middle\" x=\"121.5\" y=\"-305\" font-family=\"monospace\" font-size=\"10.00\">UnsqueezeBackward0</text>\n</g>\n<!-- 140101727659584&#45;&gt;140101727659680 -->\n<g id=\"edge4\" class=\"edge\">\n<title>140101727659584&#45;&gt;140101727659680</title>\n<path fill=\"none\" stroke=\"black\" d=\"M130.21,-297.87C139.18,-288.97 153.38,-274.89 164.41,-263.95\"/>\n<polygon fill=\"black\" stroke=\"black\" points=\"167.12,-266.19 171.76,-256.67 162.19,-261.22 167.12,-266.19\"/>\n</g>\n<!-- 140101727659440 -->\n<g id=\"node7\" class=\"node\">\n<title>140101727659440</title>\n<polygon fill=\"lightgrey\" stroke=\"black\" points=\"175,-372 62,-372 62,-353 175,-353 175,-372\"/>\n<text text-anchor=\"middle\" x=\"118.5\" y=\"-360\" font-family=\"monospace\" font-size=\"10.00\">SigmoidBackward0</text>\n</g>\n<!-- 140101727659440&#45;&gt;140101727659584 -->\n<g id=\"edge5\" class=\"edge\">\n<title>140101727659440&#45;&gt;140101727659584</title>\n<path fill=\"none\" stroke=\"black\" d=\"M119,-352.75C119.39,-345.8 119.95,-335.85 120.45,-327.13\"/>\n<polygon fill=\"black\" stroke=\"black\" points=\"123.94,-327.27 121.01,-317.09 116.95,-326.88 123.94,-327.27\"/>\n</g>\n<!-- 140101727659344 -->\n<g id=\"node8\" class=\"node\">\n<title>140101727659344</title>\n<polygon fill=\"lightgrey\" stroke=\"black\" points=\"163,-432.5 74,-432.5 74,-413.5 163,-413.5 163,-432.5\"/>\n<text text-anchor=\"middle\" x=\"118.5\" y=\"-420.5\" font-family=\"monospace\" font-size=\"10.00\">AddBackward0</text>\n</g>\n<!-- 140101727659344&#45;&gt;140101727659440 -->\n<g id=\"edge6\" class=\"edge\">\n<title>140101727659344&#45;&gt;140101727659440</title>\n<path fill=\"none\" stroke=\"black\" d=\"M118.5,-413.37C118.5,-405.25 118.5,-392.81 118.5,-382.39\"/>\n<polygon fill=\"black\" stroke=\"black\" points=\"122,-382.17 118.5,-372.17 115,-382.17 122,-382.17\"/>\n</g>\n<!-- 140101727659152 -->\n<g id=\"node9\" class=\"node\">\n<title>140101727659152</title>\n<polygon fill=\"lightgrey\" stroke=\"black\" points=\"113,-493 0,-493 0,-474 113,-474 113,-493\"/>\n<text text-anchor=\"middle\" x=\"56.5\" y=\"-481\" font-family=\"monospace\" font-size=\"10.00\">SqueezeBackward3</text>\n</g>\n<!-- 140101727659152&#45;&gt;140101727659344 -->\n<g id=\"edge7\" class=\"edge\">\n<title>140101727659152&#45;&gt;140101727659344</title>\n<path fill=\"none\" stroke=\"black\" d=\"M65.65,-473.87C75.17,-464.88 90.3,-450.61 101.93,-439.64\"/>\n<polygon fill=\"black\" stroke=\"black\" points=\"104.44,-442.08 109.31,-432.67 99.64,-436.98 104.44,-442.08\"/>\n</g>\n<!-- 140101727658960 -->\n<g id=\"node10\" class=\"node\">\n<title>140101727658960</title>\n<polygon fill=\"lightgrey\" stroke=\"black\" points=\"98,-553.5 15,-553.5 15,-534.5 98,-534.5 98,-553.5\"/>\n<text text-anchor=\"middle\" x=\"56.5\" y=\"-541.5\" font-family=\"monospace\" font-size=\"10.00\">MmBackward0</text>\n</g>\n<!-- 140101727658960&#45;&gt;140101727659152 -->\n<g id=\"edge8\" class=\"edge\">\n<title>140101727658960&#45;&gt;140101727659152</title>\n<path fill=\"none\" stroke=\"black\" d=\"M56.5,-534.37C56.5,-526.25 56.5,-513.81 56.5,-503.39\"/>\n<polygon fill=\"black\" stroke=\"black\" points=\"60,-503.17 56.5,-493.17 53,-503.17 60,-503.17\"/>\n</g>\n<!-- 140101727658864 -->\n<g id=\"node11\" class=\"node\">\n<title>140101727658864</title>\n<polygon fill=\"lightgrey\" stroke=\"black\" points=\"95,-614 18,-614 18,-595 95,-595 95,-614\"/>\n<text text-anchor=\"middle\" x=\"56.5\" y=\"-602\" font-family=\"monospace\" font-size=\"10.00\">TBackward0</text>\n</g>\n<!-- 140101727658864&#45;&gt;140101727658960 -->\n<g id=\"edge9\" class=\"edge\">\n<title>140101727658864&#45;&gt;140101727658960</title>\n<path fill=\"none\" stroke=\"black\" d=\"M56.5,-594.87C56.5,-586.75 56.5,-574.31 56.5,-563.89\"/>\n<polygon fill=\"black\" stroke=\"black\" points=\"60,-563.67 56.5,-553.67 53,-563.67 60,-563.67\"/>\n</g>\n<!-- 140101727660880 -->\n<g id=\"node12\" class=\"node\">\n<title>140101727660880</title>\n<polygon fill=\"lightgrey\" stroke=\"black\" points=\"107,-669 6,-669 6,-650 107,-650 107,-669\"/>\n<text text-anchor=\"middle\" x=\"56.5\" y=\"-657\" font-family=\"monospace\" font-size=\"10.00\">AccumulateGrad</text>\n</g>\n<!-- 140101727660880&#45;&gt;140101727658864 -->\n<g id=\"edge10\" class=\"edge\">\n<title>140101727660880&#45;&gt;140101727658864</title>\n<path fill=\"none\" stroke=\"black\" d=\"M56.5,-649.75C56.5,-642.8 56.5,-632.85 56.5,-624.13\"/>\n<polygon fill=\"black\" stroke=\"black\" points=\"60,-624.09 56.5,-614.09 53,-624.09 60,-624.09\"/>\n</g>\n<!-- 140101727632336 -->\n<g id=\"node13\" class=\"node\">\n<title>140101727632336</title>\n<polygon fill=\"lightblue\" stroke=\"black\" points=\"95,-735 18,-735 18,-705 95,-705 95,-735\"/>\n<text text-anchor=\"middle\" x=\"56.5\" y=\"-723\" font-family=\"monospace\" font-size=\"10.00\">fc1.weight</text>\n<text text-anchor=\"middle\" x=\"56.5\" y=\"-712\" font-family=\"monospace\" font-size=\"10.00\"> (2, 2)</text>\n</g>\n<!-- 140101727632336&#45;&gt;140101727660880 -->\n<g id=\"edge11\" class=\"edge\">\n<title>140101727632336&#45;&gt;140101727660880</title>\n<path fill=\"none\" stroke=\"black\" d=\"M56.5,-704.84C56.5,-697.21 56.5,-687.7 56.5,-679.45\"/>\n<polygon fill=\"black\" stroke=\"black\" points=\"60,-679.27 56.5,-669.27 53,-679.27 60,-679.27\"/>\n</g>\n<!-- 140101727659200 -->\n<g id=\"node14\" class=\"node\">\n<title>140101727659200</title>\n<polygon fill=\"lightgrey\" stroke=\"black\" points=\"232,-493 131,-493 131,-474 232,-474 232,-493\"/>\n<text text-anchor=\"middle\" x=\"181.5\" y=\"-481\" font-family=\"monospace\" font-size=\"10.00\">AccumulateGrad</text>\n</g>\n<!-- 140101727659200&#45;&gt;140101727659344 -->\n<g id=\"edge12\" class=\"edge\">\n<title>140101727659200&#45;&gt;140101727659344</title>\n<path fill=\"none\" stroke=\"black\" d=\"M172.2,-473.87C162.53,-464.88 147.16,-450.61 135.34,-439.64\"/>\n<polygon fill=\"black\" stroke=\"black\" points=\"137.54,-436.91 127.83,-432.67 132.78,-442.04 137.54,-436.91\"/>\n</g>\n<!-- 140101727632656 -->\n<g id=\"node15\" class=\"node\">\n<title>140101727632656</title>\n<polygon fill=\"lightblue\" stroke=\"black\" points=\"214,-559 149,-559 149,-529 214,-529 214,-559\"/>\n<text text-anchor=\"middle\" x=\"181.5\" y=\"-547\" font-family=\"monospace\" font-size=\"10.00\">fc1.bias</text>\n<text text-anchor=\"middle\" x=\"181.5\" y=\"-536\" font-family=\"monospace\" font-size=\"10.00\"> (2)</text>\n</g>\n<!-- 140101727632656&#45;&gt;140101727659200 -->\n<g id=\"edge13\" class=\"edge\">\n<title>140101727632656&#45;&gt;140101727659200</title>\n<path fill=\"none\" stroke=\"black\" d=\"M181.5,-528.84C181.5,-521.21 181.5,-511.7 181.5,-503.45\"/>\n<polygon fill=\"black\" stroke=\"black\" points=\"185,-503.27 181.5,-493.27 178,-503.27 185,-503.27\"/>\n</g>\n<!-- 140101727659632 -->\n<g id=\"node16\" class=\"node\">\n<title>140101727659632</title>\n<polygon fill=\"lightgrey\" stroke=\"black\" points=\"280,-317 203,-317 203,-298 280,-298 280,-317\"/>\n<text text-anchor=\"middle\" x=\"241.5\" y=\"-305\" font-family=\"monospace\" font-size=\"10.00\">TBackward0</text>\n</g>\n<!-- 140101727659632&#45;&gt;140101727659680 -->\n<g id=\"edge14\" class=\"edge\">\n<title>140101727659632&#45;&gt;140101727659680</title>\n<path fill=\"none\" stroke=\"black\" d=\"M232.5,-297.87C223.13,-288.88 208.25,-274.61 196.8,-263.64\"/>\n<polygon fill=\"black\" stroke=\"black\" points=\"199.18,-261.06 189.54,-256.67 194.33,-266.12 199.18,-261.06\"/>\n</g>\n<!-- 140101727659536 -->\n<g id=\"node17\" class=\"node\">\n<title>140101727659536</title>\n<polygon fill=\"lightgrey\" stroke=\"black\" points=\"294,-372 193,-372 193,-353 294,-353 294,-372\"/>\n<text text-anchor=\"middle\" x=\"243.5\" y=\"-360\" font-family=\"monospace\" font-size=\"10.00\">AccumulateGrad</text>\n</g>\n<!-- 140101727659536&#45;&gt;140101727659632 -->\n<g id=\"edge15\" class=\"edge\">\n<title>140101727659536&#45;&gt;140101727659632</title>\n<path fill=\"none\" stroke=\"black\" d=\"M243.17,-352.75C242.91,-345.8 242.53,-335.85 242.2,-327.13\"/>\n<polygon fill=\"black\" stroke=\"black\" points=\"245.7,-326.95 241.82,-317.09 238.7,-327.21 245.7,-326.95\"/>\n</g>\n<!-- 140101727632976 -->\n<g id=\"node18\" class=\"node\">\n<title>140101727632976</title>\n<polygon fill=\"lightblue\" stroke=\"black\" points=\"282,-438 205,-438 205,-408 282,-408 282,-438\"/>\n<text text-anchor=\"middle\" x=\"243.5\" y=\"-426\" font-family=\"monospace\" font-size=\"10.00\">fc2.weight</text>\n<text text-anchor=\"middle\" x=\"243.5\" y=\"-415\" font-family=\"monospace\" font-size=\"10.00\"> (1, 2)</text>\n</g>\n<!-- 140101727632976&#45;&gt;140101727659536 -->\n<g id=\"edge16\" class=\"edge\">\n<title>140101727632976&#45;&gt;140101727659536</title>\n<path fill=\"none\" stroke=\"black\" d=\"M243.5,-407.84C243.5,-400.21 243.5,-390.7 243.5,-382.45\"/>\n<polygon fill=\"black\" stroke=\"black\" points=\"247,-382.27 243.5,-372.27 240,-382.27 247,-382.27\"/>\n</g>\n<!-- 140101727659920 -->\n<g id=\"node19\" class=\"node\">\n<title>140101727659920</title>\n<polygon fill=\"lightgrey\" stroke=\"black\" points=\"356,-196 255,-196 255,-177 356,-177 356,-196\"/>\n<text text-anchor=\"middle\" x=\"305.5\" y=\"-184\" font-family=\"monospace\" font-size=\"10.00\">AccumulateGrad</text>\n</g>\n<!-- 140101727659920&#45;&gt;140101727659872 -->\n<g id=\"edge17\" class=\"edge\">\n<title>140101727659920&#45;&gt;140101727659872</title>\n<path fill=\"none\" stroke=\"black\" d=\"M295.38,-176.98C286.06,-169.15 272.03,-157.34 260.76,-147.86\"/>\n<polygon fill=\"black\" stroke=\"black\" points=\"262.71,-144.93 252.81,-141.17 258.21,-150.29 262.71,-144.93\"/>\n</g>\n<!-- 140101727633056 -->\n<g id=\"node20\" class=\"node\">\n<title>140101727633056</title>\n<polygon fill=\"lightblue\" stroke=\"black\" points=\"338,-262 273,-262 273,-232 338,-232 338,-262\"/>\n<text text-anchor=\"middle\" x=\"305.5\" y=\"-250\" font-family=\"monospace\" font-size=\"10.00\">fc2.bias</text>\n<text text-anchor=\"middle\" x=\"305.5\" y=\"-239\" font-family=\"monospace\" font-size=\"10.00\"> (1)</text>\n</g>\n<!-- 140101727633056&#45;&gt;140101727659920 -->\n<g id=\"edge18\" class=\"edge\">\n<title>140101727633056&#45;&gt;140101727659920</title>\n<path fill=\"none\" stroke=\"black\" d=\"M305.5,-231.84C305.5,-224.21 305.5,-214.7 305.5,-206.45\"/>\n<polygon fill=\"black\" stroke=\"black\" points=\"309,-206.27 305.5,-196.27 302,-206.27 309,-206.27\"/>\n</g>\n</g>\n</svg>\n",
            "text/plain": [
              "<graphviz.graphs.Digraph at 0x7f6bf9b5a7f0>"
            ]
          },
          "metadata": {},
          "execution_count": 2
        }
      ]
    },
    {
      "cell_type": "markdown",
      "source": [
        "> 퍼셉트론의 주요 구성 요소와 구현 방식에 대해서, 어떠한 연산이 일어나는지, 각 레이어들에 대해 자세하게 설명 해줘\n",
        "* https://sharegpt.com/c/sx9epLV"
      ],
      "metadata": {
        "id": "c4TpGIAIuMk2"
      }
    },
    {
      "cell_type": "markdown",
      "source": [
        "## Challenge"
      ],
      "metadata": {
        "id": "MoYkcf7Mv0AQ"
      }
    },
    {
      "cell_type": "markdown",
      "source": [
        "> 파이토치에서 ANN과 관련된 핵심적인 개념들과 사용법에 관련된 10개의 '문장 빈 칸 채우기 문제'를 출제해줘. 해당 '답안과 설명과 예시 코드'를 모두 모아서 블록 밑에 따로 표시해줘\n",
        "* https://sharegpt.com/c/7DRPVbl"
      ],
      "metadata": {
        "id": "1ShHx5oRv3G8"
      }
    },
    {
      "cell_type": "markdown",
      "source": [
        "# DNN"
      ],
      "metadata": {
        "id": "Ux0UFp4ewbYJ"
      }
    },
    {
      "cell_type": "markdown",
      "source": [
        "## Course"
      ],
      "metadata": {
        "id": "Xi9WHbLZxHz0"
      }
    },
    {
      "cell_type": "markdown",
      "source": [
        "> PyTorch에서, 심층 인공 신경망(DNN)을 구현하는 방법에 대해서 실제 데이터를 포함해서 예시 코드를 함께 설명해줘\n",
        "* https://sharegpt.com/c/dTf50Np"
      ],
      "metadata": {
        "id": "j7ly9MtoxJLR"
      }
    },
    {
      "cell_type": "code",
      "source": [
        "import torch\n",
        "import torch.nn as nn\n",
        "from torchviz import make_dot\n",
        "\n",
        "class DNN(nn.Module):\n",
        "    def __init__(self, input_dim, hidden_dim, output_dim):\n",
        "        super(DNN, self).__init__()\n",
        "        self.fc1 = nn.Linear(input_dim, hidden_dim)\n",
        "        self.fc2 = nn.Linear(hidden_dim, output_dim)\n",
        "    \n",
        "    def forward(self, x):\n",
        "        x = torch.relu(self.fc1(x))\n",
        "        x = self.fc2(x)\n",
        "        return x\n",
        "\n",
        "input_dim = 784 # MNIST 데이터셋 이미지 크기\n",
        "hidden_dim = 128 # 은닉 레이어 크기\n",
        "output_dim = 10 # 클래스 개수 (MNIST 숫자 분류)\n",
        "\n",
        "model = DNN(input_dim, hidden_dim, output_dim)\n",
        "x = torch.randn(64, 784) # 입력 데이터\n",
        "y = model(x) # 모델에 입력하여 출력값 계산\n",
        "\n",
        "make_dot(y.mean(), params=dict(model.named_parameters()))"
      ],
      "metadata": {
        "colab": {
          "base_uri": "https://localhost:8080/",
          "height": 644
        },
        "id": "rKOUtghDxaeq",
        "outputId": "4fcb5f33-7755-4174-d30c-9672334a7bab"
      },
      "execution_count": null,
      "outputs": [
        {
          "output_type": "execute_result",
          "data": {
            "image/svg+xml": "<?xml version=\"1.0\" encoding=\"UTF-8\" standalone=\"no\"?>\n<!DOCTYPE svg PUBLIC \"-//W3C//DTD SVG 1.1//EN\"\n \"http://www.w3.org/Graphics/SVG/1.1/DTD/svg11.dtd\">\n<!-- Generated by graphviz version 2.43.0 (0)\n -->\n<!-- Title: %3 Pages: 1 -->\n<svg width=\"340pt\" height=\"468pt\"\n viewBox=\"0.00 0.00 340.00 468.00\" xmlns=\"http://www.w3.org/2000/svg\" xmlns:xlink=\"http://www.w3.org/1999/xlink\">\n<g id=\"graph0\" class=\"graph\" transform=\"scale(1 1) rotate(0) translate(4 464)\">\n<title>%3</title>\n<polygon fill=\"white\" stroke=\"transparent\" points=\"-4,4 -4,-464 336,-464 336,4 -4,4\"/>\n<!-- 140101733321280 -->\n<g id=\"node1\" class=\"node\">\n<title>140101733321280</title>\n<polygon fill=\"#caff70\" stroke=\"black\" points=\"193.5,-31 139.5,-31 139.5,0 193.5,0 193.5,-31\"/>\n<text text-anchor=\"middle\" x=\"166.5\" y=\"-7\" font-family=\"monospace\" font-size=\"10.00\"> ()</text>\n</g>\n<!-- 140101728030480 -->\n<g id=\"node2\" class=\"node\">\n<title>140101728030480</title>\n<polygon fill=\"lightgrey\" stroke=\"black\" points=\"214,-86 119,-86 119,-67 214,-67 214,-86\"/>\n<text text-anchor=\"middle\" x=\"166.5\" y=\"-74\" font-family=\"monospace\" font-size=\"10.00\">MeanBackward0</text>\n</g>\n<!-- 140101728030480&#45;&gt;140101733321280 -->\n<g id=\"edge14\" class=\"edge\">\n<title>140101728030480&#45;&gt;140101733321280</title>\n<path fill=\"none\" stroke=\"black\" d=\"M166.5,-66.79C166.5,-60.07 166.5,-50.4 166.5,-41.34\"/>\n<polygon fill=\"black\" stroke=\"black\" points=\"170,-41.19 166.5,-31.19 163,-41.19 170,-41.19\"/>\n</g>\n<!-- 140104321033168 -->\n<g id=\"node3\" class=\"node\">\n<title>140104321033168</title>\n<polygon fill=\"lightgrey\" stroke=\"black\" points=\"217,-141 116,-141 116,-122 217,-122 217,-141\"/>\n<text text-anchor=\"middle\" x=\"166.5\" y=\"-129\" font-family=\"monospace\" font-size=\"10.00\">AddmmBackward0</text>\n</g>\n<!-- 140104321033168&#45;&gt;140101728030480 -->\n<g id=\"edge1\" class=\"edge\">\n<title>140104321033168&#45;&gt;140101728030480</title>\n<path fill=\"none\" stroke=\"black\" d=\"M166.5,-121.75C166.5,-114.8 166.5,-104.85 166.5,-96.13\"/>\n<polygon fill=\"black\" stroke=\"black\" points=\"170,-96.09 166.5,-86.09 163,-96.09 170,-96.09\"/>\n</g>\n<!-- 140104321036096 -->\n<g id=\"node4\" class=\"node\">\n<title>140104321036096</title>\n<polygon fill=\"lightgrey\" stroke=\"black\" points=\"101,-196 0,-196 0,-177 101,-177 101,-196\"/>\n<text text-anchor=\"middle\" x=\"50.5\" y=\"-184\" font-family=\"monospace\" font-size=\"10.00\">AccumulateGrad</text>\n</g>\n<!-- 140104321036096&#45;&gt;140104321033168 -->\n<g id=\"edge2\" class=\"edge\">\n<title>140104321036096&#45;&gt;140104321033168</title>\n<path fill=\"none\" stroke=\"black\" d=\"M69.14,-176.98C87.8,-168.46 116.75,-155.23 138.24,-145.41\"/>\n<polygon fill=\"black\" stroke=\"black\" points=\"139.88,-148.51 147.52,-141.17 136.97,-142.14 139.88,-148.51\"/>\n</g>\n<!-- 140101727234784 -->\n<g id=\"node5\" class=\"node\">\n<title>140101727234784</title>\n<polygon fill=\"lightblue\" stroke=\"black\" points=\"83,-262 18,-262 18,-232 83,-232 83,-262\"/>\n<text text-anchor=\"middle\" x=\"50.5\" y=\"-250\" font-family=\"monospace\" font-size=\"10.00\">fc2.bias</text>\n<text text-anchor=\"middle\" x=\"50.5\" y=\"-239\" font-family=\"monospace\" font-size=\"10.00\"> (10)</text>\n</g>\n<!-- 140101727234784&#45;&gt;140104321036096 -->\n<g id=\"edge3\" class=\"edge\">\n<title>140101727234784&#45;&gt;140104321036096</title>\n<path fill=\"none\" stroke=\"black\" d=\"M50.5,-231.84C50.5,-224.21 50.5,-214.7 50.5,-206.45\"/>\n<polygon fill=\"black\" stroke=\"black\" points=\"54,-206.27 50.5,-196.27 47,-206.27 54,-206.27\"/>\n</g>\n<!-- 140104321033024 -->\n<g id=\"node6\" class=\"node\">\n<title>140104321033024</title>\n<polygon fill=\"lightgrey\" stroke=\"black\" points=\"214,-196 119,-196 119,-177 214,-177 214,-196\"/>\n<text text-anchor=\"middle\" x=\"166.5\" y=\"-184\" font-family=\"monospace\" font-size=\"10.00\">ReluBackward0</text>\n</g>\n<!-- 140104321033024&#45;&gt;140104321033168 -->\n<g id=\"edge4\" class=\"edge\">\n<title>140104321033024&#45;&gt;140104321033168</title>\n<path fill=\"none\" stroke=\"black\" d=\"M166.5,-176.75C166.5,-169.8 166.5,-159.85 166.5,-151.13\"/>\n<polygon fill=\"black\" stroke=\"black\" points=\"170,-151.09 166.5,-141.09 163,-151.09 170,-151.09\"/>\n</g>\n<!-- 140104321032832 -->\n<g id=\"node7\" class=\"node\">\n<title>140104321032832</title>\n<polygon fill=\"lightgrey\" stroke=\"black\" points=\"213,-256.5 112,-256.5 112,-237.5 213,-237.5 213,-256.5\"/>\n<text text-anchor=\"middle\" x=\"162.5\" y=\"-244.5\" font-family=\"monospace\" font-size=\"10.00\">AddmmBackward0</text>\n</g>\n<!-- 140104321032832&#45;&gt;140104321033024 -->\n<g id=\"edge5\" class=\"edge\">\n<title>140104321032832&#45;&gt;140104321033024</title>\n<path fill=\"none\" stroke=\"black\" d=\"M163.09,-237.37C163.65,-229.25 164.5,-216.81 165.21,-206.39\"/>\n<polygon fill=\"black\" stroke=\"black\" points=\"168.72,-206.38 165.91,-196.17 161.73,-205.91 168.72,-206.38\"/>\n</g>\n<!-- 140104321032544 -->\n<g id=\"node8\" class=\"node\">\n<title>140104321032544</title>\n<polygon fill=\"lightgrey\" stroke=\"black\" points=\"118,-322.5 17,-322.5 17,-303.5 118,-303.5 118,-322.5\"/>\n<text text-anchor=\"middle\" x=\"67.5\" y=\"-310.5\" font-family=\"monospace\" font-size=\"10.00\">AccumulateGrad</text>\n</g>\n<!-- 140104321032544&#45;&gt;140104321032832 -->\n<g id=\"edge6\" class=\"edge\">\n<title>140104321032544&#45;&gt;140104321032832</title>\n<path fill=\"none\" stroke=\"black\" d=\"M80.31,-303.37C95.89,-292.87 122.43,-275 141.12,-262.4\"/>\n<polygon fill=\"black\" stroke=\"black\" points=\"143.25,-265.19 149.59,-256.7 139.34,-259.38 143.25,-265.19\"/>\n</g>\n<!-- 140101727234544 -->\n<g id=\"node9\" class=\"node\">\n<title>140101727234544</title>\n<polygon fill=\"lightblue\" stroke=\"black\" points=\"100,-394 35,-394 35,-364 100,-364 100,-394\"/>\n<text text-anchor=\"middle\" x=\"67.5\" y=\"-382\" font-family=\"monospace\" font-size=\"10.00\">fc1.bias</text>\n<text text-anchor=\"middle\" x=\"67.5\" y=\"-371\" font-family=\"monospace\" font-size=\"10.00\"> (128)</text>\n</g>\n<!-- 140101727234544&#45;&gt;140104321032544 -->\n<g id=\"edge7\" class=\"edge\">\n<title>140101727234544&#45;&gt;140104321032544</title>\n<path fill=\"none\" stroke=\"black\" d=\"M67.5,-363.8C67.5,-354.7 67.5,-342.79 67.5,-332.9\"/>\n<polygon fill=\"black\" stroke=\"black\" points=\"71,-332.84 67.5,-322.84 64,-332.84 71,-332.84\"/>\n</g>\n<!-- 140104321032400 -->\n<g id=\"node10\" class=\"node\">\n<title>140104321032400</title>\n<polygon fill=\"lightgrey\" stroke=\"black\" points=\"213,-322.5 136,-322.5 136,-303.5 213,-303.5 213,-322.5\"/>\n<text text-anchor=\"middle\" x=\"174.5\" y=\"-310.5\" font-family=\"monospace\" font-size=\"10.00\">TBackward0</text>\n</g>\n<!-- 140104321032400&#45;&gt;140104321032832 -->\n<g id=\"edge8\" class=\"edge\">\n<title>140104321032400&#45;&gt;140104321032832</title>\n<path fill=\"none\" stroke=\"black\" d=\"M172.88,-303.37C171.14,-294.07 168.31,-278.98 166.04,-266.9\"/>\n<polygon fill=\"black\" stroke=\"black\" points=\"169.45,-266.09 164.17,-256.91 162.57,-267.38 169.45,-266.09\"/>\n</g>\n<!-- 140104321032640 -->\n<g id=\"node11\" class=\"node\">\n<title>140104321032640</title>\n<polygon fill=\"lightgrey\" stroke=\"black\" points=\"225,-388.5 124,-388.5 124,-369.5 225,-369.5 225,-388.5\"/>\n<text text-anchor=\"middle\" x=\"174.5\" y=\"-376.5\" font-family=\"monospace\" font-size=\"10.00\">AccumulateGrad</text>\n</g>\n<!-- 140104321032640&#45;&gt;140104321032400 -->\n<g id=\"edge9\" class=\"edge\">\n<title>140104321032640&#45;&gt;140104321032400</title>\n<path fill=\"none\" stroke=\"black\" d=\"M174.5,-369.37C174.5,-360.16 174.5,-345.29 174.5,-333.27\"/>\n<polygon fill=\"black\" stroke=\"black\" points=\"178,-332.91 174.5,-322.91 171,-332.91 178,-332.91\"/>\n</g>\n<!-- 140101727234624 -->\n<g id=\"node12\" class=\"node\">\n<title>140101727234624</title>\n<polygon fill=\"lightblue\" stroke=\"black\" points=\"216,-460 133,-460 133,-430 216,-430 216,-460\"/>\n<text text-anchor=\"middle\" x=\"174.5\" y=\"-448\" font-family=\"monospace\" font-size=\"10.00\">fc1.weight</text>\n<text text-anchor=\"middle\" x=\"174.5\" y=\"-437\" font-family=\"monospace\" font-size=\"10.00\"> (128, 784)</text>\n</g>\n<!-- 140101727234624&#45;&gt;140104321032640 -->\n<g id=\"edge10\" class=\"edge\">\n<title>140101727234624&#45;&gt;140104321032640</title>\n<path fill=\"none\" stroke=\"black\" d=\"M174.5,-429.8C174.5,-420.7 174.5,-408.79 174.5,-398.9\"/>\n<polygon fill=\"black\" stroke=\"black\" points=\"178,-398.84 174.5,-388.84 171,-398.84 178,-398.84\"/>\n</g>\n<!-- 140104321033072 -->\n<g id=\"node13\" class=\"node\">\n<title>140104321033072</title>\n<polygon fill=\"lightgrey\" stroke=\"black\" points=\"313,-196 236,-196 236,-177 313,-177 313,-196\"/>\n<text text-anchor=\"middle\" x=\"274.5\" y=\"-184\" font-family=\"monospace\" font-size=\"10.00\">TBackward0</text>\n</g>\n<!-- 140104321033072&#45;&gt;140104321033168 -->\n<g id=\"edge11\" class=\"edge\">\n<title>140104321033072&#45;&gt;140104321033168</title>\n<path fill=\"none\" stroke=\"black\" d=\"M257.15,-176.98C239.93,-168.54 213.3,-155.47 193.35,-145.68\"/>\n<polygon fill=\"black\" stroke=\"black\" points=\"194.69,-142.43 184.17,-141.17 191.6,-148.72 194.69,-142.43\"/>\n</g>\n<!-- 140104321032880 -->\n<g id=\"node14\" class=\"node\">\n<title>140104321032880</title>\n<polygon fill=\"lightgrey\" stroke=\"black\" points=\"332,-256.5 231,-256.5 231,-237.5 332,-237.5 332,-256.5\"/>\n<text text-anchor=\"middle\" x=\"281.5\" y=\"-244.5\" font-family=\"monospace\" font-size=\"10.00\">AccumulateGrad</text>\n</g>\n<!-- 140104321032880&#45;&gt;140104321033072 -->\n<g id=\"edge12\" class=\"edge\">\n<title>140104321032880&#45;&gt;140104321033072</title>\n<path fill=\"none\" stroke=\"black\" d=\"M280.47,-237.37C279.5,-229.25 278.01,-216.81 276.76,-206.39\"/>\n<polygon fill=\"black\" stroke=\"black\" points=\"280.2,-205.68 275.54,-196.17 273.25,-206.51 280.2,-205.68\"/>\n</g>\n<!-- 140101727234704 -->\n<g id=\"node15\" class=\"node\">\n<title>140101727234704</title>\n<polygon fill=\"lightblue\" stroke=\"black\" points=\"320,-328 243,-328 243,-298 320,-298 320,-328\"/>\n<text text-anchor=\"middle\" x=\"281.5\" y=\"-316\" font-family=\"monospace\" font-size=\"10.00\">fc2.weight</text>\n<text text-anchor=\"middle\" x=\"281.5\" y=\"-305\" font-family=\"monospace\" font-size=\"10.00\"> (10, 128)</text>\n</g>\n<!-- 140101727234704&#45;&gt;140104321032880 -->\n<g id=\"edge13\" class=\"edge\">\n<title>140101727234704&#45;&gt;140104321032880</title>\n<path fill=\"none\" stroke=\"black\" d=\"M281.5,-297.8C281.5,-288.7 281.5,-276.79 281.5,-266.9\"/>\n<polygon fill=\"black\" stroke=\"black\" points=\"285,-266.84 281.5,-256.84 278,-266.84 285,-266.84\"/>\n</g>\n</g>\n</svg>\n",
            "text/plain": [
              "<graphviz.graphs.Digraph at 0x7f6bf9bb4f70>"
            ]
          },
          "metadata": {},
          "execution_count": 3
        }
      ]
    },
    {
      "cell_type": "code",
      "source": [
        "import torch\n",
        "import torch.nn as nn\n",
        "from torchsummary import summary\n",
        "\n",
        "class DNN(nn.Module):\n",
        "    def __init__(self, input_dim, hidden_dim, output_dim):\n",
        "        super(DNN, self).__init__()\n",
        "        self.fc1 = nn.Linear(input_dim, hidden_dim)\n",
        "        self.fc2 = nn.Linear(hidden_dim, output_dim)\n",
        "    \n",
        "    def forward(self, x):\n",
        "        x = torch.relu(self.fc1(x))\n",
        "        x = self.fc2(x)\n",
        "        return x\n",
        "\n",
        "input_dim = 784 # MNIST 데이터셋 이미지 크기\n",
        "hidden_dim = 128 # 은닉 레이어 크기\n",
        "output_dim = 10 # 클래스 개수 (MNIST 숫자 분류)\n",
        "\n",
        "model = DNN(input_dim, hidden_dim, output_dim)\n",
        "summary(model, input_size=(1, 28*28)) # 입력 데이터 크기0"
      ],
      "metadata": {
        "colab": {
          "base_uri": "https://localhost:8080/"
        },
        "id": "Owm7vsq1xoSE",
        "outputId": "af3db070-b7ff-404b-be7a-29eb7c916b7a"
      },
      "execution_count": null,
      "outputs": [
        {
          "output_type": "stream",
          "name": "stdout",
          "text": [
            "----------------------------------------------------------------\n",
            "        Layer (type)               Output Shape         Param #\n",
            "================================================================\n",
            "            Linear-1               [-1, 1, 128]         100,480\n",
            "            Linear-2                [-1, 1, 10]           1,290\n",
            "================================================================\n",
            "Total params: 101,770\n",
            "Trainable params: 101,770\n",
            "Non-trainable params: 0\n",
            "----------------------------------------------------------------\n",
            "Input size (MB): 0.00\n",
            "Forward/backward pass size (MB): 0.00\n",
            "Params size (MB): 0.39\n",
            "Estimated Total Size (MB): 0.39\n",
            "----------------------------------------------------------------\n"
          ]
        }
      ]
    },
    {
      "cell_type": "markdown",
      "source": [
        "> PyTorch에서, 심층 인공 신경망(DNN)을 구현하는 방법에 대해서 MNIST가 아닌 다른 3가지의 데이터셋(이미지 분류, 일반 클래스 분류, 회귀 문제 등)을 바탕으로 예시 코드를 함께 설명해줘\n",
        "* https://sharegpt.com/c/L8dDjMo"
      ],
      "metadata": {
        "id": "5vIg3IPoxZIh"
      }
    },
    {
      "cell_type": "markdown",
      "source": [
        "## Challenge"
      ],
      "metadata": {
        "id": "0Rvpo0ilyitJ"
      }
    },
    {
      "cell_type": "markdown",
      "source": [
        "> 파이토치에서 DNN과 관련된 핵심적인 개념들과 사용법에 관련된 10개의 '문장 빈 칸 채우기 문제'를 출제해줘. 해당 '답안과 설명과 예시 코드'를 모두 모아서 밑에 따로 표시해줘\n",
        "* https://sharegpt.com/c/7hS9tHa"
      ],
      "metadata": {
        "id": "cx8xFWF-yl8j"
      }
    },
    {
      "cell_type": "markdown",
      "source": [
        "# CNN & ResNet"
      ],
      "metadata": {
        "id": "hviHDJB-zD46"
      }
    },
    {
      "cell_type": "markdown",
      "source": [
        "## Course"
      ],
      "metadata": {
        "id": "FEhWmtMJ3Ooi"
      }
    },
    {
      "cell_type": "markdown",
      "source": [
        "> PyTorch에서, 합성곱 신경망(CNN)을 구현하는 방법에 대해서 실제 데이터를 포함해서 예시 코드를 함께 설명해줘\n",
        "* https://sharegpt.com/c/wi1ehBQ"
      ],
      "metadata": {
        "id": "5c6_Jask3Vcj"
      }
    },
    {
      "cell_type": "markdown",
      "source": [
        "> Pytorch에서 CNN을 구현하는 코드와 함께, 컨볼루션 신경망, 커널, 스트라이드, 풀링 계층 등에 대한 자세한 설명을 같이 주석과 설명으로 포함하여 보여줘\n",
        "* https://sharegpt.com/c/BtXQ0jc"
      ],
      "metadata": {
        "id": "YEJEFedX4qxI"
      }
    },
    {
      "cell_type": "markdown",
      "source": [
        "> 딥러닝에서 CNN의 작동 구조와 원리를, 실생활에서의 비유를 바탕으로 설명해주고, 합성곱 계층, 풀링 계층, 드롭 아웃 등 각 레이어들에 대한 자세한 설명을 해줘.\n",
        "* https://sharegpt.com/c/qH9EoDT"
      ],
      "metadata": {
        "id": "higZOX_a4uRa"
      }
    },
    {
      "cell_type": "markdown",
      "source": [
        "> VGG, ResNet 같은 CNN의 발전 과정과 각각의 특징에 대해서 간략하게 설명해줘\n",
        "* https://sharegpt.com/c/dBzdeqc"
      ],
      "metadata": {
        "id": "UI0sUDNC6OIN"
      }
    },
    {
      "cell_type": "markdown",
      "source": [
        "> PyTorch에서, ResNet을 구현하는 방법에 대해서 실제 데이터를 포함해서 예시 코드를 함께 설명해줘\n",
        "* https://sharegpt.com/c/HeZ46ik"
      ],
      "metadata": {
        "id": "oOqIl-mD7VCX"
      }
    },
    {
      "cell_type": "markdown",
      "source": [
        "> 내 코드를 리팩토링 및 코드 리뷰하고, 해당 수정사항에 대해서 주석으로 자세히 설명해줘\n",
        "* https://sharegpt.com/c/EWHxaxx"
      ],
      "metadata": {
        "id": "25SN6qDY8TVw"
      }
    },
    {
      "cell_type": "markdown",
      "source": [
        "## Challenge\n",
        "* 빈칸 채우기\n",
        "* 연습문제\n",
        "* TDD (에러 고치기)"
      ],
      "metadata": {
        "id": "lL6PYKnW8LIL"
      }
    },
    {
      "cell_type": "markdown",
      "source": [
        "## Creativity"
      ],
      "metadata": {
        "id": "JR5294M49PBr"
      }
    },
    {
      "cell_type": "markdown",
      "source": [
        "> 나는 오늘 CNN과 ResNet에 대해서 배웠고, 해당 개념들을 활용해서 포트폴리오에 사용할 수 있는 프로젝트를 만들고 싶어. PyTorch와 Streamlit, Plotly 등을 사용해서 2시간 정도에 구현할 수 있는 간단한 웹앱 프로젝트를 위한 MNEST와 CIFAR10이 아닌, Kaggle 데이터와 상세한 주석이 달린 예시 코드를 제안해줘.\n",
        "* https://sharegpt.com/c/OOLJX1c\n"
      ],
      "metadata": {
        "id": "om1u3MpO9Srr"
      }
    },
    {
      "cell_type": "markdown",
      "source": [
        "> 나는 딥러닝을 활용한 컴퓨터 비전 쪽으로 취업을 준비하는 학생이야. 다른 사람들에 비해서 경쟁력이 있다는 것을 보여주는 포트폴리오용 프로젝트가 필요해. 이를 위해서 창의적인 결과물을 낼 수 있는 Kaggle 기반 딥러닝 이미지 분류 또는 이미지 탐지 프로젝트를 할 수 있는 데이터 셋이 필요하니 추천해줘. 해당 데이터셋은 TorchVision이나 Keras에 내장 되어 있지 않은 독특한 데이터셋이어야 해. 해당 데이터를 바탕으로 어떠한 어플리케이션이나 분석 결과를 가져올 수 있을지 알려줘. 이미지 분류, 이미지 탐지, 이미지 생성과 관련된 데이터셋을 각각 3개씩 추천해줘.\n",
        "* https://sharegpt.com/c/vmv6X5y"
      ],
      "metadata": {
        "id": "mUAZAsDCAvg9"
      }
    },
    {
      "cell_type": "markdown",
      "source": [
        "> CNN을 통한 이미지 분류 모델을 통한 프로젝트를 만들었을 때, 해당 결과물과 보고서에 포함되어야할 요소들을 정리해주고, 해당 내용들을 보고서 목차와 PPT 목차로 정리해줘\n",
        "* https://sharegpt.com/c/1vgaiFE\n",
        "\n",
        "> 딥러닝 팀 프로젝트를 진행하려고 하는데, 프로젝트 매니지먼트를 위한 구조 예시를 들어줘. 그리고 최종발표를 위해서 어떠한 요소들을 만들면 좋을지에 대해서도 추천해줘.\n",
        "* https://sharegpt.com/c/G4EYQjc"
      ],
      "metadata": {
        "id": "B5wBN7wLBffk"
      }
    }
  ]
}