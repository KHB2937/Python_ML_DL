{
  "nbformat": 4,
  "nbformat_minor": 0,
  "metadata": {
    "colab": {
      "provenance": [],
      "include_colab_link": true
    },
    "kernelspec": {
      "name": "python3",
      "display_name": "Python 3"
    },
    "language_info": {
      "name": "python"
    }
  },
  "cells": [
    {
      "cell_type": "markdown",
      "metadata": {
        "id": "view-in-github",
        "colab_type": "text"
      },
      "source": [
        "<a href=\"https://colab.research.google.com/github/KHB2937/Python/blob/main/submission/KHB2937/ch03_01_%ED%95%A8%EC%88%98_%EA%B3%B5%EC%9C%A0%EC%9A%A9_ipynb%EC%9D%98_%EC%82%AC%EB%B3%B8.ipynb\" target=\"_parent\"><img src=\"https://colab.research.google.com/assets/colab-badge.svg\" alt=\"Open In Colab\"/></a>"
      ]
    },
    {
      "cell_type": "markdown",
      "source": [
        "# 함수"
      ],
      "metadata": {
        "id": "BVxDJuR2Yly6"
      }
    },
    {
      "cell_type": "markdown",
      "source": [
        "프로그래밍을 하다 보면 들어가는 값만 바뀔 뿐 같은 코드가 계속 반복되는 경우가 많습니다. 특히 같은 코드를 반복해서 작성하면 코드도 길어지고 중간에 실수할 가능성이 높아집니다.\n",
        "\n",
        "파이썬은 함수(function)라는 기능을 제공하는데 특정 용도의 코드를 한 곳에 모아 놓은 것을 뜻합니다. 그래서 함수는 처음 한 번만 작성해 놓으면 나중에 필요할 때 계속 불러 쓸 수 있습니다. 예를 들어 지금까지 사용했던 print, input 등도 모두 파이썬에서 미리 만들어 둔 함수입니다.\n",
        "\n",
        "즉, 함수를 사용하면 이런 점이 좋습니다.\n",
        "\n",
        "* 코드의 용도를 구분할 수 있다.\n",
        "* 코드를 재사용할 수 있다.\n",
        "* 실수를 줄일 수 있다."
      ],
      "metadata": {
        "id": "bFBy5TGDYpPM"
      }
    },
    {
      "cell_type": "markdown",
      "source": [
        "## 함수 만들기"
      ],
      "metadata": {
        "id": "ppOj_leXYy_7"
      }
    },
    {
      "cell_type": "markdown",
      "source": [
        "함수는 def에 함수 이름을 지정하고 ( )(괄호)와 :(콜론)을 붙인 뒤 다음 줄에 원하는 코드를 작성합니다(함수의 이름을 짓는 방법은 변수와 같습니다). 이때 코드는 반드시 들여쓰기를 해야 합니다(들여쓰기 규칙은 if, for, while과 같습니다).\n",
        "\n",
        "```\n",
        "def 함수이름():\n",
        "     코드\n",
        "```\n",
        "\n",
        "여기서 def는 정의하다(**def**ine)에서 따온 키워드입니다."
      ],
      "metadata": {
        "id": "XoiZ-_n5Y2b-"
      }
    },
    {
      "cell_type": "code",
      "execution_count": 2,
      "metadata": {
        "id": "xDDl3ikNJviB",
        "colab": {
          "base_uri": "https://localhost:8080/"
        },
        "outputId": "f91b0388-3f82-4176-ccd9-2c2ab8ef2503"
      },
      "outputs": [
        {
          "output_type": "stream",
          "name": "stdout",
          "text": [
            "hello world\n"
          ]
        }
      ],
      "source": [
        "def hello():\n",
        "  print(\"hello world\")\n",
        "hello()"
      ]
    },
    {
      "cell_type": "markdown",
      "source": [
        "### 함수 호출하기"
      ],
      "metadata": {
        "id": "KsMUc54MZBFf"
      }
    },
    {
      "cell_type": "markdown",
      "source": [
        "함수를 사용하는 방법을 \"함수를 호출(call)한다\"라고 부릅니다."
      ],
      "metadata": {
        "id": "qRonxM_jZG1M"
      }
    },
    {
      "cell_type": "code",
      "source": [
        "# 함수()\n",
        "hello()"
      ],
      "metadata": {
        "colab": {
          "base_uri": "https://localhost:8080/"
        },
        "id": "xHZzQO25Y_Rz",
        "outputId": "bf3ce419-f095-4966-ea0a-9a3f3e15c0ae"
      },
      "execution_count": 3,
      "outputs": [
        {
          "output_type": "stream",
          "name": "stdout",
          "text": [
            "hello world\n"
          ]
        }
      ]
    },
    {
      "cell_type": "markdown",
      "source": [
        "### 함수 작성과 함수 호출 순서"
      ],
      "metadata": {
        "id": "yM1uDaQQZMM8"
      }
    },
    {
      "cell_type": "markdown",
      "source": [
        "함수를 만들고 호출할 때 주의할 점이 있는데, 바로 함수를 만들기 전에 함수를 먼저 호출하면 안 된다는 점입니다. 즉, 다음과 같이 함수를 먼저 호출한 뒤 함수를 만들 수는 없습니다."
      ],
      "metadata": {
        "id": "kLonkjiBZOBW"
      }
    },
    {
      "cell_type": "code",
      "source": [
        "hello2()\n",
        "def hello2():\n",
        "  print(\"x\")"
      ],
      "metadata": {
        "colab": {
          "base_uri": "https://localhost:8080/",
          "height": 209
        },
        "id": "E0tkgMuTZFKl",
        "outputId": "dca78572-8cc4-49a0-f592-4168b9593fcc"
      },
      "execution_count": 4,
      "outputs": [
        {
          "output_type": "error",
          "ename": "NameError",
          "evalue": "ignored",
          "traceback": [
            "\u001b[0;31m---------------------------------------------------------------------------\u001b[0m",
            "\u001b[0;31mNameError\u001b[0m                                 Traceback (most recent call last)",
            "\u001b[0;32m<ipython-input-4-59d86e5d5614>\u001b[0m in \u001b[0;36m<module>\u001b[0;34m\u001b[0m\n\u001b[0;32m----> 1\u001b[0;31m \u001b[0mhello2\u001b[0m\u001b[0;34m(\u001b[0m\u001b[0;34m)\u001b[0m\u001b[0;34m\u001b[0m\u001b[0;34m\u001b[0m\u001b[0m\n\u001b[0m\u001b[1;32m      2\u001b[0m \u001b[0;32mdef\u001b[0m \u001b[0mhello2\u001b[0m\u001b[0;34m(\u001b[0m\u001b[0;34m)\u001b[0m\u001b[0;34m:\u001b[0m\u001b[0;34m\u001b[0m\u001b[0;34m\u001b[0m\u001b[0m\n\u001b[1;32m      3\u001b[0m   \u001b[0mprint\u001b[0m\u001b[0;34m(\u001b[0m\u001b[0;34m\"x\"\u001b[0m\u001b[0;34m)\u001b[0m\u001b[0;34m\u001b[0m\u001b[0;34m\u001b[0m\u001b[0m\n",
            "\u001b[0;31mNameError\u001b[0m: name 'hello2' is not defined"
          ]
        }
      ]
    },
    {
      "cell_type": "markdown",
      "source": [
        "함수를 먼저 호출하면 함수가 정의(define)되지 않았다는 에러가 발생합니다. 왜냐하면 파이썬 코드는 위에서 아래로 순차적으로 실행되기 때문입니다. 반드시 함수를 먼저 만든 뒤에 함수를 호출해야 합니다."
      ],
      "metadata": {
        "id": "a0WCaFtJZT5p"
      }
    },
    {
      "cell_type": "markdown",
      "source": [
        "### 빈 함수 만들기"
      ],
      "metadata": {
        "id": "fBYqHujdZXqy"
      }
    },
    {
      "cell_type": "code",
      "source": [
        "# 내용이 없는 빈 함수를 만들 때는 코드 부분에 pass를 넣어줍니다.\n",
        "def fun():\n",
        "  pass"
      ],
      "metadata": {
        "id": "Ing4tVWwZQWd"
      },
      "execution_count": 5,
      "outputs": []
    },
    {
      "cell_type": "code",
      "source": [
        "def 설거지():\n",
        "  그릇모으기()\n",
        "  세제뿌리기()\n",
        "  던지기()\n",
        "  \n",
        "  def 그릇모으기():\n",
        "    pass\n",
        "  def 세제뿌리기():\n",
        "    pass\n",
        "  def 던지기():\n",
        "    pass\n"
      ],
      "metadata": {
        "id": "eYv-uR7nXC-f"
      },
      "execution_count": 6,
      "outputs": []
    },
    {
      "cell_type": "markdown",
      "source": [
        "나중에 다른 사람이 만든 파이썬 소스 코드를 보다 보면 pass를 자주 접할 수 있습니다.\n",
        "\n",
        "pass는 아무 일을 하지 않아도 함수의 틀을 유지할 필요가 있을 때 사용합니다."
      ],
      "metadata": {
        "id": "FAqscQPfgj8r"
      }
    },
    {
      "cell_type": "markdown",
      "source": [
        "## 매개변수 (parameter)"
      ],
      "metadata": {
        "id": "kilXJUWkZjZC"
      }
    },
    {
      "cell_type": "markdown",
      "source": [
        "함수에서 값을 받으려면 ( )(괄호) 안에 변수 이름을 지정해주면 됩니다. 특히 이 변수를 매개변수(parameter)라고 부릅니다.\n",
        "\n",
        "```\n",
        "def 함수이름(매개변수1, 매개변수2):\n",
        "    코드\n",
        "```"
      ],
      "metadata": {
        "id": "E78p95CvdR9w"
      }
    },
    {
      "cell_type": "code",
      "source": [
        "def plus(a, b):\n",
        "  print(a + b)"
      ],
      "metadata": {
        "id": "7BbamUj5dUEa"
      },
      "execution_count": 7,
      "outputs": []
    },
    {
      "cell_type": "code",
      "source": [
        "plus(14, 16)"
      ],
      "metadata": {
        "colab": {
          "base_uri": "https://localhost:8080/"
        },
        "id": "5IvNJiOadXFQ",
        "outputId": "6464a433-4644-4833-f8c4-55b4a79bf1cd"
      },
      "execution_count": 8,
      "outputs": [
        {
          "output_type": "stream",
          "name": "stdout",
          "text": [
            "30\n"
          ]
        }
      ]
    },
    {
      "cell_type": "code",
      "source": [],
      "metadata": {
        "id": "7DxRURxFYj7d"
      },
      "execution_count": null,
      "outputs": []
    },
    {
      "cell_type": "markdown",
      "source": [
        "함수를 호출할 때 넣는 값을 인수(argument)라고 부릅니다."
      ],
      "metadata": {
        "id": "79ZgXKffdaIE"
      }
    },
    {
      "cell_type": "markdown",
      "source": [
        "## 함수의 결과를 반환하기"
      ],
      "metadata": {
        "id": "QXyRsdQRdfcx"
      }
    },
    {
      "cell_type": "markdown",
      "source": [
        "함수 안에서 return을 사용하면 값을 함수 바깥으로 반환합니다(return에 값을 지정하지 않으면 None을 반환).\n",
        "\n",
        "```\n",
        "def 함수이름(매개변수):\n",
        "    return 반환값\n",
        "```"
      ],
      "metadata": {
        "id": "002t4GWpdlKr"
      }
    },
    {
      "cell_type": "code",
      "source": [
        "def minus(a, b):\n",
        "  c = a - b\n",
        "  return c\n",
        "  "
      ],
      "metadata": {
        "id": "687JFw4tdZVz"
      },
      "execution_count": 9,
      "outputs": []
    },
    {
      "cell_type": "code",
      "source": [
        "minus(10, 20)"
      ],
      "metadata": {
        "colab": {
          "base_uri": "https://localhost:8080/"
        },
        "id": "AHYJBXNHdwrC",
        "outputId": "c72c8cfe-5727-422f-e8c2-06b31df94a23"
      },
      "execution_count": 11,
      "outputs": [
        {
          "output_type": "execute_result",
          "data": {
            "text/plain": [
              "-10"
            ]
          },
          "metadata": {},
          "execution_count": 11
        }
      ]
    },
    {
      "cell_type": "code",
      "source": [
        "def lotto():\n",
        "  print(f\"실행: {45}\")\n",
        "  return 30  #리턴값이 없으면 none으로 나옴\n",
        "\n",
        "a = lotto()\n",
        "print(f\"반환: {a}\")"
      ],
      "metadata": {
        "colab": {
          "base_uri": "https://localhost:8080/"
        },
        "id": "y7MVcWTXaFW3",
        "outputId": "528bf541-d767-4223-99c3-da458287c2f4"
      },
      "execution_count": 17,
      "outputs": [
        {
          "output_type": "stream",
          "name": "stdout",
          "text": [
            "실행: 45\n",
            "반환: 30\n"
          ]
        }
      ]
    },
    {
      "cell_type": "markdown",
      "source": [
        "return으로 반환하는 값은 반환값이라고 하며 함수를 호출해준 바깥에 결과를 알려주기 위해 사용합니다."
      ],
      "metadata": {
        "id": "Ncoqgxukd3Ox"
      }
    },
    {
      "cell_type": "code",
      "source": [
        "# 반환값은 변수에 저장하지 않고 바로 다른 함수에 넣을 수도 있습니다.\n",
        "print(lotto())"
      ],
      "metadata": {
        "id": "s0Fm428vd0XU",
        "colab": {
          "base_uri": "https://localhost:8080/"
        },
        "outputId": "dc6f45cb-639c-4722-b140-97caf6c356e8"
      },
      "execution_count": 18,
      "outputs": [
        {
          "output_type": "stream",
          "name": "stdout",
          "text": [
            "실행: 45\n",
            "30\n"
          ]
        }
      ]
    },
    {
      "cell_type": "markdown",
      "source": [
        "### return으로 함수 중간에서 빠져나오기"
      ],
      "metadata": {
        "id": "MLqxIu1cd95p"
      }
    },
    {
      "cell_type": "code",
      "source": [
        "def concat(a,b): # 문자열을 연결하기 위해 설계\n",
        "      # 숫자는 ㄴㄴ\n",
        "      if type(a) != str:\n",
        "        print(\"첫번째 인자가 정수입니다.\")\n",
        "        return\n",
        "      if type(b) != str:\n",
        "        print(\"두번째 인자가 문자열이 아입~니다.\")\n",
        "        return\n",
        "      return a + b\n",
        "r = concat(\"1\", \"1\")\n",
        "print(f\"Return : {r}\")\n"
      ],
      "metadata": {
        "colab": {
          "base_uri": "https://localhost:8080/"
        },
        "id": "CWp0SzxVeBVc",
        "outputId": "a35b5e09-18ef-4c1f-e1b7-6645228c0ed8"
      },
      "execution_count": 23,
      "outputs": [
        {
          "output_type": "stream",
          "name": "stdout",
          "text": [
            "Return : 11\n"
          ]
        }
      ]
    },
    {
      "cell_type": "code",
      "source": [
        "def loop(a, b, c):\n",
        "  for i in range(a, b+1):\n",
        "    print(i)\n",
        "    if i % c == 0:\n",
        "      print(f\"** {c}의 배수\")\n",
        "      return i\n",
        "  return 0\n"
      ],
      "metadata": {
        "id": "AfFCa5FueXe7"
      },
      "execution_count": 32,
      "outputs": []
    },
    {
      "cell_type": "code",
      "source": [
        "loop(19, 50, 17)"
      ],
      "metadata": {
        "colab": {
          "base_uri": "https://localhost:8080/"
        },
        "id": "sHpbndS-gfP0",
        "outputId": "b14a7eec-f3e7-4390-a8ae-4b7741157eed"
      },
      "execution_count": 34,
      "outputs": [
        {
          "output_type": "stream",
          "name": "stdout",
          "text": [
            "19\n",
            "20\n",
            "21\n",
            "22\n",
            "23\n",
            "24\n",
            "25\n",
            "26\n",
            "27\n",
            "28\n",
            "29\n",
            "30\n",
            "31\n",
            "32\n",
            "33\n",
            "34\n",
            "** 17의 배수\n"
          ]
        },
        {
          "output_type": "execute_result",
          "data": {
            "text/plain": [
              "34"
            ]
          },
          "metadata": {},
          "execution_count": 34
        }
      ]
    },
    {
      "cell_type": "markdown",
      "source": [
        "return은 함수 중간에서 빠져나올 때 자주 사용합니다. 보통은 if와 조합해서 특정 조건일 때 함수 중간에서 빠져나옵니다."
      ],
      "metadata": {
        "id": "ekWXLlQQeLd1"
      }
    },
    {
      "cell_type": "markdown",
      "source": [
        "## 함수에서 값을 여러 개 반환하기"
      ],
      "metadata": {
        "id": "dVze2R3qfTpX"
      }
    },
    {
      "cell_type": "markdown",
      "source": [
        "함수에서 값을 여러 개 반환할 때는 다음과 같이 return에 값이나 변수를 ,(콤마)로 구분해서 지정하면 됩니다.\n",
        "\n",
        "```\n",
        "def 함수이름(매개변수):\n",
        "    return 반환값1, 반환값2\n",
        "```"
      ],
      "metadata": {
        "id": "rUbkDeGIfXnS"
      }
    },
    {
      "cell_type": "code",
      "source": [
        "def my_divmod(a, b):\n",
        "  c = a // b #몫\n",
        "  d = a % b\n",
        "  return c, d"
      ],
      "metadata": {
        "id": "ObAqYO7veI6x"
      },
      "execution_count": 37,
      "outputs": []
    },
    {
      "cell_type": "code",
      "source": [
        "my_divmod(100, 3)"
      ],
      "metadata": {
        "colab": {
          "base_uri": "https://localhost:8080/"
        },
        "id": "5iXQXQBYfcKX",
        "outputId": "d60316f6-9542-4c86-a495-f631c9c2d5d2"
      },
      "execution_count": 38,
      "outputs": [
        {
          "output_type": "execute_result",
          "data": {
            "text/plain": [
              "(33, 1)"
            ]
          },
          "metadata": {},
          "execution_count": 38
        }
      ]
    },
    {
      "cell_type": "code",
      "source": [
        "a, b = my_divmod(100, 3)\n",
        "print(a, b)"
      ],
      "metadata": {
        "colab": {
          "base_uri": "https://localhost:8080/"
        },
        "id": "6k3iUnD5if6x",
        "outputId": "325ad4fc-a2c2-4856-fc64-1ab571ee2d54"
      },
      "execution_count": 39,
      "outputs": [
        {
          "output_type": "stream",
          "name": "stdout",
          "text": [
            "33 1\n"
          ]
        }
      ]
    },
    {
      "cell_type": "markdown",
      "source": [
        "# 함수 심화"
      ],
      "metadata": {
        "id": "se7h4WO6gtSJ"
      }
    },
    {
      "cell_type": "markdown",
      "source": [
        "## 위치 인수와 리스트 언패킹 사용하기"
      ],
      "metadata": {
        "id": "Br_x783Qikcb"
      }
    },
    {
      "cell_type": "markdown",
      "source": [
        "함수에 인수를 순서대로 넣는 방식을 위치 인수(positional argument)라고 합니다. 즉, 인수의 위치가 정해져 있습니다."
      ],
      "metadata": {
        "id": "S4KDsEJVingi"
      }
    },
    {
      "cell_type": "code",
      "source": [
        "print(10, 20, 30)"
      ],
      "metadata": {
        "colab": {
          "base_uri": "https://localhost:8080/"
        },
        "id": "HizkrioCffxH",
        "outputId": "7bc3247f-feae-435f-a5a9-9322a9351e09"
      },
      "execution_count": 41,
      "outputs": [
        {
          "output_type": "stream",
          "name": "stdout",
          "text": [
            "10 20 30\n"
          ]
        }
      ]
    },
    {
      "cell_type": "code",
      "source": [],
      "metadata": {
        "id": "BWomefpEjb1C"
      },
      "execution_count": null,
      "outputs": []
    },
    {
      "cell_type": "markdown",
      "source": [
        "### 위치 인수를 사용하는 함수를 만들고 호출하기"
      ],
      "metadata": {
        "id": "wnm64LUKitz3"
      }
    },
    {
      "cell_type": "code",
      "source": [
        "def print_numbers(a, b, c):\n",
        "  print(a)\n",
        "  print(b)\n",
        "  print(c)"
      ],
      "metadata": {
        "id": "_LVtrOSWipwt"
      },
      "execution_count": 42,
      "outputs": []
    },
    {
      "cell_type": "code",
      "source": [
        "print(10, 20, 30)"
      ],
      "metadata": {
        "colab": {
          "base_uri": "https://localhost:8080/"
        },
        "id": "NpYgDLcNi0bB",
        "outputId": "0f3c0c91-0b23-4dec-aba1-1534d75a3de0"
      },
      "execution_count": 44,
      "outputs": [
        {
          "output_type": "stream",
          "name": "stdout",
          "text": [
            "10 20 30\n"
          ]
        }
      ]
    },
    {
      "cell_type": "markdown",
      "source": [
        "### 언패킹 사용하기"
      ],
      "metadata": {
        "id": "i49Ug1QRi-dq"
      }
    },
    {
      "cell_type": "markdown",
      "source": [
        "인수를 순서대로 넣을 때는 리스트나 튜플을 사용할 수도 있습니다. 다음과 같이 리스트 또는 튜플 앞에 *(애스터리스크)를 붙여서 함수에 넣어주면 됩니다.\n",
        "\n",
        "* `함수(*리스트)`\n",
        "* `함수(*튜플)`"
      ],
      "metadata": {
        "id": "aL8BAhAqjB9p"
      }
    },
    {
      "cell_type": "code",
      "source": [
        "x = [1 **(1/2), 2 ** (1/2), 3 ** (1/2)]\n",
        "x"
      ],
      "metadata": {
        "colab": {
          "base_uri": "https://localhost:8080/"
        },
        "id": "6xNy8CL7i2wl",
        "outputId": "8c438134-8c1c-4215-db69-4b168333e0fb"
      },
      "execution_count": 45,
      "outputs": [
        {
          "output_type": "execute_result",
          "data": {
            "text/plain": [
              "[1.0, 1.4142135623730951, 1.7320508075688772]"
            ]
          },
          "metadata": {},
          "execution_count": 45
        }
      ]
    },
    {
      "cell_type": "code",
      "source": [
        "print_numbers(x[0], x[1], x[2]), print_numbers(*x)"
      ],
      "metadata": {
        "colab": {
          "base_uri": "https://localhost:8080/"
        },
        "id": "LWndq-DxkTxE",
        "outputId": "ad8c8e6b-4f80-4e8c-fff7-f1f219e7c3a8"
      },
      "execution_count": 48,
      "outputs": [
        {
          "output_type": "stream",
          "name": "stdout",
          "text": [
            "1.0\n",
            "1.4142135623730951\n",
            "1.7320508075688772\n",
            "1.0\n",
            "1.4142135623730951\n",
            "1.7320508075688772\n"
          ]
        },
        {
          "output_type": "execute_result",
          "data": {
            "text/plain": [
              "(None, None)"
            ]
          },
          "metadata": {},
          "execution_count": 48
        }
      ]
    },
    {
      "cell_type": "code",
      "source": [
        "# 단, 이때 함수의 매개변수 개수와 리스트의 요소 개수는 같아야 합니다.\n",
        "# 만약 개수가 다르면 함수를 호출할 수 없습니다.\n",
        "print_numbers(*[10], [20])"
      ],
      "metadata": {
        "id": "Huyu1QyEjHwU",
        "colab": {
          "base_uri": "https://localhost:8080/",
          "height": 209
        },
        "outputId": "f411ad70-a25d-42ed-d7f5-f47ad1393b17"
      },
      "execution_count": 49,
      "outputs": [
        {
          "output_type": "error",
          "ename": "TypeError",
          "evalue": "ignored",
          "traceback": [
            "\u001b[0;31m---------------------------------------------------------------------------\u001b[0m",
            "\u001b[0;31mTypeError\u001b[0m                                 Traceback (most recent call last)",
            "\u001b[0;32m<ipython-input-49-f2f10cfc2b07>\u001b[0m in \u001b[0;36m<module>\u001b[0;34m\u001b[0m\n\u001b[1;32m      1\u001b[0m \u001b[0;31m# 단, 이때 함수의 매개변수 개수와 리스트의 요소 개수는 같아야 합니다.\u001b[0m\u001b[0;34m\u001b[0m\u001b[0;34m\u001b[0m\u001b[0;34m\u001b[0m\u001b[0m\n\u001b[1;32m      2\u001b[0m \u001b[0;31m# 만약 개수가 다르면 함수를 호출할 수 없습니다.\u001b[0m\u001b[0;34m\u001b[0m\u001b[0;34m\u001b[0m\u001b[0;34m\u001b[0m\u001b[0m\n\u001b[0;32m----> 3\u001b[0;31m \u001b[0mprint_numbers\u001b[0m\u001b[0;34m(\u001b[0m\u001b[0;34m*\u001b[0m\u001b[0;34m[\u001b[0m\u001b[0;36m10\u001b[0m\u001b[0;34m]\u001b[0m\u001b[0;34m,\u001b[0m \u001b[0;34m[\u001b[0m\u001b[0;36m20\u001b[0m\u001b[0;34m]\u001b[0m\u001b[0;34m)\u001b[0m\u001b[0;34m\u001b[0m\u001b[0;34m\u001b[0m\u001b[0m\n\u001b[0m",
            "\u001b[0;31mTypeError\u001b[0m: print_numbers() missing 1 required positional argument: 'c'"
          ]
        }
      ]
    },
    {
      "cell_type": "markdown",
      "source": [
        "### 가변 인수 함수 만들기"
      ],
      "metadata": {
        "id": "wa5pSffKmuzR"
      }
    },
    {
      "cell_type": "markdown",
      "source": [
        "그럼 위치 인수와 리스트 언패킹은 어디에 사용할까요? 이 기능들은 인수의 개수가 정해지지 않은 가변 인수(variable argument)에 사용합니다. 즉, 같은 함수에 인수 한 개를 넣을 수도 있고, 열 개를 넣을 수도 있습니다. 또는, 인수를 넣지 않을 수도 있습니다.\n",
        "\n",
        "다음과 같이 가변 인수 함수는 매개변수 앞에 *를 붙여서 만듭니다.\n",
        "\n",
        "```\n",
        "def 함수이름(*매개변수):\n",
        "    코드\n",
        "```"
      ],
      "metadata": {
        "id": "9YN1s8ktmyN0"
      }
    },
    {
      "cell_type": "code",
      "source": [
        "def print_numbers(*args):\n",
        "  if not len(args):\n",
        "    print(\"매개변수넣어라\")\n",
        "    return\n",
        "  if len(args) == 2:\n",
        "    print(f\"연결: {args[0]} + {args[1]}\")\n",
        "    return str(args[0]) + str(args[1])\n",
        "  for arg in args:\n",
        "    print(arg)\n"
      ],
      "metadata": {
        "id": "fqMZulXymo5B"
      },
      "execution_count": 60,
      "outputs": []
    },
    {
      "cell_type": "code",
      "source": [],
      "metadata": {
        "id": "_EaeQPPKlA0z"
      },
      "execution_count": null,
      "outputs": []
    },
    {
      "cell_type": "markdown",
      "source": [
        "매개변수 이름은 원하는 대로 지어도 되지만 관례적으로 arguments를 줄여서 args로 사용합니다. 특히 이 args는 튜플이라서 for로 반복할 수 있습니다.\n",
        "\n"
      ],
      "metadata": {
        "id": "sFNxiUl1m_rK"
      }
    },
    {
      "cell_type": "code",
      "source": [
        "print_numbers()\n",
        "print_numbers(10)\n",
        "print_numbers(10, 20)\n",
        "print_numbers(*list(range(0, 100, 30)))"
      ],
      "metadata": {
        "colab": {
          "base_uri": "https://localhost:8080/"
        },
        "id": "HbabXu0Vm9j_",
        "outputId": "3a2b50d6-1d03-4c9c-db8e-da9a9399764d"
      },
      "execution_count": 64,
      "outputs": [
        {
          "output_type": "stream",
          "name": "stdout",
          "text": [
            "매개변수넣어라\n",
            "10\n",
            "연결: 10 + 20\n",
            "0\n",
            "30\n",
            "60\n",
            "90\n"
          ]
        }
      ]
    },
    {
      "cell_type": "code",
      "source": [
        "# 이렇게 함수에 인수 여러 개를 직접 넣어도 되고, 리스트(튜플) 언패킹을 사용해도 됩니다.\n",
        "print_numbers(*list(range(0, 100, 30)))"
      ],
      "metadata": {
        "colab": {
          "base_uri": "https://localhost:8080/"
        },
        "id": "h2cjU8fHnDvH",
        "outputId": "b2ca133d-81d9-40ff-c653-174c847b0780"
      },
      "execution_count": 65,
      "outputs": [
        {
          "output_type": "stream",
          "name": "stdout",
          "text": [
            "0\n",
            "30\n",
            "60\n",
            "90\n"
          ]
        }
      ]
    },
    {
      "cell_type": "markdown",
      "source": [
        "### 고정 인수와 가변 인수를 함께 사용하기"
      ],
      "metadata": {
        "id": "9309K7dBnOp5"
      }
    },
    {
      "cell_type": "markdown",
      "source": [
        "고정 인수와 가변 인수를 함께 사용할 때는 고정 매개변수를 먼저 지정하고, 그 다음 매개변수에 *를 붙여주면 됩니다."
      ],
      "metadata": {
        "id": "RRRH-UornQXQ"
      }
    },
    {
      "cell_type": "code",
      "source": [
        "def my_fun(a, *args):\n",
        "  if a == \"sum\":\n",
        "    return sum(args)\n",
        "  if a == \"avg\":\n",
        "    return sum(args) // len(args)\n",
        "  if a == \"count\":\n",
        "    return len(args)\n",
        "  print(\"지원 ㄴㄴ\")"
      ],
      "metadata": {
        "id": "Sjxzq9iknLKA"
      },
      "execution_count": 86,
      "outputs": []
    },
    {
      "cell_type": "code",
      "source": [
        "my_fun(\"sum\", 1, 2, 3, 4, 5)"
      ],
      "metadata": {
        "colab": {
          "base_uri": "https://localhost:8080/"
        },
        "id": "YvW3qCKEnc7k",
        "outputId": "d7d51b6d-765f-4927-bd2f-05c255f0cc12"
      },
      "execution_count": 87,
      "outputs": [
        {
          "output_type": "execute_result",
          "data": {
            "text/plain": [
              "15"
            ]
          },
          "metadata": {},
          "execution_count": 87
        }
      ]
    },
    {
      "cell_type": "code",
      "source": [
        "my_fun(\"avg\", 1, 2, 3, 4, 5)"
      ],
      "metadata": {
        "colab": {
          "base_uri": "https://localhost:8080/"
        },
        "id": "_tMNSpnonke-",
        "outputId": "0cc7b956-f63e-40f0-dc17-5d4349382d25"
      },
      "execution_count": 85,
      "outputs": [
        {
          "output_type": "execute_result",
          "data": {
            "text/plain": [
              "3"
            ]
          },
          "metadata": {},
          "execution_count": 85
        }
      ]
    },
    {
      "cell_type": "code",
      "source": [
        "my_fun(\"count\", 1, 2, 3, 4, 5)"
      ],
      "metadata": {
        "colab": {
          "base_uri": "https://localhost:8080/"
        },
        "id": "F_cUrlktnm1E",
        "outputId": "f392b608-1fe8-4cf4-acd7-a6b0c0b8bed5"
      },
      "execution_count": 77,
      "outputs": [
        {
          "output_type": "execute_result",
          "data": {
            "text/plain": [
              "5"
            ]
          },
          "metadata": {},
          "execution_count": 77
        }
      ]
    },
    {
      "cell_type": "markdown",
      "source": [
        "단, 이때 def print_numbers(*args, a):처럼 *args가 고정 매개변수보다 앞쪽에 오면 안 됩니다. 매개변수 순서에서 *args는 반드시 가장 뒤쪽에 와야 합니다."
      ],
      "metadata": {
        "id": "ajTZFGcBnZ-M"
      }
    },
    {
      "cell_type": "markdown",
      "source": [
        "## 키워드 인수 사용하기"
      ],
      "metadata": {
        "id": "qkHyiHdKnk7r"
      }
    },
    {
      "cell_type": "markdown",
      "source": [
        "파이썬에서는 인수의 순서와 용도를 매번 기억하지 않도록 키워드 인수(keyword argument)라는 기능을 제공합니다. 키워드 인수는 말 그대로 인수에 이름(키워드)을 붙이는 기능인데 키워드=값 형식으로 사용합니다.\n",
        "\n",
        "* `함수(키워드=값)`"
      ],
      "metadata": {
        "id": "R5nut9cynpVa"
      }
    },
    {
      "cell_type": "code",
      "source": [
        "def introduce(name, age, address):\n",
        "  print(f\"이름: {name}\")\n",
        "  print(f\"나이: {age}\")\n",
        "  print(f\"주소: {address}\")"
      ],
      "metadata": {
        "id": "FqWZuiT1nqCz"
      },
      "execution_count": 82,
      "outputs": []
    },
    {
      "cell_type": "code",
      "source": [
        "introduce(\"오동동\", 20, \"저기 어딘가\")"
      ],
      "metadata": {
        "colab": {
          "base_uri": "https://localhost:8080/"
        },
        "id": "QnDpwGAGnt69",
        "outputId": "d9fca5e2-b131-4347-edf7-62797c479673"
      },
      "execution_count": 83,
      "outputs": [
        {
          "output_type": "stream",
          "name": "stdout",
          "text": [
            "이름: 오동동\n",
            "나이: 20\n",
            "주소: 저기 어딘가\n"
          ]
        }
      ]
    },
    {
      "cell_type": "code",
      "source": [
        "# 키워드 인수를 사용하면 인수의 순서를 맞추지 않아도 키워드에 해당하는 값이 들어갑니다.\n",
        "introduce(name = \"오동동\", age = 20, address = \"저기 어딘가\")"
      ],
      "metadata": {
        "colab": {
          "base_uri": "https://localhost:8080/"
        },
        "id": "CTFSBBSNn2Zu",
        "outputId": "cef3350f-6c59-4a44-d114-42f139db6f64"
      },
      "execution_count": null,
      "outputs": [
        {
          "output_type": "stream",
          "name": "stdout",
          "text": [
            "이름:  홍길동\n",
            "나이:  30\n",
            "주소:  서울시 용산구 이촌동\n"
          ]
        }
      ]
    },
    {
      "cell_type": "markdown",
      "source": [
        "## 키워드 인수와 딕셔너리 언패킹 사용하기"
      ],
      "metadata": {
        "id": "SBCFd3a-oBKj"
      }
    },
    {
      "cell_type": "markdown",
      "source": [
        "지금까지 함수를 호출할 때 키워드 인수로 직접 값을 넣었습니다. 이번에는 딕셔너리를 사용해서 키워드 인수로 값을 넣는 딕셔너리 언패킹을 사용해보겠습니다. 다음과 같이 딕셔너리 앞에 **(애스터리스크 두 개)를 붙여서 함수에 넣어줍니다.\n",
        "\n",
        "* `함수(**딕셔너리)`"
      ],
      "metadata": {
        "id": "P1kRkxtVoCSk"
      }
    },
    {
      "cell_type": "code",
      "source": [
        "def introduce(name, age, address):\n",
        "    print(f'이름 : {name}')\n",
        "    print(f'나이 : {age}')\n",
        "    print(f'주소 : {address}')"
      ],
      "metadata": {
        "id": "nrSsuSncn6SP"
      },
      "execution_count": 109,
      "outputs": []
    },
    {
      "cell_type": "code",
      "source": [
        "a = {\n",
        "    \"name\": \"고길동\",\n",
        "    \"age\": 40,\n",
        "    \"address\": \"쌍문동\"\n",
        "}"
      ],
      "metadata": {
        "id": "CQCEtTfNx9fN"
      },
      "execution_count": 110,
      "outputs": []
    },
    {
      "cell_type": "code",
      "source": [
        "introduce(*a)"
      ],
      "metadata": {
        "colab": {
          "base_uri": "https://localhost:8080/"
        },
        "id": "iS47wfi-yA28",
        "outputId": "0cc9ef46-c59c-421b-fddd-ef24e5220ae2"
      },
      "execution_count": 111,
      "outputs": [
        {
          "output_type": "stream",
          "name": "stdout",
          "text": [
            "이름 : name\n",
            "나이 : age\n",
            "주소 : address\n"
          ]
        }
      ]
    },
    {
      "cell_type": "markdown",
      "source": [
        "이제 딕셔너리에 '키워드': 값 형식으로 인수를 저장하고, 앞에 **를 붙여서 함수에 넣어줍니다. 이때 딕셔너리의 키워드(키)는 반드시 문자열 형태라야 합니다."
      ],
      "metadata": {
        "id": "Dq6dnAJMoStb"
      }
    },
    {
      "cell_type": "code",
      "source": [
        "introduce(**a)"
      ],
      "metadata": {
        "colab": {
          "base_uri": "https://localhost:8080/"
        },
        "id": "r1MkQSj8oRo3",
        "outputId": "8140e758-b749-4660-8297-caf0b105e97f"
      },
      "execution_count": 112,
      "outputs": [
        {
          "output_type": "stream",
          "name": "stdout",
          "text": [
            "이름 : 고길동\n",
            "나이 : 40\n",
            "주소 : 쌍문동\n"
          ]
        }
      ]
    },
    {
      "cell_type": "markdown",
      "source": [
        "**x처럼 딕셔너리를 언패킹하면 딕셔너리의 값들이 함수의 인수로 들어갑니다."
      ],
      "metadata": {
        "id": "ZmNL-BnnoW-G"
      }
    },
    {
      "cell_type": "markdown",
      "source": [
        "딕셔너리 언패킹을 사용할 때는 함수의 매개변수 이름과 딕셔너리의 키 이름이 같아야 합니다. 또한, 매개변수 개수와 딕셔너리 키의 개수도 같아야 합니다."
      ],
      "metadata": {
        "id": "n2FrJj1Eob1S"
      }
    },
    {
      "cell_type": "code",
      "source": [
        "b = {\n",
        "    \"name\": \"고길동\",\n",
        "    \"aging\": 40,\n",
        "    \"address\": \"쌍문동\"\n",
        "}"
      ],
      "metadata": {
        "id": "lqwpzhRboWcM"
      },
      "execution_count": 113,
      "outputs": []
    },
    {
      "cell_type": "code",
      "source": [
        "introduce(**b)"
      ],
      "metadata": {
        "colab": {
          "base_uri": "https://localhost:8080/",
          "height": 172
        },
        "id": "LP1qKgEiyIQN",
        "outputId": "ad4760be-54f0-4305-facb-82c2581b7428"
      },
      "execution_count": 114,
      "outputs": [
        {
          "output_type": "error",
          "ename": "TypeError",
          "evalue": "ignored",
          "traceback": [
            "\u001b[0;31m---------------------------------------------------------------------------\u001b[0m",
            "\u001b[0;31mTypeError\u001b[0m                                 Traceback (most recent call last)",
            "\u001b[0;32m<ipython-input-114-f7c0aa67c5e8>\u001b[0m in \u001b[0;36m<module>\u001b[0;34m\u001b[0m\n\u001b[0;32m----> 1\u001b[0;31m \u001b[0mintroduce\u001b[0m\u001b[0;34m(\u001b[0m\u001b[0;34m**\u001b[0m\u001b[0mb\u001b[0m\u001b[0;34m)\u001b[0m\u001b[0;34m\u001b[0m\u001b[0;34m\u001b[0m\u001b[0m\n\u001b[0m",
            "\u001b[0;31mTypeError\u001b[0m: introduce() got an unexpected keyword argument 'aging'"
          ]
        }
      ]
    },
    {
      "cell_type": "markdown",
      "source": [
        "### *를 두 번 사용하는 이유"
      ],
      "metadata": {
        "id": "jRQmc3eAohLK"
      }
    },
    {
      "cell_type": "markdown",
      "source": [
        "그런데 딕셔너리는 **처럼 *를 두 번 사용할까요? 왜냐하면 딕셔너리는 키-값 쌍 형태로 값이 저장되어 있기 때문입니다. 먼저 *를 한 번만 사용해서 함수를 호출해봅니다.\n",
        "\n"
      ],
      "metadata": {
        "id": "yrtcCkc9olTD"
      }
    },
    {
      "cell_type": "code",
      "source": [
        "introduce(*a)"
      ],
      "metadata": {
        "colab": {
          "base_uri": "https://localhost:8080/"
        },
        "id": "KT2CfVgMoeg9",
        "outputId": "da864599-7990-4fe9-f996-5e7e7b3a5d74"
      },
      "execution_count": 116,
      "outputs": [
        {
          "output_type": "stream",
          "name": "stdout",
          "text": [
            "이름 : 고길동\n",
            "나이 : 40\n",
            "주소 : 쌍문동\n"
          ]
        }
      ]
    },
    {
      "cell_type": "markdown",
      "source": [
        "딕셔너리를 한 번 언패킹하면 키를 사용한다는 뜻이 됩니다. 따라서 **처럼 딕셔너리를 두 번 언패킹하여 값을 사용하도록 만들어야 합니다."
      ],
      "metadata": {
        "id": "SuRwHU7wopyB"
      }
    },
    {
      "cell_type": "code",
      "source": [
        "introduce(**a)"
      ],
      "metadata": {
        "colab": {
          "base_uri": "https://localhost:8080/"
        },
        "id": "7tMWJjI3on6E",
        "outputId": "ded548fd-ac2b-4cdb-e488-a7529118b094"
      },
      "execution_count": 117,
      "outputs": [
        {
          "output_type": "stream",
          "name": "stdout",
          "text": [
            "이름 : 고길동\n",
            "나이 : 40\n",
            "주소 : 쌍문동\n"
          ]
        }
      ]
    },
    {
      "cell_type": "markdown",
      "source": [
        "### 키워드 인수를 사용하는 가변 인수 함수 만들기"
      ],
      "metadata": {
        "id": "g-tHUmd8ovY8"
      }
    },
    {
      "cell_type": "markdown",
      "source": [
        "키워드 인수를 사용하는 가변 인수 함수는 매개변수 앞에 **를 붙여서 만듭니다.\n",
        "\n",
        "```\n",
        "def 함수이름(**매개변수):\n",
        "    코드\n",
        "```"
      ],
      "metadata": {
        "id": "LbOQCn4Oo3e3"
      }
    },
    {
      "cell_type": "code",
      "source": [
        "def introduce(**kwargs):\n",
        "  for kw, args in kwargs.items():\n",
        "    print(f\"{kw} : {args}\")\n"
      ],
      "metadata": {
        "id": "OEM7FpY3osQx"
      },
      "execution_count": 122,
      "outputs": []
    },
    {
      "cell_type": "code",
      "source": [
        "introduce(weight = 172.5, height = 80, nick = 'gg')"
      ],
      "metadata": {
        "colab": {
          "base_uri": "https://localhost:8080/"
        },
        "id": "0c0tUwNFqXTA",
        "outputId": "b1a83ad5-6cdc-4f96-a8ce-ee1f8d1b9e6a"
      },
      "execution_count": 90,
      "outputs": [
        {
          "output_type": "stream",
          "name": "stdout",
          "text": [
            "weight : 172.5\n",
            "height : 80\n",
            "nick : gg\n"
          ]
        }
      ]
    },
    {
      "cell_type": "markdown",
      "source": [
        "매개변수 이름은 원하는 대로 지어도 되지만 관례적으로 keyword arguments를 줄여서 kwargs로 사용합니다. 특히 이 kwargs는 딕셔너리라서 for로 반복할 수 있습니다."
      ],
      "metadata": {
        "id": "7OzVuQaXpAg5"
      }
    },
    {
      "cell_type": "code",
      "source": [
        "introduce(**b)"
      ],
      "metadata": {
        "colab": {
          "base_uri": "https://localhost:8080/"
        },
        "id": "Y73gjRAJo-6J",
        "outputId": "ff463a7a-6827-4f0e-e1fc-f7fced46cdf4"
      },
      "execution_count": 123,
      "outputs": [
        {
          "output_type": "stream",
          "name": "stdout",
          "text": [
            "name : 고길동\n",
            "aging : 40\n",
            "address : 쌍문동\n"
          ]
        }
      ]
    },
    {
      "cell_type": "code",
      "source": [
        "def introduce(**kwargs): # kw + args : kwargs (dictionary)\n",
        "    print(f\"이름 : {kwargs['name']}\")\n",
        "    print(f\"나이 : {kwargs['age']}\")\n",
        "    print(f\"주소 : {kwargs['address']}\")\n",
        "\n",
        "# introduce(**a)\n",
        "introduce(name=\"붕붕이\")"
      ],
      "metadata": {
        "colab": {
          "base_uri": "https://localhost:8080/",
          "height": 354
        },
        "id": "suEAUv11rzVJ",
        "outputId": "3136ea02-d5b9-4603-b74e-a2a1a0fdea4b"
      },
      "execution_count": 124,
      "outputs": [
        {
          "output_type": "stream",
          "name": "stdout",
          "text": [
            "이름 : 붕붕이\n"
          ]
        },
        {
          "output_type": "error",
          "ename": "KeyError",
          "evalue": "ignored",
          "traceback": [
            "\u001b[0;31m---------------------------------------------------------------------------\u001b[0m",
            "\u001b[0;31mKeyError\u001b[0m                                  Traceback (most recent call last)",
            "\u001b[0;32m<ipython-input-124-ce96e7f52829>\u001b[0m in \u001b[0;36m<module>\u001b[0;34m\u001b[0m\n\u001b[1;32m      5\u001b[0m \u001b[0;34m\u001b[0m\u001b[0m\n\u001b[1;32m      6\u001b[0m \u001b[0;31m# introduce(**a)\u001b[0m\u001b[0;34m\u001b[0m\u001b[0;34m\u001b[0m\u001b[0;34m\u001b[0m\u001b[0m\n\u001b[0;32m----> 7\u001b[0;31m \u001b[0mintroduce\u001b[0m\u001b[0;34m(\u001b[0m\u001b[0mname\u001b[0m\u001b[0;34m=\u001b[0m\u001b[0;34m\"붕붕이\"\u001b[0m\u001b[0;34m)\u001b[0m\u001b[0;34m\u001b[0m\u001b[0;34m\u001b[0m\u001b[0m\n\u001b[0m",
            "\u001b[0;32m<ipython-input-124-ce96e7f52829>\u001b[0m in \u001b[0;36mintroduce\u001b[0;34m(**kwargs)\u001b[0m\n\u001b[1;32m      1\u001b[0m \u001b[0;32mdef\u001b[0m \u001b[0mintroduce\u001b[0m\u001b[0;34m(\u001b[0m\u001b[0;34m**\u001b[0m\u001b[0mkwargs\u001b[0m\u001b[0;34m)\u001b[0m\u001b[0;34m:\u001b[0m \u001b[0;31m# kw + args : kwargs (dictionary)\u001b[0m\u001b[0;34m\u001b[0m\u001b[0;34m\u001b[0m\u001b[0m\n\u001b[1;32m      2\u001b[0m     \u001b[0mprint\u001b[0m\u001b[0;34m(\u001b[0m\u001b[0;34mf\"이름 : {kwargs['name']}\"\u001b[0m\u001b[0;34m)\u001b[0m\u001b[0;34m\u001b[0m\u001b[0;34m\u001b[0m\u001b[0m\n\u001b[0;32m----> 3\u001b[0;31m     \u001b[0mprint\u001b[0m\u001b[0;34m(\u001b[0m\u001b[0;34mf\"나이 : {kwargs['age']}\"\u001b[0m\u001b[0;34m)\u001b[0m\u001b[0;34m\u001b[0m\u001b[0;34m\u001b[0m\u001b[0m\n\u001b[0m\u001b[1;32m      4\u001b[0m     \u001b[0mprint\u001b[0m\u001b[0;34m(\u001b[0m\u001b[0;34mf\"주소 : {kwargs['address']}\"\u001b[0m\u001b[0;34m)\u001b[0m\u001b[0;34m\u001b[0m\u001b[0;34m\u001b[0m\u001b[0m\n\u001b[1;32m      5\u001b[0m \u001b[0;34m\u001b[0m\u001b[0m\n",
            "\u001b[0;31mKeyError\u001b[0m: 'age'"
          ]
        }
      ]
    },
    {
      "cell_type": "markdown",
      "source": [
        "인수 함수를 만들 수 있습니다. 그리고 이런 함수를 호출할 때는 키워드와 인수를 각각 넣거나 딕셔너리 언패킹을 사용하면 됩니다.\n",
        "\n",
        "보통 **kwargs를 사용한 가변 인수 함수는 다음과 같이 함수 안에서 특정 키가 있는지 확인한 뒤 해당 기능을 만듭니다."
      ],
      "metadata": {
        "id": "MotN-iQjpLNW"
      }
    },
    {
      "cell_type": "code",
      "source": [
        "def introduce(**kwargs): # kw + args : kwargs (dictionary)\n",
        "    if 'name' in kwargs:\n",
        "        print(f\"이름 : {kwargs['name']}\")\n",
        "    if 'age' in kwargs:\n",
        "        print(f\"나이 : {kwargs['age']}\")\n",
        "    if 'address' in kwargs:\n",
        "        print(f\"주소 : {kwargs['address']}\")\n",
        "\n",
        "# introduce(**a)\n",
        "introduce(name=\"붕붕이\")"
      ],
      "metadata": {
        "id": "uU8cCkDIpHK-",
        "colab": {
          "base_uri": "https://localhost:8080/"
        },
        "outputId": "b8b4ebeb-9b3d-4fa8-f67f-6b2a6c79dd8c"
      },
      "execution_count": 125,
      "outputs": [
        {
          "output_type": "stream",
          "name": "stdout",
          "text": [
            "이름 : 붕붕이\n"
          ]
        }
      ]
    },
    {
      "cell_type": "code",
      "source": [
        "def introduce(**kwargs): # kw + args : kwargs (dictionary)\n",
        "    print(f\"이름 : {kwargs.get('name', '없음')}\")\n",
        "    print(f\"나이 : {kwargs.get('age', -99)}\")\n",
        "    print(f\"주소 : {kwargs.get('address', '주소불명')}\")\n",
        "\n",
        "# introduce(**a)\n",
        "introduce()\n",
        "introduce(name=\"붕붕이\", age=10, address='서울 양재천')"
      ],
      "metadata": {
        "colab": {
          "base_uri": "https://localhost:8080/"
        },
        "id": "bUkA0Wi5yt6T",
        "outputId": "bff41cc5-b17d-41ff-b921-84d9384741ce"
      },
      "execution_count": 126,
      "outputs": [
        {
          "output_type": "stream",
          "name": "stdout",
          "text": [
            "이름 : 없음\n",
            "나이 : -99\n",
            "주소 : 주소불명\n",
            "이름 : 붕붕이\n",
            "나이 : 10\n",
            "주소 : 서울 양재천\n"
          ]
        }
      ]
    },
    {
      "cell_type": "markdown",
      "source": [
        "### 고정 인수와 가변 인수(키워드 인수)를 함께 사용하기"
      ],
      "metadata": {
        "id": "s-OwRQpYpRwg"
      }
    },
    {
      "cell_type": "markdown",
      "source": [
        "고정 인수와 가변 인수(키워드 인수)를 함께 사용할 때는 다음과 같이 고정 매개변수를 먼저 지정하고, 그 다음 매개변수에 **를 붙여주면 됩니다."
      ],
      "metadata": {
        "id": "tSD6LFGTpV82"
      }
    },
    {
      "cell_type": "code",
      "source": [
        "def introduce(repeat, **kwargs): # kw + args : kwargs (dictionary)\n",
        "    for i in range(repeat):\n",
        "        print(f\"이름 : {kwargs.get('name', '없음')}\")\n",
        "        print(f\"나이 : {kwargs.get('age', -99)}\")\n",
        "        print(f\"주소 : {kwargs.get('address', '주소불명')}\")\n",
        "\n",
        "# introduce(**a)\n",
        "introduce(2)\n",
        "introduce(3, name=\"붕붕이\", age=10, address='서울 양재천')"
      ],
      "metadata": {
        "colab": {
          "base_uri": "https://localhost:8080/"
        },
        "id": "vS9jFSYIpObs",
        "outputId": "e224c16b-49d4-4688-f53b-e5e603771deb"
      },
      "execution_count": null,
      "outputs": [
        {
          "output_type": "stream",
          "name": "stdout",
          "text": [
            "홍길동\n",
            "{}\n",
            "홍길동\n",
            "{'age': 30, 'address': '서울시 용산구 이촌동'}\n",
            "홍길동\n",
            "{'age': 30, 'address': '서울시 용산구 이촌동'}\n"
          ]
        }
      ]
    },
    {
      "cell_type": "code",
      "source": [
        "introduce(name=\"붕붕이\", age=10, address='서울 양재천', 3)"
      ],
      "metadata": {
        "id": "Eli88K79yzBr"
      },
      "execution_count": null,
      "outputs": []
    },
    {
      "cell_type": "markdown",
      "source": [
        "단, 이때 `def personal_info(**kwargs, name):`처럼 `**kwargs`가 고정 매개변수보다 앞쪽에 오면 안 됩니다. 매개변수 순서에서 `**kwargs`는 반드시 가장 뒤쪽에 와야 합니다."
      ],
      "metadata": {
        "id": "fWKnzoABpeQY"
      }
    },
    {
      "cell_type": "markdown",
      "source": [
        "### 위치 인수와 키워드 인수를 함께 사용하기"
      ],
      "metadata": {
        "id": "WvDt1nHUpoiu"
      }
    },
    {
      "cell_type": "markdown",
      "source": [
        "함수에서 위치 인수를 받는 `*args`와 키워드 인수를 받는 `**kwargs`를 함께 사용할 수도 있습니다. 대표적인 함수가 print인데 print는 출력할 값을 위치 인수로 넣고 sep, end 등을 키워드 인수로 넣습니다. 다음과 같이 함수의 매개변수를 `*args`, `**kwargs`로 지정하면 위치 인수와 키워드 인수를 함께 사용합니다."
      ],
      "metadata": {
        "id": "c3yLDTgspsmN"
      }
    },
    {
      "cell_type": "code",
      "source": [
        "def my_fun(*args, **kwargs):\n",
        "  print(*args, **kwargs)\n",
        "  "
      ],
      "metadata": {
        "id": "28bsToycpcmH"
      },
      "execution_count": 98,
      "outputs": []
    },
    {
      "cell_type": "code",
      "source": [
        "my_fun(1, 2, 3, sep = '', end = '')"
      ],
      "metadata": {
        "colab": {
          "base_uri": "https://localhost:8080/"
        },
        "id": "zCss4Dscsvsf",
        "outputId": "1f0ac676-958f-4f84-9b47-d5332023f3e6"
      },
      "execution_count": 99,
      "outputs": [
        {
          "output_type": "stream",
          "name": "stdout",
          "text": [
            "123"
          ]
        }
      ]
    },
    {
      "cell_type": "code",
      "source": [
        "import random\n",
        "\n",
        "def game(start, end, *args, multiple=2, **kwargs):\n",
        "    # 플레이어의 이름을 받고, name\n",
        "    if 'name' not in kwargs:\n",
        "        return print(\"이름을 입력해주세요!\")\n",
        "    # 플레이어가 지불한 금액. money\n",
        "    if 'money' not in kwargs:\n",
        "        return print(\"금액을 지불해주세요!\")\n",
        "    if not len(args):\n",
        "        return print(\"당첨 숫자를 입력해주세요!\")\n",
        "    # start, end(포함)는 수를 뽑는 범위\n",
        "    number = random.choice(range(start, end+1))\n",
        "    # for i in range(start, end+1):\n",
        "    #     # args를 당첨 숫자들\n",
        "        # if i in args:\n",
        "        #     print(f\"당첨되었습니다! {i} / \\{kwargs['money'] * 2}\")\n",
        "    if number in args:\n",
        "        print(f\"{kwargs['name']}님, 당첨되었습니다! {number} / \\{kwargs['money'] * 2:.2f}\")\n",
        "        return kwargs['money'] * multiple\n",
        "    else:\n",
        "        print(f\"실패입니다! {number}\")\n",
        "        return 0"
      ],
      "metadata": {
        "id": "qTQEJqdBtE-Z"
      },
      "execution_count": 149,
      "outputs": []
    },
    {
      "cell_type": "code",
      "source": [
        "game(1, 6)\n",
        "game(1, 6, name=\"만렙토끼\")\n",
        "game(1, 6, name=\"만렙토끼\", money=10000)\n",
        "game(1, 6, 3, name=\"만렙토끼\", money=10000)\n",
        "game(1, 6, 1, 2, 3, 4, 5, 6, name=\"만렙토끼\", money=10000)\n",
        "game(1, 6, *(1, 2, 3, 4, 5, 6), name=\"만렙토끼\", money=10000)"
      ],
      "metadata": {
        "colab": {
          "base_uri": "https://localhost:8080/"
        },
        "id": "30797B_zuRuX",
        "outputId": "24d03c33-de4c-4b7d-98e1-66fa93e061e6"
      },
      "execution_count": 129,
      "outputs": [
        {
          "output_type": "stream",
          "name": "stdout",
          "text": [
            "이름을 입력해주세요!\n",
            "금액을 지불해주세요!\n",
            "당첨 숫자를 입력해주세요!\n",
            "실패입니다! 1\n",
            "당첨되었습니다! 2 / \\20000\n",
            "당첨되었습니다! 2 / \\20000\n"
          ]
        }
      ]
    },
    {
      "cell_type": "code",
      "source": [
        "seed_money = 100000"
      ],
      "metadata": {
        "id": "cDm4sQHTzMED"
      },
      "execution_count": 130,
      "outputs": []
    },
    {
      "cell_type": "code",
      "source": [
        "print(f\"게임 전 시드 머니 : {seed_money:.2f}\")\n",
        "m = seed_money * 0.05\n",
        "print(\"게임시작\")\n",
        "result = game(1, 2, 1, multiple=3, name=\"조승우\", money=m) # 5000 -> 10000, 0\n",
        "seed_money -= m\n",
        "seed_money += result\n",
        "print(f\"게임 후 시드 머니 : {seed_money:.2f}\")"
      ],
      "metadata": {
        "colab": {
          "base_uri": "https://localhost:8080/"
        },
        "id": "bcBNhoHVzS20",
        "outputId": "ee7cee5e-bb87-4cb5-a01b-a78eece0658d"
      },
      "execution_count": 150,
      "outputs": [
        {
          "output_type": "stream",
          "name": "stdout",
          "text": [
            "게임 전 시드 머니 : 48767.50\n",
            "게임시작\n",
            "조승우님, 당첨되었습니다! 1 / \\4876.75\n",
            "게임 후 시드 머니 : 53644.25\n"
          ]
        }
      ]
    },
    {
      "cell_type": "markdown",
      "source": [
        "```\n",
        "단, 이때 def custom_print(**kwargs, *args):처럼\n",
        "**kwargs가 *args보다 앞쪽에 오면 안 됩니다.\n",
        "매개변수 순서에서 **kwargs는 반드시 가장 뒤쪽에 와야 합니다.\n",
        "\n",
        "특히 고정 매개변수와 *args, **kwargs를 함께 사용한다면 \n",
        "def custom_print(a, b, *args, **kwargs):처럼 \n",
        "매개변수는 고정 매개변수, *args, **kwargs 순으로 지정해야 합니다.\n",
        "```"
      ],
      "metadata": {
        "id": "HC3dA31hp3tL"
      }
    },
    {
      "cell_type": "markdown",
      "source": [
        "## 매개변수에 초깃값 지정하기"
      ],
      "metadata": {
        "id": "XIaHNaR3qJXP"
      }
    },
    {
      "cell_type": "markdown",
      "source": [
        "지금까지 함수를 호출할 때 항상 인수를 넣어서 값을 전달했습니다. 그러면 인수를 생략할 수는 없을까요? 이때는 함수의 매개변수에 초깃값을 지정하면 됩니다. 초깃값은 다음과 같이 함수를 만들 때 매개변수=값 형식으로 지정합니다.\n",
        "\n",
        "```\n",
        "def 함수이름(매개변수=값):\n",
        "    코드\n",
        "```"
      ],
      "metadata": {
        "id": "SiCXmhZEqxoR"
      }
    },
    {
      "cell_type": "code",
      "source": [
        "def introduce(name, age, address='비공개'):\n",
        "    print(f'이름 : {name}')\n",
        "    print(f'나이 : {age}')\n",
        "    print(f'주소 : {address}')\n",
        "     "
      ],
      "metadata": {
        "id": "8CcIsaUxzLC5"
      },
      "execution_count": 151,
      "outputs": []
    },
    {
      "cell_type": "code",
      "source": [
        "introduce(\"홍길동\", 30)"
      ],
      "metadata": {
        "colab": {
          "base_uri": "https://localhost:8080/"
        },
        "id": "4TBNrJxcHXZK",
        "outputId": "d2d93984-1520-4173-e819-c8fdded511dd"
      },
      "execution_count": 152,
      "outputs": [
        {
          "output_type": "stream",
          "name": "stdout",
          "text": [
            "이름 : 홍길동\n",
            "나이 : 30\n",
            "주소 : 비공개\n"
          ]
        }
      ]
    },
    {
      "cell_type": "markdown",
      "source": [
        "매개변수의 초깃값은 주로 사용하는 값이 있으면서 가끔 다른 값을 사용해야 할 때 활용합니다. 대표적인 예가 print 함수인데, print 함수의 sep는 초깃값이 ' '(공백)으로 지정되어 있어서 대부분 그대로 사용하고, 가끔 sep에 다른 값을 넣어서 사용합니다."
      ],
      "metadata": {
        "id": "cfFz3bmWq1c0"
      }
    },
    {
      "cell_type": "code",
      "source": [
        "def introduce(name, age, address='비공개'):\n",
        "    print(f'이름 : {name}')\n",
        "    print(f'나이 : {age}')\n",
        "    print(f'주소 : {address}')"
      ],
      "metadata": {
        "id": "bo2b1w8_p1wF"
      },
      "execution_count": null,
      "outputs": []
    },
    {
      "cell_type": "code",
      "source": [
        "introduce(\"홍길동\", 30)"
      ],
      "metadata": {
        "colab": {
          "base_uri": "https://localhost:8080/"
        },
        "id": "Nd5hnVJHq5_r",
        "outputId": "d9c75088-5c11-4ed0-8054-7e436f518bb9"
      },
      "execution_count": null,
      "outputs": [
        {
          "output_type": "stream",
          "name": "stdout",
          "text": [
            "이름:  홍길동\n",
            "나이:  30\n",
            "주소:  비공개\n"
          ]
        }
      ]
    },
    {
      "cell_type": "code",
      "source": [
        "# 매개변수에 초깃값이 지정되어 있더라도 값을 넣으면 해당 값이 전달됩니다.\n",
        "introduce(\"홍길동\", 30, \"서울시 용산구\")"
      ],
      "metadata": {
        "colab": {
          "base_uri": "https://localhost:8080/",
          "height": 190
        },
        "id": "U1uofBhgq_Dg",
        "outputId": "80be6fb2-293b-4f22-eedd-7dc568f2152f"
      },
      "execution_count": 144,
      "outputs": [
        {
          "output_type": "error",
          "ename": "TypeError",
          "evalue": "ignored",
          "traceback": [
            "\u001b[0;31m---------------------------------------------------------------------------\u001b[0m",
            "\u001b[0;31mTypeError\u001b[0m                                 Traceback (most recent call last)",
            "\u001b[0;32m<ipython-input-144-cdcb9355a6e9>\u001b[0m in \u001b[0;36m<module>\u001b[0;34m\u001b[0m\n\u001b[1;32m      1\u001b[0m \u001b[0;31m# 매개변수에 초깃값이 지정되어 있더라도 값을 넣으면 해당 값이 전달됩니다.\u001b[0m\u001b[0;34m\u001b[0m\u001b[0;34m\u001b[0m\u001b[0;34m\u001b[0m\u001b[0m\n\u001b[0;32m----> 2\u001b[0;31m \u001b[0mintroduce\u001b[0m\u001b[0;34m(\u001b[0m\u001b[0;34m\"홍길동\"\u001b[0m\u001b[0;34m,\u001b[0m \u001b[0;36m30\u001b[0m\u001b[0;34m,\u001b[0m \u001b[0;34m\"서울시 용산구\"\u001b[0m\u001b[0;34m)\u001b[0m\u001b[0;34m\u001b[0m\u001b[0;34m\u001b[0m\u001b[0m\n\u001b[0m",
            "\u001b[0;31mTypeError\u001b[0m: introduce() takes 0 positional arguments but 3 were given"
          ]
        }
      ]
    },
    {
      "cell_type": "code",
      "source": [
        "def my_cal(interest, tax=0.14):\n",
        "    return interest * (1 - tax * 1.1)\n",
        "my_cal(1_000_000)\n",
        "my_cal(1_000_000, 0.1)\n",
        "def my_cal2(money, rate=0.05, tax=0.14):\n",
        "    return money * rate * (1 - tax * 1.1)\n",
        "my_cal2(1_000_000)\n",
        "my_cal2(1_000_000, rate=0.12, tax=0)"
      ],
      "metadata": {
        "colab": {
          "base_uri": "https://localhost:8080/"
        },
        "id": "t4EfuxWyHufi",
        "outputId": "860814db-9197-4fd1-9d3c-527d4813d060"
      },
      "execution_count": 153,
      "outputs": [
        {
          "output_type": "execute_result",
          "data": {
            "text/plain": [
              "120000.0"
            ]
          },
          "metadata": {},
          "execution_count": 153
        }
      ]
    },
    {
      "cell_type": "markdown",
      "source": [],
      "metadata": {
        "id": "psQE1uioH2_K"
      }
    },
    {
      "cell_type": "code",
      "source": [
        "def my_cal2(rate=0.05, money, tax=0.14):\n",
        "    return money * rate * (1 - tax * 1.1)"
      ],
      "metadata": {
        "id": "GEv4S-0MHjfk"
      },
      "execution_count": null,
      "outputs": []
    },
    {
      "cell_type": "markdown",
      "source": [
        "### 초깃값이 지정된 매개변수의 위치"
      ],
      "metadata": {
        "id": "82Yf7g54rHxN"
      }
    },
    {
      "cell_type": "markdown",
      "source": [
        "매개변수의 초깃값을 지정할 때 한 가지 주의할 점이 있습니다. 초깃값이 지정된 매개변수 다음에는 초깃값이 없는 매개변수가 올 수 없습니다."
      ],
      "metadata": {
        "id": "0naJpS_8rYfy"
      }
    },
    {
      "cell_type": "code",
      "source": [
        "def my_cal2(rate=0.05, money, tax=0.14):\n",
        "    return money * rate * (1 - tax * 1.1)"
      ],
      "metadata": {
        "colab": {
          "base_uri": "https://localhost:8080/",
          "height": 136
        },
        "id": "dr_rk30zrDcE",
        "outputId": "7bb2a7c3-c80a-42bd-b7c5-2e616586b8c3"
      },
      "execution_count": 154,
      "outputs": [
        {
          "output_type": "error",
          "ename": "SyntaxError",
          "evalue": "ignored",
          "traceback": [
            "\u001b[0;36m  File \u001b[0;32m\"<ipython-input-154-e93e14737069>\"\u001b[0;36m, line \u001b[0;32m1\u001b[0m\n\u001b[0;31m    def my_cal2(rate=0.05, money, tax=0.14):\u001b[0m\n\u001b[0m                ^\u001b[0m\n\u001b[0;31mSyntaxError\u001b[0m\u001b[0;31m:\u001b[0m non-default argument follows default argument\n"
          ]
        }
      ]
    },
    {
      "cell_type": "markdown",
      "source": [
        "초깃값이 지정된 매개변수는 뒤쪽에 몰아주면 됩니다.\n",
        "```\n",
        "def personal_info(name, age, address='비공개'):\n",
        "def personal_info(name, age=0, address='비공개'):\n",
        "def personal_info(name='비공개', age=0, address='비공개'):\n",
        "```"
      ],
      "metadata": {
        "id": "l972VnlQrjcI"
      }
    },
    {
      "cell_type": "markdown",
      "source": [
        "# 람다 표현식"
      ],
      "metadata": {
        "id": "O0V37htzsB7t"
      }
    },
    {
      "cell_type": "markdown",
      "source": [
        "람다 표현식은 식 형태로 되어 있다고 해서 람다 표현식(lambda expression)이라고 부릅니다. 특히 람다 표현식은 함수를 간편하게 작성할 수 있어서 다른 함수의 인수로 넣을 때 주로 사용합니다."
      ],
      "metadata": {
        "id": "NI6j49H_sEY5"
      }
    },
    {
      "cell_type": "markdown",
      "source": [
        "## 람다 표현식으로 함수 만들기"
      ],
      "metadata": {
        "id": "e-dE5RTXsH-M"
      }
    },
    {
      "cell_type": "code",
      "execution_count": null,
      "metadata": {
        "colab": {
          "base_uri": "https://localhost:8080/"
        },
        "id": "pA553Kopr82H",
        "outputId": "68864d2f-db57-49da-b482-e84f727ae80a"
      },
      "outputs": [
        {
          "output_type": "execute_result",
          "data": {
            "text/plain": [
              "11"
            ]
          },
          "metadata": {},
          "execution_count": 1
        }
      ],
      "source": [
        "def plus_ten(x):\n",
        "    return x + 10\n",
        "\n",
        "plus_ten(1)"
      ]
    },
    {
      "cell_type": "markdown",
      "source": [
        "람다 표현식은 다음과 같이 lambda에 매개변수를 지정하고 :(콜론) 뒤에 반환값으로 사용할 식을 지정합니다.\n",
        "\n",
        "* `lambda 매개변수들: 식`"
      ],
      "metadata": {
        "id": "dm8-zwtCsQNe"
      }
    },
    {
      "cell_type": "code",
      "source": [
        "lambda x: x + 10"
      ],
      "metadata": {
        "colab": {
          "base_uri": "https://localhost:8080/"
        },
        "id": "q0tSmPdVsNz6",
        "outputId": "88240400-8622-4661-9f76-c0bfb0992ec3"
      },
      "execution_count": null,
      "outputs": [
        {
          "output_type": "execute_result",
          "data": {
            "text/plain": [
              "<function __main__.<lambda>(x)>"
            ]
          },
          "metadata": {},
          "execution_count": 2
        }
      ]
    },
    {
      "cell_type": "markdown",
      "source": [
        "실행을 해보면 함수 객체가 나오는데, 이 상태로는 함수를 호출할 수 없습니다. 왜냐하면 람다 표현식은 이름이 없는 함수를 만들기 때문입니다. 그래서 람다 표현식을 익명 함수(anonymous function)로 부르기도 합니다.\n",
        "\n",
        "lambda로 만든 익명 함수를 호출하려면 다음과 같이 람다 표현식을 변수에 할당해주면 됩니다."
      ],
      "metadata": {
        "id": "ujm2GYH9sVim"
      }
    },
    {
      "cell_type": "code",
      "source": [
        "plus_ten = lambda x: x + 10\n",
        "plus_ten(12)"
      ],
      "metadata": {
        "colab": {
          "base_uri": "https://localhost:8080/"
        },
        "id": "ar6lYnq0sTYB",
        "outputId": "e1fa7735-d4bd-4c43-fe0d-60d4459962fc"
      },
      "execution_count": null,
      "outputs": [
        {
          "output_type": "execute_result",
          "data": {
            "text/plain": [
              "11"
            ]
          },
          "metadata": {},
          "execution_count": 3
        }
      ]
    },
    {
      "cell_type": "markdown",
      "source": [
        "### 람다 표현식 자체를 호출하기"
      ],
      "metadata": {
        "id": "7GJVBpaBsbKQ"
      }
    },
    {
      "cell_type": "markdown",
      "source": [
        "람다 표현식은 변수에 할당하지 않고 람다 표현식 자체를 바로 호출할 수 있습니다. 다음과 같이 람다 표현식을 ( )(괄호)로 묶은 뒤에 다시 ( )를 붙이고 인수를 넣어서 호출하면 됩니다.\n",
        "\n",
        "* `(lambda 매개변수들: 식)(인수들)`"
      ],
      "metadata": {
        "id": "KHt7GGMysdPf"
      }
    },
    {
      "cell_type": "code",
      "source": [
        "\n",
        "(lambda x: x + 10)(100)"
      ],
      "metadata": {
        "colab": {
          "base_uri": "https://localhost:8080/"
        },
        "id": "nyovR2LssYsr",
        "outputId": "946bb3b3-3855-4759-f3be-ab49b3faf359"
      },
      "execution_count": null,
      "outputs": [
        {
          "output_type": "execute_result",
          "data": {
            "text/plain": [
              "11"
            ]
          },
          "metadata": {},
          "execution_count": 4
        }
      ]
    },
    {
      "cell_type": "markdown",
      "source": [
        "### 람다 표현식 안에서는 변수를 만들 수 없다"
      ],
      "metadata": {
        "id": "m91vCVZUslAD"
      }
    },
    {
      "cell_type": "markdown",
      "source": [
        "람다 표현식에서 주의할 점은 람다 표현식 안에서는 새 변수를 만들 수 없다는 점입니다. 따라서 반환값 부분은 변수 없이 식 한 줄로 표현할 수 있어야 합니다. 변수가 필요한 코드일 경우에는 def로 함수를 작성하는 것이 좋습니다."
      ],
      "metadata": {
        "id": "MHaw_mWAsnco"
      }
    },
    {
      "cell_type": "code",
      "source": [
        "\n",
        "(lambda x: y = 10; x + y)(1)"
      ],
      "metadata": {
        "colab": {
          "base_uri": "https://localhost:8080/",
          "height": 134
        },
        "id": "92VgQDf_sit6",
        "outputId": "d288deb1-8f91-4185-95cd-9d008d1a8379"
      },
      "execution_count": null,
      "outputs": [
        {
          "output_type": "error",
          "ename": "SyntaxError",
          "evalue": "ignored",
          "traceback": [
            "\u001b[0;36m  File \u001b[0;32m\"<ipython-input-5-f39371b7f7d5>\"\u001b[0;36m, line \u001b[0;32m1\u001b[0m\n\u001b[0;31m    (lambda x: y = 10; x + y)(1)\u001b[0m\n\u001b[0m                 ^\u001b[0m\n\u001b[0;31mSyntaxError\u001b[0m\u001b[0;31m:\u001b[0m invalid syntax\n"
          ]
        }
      ]
    },
    {
      "cell_type": "code",
      "source": [],
      "metadata": {
        "id": "1T81CToZIIEI"
      },
      "execution_count": null,
      "outputs": []
    },
    {
      "cell_type": "code",
      "source": [
        "# 단, 람다 표현식 바깥에 있는 변수는 사용할 수 있습니다.\n",
        "y = 10\n",
        "(lambda x: x + y)(1)"
      ],
      "metadata": {
        "colab": {
          "base_uri": "https://localhost:8080/"
        },
        "id": "B9C2CGGCsqtn",
        "outputId": "da4f0ab4-b185-42f8-9b97-ee56537acba2"
      },
      "execution_count": null,
      "outputs": [
        {
          "output_type": "execute_result",
          "data": {
            "text/plain": [
              "11"
            ]
          },
          "metadata": {},
          "execution_count": 6
        }
      ]
    },
    {
      "cell_type": "code",
      "source": [
        "def add(x, y):\n",
        "    return x + y\n",
        "\n",
        "def add_power(x, y):\n",
        "    return (x + y) ** 2\n",
        "\n",
        "z = 2\n",
        "def add_power2(x, y):\n",
        "    return (x + y) ** z"
      ],
      "metadata": {
        "id": "ko8zrJpnIMCr"
      },
      "execution_count": null,
      "outputs": []
    },
    {
      "cell_type": "markdown",
      "source": [
        "### 람다 표현식을 인수로 사용하기"
      ],
      "metadata": {
        "id": "ebuUgDrjsxIc"
      }
    },
    {
      "cell_type": "markdown",
      "source": [
        "람다 표현식을 사용하는 이유는 함수의 인수 부분에서 간단하게 함수를 만들기 위해서 입니다. 이런 방식으로 사용하는 대표적인 예가 map입니다."
      ],
      "metadata": {
        "id": "8osUgTp7s0wN"
      }
    },
    {
      "cell_type": "code",
      "source": [
        "list(map(int, [\"11\", \"12\", \"13\"]))"
      ],
      "metadata": {
        "colab": {
          "base_uri": "https://localhost:8080/"
        },
        "id": "FFHxoY6IsvPu",
        "outputId": "bb5c415b-cc21-4aed-9df3-6f5f4cb5c710"
      },
      "execution_count": null,
      "outputs": [
        {
          "output_type": "execute_result",
          "data": {
            "text/plain": [
              "[11, 12, 13]"
            ]
          },
          "metadata": {},
          "execution_count": 7
        }
      ]
    },
    {
      "cell_type": "code",
      "source": [
        "list(map(lambda x: int(x) ** 2, [\"11\", \"12\", \"13\"]))"
      ],
      "metadata": {
        "colab": {
          "base_uri": "https://localhost:8080/"
        },
        "id": "FOm48x0Qs6p-",
        "outputId": "50e6ac73-c240-4f3a-9d21-8ac760d0cd9a"
      },
      "execution_count": null,
      "outputs": [
        {
          "output_type": "execute_result",
          "data": {
            "text/plain": [
              "[11, 12, 13]"
            ]
          },
          "metadata": {},
          "execution_count": 8
        }
      ]
    }
  ]
}
