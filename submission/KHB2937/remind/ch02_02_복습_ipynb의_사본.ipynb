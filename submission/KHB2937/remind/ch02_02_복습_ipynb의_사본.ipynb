{
  "nbformat": 4,
  "nbformat_minor": 0,
  "metadata": {
    "colab": {
      "provenance": [],
      "include_colab_link": true
    },
    "kernelspec": {
      "name": "python3",
      "display_name": "Python 3"
    },
    "language_info": {
      "name": "python"
    }
  },
  "cells": [
    {
      "cell_type": "markdown",
      "metadata": {
        "id": "view-in-github",
        "colab_type": "text"
      },
      "source": [
        "<a href=\"https://colab.research.google.com/github/KHB2937/Python/blob/main/submission/KHB2937/ch02_02_%EB%B3%B5%EC%8A%B5_ipynb%EC%9D%98_%EC%82%AC%EB%B3%B8.ipynb\" target=\"_parent\"><img src=\"https://colab.research.google.com/assets/colab-badge.svg\" alt=\"Open In Colab\"/></a>"
      ]
    },
    {
      "cell_type": "code",
      "execution_count": 1,
      "metadata": {
        "id": "Qnlqw4bvwUZs",
        "colab": {
          "base_uri": "https://localhost:8080/",
          "height": 136
        },
        "outputId": "ffda58b3-4e94-4b56-ad11-6cacd72484e5"
      },
      "outputs": [
        {
          "output_type": "error",
          "ename": "SyntaxError",
          "evalue": "ignored",
          "traceback": [
            "\u001b[0;36m  File \u001b[0;32m\"<ipython-input-1-d29b6a7d614a>\"\u001b[0;36m, line \u001b[0;32m5\u001b[0m\n\u001b[0;31m    '', \"\", '''''', \"\"\"\"\"\"\" # 문자열\u001b[0m\n\u001b[0m                                 ^\u001b[0m\n\u001b[0;31mSyntaxError\u001b[0m\u001b[0;31m:\u001b[0m EOL while scanning string literal\n"
          ]
        }
      ],
      "source": [
        "# 시퀸스 : 0개 이상의 원소가 나열되어서 묶여 있는 자료형\n",
        "# list, tuple, range, string(str) : 문자열\n",
        "[] #대\n",
        "() #소\n",
        "'', \"\", '''''', \"\"\"\"\"\"\" # 문자열"
      ]
    },
    {
      "cell_type": "markdown",
      "source": [
        "# **in**, **not in**"
      ],
      "metadata": {
        "id": "bx0T8xDY2MH3"
      }
    },
    {
      "cell_type": "code",
      "source": [],
      "metadata": {
        "id": "VkEj8sD_2KAX"
      },
      "execution_count": null,
      "outputs": []
    },
    {
      "cell_type": "code",
      "source": [
        "# 값 in 시퀀스 객체 <-> for 변수명 in 시퀀스 객체:\n",
        "\"파이썬\" in [\"파이썬\", \"자바\", \"자바스크립트\"]"
      ],
      "metadata": {
        "colab": {
          "base_uri": "https://localhost:8080/"
        },
        "id": "Ql5A1l1H0dvK",
        "outputId": "a6f6af3b-1b70-410b-898c-6aaeb542da15"
      },
      "execution_count": 2,
      "outputs": [
        {
          "output_type": "execute_result",
          "data": {
            "text/plain": [
              "True"
            ]
          },
          "metadata": {},
          "execution_count": 2
        }
      ]
    },
    {
      "cell_type": "code",
      "source": [
        "a = \"파이썬\"\n",
        "b = [\"파이썬\", \"자바\", \"자바스크립트\"]\n",
        "a in b # bool -> 참과 거짓"
      ],
      "metadata": {
        "colab": {
          "base_uri": "https://localhost:8080/"
        },
        "id": "psdsr-M-0p90",
        "outputId": "b19c2926-3dfe-466f-cebb-78782d261546"
      },
      "execution_count": 3,
      "outputs": [
        {
          "output_type": "execute_result",
          "data": {
            "text/plain": [
              "True"
            ]
          },
          "metadata": {},
          "execution_count": 3
        }
      ]
    },
    {
      "cell_type": "code",
      "source": [
        "c = \"C언어\"\n",
        "c in b, c not in b"
      ],
      "metadata": {
        "colab": {
          "base_uri": "https://localhost:8080/"
        },
        "id": "1y0RI-DD1Bkx",
        "outputId": "a8da53d3-3a22-447a-a74b-1de35080c58a"
      },
      "execution_count": 6,
      "outputs": [
        {
          "output_type": "execute_result",
          "data": {
            "text/plain": [
              "(False, True)"
            ]
          },
          "metadata": {},
          "execution_count": 6
        }
      ]
    },
    {
      "cell_type": "code",
      "source": [
        "name = \"변영인\"\n",
        "\"변\" in name"
      ],
      "metadata": {
        "colab": {
          "base_uri": "https://localhost:8080/"
        },
        "id": "NqK6sWmy1nlh",
        "outputId": "c5b0ce0b-05fa-4538-c236-ec2cb7367f15"
      },
      "execution_count": 8,
      "outputs": [
        {
          "output_type": "execute_result",
          "data": {
            "text/plain": [
              "True"
            ]
          },
          "metadata": {},
          "execution_count": 8
        }
      ]
    },
    {
      "cell_type": "code",
      "source": [
        "setence = \"아버지가 방에 들어가신다.\"\n",
        "\"아\" in setence"
      ],
      "metadata": {
        "colab": {
          "base_uri": "https://localhost:8080/"
        },
        "id": "JSRmiYzh1txk",
        "outputId": "05ce6909-ac56-47f1-efe1-d495b6a10b91"
      },
      "execution_count": 11,
      "outputs": [
        {
          "output_type": "execute_result",
          "data": {
            "text/plain": [
              "True"
            ]
          },
          "metadata": {},
          "execution_count": 11
        }
      ]
    },
    {
      "cell_type": "markdown",
      "source": [
        "# **연결**(+)"
      ],
      "metadata": {
        "id": "q6Pg2NWC2dDd"
      }
    },
    {
      "cell_type": "code",
      "source": [
        " a = [\"사과\", \"배\"]\n",
        " b = [1, 2, 3, 4, 5, 6]\n",
        " a + b #연결(concatenate)"
      ],
      "metadata": {
        "colab": {
          "base_uri": "https://localhost:8080/"
        },
        "id": "j3qsF-SS183L",
        "outputId": "2cb316de-8afa-42a1-dad1-57d3e2444916"
      },
      "execution_count": 12,
      "outputs": [
        {
          "output_type": "execute_result",
          "data": {
            "text/plain": [
              "['사과', '배', 1, 2, 3, 4, 5, 6]"
            ]
          },
          "metadata": {},
          "execution_count": 12
        }
      ]
    },
    {
      "cell_type": "code",
      "source": [
        "a, b"
      ],
      "metadata": {
        "colab": {
          "base_uri": "https://localhost:8080/"
        },
        "id": "Jug1D87b186J",
        "outputId": "873294e2-875b-49b9-e4c3-f4702e368173"
      },
      "execution_count": 13,
      "outputs": [
        {
          "output_type": "execute_result",
          "data": {
            "text/plain": [
              "(['사과', '배'], [1, 2, 3, 4, 5, 6])"
            ]
          },
          "metadata": {},
          "execution_count": 13
        }
      ]
    },
    {
      "cell_type": "code",
      "source": [
        "(1, 2, 3) + (4, 5, 6)"
      ],
      "metadata": {
        "colab": {
          "base_uri": "https://localhost:8080/"
        },
        "id": "Jvw7sCSj189J",
        "outputId": "ab432c5a-329b-46cf-cb39-6f55aa5a418c"
      },
      "execution_count": 14,
      "outputs": [
        {
          "output_type": "execute_result",
          "data": {
            "text/plain": [
              "(1, 2, 3, 4, 5, 6)"
            ]
          },
          "metadata": {},
          "execution_count": 14
        }
      ]
    },
    {
      "cell_type": "code",
      "source": [
        "\"아\" + \"아\""
      ],
      "metadata": {
        "colab": {
          "base_uri": "https://localhost:8080/",
          "height": 35
        },
        "id": "gt--wGC619AK",
        "outputId": "e8ccfc5f-0827-481f-d84a-6583914a9c2b"
      },
      "execution_count": 16,
      "outputs": [
        {
          "output_type": "execute_result",
          "data": {
            "text/plain": [
              "'아아'"
            ],
            "application/vnd.google.colaboratory.intrinsic+json": {
              "type": "string"
            }
          },
          "metadata": {},
          "execution_count": 16
        }
      ]
    },
    {
      "cell_type": "code",
      "source": [
        "list(range(10)) + list(range(10))"
      ],
      "metadata": {
        "colab": {
          "base_uri": "https://localhost:8080/"
        },
        "id": "RTkidfyD3Lz3",
        "outputId": "465a1d21-d1cd-4018-de3c-afa540290f91"
      },
      "execution_count": 17,
      "outputs": [
        {
          "output_type": "execute_result",
          "data": {
            "text/plain": [
              "[0, 1, 2, 3, 4, 5, 6, 7, 8, 9, 0, 1, 2, 3, 4, 5, 6, 7, 8, 9]"
            ]
          },
          "metadata": {},
          "execution_count": 17
        }
      ]
    },
    {
      "cell_type": "code",
      "source": [
        "\"아\" + str(1)"
      ],
      "metadata": {
        "colab": {
          "base_uri": "https://localhost:8080/",
          "height": 35
        },
        "id": "QI1j4AVl3P5j",
        "outputId": "c258a8cd-b7ea-4253-e7db-99813b113568"
      },
      "execution_count": 18,
      "outputs": [
        {
          "output_type": "execute_result",
          "data": {
            "text/plain": [
              "'아1'"
            ],
            "application/vnd.google.colaboratory.intrinsic+json": {
              "type": "string"
            }
          },
          "metadata": {},
          "execution_count": 18
        }
      ]
    },
    {
      "cell_type": "markdown",
      "source": [
        "## **반복**(*)"
      ],
      "metadata": {
        "id": "ft-62cr234Is"
      }
    },
    {
      "cell_type": "code",
      "source": [
        "# 연결을 n번 이상하는, (시퀀스 객체) * n\n",
        "[1, 10, 100, 1000]"
      ],
      "metadata": {
        "colab": {
          "base_uri": "https://localhost:8080/"
        },
        "id": "m9g_tbCC4EHI",
        "outputId": "77d29774-8875-4b2f-e451-63f25cb19e7e"
      },
      "execution_count": 19,
      "outputs": [
        {
          "output_type": "execute_result",
          "data": {
            "text/plain": [
              "[1, 10, 100, 1000]"
            ]
          },
          "metadata": {},
          "execution_count": 19
        }
      ]
    },
    {
      "cell_type": "code",
      "source": [
        "[1, 10, 100, 1000] + [1, 10, 100, 1000]"
      ],
      "metadata": {
        "colab": {
          "base_uri": "https://localhost:8080/"
        },
        "id": "Zg4Vciyn4c8B",
        "outputId": "3baf8371-cf92-4acc-b48c-3a6abd40ec7b"
      },
      "execution_count": 21,
      "outputs": [
        {
          "output_type": "execute_result",
          "data": {
            "text/plain": [
              "[1, 10, 100, 1000, 1, 10, 100, 1000]"
            ]
          },
          "metadata": {},
          "execution_count": 21
        }
      ]
    },
    {
      "cell_type": "code",
      "source": [
        "[0] * 7 # 0을  7개 가진 리스트 만들기"
      ],
      "metadata": {
        "colab": {
          "base_uri": "https://localhost:8080/"
        },
        "id": "79pLV2e_4fDJ",
        "outputId": "f00bffdf-72c6-4ef7-ea97-9caad64d036b"
      },
      "execution_count": 22,
      "outputs": [
        {
          "output_type": "execute_result",
          "data": {
            "text/plain": [
              "[0, 0, 0, 0, 0, 0, 0]"
            ]
          },
          "metadata": {},
          "execution_count": 22
        }
      ]
    },
    {
      "cell_type": "code",
      "source": [
        "[0] * 0, [0] * -1 #0이하의 숫자 넣으면 빈 리스트나 빈 tuple"
      ],
      "metadata": {
        "colab": {
          "base_uri": "https://localhost:8080/"
        },
        "id": "mHFe8rIt4ijg",
        "outputId": "68aafdd0-a0f3-4e2f-bd49-a40868898cd6"
      },
      "execution_count": 24,
      "outputs": [
        {
          "output_type": "execute_result",
          "data": {
            "text/plain": [
              "([], [])"
            ]
          },
          "metadata": {},
          "execution_count": 24
        }
      ]
    },
    {
      "cell_type": "code",
      "source": [
        "tuple(range(10)) * 10"
      ],
      "metadata": {
        "colab": {
          "base_uri": "https://localhost:8080/"
        },
        "id": "1ldihMkO4-67",
        "outputId": "7bb70d4d-c489-41ff-b056-e21ae9e3bef6"
      },
      "execution_count": 25,
      "outputs": [
        {
          "output_type": "execute_result",
          "data": {
            "text/plain": [
              "(0,\n",
              " 1,\n",
              " 2,\n",
              " 3,\n",
              " 4,\n",
              " 5,\n",
              " 6,\n",
              " 7,\n",
              " 8,\n",
              " 9,\n",
              " 0,\n",
              " 1,\n",
              " 2,\n",
              " 3,\n",
              " 4,\n",
              " 5,\n",
              " 6,\n",
              " 7,\n",
              " 8,\n",
              " 9,\n",
              " 0,\n",
              " 1,\n",
              " 2,\n",
              " 3,\n",
              " 4,\n",
              " 5,\n",
              " 6,\n",
              " 7,\n",
              " 8,\n",
              " 9,\n",
              " 0,\n",
              " 1,\n",
              " 2,\n",
              " 3,\n",
              " 4,\n",
              " 5,\n",
              " 6,\n",
              " 7,\n",
              " 8,\n",
              " 9,\n",
              " 0,\n",
              " 1,\n",
              " 2,\n",
              " 3,\n",
              " 4,\n",
              " 5,\n",
              " 6,\n",
              " 7,\n",
              " 8,\n",
              " 9,\n",
              " 0,\n",
              " 1,\n",
              " 2,\n",
              " 3,\n",
              " 4,\n",
              " 5,\n",
              " 6,\n",
              " 7,\n",
              " 8,\n",
              " 9,\n",
              " 0,\n",
              " 1,\n",
              " 2,\n",
              " 3,\n",
              " 4,\n",
              " 5,\n",
              " 6,\n",
              " 7,\n",
              " 8,\n",
              " 9,\n",
              " 0,\n",
              " 1,\n",
              " 2,\n",
              " 3,\n",
              " 4,\n",
              " 5,\n",
              " 6,\n",
              " 7,\n",
              " 8,\n",
              " 9,\n",
              " 0,\n",
              " 1,\n",
              " 2,\n",
              " 3,\n",
              " 4,\n",
              " 5,\n",
              " 6,\n",
              " 7,\n",
              " 8,\n",
              " 9,\n",
              " 0,\n",
              " 1,\n",
              " 2,\n",
              " 3,\n",
              " 4,\n",
              " 5,\n",
              " 6,\n",
              " 7,\n",
              " 8,\n",
              " 9)"
            ]
          },
          "metadata": {},
          "execution_count": 25
        }
      ]
    },
    {
      "cell_type": "code",
      "source": [
        "\"아\" * 10"
      ],
      "metadata": {
        "colab": {
          "base_uri": "https://localhost:8080/",
          "height": 35
        },
        "id": "8P8loqYk5EqE",
        "outputId": "3a2c81a5-5f83-40cc-c643-3235e0bbcf6a"
      },
      "execution_count": 27,
      "outputs": [
        {
          "output_type": "execute_result",
          "data": {
            "text/plain": [
              "'아아아아아아아아아아'"
            ],
            "application/vnd.google.colaboratory.intrinsic+json": {
              "type": "string"
            }
          },
          "metadata": {},
          "execution_count": 27
        }
      ]
    },
    {
      "cell_type": "markdown",
      "source": [],
      "metadata": {
        "id": "dDsFGwS-5vXq"
      }
    },
    {
      "cell_type": "markdown",
      "source": [
        "# **len**()"
      ],
      "metadata": {
        "id": "Ss6RRFeF5bqc"
      }
    },
    {
      "cell_type": "code",
      "source": [
        "len([1, 2, 3]), len((1, 2, 3, 4, 5)), len(range(2, 5, 2)), len(\"문자\")"
      ],
      "metadata": {
        "colab": {
          "base_uri": "https://localhost:8080/"
        },
        "id": "8CwEv7785bMk",
        "outputId": "1cf530a0-6a88-4f99-beb4-8e1750f35cef"
      },
      "execution_count": 31,
      "outputs": [
        {
          "output_type": "execute_result",
          "data": {
            "text/plain": [
              "(3, 5, 2, 2)"
            ]
          },
          "metadata": {},
          "execution_count": 31
        }
      ]
    },
    {
      "cell_type": "markdown",
      "source": [
        "# **index**"
      ],
      "metadata": {
        "id": "HOPX-9hf56Bs"
      }
    },
    {
      "cell_type": "code",
      "source": [
        "# 0부터 시작, 전체 길이 -1\n",
        "a = list(range(100, 600, 100))\n",
        "print(a)"
      ],
      "metadata": {
        "colab": {
          "base_uri": "https://localhost:8080/"
        },
        "id": "FzXyI4-36Aj7",
        "outputId": "c433adec-85fb-4f2e-c4eb-4b051e87cde0"
      },
      "execution_count": 32,
      "outputs": [
        {
          "output_type": "stream",
          "name": "stdout",
          "text": [
            "[100, 200, 300, 400, 500]\n"
          ]
        }
      ]
    },
    {
      "cell_type": "code",
      "source": [
        "a[2]"
      ],
      "metadata": {
        "colab": {
          "base_uri": "https://localhost:8080/"
        },
        "id": "NSGAYgoT6JPK",
        "outputId": "6cca5394-e728-447b-b757-64b1a1ccc29b"
      },
      "execution_count": 34,
      "outputs": [
        {
          "output_type": "execute_result",
          "data": {
            "text/plain": [
              "300"
            ]
          },
          "metadata": {},
          "execution_count": 34
        }
      ]
    },
    {
      "cell_type": "code",
      "source": [
        "name = \"김아차\"\n",
        "name[0], name[2]"
      ],
      "metadata": {
        "colab": {
          "base_uri": "https://localhost:8080/"
        },
        "id": "DtDhhP5-6cTD",
        "outputId": "6df7fe12-51d0-499e-f5f2-2cd3b4941ca5"
      },
      "execution_count": 36,
      "outputs": [
        {
          "output_type": "execute_result",
          "data": {
            "text/plain": [
              "('김', '차')"
            ]
          },
          "metadata": {},
          "execution_count": 36
        }
      ]
    },
    {
      "cell_type": "code",
      "source": [
        "# 음수인덱스 : 뒤에서부터 카운트, len(시퀀스객체) - n\n",
        "# a, a[-n] = a[len(a)-n]\n",
        "print(a)\n",
        "a[-1], a[len(a)-1]"
      ],
      "metadata": {
        "colab": {
          "base_uri": "https://localhost:8080/"
        },
        "id": "QFHRpG0W6lku",
        "outputId": "33b173c3-4db3-449c-e585-c4e902b4e07b"
      },
      "execution_count": 38,
      "outputs": [
        {
          "output_type": "stream",
          "name": "stdout",
          "text": [
            "[100, 200, 300, 400, 500]\n"
          ]
        },
        {
          "output_type": "execute_result",
          "data": {
            "text/plain": [
              "(500, 500)"
            ]
          },
          "metadata": {},
          "execution_count": 38
        }
      ]
    },
    {
      "cell_type": "code",
      "source": [
        "a[len(a)]"
      ],
      "metadata": {
        "colab": {
          "base_uri": "https://localhost:8080/",
          "height": 172
        },
        "id": "EDo5Qi5u65R2",
        "outputId": "a57dc1da-36a0-4409-85d9-2246821ae2de"
      },
      "execution_count": 39,
      "outputs": [
        {
          "output_type": "error",
          "ename": "IndexError",
          "evalue": "ignored",
          "traceback": [
            "\u001b[0;31m---------------------------------------------------------------------------\u001b[0m",
            "\u001b[0;31mIndexError\u001b[0m                                Traceback (most recent call last)",
            "\u001b[0;32m<ipython-input-39-836f840eaf9f>\u001b[0m in \u001b[0;36m<module>\u001b[0;34m\u001b[0m\n\u001b[0;32m----> 1\u001b[0;31m \u001b[0ma\u001b[0m\u001b[0;34m[\u001b[0m\u001b[0mlen\u001b[0m\u001b[0;34m(\u001b[0m\u001b[0ma\u001b[0m\u001b[0;34m)\u001b[0m\u001b[0;34m]\u001b[0m\u001b[0;34m\u001b[0m\u001b[0;34m\u001b[0m\u001b[0m\n\u001b[0m",
            "\u001b[0;31mIndexError\u001b[0m: list index out of range"
          ]
        }
      ]
    },
    {
      "cell_type": "markdown",
      "source": [
        "## 요소의 값 할당하기\n",
        "* element, 요소, 구성요소, 원소"
      ],
      "metadata": {
        "id": "hKk2_zxK7Gql"
      }
    },
    {
      "cell_type": "code",
      "source": [
        "a = [0] * 5\n",
        "a[0] = 5\n",
        "a[1] = 13\n",
        "a[2] = 34\n",
        "a[3] = 88\n",
        "a[4] = 100\n",
        "a # 원본에서 영향"
      ],
      "metadata": {
        "colab": {
          "base_uri": "https://localhost:8080/"
        },
        "id": "HMAKlf2E7Sz7",
        "outputId": "852e4834-c8d1-42bb-c9f5-fa15884a8049"
      },
      "execution_count": 42,
      "outputs": [
        {
          "output_type": "execute_result",
          "data": {
            "text/plain": [
              "[5, 13, 34, 88, 100]"
            ]
          },
          "metadata": {},
          "execution_count": 42
        }
      ]
    },
    {
      "cell_type": "markdown",
      "source": [
        "## del 시퀀스객체[인덱스]"
      ],
      "metadata": {
        "id": "r732Vhl9_SQr"
      }
    },
    {
      "cell_type": "code",
      "source": [
        "print(a)\n",
        "del a[2]\n",
        "print(a)"
      ],
      "metadata": {
        "colab": {
          "base_uri": "https://localhost:8080/"
        },
        "id": "6tnapQRN7zsp",
        "outputId": "3728ba60-c99c-4312-adfd-fde859bbe679"
      },
      "execution_count": 46,
      "outputs": [
        {
          "output_type": "stream",
          "name": "stdout",
          "text": [
            "[5, 13, 88, 100]\n",
            "[5, 13, 100]\n"
          ]
        }
      ]
    },
    {
      "cell_type": "code",
      "source": [
        "# 문자열, 튜플 레인지는 읽기전용 ->del(x)"
      ],
      "metadata": {
        "id": "2LbEf6hD_fB7"
      },
      "execution_count": null,
      "outputs": []
    },
    {
      "cell_type": "markdown",
      "source": [
        "## 슬라이스"
      ],
      "metadata": {
        "id": "sWNIuiPp_m2y"
      }
    },
    {
      "cell_type": "code",
      "source": [
        "# 시퀀스객체[시작인덱스:끝인덱스]\n",
        "# 시퀀스객체[시작:], 시퀀스객체[:끝]\n",
        "# 시퀀스객체[시작:끝:증가폭]\n",
        "# 시퀀스객체[::증가폭]\n",
        "a = list(range(0, 100, 10))\n",
        "a"
      ],
      "metadata": {
        "colab": {
          "base_uri": "https://localhost:8080/"
        },
        "id": "Pqcy014c_p0A",
        "outputId": "695027f1-afce-4ceb-b19c-f9a06a88c653"
      },
      "execution_count": 48,
      "outputs": [
        {
          "output_type": "execute_result",
          "data": {
            "text/plain": [
              "[0, 10, 20, 30, 40, 50, 60, 70, 80, 90]"
            ]
          },
          "metadata": {},
          "execution_count": 48
        }
      ]
    },
    {
      "cell_type": "code",
      "source": [
        "# 슬라이스는 원본에 영향 미치지 않고 사본 만드는 방법\n",
        "a[0:4], len(a), a[0:10], a[::2]"
      ],
      "metadata": {
        "colab": {
          "base_uri": "https://localhost:8080/"
        },
        "id": "NpFBpyXIADiR",
        "outputId": "aacf4d98-55e4-4557-bc8d-c0aa9767e2b0"
      },
      "execution_count": 50,
      "outputs": [
        {
          "output_type": "execute_result",
          "data": {
            "text/plain": [
              "([0, 10, 20, 30],\n",
              " 10,\n",
              " [0, 10, 20, 30, 40, 50, 60, 70, 80, 90],\n",
              " [0, 20, 40, 60, 80])"
            ]
          },
          "metadata": {},
          "execution_count": 50
        }
      ]
    },
    {
      "cell_type": "code",
      "source": [
        "a[3:-1], a[3:len(a) -1]"
      ],
      "metadata": {
        "colab": {
          "base_uri": "https://localhost:8080/"
        },
        "id": "fFyOsteNASQs",
        "outputId": "8b887f48-14e3-4aec-a7bd-8c0791d02aee"
      },
      "execution_count": 52,
      "outputs": [
        {
          "output_type": "execute_result",
          "data": {
            "text/plain": [
              "([30, 40, 50, 60, 70, 80], [30, 40, 50, 60, 70, 80])"
            ]
          },
          "metadata": {},
          "execution_count": 52
        }
      ]
    },
    {
      "cell_type": "code",
      "source": [
        "a[1:5:2], a[slice(1, 5, 2)]"
      ],
      "metadata": {
        "colab": {
          "base_uri": "https://localhost:8080/"
        },
        "id": "gRSPA-MNAtQ1",
        "outputId": "d38f1bc9-1bec-4056-88c5-50a583434bf3"
      },
      "execution_count": 55,
      "outputs": [
        {
          "output_type": "execute_result",
          "data": {
            "text/plain": [
              "([10, 30], [10, 30])"
            ]
          },
          "metadata": {},
          "execution_count": 55
        }
      ]
    },
    {
      "cell_type": "code",
      "source": [
        "a[:], a, a[0:len(a)]"
      ],
      "metadata": {
        "colab": {
          "base_uri": "https://localhost:8080/"
        },
        "id": "uJsXIs2JBIkz",
        "outputId": "57e372ae-f9fc-407a-a284-19ae38d35afd"
      },
      "execution_count": 56,
      "outputs": [
        {
          "output_type": "execute_result",
          "data": {
            "text/plain": [
              "([0, 10, 20, 30, 40, 50, 60, 70, 80, 90],\n",
              " [0, 10, 20, 30, 40, 50, 60, 70, 80, 90],\n",
              " [0, 10, 20, 30, 40, 50, 60, 70, 80, 90])"
            ]
          },
          "metadata": {},
          "execution_count": 56
        }
      ]
    },
    {
      "cell_type": "code",
      "source": [
        "a[::2], a[0:len(a):2]"
      ],
      "metadata": {
        "colab": {
          "base_uri": "https://localhost:8080/"
        },
        "id": "AzTmceSNBX-y",
        "outputId": "c7d854c4-a7eb-44b9-b377-9030c7f3a826"
      },
      "execution_count": 58,
      "outputs": [
        {
          "output_type": "execute_result",
          "data": {
            "text/plain": [
              "([0, 20, 40, 60, 80], [0, 20, 40, 60, 80])"
            ]
          },
          "metadata": {},
          "execution_count": 58
        }
      ]
    },
    {
      "cell_type": "code",
      "source": [
        "s =\"asdfghjk\"\n",
        "s[::-1], s[::2], s[1:3]"
      ],
      "metadata": {
        "colab": {
          "base_uri": "https://localhost:8080/"
        },
        "id": "oJbFBY4gCg6R",
        "outputId": "b2df0172-eca8-46c4-9cdc-fab2fb2c761f"
      },
      "execution_count": 60,
      "outputs": [
        {
          "output_type": "execute_result",
          "data": {
            "text/plain": [
              "('kjhgfdsa', 'adgj', 'sd')"
            ]
          },
          "metadata": {},
          "execution_count": 60
        }
      ]
    },
    {
      "cell_type": "code",
      "source": [
        "# 할당하기 -> 특정한 슬라이스 범위에 새로운 값들을 끼워넣기\n",
        "# 리스트 only, 갯수가 일치할 필요\n",
        "a = [1, 2, 3, 4, 5]\n",
        "print(a[1:3])\n",
        "a[1:3] = [6, 7, 8, 9]\n",
        "a "
      ],
      "metadata": {
        "colab": {
          "base_uri": "https://localhost:8080/"
        },
        "id": "RzGIPRr0CnEB",
        "outputId": "296c2876-8dbb-47ea-8c33-0e783af597e0"
      },
      "execution_count": 62,
      "outputs": [
        {
          "output_type": "stream",
          "name": "stdout",
          "text": [
            "[2, 3]\n"
          ]
        },
        {
          "output_type": "execute_result",
          "data": {
            "text/plain": [
              "[1, 6, 7, 8, 9, 4, 5]"
            ]
          },
          "metadata": {},
          "execution_count": 62
        }
      ]
    },
    {
      "cell_type": "code",
      "source": [
        "b = list(range(20))\n",
        "b"
      ],
      "metadata": {
        "colab": {
          "base_uri": "https://localhost:8080/"
        },
        "id": "2kRrxboQC7aN",
        "outputId": "84263b34-a182-4ffd-daec-1b8a5c7070c7"
      },
      "execution_count": 63,
      "outputs": [
        {
          "output_type": "execute_result",
          "data": {
            "text/plain": [
              "[0, 1, 2, 3, 4, 5, 6, 7, 8, 9, 10, 11, 12, 13, 14, 15, 16, 17, 18, 19]"
            ]
          },
          "metadata": {},
          "execution_count": 63
        }
      ]
    },
    {
      "cell_type": "code",
      "source": [
        "b[1:10:2]"
      ],
      "metadata": {
        "colab": {
          "base_uri": "https://localhost:8080/"
        },
        "id": "nYvkw5ndDAA9",
        "outputId": "180d1a9a-f5a5-43dd-b934-9155db0d0b33"
      },
      "execution_count": 65,
      "outputs": [
        {
          "output_type": "execute_result",
          "data": {
            "text/plain": [
              "[1, 3, 5, 7, 9]"
            ]
          },
          "metadata": {},
          "execution_count": 65
        }
      ]
    },
    {
      "cell_type": "code",
      "source": [
        "b[1:10:2] = [0] * 5\n",
        "b"
      ],
      "metadata": {
        "colab": {
          "base_uri": "https://localhost:8080/"
        },
        "id": "Le0yJRq6DF1Z",
        "outputId": "25a1a823-c63f-4184-bdd5-154672ecbcfe"
      },
      "execution_count": 66,
      "outputs": [
        {
          "output_type": "execute_result",
          "data": {
            "text/plain": [
              "[0, 0, 2, 0, 4, 0, 6, 0, 8, 0, 10, 11, 12, 13, 14, 15, 16, 17, 18, 19]"
            ]
          },
          "metadata": {},
          "execution_count": 66
        }
      ]
    },
    {
      "cell_type": "code",
      "source": [
        "del a[2:5]\n",
        "a"
      ],
      "metadata": {
        "colab": {
          "base_uri": "https://localhost:8080/"
        },
        "id": "A-fJ5iN2DL6R",
        "outputId": "092ea9db-cf73-4222-d189-682c81e7c9fa"
      },
      "execution_count": 67,
      "outputs": [
        {
          "output_type": "execute_result",
          "data": {
            "text/plain": [
              "[1, 6, 4, 5]"
            ]
          },
          "metadata": {},
          "execution_count": 67
        }
      ]
    },
    {
      "cell_type": "markdown",
      "source": [
        "## 딕셔너리"
      ],
      "metadata": {
        "id": "yY4nt-XiDmP5"
      }
    },
    {
      "cell_type": "code",
      "source": [
        "d = {\n",
        "    \"key\" : \"value\"\n",
        "}\n",
        "d"
      ],
      "metadata": {
        "colab": {
          "base_uri": "https://localhost:8080/"
        },
        "id": "FDuNolaLDeXY",
        "outputId": "a6ff44ee-ab3a-40f4-b7f9-184773d17a3c"
      },
      "execution_count": 69,
      "outputs": [
        {
          "output_type": "execute_result",
          "data": {
            "text/plain": [
              "{'key': 'value'}"
            ]
          },
          "metadata": {},
          "execution_count": 69
        }
      ]
    },
    {
      "cell_type": "code",
      "source": [
        "young ={\n",
        "    \"말\": \"아\",\n",
        "    \"지하철\": 1,\n",
        "    \"부\": True,\n",
        "    \"언어\": [\"파\", \"자\", \"자스\"]\n",
        "}\n",
        "young"
      ],
      "metadata": {
        "colab": {
          "base_uri": "https://localhost:8080/"
        },
        "id": "Qpr7sq9iEaS7",
        "outputId": "20a06b2b-2c33-4034-abcd-ce181faf21c8"
      },
      "execution_count": 71,
      "outputs": [
        {
          "output_type": "execute_result",
          "data": {
            "text/plain": [
              "{'말': '아', '지하철': 1, '부': True, '언어': ['파', '자', '자스']}"
            ]
          },
          "metadata": {},
          "execution_count": 71
        }
      ]
    },
    {
      "cell_type": "code",
      "source": [
        "kim = {\n",
        "    \"키\": 100,\n",
        "    \"무게\": 180,\n",
        "    \"키\": 180,\n",
        "    \"무게\": 280\n",
        "} # 중괄호로 묶고, 'key value'로 값들이 표현\n",
        "kim "
      ],
      "metadata": {
        "colab": {
          "base_uri": "https://localhost:8080/"
        },
        "id": "X08Wvcp9EyUy",
        "outputId": "e7da6330-509d-4697-fc93-d30c20a678e2"
      },
      "execution_count": 72,
      "outputs": [
        {
          "output_type": "execute_result",
          "data": {
            "text/plain": [
              "{'키': 180, '무게': 280}"
            ]
          },
          "metadata": {},
          "execution_count": 72
        }
      ]
    },
    {
      "cell_type": "code",
      "source": [
        "# 시퀀스형 중에 리스트와, 딕셔너리 자체만 키값으로 쓸 수 없음\n",
        "{\n",
        "    []: 0,\n",
        "    {}: 0\n",
        "}"
      ],
      "metadata": {
        "colab": {
          "base_uri": "https://localhost:8080/",
          "height": 245
        },
        "id": "dfZO6mW1FJ61",
        "outputId": "1e3bfdce-7808-4bb8-a6cd-66ec50a17a7d"
      },
      "execution_count": 74,
      "outputs": [
        {
          "output_type": "error",
          "ename": "TypeError",
          "evalue": "ignored",
          "traceback": [
            "\u001b[0;31m---------------------------------------------------------------------------\u001b[0m",
            "\u001b[0;31mTypeError\u001b[0m                                 Traceback (most recent call last)",
            "\u001b[0;32m<ipython-input-74-af3586997088>\u001b[0m in \u001b[0;36m<module>\u001b[0;34m\u001b[0m\n\u001b[1;32m      1\u001b[0m \u001b[0;31m# 시퀀스형 중에 리스트와, 딕셔너리 자체만 키값으로 쓸 수 없음\u001b[0m\u001b[0;34m\u001b[0m\u001b[0;34m\u001b[0m\u001b[0;34m\u001b[0m\u001b[0m\n\u001b[0;32m----> 2\u001b[0;31m {\n\u001b[0m\u001b[1;32m      3\u001b[0m     \u001b[0;34m[\u001b[0m\u001b[0;34m]\u001b[0m\u001b[0;34m:\u001b[0m \u001b[0;36m0\u001b[0m\u001b[0;34m,\u001b[0m\u001b[0;34m\u001b[0m\u001b[0;34m\u001b[0m\u001b[0m\n\u001b[1;32m      4\u001b[0m     \u001b[0;34m{\u001b[0m\u001b[0;34m}\u001b[0m\u001b[0;34m:\u001b[0m \u001b[0;36m0\u001b[0m\u001b[0;34m\u001b[0m\u001b[0;34m\u001b[0m\u001b[0m\n\u001b[1;32m      5\u001b[0m }\n",
            "\u001b[0;31mTypeError\u001b[0m: unhashable type: 'list'"
          ]
        }
      ]
    },
    {
      "cell_type": "code",
      "source": [
        "kim['키']"
      ],
      "metadata": {
        "colab": {
          "base_uri": "https://localhost:8080/"
        },
        "id": "Uq_FsQpuFmuU",
        "outputId": "19a363be-6b1a-4c71-dc15-09fff4ff29a0"
      },
      "execution_count": 76,
      "outputs": [
        {
          "output_type": "execute_result",
          "data": {
            "text/plain": [
              "180"
            ]
          },
          "metadata": {},
          "execution_count": 76
        }
      ]
    },
    {
      "cell_type": "code",
      "source": [
        "kim['sal'] = 3000\n",
        "kim"
      ],
      "metadata": {
        "colab": {
          "base_uri": "https://localhost:8080/"
        },
        "id": "4GN9JUb7Fr9D",
        "outputId": "62cc7bb8-07e0-4e27-d11e-49fc91c83420"
      },
      "execution_count": 78,
      "outputs": [
        {
          "output_type": "execute_result",
          "data": {
            "text/plain": [
              "{'키': 180, '무게': 280, 'sal': 3000}"
            ]
          },
          "metadata": {},
          "execution_count": 78
        }
      ]
    },
    {
      "cell_type": "code",
      "source": [
        "'IQ' in kim # 시퀀스 객체(in) - 요소 / 딕셔너리 - 키 (in)/for in - 반복"
      ],
      "metadata": {
        "colab": {
          "base_uri": "https://localhost:8080/"
        },
        "id": "zMcw1fcPGI1B",
        "outputId": "19dfac3c-907f-471e-e85a-cdbfcd7a28df"
      },
      "execution_count": 80,
      "outputs": [
        {
          "output_type": "execute_result",
          "data": {
            "text/plain": [
              "False"
            ]
          },
          "metadata": {},
          "execution_count": 80
        }
      ]
    },
    {
      "cell_type": "code",
      "source": [
        "len(kim) # key의 갯수"
      ],
      "metadata": {
        "colab": {
          "base_uri": "https://localhost:8080/"
        },
        "id": "3NujlESCGZ2m",
        "outputId": "502413aa-59a9-4d37-a261-07e3066ff1be"
      },
      "execution_count": 81,
      "outputs": [
        {
          "output_type": "execute_result",
          "data": {
            "text/plain": [
              "3"
            ]
          },
          "metadata": {},
          "execution_count": 81
        }
      ]
    },
    {
      "cell_type": "code",
      "source": [
        "list(kim) # dict -> list로 감싸주면 -> key를 원소로 가지는 리스트"
      ],
      "metadata": {
        "colab": {
          "base_uri": "https://localhost:8080/"
        },
        "id": "FHLNlNthGc7o",
        "outputId": "12a34ee9-31a1-4ecc-9ec9-2e9122852bcd"
      },
      "execution_count": 83,
      "outputs": [
        {
          "output_type": "execute_result",
          "data": {
            "text/plain": [
              "['키', '무게', 'sal']"
            ]
          },
          "metadata": {},
          "execution_count": 83
        }
      ]
    },
    {
      "cell_type": "markdown",
      "source": [
        "## 조건문"
      ],
      "metadata": {
        "id": "10Cho7wlHtvI"
      }
    },
    {
      "cell_type": "code",
      "source": [
        "switch = True\n",
        "if switch:\n",
        "  print(\"눈\")"
      ],
      "metadata": {
        "colab": {
          "base_uri": "https://localhost:8080/"
        },
        "id": "srQPLNp6HwKv",
        "outputId": "c6538c1b-7480-44d8-cc34-108110617fe6"
      },
      "execution_count": 85,
      "outputs": [
        {
          "output_type": "stream",
          "name": "stdout",
          "text": [
            "눈\n"
          ]
        }
      ]
    },
    {
      "cell_type": "code",
      "source": [
        "tempe = 40\n",
        "if tempe > 38:\n",
        "  print('더워')"
      ],
      "metadata": {
        "colab": {
          "base_uri": "https://localhost:8080/"
        },
        "id": "X6h7cTRSIA5L",
        "outputId": "5eb4b277-3bd9-48e8-9785-e968fffb2242"
      },
      "execution_count": 86,
      "outputs": [
        {
          "output_type": "stream",
          "name": "stdout",
          "text": [
            "더워\n"
          ]
        }
      ]
    },
    {
      "cell_type": "code",
      "source": [
        "tempe = 30\n",
        "if tempe > 38:\n",
        "  print('더워')\n",
        "else:\n",
        "  print('안더워')"
      ],
      "metadata": {
        "colab": {
          "base_uri": "https://localhost:8080/"
        },
        "id": "78YRv48TIICG",
        "outputId": "a23b07ca-5e20-4dac-c81b-c7cefde0b5e6"
      },
      "execution_count": 87,
      "outputs": [
        {
          "output_type": "stream",
          "name": "stdout",
          "text": [
            "안더워\n"
          ]
        }
      ]
    },
    {
      "cell_type": "markdown",
      "source": [
        "## pass\n"
      ],
      "metadata": {
        "id": "MLS4q8niJJIu"
      }
    },
    {
      "cell_type": "code",
      "source": [
        "tempe = 30\n",
        "if tempe > 38:\n",
        "  print('더워')\n",
        "else:\n",
        "  pass"
      ],
      "metadata": {
        "id": "2xmHPjmXJODt"
      },
      "execution_count": 88,
      "outputs": []
    },
    {
      "cell_type": "code",
      "source": [
        "if True:\n",
        "  pass\n",
        "else:\n",
        "  print('hello')"
      ],
      "metadata": {
        "id": "J8uSKo6tJS-f"
      },
      "execution_count": 89,
      "outputs": []
    },
    {
      "cell_type": "code",
      "source": [
        "if True:\n",
        "  ''\n",
        "else:\n",
        "  print('hello')\n",
        "  "
      ],
      "metadata": {
        "id": "T7-DwR19JZyN"
      },
      "execution_count": 90,
      "outputs": []
    },
    {
      "cell_type": "code",
      "source": [
        "name = 'kkq'\n",
        "if name  == \"kkq\":\n",
        "  print('kqkq')"
      ],
      "metadata": {
        "colab": {
          "base_uri": "https://localhost:8080/"
        },
        "id": "aZ2JytMxJg7R",
        "outputId": "5fad0ffd-2acd-4045-f36f-0141f9e95c1d"
      },
      "execution_count": 91,
      "outputs": [
        {
          "output_type": "stream",
          "name": "stdout",
          "text": [
            "kqkq\n"
          ]
        }
      ]
    },
    {
      "cell_type": "code",
      "source": [
        "if 'kkq' in name:\n",
        "  print(\"well\")"
      ],
      "metadata": {
        "colab": {
          "base_uri": "https://localhost:8080/"
        },
        "id": "gKAEOUonJoDt",
        "outputId": "ba6d3d92-5049-4f2c-d794-e48779e49c73"
      },
      "execution_count": 93,
      "outputs": [
        {
          "output_type": "stream",
          "name": "stdout",
          "text": [
            "well\n"
          ]
        }
      ]
    },
    {
      "cell_type": "markdown",
      "source": [
        "### 삼항연산자(조건부 표현식)"
      ],
      "metadata": {
        "id": "WBqtzUwtJ8rX"
      }
    },
    {
      "cell_type": "code",
      "source": [
        "a = None\n",
        "b = True\n",
        "if b:\n",
        "  a = 10\n",
        "else:\n",
        "  a = 100\n",
        "a"
      ],
      "metadata": {
        "colab": {
          "base_uri": "https://localhost:8080/"
        },
        "id": "fGA2olLDJtgE",
        "outputId": "8a2b0d29-a505-42f7-febc-b360b0a24e67"
      },
      "execution_count": 94,
      "outputs": [
        {
          "output_type": "execute_result",
          "data": {
            "text/plain": [
              "10"
            ]
          },
          "metadata": {},
          "execution_count": 94
        }
      ]
    },
    {
      "cell_type": "code",
      "source": [
        "a = 10 if b else 100 # (True 값) if (조건식) else (False 값)"
      ],
      "metadata": {
        "id": "TcuoWq4VKMMi"
      },
      "execution_count": 96,
      "outputs": []
    },
    {
      "cell_type": "markdown",
      "source": [
        "## for"
      ],
      "metadata": {
        "id": "0RB8gbpBOcH0"
      }
    },
    {
      "cell_type": "code",
      "source": [
        "for i in range(10):\n",
        "  print(i, end=\" \")"
      ],
      "metadata": {
        "colab": {
          "base_uri": "https://localhost:8080/"
        },
        "id": "TNgA2YI-K6Wp",
        "outputId": "cde5cb3f-1fe0-487e-f514-5b5d4cc79722"
      },
      "execution_count": 98,
      "outputs": [
        {
          "output_type": "stream",
          "name": "stdout",
          "text": [
            "0 1 2 3 4 5 6 7 8 9 "
          ]
        }
      ]
    },
    {
      "cell_type": "code",
      "source": [
        "i = 100\n",
        "for i in range(10):\n",
        "  pass\n",
        "  print(i)"
      ],
      "metadata": {
        "colab": {
          "base_uri": "https://localhost:8080/"
        },
        "id": "UbHJ4wW7Oox1",
        "outputId": "b4389525-e9d5-489e-eaf6-eba01392297d"
      },
      "execution_count": 101,
      "outputs": [
        {
          "output_type": "stream",
          "name": "stdout",
          "text": [
            "0\n",
            "1\n",
            "2\n",
            "3\n",
            "4\n",
            "5\n",
            "6\n",
            "7\n",
            "8\n",
            "9\n"
          ]
        }
      ]
    },
    {
      "cell_type": "code",
      "source": [
        "# range(n): n회 반복\n",
        "for i in \"hello\": # list -> v, string -> c\n",
        "  print(i) # 루프를 돈다"
      ],
      "metadata": {
        "colab": {
          "base_uri": "https://localhost:8080/"
        },
        "id": "bxZ1EDwyPMwB",
        "outputId": "bb71fe31-34ab-4705-a622-87f743ddbfdb"
      },
      "execution_count": 103,
      "outputs": [
        {
          "output_type": "stream",
          "name": "stdout",
          "text": [
            "h\n",
            "e\n",
            "l\n",
            "l\n",
            "o\n"
          ]
        }
      ]
    },
    {
      "cell_type": "code",
      "source": [
        "a = [\"배\", \"사과\", \"바나나\"]\n",
        "for i in a:\n",
        "  print(a)"
      ],
      "metadata": {
        "colab": {
          "base_uri": "https://localhost:8080/"
        },
        "id": "B3E1QcL4PwGC",
        "outputId": "2ad8afd1-7969-42cb-d942-b35257f09a7c"
      },
      "execution_count": 108,
      "outputs": [
        {
          "output_type": "stream",
          "name": "stdout",
          "text": [
            "['배', '사과', '바나나']\n",
            "['배', '사과', '바나나']\n",
            "['배', '사과', '바나나']\n"
          ]
        }
      ]
    },
    {
      "cell_type": "code",
      "source": [
        "for i in reversed(a):\n",
        "  print(i)"
      ],
      "metadata": {
        "colab": {
          "base_uri": "https://localhost:8080/"
        },
        "id": "pY9H8A9tP3JI",
        "outputId": "0ea3063a-577b-4ff4-ff5e-b57dde713c02"
      },
      "execution_count": 109,
      "outputs": [
        {
          "output_type": "stream",
          "name": "stdout",
          "text": [
            "바나나\n",
            "사과\n",
            "배\n"
          ]
        }
      ]
    },
    {
      "cell_type": "code",
      "source": [
        "a, list(reversed(a))"
      ],
      "metadata": {
        "colab": {
          "base_uri": "https://localhost:8080/"
        },
        "id": "hH3i0QE2QJz3",
        "outputId": "e2814975-b673-427c-b1de-eb8fc931dc19"
      },
      "execution_count": 110,
      "outputs": [
        {
          "output_type": "execute_result",
          "data": {
            "text/plain": [
              "(['배', '사과', '바나나'], ['바나나', '사과', '배'])"
            ]
          },
          "metadata": {},
          "execution_count": 110
        }
      ]
    },
    {
      "cell_type": "markdown",
      "source": [
        "## while"
      ],
      "metadata": {
        "id": "xgZ2wu33QSzL"
      }
    },
    {
      "cell_type": "code",
      "source": [
        "i = 0\n",
        "while i < 10:\n",
        "  print(i, end=\" \")\n",
        "  i += 1"
      ],
      "metadata": {
        "colab": {
          "base_uri": "https://localhost:8080/"
        },
        "id": "kBsdH1AaQUcX",
        "outputId": "68c2f7c1-d04d-41a6-a021-29f67698faec"
      },
      "execution_count": 111,
      "outputs": [
        {
          "output_type": "stream",
          "name": "stdout",
          "text": [
            "0 1 2 3 4 5 6 7 8 9 "
          ]
        }
      ]
    }
  ]
}
