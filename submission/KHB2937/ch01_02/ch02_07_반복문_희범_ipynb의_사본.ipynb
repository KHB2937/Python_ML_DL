{
  "nbformat": 4,
  "nbformat_minor": 0,
  "metadata": {
    "colab": {
      "provenance": [],
      "include_colab_link": true
    },
    "kernelspec": {
      "name": "python3",
      "display_name": "Python 3"
    },
    "language_info": {
      "name": "python"
    },
    "widgets": {
      "application/vnd.jupyter.widget-state+json": {
        "60b91d34408b4c8d9e5e43ee29d4739c": {
          "model_module": "@jupyter-widgets/controls",
          "model_name": "HBoxModel",
          "model_module_version": "1.5.0",
          "state": {
            "_dom_classes": [],
            "_model_module": "@jupyter-widgets/controls",
            "_model_module_version": "1.5.0",
            "_model_name": "HBoxModel",
            "_view_count": null,
            "_view_module": "@jupyter-widgets/controls",
            "_view_module_version": "1.5.0",
            "_view_name": "HBoxView",
            "box_style": "",
            "children": [
              "IPY_MODEL_9a1cba6534914bed8332d3cb2edb04f3",
              "IPY_MODEL_1cd4d705870b4dc7abcfd82b1ddc4904",
              "IPY_MODEL_7618438016534fbaa2bf6ab01935a804"
            ],
            "layout": "IPY_MODEL_cca480caa6c04760bf7b6bb2f53cf413"
          }
        },
        "9a1cba6534914bed8332d3cb2edb04f3": {
          "model_module": "@jupyter-widgets/controls",
          "model_name": "HTMLModel",
          "model_module_version": "1.5.0",
          "state": {
            "_dom_classes": [],
            "_model_module": "@jupyter-widgets/controls",
            "_model_module_version": "1.5.0",
            "_model_name": "HTMLModel",
            "_view_count": null,
            "_view_module": "@jupyter-widgets/controls",
            "_view_module_version": "1.5.0",
            "_view_name": "HTMLView",
            "description": "",
            "description_tooltip": null,
            "layout": "IPY_MODEL_b7fcbce77b6245a3992614ac561a4616",
            "placeholder": "​",
            "style": "IPY_MODEL_f7de8ea603584c13977ed27b7199c418",
            "value": "100%"
          }
        },
        "1cd4d705870b4dc7abcfd82b1ddc4904": {
          "model_module": "@jupyter-widgets/controls",
          "model_name": "FloatProgressModel",
          "model_module_version": "1.5.0",
          "state": {
            "_dom_classes": [],
            "_model_module": "@jupyter-widgets/controls",
            "_model_module_version": "1.5.0",
            "_model_name": "FloatProgressModel",
            "_view_count": null,
            "_view_module": "@jupyter-widgets/controls",
            "_view_module_version": "1.5.0",
            "_view_name": "ProgressView",
            "bar_style": "success",
            "description": "",
            "description_tooltip": null,
            "layout": "IPY_MODEL_fd0071b53f3241218a8eaf02b3f9dae0",
            "max": 5,
            "min": 0,
            "orientation": "horizontal",
            "style": "IPY_MODEL_f40196217da143b481a0366ce67c783c",
            "value": 5
          }
        },
        "7618438016534fbaa2bf6ab01935a804": {
          "model_module": "@jupyter-widgets/controls",
          "model_name": "HTMLModel",
          "model_module_version": "1.5.0",
          "state": {
            "_dom_classes": [],
            "_model_module": "@jupyter-widgets/controls",
            "_model_module_version": "1.5.0",
            "_model_name": "HTMLModel",
            "_view_count": null,
            "_view_module": "@jupyter-widgets/controls",
            "_view_module_version": "1.5.0",
            "_view_name": "HTMLView",
            "description": "",
            "description_tooltip": null,
            "layout": "IPY_MODEL_fdb9a46f6d43459a9e03e05638884ce3",
            "placeholder": "​",
            "style": "IPY_MODEL_6a5f5f902ebf42f0befc3cc814c2e4a1",
            "value": " 5/5 [00:00&lt;00:00, 136.02it/s]"
          }
        },
        "cca480caa6c04760bf7b6bb2f53cf413": {
          "model_module": "@jupyter-widgets/base",
          "model_name": "LayoutModel",
          "model_module_version": "1.2.0",
          "state": {
            "_model_module": "@jupyter-widgets/base",
            "_model_module_version": "1.2.0",
            "_model_name": "LayoutModel",
            "_view_count": null,
            "_view_module": "@jupyter-widgets/base",
            "_view_module_version": "1.2.0",
            "_view_name": "LayoutView",
            "align_content": null,
            "align_items": null,
            "align_self": null,
            "border": null,
            "bottom": null,
            "display": null,
            "flex": null,
            "flex_flow": null,
            "grid_area": null,
            "grid_auto_columns": null,
            "grid_auto_flow": null,
            "grid_auto_rows": null,
            "grid_column": null,
            "grid_gap": null,
            "grid_row": null,
            "grid_template_areas": null,
            "grid_template_columns": null,
            "grid_template_rows": null,
            "height": null,
            "justify_content": null,
            "justify_items": null,
            "left": null,
            "margin": null,
            "max_height": null,
            "max_width": null,
            "min_height": null,
            "min_width": null,
            "object_fit": null,
            "object_position": null,
            "order": null,
            "overflow": null,
            "overflow_x": null,
            "overflow_y": null,
            "padding": null,
            "right": null,
            "top": null,
            "visibility": null,
            "width": null
          }
        },
        "b7fcbce77b6245a3992614ac561a4616": {
          "model_module": "@jupyter-widgets/base",
          "model_name": "LayoutModel",
          "model_module_version": "1.2.0",
          "state": {
            "_model_module": "@jupyter-widgets/base",
            "_model_module_version": "1.2.0",
            "_model_name": "LayoutModel",
            "_view_count": null,
            "_view_module": "@jupyter-widgets/base",
            "_view_module_version": "1.2.0",
            "_view_name": "LayoutView",
            "align_content": null,
            "align_items": null,
            "align_self": null,
            "border": null,
            "bottom": null,
            "display": null,
            "flex": null,
            "flex_flow": null,
            "grid_area": null,
            "grid_auto_columns": null,
            "grid_auto_flow": null,
            "grid_auto_rows": null,
            "grid_column": null,
            "grid_gap": null,
            "grid_row": null,
            "grid_template_areas": null,
            "grid_template_columns": null,
            "grid_template_rows": null,
            "height": null,
            "justify_content": null,
            "justify_items": null,
            "left": null,
            "margin": null,
            "max_height": null,
            "max_width": null,
            "min_height": null,
            "min_width": null,
            "object_fit": null,
            "object_position": null,
            "order": null,
            "overflow": null,
            "overflow_x": null,
            "overflow_y": null,
            "padding": null,
            "right": null,
            "top": null,
            "visibility": null,
            "width": null
          }
        },
        "f7de8ea603584c13977ed27b7199c418": {
          "model_module": "@jupyter-widgets/controls",
          "model_name": "DescriptionStyleModel",
          "model_module_version": "1.5.0",
          "state": {
            "_model_module": "@jupyter-widgets/controls",
            "_model_module_version": "1.5.0",
            "_model_name": "DescriptionStyleModel",
            "_view_count": null,
            "_view_module": "@jupyter-widgets/base",
            "_view_module_version": "1.2.0",
            "_view_name": "StyleView",
            "description_width": ""
          }
        },
        "fd0071b53f3241218a8eaf02b3f9dae0": {
          "model_module": "@jupyter-widgets/base",
          "model_name": "LayoutModel",
          "model_module_version": "1.2.0",
          "state": {
            "_model_module": "@jupyter-widgets/base",
            "_model_module_version": "1.2.0",
            "_model_name": "LayoutModel",
            "_view_count": null,
            "_view_module": "@jupyter-widgets/base",
            "_view_module_version": "1.2.0",
            "_view_name": "LayoutView",
            "align_content": null,
            "align_items": null,
            "align_self": null,
            "border": null,
            "bottom": null,
            "display": null,
            "flex": null,
            "flex_flow": null,
            "grid_area": null,
            "grid_auto_columns": null,
            "grid_auto_flow": null,
            "grid_auto_rows": null,
            "grid_column": null,
            "grid_gap": null,
            "grid_row": null,
            "grid_template_areas": null,
            "grid_template_columns": null,
            "grid_template_rows": null,
            "height": null,
            "justify_content": null,
            "justify_items": null,
            "left": null,
            "margin": null,
            "max_height": null,
            "max_width": null,
            "min_height": null,
            "min_width": null,
            "object_fit": null,
            "object_position": null,
            "order": null,
            "overflow": null,
            "overflow_x": null,
            "overflow_y": null,
            "padding": null,
            "right": null,
            "top": null,
            "visibility": null,
            "width": null
          }
        },
        "f40196217da143b481a0366ce67c783c": {
          "model_module": "@jupyter-widgets/controls",
          "model_name": "ProgressStyleModel",
          "model_module_version": "1.5.0",
          "state": {
            "_model_module": "@jupyter-widgets/controls",
            "_model_module_version": "1.5.0",
            "_model_name": "ProgressStyleModel",
            "_view_count": null,
            "_view_module": "@jupyter-widgets/base",
            "_view_module_version": "1.2.0",
            "_view_name": "StyleView",
            "bar_color": null,
            "description_width": ""
          }
        },
        "fdb9a46f6d43459a9e03e05638884ce3": {
          "model_module": "@jupyter-widgets/base",
          "model_name": "LayoutModel",
          "model_module_version": "1.2.0",
          "state": {
            "_model_module": "@jupyter-widgets/base",
            "_model_module_version": "1.2.0",
            "_model_name": "LayoutModel",
            "_view_count": null,
            "_view_module": "@jupyter-widgets/base",
            "_view_module_version": "1.2.0",
            "_view_name": "LayoutView",
            "align_content": null,
            "align_items": null,
            "align_self": null,
            "border": null,
            "bottom": null,
            "display": null,
            "flex": null,
            "flex_flow": null,
            "grid_area": null,
            "grid_auto_columns": null,
            "grid_auto_flow": null,
            "grid_auto_rows": null,
            "grid_column": null,
            "grid_gap": null,
            "grid_row": null,
            "grid_template_areas": null,
            "grid_template_columns": null,
            "grid_template_rows": null,
            "height": null,
            "justify_content": null,
            "justify_items": null,
            "left": null,
            "margin": null,
            "max_height": null,
            "max_width": null,
            "min_height": null,
            "min_width": null,
            "object_fit": null,
            "object_position": null,
            "order": null,
            "overflow": null,
            "overflow_x": null,
            "overflow_y": null,
            "padding": null,
            "right": null,
            "top": null,
            "visibility": null,
            "width": null
          }
        },
        "6a5f5f902ebf42f0befc3cc814c2e4a1": {
          "model_module": "@jupyter-widgets/controls",
          "model_name": "DescriptionStyleModel",
          "model_module_version": "1.5.0",
          "state": {
            "_model_module": "@jupyter-widgets/controls",
            "_model_module_version": "1.5.0",
            "_model_name": "DescriptionStyleModel",
            "_view_count": null,
            "_view_module": "@jupyter-widgets/base",
            "_view_module_version": "1.2.0",
            "_view_name": "StyleView",
            "description_width": ""
          }
        },
        "0a4a889ed66d4725aaecd9455f970206": {
          "model_module": "@jupyter-widgets/controls",
          "model_name": "HBoxModel",
          "model_module_version": "1.5.0",
          "state": {
            "_dom_classes": [],
            "_model_module": "@jupyter-widgets/controls",
            "_model_module_version": "1.5.0",
            "_model_name": "HBoxModel",
            "_view_count": null,
            "_view_module": "@jupyter-widgets/controls",
            "_view_module_version": "1.5.0",
            "_view_name": "HBoxView",
            "box_style": "",
            "children": [
              "IPY_MODEL_0358499915e64658a27f58bdccec3efc",
              "IPY_MODEL_0e29f2ca786142b9bbc1994be1f2b27f",
              "IPY_MODEL_fc9c64f59ab14ced869c3fb63b515243"
            ],
            "layout": "IPY_MODEL_a0f743c653ec42fd84825db138dc26e1"
          }
        },
        "0358499915e64658a27f58bdccec3efc": {
          "model_module": "@jupyter-widgets/controls",
          "model_name": "HTMLModel",
          "model_module_version": "1.5.0",
          "state": {
            "_dom_classes": [],
            "_model_module": "@jupyter-widgets/controls",
            "_model_module_version": "1.5.0",
            "_model_name": "HTMLModel",
            "_view_count": null,
            "_view_module": "@jupyter-widgets/controls",
            "_view_module_version": "1.5.0",
            "_view_name": "HTMLView",
            "description": "",
            "description_tooltip": null,
            "layout": "IPY_MODEL_d0a6b78819f94ef7950edaffebb70eea",
            "placeholder": "​",
            "style": "IPY_MODEL_0215b6348eb8448081753c5d30263e15",
            "value": "100%"
          }
        },
        "0e29f2ca786142b9bbc1994be1f2b27f": {
          "model_module": "@jupyter-widgets/controls",
          "model_name": "FloatProgressModel",
          "model_module_version": "1.5.0",
          "state": {
            "_dom_classes": [],
            "_model_module": "@jupyter-widgets/controls",
            "_model_module_version": "1.5.0",
            "_model_name": "FloatProgressModel",
            "_view_count": null,
            "_view_module": "@jupyter-widgets/controls",
            "_view_module_version": "1.5.0",
            "_view_name": "ProgressView",
            "bar_style": "success",
            "description": "",
            "description_tooltip": null,
            "layout": "IPY_MODEL_c80f72e8b0444d1381c092922516fec3",
            "max": 5,
            "min": 0,
            "orientation": "horizontal",
            "style": "IPY_MODEL_76876d46f12d400d951e7da3afbbf846",
            "value": 5
          }
        },
        "fc9c64f59ab14ced869c3fb63b515243": {
          "model_module": "@jupyter-widgets/controls",
          "model_name": "HTMLModel",
          "model_module_version": "1.5.0",
          "state": {
            "_dom_classes": [],
            "_model_module": "@jupyter-widgets/controls",
            "_model_module_version": "1.5.0",
            "_model_name": "HTMLModel",
            "_view_count": null,
            "_view_module": "@jupyter-widgets/controls",
            "_view_module_version": "1.5.0",
            "_view_name": "HTMLView",
            "description": "",
            "description_tooltip": null,
            "layout": "IPY_MODEL_bf72b63f0a7543049c980e490b94c183",
            "placeholder": "​",
            "style": "IPY_MODEL_fffb34f5434c43d7a076cc17439fba66",
            "value": " 5/5 [00:05&lt;00:00,  1.01s/it]"
          }
        },
        "a0f743c653ec42fd84825db138dc26e1": {
          "model_module": "@jupyter-widgets/base",
          "model_name": "LayoutModel",
          "model_module_version": "1.2.0",
          "state": {
            "_model_module": "@jupyter-widgets/base",
            "_model_module_version": "1.2.0",
            "_model_name": "LayoutModel",
            "_view_count": null,
            "_view_module": "@jupyter-widgets/base",
            "_view_module_version": "1.2.0",
            "_view_name": "LayoutView",
            "align_content": null,
            "align_items": null,
            "align_self": null,
            "border": null,
            "bottom": null,
            "display": null,
            "flex": null,
            "flex_flow": null,
            "grid_area": null,
            "grid_auto_columns": null,
            "grid_auto_flow": null,
            "grid_auto_rows": null,
            "grid_column": null,
            "grid_gap": null,
            "grid_row": null,
            "grid_template_areas": null,
            "grid_template_columns": null,
            "grid_template_rows": null,
            "height": null,
            "justify_content": null,
            "justify_items": null,
            "left": null,
            "margin": null,
            "max_height": null,
            "max_width": null,
            "min_height": null,
            "min_width": null,
            "object_fit": null,
            "object_position": null,
            "order": null,
            "overflow": null,
            "overflow_x": null,
            "overflow_y": null,
            "padding": null,
            "right": null,
            "top": null,
            "visibility": null,
            "width": null
          }
        },
        "d0a6b78819f94ef7950edaffebb70eea": {
          "model_module": "@jupyter-widgets/base",
          "model_name": "LayoutModel",
          "model_module_version": "1.2.0",
          "state": {
            "_model_module": "@jupyter-widgets/base",
            "_model_module_version": "1.2.0",
            "_model_name": "LayoutModel",
            "_view_count": null,
            "_view_module": "@jupyter-widgets/base",
            "_view_module_version": "1.2.0",
            "_view_name": "LayoutView",
            "align_content": null,
            "align_items": null,
            "align_self": null,
            "border": null,
            "bottom": null,
            "display": null,
            "flex": null,
            "flex_flow": null,
            "grid_area": null,
            "grid_auto_columns": null,
            "grid_auto_flow": null,
            "grid_auto_rows": null,
            "grid_column": null,
            "grid_gap": null,
            "grid_row": null,
            "grid_template_areas": null,
            "grid_template_columns": null,
            "grid_template_rows": null,
            "height": null,
            "justify_content": null,
            "justify_items": null,
            "left": null,
            "margin": null,
            "max_height": null,
            "max_width": null,
            "min_height": null,
            "min_width": null,
            "object_fit": null,
            "object_position": null,
            "order": null,
            "overflow": null,
            "overflow_x": null,
            "overflow_y": null,
            "padding": null,
            "right": null,
            "top": null,
            "visibility": null,
            "width": null
          }
        },
        "0215b6348eb8448081753c5d30263e15": {
          "model_module": "@jupyter-widgets/controls",
          "model_name": "DescriptionStyleModel",
          "model_module_version": "1.5.0",
          "state": {
            "_model_module": "@jupyter-widgets/controls",
            "_model_module_version": "1.5.0",
            "_model_name": "DescriptionStyleModel",
            "_view_count": null,
            "_view_module": "@jupyter-widgets/base",
            "_view_module_version": "1.2.0",
            "_view_name": "StyleView",
            "description_width": ""
          }
        },
        "c80f72e8b0444d1381c092922516fec3": {
          "model_module": "@jupyter-widgets/base",
          "model_name": "LayoutModel",
          "model_module_version": "1.2.0",
          "state": {
            "_model_module": "@jupyter-widgets/base",
            "_model_module_version": "1.2.0",
            "_model_name": "LayoutModel",
            "_view_count": null,
            "_view_module": "@jupyter-widgets/base",
            "_view_module_version": "1.2.0",
            "_view_name": "LayoutView",
            "align_content": null,
            "align_items": null,
            "align_self": null,
            "border": null,
            "bottom": null,
            "display": null,
            "flex": null,
            "flex_flow": null,
            "grid_area": null,
            "grid_auto_columns": null,
            "grid_auto_flow": null,
            "grid_auto_rows": null,
            "grid_column": null,
            "grid_gap": null,
            "grid_row": null,
            "grid_template_areas": null,
            "grid_template_columns": null,
            "grid_template_rows": null,
            "height": null,
            "justify_content": null,
            "justify_items": null,
            "left": null,
            "margin": null,
            "max_height": null,
            "max_width": null,
            "min_height": null,
            "min_width": null,
            "object_fit": null,
            "object_position": null,
            "order": null,
            "overflow": null,
            "overflow_x": null,
            "overflow_y": null,
            "padding": null,
            "right": null,
            "top": null,
            "visibility": null,
            "width": null
          }
        },
        "76876d46f12d400d951e7da3afbbf846": {
          "model_module": "@jupyter-widgets/controls",
          "model_name": "ProgressStyleModel",
          "model_module_version": "1.5.0",
          "state": {
            "_model_module": "@jupyter-widgets/controls",
            "_model_module_version": "1.5.0",
            "_model_name": "ProgressStyleModel",
            "_view_count": null,
            "_view_module": "@jupyter-widgets/base",
            "_view_module_version": "1.2.0",
            "_view_name": "StyleView",
            "bar_color": null,
            "description_width": ""
          }
        },
        "bf72b63f0a7543049c980e490b94c183": {
          "model_module": "@jupyter-widgets/base",
          "model_name": "LayoutModel",
          "model_module_version": "1.2.0",
          "state": {
            "_model_module": "@jupyter-widgets/base",
            "_model_module_version": "1.2.0",
            "_model_name": "LayoutModel",
            "_view_count": null,
            "_view_module": "@jupyter-widgets/base",
            "_view_module_version": "1.2.0",
            "_view_name": "LayoutView",
            "align_content": null,
            "align_items": null,
            "align_self": null,
            "border": null,
            "bottom": null,
            "display": null,
            "flex": null,
            "flex_flow": null,
            "grid_area": null,
            "grid_auto_columns": null,
            "grid_auto_flow": null,
            "grid_auto_rows": null,
            "grid_column": null,
            "grid_gap": null,
            "grid_row": null,
            "grid_template_areas": null,
            "grid_template_columns": null,
            "grid_template_rows": null,
            "height": null,
            "justify_content": null,
            "justify_items": null,
            "left": null,
            "margin": null,
            "max_height": null,
            "max_width": null,
            "min_height": null,
            "min_width": null,
            "object_fit": null,
            "object_position": null,
            "order": null,
            "overflow": null,
            "overflow_x": null,
            "overflow_y": null,
            "padding": null,
            "right": null,
            "top": null,
            "visibility": null,
            "width": null
          }
        },
        "fffb34f5434c43d7a076cc17439fba66": {
          "model_module": "@jupyter-widgets/controls",
          "model_name": "DescriptionStyleModel",
          "model_module_version": "1.5.0",
          "state": {
            "_model_module": "@jupyter-widgets/controls",
            "_model_module_version": "1.5.0",
            "_model_name": "DescriptionStyleModel",
            "_view_count": null,
            "_view_module": "@jupyter-widgets/base",
            "_view_module_version": "1.2.0",
            "_view_name": "StyleView",
            "description_width": ""
          }
        }
      }
    }
  },
  "cells": [
    {
      "cell_type": "markdown",
      "metadata": {
        "id": "view-in-github",
        "colab_type": "text"
      },
      "source": [
        "<a href=\"https://colab.research.google.com/github/KHB2937/Python/blob/main/submission/KHB2937/ch02_07_%EB%B0%98%EB%B3%B5%EB%AC%B8_%ED%9D%AC%EB%B2%94_ipynb%EC%9D%98_%EC%82%AC%EB%B3%B8.ipynb\" target=\"_parent\"><img src=\"https://colab.research.google.com/assets/colab-badge.svg\" alt=\"Open In Colab\"/></a>"
      ]
    },
    {
      "cell_type": "markdown",
      "source": [
        "# for"
      ],
      "metadata": {
        "id": "x6bYgpP8CaFz"
      }
    },
    {
      "cell_type": "markdown",
      "source": [
        "## for와 range 사용하기"
      ],
      "metadata": {
        "id": "TCbL3yZbCbqA"
      }
    },
    {
      "cell_type": "markdown",
      "source": [
        "파이썬의 for 반복문은 다양한 사용 방법이 있지만, 먼저 range와 함께 사용하는 방법부터 알아보겠습니다. 다음과 같이 for 반복문은 range에 반복할 횟수를 지정하고 앞에 in과 변수를 입력합니다. 그리고 끝에 :(콜론)을 붙인 뒤 다음 줄에 반복할 코드를 넣습니다.\n",
        "\n",
        "```\n",
        "for 변수 in range(횟수):\n",
        "     반복할 코드\n",
        "```\n",
        "\n",
        "for 다음 줄에 오는 코드는 반드시 들여쓰기를 해줍니다(들여쓰기 규칙은 if, elif, else와 같습니다)."
      ],
      "metadata": {
        "id": "BA_TucMYCgSV"
      }
    },
    {
      "cell_type": "code",
      "source": [
        "반복할 획수가 정해져 있을 때\n",
        "for i in range(10): #range 안에 있는 원소들은 순서대로 i라는 이름으로 꺼내쓰겠습니다.\n",
        "  print(\"집에가고싶다\") # 0~99 루프(loop)"
      ],
      "metadata": {
        "id": "ERN1dWE0CZnj",
        "colab": {
          "base_uri": "https://localhost:8080/"
        },
        "outputId": "302ce320-4261-4a0a-a815-7528b52f2889"
      },
      "execution_count": 2,
      "outputs": [
        {
          "output_type": "stream",
          "name": "stdout",
          "text": [
            "집에가고싶다\n",
            "집에가고싶다\n",
            "집에가고싶다\n",
            "집에가고싶다\n",
            "집에가고싶다\n",
            "집에가고싶다\n",
            "집에가고싶다\n",
            "집에가고싶다\n",
            "집에가고싶다\n",
            "집에가고싶다\n"
          ]
        }
      ]
    },
    {
      "cell_type": "markdown",
      "source": [
        "### 반복문에서 변수의 변화 알아보기"
      ],
      "metadata": {
        "id": "u5WW-AGJC2fb"
      }
    },
    {
      "cell_type": "code",
      "execution_count": 3,
      "metadata": {
        "id": "gQJptDWlBG2X",
        "colab": {
          "base_uri": "https://localhost:8080/"
        },
        "outputId": "650db982-4ff6-45c2-9dd0-1b304e3bb6ec"
      },
      "outputs": [
        {
          "output_type": "stream",
          "name": "stdout",
          "text": [
            "0 번째\n",
            "1 번째\n",
            "2 번째\n",
            "3 번째\n",
            "4 번째\n",
            "5 번째\n",
            "6 번째\n",
            "7 번째\n",
            "8 번째\n",
            "9 번째\n"
          ]
        }
      ],
      "source": [
        "for i in range(10): # range에서 순서대로 꺼내씀\n",
        "  print(i, \"번째\")"
      ]
    },
    {
      "cell_type": "markdown",
      "source": [
        "### 반복문의 변수 i"
      ],
      "metadata": {
        "id": "Jz4QOMg_C8mp"
      }
    },
    {
      "cell_type": "markdown",
      "source": [
        "변수 i를 루프 인덱스라고도 부르며 index의 첫 머리글자를 따서 i를 주로 사용합니다"
      ],
      "metadata": {
        "id": "EFhKW0RADAZa"
      }
    },
    {
      "cell_type": "markdown",
      "source": [
        "## for와 range 응용하기"
      ],
      "metadata": {
        "id": "TK6ktcEbiG6P"
      }
    },
    {
      "cell_type": "markdown",
      "source": [
        "### 시작하는 숫자와 끝나는 숫자 지정하기"
      ],
      "metadata": {
        "id": "3Qt_4ao7iK06"
      }
    },
    {
      "cell_type": "markdown",
      "source": [
        "range에 횟수만 지정하면 숫자가 0부터 시작하지만, 다음과 같이 시작하는 숫자와 끝나는 숫자를 지정해서 반복할 수도 있습니다.\n",
        "\n",
        "* `for 변수 in range(시작, 끝):`"
      ],
      "metadata": {
        "id": "9CKQCvvuiNP7"
      }
    },
    {
      "cell_type": "code",
      "source": [
        "for i in range(5, 12):\n",
        "  print(i) #원소의 갯수만큼 반복"
      ],
      "metadata": {
        "colab": {
          "base_uri": "https://localhost:8080/"
        },
        "id": "YT1zMOFFiQoz",
        "outputId": "82e510b3-edd9-48d5-deb5-13a4af71696a"
      },
      "execution_count": 4,
      "outputs": [
        {
          "output_type": "stream",
          "name": "stdout",
          "text": [
            "5\n",
            "6\n",
            "7\n",
            "8\n",
            "9\n",
            "10\n",
            "11\n"
          ]
        }
      ]
    },
    {
      "cell_type": "markdown",
      "source": [
        "### 증가폭 사용하기"
      ],
      "metadata": {
        "id": "OolJZuG7iYvx"
      }
    },
    {
      "cell_type": "markdown",
      "source": [
        "range는 증가폭을 지정해서 해당 값만큼 숫자를 증가시킬 수 있죠? 이번에는 0부터 9까지의 숫자 중에서 짝수만 출력해보겠습니다.\n",
        "\n",
        "* `for 변수 in range(시작, 끝, 증가폭):`"
      ],
      "metadata": {
        "id": "Xiyoijusic9R"
      }
    },
    {
      "cell_type": "code",
      "source": [
        "for i in range(0,10,2):\n",
        "  print(i)"
      ],
      "metadata": {
        "colab": {
          "base_uri": "https://localhost:8080/"
        },
        "id": "nUMmstHBiSjN",
        "outputId": "78274947-63a1-4744-aaa2-fd8dd4322c78"
      },
      "execution_count": 5,
      "outputs": [
        {
          "output_type": "stream",
          "name": "stdout",
          "text": [
            "0\n",
            "2\n",
            "4\n",
            "6\n",
            "8\n"
          ]
        }
      ]
    },
    {
      "cell_type": "markdown",
      "source": [
        "### 숫자를 감소시키기"
      ],
      "metadata": {
        "id": "nkNtL8tlijlY"
      }
    },
    {
      "cell_type": "code",
      "source": [
        "for i in range(10, 0): # 증가값 정해주지 않으면 기본 1씩 증가 \n",
        "  print(i)"
      ],
      "metadata": {
        "id": "p46sR_neiguE"
      },
      "execution_count": 6,
      "outputs": []
    },
    {
      "cell_type": "markdown",
      "source": [
        "range(10, 0)과 같이 시작하는 숫자를 큰 숫자로 지정하고 끝나는 숫자를 작은 숫자로 지정하면 숫자가 감소할 것 같은데, 실행을 해보면 아무것도 출력되지 않습니다. 왜냐하면 range는 숫자가 증가하는 기본 값이 양수 1이기 때문입니다."
      ],
      "metadata": {
        "id": "hF7edthnir6Z"
      }
    },
    {
      "cell_type": "code",
      "source": [
        "for i in range(10, 0, -1): \n",
        "  print(i)"
      ],
      "metadata": {
        "colab": {
          "base_uri": "https://localhost:8080/"
        },
        "id": "VqTy_-YyiqAb",
        "outputId": "a1794dfe-4a7a-4bdb-9c17-ddd18d44343c"
      },
      "execution_count": 9,
      "outputs": [
        {
          "output_type": "stream",
          "name": "stdout",
          "text": [
            "9\n",
            "8\n",
            "7\n",
            "6\n",
            "5\n",
            "4\n",
            "3\n",
            "2\n",
            "1\n",
            "0\n"
          ]
        }
      ]
    },
    {
      "cell_type": "markdown",
      "source": [
        "증가폭을 음수로 지정하는 방법 말고도 reversed를 사용하면 숫자의 순서를 반대로 뒤집을 수 있습니다.\n",
        "\n",
        "* `for 변수 in reversed(range(횟수))`\n",
        "* `for 변수 in reversed(range(시작, 끝))`\n",
        "* `for 변수 in reversed(range(시작, 끝, 증가폭))`"
      ],
      "metadata": {
        "id": "bJEoZKpdi1Fl"
      }
    },
    {
      "cell_type": "code",
      "source": [],
      "metadata": {
        "colab": {
          "base_uri": "https://localhost:8080/"
        },
        "id": "oqNZappoi0ox",
        "outputId": "b70c317a-c9fb-40e0-a652-e24fa09f29ec"
      },
      "execution_count": null,
      "outputs": [
        {
          "output_type": "stream",
          "name": "stdout",
          "text": [
            "Hello, world! 9\n",
            "Hello, world! 8\n",
            "Hello, world! 7\n",
            "Hello, world! 6\n",
            "Hello, world! 5\n",
            "Hello, world! 4\n",
            "Hello, world! 3\n",
            "Hello, world! 2\n",
            "Hello, world! 1\n",
            "Hello, world! 0\n"
          ]
        }
      ]
    },
    {
      "cell_type": "code",
      "source": [
        "# 슬라이싱으로 뒤집기\n",
        "for i in reversed(range(10)):\n",
        "  print(i)"
      ],
      "metadata": {
        "colab": {
          "base_uri": "https://localhost:8080/"
        },
        "id": "IDqjlzdniuTL",
        "outputId": "986fd661-3ea8-4192-d6c4-a570d2582fb1"
      },
      "execution_count": 13,
      "outputs": [
        {
          "output_type": "stream",
          "name": "stdout",
          "text": [
            "9\n",
            "8\n",
            "7\n",
            "6\n",
            "5\n",
            "4\n",
            "3\n",
            "2\n",
            "1\n",
            "0\n"
          ]
        }
      ]
    },
    {
      "cell_type": "markdown",
      "source": [
        "### 반복문의 변수 i를 변경할 수 있을까?"
      ],
      "metadata": {
        "id": "Vq2nfjezkVKR"
      }
    },
    {
      "cell_type": "code",
      "source": [
        "# 다음과 같이 for와 range로 반복하면서 변수 i를 변경하면 어떻게 될까요?\n",
        "for i in range(10)[::-1]: \n",
        "  print(i, end = ' ')"
      ],
      "metadata": {
        "colab": {
          "base_uri": "https://localhost:8080/"
        },
        "id": "iixT5JSPkWDl",
        "outputId": "b6013338-4835-4485-d538-bc2e50928a0d"
      },
      "execution_count": 38,
      "outputs": [
        {
          "output_type": "stream",
          "name": "stdout",
          "text": [
            "9 8 7 6 5 4 3 2 1 0 "
          ]
        }
      ]
    },
    {
      "cell_type": "markdown",
      "source": [
        "### 입력한 횟수대로 반복하기"
      ],
      "metadata": {
        "id": "qS40a9qNkfGD"
      }
    },
    {
      "cell_type": "code",
      "source": [
        "for i in range(0, 10):\n",
        "  print(\"시작 \", i, end = ' ')\n",
        "  i = 100\n",
        "  print(\"끝 \", i)"
      ],
      "metadata": {
        "colab": {
          "base_uri": "https://localhost:8080/"
        },
        "id": "QHw5Os1HkaAD",
        "outputId": "bccdf89e-332f-40c4-964b-025b59e25b35"
      },
      "execution_count": 27,
      "outputs": [
        {
          "output_type": "stream",
          "name": "stdout",
          "text": [
            "시작  0 끝  100\n",
            "시작  1 끝  100\n",
            "시작  2 끝  100\n",
            "시작  3 끝  100\n",
            "시작  4 끝  100\n",
            "시작  5 끝  100\n",
            "시작  6 끝  100\n",
            "시작  7 끝  100\n",
            "시작  8 끝  100\n",
            "시작  9 끝  100\n"
          ]
        }
      ]
    },
    {
      "cell_type": "code",
      "source": [
        "a = [10, 15, 25, 40, 65]\n",
        "for i in a:\n",
        "  print(i)"
      ],
      "metadata": {
        "colab": {
          "base_uri": "https://localhost:8080/"
        },
        "id": "TtWhCnuzQCEA",
        "outputId": "ea1eefaa-7e82-4163-826e-ffe6feb2b364"
      },
      "execution_count": 29,
      "outputs": [
        {
          "output_type": "stream",
          "name": "stdout",
          "text": [
            "10\n",
            "15\n",
            "25\n",
            "40\n",
            "65\n"
          ]
        }
      ]
    },
    {
      "cell_type": "code",
      "source": [
        "count = int(input())\n",
        "\n",
        "for i in range(count):\n",
        "  print(i, \"번째 반복\")"
      ],
      "metadata": {
        "id": "p0BD80usQGT_"
      },
      "execution_count": null,
      "outputs": []
    },
    {
      "cell_type": "markdown",
      "source": [
        "## 시퀀스 객체로 반복하기"
      ],
      "metadata": {
        "id": "gxQa3T0UlKHf"
      }
    },
    {
      "cell_type": "markdown",
      "source": [
        "지금까지 for에 range를 사용하면서 눈치챘겠지만, for에 range 대신 시퀀스 객체를 넣어도 될 것 같죠? 맞습니다. for는 리스트, 튜플, 문자열 등 시퀀스 객체로 반복할 수 있습니다.\n",
        "\n",
        "for에 range 대신 리스트를 넣으면 리스트의 요소를 꺼내면서 반복합니다."
      ],
      "metadata": {
        "id": "e3KcyjpYlMUq"
      }
    },
    {
      "cell_type": "code",
      "source": [
        "a = [10, 15, 25, 40, 65]\n",
        "for i in a:\n",
        "  print(i)"
      ],
      "metadata": {
        "colab": {
          "base_uri": "https://localhost:8080/"
        },
        "id": "eVA1Q9iHkg_z",
        "outputId": "667507d0-12a7-4f9a-83f7-5e9fb17dde97"
      },
      "execution_count": 26,
      "outputs": [
        {
          "output_type": "stream",
          "name": "stdout",
          "text": [
            "10\n",
            "15\n",
            "25\n",
            "40\n",
            "65\n"
          ]
        }
      ]
    },
    {
      "cell_type": "code",
      "source": [
        "# 물론 튜플도 마찬가지로 튜플의 요소를 꺼내면서 반복합니다\n",
        "t = ['apple', 'orange', 'grape']\n",
        "for fruit in t:\n",
        "  print(fruit)"
      ],
      "metadata": {
        "colab": {
          "base_uri": "https://localhost:8080/"
        },
        "id": "IX77x3nRlQU1",
        "outputId": "90180675-edb1-4124-ad3b-086519c361c2"
      },
      "execution_count": 30,
      "outputs": [
        {
          "output_type": "stream",
          "name": "stdout",
          "text": [
            "apple\n",
            "orange\n",
            "grape\n"
          ]
        }
      ]
    },
    {
      "cell_type": "markdown",
      "source": [
        "참고로 여기서는 for 반복문의 변수를 i 대신 fruit로 사용했습니다. for에서 변수 i는 다른 이름으로 만들어도 상관없습니다."
      ],
      "metadata": {
        "id": "oasjBhR-lXtD"
      }
    },
    {
      "cell_type": "code",
      "source": [
        "# 문자열도 시퀀스 객체라고 했죠? for에 문자열을 지정하면 문자를 하나씩 꺼내면서 반복합니다.\n",
        "s = 'holly molly'\n",
        "for character in s:\n",
        "  print(character, end = ' ')"
      ],
      "metadata": {
        "colab": {
          "base_uri": "https://localhost:8080/"
        },
        "id": "I1HszRFzlU99",
        "outputId": "9e116fdf-a0a7-49d3-f37c-29f3d9c92ef9"
      },
      "execution_count": 32,
      "outputs": [
        {
          "output_type": "stream",
          "name": "stdout",
          "text": [
            "h o l l y   m o l l y "
          ]
        }
      ]
    },
    {
      "cell_type": "markdown",
      "source": [
        "문자열 'Python'의 문자가 하나씩 분리되어 출력되었습니다. 여기서는 print에 end=' '을 지정했으므로 줄바꿈이 되지 않고, 각 문자가 공백으로 띄워져서 출력됩니다.\n",
        "\n",
        "그럼 문자열 'Python'을 뒤집어서 문자를 출력할 수는 없을까요? 이때는 앞에서 배운 reversed를 활용하면 됩니다.\n",
        "\n",
        "* `reversed(시퀀스객체)`"
      ],
      "metadata": {
        "id": "JfzgRa6Jlhte"
      }
    },
    {
      "cell_type": "code",
      "source": [
        "for character in reversed(s):\n",
        "  print(character, end = ' ')"
      ],
      "metadata": {
        "colab": {
          "base_uri": "https://localhost:8080/"
        },
        "id": "UhTEddj2lcBj",
        "outputId": "cefe7f76-6ef1-4eb3-dfa1-bf6963577c44"
      },
      "execution_count": 33,
      "outputs": [
        {
          "output_type": "stream",
          "name": "stdout",
          "text": [
            "y l l o m   y l l o h "
          ]
        }
      ]
    },
    {
      "cell_type": "code",
      "source": [
        "for character in s[::-1]:\n",
        "  print(character, end = ' ')"
      ],
      "metadata": {
        "colab": {
          "base_uri": "https://localhost:8080/"
        },
        "id": "Q60rziNUlldU",
        "outputId": "85e7f41a-1ed3-4975-add0-59c1b8a63b8d"
      },
      "execution_count": 39,
      "outputs": [
        {
          "output_type": "stream",
          "name": "stdout",
          "text": [
            "y l l o m   y l l o h "
          ]
        }
      ]
    },
    {
      "cell_type": "code",
      "source": [
        "for i in enumerate(a): # 값 -> enumerate => index, value 튜플\n",
        "  print(i)"
      ],
      "metadata": {
        "colab": {
          "base_uri": "https://localhost:8080/"
        },
        "id": "DdeFjUd6RZ2O",
        "outputId": "bbfef100-5f85-49ed-f9a4-ff7e443954b4"
      },
      "execution_count": 43,
      "outputs": [
        {
          "output_type": "stream",
          "name": "stdout",
          "text": [
            "(0, 10)\n",
            "(1, 15)\n",
            "(2, 25)\n",
            "(3, 40)\n",
            "(4, 65)\n"
          ]
        }
      ]
    },
    {
      "cell_type": "code",
      "source": [
        "from tqdm.notebook import tqdm\n",
        "from time import sleep"
      ],
      "metadata": {
        "id": "ki32-efcRtyL"
      },
      "execution_count": 48,
      "outputs": []
    },
    {
      "cell_type": "code",
      "source": [
        "for i in enumerate(tqdm(a)):\n",
        "  print(i)"
      ],
      "metadata": {
        "colab": {
          "base_uri": "https://localhost:8080/",
          "height": 140,
          "referenced_widgets": [
            "60b91d34408b4c8d9e5e43ee29d4739c",
            "9a1cba6534914bed8332d3cb2edb04f3",
            "1cd4d705870b4dc7abcfd82b1ddc4904",
            "7618438016534fbaa2bf6ab01935a804",
            "cca480caa6c04760bf7b6bb2f53cf413",
            "b7fcbce77b6245a3992614ac561a4616",
            "f7de8ea603584c13977ed27b7199c418",
            "fd0071b53f3241218a8eaf02b3f9dae0",
            "f40196217da143b481a0366ce67c783c",
            "fdb9a46f6d43459a9e03e05638884ce3",
            "6a5f5f902ebf42f0befc3cc814c2e4a1"
          ]
        },
        "id": "xCNS_tgARz2x",
        "outputId": "a5a40ae4-a65a-42b0-aeb8-b71790ac8fe3"
      },
      "execution_count": 46,
      "outputs": [
        {
          "output_type": "display_data",
          "data": {
            "text/plain": [
              "  0%|          | 0/5 [00:00<?, ?it/s]"
            ],
            "application/vnd.jupyter.widget-view+json": {
              "version_major": 2,
              "version_minor": 0,
              "model_id": "60b91d34408b4c8d9e5e43ee29d4739c"
            }
          },
          "metadata": {}
        },
        {
          "output_type": "stream",
          "name": "stdout",
          "text": [
            "(0, 10)\n",
            "(1, 15)\n",
            "(2, 25)\n",
            "(3, 40)\n",
            "(4, 65)\n"
          ]
        }
      ]
    },
    {
      "cell_type": "code",
      "source": [
        "for i in enumerate(tqdm(a)):\n",
        "  sleep(1)\n",
        "  print(i)"
      ],
      "metadata": {
        "colab": {
          "base_uri": "https://localhost:8080/",
          "height": 140,
          "referenced_widgets": [
            "0a4a889ed66d4725aaecd9455f970206",
            "0358499915e64658a27f58bdccec3efc",
            "0e29f2ca786142b9bbc1994be1f2b27f",
            "fc9c64f59ab14ced869c3fb63b515243",
            "a0f743c653ec42fd84825db138dc26e1",
            "d0a6b78819f94ef7950edaffebb70eea",
            "0215b6348eb8448081753c5d30263e15",
            "c80f72e8b0444d1381c092922516fec3",
            "76876d46f12d400d951e7da3afbbf846",
            "bf72b63f0a7543049c980e490b94c183",
            "fffb34f5434c43d7a076cc17439fba66"
          ]
        },
        "id": "fhNZgRi-R680",
        "outputId": "dece2512-08f5-4669-a96d-b6fe21d7afcd"
      },
      "execution_count": 49,
      "outputs": [
        {
          "output_type": "display_data",
          "data": {
            "text/plain": [
              "  0%|          | 0/5 [00:00<?, ?it/s]"
            ],
            "application/vnd.jupyter.widget-view+json": {
              "version_major": 2,
              "version_minor": 0,
              "model_id": "0a4a889ed66d4725aaecd9455f970206"
            }
          },
          "metadata": {}
        },
        {
          "output_type": "stream",
          "name": "stdout",
          "text": [
            "(0, 10)\n",
            "(1, 15)\n",
            "(2, 25)\n",
            "(3, 40)\n",
            "(4, 65)\n"
          ]
        }
      ]
    },
    {
      "cell_type": "markdown",
      "source": [
        "# while"
      ],
      "metadata": {
        "id": "z8LI6wzipb6P"
      }
    },
    {
      "cell_type": "markdown",
      "source": [
        "## while 반복문 사용하기"
      ],
      "metadata": {
        "id": "tpwpcdMMlr3J"
      }
    },
    {
      "cell_type": "markdown",
      "source": [
        "while 반복문은 조건식으로만 동작하며 반복할 코드 안에 조건식에 영향을 주는 변화식이 들어갑니다."
      ],
      "metadata": {
        "id": "yrGuZLpBmg7e"
      }
    },
    {
      "cell_type": "code",
      "source": [
        "money = 1000\n",
        "# 거스름돈을 100원씩 거슬러줘야됨\n",
        "while money > 0:\n",
        "  print(money, '만큼 남음')\n",
        "  money -= 100\n",
        "print('다줌')"
      ],
      "metadata": {
        "id": "ZgmqBvp0lzue",
        "colab": {
          "base_uri": "https://localhost:8080/"
        },
        "outputId": "e7d3c26a-dc8c-48e2-eafd-f718184d84ee"
      },
      "execution_count": 51,
      "outputs": [
        {
          "output_type": "stream",
          "name": "stdout",
          "text": [
            "1000 만큼 남음\n",
            "900 만큼 남음\n",
            "800 만큼 남음\n",
            "700 만큼 남음\n",
            "600 만큼 남음\n",
            "500 만큼 남음\n",
            "400 만큼 남음\n",
            "300 만큼 남음\n",
            "200 만큼 남음\n",
            "100 만큼 남음\n",
            "다줌\n"
          ]
        }
      ]
    },
    {
      "cell_type": "markdown",
      "source": [
        "while 반복문의 실행 과정입니다. 먼저 초기식부터 시작하여 조건식을 판별합니다. 이때 조건식이 참(True)이면 반복할 코드와 변화식을 함께 수행합니다. 그리고 다시 조건식을 판별하여 참(True)이면 코드를 계속 반복하고, 거짓(False)이면 반복문을 끝낸 뒤 다음 코드를 실행합니다.\n",
        "\n",
        "여기서는 조건식 → 반복할 코드 및 변화식 → 조건식으로 순환하는 부분이 루프(loop)입니다."
      ],
      "metadata": {
        "id": "8MAfHHwXmmoE"
      }
    },
    {
      "cell_type": "markdown",
      "source": [
        "### while 반복문 사용하기"
      ],
      "metadata": {
        "id": "1ZyUhVgWmqvd"
      }
    },
    {
      "cell_type": "markdown",
      "source": [
        "다음과 같이 while 반복문은 조건식을 지정하고 끝에 :(콜론)을 붙인 뒤 다음 줄에 반복할 코드와 변화식을 넣습니다. 초기식은 특별한 것이 없고 보통 변수에 값을 저장하는 코드입니다.\n",
        "\n",
        "```\n",
        "초기식\n",
        "while 조건식:\n",
        "     반복할 코드\n",
        "     변화식\n",
        "```\n",
        "\n",
        "while 다음 줄에 오는 코드는 반드시 들여쓰기를 해줍니다."
      ],
      "metadata": {
        "id": "mSOdqaJJmtQq"
      }
    },
    {
      "cell_type": "code",
      "source": [
        "# 이제 while 반복문으로 'Hello, world!'를 100번 출력해보겠습니다.\n",
        "hell = 'hell'\n",
        "i = 0\n",
        "while i < 10:\n",
        "  print(hell, end = ' ')\n",
        "  i += 1"
      ],
      "metadata": {
        "id": "0apM7-7-mpqC",
        "colab": {
          "base_uri": "https://localhost:8080/"
        },
        "outputId": "35b94ed7-3f89-4c02-aec2-65c2b126a83a"
      },
      "execution_count": 57,
      "outputs": [
        {
          "output_type": "stream",
          "name": "stdout",
          "text": [
            "hell hell hell hell hell hell hell hell hell hell "
          ]
        }
      ]
    },
    {
      "cell_type": "markdown",
      "source": [
        "먼저 while 반복문에 사용할 변수 i에 0을 할당합니다. 그리고 while에는 조건식만 지정하면 됩니다. 특히 while 반복문은 반복할 코드 안에 변화식을 지정해야 합니다. 만약 조건식만 지정하고 변화식을 생략하면 반복이 끝나지 않고 계속 실행(무한 루프)되므로 주의해야 합니다."
      ],
      "metadata": {
        "id": "ZrUdX9Cym6Ih"
      }
    },
    {
      "cell_type": "markdown",
      "source": [
        "i < 100과 같이 조건식을 지정하여 i가 100 미만일 때만 반복하고, i가 100이 되면 반복을 끝내도록 만들었습니다. 그리고 반복할 코드의 변화식에는 i += 1로 i를 1씩 증가시켰으므로 i가 0부터 99까지 증가하면서 100번 반복하게 됩니다. 물론 변화식 i += 1을 풀어서 i = i + 1로 만들어도 동작은 같습니다.\n",
        "\n"
      ],
      "metadata": {
        "id": "d_ni0bxzm8Wt"
      }
    },
    {
      "cell_type": "markdown",
      "source": [
        "### 초깃값을 1부터 시작하기"
      ],
      "metadata": {
        "id": "dlmY-ZkTm_MT"
      }
    },
    {
      "cell_type": "code",
      "source": [
        "# 이번에는 i에 0이 아닌 1을 할당하여 'Hello, world!'를 100번 출력해보겠습니다.\n",
        "hell = 'hell'\n",
        "i = 1\n",
        "while i <= 10:\n",
        "  print(hell, end = ' ')\n",
        "  i += 1\n",
        "  print('Then ', i)"
      ],
      "metadata": {
        "id": "tEAw7W5lm3NU",
        "colab": {
          "base_uri": "https://localhost:8080/"
        },
        "outputId": "4f9a8662-32b4-4931-a520-b08132cba7b7"
      },
      "execution_count": 62,
      "outputs": [
        {
          "output_type": "stream",
          "name": "stdout",
          "text": [
            "hell Then  2\n",
            "hell Then  3\n",
            "hell Then  4\n",
            "hell Then  5\n",
            "hell Then  6\n",
            "hell Then  7\n",
            "hell Then  8\n",
            "hell Then  9\n",
            "hell Then  10\n",
            "hell Then  11\n"
          ]
        }
      ]
    },
    {
      "cell_type": "markdown",
      "source": [
        "i에 1을 넣었으므로 while의 조건식은 i <= 100과 같이 지정합니다. 따라서 i가 1부터 100까지 증가하므로 100번 반복하게 됩니다. 만약 i가 101이 되면 i <= 100은 거짓( False)이므로 반복문을 끝냅니다."
      ],
      "metadata": {
        "id": "LUswgP6KnG8g"
      }
    },
    {
      "cell_type": "markdown",
      "source": [
        "### 초깃값을 감소시키기"
      ],
      "metadata": {
        "id": "xLnGlDJFnI4g"
      }
    },
    {
      "cell_type": "markdown",
      "source": [
        "지금까지 초깃값을 증가시키면서 루프를 실행했습니다. 반대로 초깃값을 크게 주고, 변수를 감소시키면서 반복할 수도 있습니다. 다음은 100부터 1까지 100번 반복합니다.\n",
        "\n"
      ],
      "metadata": {
        "id": "hUEOy6KenKnR"
      }
    },
    {
      "cell_type": "code",
      "source": [
        "i = 10\n",
        "while i >= 1:\n",
        "  print('hi', i)\n",
        "  i -= 1"
      ],
      "metadata": {
        "id": "xtt2vrMqnE2k",
        "colab": {
          "base_uri": "https://localhost:8080/"
        },
        "outputId": "37d38d76-11e2-463b-d1d6-921ee895729e"
      },
      "execution_count": 61,
      "outputs": [
        {
          "output_type": "stream",
          "name": "stdout",
          "text": [
            "hi 10\n",
            "hi 9\n",
            "hi 8\n",
            "hi 7\n",
            "hi 6\n",
            "hi 5\n",
            "hi 4\n",
            "hi 3\n",
            "hi 2\n",
            "hi 1\n"
          ]
        }
      ]
    },
    {
      "cell_type": "markdown",
      "source": [
        "100부터 1까지 반복해야 하므로 먼저 i에 100을 할당합니다. 그다음에 while의 조건식은 i > 0과 같이 지정하여 1까지만 반복하도록 만듭니다. 또한, 변화식을 i -= 1로 지정하여 변수의 값을 감소시킵니다. 이렇게 하면 i가 100부터 1까지 감소하면서 반복합니다. 만약 i가 0이되면 i > 0은 거짓(False)이므로 반복문을 끝냅니다.\n",
        "\n"
      ],
      "metadata": {
        "id": "LFYwJBX_nPHD"
      }
    },
    {
      "cell_type": "markdown",
      "source": [
        "### 입력한 횟수대로 반복하기"
      ],
      "metadata": {
        "id": "HEeHC_tWnQil"
      }
    },
    {
      "cell_type": "code",
      "source": [
        "count = int(input('반복횟수: '))\n",
        "i = 0\n",
        "while i < count:\n",
        "  print(\"hello world!\", i)\n",
        "  i += 1"
      ],
      "metadata": {
        "colab": {
          "base_uri": "https://localhost:8080/"
        },
        "id": "NuOe8ixfnNcs",
        "outputId": "544ba560-ccb7-4297-870f-9061bcbf87be"
      },
      "execution_count": 63,
      "outputs": [
        {
          "output_type": "stream",
          "name": "stdout",
          "text": [
            "반복횟수: 5\n",
            "hello world! 0\n",
            "hello world! 1\n",
            "hello world! 2\n",
            "hello world! 3\n",
            "hello world! 4\n"
          ]
        }
      ]
    },
    {
      "cell_type": "code",
      "source": [
        "# 이번에는 초깃값을 받은 뒤 초깃값만큼 출력해보겠습니다.\n",
        "count = int(input('반복횟수: '))\n",
        "i = 0\n",
        "while count > 0:\n",
        "  print(\"hello world!\", count)\n",
        "  count -= 1 "
      ],
      "metadata": {
        "colab": {
          "base_uri": "https://localhost:8080/"
        },
        "id": "IfM8BCbjnStj",
        "outputId": "554a58b5-be0b-4930-efd7-695d35310168"
      },
      "execution_count": 67,
      "outputs": [
        {
          "output_type": "stream",
          "name": "stdout",
          "text": [
            "반복횟수: 5\n",
            "hello world! 5\n",
            "hello world! 4\n",
            "hello world! 3\n",
            "hello world! 2\n",
            "hello world! 1\n"
          ]
        }
      ]
    },
    {
      "cell_type": "markdown",
      "source": [
        "input으로 입력 값을 받아서 count 변수에 저장했습니다. 그리고 조건식에서 count > 0와 같이 지정하여 count에 들어있는 값만큼 반복하도록 만들었습니다. 여기서는 변수 i 대신 count를 바로 사용하므로 변화식을 count -= 1로 지정하여 반복할 때마다 count를 감소시키고 count가 0이 되면 반복문을 끝냅니다."
      ],
      "metadata": {
        "id": "Dgfu0gEqnb4t"
      }
    },
    {
      "cell_type": "markdown",
      "source": [
        "## 반복 횟수가 정해지지 않은 경우"
      ],
      "metadata": {
        "id": "JvH-ceqZnkVP"
      }
    },
    {
      "cell_type": "markdown",
      "source": [
        "지금까지 조건식에서 반복 횟수를 정한 뒤 변수 i를 증가시키거나 감소시켜서 while 반복문을 사용했습니다. 하지만 while 반복문은 반복 횟수가 정해지지 않았을 때 주로 사용합니다.\n",
        "\n",
        "이번에는 난수를 생성해서 숫자에 따라 반복을 끝내 보겠습니다. 난수(random number)란 특정 주기로 반복되지 않으며 규칙 없이 무작위로 나열되는 숫자를 뜻합니다. 현실에서 쉽게 접할 수 있는 난수가 바로 주사위를 굴려서 나온 숫자입니다."
      ],
      "metadata": {
        "id": "NoTuB4-KnqQ6"
      }
    },
    {
      "cell_type": "markdown",
      "source": [
        "파이썬에서 난수를 생성하려면 random 모듈이 필요합니다. 모듈은 다음과 같이 import 키워드를 사용하여 가져올 수 있습니다\n",
        "* `import 모듈`"
      ],
      "metadata": {
        "id": "HR-svyFOntLS"
      }
    },
    {
      "cell_type": "code",
      "source": [
        "import random #import 가져오기"
      ],
      "metadata": {
        "id": "K-idPSq3nX6k"
      },
      "execution_count": 68,
      "outputs": []
    },
    {
      "cell_type": "code",
      "source": [
        "random.random()"
      ],
      "metadata": {
        "colab": {
          "base_uri": "https://localhost:8080/"
        },
        "id": "NQ6xwVTKnyIc",
        "outputId": "1d773483-e197-42b8-bc52-5205060164ca"
      },
      "execution_count": 69,
      "outputs": [
        {
          "output_type": "execute_result",
          "data": {
            "text/plain": [
              "0.46412097678289044"
            ]
          },
          "metadata": {},
          "execution_count": 69
        }
      ]
    },
    {
      "cell_type": "markdown",
      "source": [
        "우리는 숫자를 좀 더 알아보기 쉽도록 정수를 생성하는 random 모듈의 randint 함수를 사용해보겠습니다. 다음과 같이 randint 함수는 난수를 생성할 범위를 지정하며, 범위에 지정한 숫자도 난수에 포함됩니다.\n",
        "\n",
        "* `random.randint(a, b)`\n",
        "\n",
        "그럼 randint 함수로 주사위를 만들어보겠습니다. 보통 정육면체 주사위는 1부터 6까지 숫자가 있죠? 따라서 random.randint(1, 6)처럼 1과 6을 넣으면 1과 6 사이의 난수가 생성됩니다."
      ],
      "metadata": {
        "id": "6_zz1i4Rn5Xl"
      }
    },
    {
      "cell_type": "code",
      "source": [
        "random.randint(1, 6) # 시작과 끝이 모두 포함"
      ],
      "metadata": {
        "colab": {
          "base_uri": "https://localhost:8080/"
        },
        "id": "0-A4i7Zbnz70",
        "outputId": "7484cdae-e82a-4892-c999-68ac41b5e96c"
      },
      "execution_count": 70,
      "outputs": [
        {
          "output_type": "execute_result",
          "data": {
            "text/plain": [
              "4"
            ]
          },
          "metadata": {},
          "execution_count": 70
        }
      ]
    },
    {
      "cell_type": "code",
      "source": [
        "# 1과 6 사이의 난수를 생성한 뒤 3이 나오면 반복을 끝냅니다. 그냥 3이 나올 때까지 주사위를 계속 던지는 행동과 같습니다.\n",
        "import random\n",
        "\n",
        "i = random.randint(1, 6)\n",
        "while i != 3:\n",
        "  i = random.randint(1, 6)\n",
        "  print(i)"
      ],
      "metadata": {
        "colab": {
          "base_uri": "https://localhost:8080/"
        },
        "id": "xUPpAz69n820",
        "outputId": "96c11a96-5654-4813-ccc9-529b1a18b01e"
      },
      "execution_count": 71,
      "outputs": [
        {
          "output_type": "stream",
          "name": "stdout",
          "text": [
            "5\n",
            "2\n",
            "3\n"
          ]
        }
      ]
    },
    {
      "cell_type": "markdown",
      "source": [
        "while 반복문에서 i != 3과 같이 조건식을 지정하여 3이 아닐 때 계속 반복하도록 만듭니다. 그리고 반복할 코드에서 i = random.randint(1, 6)과 같이 1과 6 사이의 난수를 생성하여 변수 i에 저장합니다.\n",
        "\n",
        "이제 이 코드를 여러 번 실행해봅니다. 실행 결과를 보면 정수가 무작위로 생성되어 실행할 때마다 반복 횟수가 달라지는 것을 볼 수 있습니다. 이처럼 while 반복문은 반복 횟수가 정해져 있지 않을 때 유용합니다."
      ],
      "metadata": {
        "id": "1jZY6105oGno"
      }
    },
    {
      "cell_type": "markdown",
      "source": [
        "### random.choice"
      ],
      "metadata": {
        "id": "HF0IkAlLolnQ"
      }
    },
    {
      "cell_type": "markdown",
      "source": [
        "random.choice 함수를 사용하면 시퀀스 객체에서 요소를 무작위로 선택할 수 있습니다. 다음은 1, 2, 3, 4, 5, 6이 들어있는 리스트에서 무작위로 숫자를 선택합니다.\n",
        "\n",
        "* `random.choice(시퀀스객체)`"
      ],
      "metadata": {
        "id": "8s5E-CXSonpm"
      }
    },
    {
      "cell_type": "code",
      "source": [
        "dice = range(1, 7)\n",
        "dice = (1, 2, 3, 4, 5, 6)\n",
        "int(random.choice(dice))"
      ],
      "metadata": {
        "colab": {
          "base_uri": "https://localhost:8080/"
        },
        "id": "c0lch7GYn_q8",
        "outputId": "6c586143-af86-4fba-c124-eaf7d8f4093a"
      },
      "execution_count": 73,
      "outputs": [
        {
          "output_type": "execute_result",
          "data": {
            "text/plain": [
              "4"
            ]
          },
          "metadata": {},
          "execution_count": 73
        }
      ]
    },
    {
      "cell_type": "markdown",
      "source": [
        "## while 반복문으로 무한 루프 만들기"
      ],
      "metadata": {
        "id": "PnRCDs3MoznA"
      }
    },
    {
      "cell_type": "code",
      "source": [
        "while True:\n",
        "  print('hi')"
      ],
      "metadata": {
        "id": "ggBuCa0VosJR"
      },
      "execution_count": null,
      "outputs": []
    },
    {
      "cell_type": "markdown",
      "source": [
        "while에 조건식 대신 True를 지정하면 무한히 반복하는 무한 루프가 만들어집니다. 따라서 조건식이 항상 참(True)이므로 변화식도 필요 없습니다.\n",
        "\n",
        "이 스크립트 파일을 실행한 상태로 두면 'Hello, world!'는 끝나지 않고 계속 출력됩니다. 따라서 IDLE이나 콘솔(터미널, 명령 프롬프트)에서 Ctrl+C를 입력하여 무한 루프를 끝냅니다."
      ],
      "metadata": {
        "id": "Wvcqb4_fo7BW"
      }
    },
    {
      "cell_type": "code",
      "source": [
        "# while에 True 대신 True로 취급하는 값을 사용해도 무한 루프로 동작합니다.\n",
        "while 1:\n",
        "  print(\"무한 루프\")"
      ],
      "metadata": {
        "id": "bc78dfcOo2lj"
      },
      "execution_count": null,
      "outputs": []
    },
    {
      "cell_type": "code",
      "source": [
        "while \"\":\n",
        "  print(\"무한 루프\")"
      ],
      "metadata": {
        "id": "N3LTMX-7o_q2"
      },
      "execution_count": null,
      "outputs": []
    },
    {
      "cell_type": "markdown",
      "source": [
        "# break, continue"
      ],
      "metadata": {
        "id": "9xBqmU8KpK9t"
      }
    },
    {
      "cell_type": "markdown",
      "source": [
        "break는 for와 while 문법에서 제어흐름을 벗어나기 위해 사용합니다. 즉, 루프를 완전히 중단하죠. continue는 break와 비슷하지만 약간 다른 점이 있습니다. break는 제어흐름을 중단하고 빠져 나오지만, continue는 제어흐름(반복)을 유지한 상태에서 코드의 실행만 건너뛰는 역할을 합니다. 마치 카드 게임을 할 때 패가 안 좋으면 판을 포기하고 다음 기회를 노리는 것과 비슷합니다.\n",
        "\n",
        "* `break`: 제어흐름 중단\n",
        "* `continue`: 제어흐름 유지, 코드 실행만 건너뜀"
      ],
      "metadata": {
        "id": "HQCc_aJFpRKv"
      }
    },
    {
      "cell_type": "markdown",
      "source": [
        "## break로 반복문 끝내기"
      ],
      "metadata": {
        "id": "WTAIzstKpoyw"
      }
    },
    {
      "cell_type": "markdown",
      "source": [
        " ### while에서 break로 반복문 끝내기"
      ],
      "metadata": {
        "id": "s0CqMWcFprFF"
      }
    },
    {
      "cell_type": "code",
      "source": [
        "i = 0 \n",
        "while True:\n",
        "  print(i)\n",
        "  i += 1\n",
        "  if i == 100:\n",
        "    break"
      ],
      "metadata": {
        "id": "F_rYAyVWpKUJ"
      },
      "execution_count": null,
      "outputs": []
    },
    {
      "cell_type": "markdown",
      "source": [
        "먼저 while에 True를 지정하여 무한 루프를 만들고, 그 안에서 i를 1씩 증가시킵니다. 그리고 if를 사용하여 i가 100이 될 때 break를 실행합니다. 이렇게 하면 무한 루프라도 0부터 99까지만 화면에 출력합니다. 즉, 반복문 안에서 break를 실행하면 반복문은 바로 끝납니다."
      ],
      "metadata": {
        "id": "2Q7gyUfspwTr"
      }
    },
    {
      "cell_type": "markdown",
      "source": [
        "## for에서 break로 반복문 끝내기"
      ],
      "metadata": {
        "id": "UcvxgPrep2ic"
      }
    },
    {
      "cell_type": "code",
      "source": [
        "for i in range(10000):\n",
        "  print(i)\n",
        "  if i == 100:\n",
        "    break"
      ],
      "metadata": {
        "id": "8ywMPHOPptSl",
        "colab": {
          "base_uri": "https://localhost:8080/"
        },
        "outputId": "c1edbdb3-39e4-4208-c440-9bdb014f624d"
      },
      "execution_count": 74,
      "outputs": [
        {
          "output_type": "stream",
          "name": "stdout",
          "text": [
            "0\n",
            "1\n",
            "2\n",
            "3\n",
            "4\n",
            "5\n",
            "6\n",
            "7\n",
            "8\n",
            "9\n",
            "10\n",
            "11\n",
            "12\n",
            "13\n",
            "14\n",
            "15\n",
            "16\n",
            "17\n",
            "18\n",
            "19\n",
            "20\n",
            "21\n",
            "22\n",
            "23\n",
            "24\n",
            "25\n",
            "26\n",
            "27\n",
            "28\n",
            "29\n",
            "30\n",
            "31\n",
            "32\n",
            "33\n",
            "34\n",
            "35\n",
            "36\n",
            "37\n",
            "38\n",
            "39\n",
            "40\n",
            "41\n",
            "42\n",
            "43\n",
            "44\n",
            "45\n",
            "46\n",
            "47\n",
            "48\n",
            "49\n",
            "50\n",
            "51\n",
            "52\n",
            "53\n",
            "54\n",
            "55\n",
            "56\n",
            "57\n",
            "58\n",
            "59\n",
            "60\n",
            "61\n",
            "62\n",
            "63\n",
            "64\n",
            "65\n",
            "66\n",
            "67\n",
            "68\n",
            "69\n",
            "70\n",
            "71\n",
            "72\n",
            "73\n",
            "74\n",
            "75\n",
            "76\n",
            "77\n",
            "78\n",
            "79\n",
            "80\n",
            "81\n",
            "82\n",
            "83\n",
            "84\n",
            "85\n",
            "86\n",
            "87\n",
            "88\n",
            "89\n",
            "90\n",
            "91\n",
            "92\n",
            "93\n",
            "94\n",
            "95\n",
            "96\n",
            "97\n",
            "98\n",
            "99\n",
            "100\n"
          ]
        }
      ]
    },
    {
      "cell_type": "code",
      "source": [
        "e = ['a', 'b', 'c', 'd']\n",
        "for name in e:\n",
        "  print(name)\n",
        "  if name == 'b':\n",
        "    break"
      ],
      "metadata": {
        "colab": {
          "base_uri": "https://localhost:8080/"
        },
        "id": "mtCIMi5FcFQR",
        "outputId": "7b6ddf88-932f-476f-c6a0-b1533daf67fe"
      },
      "execution_count": 76,
      "outputs": [
        {
          "output_type": "stream",
          "name": "stdout",
          "text": [
            "a\n",
            "b\n"
          ]
        }
      ]
    },
    {
      "cell_type": "markdown",
      "source": [
        "for에 range(10000)을 지정했으므로 0부터 9999까지 반복합니다. 하지만 i가 100일 때 break를 실행하므로 0부터 100까지만 출력하고 반복문을 끝냅니다."
      ],
      "metadata": {
        "id": "Ml-D-oVRp6Zw"
      }
    },
    {
      "cell_type": "markdown",
      "source": [
        "## continue로 코드 실행 건너뛰기"
      ],
      "metadata": {
        "id": "DSb1zCf4qG2d"
      }
    },
    {
      "cell_type": "markdown",
      "source": [
        "### for에서 continue로 코드 실행 건너뛰기"
      ],
      "metadata": {
        "id": "EumdwbusqLb5"
      }
    },
    {
      "cell_type": "code",
      "source": [
        "# 다음은 for로 0부터 99까지 반복하면서 홀수만 출력합니다.\n",
        "for i in range(100):\n",
        "  if i % 2 == 0:\n",
        "    continue"
      ],
      "metadata": {
        "id": "MgEUiaSDp4Tz"
      },
      "execution_count": 78,
      "outputs": []
    },
    {
      "cell_type": "markdown",
      "source": [
        "먼저 for를 사용하여 0부터 99까지 반복합니다. 그리고 if를 사용하여 i가 짝수이면 continue를 실행합니다( i를 2로 나누었을 때 나머지가 0이면 짝수, 0이 아니면 홀수입니다). 마지막으로 print를 사용하여 i의 값을 출력합니다.\n",
        "\n",
        "이제 i가 짝수이면 continue를 실행하여 print를 건너뛰고, 홀수이면 print로 숫자를 출력합니다. 즉, 반복문 안에서 continue를 실행하면 continue 아래의 코드는 실행하지 않고 건너뛴 뒤 다음 반복을 시작합니다."
      ],
      "metadata": {
        "id": "sbdEMcztqRO7"
      }
    },
    {
      "cell_type": "markdown",
      "source": [
        "### while 반복문에서 continue로 코드 실행 건너뛰기"
      ],
      "metadata": {
        "id": "bBN9hcs7qSsx"
      }
    },
    {
      "cell_type": "code",
      "source": [
        "i = 0\n",
        "while i < 100:\n",
        "  i += 1\n",
        "  if i % 2 == 0:\n",
        "    continue\n",
        "  print(i)"
      ],
      "metadata": {
        "id": "FI_FW46LqO9M",
        "colab": {
          "base_uri": "https://localhost:8080/"
        },
        "outputId": "f748efcd-efc8-4e6b-c379-5e114ff004d6"
      },
      "execution_count": 84,
      "outputs": [
        {
          "output_type": "stream",
          "name": "stdout",
          "text": [
            "1\n",
            "3\n",
            "5\n",
            "7\n",
            "9\n",
            "11\n",
            "13\n",
            "15\n",
            "17\n",
            "19\n",
            "21\n",
            "23\n",
            "25\n",
            "27\n",
            "29\n",
            "31\n",
            "33\n",
            "35\n",
            "37\n",
            "39\n",
            "41\n",
            "43\n",
            "45\n",
            "47\n",
            "49\n",
            "51\n",
            "53\n",
            "55\n",
            "57\n",
            "59\n",
            "61\n",
            "63\n",
            "65\n",
            "67\n",
            "69\n",
            "71\n",
            "73\n",
            "75\n",
            "77\n",
            "79\n",
            "81\n",
            "83\n",
            "85\n",
            "87\n",
            "89\n",
            "91\n",
            "93\n",
            "95\n",
            "97\n",
            "99\n"
          ]
        }
      ]
    },
    {
      "cell_type": "markdown",
      "source": [
        "while i < 100:으로 0부터 99까지 반복하도록 만듭니다. 그리고 i를 1씩 증가시킨 뒤 if를 사용하여 i가 짝수이면 continue를 실행합니다. 마지막으로 print를 사용하여 i의 값을 출력합니다.\n",
        "\n",
        "이렇게 하면 i의 값에 따라 continue 아래에 있는 print를 건너뜁니다."
      ],
      "metadata": {
        "id": "9_3PIMaHqVU_"
      }
    },
    {
      "cell_type": "markdown",
      "source": [
        "여기서는 while i < 100:과 같이 반복 횟수를 정한 뒤 continue를 사용했습니다. 만약 무한 루프에서 continue를 사용하면 홀수만 계속 출력될 뿐 반복문은 끝나지 않습니다. while에서 continue를 사용할 때는 이 부분을 주의해주세요."
      ],
      "metadata": {
        "id": "U9BwPBysqaAx"
      }
    },
    {
      "cell_type": "markdown",
      "source": [
        "### 반복문과 pass\n",
        "for, while의 반복할 코드에서 아무 일도 하지 않지만, 반복문의 형태를 유지하고 싶다면 pass를 사용하면 됩니다.\n",
        "```\n",
        "for i in range(10):    # 10번 반복\n",
        "    pass               # 아무 일도 하지 않음\n",
        "```\n",
        "```\n",
        "while True:    # 무한 루프\n",
        "    pass       # 아무 일도 하지 않음\n",
        "```"
      ],
      "metadata": {
        "id": "xunNOTvIqaYB"
      }
    },
    {
      "cell_type": "markdown",
      "source": [
        "## 입력한 횟수대로 반복하기"
      ],
      "metadata": {
        "id": "MadGzjXfqujk"
      }
    },
    {
      "cell_type": "code",
      "source": [
        "count = int(input())\n",
        "i = 0\n",
        "while True:\n",
        "  print(i)\n",
        "  i += 1\n",
        "  if i == count:\n",
        "    break"
      ],
      "metadata": {
        "id": "qakw2tjqqw0z",
        "colab": {
          "base_uri": "https://localhost:8080/"
        },
        "outputId": "0e3c683d-17ed-43de-eb40-ee3a1c82854d"
      },
      "execution_count": 85,
      "outputs": [
        {
          "output_type": "stream",
          "name": "stdout",
          "text": [
            "5\n",
            "0\n",
            "1\n",
            "2\n",
            "3\n",
            "4\n"
          ]
        }
      ]
    },
    {
      "cell_type": "markdown",
      "source": [
        "먼저 input으로 입력 값을 받아서 count 변수에 저장했습니다(이때 반드시 int를 사용하여 input에서 나온 문자열을 정수로 변환해줍니다). 그다음에 i에는 0을 할당하고, while에 True를 지정하여 무한 루프로 만듭니다.\n",
        "\n",
        "반복문 안에서는 i의 값을 출력하고, 변화식에서는 i를 1씩 증가시킵니다. 그리고 i가 count의 값과 같으면 break를 실행합니다.\n",
        "\n",
        "여기서는 3을 입력했으므로 0부터 2까지 출력된 뒤 i의 값 3과 count의 값 3이 같으므로 반복문은 끝납니다."
      ],
      "metadata": {
        "id": "KkIK3zQyqzG1"
      }
    },
    {
      "cell_type": "markdown",
      "source": [
        "### 입력한 숫자까지 홀수 출력하기"
      ],
      "metadata": {
        "id": "XWdNjKIrq3I1"
      }
    },
    {
      "cell_type": "code",
      "source": [
        "count = int(input())\n",
        "\n",
        "for i in range(count + 1):\n",
        "  if i % 2 == 0:\n",
        "    continue\n",
        "  print(i)"
      ],
      "metadata": {
        "id": "9vlLPWdIq46Y",
        "colab": {
          "base_uri": "https://localhost:8080/"
        },
        "outputId": "dcf54d22-9e4b-46c0-b2df-32490dfc2fec"
      },
      "execution_count": 88,
      "outputs": [
        {
          "output_type": "stream",
          "name": "stdout",
          "text": [
            "5\n",
            "1\n",
            "3\n",
            "5\n"
          ]
        }
      ]
    },
    {
      "cell_type": "markdown",
      "source": [
        "input으로 입력 값을 받아서 count 변수에 저장했습니다(이때 반드시 int를 사용하여 input에서 나온 문자열을 정수로 변환해줍니다). 그리고 for의 range에 count + 1을 지정하여 count에 들어있는 값만큼 반복하도록 만들었습니다. 왜냐하면 range(count)는 0부터 시작하므로 count의 값은 반복에 포함되지 않기 때문입니다. 따라서 count에 1을 더해서 count의 값도 반복에 포함되도록 만들어줍니다.\n",
        "\n",
        "반복문 안에서는 if를 사용하여 i가 짝수이면 continue를 실행합니다. 그다음에 print를 사용하여 i의 값을 출력합니다.\n",
        "\n",
        "여기서는 9를 입력했으므로 0부터 9까지 반복하면서 i가 짝수이면 print를 실행하지 않고 건너뛰며 i가 홀수이면 print를 사용하여 숫자를 출력합니다. 따라서 1 3 5 7 9가 출력됩니다."
      ],
      "metadata": {
        "id": "qiPfmmDxq7qo"
      }
    }
  ]
}
