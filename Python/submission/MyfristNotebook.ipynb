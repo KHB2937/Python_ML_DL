{
  "cells": [
    {
      "cell_type": "markdown",
      "metadata": {
        "colab_type": "text",
        "id": "view-in-github"
      },
      "source": [
        "<a href=\"https://colab.research.google.com/github/KHB2937/Python/blob/main/MyfristNotebook.ipynb\" target=\"_parent\"><img src=\"https://colab.research.google.com/assets/colab-badge.svg\" alt=\"Open In Colab\"/></a>"
      ]
    },
    {
      "cell_type": "code",
      "execution_count": 1,
      "metadata": {
        "colab": {
          "base_uri": "https://localhost:8080/"
        },
        "id": "OYOBpHk_5g3m",
        "outputId": "4904d41d-7a5f-4616-f38b-6857a0f218d4"
      },
      "outputs": [
        {
          "name": "stdout",
          "output_type": "stream",
          "text": [
            "hello world\n"
          ]
        }
      ],
      "source": [
        "print(\"hello world\") #Ctrl + Enter"
      ]
    },
    {
      "cell_type": "markdown",
      "metadata": {
        "id": "jbHe_OST9Ah_"
      },
      "source": [
        "# 새 섹션"
      ]
    }
  ],
  "metadata": {
    "colab": {
      "authorship_tag": "ABX9TyOg8c2GlO44vXUyHDdV0tns",
      "include_colab_link": true,
      "mount_file_id": "1aUtwF8sfE9_KCwPCIC-ZzzMZykQ7HlR8",
      "provenance": []
    },
    "kernelspec": {
      "display_name": "Python 3",
      "name": "python3"
    },
    "language_info": {
      "name": "python"
    }
  },
  "nbformat": 4,
  "nbformat_minor": 0
}
