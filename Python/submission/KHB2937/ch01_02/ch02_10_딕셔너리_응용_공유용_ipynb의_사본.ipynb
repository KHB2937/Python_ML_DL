{
  "nbformat": 4,
  "nbformat_minor": 0,
  "metadata": {
    "colab": {
      "provenance": [],
      "include_colab_link": true
    },
    "kernelspec": {
      "name": "python3",
      "display_name": "Python 3"
    },
    "language_info": {
      "name": "python"
    }
  },
  "cells": [
    {
      "cell_type": "markdown",
      "metadata": {
        "id": "view-in-github",
        "colab_type": "text"
      },
      "source": [
        "<a href=\"https://colab.research.google.com/github/KHB2937/Python/blob/main/submission/KHB2937/ch02_10_%EB%94%95%EC%85%94%EB%84%88%EB%A6%AC_%EC%9D%91%EC%9A%A9_%EA%B3%B5%EC%9C%A0%EC%9A%A9_ipynb%EC%9D%98_%EC%82%AC%EB%B3%B8.ipynb\" target=\"_parent\"><img src=\"https://colab.research.google.com/assets/colab-badge.svg\" alt=\"Open In Colab\"/></a>"
      ]
    },
    {
      "cell_type": "markdown",
      "source": [
        "# 딕셔너리 응용"
      ],
      "metadata": {
        "id": "uZtKonlQ_bxw"
      }
    },
    {
      "cell_type": "markdown",
      "source": [
        "## 딕셔너리 조작하기"
      ],
      "metadata": {
        "id": "SKYN1_K5_duj"
      }
    },
    {
      "cell_type": "markdown",
      "source": [
        "### 딕셔너리에서 키의 값 저장하기"
      ],
      "metadata": {
        "id": "BIUDOX3P_fJx"
      }
    },
    {
      "cell_type": "markdown",
      "source": [
        "update(키=값)은 이름 그대로 딕셔너리에서 키의 값을 수정합니다. 예를 들어 딕셔너리가 x = {'a': 10}이라면 x.update(a=90)과 같이 키에서 작은따옴표 또는 큰따옴표를 빼고 키 이름과 값을 지정합니다."
      ],
      "metadata": {
        "id": "9Brl-EP-_our"
      }
    },
    {
      "cell_type": "code",
      "execution_count": 1,
      "metadata": {
        "colab": {
          "base_uri": "https://localhost:8080/"
        },
        "id": "ANRkulOQ-d22",
        "outputId": "cb62478d-4db5-4b69-c8e1-739dd1320608"
      },
      "outputs": [
        {
          "output_type": "execute_result",
          "data": {
            "text/plain": [
              "{'a': 10, 'b': 20, 'c': 30, 'd': 40}"
            ]
          },
          "metadata": {},
          "execution_count": 1
        }
      ],
      "source": [
        "x = {\n",
        "    'a': 10, 'b': 20, 'c': 30, 'd': 40\n",
        "}\n",
        "x"
      ]
    },
    {
      "cell_type": "markdown",
      "source": [
        "만약 딕셔너리에 키가 없으면 키-값 쌍을 추가합니다. 딕셔너리 x에는 키 'e'가 없으므로 x.update(e=50)을 실행하면 'e': 50을 추가합니다."
      ],
      "metadata": {
        "id": "EAm_Zpct_uPK"
      }
    },
    {
      "cell_type": "code",
      "source": [
        "x['a'] = 100\n",
        "x"
      ],
      "metadata": {
        "colab": {
          "base_uri": "https://localhost:8080/"
        },
        "id": "Y94MYml8_rjq",
        "outputId": "be2b6de8-2ae1-4c6d-9857-cf92ac9e35cb"
      },
      "execution_count": 2,
      "outputs": [
        {
          "output_type": "execute_result",
          "data": {
            "text/plain": [
              "{'a': 100, 'b': 20, 'c': 30, 'd': 40}"
            ]
          },
          "metadata": {},
          "execution_count": 2
        }
      ]
    },
    {
      "cell_type": "markdown",
      "source": [
        "update는 키-값 쌍 여러 개를 콤마로 구분해서 넣어주면 값을 한꺼번에 수정할 수 있습니다. 이때도 키가 있으면 해당 키의 값을 수정하고 없으면 키-값 쌍을 추가합니다.\n"
      ],
      "metadata": {
        "id": "9_hlLcsu_xQt"
      }
    },
    {
      "cell_type": "code",
      "source": [
        "x.update(a = 50)\n",
        "x"
      ],
      "metadata": {
        "colab": {
          "base_uri": "https://localhost:8080/"
        },
        "id": "1XHXIdt-_wDF",
        "outputId": "3e489391-d909-4c27-859c-66f31ead9141"
      },
      "execution_count": 3,
      "outputs": [
        {
          "output_type": "execute_result",
          "data": {
            "text/plain": [
              "{'a': 50, 'b': 20, 'c': 30, 'd': 40}"
            ]
          },
          "metadata": {},
          "execution_count": 3
        }
      ]
    },
    {
      "cell_type": "code",
      "source": [
        "x.update(e = 50)\n",
        "x"
      ],
      "metadata": {
        "id": "1_S5teEk6l-2"
      },
      "execution_count": null,
      "outputs": []
    },
    {
      "cell_type": "markdown",
      "source": [
        "update(키=값)은 키가 문자열일 때만 사용할 수 있습니다. 만약 키가 숫자일 경우에는 update(딕셔너리)처럼 딕셔너리를 넣어서 값을 수정할 수 있습니다."
      ],
      "metadata": {
        "id": "hBF_IeHL_2AO"
      }
    },
    {
      "cell_type": "code",
      "source": [
        "y.update({1: 'one', 2: 'two'})\n",
        "y"
      ],
      "metadata": {
        "colab": {
          "base_uri": "https://localhost:8080/"
        },
        "id": "cL2ShtdU_0e6",
        "outputId": "dc404563-d162-4d0d-82cf-b2099d9a0400"
      },
      "execution_count": 9,
      "outputs": [
        {
          "output_type": "execute_result",
          "data": {
            "text/plain": [
              "{1: 'one', 2: 'two'}"
            ]
          },
          "metadata": {},
          "execution_count": 9
        }
      ]
    },
    {
      "cell_type": "code",
      "source": [
        "x.update({1: 'one', 2: 'two'})\n",
        "x"
      ],
      "metadata": {
        "colab": {
          "base_uri": "https://localhost:8080/"
        },
        "id": "uWYlLnpp8WV0",
        "outputId": "021a08c4-44ab-4502-f6d0-6b229ce5db5a"
      },
      "execution_count": 10,
      "outputs": [
        {
          "output_type": "execute_result",
          "data": {
            "text/plain": [
              "{'a': 50, 'b': 20, 'c': 30, 'd': 40, 'e': 50, 1: 'one', 2: 'two'}"
            ]
          },
          "metadata": {},
          "execution_count": 10
        }
      ]
    },
    {
      "cell_type": "markdown",
      "source": [
        "다른 방법으로는 리스트와 튜플을 이용하는 방법도 있습니다. update(리스트), update(튜플)은 리스트와 튜플로 값을 수정합니다. 여기서 리스트는 [[키1, 값1], [키2, 값2]] 형식으로 키와 값을 리스트로 만들고 이 리스트를 다시 리스트 안에 넣어서 키-값 쌍을 나열해줍니다(튜플도 같은 형식)."
      ],
      "metadata": {
        "id": "5VtWrCh3_7vP"
      }
    },
    {
      "cell_type": "code",
      "source": [
        "y.update([[5, 'five'], [6, 'six'], [3, 'three']])\n",
        "y"
      ],
      "metadata": {
        "colab": {
          "base_uri": "https://localhost:8080/"
        },
        "id": "pr8rwq2b_5gd",
        "outputId": "3ac48dc6-08b9-4244-9ace-e14a1fd59506"
      },
      "execution_count": 15,
      "outputs": [
        {
          "output_type": "execute_result",
          "data": {
            "text/plain": [
              "{1: 'one', 2: 'two', 5: 'five', 6: 'six', 3: 'three'}"
            ]
          },
          "metadata": {},
          "execution_count": 15
        }
      ]
    },
    {
      "cell_type": "markdown",
      "source": [
        "### 딕셔너리에서 키-값 쌍 삭제하기"
      ],
      "metadata": {
        "id": "rjg_vRhrAAhe"
      }
    },
    {
      "cell_type": "markdown",
      "source": [
        "pop(키)는 딕셔너리에서 특정 키-값 쌍을 삭제한 뒤 삭제한 값을 반환합니다."
      ],
      "metadata": {
        "id": "uIYzUtc4AFYe"
      }
    },
    {
      "cell_type": "code",
      "source": [
        "print(x)\n",
        "x.pop()"
      ],
      "metadata": {
        "colab": {
          "base_uri": "https://localhost:8080/",
          "height": 209
        },
        "id": "QkGVNWTi_-XC",
        "outputId": "f800b6fd-1b8e-4821-fcbb-2a25ce792719"
      },
      "execution_count": 16,
      "outputs": [
        {
          "output_type": "stream",
          "name": "stdout",
          "text": [
            "{'a': 50, 'b': 20, 'c': 30, 'd': 40, 'e': 50, 1: 'one', 2: 'two'}\n"
          ]
        },
        {
          "output_type": "error",
          "ename": "TypeError",
          "evalue": "ignored",
          "traceback": [
            "\u001b[0;31m---------------------------------------------------------------------------\u001b[0m",
            "\u001b[0;31mTypeError\u001b[0m                                 Traceback (most recent call last)",
            "\u001b[0;32m<ipython-input-16-41d5f75ce0a1>\u001b[0m in \u001b[0;36m<module>\u001b[0;34m\u001b[0m\n\u001b[1;32m      1\u001b[0m \u001b[0mprint\u001b[0m\u001b[0;34m(\u001b[0m\u001b[0mx\u001b[0m\u001b[0;34m)\u001b[0m\u001b[0;34m\u001b[0m\u001b[0;34m\u001b[0m\u001b[0m\n\u001b[0;32m----> 2\u001b[0;31m \u001b[0mx\u001b[0m\u001b[0;34m.\u001b[0m\u001b[0mpop\u001b[0m\u001b[0;34m(\u001b[0m\u001b[0;34m)\u001b[0m\u001b[0;34m\u001b[0m\u001b[0;34m\u001b[0m\u001b[0m\n\u001b[0m",
            "\u001b[0;31mTypeError\u001b[0m: pop expected at least 1 argument, got 0"
          ]
        }
      ]
    },
    {
      "cell_type": "code",
      "source": [
        "x = {\n",
        "    'a': 10, 'b': 20, 'c': 30, 'd': 40\n",
        "}\n",
        "x.pop('a')\n",
        "x"
      ],
      "metadata": {
        "colab": {
          "base_uri": "https://localhost:8080/"
        },
        "id": "ltHDkQ69AIYQ",
        "outputId": "df12ba7b-8a2c-4f58-c335-882c6cc2a0c4"
      },
      "execution_count": 17,
      "outputs": [
        {
          "output_type": "execute_result",
          "data": {
            "text/plain": [
              "{'b': 20, 'c': 30, 'd': 40}"
            ]
          },
          "metadata": {},
          "execution_count": 17
        }
      ]
    },
    {
      "cell_type": "markdown",
      "source": [
        "pop(키, 기본값)처럼 기본값을 지정하면 딕셔너리에 키가 있을 때는 해당 키-값 쌍을 삭제한 뒤 삭제한 값을 반환하지만 키가 없을 때는 기본값만 반환합니다."
      ],
      "metadata": {
        "id": "48JxDyUXALn0"
      }
    },
    {
      "cell_type": "code",
      "source": [
        "print(x.pop('e', 0))\n",
        "x"
      ],
      "metadata": {
        "colab": {
          "base_uri": "https://localhost:8080/"
        },
        "id": "F6fBaMUvAJHm",
        "outputId": "176b3c15-937a-4fb2-8451-3784ccd87ee1"
      },
      "execution_count": 19,
      "outputs": [
        {
          "output_type": "stream",
          "name": "stdout",
          "text": [
            "0\n"
          ]
        },
        {
          "output_type": "execute_result",
          "data": {
            "text/plain": [
              "{'b': 20, 'c': 30, 'd': 40}"
            ]
          },
          "metadata": {},
          "execution_count": 19
        }
      ]
    },
    {
      "cell_type": "markdown",
      "source": [
        "pop 대신 del로 특정 키-값 쌍을 삭제할 수도 있습니다. 이때는 [ ]에 키를 지정하여 del을 사용합니다."
      ],
      "metadata": {
        "id": "Bcv9hNp2Eg6t"
      }
    },
    {
      "cell_type": "code",
      "source": [
        "del x['b']\n",
        "x"
      ],
      "metadata": {
        "colab": {
          "base_uri": "https://localhost:8080/"
        },
        "id": "tMJq_WL2ANZj",
        "outputId": "f781ce07-9b32-40c5-c47e-5e52bd9b48fe"
      },
      "execution_count": 20,
      "outputs": [
        {
          "output_type": "execute_result",
          "data": {
            "text/plain": [
              "{'c': 30, 'd': 40}"
            ]
          },
          "metadata": {},
          "execution_count": 20
        }
      ]
    },
    {
      "cell_type": "markdown",
      "source": [
        "### 딕셔너리의 모든 키-값 쌍을 삭제하기"
      ],
      "metadata": {
        "id": "bCqy8pb3Epoh"
      }
    },
    {
      "cell_type": "code",
      "source": [
        "# clear()는 딕셔너리의 모든 키-값 쌍을 삭제합니다.\n",
        "print(x)\n",
        "x.clear()\n",
        "print(x)"
      ],
      "metadata": {
        "colab": {
          "base_uri": "https://localhost:8080/"
        },
        "id": "K2g0_umAEkxU",
        "outputId": "ff7f12e4-e09a-4bc5-a6ac-80cdda867ce0"
      },
      "execution_count": 21,
      "outputs": [
        {
          "output_type": "stream",
          "name": "stdout",
          "text": [
            "{'c': 30, 'd': 40}\n",
            "{}\n"
          ]
        }
      ]
    },
    {
      "cell_type": "markdown",
      "source": [
        "### 딕셔너리에서 키의 값을 가져오기"
      ],
      "metadata": {
        "id": "KBpOPiqOEt2L"
      }
    },
    {
      "cell_type": "code",
      "source": [
        "# get(키)는 딕셔너리에서 특정 키의 값을 가져옵니다.\n",
        "x = {\n",
        "    'a': 10, 'b': 20, 'c': 30, 'd': 40\n",
        "}\n",
        "x['e']"
      ],
      "metadata": {
        "colab": {
          "base_uri": "https://localhost:8080/",
          "height": 209
        },
        "id": "VuYhWgB3EsJD",
        "outputId": "07d6a65d-ea60-4464-8681-f8291a861630"
      },
      "execution_count": 22,
      "outputs": [
        {
          "output_type": "error",
          "ename": "KeyError",
          "evalue": "ignored",
          "traceback": [
            "\u001b[0;31m---------------------------------------------------------------------------\u001b[0m",
            "\u001b[0;31mKeyError\u001b[0m                                  Traceback (most recent call last)",
            "\u001b[0;32m<ipython-input-22-70789ff8e031>\u001b[0m in \u001b[0;36m<module>\u001b[0;34m\u001b[0m\n\u001b[1;32m      3\u001b[0m     \u001b[0;34m'a'\u001b[0m\u001b[0;34m:\u001b[0m \u001b[0;36m10\u001b[0m\u001b[0;34m,\u001b[0m \u001b[0;34m'b'\u001b[0m\u001b[0;34m:\u001b[0m \u001b[0;36m20\u001b[0m\u001b[0;34m,\u001b[0m \u001b[0;34m'c'\u001b[0m\u001b[0;34m:\u001b[0m \u001b[0;36m30\u001b[0m\u001b[0;34m,\u001b[0m \u001b[0;34m'd'\u001b[0m\u001b[0;34m:\u001b[0m \u001b[0;36m40\u001b[0m\u001b[0;34m\u001b[0m\u001b[0;34m\u001b[0m\u001b[0m\n\u001b[1;32m      4\u001b[0m }\n\u001b[0;32m----> 5\u001b[0;31m \u001b[0mx\u001b[0m\u001b[0;34m[\u001b[0m\u001b[0;34m'e'\u001b[0m\u001b[0;34m]\u001b[0m\u001b[0;34m\u001b[0m\u001b[0;34m\u001b[0m\u001b[0m\n\u001b[0m",
            "\u001b[0;31mKeyError\u001b[0m: 'e'"
          ]
        }
      ]
    },
    {
      "cell_type": "code",
      "source": [
        "x.get('a')"
      ],
      "metadata": {
        "colab": {
          "base_uri": "https://localhost:8080/"
        },
        "id": "F5pnPyGH97uX",
        "outputId": "4183bea2-4b45-4245-9f54-61508e21c60b"
      },
      "execution_count": 24,
      "outputs": [
        {
          "output_type": "execute_result",
          "data": {
            "text/plain": [
              "10"
            ]
          },
          "metadata": {},
          "execution_count": 24
        }
      ]
    },
    {
      "cell_type": "code",
      "source": [
        "print(x.get('e'))\n",
        "print(x.get('e', 0)) "
      ],
      "metadata": {
        "colab": {
          "base_uri": "https://localhost:8080/"
        },
        "id": "qS2RdYiS-AX9",
        "outputId": "a1816652-c279-4c25-ec30-7cf66c0eb045"
      },
      "execution_count": 27,
      "outputs": [
        {
          "output_type": "stream",
          "name": "stdout",
          "text": [
            "None\n",
            "0\n"
          ]
        }
      ]
    },
    {
      "cell_type": "markdown",
      "source": [
        "get(키, 기본값)처럼 기본값을 지정하면 딕셔너리에 키가 있을 때는 해당 키의 값을 반환하지만 키가 없을 때는 기본값을 반환합니다."
      ],
      "metadata": {
        "id": "eLNx2cw3E3od"
      }
    },
    {
      "cell_type": "code",
      "source": [
        "print(x.get('e'))\n",
        "print(x.get('e', 0)) "
      ],
      "metadata": {
        "colab": {
          "base_uri": "https://localhost:8080/"
        },
        "id": "w3K8xktbE1SW",
        "outputId": "1fa2f8a6-6949-4597-be00-fe50d5d24b0d"
      },
      "execution_count": 28,
      "outputs": [
        {
          "output_type": "stream",
          "name": "stdout",
          "text": [
            "None\n",
            "0\n"
          ]
        }
      ]
    },
    {
      "cell_type": "markdown",
      "source": [
        "### 딕셔너리에서 키-값 쌍을 모두 가져오기"
      ],
      "metadata": {
        "id": "5fw2zFKAE686"
      }
    },
    {
      "cell_type": "markdown",
      "source": [
        "딕셔너리는 키와 값을 가져오는 다양한 메서드를 제공합니다.\n",
        "\n",
        "* items: 키-값 쌍을 모두 가져옴\n",
        "* keys: 키를 모두 가져옴\n",
        "* values: 값을 모두 가져옴"
      ],
      "metadata": {
        "id": "tQ-QAdDOE9Qk"
      }
    },
    {
      "cell_type": "code",
      "source": [
        "# items()는 딕셔너리의 키-값 쌍을 모두 가져옵니다.\n",
        "print(x)\n",
        "x.items()"
      ],
      "metadata": {
        "colab": {
          "base_uri": "https://localhost:8080/"
        },
        "id": "QN-GyGFgE5LN",
        "outputId": "0d46a411-2d9a-4d0b-be45-40fe76ef9cb4"
      },
      "execution_count": 29,
      "outputs": [
        {
          "output_type": "stream",
          "name": "stdout",
          "text": [
            "{'a': 10, 'b': 20, 'c': 30, 'd': 40}\n"
          ]
        },
        {
          "output_type": "execute_result",
          "data": {
            "text/plain": [
              "dict_items([('a', 10), ('b', 20), ('c', 30), ('d', 40)])"
            ]
          },
          "metadata": {},
          "execution_count": 29
        }
      ]
    },
    {
      "cell_type": "code",
      "source": [
        "# keys()는 키를 모두 가져옵니다.\n",
        "for i in x.items():\n",
        "  print(i)"
      ],
      "metadata": {
        "colab": {
          "base_uri": "https://localhost:8080/"
        },
        "id": "z5Cn2RDuFCel",
        "outputId": "e0ff0026-b79e-4c84-a807-ee325caa7f9f"
      },
      "execution_count": 30,
      "outputs": [
        {
          "output_type": "stream",
          "name": "stdout",
          "text": [
            "('a', 10)\n",
            "('b', 20)\n",
            "('c', 30)\n",
            "('d', 40)\n"
          ]
        }
      ]
    },
    {
      "cell_type": "code",
      "source": [
        "# values()는 값을 모두 가져옵니다.\n",
        "for l, v in x.items():\n",
        "  print(x)\n",
        "  print(v)"
      ],
      "metadata": {
        "colab": {
          "base_uri": "https://localhost:8080/"
        },
        "id": "i935UdgcFGaR",
        "outputId": "32493d81-bb60-42fb-fded-c22c7d1e8653"
      },
      "execution_count": 32,
      "outputs": [
        {
          "output_type": "stream",
          "name": "stdout",
          "text": [
            "('d', 40)\n",
            "10\n",
            "('d', 40)\n",
            "20\n",
            "('d', 40)\n",
            "30\n",
            "('d', 40)\n",
            "40\n"
          ]
        }
      ]
    },
    {
      "cell_type": "markdown",
      "source": [
        "## 반복문으로 딕셔너리의 키-값 쌍을 모두 출력하기"
      ],
      "metadata": {
        "id": "V5v9lyEoFNZE"
      }
    },
    {
      "cell_type": "code",
      "source": [],
      "metadata": {
        "colab": {
          "base_uri": "https://localhost:8080/"
        },
        "id": "VU36vMVBFKMh",
        "outputId": "1038432a-ac95-46d8-b5d7-d28c443447fd"
      },
      "execution_count": null,
      "outputs": [
        {
          "output_type": "stream",
          "name": "stdout",
          "text": [
            "a b c d "
          ]
        }
      ]
    },
    {
      "cell_type": "markdown",
      "source": [
        "for i in x:처럼 for 반복문에 딕셔너리를 지정한 뒤에 print로 변수 i를 출력해보면 값은 출력되지 않고 키만 출력됩니다. 그럼 키와 값을 모두 출력하려면 어떻게 해야 할까요?\n",
        "\n",
        "이때는 for in 뒤에 딕셔너리를 지정하고 items를 사용해야 합니다.\n",
        "\n",
        "```\n",
        "for 키, 값 in 딕셔너리.items():\n",
        "     반복할 코드\n",
        "```"
      ],
      "metadata": {
        "id": "RfLcd88MFYr6"
      }
    },
    {
      "cell_type": "code",
      "source": [],
      "metadata": {
        "colab": {
          "base_uri": "https://localhost:8080/"
        },
        "id": "TWsTCUr0FWTZ",
        "outputId": "ab85c929-526a-457b-cd48-5b49ea80f169"
      },
      "execution_count": null,
      "outputs": [
        {
          "output_type": "stream",
          "name": "stdout",
          "text": [
            "a 10\n",
            "b 20\n",
            "c 30\n",
            "d 40\n"
          ]
        }
      ]
    },
    {
      "cell_type": "markdown",
      "source": [
        "`for key, value in x.items():`는 딕셔너리 x에서 키-값 쌍을 꺼내서 키는 key에 값은 value에 저장하고, 꺼낼 때마다 코드를 반복합니다. 따라서 print로 key와 value를 출력하면 키-값 쌍을 모두 출력할 수 있습니다."
      ],
      "metadata": {
        "id": "n__sxlkrFglx"
      }
    },
    {
      "cell_type": "markdown",
      "source": [
        "### 딕셔너리의 키만 출력하기"
      ],
      "metadata": {
        "id": "ErHv6usqFluk"
      }
    },
    {
      "cell_type": "code",
      "source": [],
      "metadata": {
        "colab": {
          "base_uri": "https://localhost:8080/"
        },
        "id": "FXG5YkAaFduL",
        "outputId": "41278ed4-8958-4779-c89d-1bf12d380a90"
      },
      "execution_count": null,
      "outputs": [
        {
          "output_type": "stream",
          "name": "stdout",
          "text": [
            "a b c d "
          ]
        }
      ]
    },
    {
      "cell_type": "code",
      "source": [],
      "metadata": {
        "colab": {
          "base_uri": "https://localhost:8080/"
        },
        "id": "veekIedSFusf",
        "outputId": "18f6586a-8edc-447a-fe0a-064fad7fc425"
      },
      "execution_count": null,
      "outputs": [
        {
          "output_type": "stream",
          "name": "stdout",
          "text": [
            "a b c d "
          ]
        }
      ]
    },
    {
      "cell_type": "markdown",
      "source": [
        "### 딕셔너리의 값만 출력하기"
      ],
      "metadata": {
        "id": "QXxnJW6TFzj0"
      }
    },
    {
      "cell_type": "code",
      "source": [],
      "metadata": {
        "colab": {
          "base_uri": "https://localhost:8080/"
        },
        "id": "a0byY123FwdO",
        "outputId": "16effa87-1d83-4da2-f115-213886c1d8ae"
      },
      "execution_count": null,
      "outputs": [
        {
          "output_type": "stream",
          "name": "stdout",
          "text": [
            "10 20 30 40 "
          ]
        }
      ]
    },
    {
      "cell_type": "markdown",
      "source": [
        "## 딕셔너리 안에서 딕셔너리 사용하기"
      ],
      "metadata": {
        "id": "SQWf1aONIu34"
      }
    },
    {
      "cell_type": "markdown",
      "source": [
        "딕셔너리는 값 부분에 다시 딕셔너리가 계속 들어갈 수 있습니다.\n",
        "\n",
        "* `딕셔너리 = {키1: {키A: 값A}, 키2: {키B: 값B}}`"
      ],
      "metadata": {
        "id": "2A5RdBk3IxQl"
      }
    },
    {
      "cell_type": "code",
      "source": [
        "a = {\n",
        "    \"삼성\": {\n",
        "        \"대주주\": \"이재용\",\n",
        "        \"순위\": 1,\n",
        "        \"취급품목\": {\n",
        "            \"갤럭시\": 10000,\n",
        "            \"티비\": 20000\n",
        "          }\n",
        "      } \n",
        "  }\n",
        "a "
      ],
      "metadata": {
        "colab": {
          "base_uri": "https://localhost:8080/"
        },
        "id": "KqG8iE5GF3LU",
        "outputId": "f6d88bab-72b1-4d3a-c31f-c7cc4c59bf61"
      },
      "execution_count": 40,
      "outputs": [
        {
          "output_type": "execute_result",
          "data": {
            "text/plain": [
              "{'삼성': {'대주주': '이재용', '순위': 1, '취급품목': {'갤럭시': 10000, '티비': 20000}}}"
            ]
          },
          "metadata": {},
          "execution_count": 40
        }
      ]
    },
    {
      "cell_type": "markdown",
      "source": [
        "중첩 딕셔너리는 계층형 데이터를 저장할 때 유용합니다.\n",
        "\n",
        "딕셔너리 안에 들어있는 딕셔너리에 접근하려면 딕셔너리 뒤에 [ ](대괄호)를 단계만큼 붙이고 키를 지정해주면 됩니다.\n",
        "\n",
        "* `딕셔너리[키][키]`\n",
        "* `딕셔너리[키][키] = 값`"
      ],
      "metadata": {
        "id": "YdxNleWUI7ET"
      }
    }
  ]
}
