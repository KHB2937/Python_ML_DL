{
  "nbformat": 4,
  "nbformat_minor": 0,
  "metadata": {
    "colab": {
      "provenance": [],
      "include_colab_link": true
    },
    "kernelspec": {
      "name": "python3",
      "display_name": "Python 3"
    },
    "language_info": {
      "name": "python"
    }
  },
  "cells": [
    {
      "cell_type": "markdown",
      "metadata": {
        "id": "view-in-github",
        "colab_type": "text"
      },
      "source": [
        "<a href=\"https://colab.research.google.com/github/KHB2937/Python/blob/main/submission/KHB2937/remind/ch03_02_%EB%B3%B5%EC%8A%B5_ipynb%EC%9D%98_%EC%82%AC%EB%B3%B8.ipynb\" target=\"_parent\"><img src=\"https://colab.research.google.com/assets/colab-badge.svg\" alt=\"Open In Colab\"/></a>"
      ]
    },
    {
      "cell_type": "markdown",
      "source": [
        "# 클래스 (Class : Classification)"
      ],
      "metadata": {
        "id": "jntjft-SkrhF"
      }
    },
    {
      "cell_type": "code",
      "execution_count": null,
      "metadata": {
        "id": "c0H5MIVFhft1"
      },
      "outputs": [],
      "source": [
        "class Teacher: # class 클래스이름:\n",
        "    def __init__(self): # def __init__(self): 생성자\n",
        "        self.name = \"이명직\""
      ]
    },
    {
      "cell_type": "code",
      "source": [
        "lee = Teacher() # 클래스() : 해당 클래스를 기반으로 하는 인스턴스(객체)를 생성해주겠다\n",
        "# 클래스 : 특정한 객체를 만들 수 있는 설계도\n",
        "# 인스턴스 : 클래스로 만들어진 객체\n",
        "# 객체 : 특정한 기능이나 값들의 묶음\n",
        "lee"
      ],
      "metadata": {
        "colab": {
          "base_uri": "https://localhost:8080/"
        },
        "id": "UfF_eSvIli3T",
        "outputId": "90b21a3b-da44-48f1-e048-11e9d63f7cc7"
      },
      "execution_count": null,
      "outputs": [
        {
          "output_type": "execute_result",
          "data": {
            "text/plain": [
              "<__main__.Teacher at 0x7f7878a84fa0>"
            ]
          },
          "metadata": {},
          "execution_count": 2
        }
      ]
    },
    {
      "cell_type": "code",
      "source": [
        "lee.name # 인스터스의 속성."
      ],
      "metadata": {
        "colab": {
          "base_uri": "https://localhost:8080/",
          "height": 36
        },
        "id": "ys0V3thxl6fu",
        "outputId": "6ad4630d-16f3-46c2-968b-3688ef46a1b8"
      },
      "execution_count": null,
      "outputs": [
        {
          "output_type": "execute_result",
          "data": {
            "text/plain": [
              "'이명직'"
            ],
            "application/vnd.google.colaboratory.intrinsic+json": {
              "type": "string"
            }
          },
          "metadata": {},
          "execution_count": 3
        }
      ]
    },
    {
      "cell_type": "code",
      "source": [
        "class Teacher: # class 클래스이름:\n",
        "    def __init__(self): # def __init__(self): 생성자\n",
        "        self.name = \"이명직\"\n",
        "    \n",
        "    # 클래스에 속한 함수(기능) -> 메소드, 메서드. (method)\n",
        "    def lesson(self): # def 메소드이름(self)\n",
        "        print(\"수업을 시작하겠습니다!\")"
      ],
      "metadata": {
        "id": "kCud0D1BmBeF"
      },
      "execution_count": null,
      "outputs": []
    },
    {
      "cell_type": "code",
      "source": [
        "lee = Teacher()\n",
        "lee.lesson() # 인스턴스.메소드명()"
      ],
      "metadata": {
        "colab": {
          "base_uri": "https://localhost:8080/"
        },
        "id": "Vg0Xr22xmZQp",
        "outputId": "0d245356-271b-4781-a640-9de38d20c5af"
      },
      "execution_count": null,
      "outputs": [
        {
          "output_type": "stream",
          "name": "stdout",
          "text": [
            "수업을 시작하겠습니다!\n"
          ]
        }
      ]
    },
    {
      "cell_type": "code",
      "source": [
        "class Teacher: # class 클래스이름:\n",
        "    def __init__(self, name): # def __init__(self, 매개변수 - parameter): 생성자 <- 인자(argment) (외부)\n",
        "        # self.name = \"이명직\"\n",
        "        self.name = name\n",
        "    \n",
        "    # 클래스에 속한 함수(기능) -> 메소드, 메서드. (method)\n",
        "    def lesson(self, time, *args, comment=\"뭘 하면 좋을까요\", **kwargs): # def 메소드이름(self)\n",
        "        # 자기소개를 한다 (인스턴스->name)\n",
        "        print(f\"제 이름은 {self.name}입니다.\")\n",
        "        # 수업 시간을 알려준다 (매개변수->time)\n",
        "        print(f\"오늘의 수업시간은 {time:.2f}시간입니다.\")\n",
        "        # 수업 과목 목록을 돌려준다 (args -> for반복)\n",
        "        print(f\"오늘의 수업 과목은 \")\n",
        "        # for v in args: # *args -> 튜플 -> 시퀀스 -> for로 반복이 가능\n",
        "        # enumerate : 시퀀스형 객체를 '인덱스, 값' 형태의 튜플로 원소들을 바꿔줌\n",
        "        for i, v in enumerate(args): # *args -> 튜플 -> 시퀀스 -> for로 반복이 가능\n",
        "            # 각각의 요소(element)를 v라는 변수 이름으로 받겠다\n",
        "            # v는 루프가 한 번 돌때마다 순서대로 새로운 요소 값을 받는다\n",
        "            print(i, v)\n",
        "            # print(v)\n",
        "        print(\"입니다\")\n",
        "        print(\"수업을 시작하겠습니다!\")\n",
        "        print(comment)\n",
        "        # kwargs -> 수강생명:질문\n",
        "        for k, v in kwargs.items():\n",
        "            print(f\"{k}님이 질문하셨네요\")\n",
        "            print(f\"{v}에 대해서 답해드릴게요\")\n",
        "            print(\"실은 저도 잘 몰라요\")"
      ],
      "metadata": {
        "id": "jbvOFuEWmofb"
      },
      "execution_count": null,
      "outputs": []
    },
    {
      "cell_type": "code",
      "source": [
        "import math\n",
        "\n",
        "# lee = Teacher() # name -> name이라고 하는 매개변수를 입력안하면 나 실행 안할꺼야!\n",
        "lee = Teacher('이단단') # name -> name이라고 하는 매개변수를 입력안하면 나 실행 안할꺼야!\n",
        "print(lee.name)\n",
        "# lee.lesson() # time\n",
        "lee.lesson(math.pi) # time"
      ],
      "metadata": {
        "colab": {
          "base_uri": "https://localhost:8080/"
        },
        "id": "jjyqpvRWnRS6",
        "outputId": "8d1cbf52-3f9d-4554-a878-54b9823600b1"
      },
      "execution_count": null,
      "outputs": [
        {
          "output_type": "stream",
          "name": "stdout",
          "text": [
            "이단단\n",
            "제 이름은 이단단입니다.\n",
            "오늘의 수업시간은 3.14시간입니다.\n",
            "오늘의 수업 과목은  입니다\n",
            "수업을 시작하겠습니다!\n",
            "뭘 하면 좋을까요\n"
          ]
        }
      ]
    },
    {
      "cell_type": "code",
      "source": [
        "lee.lesson(math.pi, \"자바\", \"자바스크립트\", \"Numpy\")"
      ],
      "metadata": {
        "colab": {
          "base_uri": "https://localhost:8080/"
        },
        "id": "3NvH3Jk7rWmv",
        "outputId": "64708be2-64a4-4166-8b69-6a9a1f5089f7"
      },
      "execution_count": null,
      "outputs": [
        {
          "output_type": "stream",
          "name": "stdout",
          "text": [
            "제 이름은 이단단입니다.\n",
            "오늘의 수업시간은 3.14시간입니다.\n",
            "오늘의 수업 과목은  0 자바\n",
            "1 자바스크립트\n",
            "2 Numpy\n",
            "입니다\n",
            "수업을 시작하겠습니다!\n",
            "뭘 하면 좋을까요\n"
          ]
        }
      ]
    },
    {
      "cell_type": "code",
      "source": [
        "lee.lesson(math.pi,\n",
        "           \"자바\", \"자바스크립트\", \"Numpy\",\n",
        "           comment=\"오늘은 기분이 참 좋네요!\",\n",
        "           john=\"강사님 타자가 너무 빨라요\",\n",
        "           james=\"강사님 수업 진도만 나가면 안될까요\",\n",
        "           kate=\"강사님 깃허브 꼬였어요\")"
      ],
      "metadata": {
        "colab": {
          "base_uri": "https://localhost:8080/"
        },
        "id": "J3wzOTu1r-Lg",
        "outputId": "9bebd037-7937-4bbe-d4d7-4939b2d51253"
      },
      "execution_count": null,
      "outputs": [
        {
          "output_type": "stream",
          "name": "stdout",
          "text": [
            "제 이름은 이단단입니다.\n",
            "오늘의 수업시간은 3.14시간입니다.\n",
            "오늘의 수업 과목은  0 자바\n",
            "1 자바스크립트\n",
            "2 Numpy\n",
            "입니다\n",
            "수업을 시작하겠습니다!\n",
            "오늘은 기분이 참 좋네요!\n",
            "john님이 질문하셨네요\n",
            "강사님 타자가 너무 빨라요에 대해서 답해드릴게요\n",
            "실은 저도 잘 몰라요\n",
            "james님이 질문하셨네요\n",
            "강사님 수업 진도만 나가면 안될까요에 대해서 답해드릴게요\n",
            "실은 저도 잘 몰라요\n",
            "kate님이 질문하셨네요\n",
            "강사님 깃허브 꼬였어요에 대해서 답해드릴게요\n",
            "실은 저도 잘 몰라요\n"
          ]
        }
      ]
    }
  ]
}