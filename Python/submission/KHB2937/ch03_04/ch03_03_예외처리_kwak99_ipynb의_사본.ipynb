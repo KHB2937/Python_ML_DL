{
  "nbformat": 4,
  "nbformat_minor": 0,
  "metadata": {
    "colab": {
      "provenance": [],
      "include_colab_link": true
    },
    "kernelspec": {
      "name": "python3",
      "display_name": "Python 3"
    },
    "language_info": {
      "name": "python"
    }
  },
  "cells": [
    {
      "cell_type": "markdown",
      "metadata": {
        "id": "view-in-github",
        "colab_type": "text"
      },
      "source": [
        "<a href=\"https://colab.research.google.com/github/KHB2937/Python/blob/main/submission/KHB2937/ch03_03_%EC%98%88%EC%99%B8%EC%B2%98%EB%A6%AC_kwak99_ipynb%EC%9D%98_%EC%82%AC%EB%B3%B8.ipynb\" target=\"_parent\"><img src=\"https://colab.research.google.com/assets/colab-badge.svg\" alt=\"Open In Colab\"/></a>"
      ]
    },
    {
      "cell_type": "markdown",
      "source": [
        "# 예외 처리"
      ],
      "metadata": {
        "id": "SXBdlUfQWeyk"
      }
    },
    {
      "cell_type": "markdown",
      "source": [
        "예외(exception)란 코드를 실행하는 중에 발생한 에러를 뜻합니다. 다음과 같이 10을 어떤 값으로 나누는 함수 ten_div가 있을 때 인수에 따라 정상으로 동작하기도 하고 에러가 나기도 합니다."
      ],
      "metadata": {
        "id": "8AICjLSoWdFo"
      }
    },
    {
      "cell_type": "code",
      "execution_count": null,
      "metadata": {
        "id": "nZTvjpvKWOwa"
      },
      "outputs": [],
      "source": [
        "def ten_div(x: int) -> float:\n",
        "    return 10 / x"
      ]
    },
    {
      "cell_type": "code",
      "source": [
        "ten_div(2) # 10 / 2"
      ],
      "metadata": {
        "colab": {
          "base_uri": "https://localhost:8080/"
        },
        "id": "20ZD3c15WsRs",
        "outputId": "aa502dab-7485-46e6-c2e1-8357ff4fb638"
      },
      "execution_count": null,
      "outputs": [
        {
          "output_type": "execute_result",
          "data": {
            "text/plain": [
              "5.0"
            ]
          },
          "metadata": {},
          "execution_count": 8
        }
      ]
    },
    {
      "cell_type": "code",
      "source": [
        "ten_div(0)"
      ],
      "metadata": {
        "colab": {
          "base_uri": "https://localhost:8080/",
          "height": 251
        },
        "id": "nRjniMgyXd4X",
        "outputId": "38a0173b-3cc7-419c-de19-931aa2727b26"
      },
      "execution_count": null,
      "outputs": [
        {
          "output_type": "error",
          "ename": "ZeroDivisionError",
          "evalue": "ignored",
          "traceback": [
            "\u001b[0;31m---------------------------------------------------------------------------\u001b[0m",
            "\u001b[0;31mZeroDivisionError\u001b[0m                         Traceback (most recent call last)",
            "\u001b[0;32m<ipython-input-9-446b4e992a50>\u001b[0m in \u001b[0;36m<module>\u001b[0;34m\u001b[0m\n\u001b[0;32m----> 1\u001b[0;31m \u001b[0mten_div\u001b[0m\u001b[0;34m(\u001b[0m\u001b[0;36m0\u001b[0m\u001b[0;34m)\u001b[0m\u001b[0;34m\u001b[0m\u001b[0;34m\u001b[0m\u001b[0m\n\u001b[0m",
            "\u001b[0;32m<ipython-input-7-fdec0ad3acc6>\u001b[0m in \u001b[0;36mten_div\u001b[0;34m(x)\u001b[0m\n\u001b[1;32m      1\u001b[0m \u001b[0;32mdef\u001b[0m \u001b[0mten_div\u001b[0m\u001b[0;34m(\u001b[0m\u001b[0mx\u001b[0m\u001b[0;34m:\u001b[0m \u001b[0mint\u001b[0m\u001b[0;34m)\u001b[0m \u001b[0;34m->\u001b[0m \u001b[0mfloat\u001b[0m\u001b[0;34m:\u001b[0m\u001b[0;34m\u001b[0m\u001b[0;34m\u001b[0m\u001b[0m\n\u001b[0;32m----> 2\u001b[0;31m     \u001b[0;32mreturn\u001b[0m \u001b[0;36m10\u001b[0m \u001b[0;34m/\u001b[0m \u001b[0mx\u001b[0m\u001b[0;34m\u001b[0m\u001b[0;34m\u001b[0m\u001b[0m\n\u001b[0m",
            "\u001b[0;31mZeroDivisionError\u001b[0m: division by zero"
          ]
        }
      ]
    },
    {
      "cell_type": "markdown",
      "source": [
        "ZeroDivisionError뿐만 아니라 지금까지 만난 AttributeError, NameError, TypeError 등 다양한 에러들도 모두 예외입니다.\n",
        "\n",
        "이번에는 예외가 발생했을 때도 스크립트 실행을 중단하지 않고 계속 실행하게 해주는 예외 처리 방법에 대해 알아보겠습니다."
      ],
      "metadata": {
        "id": "9DzWQOTWXhGM"
      }
    },
    {
      "cell_type": "markdown",
      "source": [
        "## try except로 사용하기\n",
        "\n",
        "예외 처리를 하려면 다음과 같이 try에 실행할 코드를 넣고 except에 예외가 발생했을 때 처리하는 코드를 넣습니다.\n",
        "\n",
        "```\n",
        "try:\n",
        "    실행할 코드\n",
        "except:\n",
        "    예외가 발생했을 때 처리하는 코드\n",
        "```"
      ],
      "metadata": {
        "id": "6EqAn1POXi85"
      }
    },
    {
      "cell_type": "code",
      "source": [
        "try:\n",
        "    x = int(input('나눌 숫자를 입력하세요 : '))\n",
        "    y = 10 / x\n",
        "    print(y)\n",
        "except: # 만약에 에러가 발생한다면\n",
        "    print(\"예외가 발생했습니다.\")"
      ],
      "metadata": {
        "colab": {
          "base_uri": "https://localhost:8080/"
        },
        "id": "B6zQAb1BWuJ8",
        "outputId": "9af89efb-cefd-413a-9a4a-ae4c0d3cceef"
      },
      "execution_count": null,
      "outputs": [
        {
          "output_type": "stream",
          "name": "stdout",
          "text": [
            "나눌 숫자를 입력하세요 : 0\n",
            "예외가 발생했습니다.\n"
          ]
        }
      ]
    },
    {
      "cell_type": "code",
      "source": [
        "x = int(input('나눌 숫자를 입력하세요 : '))\n",
        "if x != 0:\n",
        "    y = 10 / x\n",
        "    print(y)"
      ],
      "metadata": {
        "colab": {
          "base_uri": "https://localhost:8080/",
          "height": 251
        },
        "id": "KwUoH4oZuBCL",
        "outputId": "c95e2943-b6ed-4ea6-a91a-e23497f06228"
      },
      "execution_count": null,
      "outputs": [
        {
          "name": "stdout",
          "output_type": "stream",
          "text": [
            "나눌 숫자를 입력하세요 : 일\n"
          ]
        },
        {
          "output_type": "error",
          "ename": "ValueError",
          "evalue": "ignored",
          "traceback": [
            "\u001b[0;31m---------------------------------------------------------------------------\u001b[0m",
            "\u001b[0;31mValueError\u001b[0m                                Traceback (most recent call last)",
            "\u001b[0;32m<ipython-input-11-0d56fdfd9d33>\u001b[0m in \u001b[0;36m<module>\u001b[0;34m\u001b[0m\n\u001b[0;32m----> 1\u001b[0;31m \u001b[0mx\u001b[0m \u001b[0;34m=\u001b[0m \u001b[0mint\u001b[0m\u001b[0;34m(\u001b[0m\u001b[0minput\u001b[0m\u001b[0;34m(\u001b[0m\u001b[0;34m'나눌 숫자를 입력하세요 : '\u001b[0m\u001b[0;34m)\u001b[0m\u001b[0;34m)\u001b[0m\u001b[0;34m\u001b[0m\u001b[0;34m\u001b[0m\u001b[0m\n\u001b[0m\u001b[1;32m      2\u001b[0m \u001b[0;32mif\u001b[0m \u001b[0mx\u001b[0m \u001b[0;34m!=\u001b[0m \u001b[0;36m0\u001b[0m\u001b[0;34m:\u001b[0m\u001b[0;34m\u001b[0m\u001b[0;34m\u001b[0m\u001b[0m\n\u001b[1;32m      3\u001b[0m     \u001b[0my\u001b[0m \u001b[0;34m=\u001b[0m \u001b[0;36m10\u001b[0m \u001b[0;34m/\u001b[0m \u001b[0mx\u001b[0m\u001b[0;34m\u001b[0m\u001b[0;34m\u001b[0m\u001b[0m\n\u001b[1;32m      4\u001b[0m     \u001b[0mprint\u001b[0m\u001b[0;34m(\u001b[0m\u001b[0my\u001b[0m\u001b[0;34m)\u001b[0m\u001b[0;34m\u001b[0m\u001b[0;34m\u001b[0m\u001b[0m\n",
            "\u001b[0;31mValueError\u001b[0m: invalid literal for int() with base 10: '일'"
          ]
        }
      ]
    },
    {
      "cell_type": "markdown",
      "source": [
        "### 특정 예외만 처리하기"
      ],
      "metadata": {
        "id": "yJhJgpTZmNLR"
      }
    },
    {
      "cell_type": "markdown",
      "source": [
        "이번에는 except에 예외 이름을 지정해서 특정 예외가 발생했을 때만 처리 코드를 실행하도록 만들어보겠습니다.\n",
        "\n",
        "```\n",
        "try:\n",
        "    실행할 코드\n",
        "except 예외이름:\n",
        "    예외가 발생했을 때 처리하는 코드\n",
        "```"
      ],
      "metadata": {
        "id": "QchQpm_gmPni"
      }
    },
    {
      "cell_type": "code",
      "source": [
        "try:\n",
        "    x = int(input(\"숫자를 입력하세요 : \"))\n",
        "    y = 10 / x\n",
        "except ZeroDivisionError:\n",
        "    # print(\"예외 발생\")\n",
        "    print(\"0으로 나눌 수 없습니다\")\n",
        "except ValueError:\n",
        "    print(\"적절한 값이 아닙니다\")\n",
        "except KeyboardInterrupt:\n",
        "    print(\"강제 종료되었습니다\")"
      ],
      "metadata": {
        "colab": {
          "base_uri": "https://localhost:8080/"
        },
        "id": "9-hVOWQbmJfn",
        "outputId": "b35964fe-7540-4a1e-b56f-f6df36cf5f2c"
      },
      "execution_count": null,
      "outputs": [
        {
          "name": "stdout",
          "output_type": "stream",
          "text": [
            "강제 종료되었습니다\n",
            "숫자를 입력하세요 : ㄹㄹㄹ\n"
          ]
        }
      ]
    },
    {
      "cell_type": "markdown",
      "source": [
        "### 예외의 에러 메시지 받아오기"
      ],
      "metadata": {
        "id": "0t3SabV0mdDd"
      }
    },
    {
      "cell_type": "markdown",
      "source": [
        "특히 except에서 as 뒤에 변수를 지정하면 발생한 예외의 에러 메시지를 받아올 수 있습니다.\n",
        "\n",
        "```\n",
        "try:\n",
        "    실행할 코드\n",
        "except 예외 as 변수:\n",
        "    예외가 발생했을 때 처리하는 코드\n",
        "```"
      ],
      "metadata": {
        "id": "uLotXEmOv3FL"
      }
    },
    {
      "cell_type": "markdown",
      "source": [
        "앞에서 만든 코드의 except에 as e를 넣습니다. 보통 예외( exception)의 e를 따서 변수 이름을 e로 짓습니다.\n",
        "\n"
      ],
      "metadata": {
        "id": "w3wv_OzAv635"
      }
    },
    {
      "cell_type": "code",
      "source": [
        "10 / 0"
      ],
      "metadata": {
        "colab": {
          "base_uri": "https://localhost:8080/",
          "height": 176
        },
        "id": "N55vguPEv7Pg",
        "outputId": "78d69a03-ce08-4475-e621-66248a84a5e0"
      },
      "execution_count": null,
      "outputs": [
        {
          "output_type": "error",
          "ename": "ZeroDivisionError",
          "evalue": "ignored",
          "traceback": [
            "\u001b[0;31m---------------------------------------------------------------------------\u001b[0m",
            "\u001b[0;31mZeroDivisionError\u001b[0m                         Traceback (most recent call last)",
            "\u001b[0;32m<ipython-input-19-cd759d3fcf39>\u001b[0m in \u001b[0;36m<module>\u001b[0;34m\u001b[0m\n\u001b[0;32m----> 1\u001b[0;31m \u001b[0;36m10\u001b[0m \u001b[0;34m/\u001b[0m \u001b[0;36m0\u001b[0m\u001b[0;34m\u001b[0m\u001b[0;34m\u001b[0m\u001b[0m\n\u001b[0m",
            "\u001b[0;31mZeroDivisionError\u001b[0m: division by zero"
          ]
        }
      ]
    },
    {
      "cell_type": "code",
      "source": [
        "try:\n",
        "    a = {'a': 1, 'b': 2} # 뭐가 있는지 몰라\n",
        "    a['a'], a['b'], a['memo']\n",
        "# except KeyError:\n",
        "except Exception as e:\n",
        "    # print(\"키 에러가 발생했습니다\")\n",
        "    print(f\"에러 : {e}\")\n",
        "    print(\"에러가 발생했습니다\")"
      ],
      "metadata": {
        "colab": {
          "base_uri": "https://localhost:8080/"
        },
        "id": "36_oE7N7wEcg",
        "outputId": "565596ff-0950-447a-9768-27d50172b976"
      },
      "execution_count": null,
      "outputs": [
        {
          "output_type": "stream",
          "name": "stdout",
          "text": [
            "에러 : 'memo'\n",
            "에러가 발생했습니다\n"
          ]
        }
      ]
    },
    {
      "cell_type": "code",
      "source": [
        "try:\n",
        "    a = {'a': 1, 'b': 2} # 뭐가 있는지 몰라\n",
        "    a['a'], a['b'], a['teddybear']\n",
        "    a['memo']\n",
        "except KeyError as e:\n",
        "    print(\"키 에러가 발생했습니다\")\n",
        "    print(e)"
      ],
      "metadata": {
        "colab": {
          "base_uri": "https://localhost:8080/"
        },
        "id": "oQkKVQ_Xwvc1",
        "outputId": "09eb10d5-a8e8-40d7-9fa2-5ba58ad4f75f"
      },
      "execution_count": null,
      "outputs": [
        {
          "output_type": "stream",
          "name": "stdout",
          "text": [
            "키 에러가 발생했습니다\n",
            "'teddybear'\n"
          ]
        }
      ]
    },
    {
      "cell_type": "markdown",
      "source": [
        "참고로 모든 예외의 에러 메시지를 출력하고 싶다면 다음과 같이 except에 Exception을 지정하고 as 뒤에 변수를 넣으면 됩니다.\n",
        "\n",
        "```\n",
        "except Exception as e:    # 모든 예외의 에러 메시지를 출력할 때는 Exception을 사용\n",
        "    print('예외가 발생했습니다.', e)\n",
        "```\n",
        "\n",
        "이처럼 예외 처리는 에러가 발생하더라도 스크립트의 실행을 중단시키지 않고 계속 실행하고자 할 때 사용합니다."
      ],
      "metadata": {
        "id": "KEd4hZcPwCvD"
      }
    },
    {
      "cell_type": "markdown",
      "source": [
        "## else와 finally 사용하기"
      ],
      "metadata": {
        "id": "r5Qr2YbHwK5Y"
      }
    },
    {
      "cell_type": "markdown",
      "source": [
        "이번에는 예외가 발생하지 않았을 때 코드를 실행하는 else를 사용해보겠습니다. 다음과 같이 else는 except 바로 다음에 와야 하며 except를 생략할 수 없습니다.\n",
        "\n",
        "```\n",
        "try:\n",
        "    실행할 코드\n",
        "except:\n",
        "    예외가 발생했을 때 처리하는 코드\n",
        "else:\n",
        "    예외가 발생하지 않았을 때 실행할 코드\n",
        "```"
      ],
      "metadata": {
        "id": "-H79eDcfwMxn"
      }
    },
    {
      "cell_type": "code",
      "source": [
        "try:\n",
        "    x = int(input(\"숫자를 입력하세요 : \"))\n",
        "    y = 10 / x\n",
        "except ZeroDivisionError:\n",
        "    # print(\"예외 발생\")\n",
        "    print(\"0으로 나눌 수 없습니다\")\n",
        "except ValueError:\n",
        "    print(\"적절한 값이 아닙니다\")\n",
        "except KeyboardInterrupt:\n",
        "    print(\"강제 종료되었습니다\")\n",
        "else:\n",
        "    print(y)"
      ],
      "metadata": {
        "colab": {
          "base_uri": "https://localhost:8080/"
        },
        "id": "8ghXm6Jyv9FP",
        "outputId": "8bb6d565-cebb-439b-9020-6d68786202c6"
      },
      "execution_count": null,
      "outputs": [
        {
          "output_type": "stream",
          "name": "stdout",
          "text": [
            "숫자를 입력하세요 : 0\n",
            "0으로 나눌 수 없습니다\n"
          ]
        }
      ]
    },
    {
      "cell_type": "code",
      "source": [
        "try:\n",
        "    x = int(input(\"숫자를 입력하세요 : \"))\n",
        "    y = 10 / x\n",
        "    print(y)\n",
        "except ZeroDivisionError:\n",
        "    # print(\"예외 발생\")\n",
        "    print(\"0으로 나눌 수 없습니다\")\n",
        "except ValueError:\n",
        "    print(\"적절한 값이 아닙니다\")\n",
        "except KeyboardInterrupt:\n",
        "    print(\"강제 종료되었습니다\")"
      ],
      "metadata": {
        "colab": {
          "base_uri": "https://localhost:8080/"
        },
        "id": "Nyf-aaRXyCQT",
        "outputId": "7a621e87-93ee-44f7-a6d9-240a8456054f"
      },
      "execution_count": null,
      "outputs": [
        {
          "output_type": "stream",
          "name": "stdout",
          "text": [
            "숫자를 입력하세요 : 0\n",
            "0으로 나눌 수 없습니다\n"
          ]
        }
      ]
    },
    {
      "cell_type": "code",
      "source": [
        "y = 100\n",
        "try:\n",
        "    x = int(input(\"숫자를 입력하세요 : \"))\n",
        "    y = 10 / x # 에러 발생시 여기서 차단단\n",
        "except ZeroDivisionError:\n",
        "    # print(\"예외 발생\")\n",
        "    print(\"0으로 나눌 수 없습니다\")\n",
        "except ValueError:\n",
        "    print(\"적절한 값이 아닙니다\")\n",
        "except KeyboardInterrupt:\n",
        "    print(\"강제 종료되었습니다\")\n",
        "\n",
        "print(y)"
      ],
      "metadata": {
        "colab": {
          "base_uri": "https://localhost:8080/"
        },
        "id": "d8ozjXq1yLbq",
        "outputId": "7c7f95d1-e1ba-4e3b-8809-66262b6aa422"
      },
      "execution_count": null,
      "outputs": [
        {
          "output_type": "stream",
          "name": "stdout",
          "text": [
            "숫자를 입력하세요 : 0\n",
            "0으로 나눌 수 없습니다\n",
            "100\n"
          ]
        }
      ]
    },
    {
      "cell_type": "code",
      "source": [
        "try:\n",
        "    x1 = int(input(\"숫자를 입력하세요 (1) : \"))\n",
        "    x2 = int(input(\"숫자를 입력하세요 (2) : \"))\n",
        "    y = x1 / x2\n",
        "    ######## <- 버그가 발생될 여지가 있는 코드\n",
        "    # print(x1)\n",
        "    # print(x2)\n",
        "    # print(y)\n",
        "except ZeroDivisionError:\n",
        "    # print(\"예외 발생\")\n",
        "    print(\"0으로 나눌 수 없습니다\")\n",
        "except ValueError:\n",
        "    print(\"적절한 값이 아닙니다\")\n",
        "except KeyboardInterrupt:\n",
        "    print(\"강제 종료되었습니다\")\n",
        "else:\n",
        "    print(x1)\n",
        "    print(x2)\n",
        "    print(y)"
      ],
      "metadata": {
        "colab": {
          "base_uri": "https://localhost:8080/"
        },
        "id": "GB-DYWwuyaPb",
        "outputId": "c9c7cb59-8112-445f-cfd8-885934fbd01f"
      },
      "execution_count": null,
      "outputs": [
        {
          "output_type": "stream",
          "name": "stdout",
          "text": [
            "숫자를 입력하세요 (1) : 1\n",
            "1\n",
            "숫자를 입력하세요 (2) : 버그\n",
            "적절한 값이 아닙니다\n"
          ]
        }
      ]
    },
    {
      "cell_type": "markdown",
      "source": [
        "### 예외와는 상관없이 항상 코드 실행하기"
      ],
      "metadata": {
        "id": "3yX2SIOAxHAf"
      }
    },
    {
      "cell_type": "markdown",
      "source": [
        "이번에는 예외 발생 여부와 상관없이 항상 코드를 실행하는 finally를 사용해보겠습니다. 특히 finally는 except와 else를 생략할 수 있습니다.\n",
        "\n",
        "```\n",
        "try:\n",
        "    실행할 코드\n",
        "except:\n",
        "    예외가 발생했을 때 처리하는 코드\n",
        "else:\n",
        "    예외가 발생하지 않았을 때 실행할 코드\n",
        "finally:\n",
        "    예외 발생 여부와 상관없이 항상 실행할 코드\n",
        "```"
      ],
      "metadata": {
        "id": "nkMgYxPuxJkj"
      }
    },
    {
      "cell_type": "code",
      "source": [
        "try:\n",
        "    x1 = int(input(\"숫자를 입력하세요 (1) : \"))\n",
        "    x2 = int(input(\"숫자를 입력하세요 (2) : \"))\n",
        "    y = x1 / x2\n",
        "    ######## <- 버그가 발생될 여지가 있는 코드\n",
        "    # print(x1)\n",
        "    # print(x2)\n",
        "    # print(y)\n",
        "except ZeroDivisionError:\n",
        "    # print(\"예외 발생\")\n",
        "    print(\"0으로 나눌 수 없습니다\")\n",
        "except ValueError:\n",
        "    print(\"적절한 값이 아닙니다\")\n",
        "except KeyboardInterrupt:\n",
        "    print(\"강제 종료되었습니다\")\n",
        "else:\n",
        "    print(x1)\n",
        "    print(x2)\n",
        "    print(y)\n",
        "finally:\n",
        "    print(\"코드 실행 완료\")"
      ],
      "metadata": {
        "id": "wuAFmc3-xOBg",
        "colab": {
          "base_uri": "https://localhost:8080/"
        },
        "outputId": "e25b2cbe-d3b7-420a-8677-4830434ace9d"
      },
      "execution_count": null,
      "outputs": [
        {
          "output_type": "stream",
          "name": "stdout",
          "text": [
            "숫자를 입력하세요 (1) : 0\n",
            "숫자를 입력하세요 (2) : 0\n",
            "0으로 나눌 수 없습니다\n",
            "코드 실행 완료\n"
          ]
        }
      ]
    },
    {
      "cell_type": "markdown",
      "source": [
        "## 예외 발생시키기"
      ],
      "metadata": {
        "id": "OYDw3cdixXwh"
      }
    },
    {
      "cell_type": "markdown",
      "source": [
        "지금까지 숫자를 0으로 나눴을 때 에러, 리스트의 범위를 벗어난 인덱스에 접근했을 때 에러 등 파이썬에서 정해진 예외만 처리했습니다. 이번에는 우리가 직접 예외를 발생시켜 보겠습니다.\n",
        "\n",
        "예외를 발생시킬 때는 raise에 예외를 지정하고 에러 메시지를 넣습니다(에러 메시지는 생략할 수 있음).\n",
        "\n",
        "* `raise 예외('에러메시지')`"
      ],
      "metadata": {
        "id": "MKK5duR8xNn7"
      }
    },
    {
      "cell_type": "code",
      "source": [
        "def handle_customer():\n",
        "    print(\"안녕하세요 고객님, 이자율을 계산해 드리겠습니다.\")\n",
        "    result = calculate_interest()\n",
        "    print(f\"계산결과는 {result}입니다\")\n",
        "\n",
        "def calculate_interest():\n",
        "    money = int(input(\"원금을 입력해주세요 : \"))\n",
        "    rate = int(input(\"이자율을 입력해주세요 : \"))\n",
        "    year = int(input(\"투자기간을 입력해주세요 : \"))\n",
        "    if money <= 0:\n",
        "        print(\"원금이 0 이하 입니다\")\n",
        "        return\n",
        "    if rate <= 0:\n",
        "        print(\"이자율이 0 이하 입니다\")\n",
        "        return\n",
        "    if year <= 0:\n",
        "        print(\"투자기간이 0년 이하 입니다\")\n",
        "        return\n",
        "    return money * rate * y"
      ],
      "metadata": {
        "id": "jZ1ypbYfxeZn"
      },
      "execution_count": null,
      "outputs": []
    },
    {
      "cell_type": "code",
      "source": [
        "handle_customer()"
      ],
      "metadata": {
        "colab": {
          "base_uri": "https://localhost:8080/"
        },
        "id": "gZwnpIBt1k37",
        "outputId": "19e0e8e5-d40b-49de-abb4-00e7098c41d9"
      },
      "execution_count": null,
      "outputs": [
        {
          "output_type": "stream",
          "name": "stdout",
          "text": [
            "안녕하세요 고객님, 이자율을 계산해 드리겠습니다.\n",
            "원금을 입력해주세요 : 0\n",
            "이자율을 입력해주세요 : 0\n",
            "투자기간을 입력해주세요 : 0\n",
            "원금이 0 이하 입니다\n",
            "계산결과는 None입니다\n"
          ]
        }
      ]
    },
    {
      "cell_type": "code",
      "source": [
        "def handle_customer():\n",
        "    print(\"안녕하세요 고객님, 이자율을 계산해 드리겠습니다.\")\n",
        "    try:\n",
        "        result = calculate_interest()\n",
        "    except Exception as e:\n",
        "        print(e)\n",
        "    else:\n",
        "        print(f\"계산결과는 {result}입니다\")\n",
        "        \n",
        "def calculate_interest():\n",
        "    money = int(input(\"원금을 입력해주세요 : \"))\n",
        "    if money <= 0:\n",
        "        # print(\"원금이 0 이하 입니다\")\n",
        "        raise Exception(\"원금이 0 이하 입니다\")\n",
        "    rate = int(input(\"이자율을 입력해주세요 : \"))\n",
        "    if rate <= 0:\n",
        "        # print(\"이자율이 0 이하 입니다\")\n",
        "        raise Exception(\"이자율이 0 이하 입니다\")\n",
        "    year = int(input(\"투자기간을 입력해주세요 : \"))\n",
        "    if year <= 0:\n",
        "        # print(\"투자기간이 0년 이하 입니다\")\n",
        "        raise Exception(\"투자기간이 0 이하 입니다\")\n",
        "    return money * rate / 100 * y\n",
        "\n",
        "handle_customer()"
      ],
      "metadata": {
        "colab": {
          "base_uri": "https://localhost:8080/"
        },
        "id": "pjq-9gB717TI",
        "outputId": "53da788a-b4d8-43ab-c41c-82111eb1017e"
      },
      "execution_count": null,
      "outputs": [
        {
          "output_type": "stream",
          "name": "stdout",
          "text": [
            "안녕하세요 고객님, 이자율을 계산해 드리겠습니다.\n",
            "원금을 입력해주세요 : 0\n",
            "원금이 0 이하 입니다\n"
          ]
        }
      ]
    },
    {
      "cell_type": "markdown",
      "source": [
        "### raise의 처리 과정"
      ],
      "metadata": {
        "id": "1YHWE6RIxmxc"
      }
    },
    {
      "cell_type": "markdown",
      "source": [
        "이번에는 raise의 처리 과정을 알아보겠습니다. 다음은 함수 안에서 raise를 사용하지만 함수 안에는 try except가 없는 상태입니다"
      ],
      "metadata": {
        "id": "Z2YAeHrbxqg1"
      }
    },
    {
      "cell_type": "code",
      "source": [
        "def three_multiple():\n",
        "    x = int(input('3의 배수를 입력하세요: '))\n",
        "    if x % 3 != 0:                                 # x가 3의 배수가 아니면\n",
        "        raise Exception('3의 배수가 아닙니다.')    # 예외를 발생시킴\n",
        "    print(x)                                       # 현재 함수 안에는 except가 없으므로\n",
        "                                                   # 예외를 상위 코드 블록으로 넘김\n",
        "try:\n",
        "    three_multiple()\n",
        "except Exception as e:                             # 하위 코드 블록에서 예외가 발생해도 실행됨\n",
        "    print('예외가 발생했습니다.', e)"
      ],
      "metadata": {
        "colab": {
          "base_uri": "https://localhost:8080/"
        },
        "id": "BH5I2kYZxr4k",
        "outputId": "c8935724-8831-4ce6-cb9b-dcbc524ad252"
      },
      "execution_count": null,
      "outputs": [
        {
          "output_type": "stream",
          "name": "stdout",
          "text": [
            "3의 배수를 입력하세요: 5\n",
            "예외가 발생했습니다. 3의 배수가 아닙니다.\n"
          ]
        }
      ]
    },
    {
      "cell_type": "markdown",
      "source": [
        "안에 try except가 없는 상태에서 raise로 예외를 발생시켰습니다. 이렇게 되면 함수 바깥에 있는 except에서 예외가 처리됩니다. 즉, 예외가 발생하더라도 현재 코드 블록에서 처리해줄 except가 없다면 except가 나올 때까지 계속 상위 코드 블록으로 올라갑니다.\n",
        "\n",
        "만약 함수 바깥에도 처리해줄 except가 없다면 코드 실행은 중지되고 에러가 표시됩니다."
      ],
      "metadata": {
        "id": "79FxvqMFx1Yt"
      }
    },
    {
      "cell_type": "code",
      "source": [
        "three_multiple()"
      ],
      "metadata": {
        "colab": {
          "base_uri": "https://localhost:8080/",
          "height": 325
        },
        "id": "a0ZYYsmXx3_0",
        "outputId": "ed46b021-27e8-4588-c2a7-0d4e6564c854"
      },
      "execution_count": null,
      "outputs": [
        {
          "name": "stdout",
          "output_type": "stream",
          "text": [
            "3의 배수를 입력하세요: 5\n"
          ]
        },
        {
          "output_type": "error",
          "ename": "Exception",
          "evalue": "ignored",
          "traceback": [
            "\u001b[0;31m---------------------------------------------------------------------------\u001b[0m",
            "\u001b[0;31mException\u001b[0m                                 Traceback (most recent call last)",
            "\u001b[0;32m<ipython-input-50-694f7cb1b1f4>\u001b[0m in \u001b[0;36m<module>\u001b[0;34m\u001b[0m\n\u001b[0;32m----> 1\u001b[0;31m \u001b[0mthree_multiple\u001b[0m\u001b[0;34m(\u001b[0m\u001b[0;34m)\u001b[0m\u001b[0;34m\u001b[0m\u001b[0;34m\u001b[0m\u001b[0m\n\u001b[0m",
            "\u001b[0;32m<ipython-input-49-a6d52ae0e556>\u001b[0m in \u001b[0;36mthree_multiple\u001b[0;34m()\u001b[0m\n\u001b[1;32m      2\u001b[0m     \u001b[0mx\u001b[0m \u001b[0;34m=\u001b[0m \u001b[0mint\u001b[0m\u001b[0;34m(\u001b[0m\u001b[0minput\u001b[0m\u001b[0;34m(\u001b[0m\u001b[0;34m'3의 배수를 입력하세요: '\u001b[0m\u001b[0;34m)\u001b[0m\u001b[0;34m)\u001b[0m\u001b[0;34m\u001b[0m\u001b[0;34m\u001b[0m\u001b[0m\n\u001b[1;32m      3\u001b[0m     \u001b[0;32mif\u001b[0m \u001b[0mx\u001b[0m \u001b[0;34m%\u001b[0m \u001b[0;36m3\u001b[0m \u001b[0;34m!=\u001b[0m \u001b[0;36m0\u001b[0m\u001b[0;34m:\u001b[0m                                 \u001b[0;31m# x가 3의 배수가 아니면\u001b[0m\u001b[0;34m\u001b[0m\u001b[0;34m\u001b[0m\u001b[0m\n\u001b[0;32m----> 4\u001b[0;31m         \u001b[0;32mraise\u001b[0m \u001b[0mException\u001b[0m\u001b[0;34m(\u001b[0m\u001b[0;34m'3의 배수가 아닙니다.'\u001b[0m\u001b[0;34m)\u001b[0m    \u001b[0;31m# 예외를 발생시킴\u001b[0m\u001b[0;34m\u001b[0m\u001b[0;34m\u001b[0m\u001b[0m\n\u001b[0m\u001b[1;32m      5\u001b[0m     \u001b[0mprint\u001b[0m\u001b[0;34m(\u001b[0m\u001b[0mx\u001b[0m\u001b[0;34m)\u001b[0m                                       \u001b[0;31m# 현재 함수 안에는 except가 없으므로\u001b[0m\u001b[0;34m\u001b[0m\u001b[0;34m\u001b[0m\u001b[0m\n\u001b[1;32m      6\u001b[0m                                                    \u001b[0;31m# 예외를 상위 코드 블록으로 넘김\u001b[0m\u001b[0;34m\u001b[0m\u001b[0;34m\u001b[0m\u001b[0;34m\u001b[0m\u001b[0m\n",
            "\u001b[0;31mException\u001b[0m: 3의 배수가 아닙니다."
          ]
        }
      ]
    },
    {
      "cell_type": "markdown",
      "source": [
        "### 현재 예외를 다시 발생시키기"
      ],
      "metadata": {
        "id": "_tze9kcfx9Zq"
      }
    },
    {
      "cell_type": "markdown",
      "source": [
        "이번에는 try except에서 처리한 예외를 다시 발생시키는 방법입니다. except 안에서 raise를 사용하면 현재 예외를 다시 발생시킵니다(re-raise).\n",
        "\n",
        "* `raise`"
      ],
      "metadata": {
        "id": "sLMCHj3-x_WT"
      }
    },
    {
      "cell_type": "code",
      "source": [
        "def presentation_layer(): # 화면\n",
        "    try:\n",
        "        return service_layer()\n",
        "    except Exception as e:\n",
        "        print(f\"** {e}\")\n",
        "        print(\"화면 : 에러가 발생됨\")\n",
        "\n",
        "def service_layer(): # 서버\n",
        "    try:\n",
        "        return data_access_layer()\n",
        "    except Exception as e:\n",
        "        print(f\"** {e}\")\n",
        "        print(\"서버 : 에러가 발생됨\")\n",
        "        raise e\n",
        "\n",
        "def data_access_layer(): # DB\n",
        "    raise Exception(\"DB : 에러가 발생됨\")\n",
        "    return 0\n",
        "\n",
        "presentation_layer()"
      ],
      "metadata": {
        "colab": {
          "base_uri": "https://localhost:8080/"
        },
        "id": "-eqXzhTqyCuX",
        "outputId": "a0ddc9a2-c311-45b8-85bb-507633c71b15"
      },
      "execution_count": null,
      "outputs": [
        {
          "output_type": "stream",
          "name": "stdout",
          "text": [
            "** DB : 에러가 발생됨\n",
            "서버 : 에러가 발생됨\n",
            "** DB : 에러가 발생됨\n",
            "화면 : 에러가 발생됨\n"
          ]
        }
      ]
    },
    {
      "cell_type": "markdown",
      "source": [
        "함수 안에서 발생한 예외를 함수 안의 except에서 한 번 처리하고, raise로 예외를 다시 발생시켜서 상위 코드 블록으로 넘겼습니다. 그다음에 함수 바깥의 except에서 예외를 처리했습니다. 이런 방식으로 같은 예외를 계속 처리해줄 수 있습니다.\n",
        "\n",
        "참고로 raise만 사용하면 같은 예외를 상위 코드 블록으로 넘기지만 raise에 다른 예외를 지정하고 에러 메시지를 넣을 수도 있습니다."
      ],
      "metadata": {
        "id": "77Wr3gl6yGtj"
      }
    },
    {
      "cell_type": "markdown",
      "source": [
        "## 예외 만들기"
      ],
      "metadata": {
        "id": "KnaAyJl4ybLj"
      }
    },
    {
      "cell_type": "markdown",
      "source": [
        "프로그래머가 직접 만든 예외를 사용자 정의 예외라고 합니다."
      ],
      "metadata": {
        "id": "t_ST3RQhyeCd"
      }
    },
    {
      "cell_type": "markdown",
      "source": [
        "예외를 만드는 방법은 간단합니다. 그냥 Exception을 상속받아서 새로운 클래스를 만들면 됩니다. 그리고 `__init__` 메서드에서 기반 클래스의 `__init__` 메서드를 호출하면서 에러 메시지를 넣어주면 됩니다.\n",
        "\n",
        "```\n",
        "class 예외이름(Exception):\n",
        "    def __init__(self):\n",
        "        super().__init__('에러메시지')\n",
        "```"
      ],
      "metadata": {
        "id": "mUdQjOVVyfT9"
      }
    },
    {
      "cell_type": "code",
      "source": [
        "class NachoStore:\n",
        "    def __init__(self) -> None:\n",
        "        self.storage = 10\n",
        "    \n",
        "    def make_nacho(self, count):\n",
        "        if self.storage < count:\n",
        "            # raise Exception(\"나초 재료가 떨어졌습니다\")\n",
        "            raise NoStorageError()\n",
        "        if count < 0:\n",
        "            raise NoCountError()\n",
        "        print(f\"나초 나왔습니다. {count}개\")\n",
        "        self.storage -= count\n",
        "\n",
        "class NoStorageError(Exception):\n",
        "    def __init__(self) -> None:\n",
        "        super().__init__(\"나초 재료가 떨어졌습니다\")\n",
        "\n",
        "class NoCountError(Exception):\n",
        "    def __init__(self) -> None:\n",
        "        super().__init__(\"0 이상으로 주문해주세요\")\n",
        "\n",
        "try:\n",
        "    x = int(input(\"몇 개 주문하시겠습니까? : \"))\n",
        "    store = NachoStore()\n",
        "    store.make_nacho(x)\n",
        "except NoStorageError as e:\n",
        "    print(\"나쵸 재료가 없으니 장사를 접어야겠는걸?\")\n",
        "except NoCountError as e:\n",
        "    print(e)\n",
        "except Exception as e:\n",
        "    print(\"알 수 없는 에러가 일어났습니다\")"
      ],
      "metadata": {
        "colab": {
          "base_uri": "https://localhost:8080/"
        },
        "id": "bKSnUvgYyqmT",
        "outputId": "b52b168a-b7d5-4d3d-c80b-7302200b382a"
      },
      "execution_count": null,
      "outputs": [
        {
          "output_type": "stream",
          "name": "stdout",
          "text": [
            "몇 개 주문하시겠습니까? : -100\n",
            "0 이상으로 주문해주세요\n"
          ]
        }
      ]
    },
    {
      "cell_type": "markdown",
      "source": [
        "참고로 다음과 같이 Exception만 상속받고 pass를 넣어서 아무것도 구현하지 않아도 됩니다."
      ],
      "metadata": {
        "id": "PiCQtohqyvOJ"
      }
    },
    {
      "cell_type": "code",
      "source": [
        "class NoCountError(Exception):\n",
        "    pass"
      ],
      "metadata": {
        "id": "yf50GygbyrDQ"
      },
      "execution_count": null,
      "outputs": []
    },
    {
      "cell_type": "code",
      "source": [
        "# 이때는 예외를 발생시킬 때 에러 메시지를 넣어주면 됩니다.\n",
        "print(NoCountError(\"NoCount\"))"
      ],
      "metadata": {
        "colab": {
          "base_uri": "https://localhost:8080/"
        },
        "id": "4Teubz8pyxdt",
        "outputId": "f5927687-468b-449d-f6ad-7f667641ce25"
      },
      "execution_count": null,
      "outputs": [
        {
          "output_type": "stream",
          "name": "stdout",
          "text": [
            "NoCount\n"
          ]
        }
      ]
    }
  ]
}
