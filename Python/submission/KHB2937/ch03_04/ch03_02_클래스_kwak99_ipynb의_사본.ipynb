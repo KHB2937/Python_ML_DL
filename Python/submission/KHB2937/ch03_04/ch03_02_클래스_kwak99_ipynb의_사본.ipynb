{
  "nbformat": 4,
  "nbformat_minor": 0,
  "metadata": {
    "colab": {
      "provenance": [],
      "include_colab_link": true
    },
    "kernelspec": {
      "name": "python3",
      "display_name": "Python 3"
    },
    "language_info": {
      "name": "python"
    }
  },
  "cells": [
    {
      "cell_type": "markdown",
      "metadata": {
        "id": "view-in-github",
        "colab_type": "text"
      },
      "source": [
        "<a href=\"https://colab.research.google.com/github/KHB2937/Python/blob/main/submission/KHB2937/ch03_02_%ED%81%B4%EB%9E%98%EC%8A%A4_kwak99_ipynb%EC%9D%98_%EC%82%AC%EB%B3%B8.ipynb\" target=\"_parent\"><img src=\"https://colab.research.google.com/assets/colab-badge.svg\" alt=\"Open In Colab\"/></a>"
      ]
    },
    {
      "cell_type": "markdown",
      "source": [
        "# 클래스"
      ],
      "metadata": {
        "id": "8kU8l8cS3AlY"
      }
    },
    {
      "cell_type": "markdown",
      "source": [
        "​클래스는 객체를 표현하기 위한 문법입니다. 예를 들어 게임을 만든다고 하면 기사, 마법사, 궁수, 사제 등 직업별로 클래스를 만들어서 표현할 수 있습니다.\n",
        "\n",
        "물론 집, 자동차, 나무 등도 클래스로 표현할 수 있습니다. 특히 프로그래밍에서는 현실 세계에 있는 개념들뿐만 아니라 컴퓨터 안에서만 쓰이는 개념들도 클래스로 만들어서 표현합니다. 웹 브라우저에서 내용이 길어지면 보이는 스크롤 바, 프로그램에서 주로 볼 수 있는 버튼, 체크 박스 등이 대표적입니다.\n",
        "\n",
        "지금까지 나온 기사, 마법사, 궁수, 사제, 집, 자동차, 나무, 스크롤 바, 버튼, 체크 박스처럼 특정한 개념이나 모양으로 존재하는 것을 객체(object)라고 부릅니다. 그리고 프로그래밍으로 객체를 만들 때 사용하는 것이 클래스입니다.\n",
        "\n",
        "그럼 게임의 기사 캐릭터를 클래스로 표현하려면 무엇이 필요할까요? 간단합니다. 일단 게임 캐릭터는 체력, 마나, 물리 공격력, 주문력 등이 필요합니다. 그리고 기사 캐릭터는 칼로 베기, 찌르기 등의 스킬이 있어야 합니다.\n",
        "\n",
        "여기서 체력, 마나, 물리 공격력, 주문력 등의 데이터를 클래스의 속성(attribute)이라 부르고, 베기, 찌르기 등의 기능을 메서드(method)라고 부릅니다.\n",
        "\n",
        "이렇게 프로그래밍 방법을 객체지향(object oriented) 프로그래밍이라고 합니다. 객체지향 프로그래밍은 복잡한 문제를 잘게 나누어 객체로 만들고, 객체를 조합해서 문제를 해결합니다. 따라서 현실 세계의 복잡한 문제를 처리하는데 유용하며 기능을 개선하고 발전시킬 때도 해당 클래스만 수정하면 되므로 유지 보수에도 효율적입니다.\n",
        "\n",
        "지금까지 숫자 1, 2, 3 문자 'a', 'b', 'c', 리스트, 딕셔너리 등을 조합해서 프로그램을 만들었는데 사실 파이썬에서는 이 모든 것이 객체입니다. 이번에는 클래스를 사용해서 객체를 표현하고 만드는 방법을 알아보겠습니다."
      ],
      "metadata": {
        "id": "voNSiaBg3DuC"
      }
    },
    {
      "cell_type": "markdown",
      "source": [
        "## 클래스와 메서드 만들기"
      ],
      "metadata": {
        "id": "w_mpoVuS3Kh5"
      }
    },
    {
      "cell_type": "markdown",
      "source": [
        "\n",
        "클래스는 class에 클래스 이름을 지정하고 :(콜론)을 붙인 뒤 다음 줄부터 def로 메서드를 작성하면 됩니다. 여기서 메서드는 클래스 안에 들어있는 함수를 뜻합니다.\n",
        "\n",
        "클래스 이름을 짓는 방법은 변수와 같습니다. 보통 파이썬에서는 클래스의 이름은 대문자로 시작합니다. 그리고 메서드 작성 방법은 함수와 같으며 코드는 반드시 들여쓰기를 해야 합니다(들여쓰기 규칙은 if, for, while과 같습니다). 특히 메서드의 첫 번째 매개변수는 반드시 self를 지정해야 합니다.\n",
        "\n",
        "```\n",
        "class 클래스이름:\n",
        "    def 메서드(self):\n",
        "        코드\n",
        "```"
      ],
      "metadata": {
        "id": "Zg3_tVXs3NKM"
      }
    },
    {
      "cell_type": "code",
      "execution_count": 1,
      "metadata": {
        "id": "nzS17w5p25ci"
      },
      "outputs": [],
      "source": [
        "#something_sp 스네이크 케이스\n",
        "#somethingPiq 카멜케이스\n",
        "#something-spqe 케밥 케이스스\n",
        "class Teacher:#파스칼 케이스\n",
        "  def chat(self):\n",
        "    print(\"111\")"
      ]
    },
    {
      "cell_type": "markdown",
      "source": [
        "그럼 이 클래스를 사용해봐야겠죠? 다음과 같이 클래스에 ()(괄호)를 붙인 뒤 변수에 할당합니다.\n",
        "\n",
        "* `인스턴스 = 클래스()`"
      ],
      "metadata": {
        "id": "yufRvbF03Ufr"
      }
    },
    {
      "cell_type": "code",
      "source": [
        "teacher = Teacher()"
      ],
      "metadata": {
        "id": "QIqY3_Sz3SaZ"
      },
      "execution_count": 3,
      "outputs": []
    },
    {
      "cell_type": "markdown",
      "source": [
        "Person으로 변수 james를 만들었는데 이 james가 Person의 인스턴스(instance)입니다. 클래스는 특정 개념을 표현만 할뿐 사용을 하려면 인스턴스를 생성해야 합니다."
      ],
      "metadata": {
        "id": "lBdCLhtT3ZP4"
      }
    },
    {
      "cell_type": "markdown",
      "source": [
        "### 메서드 호출하기"
      ],
      "metadata": {
        "id": "dEEFutPa3bUF"
      }
    },
    {
      "cell_type": "markdown",
      "source": [
        "이제 메서드를 호출해보겠습니다. 메서드는 클래스가 아니라 인스턴스를 통해 호출합니다. 다음과 같이 인스턴스 뒤에 .(점)을 붙이고 메서드를 호출하면 됩니다.\n",
        "\n",
        "* `인스턴스.메서드()`"
      ],
      "metadata": {
        "id": "FSxwAtKc3d_r"
      }
    },
    {
      "cell_type": "code",
      "source": [
        "teacher.chat()"
      ],
      "metadata": {
        "colab": {
          "base_uri": "https://localhost:8080/"
        },
        "id": "LaF5pEoM3Xji",
        "outputId": "77a2bc4b-dd4f-46ee-8064-0414d7c42d4b"
      },
      "execution_count": 4,
      "outputs": [
        {
          "output_type": "stream",
          "name": "stdout",
          "text": [
            "111\n"
          ]
        }
      ]
    },
    {
      "cell_type": "code",
      "source": [
        "a = list()\n",
        "a.append(\"a\")\n",
        "a"
      ],
      "metadata": {
        "colab": {
          "base_uri": "https://localhost:8080/"
        },
        "id": "j1emVGYO5jMn",
        "outputId": "83951e0f-1c6a-4803-ca52-fc5b9dfe66af"
      },
      "execution_count": 5,
      "outputs": [
        {
          "output_type": "execute_result",
          "data": {
            "text/plain": [
              "['a']"
            ]
          },
          "metadata": {},
          "execution_count": 5
        }
      ]
    },
    {
      "cell_type": "markdown",
      "source": [
        "인스턴스를 통해 호출하는 메서드를 인스턴스 메서드라고 부릅니다."
      ],
      "metadata": {
        "id": "HQtBu2ks3iWl"
      }
    },
    {
      "cell_type": "markdown",
      "source": [
        "### 파이썬에서 흔히 볼 수 있는 클래스"
      ],
      "metadata": {
        "id": "xhEQN8ul3lMr"
      }
    },
    {
      "cell_type": "markdown",
      "source": [
        "지금까지 사용한 int, list, dict 등도 사실 클래스입니다. 우리는 이 클래스로 인스턴스를 만들고 메서드를 사용했습니다."
      ],
      "metadata": {
        "id": "GuUGH_jQ3oxI"
      }
    },
    {
      "cell_type": "code",
      "source": [
        " "
      ],
      "metadata": {
        "colab": {
          "base_uri": "https://localhost:8080/"
        },
        "id": "fZwoiENP3hPO",
        "outputId": "bb50f1af-53f7-4682-f1f2-fca0ebaad3c5"
      },
      "execution_count": null,
      "outputs": [
        {
          "output_type": "execute_result",
          "data": {
            "text/plain": [
              "[0, 1, 2, 3, 4, 5, 6, 7, 8, 9, 20]"
            ]
          },
          "metadata": {},
          "execution_count": 4
        }
      ]
    },
    {
      "cell_type": "markdown",
      "source": [
        "파이썬에서는 자료형도 클래스입니다. 다음과 같이 type을 사용하면 객체(인스턴스)가 어떤 클래스인지 확인할 수 있습니다.\n",
        "\n",
        "* `type(객체)`"
      ],
      "metadata": {
        "id": "3GzyzEZk3uVA"
      }
    },
    {
      "cell_type": "code",
      "source": [
        "print(type(teacher))\n",
        "print(type([]))\n",
        "print(type({}))\n"
      ],
      "metadata": {
        "colab": {
          "base_uri": "https://localhost:8080/"
        },
        "id": "hXMDY6DC3sR2",
        "outputId": "49be5502-d492-4831-fda0-99e4ce095f04"
      },
      "execution_count": 12,
      "outputs": [
        {
          "output_type": "stream",
          "name": "stdout",
          "text": [
            "<class '__main__.Teacher'>\n",
            "<class 'list'>\n",
            "<class 'dict'>\n"
          ]
        }
      ]
    },
    {
      "cell_type": "markdown",
      "source": [
        "### 인스턴스와 객체의 차이점?"
      ],
      "metadata": {
        "id": "_cGp42zp39HX"
      }
    },
    {
      "cell_type": "markdown",
      "source": [
        "클래스는 객체를 표현하는 문법이라고 했는데, 클래스로 인스턴스를 만든다고 하니 좀 헷갈리죠? 사실 인스턴스와 객체는 같은 것을 뜻합니다. 보통 객체만 지칭할 때는 그냥 객체(object)라고 부릅니다. 하지만 클래스와 연관지어서 말할 때는 인스턴스(instance)라고 부릅니다. 그래서 다음과 같이 리스트 변수 a, b가 있으면 a, b는 객체입니다. 그리고 a와 b는 list 클래스의 인스턴스입니다."
      ],
      "metadata": {
        "id": "tVpP9ey93_l9"
      }
    },
    {
      "cell_type": "code",
      "source": [
        "a = list(range(10))\n",
        "b = list(range(20))"
      ],
      "metadata": {
        "id": "m69P_DEc37PD"
      },
      "execution_count": 13,
      "outputs": []
    },
    {
      "cell_type": "markdown",
      "source": [
        "### 빈 클래스 만들기"
      ],
      "metadata": {
        "id": "t9ogtZEA4LzK"
      }
    },
    {
      "cell_type": "code",
      "source": [
        "# 내용이 없는 빈 클래스를 만들 때는 코드 부분에 pass를 넣어줍니다.\n",
        "class Empty():\n",
        "  pass"
      ],
      "metadata": {
        "id": "PsgUZVaJ4D_q"
      },
      "execution_count": 21,
      "outputs": []
    },
    {
      "cell_type": "markdown",
      "source": [
        "### 메서드 안에서 메서드 호출하기"
      ],
      "metadata": {
        "id": "Eg8qgXCh4SAw"
      }
    },
    {
      "cell_type": "markdown",
      "source": [
        "메서드 안에서 메서드를 호출할 때는 다음과 같이 self.메서드() 형식으로 호출해야 합니다. self 없이 메서드 이름만 사용하면 클래스 바깥쪽에 있는 함수를 호출한다는 뜻이 되므로 주의해야 합니다.\n",
        "\n"
      ],
      "metadata": {
        "id": "2bO_llEl4UBH"
      }
    },
    {
      "cell_type": "code",
      "source": [
        "class FishBread:\n",
        "  def eat(self): #self가 맨 처음 있어야함 (메소드 공동)\n",
        "    print(\"냠냠\")\n",
        "  def smell(self):\n",
        "    print(\"냄새\")\n",
        "    self.eat()"
      ],
      "metadata": {
        "id": "o1DTyQGY4QcS"
      },
      "execution_count": 19,
      "outputs": []
    },
    {
      "cell_type": "code",
      "source": [
        "box = FishBread()\n",
        "box.smell()"
      ],
      "metadata": {
        "colab": {
          "base_uri": "https://localhost:8080/"
        },
        "id": "BXu7Nboc7ONH",
        "outputId": "9402e916-0d4b-4288-f0a0-f2875b4b2237"
      },
      "execution_count": 20,
      "outputs": [
        {
          "output_type": "stream",
          "name": "stdout",
          "text": [
            "냄새\n",
            "냠냠\n"
          ]
        }
      ]
    },
    {
      "cell_type": "markdown",
      "source": [
        "### 특정 클래스의 인스턴스인지 확인하기"
      ],
      "metadata": {
        "id": "hsrR8ZJV4XWj"
      }
    },
    {
      "cell_type": "markdown",
      "source": [
        "현재 인스턴스가 특정 클래스의 인스턴스인지 확인할 때는 isinstance 함수를 사용합니다. 특정 클래스의 인스턴스가 맞으면 True, 아니면 False를 반환합니다.\n",
        "\n",
        "* `isinstance(인스턴스, 클래스)`"
      ],
      "metadata": {
        "id": "bdtKTAcU4Za4"
      }
    },
    {
      "cell_type": "code",
      "source": [
        "isinstance(box, FishBread)"
      ],
      "metadata": {
        "colab": {
          "base_uri": "https://localhost:8080/"
        },
        "id": "BWyBLHyh4WO1",
        "outputId": "4dffb007-e683-4573-f921-76ca4975d01a"
      },
      "execution_count": 23,
      "outputs": [
        {
          "output_type": "execute_result",
          "data": {
            "text/plain": [
              "True"
            ]
          },
          "metadata": {},
          "execution_count": 23
        }
      ]
    },
    {
      "cell_type": "markdown",
      "source": [
        "isinstance는 주로 객체의 자료형을 판단할 때 사용합니다. 예를 들어 팩토리얼 함수는 1부터 n까지 양의 정수를 차례대로 곱해야 하는데, 실수와 음의 정수는 계산할 수 없습니다. 이런 경우에 isinstance를 사용하여 숫자(객체)가 정수일 때만 계산하도록 만들 수 있습니다."
      ],
      "metadata": {
        "id": "TeWnvjOT4go2"
      }
    },
    {
      "cell_type": "code",
      "source": [
        "# n!  팩토리얼얼\n",
        "def factorial(n):\n",
        "  print(n, end=' ')\n",
        "  if n == 1: return 1\n",
        "  return n * factorial(n-1)"
      ],
      "metadata": {
        "id": "8W0Wzvoa4fNC"
      },
      "execution_count": 30,
      "outputs": []
    },
    {
      "cell_type": "code",
      "source": [
        "factorial(10)"
      ],
      "metadata": {
        "colab": {
          "base_uri": "https://localhost:8080/"
        },
        "id": "moto5YAM4iM_",
        "outputId": "d84db640-c94c-4656-97f7-6e1bb4745a51"
      },
      "execution_count": 31,
      "outputs": [
        {
          "output_type": "stream",
          "name": "stdout",
          "text": [
            "10 9 8 7 6 5 4 3 2 1 "
          ]
        },
        {
          "output_type": "execute_result",
          "data": {
            "text/plain": [
              "3628800"
            ]
          },
          "metadata": {},
          "execution_count": 31
        }
      ]
    },
    {
      "cell_type": "markdown",
      "source": [
        "## 속성 사용하기"
      ],
      "metadata": {
        "id": "n5YKthte9qC8"
      }
    },
    {
      "cell_type": "markdown",
      "source": [
        "지금까지 클래스에서 메서드를 만들고 호출해보았습니다. 이번에는 클래스에서 속성을 만들고 사용해보겠습니다. 속성(attribute)을 만들 때는 `__init__` 메서드 안에서 self.속성에 값을 할당합니다.\n",
        "\n",
        "```\n",
        "class 클래스이름:\n",
        "    def __init__(self):\n",
        "        self.속성 = 값\n",
        "```"
      ],
      "metadata": {
        "id": "WaV4TdzR9usU"
      }
    },
    {
      "cell_type": "code",
      "source": [
        "class Student:\n",
        "  def __init__(self):\n",
        "    self.commputer = \"맥\"\n",
        "    self.books = [\"혼자하는 파이썬\", \"혼밥\"]"
      ],
      "metadata": {
        "id": "CYzTrTQ99tcf"
      },
      "execution_count": 33,
      "outputs": []
    },
    {
      "cell_type": "code",
      "source": [
        "kim = Student()"
      ],
      "metadata": {
        "id": "Txk1Bzw6-MIF"
      },
      "execution_count": 34,
      "outputs": []
    },
    {
      "cell_type": "code",
      "source": [
        "kim.commputer\n",
        "kim.books"
      ],
      "metadata": {
        "colab": {
          "base_uri": "https://localhost:8080/"
        },
        "id": "LerhZov8-RM1",
        "outputId": "e9a732d9-8945-4017-eb0f-bb7f155ba4cd"
      },
      "execution_count": 39,
      "outputs": [
        {
          "output_type": "execute_result",
          "data": {
            "text/plain": [
              "['혼자하는 파이썬', '혼밥']"
            ]
          },
          "metadata": {},
          "execution_count": 39
        }
      ]
    },
    {
      "cell_type": "markdown",
      "source": [
        "```\n",
        "__init__ 메서드는 james = Person()처럼 클래스에 ( )(괄호)를 붙여서 인스턴스를 만들 때 호출되는 특별한 메서드입니다.\n",
        "즉, __init__(initialize)이라는 이름 그대로 인스턴스(객체)를 초기화합니다.\n",
        "\n",
        "특히 이렇게 앞 뒤로 __(밑줄 두 개)가 붙은 메서드는 파이썬이 자동으로 호출해주는 메서드인데,\n",
        "스페셜 메서드(special method) 또는 매직 메서드(magic method)라고 부릅니다.\n",
        "앞으로 파이썬의 여러 가지 기능을 사용할 때 이 스페셜 메서드를 채우는 식으로 사용하게 됩니다.\n",
        "```"
      ],
      "metadata": {
        "id": "daH1yQUy976_"
      }
    },
    {
      "cell_type": "markdown",
      "source": [
        "```\n",
        "속성은 __init__ 메서드에서 만든다는 점과 self에 .(점)을 붙인 뒤 값을 할당한다는 점이 중요합니다.\n",
        "클래스 안에서 속성을 사용할 때도 self.hello처럼 self에 점을 붙여서 사용하면 됩니다.\n",
        "```"
      ],
      "metadata": {
        "id": "cH13USFz-GvM"
      }
    },
    {
      "cell_type": "markdown",
      "source": [
        "### self의 의미"
      ],
      "metadata": {
        "id": "wuM2FwFp-M9z"
      }
    },
    {
      "cell_type": "code",
      "source": [],
      "metadata": {
        "id": "_gvrDkwV-mtb"
      },
      "execution_count": null,
      "outputs": []
    },
    {
      "cell_type": "markdown",
      "source": [
        "그런데 도데체 self는 뭘까요? self는 인스턴스 자기 자신을 의미합니다. 우리는 인스턴스가 생성될 때 self.hello = '안녕하세요.'처럼 자기 자신에 속성을 추가했습니다. 여기서 `__init__`의 매개변수 self에 들어가는 값은 Person()이라 할 수 있습니다. 그리고 self가 완성된 뒤 james에 할당됩니다. 이후 메서드를 호출하면 현재 인스턴스가 자동으로 매개변수 self에 들어옵니다. 그래서 greeting 메서드에서 print(self.hello)처럼 속성을 출력할 수 있었던 것입니다."
      ],
      "metadata": {
        "id": "SfXz7IVa-QG2"
      }
    },
    {
      "cell_type": "markdown",
      "source": [
        "### 인스턴스를 만들 때 값 받기"
      ],
      "metadata": {
        "id": "K8pSifuN-WPK"
      }
    },
    {
      "cell_type": "markdown",
      "source": [
        "`__init__` 메서드에서 self 다음에 값을 받을 매개변수를 지정합니다. 그리고 매개변수를 self.속성에 넣어줍니다.\n",
        "\n",
        "```\n",
        "class 클래스이름:\n",
        "    def __init__(self, 매개변수1, 매개변수2):\n",
        "        self.속성1 = 매개변수1\n",
        "        self.속성2 = 매개변수2\n",
        "```"
      ],
      "metadata": {
        "id": "49pRycS_-alN"
      }
    },
    {
      "cell_type": "code",
      "source": [
        "class BreadMachine:\n",
        "  def __init__(self, source, price, option) -> None:\n",
        "    self.source = source\n",
        "    self.option = option\n",
        "    self.price = price\n",
        "\n",
        "  def describe(self):\n",
        "    print(f\"재료: {self.source}\")\n",
        "    print(f\"가격: {self.price}\")\n",
        "    print(f\"굽기: {self.option}\")\n",
        "bread1 = BreadMachine(\"팥\", 200, \"웰던\")\n",
        "bread1.describe()\n",
        "bread2 = BreadMachine(\"슈붕붕\", 200, \"웰던\")\n",
        "bread2.describe()"
      ],
      "metadata": {
        "colab": {
          "base_uri": "https://localhost:8080/"
        },
        "id": "GUYznt7g936h",
        "outputId": "32f70daa-a366-46da-e10f-83feca1a64d4"
      },
      "execution_count": 41,
      "outputs": [
        {
          "output_type": "stream",
          "name": "stdout",
          "text": [
            "재료: 팥\n",
            "가격: 200\n",
            "굽기: 웰던\n",
            "재료: 슈붕붕\n",
            "가격: 200\n",
            "굽기: 웰던\n"
          ]
        }
      ]
    },
    {
      "cell_type": "markdown",
      "source": [
        "### 클래스의 위치 인수, 키워드 인수"
      ],
      "metadata": {
        "id": "V2ysLkFB-mvh"
      }
    },
    {
      "cell_type": "markdown",
      "source": [
        "클래스로 인스턴스를 만들 때 위치 인수와 키워드 인수를 사용할 수 있습니다. 규칙은 함수와 같습니다. 위치 인수와 리스트 언패킹을 사용하려면 다음과 같이 *args를 사용하면 됩니다. 이때 매개변수에서 값을 가져오려면 args[0]처럼 사용해야 합니다."
      ],
      "metadata": {
        "id": "SVif_Bp2-pRE"
      }
    },
    {
      "cell_type": "code",
      "source": [
        "# class 클래스명: \n",
        "# (1) class (2) ' ' (3) 클래스명:\n",
        "class BungeoppangStore:\n",
        "    # 생성자 -> 매개변수들 전달 -> 내부의 속성(변수) 지정\n",
        "    # 생성자 = 함수 -> 위치 인수, 가변 인수, 키워드 가변인수, 기본값...\n",
        "    def __init__(self, name, *args, price=1200, **kwargs) -> None:\n",
        "        self.name = name # 필수\n",
        "        self.menu = args # 메뉴들\n",
        "        self.price = price # 기본값이 있어서 입력 안해줘도 됨\n",
        "        self.visitors = kwargs\n",
        "    \n",
        "    def introduce(self):\n",
        "        print(f\"안녕하세요 여러분! {self.name} 붕어빵 가게가 오픈했습니다\")\n",
        "        for i in self.menu:\n",
        "            print(f\"저희는 {i} 메뉴가 있습니다\")\n",
        "    \n",
        "    # def sell(self, visitor):\n",
        "    #     if visitor in self.visitors:\n",
        "    #         print(f\"단골은 반값이에요! {self.price // 2}원만 내세요\")\n",
        "    #         # self.visitors[visitor] += self.price // 2\n",
        "    #         self.visitors.update({visitor :\n",
        "    #                              self.visitors[visitor] + (self.price // 2)})\n",
        "    #         return\n",
        "    #     self.visitors[visitor] = self.price\n",
        "    #     print(\"처음 방문이시네요~ 자주 오세요!\")\n",
        "\n",
        "    def sell(self, visitor, item=\"치약붕어빵\"):\n",
        "        if item not in self.menu:\n",
        "            print(f\"{item}은 판매하는 메뉴중에 없습니다!\")\n",
        "            return\n",
        "        if item == '치약붕어빵':\n",
        "            print(f\"오늘 재료소진으로 치약붕어빵은 마감입니다\")\n",
        "            return\n",
        "        if visitor in self.visitors:\n",
        "            print(f\"단골은 반값이에요! {self.price // 2}원만 내세요\")\n",
        "            # self.visitors[visitor] += self.price // 2\n",
        "            self.visitors.update({visitor :\n",
        "                                 self.visitors[visitor] + (self.price // 2)})\n",
        "            return\n",
        "        self.visitors[visitor] = self.price\n",
        "        print(\"처음 방문이시네요~ 자주 오세요!\")"
      ],
      "metadata": {
        "id": "qiYCRAQB-jE4"
      },
      "execution_count": 52,
      "outputs": []
    },
    {
      "cell_type": "markdown",
      "source": [
        "키워드 인수와 딕셔너리 언패킹을 사용하려면 다음과 같이 **kwargs를 사용하면 됩니다. 이때 매개변수에서 값을 가져오려면 kwargs['name']처럼 사용해야 합니다."
      ],
      "metadata": {
        "id": "9Gb0fXXZ-tMl"
      }
    },
    {
      "cell_type": "code",
      "source": [
        "store1 = BungeoppangStore('민트초코붕어빵 1호점',\n",
        "                          '치약붕어빵', '번데기붕어빵', '취두부붕어빵',\n",
        "                          price=2000,\n",
        "                          james=5000, john=2000, kate=500\n",
        "                          )\n",
        "store1"
      ],
      "metadata": {
        "id": "8isWYZLI-rmN",
        "colab": {
          "base_uri": "https://localhost:8080/"
        },
        "outputId": "9aa5ddc7-f0bf-489c-c724-05509225fb2b"
      },
      "execution_count": 53,
      "outputs": [
        {
          "output_type": "execute_result",
          "data": {
            "text/plain": [
              "<__main__.Boongshop at 0x7f9df9f54fd0>"
            ]
          },
          "metadata": {},
          "execution_count": 53
        }
      ]
    },
    {
      "cell_type": "code",
      "source": [
        "store1.visitors, store1.menu, store1.price "
      ],
      "metadata": {
        "colab": {
          "base_uri": "https://localhost:8080/"
        },
        "id": "2P6GyiI9GEpj",
        "outputId": "70de9ae2-2d41-4f7c-8683-313ff28b3d09"
      },
      "execution_count": 54,
      "outputs": [
        {
          "output_type": "execute_result",
          "data": {
            "text/plain": [
              "({'james': 5000, 'john': 2000, 'kate': 500}, ('민트붕', '초붕', '아붕붕'), 2000)"
            ]
          },
          "metadata": {},
          "execution_count": 54
        }
      ]
    },
    {
      "cell_type": "code",
      "source": [
        "store1.sell('dongdong')"
      ],
      "metadata": {
        "colab": {
          "base_uri": "https://localhost:8080/"
        },
        "id": "5N7kn1wWGPEp",
        "outputId": "1d30d442-1766-43e3-83b7-247fb54670c3"
      },
      "execution_count": 55,
      "outputs": [
        {
          "output_type": "stream",
          "name": "stdout",
          "text": [
            "또 왕\n"
          ]
        }
      ]
    },
    {
      "cell_type": "code",
      "source": [
        "store1.introduce()"
      ],
      "metadata": {
        "colab": {
          "base_uri": "https://localhost:8080/"
        },
        "id": "r61m-OioHxgN",
        "outputId": "96bc577a-d64d-49c6-957f-ce3feaf0a7c2"
      },
      "execution_count": 56,
      "outputs": [
        {
          "output_type": "stream",
          "name": "stdout",
          "text": [
            "붕어빵 가게 오픈  민초붕 1호점\n",
            "저희는 민트붕 메뉴가 있습니다.\n",
            "저희는 초붕 메뉴가 있습니다.\n",
            "저희는 아붕붕 메뉴가 있습니다.\n"
          ]
        }
      ]
    },
    {
      "cell_type": "markdown",
      "source": [
        "### 인스턴스를 생성한 뒤에 속성 추가하기, 특정 속성만 허용하기"
      ],
      "metadata": {
        "id": "LO2leNnY-xuk"
      }
    },
    {
      "cell_type": "markdown",
      "source": [
        "지금까지 클래스의 인스턴스 속성은 `__init__` 메서드에서 추가한 뒤 사용했습니다. 하지만 클래스로 인스턴스를 만든 뒤에도 인스턴스.속성 = 값 형식으로 속성을 계속 추가할 수 있습니다. 다음 Person 클래스는 빈 클래스이지만 인스턴스를 만든 뒤 name 속성을 추가합니다.\n",
        "\n"
      ],
      "metadata": {
        "id": "Hn_9jNBL-5jC"
      }
    },
    {
      "cell_type": "code",
      "source": [
        "class Room:\n",
        "  pass"
      ],
      "metadata": {
        "id": "wdBJn0T4-v0n"
      },
      "execution_count": 58,
      "outputs": []
    },
    {
      "cell_type": "code",
      "source": [
        "doksan = Room()\n",
        "doksan.name = \"자취방\"\n",
        "doksan.name"
      ],
      "metadata": {
        "colab": {
          "base_uri": "https://localhost:8080/",
          "height": 35
        },
        "id": "uoSYLNb9Km-l",
        "outputId": "88330f2e-2a79-4161-f99c-2b150dbb05ac"
      },
      "execution_count": 59,
      "outputs": [
        {
          "output_type": "execute_result",
          "data": {
            "text/plain": [
              "'자취방'"
            ],
            "application/vnd.google.colaboratory.intrinsic+json": {
              "type": "string"
            }
          },
          "metadata": {},
          "execution_count": 59
        }
      ]
    },
    {
      "cell_type": "code",
      "source": [
        "# 이렇게 추가한 속성은 해당 인스턴스에만 생성됩니다.\n",
        "# 따라서 클래스로 다른 인스턴스를 만들었을 때는 추가한 속성이 생성되지 않습니다.\n",
        "leen = Room()\n",
        "leen.name"
      ],
      "metadata": {
        "colab": {
          "base_uri": "https://localhost:8080/",
          "height": 209
        },
        "id": "VF-g2go6-_er",
        "outputId": "b3cb2590-ec8e-4583-a4c3-3e5c196ecb7c"
      },
      "execution_count": 60,
      "outputs": [
        {
          "output_type": "error",
          "ename": "AttributeError",
          "evalue": "ignored",
          "traceback": [
            "\u001b[0;31m---------------------------------------------------------------------------\u001b[0m",
            "\u001b[0;31mAttributeError\u001b[0m                            Traceback (most recent call last)",
            "\u001b[0;32m<ipython-input-60-2437673d3840>\u001b[0m in \u001b[0;36m<module>\u001b[0;34m\u001b[0m\n\u001b[1;32m      2\u001b[0m \u001b[0;31m# 따라서 클래스로 다른 인스턴스를 만들었을 때는 추가한 속성이 생성되지 않습니다.\u001b[0m\u001b[0;34m\u001b[0m\u001b[0;34m\u001b[0m\u001b[0;34m\u001b[0m\u001b[0m\n\u001b[1;32m      3\u001b[0m \u001b[0mleen\u001b[0m \u001b[0;34m=\u001b[0m \u001b[0mRoom\u001b[0m\u001b[0;34m(\u001b[0m\u001b[0;34m)\u001b[0m\u001b[0;34m\u001b[0m\u001b[0;34m\u001b[0m\u001b[0m\n\u001b[0;32m----> 4\u001b[0;31m \u001b[0mleen\u001b[0m\u001b[0;34m.\u001b[0m\u001b[0mname\u001b[0m\u001b[0;34m\u001b[0m\u001b[0;34m\u001b[0m\u001b[0m\n\u001b[0m",
            "\u001b[0;31mAttributeError\u001b[0m: 'Room' object has no attribute 'name'"
          ]
        }
      ]
    },
    {
      "cell_type": "code",
      "source": [
        "# 인스턴스는 생성한 뒤에 속성을 추가할 수 있으므로 __init__ 메서드가 아닌\n",
        "# 다른 메서드에서도 속성을 추가할 수 있습니다. 단, 이때는 메서드를 호출해야 속성이 생성됩니다.\n",
        "class Car:\n",
        "  def fuel(self):\n",
        "    self.oil = 500\n",
        "car = Car()\n",
        "car.oil "
      ],
      "metadata": {
        "colab": {
          "base_uri": "https://localhost:8080/",
          "height": 209
        },
        "id": "lqrRPLVS_FYr",
        "outputId": "0f41e65b-cc16-488e-a778-b19687f9a174"
      },
      "execution_count": 61,
      "outputs": [
        {
          "output_type": "error",
          "ename": "AttributeError",
          "evalue": "ignored",
          "traceback": [
            "\u001b[0;31m---------------------------------------------------------------------------\u001b[0m",
            "\u001b[0;31mAttributeError\u001b[0m                            Traceback (most recent call last)",
            "\u001b[0;32m<ipython-input-61-e33313fe6724>\u001b[0m in \u001b[0;36m<module>\u001b[0;34m\u001b[0m\n\u001b[1;32m      5\u001b[0m     \u001b[0mself\u001b[0m\u001b[0;34m.\u001b[0m\u001b[0moil\u001b[0m \u001b[0;34m=\u001b[0m \u001b[0;36m500\u001b[0m\u001b[0;34m\u001b[0m\u001b[0;34m\u001b[0m\u001b[0m\n\u001b[1;32m      6\u001b[0m \u001b[0mcar\u001b[0m \u001b[0;34m=\u001b[0m \u001b[0mCar\u001b[0m\u001b[0;34m(\u001b[0m\u001b[0;34m)\u001b[0m\u001b[0;34m\u001b[0m\u001b[0;34m\u001b[0m\u001b[0m\n\u001b[0;32m----> 7\u001b[0;31m \u001b[0mcar\u001b[0m\u001b[0;34m.\u001b[0m\u001b[0moil\u001b[0m\u001b[0;34m\u001b[0m\u001b[0;34m\u001b[0m\u001b[0m\n\u001b[0m",
            "\u001b[0;31mAttributeError\u001b[0m: 'Car' object has no attribute 'oil'"
          ]
        }
      ]
    },
    {
      "cell_type": "code",
      "source": [
        "car.fuel()\n",
        "car.oil"
      ],
      "metadata": {
        "colab": {
          "base_uri": "https://localhost:8080/"
        },
        "id": "2RS9yFzVLUWP",
        "outputId": "f259206d-982b-42ab-8040-aa97cf3d5059"
      },
      "execution_count": 62,
      "outputs": [
        {
          "output_type": "execute_result",
          "data": {
            "text/plain": [
              "500"
            ]
          },
          "metadata": {},
          "execution_count": 62
        }
      ]
    },
    {
      "cell_type": "code",
      "source": [],
      "metadata": {
        "colab": {
          "base_uri": "https://localhost:8080/",
          "height": 36
        },
        "id": "qmpRCb5L_QXr",
        "outputId": "e0a9eff8-aded-46fc-d90f-950808da61e4"
      },
      "execution_count": null,
      "outputs": [
        {
          "output_type": "execute_result",
          "data": {
            "text/plain": [
              "'안녕하세요'"
            ],
            "application/vnd.google.colaboratory.intrinsic+json": {
              "type": "string"
            }
          },
          "metadata": {},
          "execution_count": 8
        }
      ]
    },
    {
      "cell_type": "markdown",
      "source": [
        "## 클래스 속성과 인스턴스 속성 알아보기"
      ],
      "metadata": {
        "id": "kkZfupB6B4i8"
      }
    },
    {
      "cell_type": "markdown",
      "source": [
        "속성에는 클래스 속성과 인스턴스 속성 두 가지 종류가 있습니다. `__init__` 메서드에서 만들었던 속성은 인스턴스 속성입니다."
      ],
      "metadata": {
        "id": "i4HfuLL2B8Cg"
      }
    },
    {
      "cell_type": "markdown",
      "source": [
        "### 클래스 속성 사용하기"
      ],
      "metadata": {
        "id": "-5qGPIcYB_bZ"
      }
    },
    {
      "cell_type": "markdown",
      "source": [
        "```\n",
        "class 클래스이름:\n",
        "    속성 = 값\n",
        "```"
      ],
      "metadata": {
        "id": "nyNn7_s7CBvL"
      }
    },
    {
      "cell_type": "code",
      "source": [
        "class Store:\n",
        "  name = \"붕어\"\n",
        "  worker = [\"나나콘\", \"진양철\", \"공형식\"]\n",
        "  \n",
        "  def hire(self, name):\n",
        "    self.worker.append(name)"
      ],
      "metadata": {
        "id": "VSNvev17_TKX"
      },
      "execution_count": 63,
      "outputs": []
    },
    {
      "cell_type": "code",
      "source": [
        "s1 = Store()\n",
        "s1.hire(\"이형근\")\n",
        "\n",
        "s2 = Store()\n",
        "s2.hire(\"까까\")\n",
        "\n",
        "print(s1.worker)\n",
        "print(s2.worker)"
      ],
      "metadata": {
        "colab": {
          "base_uri": "https://localhost:8080/"
        },
        "id": "vH_SSmJ4eey4",
        "outputId": "15bd5bf1-cdf4-4b97-8004-9a4fabf8b863"
      },
      "execution_count": 66,
      "outputs": [
        {
          "output_type": "stream",
          "name": "stdout",
          "text": [
            "['나나콘', '진양철', '공형식', '이형근', '이형근', '까까', '이형근', '까까']\n",
            "['나나콘', '진양철', '공형식', '이형근', '이형근', '까까', '이형근', '까까']\n"
          ]
        }
      ]
    },
    {
      "cell_type": "code",
      "source": [
        "class Store:\n",
        "  def __init__(self) -> None:\n",
        "     self.worker = [\"나나콘\", \"진양철\", \"공형식\"]\n",
        "\n",
        "  def hire(self, name):\n",
        "    self.worker.append(name)"
      ],
      "metadata": {
        "id": "D2gjAtNye5L6"
      },
      "execution_count": 67,
      "outputs": []
    },
    {
      "cell_type": "code",
      "source": [
        "s1 = Store()\n",
        "s1.hire(\"이형근\")\n",
        "\n",
        "s2 = Store()\n",
        "s2.hire(\"까까\")\n",
        "\n",
        "print(s1.worker)\n",
        "print(s2.worker)"
      ],
      "metadata": {
        "colab": {
          "base_uri": "https://localhost:8080/"
        },
        "id": "vL7obf7MfTjd",
        "outputId": "1216d62b-4318-4c8b-f3c1-53017aa1c00f"
      },
      "execution_count": 68,
      "outputs": [
        {
          "output_type": "stream",
          "name": "stdout",
          "text": [
            "['나나콘', '진양철', '공형식', '이형근']\n",
            "['나나콘', '진양철', '공형식', '까까']\n"
          ]
        }
      ]
    },
    {
      "cell_type": "markdown",
      "source": [
        "put_bag 메서드에서 클래스 속성 bag에 접근할 때 self를 사용했습니다. 사실 self는 현재 인스턴스를 뜻하므로 클래스 속성을 지칭하기에는 조금 모호합니다."
      ],
      "metadata": {
        "id": "WByeye1SCIO_"
      }
    },
    {
      "cell_type": "code",
      "source": [],
      "metadata": {
        "id": "CJNRXrJGCF4m"
      },
      "execution_count": null,
      "outputs": []
    },
    {
      "cell_type": "markdown",
      "source": [
        "그래서 클래스 속성에 접근할 때는 다음과 같이 클래스 이름으로 접근하면 좀 더 코드가 명확해집니다.\n",
        "\n",
        "* `클래스.속성`"
      ],
      "metadata": {
        "id": "tUt-1pucCMTk"
      }
    },
    {
      "cell_type": "code",
      "source": [],
      "metadata": {
        "id": "ldDD1xSqCKgJ"
      },
      "execution_count": null,
      "outputs": []
    },
    {
      "cell_type": "markdown",
      "source": [
        "Person.bag이라고 하니 클래스 Person에 속한 bag 속성이라는 것을 바로 알 수 있습니다. 마찬가지로 클래스 바깥에서도 다음과 같이 클래스 이름으로 클래스 속성에 접근하면 됩니다."
      ],
      "metadata": {
        "id": "NmH5z3zZCWHW"
      }
    },
    {
      "cell_type": "code",
      "source": [],
      "metadata": {
        "colab": {
          "base_uri": "https://localhost:8080/"
        },
        "id": "JsHyMxE3CTYF",
        "outputId": "77bc942d-b1df-468b-c988-c40bf91e76a9"
      },
      "execution_count": null,
      "outputs": [
        {
          "output_type": "stream",
          "name": "stdout",
          "text": [
            "[]\n"
          ]
        }
      ]
    },
    {
      "cell_type": "markdown",
      "source": [
        "### 인스턴스 속성 사용하기"
      ],
      "metadata": {
        "id": "2NflnJUOCaKy"
      }
    },
    {
      "cell_type": "code",
      "source": [],
      "metadata": {
        "colab": {
          "base_uri": "https://localhost:8080/"
        },
        "id": "Lblpj-ubCbq0",
        "outputId": "d5c9bddc-9894-4b90-942f-13b3f9404f1e"
      },
      "execution_count": null,
      "outputs": [
        {
          "output_type": "stream",
          "name": "stdout",
          "text": [
            "['책']\n",
            "['열쇠']\n"
          ]
        }
      ]
    },
    {
      "cell_type": "markdown",
      "source": [
        "* 클래스 속성: 모든 인스턴스가 공유. 인스턴스 전체가 사용해야 하는 값을 저장할 때 사용\n",
        "* 인스턴스 속성: 인스턴스별로 독립되어 있음. 각 인스턴스가 값을 따로 저장해야 할 때 사용"
      ],
      "metadata": {
        "id": "um_Xg6gWCgoO"
      }
    },
    {
      "cell_type": "markdown",
      "source": [
        "## 클래스 상속 사용하기"
      ],
      "metadata": {
        "id": "PMshhQv3H0vm"
      }
    },
    {
      "cell_type": "markdown",
      "source": [
        "지금까지 클래스의 기본적인 사용 방법을 알아보았습니다. 이번에는 클래스 상속(inheritance)을 사용해보겠습니다.\n",
        "\n",
        "상속은 무언가를 물려받는다는 뜻입니다. 그래서 클래스 상속은 물려받은 기능을 유지한채로 다른 기능을 추가할 때 사용하는 기능입니다. 여기서 기능을 물려주는 클래스를 기반 클래스(base class), 상속을 받아 새롭게 만드는 클래스를 파생 클래스(derived class)라고 합니다.\n",
        "\n"
      ],
      "metadata": {
        "id": "j-0NWz0OH3jm"
      }
    },
    {
      "cell_type": "markdown",
      "source": [
        "보통 기반 클래스는 부모 클래스(parent class), 슈퍼 클래스(superclass)라고 부르고, 파생 클래스는 자식 클래스(child class), 서브 클래스(subclass)라고도 부릅니다.\n",
        "\n",
        "클래스 상속은 생물 분류를 떠올리면 이해하기 쉽습니다. 예를 들어 조류, 어류는 공통된 조상인 척추동물로부터 물려받은 특성을 공유하면서 각자 고유한 특성을 가집니다. 척추를 가졌다는 특성은 변함이 없지만 날개를 가졌으면 조류, 물속에 살면 어류인 식입니다. 즉, 같은 계통으로 특성을 공유하며 전혀 상관없이 어류가 꽃식물의 특성을 가지지는 않습니다."
      ],
      "metadata": {
        "id": "SuAjAzh2H6Gu"
      }
    },
    {
      "cell_type": "markdown",
      "source": [
        "마찬가지로 클래스 상속도 기반 클래스의 능력을 그대로 활용하면서 새로운 클래스를 만들 때 사용합니다. 동물을 예로 들면 척추동물에서 포유류, 조류, 파충류 등을 만드는 식이죠.\n",
        "\n",
        "그런데 그냥 새로운 클래스를 만들면 되지 왜 이런 상속 개념을 만들었을까요? 만약 새로운 기능이 필요할 때마다 계속 클래스를 만든다면 중복되는 부분을 반복해서 만들어야 합니다. 이럴 때 상속을 사용하면 중복되는 기능을 만들지 않아도 됩니다. 따라서 상속은 기존 기능을 재사용할 수 있어서 효율적입니다."
      ],
      "metadata": {
        "id": "EEzOF-11H8P-"
      }
    },
    {
      "cell_type": "markdown",
      "source": [
        "클래스 상속은 다음과 같이 클래스를 만들 때 ( )(괄호)를 붙이고 안에 기반 클래스 이름을 넣습니다.\n",
        "\n",
        "```\n",
        "class 기반클래스이름:\n",
        "    코드\n",
        " \n",
        "class 파생클래스이름(기반클래스이름):\n",
        "    코드\n",
        "```"
      ],
      "metadata": {
        "id": "CJi8U6CRH9tE"
      }
    },
    {
      "cell_type": "code",
      "source": [
        "\n",
        "class Piza:\n",
        "  def __init__(self, name, *args) -> None:\n",
        "     self.name = name\n",
        "     self.menu = args\n",
        "\n",
        "  def eat_here(self, item):\n",
        "    if item not in self.menu:\n",
        "      print(\"지원 ㄴ\")\n",
        "      return\n",
        "    print(f\"맛잇게 머겅 : {item}\")\n",
        "\n",
        "     "
      ],
      "metadata": {
        "id": "GWinSG8CCeOo"
      },
      "execution_count": 70,
      "outputs": []
    },
    {
      "cell_type": "code",
      "source": [
        "store1 = Piza(\"피자가게\", \"피자2\", \"피자1\")\n",
        "store1.eat_here(\"피자1\")"
      ],
      "metadata": {
        "colab": {
          "base_uri": "https://localhost:8080/"
        },
        "id": "jcJ42Q1Ih2PF",
        "outputId": "b5c13058-cf12-4f05-ece3-c11ce2c671ab"
      },
      "execution_count": 71,
      "outputs": [
        {
          "output_type": "stream",
          "name": "stdout",
          "text": [
            "맛잇게 머겅 : 피자1\n"
          ]
        }
      ]
    },
    {
      "cell_type": "code",
      "source": [
        "class Drivepz(Piza):\n",
        "  def drive_thru(self, item):\n",
        "    if item not in self.menu:\n",
        "      print(\"지원 ㄴㄴ\")\n",
        "      return\n",
        "    print(f\"포장완료 : {item}\")\n"
      ],
      "metadata": {
        "id": "QkLFJWo8iJeJ"
      },
      "execution_count": 72,
      "outputs": []
    },
    {
      "cell_type": "code",
      "source": [
        "store2 = Drivepz(\"피자가게\", \"피자2\", \"피자1\")\n",
        "store2.drive_thru(\"피자2\")\n",
        "store2.eat_here(\"피자1\")"
      ],
      "metadata": {
        "colab": {
          "base_uri": "https://localhost:8080/"
        },
        "id": "MWvSuccUimVz",
        "outputId": "d2127609-a708-442f-a98c-b674155cd5d3"
      },
      "execution_count": 75,
      "outputs": [
        {
          "output_type": "stream",
          "name": "stdout",
          "text": [
            "포장완료 : 피자2\n",
            "맛잇게 머겅 : 피자1\n"
          ]
        }
      ]
    },
    {
      "cell_type": "markdown",
      "source": [
        "이처럼 클래스 상속은 기반 클래스의 기능을 유지하면서 새로운 기능을 추가할 수 있습니다. 특히 클래스 상속은 연관되면서 동등한 기능일 때 사용합니다. 즉, 학생은 사람이므로 연관된 개념이고, 학생은 사람에서 역할만 확장되었을 뿐 동등한 개념입니다."
      ],
      "metadata": {
        "id": "AULPOz91IFLc"
      }
    },
    {
      "cell_type": "markdown",
      "source": [
        "## 기반 클래스의 속성 사용하기"
      ],
      "metadata": {
        "id": "ojAK6jUIIKlF"
      }
    },
    {
      "cell_type": "markdown",
      "source": [
        "이번에는 기반 클래스에 들어있는 인스턴스 속성을 사용해보겠습니다. 다음과 같이 Person 클래스에 hello 속성이 있고, Person 클래스를 상속받아 Student 클래스를 만듭니다. 그다음에 Student로 인스턴스를 만들고 hello 속성에 접근해봅니다.\n",
        "\n"
      ],
      "metadata": {
        "id": "bSmSqV8OIOGH"
      }
    },
    {
      "cell_type": "code",
      "source": [
        "class Program:\n",
        "  def __init__(self) -> None:\n",
        "     self.habit = \"머리를 잡음\"\n",
        "     self.money = 20000\n",
        "class Pyprogram(Program):\n",
        "  def __init__(self, habit) -> None:\n",
        "    self.habit = habit"
      ],
      "metadata": {
        "id": "azED8RKYIBDd"
      },
      "execution_count": 116,
      "outputs": []
    },
    {
      "cell_type": "code",
      "source": [
        "kim = Program()\n",
        "kim.habit, kim.money"
      ],
      "metadata": {
        "colab": {
          "base_uri": "https://localhost:8080/"
        },
        "id": "ZGvz1SUAkNMY",
        "outputId": "f0cdda92-404e-4a91-97fd-3fe57b0c41d9"
      },
      "execution_count": 115,
      "outputs": [
        {
          "output_type": "execute_result",
          "data": {
            "text/plain": [
              "('머리를 잡음', 20000)"
            ]
          },
          "metadata": {},
          "execution_count": 115
        }
      ]
    },
    {
      "cell_type": "code",
      "source": [
        "# lee = PythonProgrammer()\n",
        "lee = Pyprogram('손톱')\n",
        "print(lee.habit)\n",
        "print(lee.money)"
      ],
      "metadata": {
        "colab": {
          "base_uri": "https://localhost:8080/",
          "height": 227
        },
        "id": "Dv-nMoutkTDy",
        "outputId": "5e8dd23a-49c0-4aea-edf4-7e485476f36f"
      },
      "execution_count": 117,
      "outputs": [
        {
          "output_type": "stream",
          "name": "stdout",
          "text": [
            "손톱\n"
          ]
        },
        {
          "output_type": "error",
          "ename": "AttributeError",
          "evalue": "ignored",
          "traceback": [
            "\u001b[0;31m---------------------------------------------------------------------------\u001b[0m",
            "\u001b[0;31mAttributeError\u001b[0m                            Traceback (most recent call last)",
            "\u001b[0;32m<ipython-input-117-1c4530545d17>\u001b[0m in \u001b[0;36m<module>\u001b[0;34m\u001b[0m\n\u001b[1;32m      2\u001b[0m \u001b[0mlee\u001b[0m \u001b[0;34m=\u001b[0m \u001b[0mPyprogram\u001b[0m\u001b[0;34m(\u001b[0m\u001b[0;34m'손톱'\u001b[0m\u001b[0;34m)\u001b[0m\u001b[0;34m\u001b[0m\u001b[0;34m\u001b[0m\u001b[0m\n\u001b[1;32m      3\u001b[0m \u001b[0mprint\u001b[0m\u001b[0;34m(\u001b[0m\u001b[0mlee\u001b[0m\u001b[0;34m.\u001b[0m\u001b[0mhabit\u001b[0m\u001b[0;34m)\u001b[0m\u001b[0;34m\u001b[0m\u001b[0;34m\u001b[0m\u001b[0m\n\u001b[0;32m----> 4\u001b[0;31m \u001b[0mprint\u001b[0m\u001b[0;34m(\u001b[0m\u001b[0mlee\u001b[0m\u001b[0;34m.\u001b[0m\u001b[0mmoney\u001b[0m\u001b[0;34m)\u001b[0m\u001b[0;34m\u001b[0m\u001b[0;34m\u001b[0m\u001b[0m\n\u001b[0m",
            "\u001b[0;31mAttributeError\u001b[0m: 'Pyprogram' object has no attribute 'money'"
          ]
        }
      ]
    },
    {
      "cell_type": "markdown",
      "source": [
        "```\n",
        "실행을 해보면 에러가 발생합니다.\n",
        "왜냐하면 기반 클래스 Person의 __init__ 메서드가 호출되지 않았기 때문입니다.\n",
        "실행 결과를 잘 보면 'Student __init__'만 출력되었습니다.\n",
        "\n",
        "즉, Person의 __init__ 메서드가 호출되지 않으면,\n",
        "self.hello = '안녕하세요.'도 실행되지 않아서 속성이 만들어지지 않습니다.\n",
        "```"
      ],
      "metadata": {
        "id": "UkYFULulIR3j"
      }
    },
    {
      "cell_type": "markdown",
      "source": [
        "### super()로 기반 클래스 초기화하기"
      ],
      "metadata": {
        "id": "FjvWYQcZIT8l"
      }
    },
    {
      "cell_type": "markdown",
      "source": [
        "이때는 super()를 사용해서 기반 클래스의 __init__ 메서드를 호출해줍니다. 다음과 같이 super() 뒤에 .(점)을 붙여서 메서드를 호출하는 방식입니다.\n",
        "\n",
        "* `super().메서드()`\n"
      ],
      "metadata": {
        "id": "25HyxJUwIV7F"
      }
    },
    {
      "cell_type": "code",
      "source": [
        "class Pyprogram(Program):\n",
        "  def __init__(self, habit) -> None:\n",
        "    self.habit = habit\n",
        "    super().__init__()\n",
        "    print(\"*\", self.habit, self.money)\n",
        "\n",
        "lee = Pyprogram('손톱 물어뜯기')\n",
        "print(lee.habit)\n",
        "print(lee.money)"
      ],
      "metadata": {
        "colab": {
          "base_uri": "https://localhost:8080/"
        },
        "id": "6sRYa0L0IP7d",
        "outputId": "30bf2ce4-951d-496e-c339-aa95c69852a1"
      },
      "execution_count": 119,
      "outputs": [
        {
          "output_type": "stream",
          "name": "stdout",
          "text": [
            "* 머리를 잡음 20000\n",
            "머리를 잡음\n",
            "20000\n"
          ]
        }
      ]
    },
    {
      "cell_type": "code",
      "source": [
        "class Pyprogram(Program):\n",
        "  def __init__(self, habit) -> None:\n",
        "    super().__init__()\n",
        "    print(\"*\", self.habit, self.money)\n",
        "    self.habit = habit\n",
        "\n",
        "lee = Pyprogram('손톱 물어뜯기')\n",
        "print(lee.habit)\n",
        "print(lee.money)\n"
      ],
      "metadata": {
        "colab": {
          "base_uri": "https://localhost:8080/"
        },
        "id": "ntHnVV6Fkq45",
        "outputId": "3fbae346-4301-464f-8895-7b953c8b5099"
      },
      "execution_count": 122,
      "outputs": [
        {
          "output_type": "stream",
          "name": "stdout",
          "text": [
            "* 머리를 잡음 20000\n",
            "손톱 물어뜯기\n",
            "20000\n"
          ]
        }
      ]
    },
    {
      "cell_type": "markdown",
      "source": [
        "### 기반 클래스를 초기화하지 않아도 되는 경우"
      ],
      "metadata": {
        "id": "P6l6bR3FIb1E"
      }
    },
    {
      "cell_type": "markdown",
      "source": [
        "`만약 파생 클래스에서 __init__ 메서드를 생략한다면 기반 클래스의 __init__이 자동으로 호출되므로 super()는 사용하지 않아도 됩니다.`"
      ],
      "metadata": {
        "id": "NWxDcf6zIdv9"
      }
    },
    {
      "cell_type": "code",
      "source": [
        "class Pyprogram(Program):\n",
        "    pass\n",
        "\n",
        "john = Pyprogram()\n",
        "john.habit, john.money"
      ],
      "metadata": {
        "colab": {
          "base_uri": "https://localhost:8080/"
        },
        "id": "ksPkmYszIZFJ",
        "outputId": "0a31692c-ce94-4cd8-d782-c37b76ef573b"
      },
      "execution_count": 125,
      "outputs": [
        {
          "output_type": "execute_result",
          "data": {
            "text/plain": [
              "('머리를 잡음', 20000)"
            ]
          },
          "metadata": {},
          "execution_count": 125
        }
      ]
    },
    {
      "cell_type": "markdown",
      "source": [
        "### 좀 더 명확하게 super 사용하기"
      ],
      "metadata": {
        "id": "HDJIzx-_Ik45"
      }
    },
    {
      "cell_type": "markdown",
      "source": [
        "super는 다음과 같이 파생 클래스와 self를 넣어서 현재 클래스가 어떤 클래스인지 명확하게 표시하는 방법도 있습니다. 물론 super()와 기능은 같습니다.\n",
        "\n",
        "* `super(파생클래스, self).메서드`"
      ],
      "metadata": {
        "id": "gtNOtkcsInmH"
      }
    },
    {
      "cell_type": "code",
      "source": [
        "class Human:\n",
        "    def run(self):\n",
        "        print(\"달려간다\")\n",
        "\n",
        "class MetaHuman(Human):\n",
        "    def run(self):\n",
        "        super().run()\n",
        "        print(\"더 빠르게 달려간다\")\n",
        "\n",
        "class MetaMetaHuman(MetaHuman):\n",
        "    def run(self):\n",
        "        # super().run()\n",
        "        # super(MetaMetaHuman, self).run()\n",
        "        super(MetaHuman, self).run()\n",
        "        print(\"상당히 더 빠르게 달려간다\")"
      ],
      "metadata": {
        "id": "PDSjm1mtIiI0"
      },
      "execution_count": 126,
      "outputs": []
    },
    {
      "cell_type": "markdown",
      "source": [
        "## 메서드 오버라이딩 사용하기"
      ],
      "metadata": {
        "id": "2Er9Qj7FItQI"
      }
    },
    {
      "cell_type": "markdown",
      "source": [
        "이번에는 파생 클래스에서 기반 클래스의 메서드를 새로 정의하는 메서드 오버라이딩에 대해 알아보겠습니다. 다음과 같이 Person의 greeting 메서드가 있는 상태에서 Student에도 greeting 메서드를 만듭니다.\n",
        "\n"
      ],
      "metadata": {
        "id": "w3mT1wS8IxfX"
      }
    },
    {
      "cell_type": "code",
      "source": [
        "class TeslaCar:\n",
        "    def hello(self):\n",
        "        print(\"화성 갈끄니까\")\n",
        "\n",
        "class SuperTeslaCar(TeslaCar):\n",
        "    def hello(self):\n",
        "        print(\"목성 갈끄니까\")\n",
        "    \n",
        "a = TeslaCar()\n",
        "a.hello()\n",
        "b = SuperTeslaCar()\n",
        "b.hello()\n",
        "\n"
      ],
      "metadata": {
        "colab": {
          "base_uri": "https://localhost:8080/"
        },
        "id": "NORegmYnIqiM",
        "outputId": "bff59c2b-3291-4ff0-8392-6600930db69b"
      },
      "execution_count": 127,
      "outputs": [
        {
          "output_type": "stream",
          "name": "stdout",
          "text": [
            "화성 갈끄니까\n",
            "목성 갈끄니까\n"
          ]
        }
      ]
    },
    {
      "cell_type": "markdown",
      "source": [
        "오버라이딩(overriding)은 무시하다, 우선하다라는 뜻을 가지고 있는데 말 그대로 기반 클래스의 메서드를 무시하고 새로운 메서드를 만든다는 뜻입니다. 여기서는 Person 클래스의 greeting 메서드를 무시하고 Student 클래스에서 새로운 greeting 메서드를 만들었습니다.\n",
        "\n",
        "그럼 메서드 오버라이딩은 왜 사용할까요? 보통 프로그램에서 어떤 기능이 같은 메서드 이름으로 계속 사용되어야 할 때 메서드 오버라이딩을 활용합니다."
      ],
      "metadata": {
        "id": "e9jvc7E1I2zi"
      }
    },
    {
      "cell_type": "markdown",
      "source": [
        "기반 클래스의 메서드를 재활용하면 중복을 줄일 수 있습니다. 다음과 같이 오버라이딩된 메서드에서 super()로 기반 클래스의 메서드를 호출해봅니다."
      ],
      "metadata": {
        "id": "8QAkCmaRI3bC"
      }
    },
    {
      "cell_type": "code",
      "source": [
        "class TeslaCar:\n",
        "    def hello(self, place=\"화성\"):\n",
        "        print(f\"{place} 갈끄니까\")\n",
        "\n",
        "class SuperTeslaCar(TeslaCar):\n",
        "    def hello(self):\n",
        "        super().hello(\"목성\")\n",
        "    \n",
        "a = TeslaCar()\n",
        "a.hello()\n",
        "b = SuperTeslaCar()\n",
        "b.hello()"
      ],
      "metadata": {
        "colab": {
          "base_uri": "https://localhost:8080/"
        },
        "id": "RMhMSnTHIzDx",
        "outputId": "b784db5e-b89d-4321-d577-b942f17e863c"
      },
      "execution_count": 128,
      "outputs": [
        {
          "output_type": "stream",
          "name": "stdout",
          "text": [
            "화성 갈끄니까\n",
            "목성 갈끄니까\n"
          ]
        }
      ]
    }
  ]
}
