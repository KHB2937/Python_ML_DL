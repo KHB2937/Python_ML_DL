{
  "nbformat": 4,
  "nbformat_minor": 0,
  "metadata": {
    "colab": {
      "provenance": [],
      "toc_visible": true,
      "include_colab_link": true
    },
    "kernelspec": {
      "name": "python3",
      "display_name": "Python 3"
    },
    "language_info": {
      "name": "python"
    }
  },
  "cells": [
    {
      "cell_type": "markdown",
      "metadata": {
        "id": "view-in-github",
        "colab_type": "text"
      },
      "source": [
        "<a href=\"https://colab.research.google.com/github/jyeongvv/Python_bd23_jy/blob/main/submission/jyeongvv/CH01_01__%EA%B8%B0%EB%B3%B8%EB%AC%B8%EB%B2%95%EA%B3%BC_%EC%88%AB%EC%9E%90%EA%B3%84%EC%82%B0.ipynb\" target=\"_parent\"><img src=\"https://colab.research.google.com/assets/colab-badge.svg\" alt=\"Open In Colab\"/></a>"
      ]
    },
    {
      "cell_type": "markdown",
      "source": [
        "# 환경 확인\n",
        "* `!`를 통해 리눅스 명령어 호출 가능"
      ],
      "metadata": {
        "id": "9-iQOaZAD1G6"
      }
    },
    {
      "cell_type": "code",
      "execution_count": null,
      "metadata": {
        "colab": {
          "base_uri": "https://localhost:8080/"
        },
        "id": "hYCx_TPZiYOH",
        "outputId": "cd5f84d4-2ed1-4286-f34e-77f885e67d3a"
      },
      "outputs": [
        {
          "output_type": "stream",
          "name": "stdout",
          "text": [
            "Python 3.8.10\n"
          ]
        }
      ],
      "source": [
        "# 파이썬 버전 확인\n",
        "!python --version #커널 터미널에서 실행 '!'"
      ]
    },
    {
      "cell_type": "code",
      "source": [
        "# PIP 버전 확인\n",
        "!pip --version #커널 터미널에서 실행 '!'"
      ],
      "metadata": {
        "colab": {
          "base_uri": "https://localhost:8080/"
        },
        "id": "p7fOxk6mD4s4",
        "outputId": "1d6d63ef-f10f-49e0-c9ad-d51224ba9cfd"
      },
      "execution_count": null,
      "outputs": [
        {
          "output_type": "stream",
          "name": "stdout",
          "text": [
            "pip 22.0.4 from /usr/local/lib/python3.8/dist-packages/pip (python 3.8)\n"
          ]
        }
      ]
    },
    {
      "cell_type": "code",
      "source": [
        "# 리눅스 커널 & 버전 확인\n",
        "!cat /etc/issue"
      ],
      "metadata": {
        "colab": {
          "base_uri": "https://localhost:8080/"
        },
        "id": "TjPhoyrkEC1e",
        "outputId": "b1bc623b-50d6-4e71-ffd5-2a6154acdcb9"
      },
      "execution_count": null,
      "outputs": [
        {
          "output_type": "stream",
          "name": "stdout",
          "text": [
            "Ubuntu 20.04.5 LTS \\n \\l\n",
            "\n"
          ]
        }
      ]
    },
    {
      "cell_type": "markdown",
      "source": [
        "# Hello World!"
      ],
      "metadata": {
        "id": "_Atv2gDrEgGG"
      }
    },
    {
      "cell_type": "code",
      "source": [
        "# Hello, world! 를 출력\n",
        "print('Hello, world!') # '', \"\""
      ],
      "metadata": {
        "colab": {
          "base_uri": "https://localhost:8080/"
        },
        "id": "8Ybgz8wsEioz",
        "outputId": "4cae458a-30b7-40ca-d9b5-8f98f1ff5428"
      },
      "execution_count": null,
      "outputs": [
        {
          "output_type": "stream",
          "name": "stdout",
          "text": [
            "Hello, world!\n"
          ]
        }
      ]
    },
    {
      "cell_type": "markdown",
      "source": [
        "* ' '(작은따옴표)로 묶은 부분 = 문자열\n",
        "* `print`는 값을 화면에 출력\n",
        "\n",
        "* `print`처럼 단어 뒤에 ( )(괄호)가 붙은 것 = 함수(function) : 정해진 일을 수행하는 단위\n",
        "* 함수는 `print('Hello, world!')`와 같이 함수 이름 `print`를 써주고, 괄호 안에 출력할 내용을 넣으면 함수가 실행\n",
        "* 함수 실행을 다른 말로는 함수를 호출(call)한다고 말하기도 함"
      ],
      "metadata": {
        "id": "VuW9yW-AEvwH"
      }
    },
    {
      "cell_type": "markdown",
      "source": [
        "# 기본 문법"
      ],
      "metadata": {
        "id": "EOixnIQhFMGi"
      }
    },
    {
      "cell_type": "markdown",
      "source": [
        "## 세미콜론 (;)\n",
        "* 많은 프로그래밍 언어들은 구문이 끝날 때 ;(세미콜론)을 붙여야 함 (JAVA, C...)\n",
        "* 하지만 파이썬은 세미콜론을 붙이지 않음"
      ],
      "metadata": {
        "id": "rLb7LdJHFNbj"
      }
    },
    {
      "cell_type": "code",
      "source": [
        "print('Hello World!')\n",
        "print('Hello World!') # alt + shift + 방향키 / 특수문자 : 윈도우키 + ."
      ],
      "metadata": {
        "colab": {
          "base_uri": "https://localhost:8080/"
        },
        "id": "oE3sLkvkFLu2",
        "outputId": "4db39ab6-4b1b-4c55-cd4b-a10bcce85f2b"
      },
      "execution_count": null,
      "outputs": [
        {
          "output_type": "stream",
          "name": "stdout",
          "text": [
            "Hello World!\n",
            "Hello World!\n"
          ]
        }
      ]
    },
    {
      "cell_type": "markdown",
      "source": [
        "* 단, 세미콜론을 붙여도 문법 에러는 발생하지 않음\n",
        "* 보통 한 줄에 여러 구문을 사용할 때 세미콜론으로 구분\n"
      ],
      "metadata": {
        "id": "3Scb0f8gFbNy"
      }
    },
    {
      "cell_type": "code",
      "source": [
        "print('Hello'); print(1234)\n",
        "# home : 맨 앞, end : 맨 끝. + shift : 블록지정"
      ],
      "metadata": {
        "colab": {
          "base_uri": "https://localhost:8080/"
        },
        "id": "Q86t4ZGoFY81",
        "outputId": "970e0d5c-239a-4516-f10b-534b2af7a9fe"
      },
      "execution_count": null,
      "outputs": [
        {
          "output_type": "stream",
          "name": "stdout",
          "text": [
            "Hello\n",
            "1234\n"
          ]
        }
      ]
    },
    {
      "cell_type": "markdown",
      "source": [
        "## 주석\n",
        "* 파이썬에서 사람만 알아볼 수 있도록 작성하는 부분을 *주석(comment)*라고 함\n",
        "* 즉, 주석은 파이썬 인터프리터(실행기)가 처리하지 않으므로 프로그램의 실행에는 영향을 주지 않음\n",
        "* 보통 주석은 코드에 대한 자세한 설명을 작성하거나, 특정 코드를 임시로 사용하지 않도록 만들 때 사용\n",
        "* 주석은 **한 줄 주석**과 **블록 주석** 두 가지가 있음"
      ],
      "metadata": {
        "id": "0C7s21JUFr5B"
      }
    },
    {
      "cell_type": "markdown",
      "source": [
        "### 한 줄 주석"
      ],
      "metadata": {
        "id": "LsK4920GF8xG"
      }
    },
    {
      "cell_type": "code",
      "source": [
        "# Hello, world! 출력\n",
        "print('Hello World!') # 전체지정 (Ctrl + A)"
      ],
      "metadata": {
        "colab": {
          "base_uri": "https://localhost:8080/"
        },
        "id": "s6XMh-J-EnFM",
        "outputId": "14455a70-1abf-4a8a-8270-677366d6c712"
      },
      "execution_count": null,
      "outputs": [
        {
          "output_type": "stream",
          "name": "stdout",
          "text": [
            "Hello World!\n"
          ]
        }
      ]
    },
    {
      "cell_type": "markdown",
      "source": [
        "* 코드 맨 앞에 #을 사용하면 해당 줄은 모두 주석이 됨\n",
        "* 따라서 다음 `print` 함수는 동작하지 않음"
      ],
      "metadata": {
        "id": "Yc3MfXY1GHIc"
      }
    },
    {
      "cell_type": "code",
      "source": [
        "# Hello World! 출력\n",
        "# ctrl + / : 해당 줄을 주석처리"
      ],
      "metadata": {
        "id": "9t4b0h2BGOJ9"
      },
      "execution_count": null,
      "outputs": []
    },
    {
      "cell_type": "markdown",
      "source": [
        "* 코드 뒤에 #으로 주석을 작성할 수도 있음\n",
        "* 이때는 앞에 있는 코드만 정상적으로 동작하며 # 뒤에 있는 코드는 동작하지 않음"
      ],
      "metadata": {
        "id": "9xaRGo5cGSGW"
      }
    },
    {
      "cell_type": "markdown",
      "source": [],
      "metadata": {
        "id": "EM5OapZRY2-0"
      }
    },
    {
      "cell_type": "code",
      "source": [
        "a = 1 + 2 #더하기\n",
        "print('Hello World!') # print('show me the money')"
      ],
      "metadata": {
        "colab": {
          "base_uri": "https://localhost:8080/"
        },
        "id": "93Hww5UuGRra",
        "outputId": "80111c64-1c69-4567-e503-f3ff92df7bf7"
      },
      "execution_count": null,
      "outputs": [
        {
          "output_type": "stream",
          "name": "stdout",
          "text": [
            "Hello World!\n"
          ]
        }
      ]
    },
    {
      "cell_type": "markdown",
      "source": [
        "* Colab에서의 주석 단축키 : `Ctrl + /`"
      ],
      "metadata": {
        "id": "6nmPHNN3G7an"
      }
    },
    {
      "cell_type": "markdown",
      "source": [],
      "metadata": {
        "id": "8m7JWWJ5Y2tG"
      }
    },
    {
      "cell_type": "markdown",
      "source": [
        "### 블록 주석"
      ],
      "metadata": {
        "id": "ibBnEPLRGcpM"
      }
    },
    {
      "cell_type": "code",
      "source": [
        "# 작은따옴표 x 3\n",
        "'''\n",
        "print('Hello WOrld!')\n",
        "'''\n",
        "# 큰따옴표 x 3\n",
        "\"\"\"\n",
        "print('Hello World!')\n",
        "\"\"\""
      ],
      "metadata": {
        "colab": {
          "base_uri": "https://localhost:8080/",
          "height": 35
        },
        "id": "xHLSEnIkGW13",
        "outputId": "09acb5cc-a210-4cd1-bae3-8ae4e442c13f"
      },
      "execution_count": null,
      "outputs": [
        {
          "output_type": "execute_result",
          "data": {
            "text/plain": [
              "\"\\nprint('Hello World!')\\n\""
            ],
            "application/vnd.google.colaboratory.intrinsic+json": {
              "type": "string"
            }
          },
          "metadata": {},
          "execution_count": 37
        }
      ]
    },
    {
      "cell_type": "markdown",
      "source": [
        "## 들여쓰기\n",
        "* 들여쓰기는 코드를 읽기 쉽도록 일정한 간격을 띄워서 작성하는 방법, 특히 파이썬은 들여쓰기 자체가 문법\n",
        "* 예를 들어 if의 다음 줄은 항상 들여쓰기를 해야 함\n",
        "* 만약 들여쓰기를 하지 않으면 문법 에러이므로 코드가 실행되지 않음"
      ],
      "metadata": {
        "id": "2ikAVOHhHWsp"
      }
    },
    {
      "cell_type": "code",
      "source": [
        "if a == 20: # 조건을 만족시킬 때\n",
        "print('10입니다.') # 들여쓰기 문법 에러"
      ],
      "metadata": {
        "colab": {
          "base_uri": "https://localhost:8080/",
          "height": 136
        },
        "id": "T_XahCuikc2z",
        "outputId": "fab21721-f49d-433d-cea3-d6e34a9e4245"
      },
      "execution_count": null,
      "outputs": [
        {
          "output_type": "error",
          "ename": "IndentationError",
          "evalue": "ignored",
          "traceback": [
            "\u001b[0;36m  File \u001b[0;32m\"<ipython-input-38-9352f574d8f9>\"\u001b[0;36m, line \u001b[0;32m2\u001b[0m\n\u001b[0;31m    print('10입니다.') # 들여쓰기 문법 에러\u001b[0m\n\u001b[0m    ^\u001b[0m\n\u001b[0;31mIndentationError\u001b[0m\u001b[0;31m:\u001b[0m expected an indented block\n"
          ]
        }
      ]
    },
    {
      "cell_type": "code",
      "source": [
        "if a == 20: # 조건을 만족시킬 때\n",
        "  print('10입니다.') # 들여쓰기 문법 에러"
      ],
      "metadata": {
        "id": "kaxxIPeTHi5V"
      },
      "execution_count": null,
      "outputs": []
    },
    {
      "cell_type": "markdown",
      "source": [
        "* 파이썬에서 들여쓰기 방법은 공백(스페이스) 2칸, 4칸, 탭(tab) 등 여러 가지 방법이 있음"
      ],
      "metadata": {
        "id": "qYPOo1oCHoiG"
      }
    },
    {
      "cell_type": "markdown",
      "source": [
        "## 코드 블록\n",
        "* 코드 블록은 특정한 동작을 위해서 코드가 모여 있는 상태를 뜻하며 파이썬은 들여쓰기를 기준으로 코드 블록을 구성"
      ],
      "metadata": {
        "id": "QljE8nYtH0BF"
      }
    },
    {
      "cell_type": "code",
      "source": [
        "if a != 10:\n",
        "  print('10이 아님')\n",
        "    print('아니라니까')"
      ],
      "metadata": {
        "id": "XrZQPkuHHzwJ",
        "colab": {
          "base_uri": "https://localhost:8080/",
          "height": 136
        },
        "outputId": "565fc5f4-9a03-4151-e698-e4636b56dfc6"
      },
      "execution_count": null,
      "outputs": [
        {
          "output_type": "error",
          "ename": "IndentationError",
          "evalue": "ignored",
          "traceback": [
            "\u001b[0;36m  File \u001b[0;32m\"<ipython-input-42-1885256f3411>\"\u001b[0;36m, line \u001b[0;32m3\u001b[0m\n\u001b[0;31m    print('아니라니까')\u001b[0m\n\u001b[0m    ^\u001b[0m\n\u001b[0;31mIndentationError\u001b[0m\u001b[0;31m:\u001b[0m unexpected indent\n"
          ]
        }
      ]
    },
    {
      "cell_type": "markdown",
      "source": [
        "* 단, 같은 블록은 들여쓰기 칸 수가 같아야 함"
      ],
      "metadata": {
        "id": "9UcAH-gTH56K"
      }
    },
    {
      "cell_type": "code",
      "source": [
        "if a != 10:\n",
        "  print('10이')\n",
        "    print('아님')"
      ],
      "metadata": {
        "id": "a0k69ILiHlUB",
        "colab": {
          "base_uri": "https://localhost:8080/",
          "height": 136
        },
        "outputId": "94bbf4f7-c640-4db2-c7dd-0280a34ff296"
      },
      "execution_count": null,
      "outputs": [
        {
          "output_type": "error",
          "ename": "IndentationError",
          "evalue": "ignored",
          "traceback": [
            "\u001b[0;36m  File \u001b[0;32m\"<ipython-input-43-df6f3af5c79e>\"\u001b[0;36m, line \u001b[0;32m3\u001b[0m\n\u001b[0;31m    print('아님')\u001b[0m\n\u001b[0m    ^\u001b[0m\n\u001b[0;31mIndentationError\u001b[0m\u001b[0;31m:\u001b[0m unexpected indent\n"
          ]
        }
      ]
    },
    {
      "cell_type": "code",
      "source": [
        "if a != 10:\n",
        "  print(\"10이\")\n",
        "  print(\"아님\")"
      ],
      "metadata": {
        "id": "hK-eOTs9IJW9",
        "colab": {
          "base_uri": "https://localhost:8080/"
        },
        "outputId": "d6c3e043-1336-402f-b1a2-0a53bd90d03e"
      },
      "execution_count": null,
      "outputs": [
        {
          "output_type": "stream",
          "name": "stdout",
          "text": [
            "10이\n",
            "아님\n"
          ]
        }
      ]
    },
    {
      "cell_type": "markdown",
      "source": [
        "# 숫자 계산\n",
        "* 파이썬에서는 숫자의 자료형에 따라 결과가 달라질 수 있음\n",
        "* 파이썬에서는 숫자를 정수(int), 실수(float), 복소수(complex)로 구분\n",
        "* 보통 프로그래밍에서는 정수와 실수를 주로 사용"
      ],
      "metadata": {
        "id": "G8XpY8sgISLJ"
      }
    },
    {
      "cell_type": "markdown",
      "source": [
        "## 정수 계산"
      ],
      "metadata": {
        "id": "i97SjYUHK3jb"
      }
    },
    {
      "cell_type": "markdown",
      "source": [
        "### 사칙연산"
      ],
      "metadata": {
        "id": "M3G0vtE3I7qn"
      }
    },
    {
      "cell_type": "code",
      "source": [
        "# 덧셈\n",
        "1 + 1"
      ],
      "metadata": {
        "colab": {
          "base_uri": "https://localhost:8080/"
        },
        "id": "JpLwO1miIb2m",
        "outputId": "27e56b42-2160-4b26-d130-366e3526dcdf"
      },
      "execution_count": null,
      "outputs": [
        {
          "output_type": "execute_result",
          "data": {
            "text/plain": [
              "2"
            ]
          },
          "metadata": {},
          "execution_count": 49
        }
      ]
    },
    {
      "cell_type": "code",
      "source": [
        "# 뺄셈\n",
        "4 - 1"
      ],
      "metadata": {
        "colab": {
          "base_uri": "https://localhost:8080/"
        },
        "id": "lXsBZW5sIrk-",
        "outputId": "2ed5c5c5-7b81-4f89-8888-c72937b0e635"
      },
      "execution_count": null,
      "outputs": [
        {
          "output_type": "stream",
          "name": "stdout",
          "text": [
            "3\n"
          ]
        }
      ]
    },
    {
      "cell_type": "code",
      "source": [
        "# 곱셈\n",
        "5 * 7"
      ],
      "metadata": {
        "colab": {
          "base_uri": "https://localhost:8080/"
        },
        "id": "d2YEcDToItgb",
        "outputId": "32f46412-c2ad-4156-e943-9c852a44ce5a"
      },
      "execution_count": null,
      "outputs": [
        {
          "output_type": "execute_result",
          "data": {
            "text/plain": [
              "35"
            ]
          },
          "metadata": {},
          "execution_count": 50
        }
      ]
    },
    {
      "cell_type": "code",
      "source": [
        "# 나눗셈\n",
        "42 / 6"
      ],
      "metadata": {
        "colab": {
          "base_uri": "https://localhost:8080/"
        },
        "id": "MZyyDveqIvHz",
        "outputId": "aecc2459-72f4-48dd-90bb-ad7f6a9dbd90"
      },
      "execution_count": null,
      "outputs": [
        {
          "output_type": "stream",
          "name": "stdout",
          "text": [
            "7.0\n"
          ]
        }
      ]
    },
    {
      "cell_type": "code",
      "source": [
        "# 실수인 것을 어떻게 알까?\n",
        "# 자료형 -> type(...)\n",
        "2 * 2, type(2 * 2), 5 / 2, type(5 / 2)"
      ],
      "metadata": {
        "colab": {
          "base_uri": "https://localhost:8080/"
        },
        "id": "EuggdRqRIwjc",
        "outputId": "0518d43a-aff1-4333-ccb6-2780147ae8c9"
      },
      "execution_count": null,
      "outputs": [
        {
          "output_type": "execute_result",
          "data": {
            "text/plain": [
              "(4, int, 2.5, float)"
            ]
          },
          "metadata": {},
          "execution_count": 51
        }
      ]
    },
    {
      "cell_type": "markdown",
      "source": [
        "### 몫 (`//`) 연산자\n",
        "* 정수끼리 나눗셈 결과가 정수로 나오도록 해야할 때 //로 나눗셈을 하면 됨\n",
        "* `//`은 버림 나눗셈(floor division)이라고 부르며 나눗셈의 결과에서 소수점 이하는 버림"
      ],
      "metadata": {
        "id": "0h1wJT7EJSsJ"
      }
    },
    {
      "cell_type": "code",
      "source": [
        "5 // 2"
      ],
      "metadata": {
        "colab": {
          "base_uri": "https://localhost:8080/"
        },
        "id": "pV62h895JSQa",
        "outputId": "93caf762-e4bf-4d6d-9572-2880c85853b1"
      },
      "execution_count": null,
      "outputs": [
        {
          "output_type": "execute_result",
          "data": {
            "text/plain": [
              "2"
            ]
          },
          "metadata": {},
          "execution_count": 53
        }
      ]
    },
    {
      "cell_type": "code",
      "source": [
        "# 블록 실행 후 하단에 새로운 블록 만들기 : alt + enter\n",
        "4 / 2, 4 // 2"
      ],
      "metadata": {
        "colab": {
          "base_uri": "https://localhost:8080/"
        },
        "id": "whD-GpUNfdC0",
        "outputId": "9e8ed5a3-3f99-4f54-cde5-6f330c85c013"
      },
      "execution_count": null,
      "outputs": [
        {
          "output_type": "execute_result",
          "data": {
            "text/plain": [
              "(2.0, 2)"
            ]
          },
          "metadata": {},
          "execution_count": 54
        }
      ]
    },
    {
      "cell_type": "markdown",
      "source": [
        "* 참고로 실수에 // 연산자를 사용하면 결과는 실수가 나오며 소수점 이하는 버림.\n",
        "* 따라서 (연산자 앞뒤 숫자 중 하나라도 실수라면) 결과는 항상 `.0`으로 끝남"
      ],
      "metadata": {
        "id": "PxkAcQC0JpPn"
      }
    },
    {
      "cell_type": "code",
      "source": [
        "5.5 // 2, 4 // 2.0, 4.1 // 2.1"
      ],
      "metadata": {
        "id": "3oigA9Z2JnkL",
        "colab": {
          "base_uri": "https://localhost:8080/"
        },
        "outputId": "c9331493-37d6-4c54-f2d3-707357fb176c"
      },
      "execution_count": 56,
      "outputs": [
        {
          "output_type": "execute_result",
          "data": {
            "text/plain": [
              "(2.0, 2.0, 1.0)"
            ]
          },
          "metadata": {},
          "execution_count": 56
        }
      ]
    },
    {
      "cell_type": "markdown",
      "source": [
        "### 나머지 (`%`) 연산자"
      ],
      "metadata": {
        "id": "DISBYzalJ9qp"
      }
    },
    {
      "cell_type": "code",
      "source": [
        "# 모듈로(modulo) 연산자\n",
        "5 % 2"
      ],
      "metadata": {
        "id": "_Rmt9cfmKDM9",
        "colab": {
          "base_uri": "https://localhost:8080/"
        },
        "outputId": "b3b906d1-4a71-4e72-8f1f-a389f6a8106a"
      },
      "execution_count": 57,
      "outputs": [
        {
          "output_type": "execute_result",
          "data": {
            "text/plain": [
              "1"
            ]
          },
          "metadata": {},
          "execution_count": 57
        }
      ]
    },
    {
      "cell_type": "markdown",
      "source": [
        "### 거듭제곱 (`**`) 연산자"
      ],
      "metadata": {
        "id": "wMW3EXGAKJ0l"
      }
    },
    {
      "cell_type": "code",
      "source": [
        "2 ** 10, 3 ** 3"
      ],
      "metadata": {
        "id": "wOzl-PZAKHeT",
        "colab": {
          "base_uri": "https://localhost:8080/"
        },
        "outputId": "8b754048-9a47-401c-aa86-5e048c061eb7"
      },
      "execution_count": 59,
      "outputs": [
        {
          "output_type": "execute_result",
          "data": {
            "text/plain": [
              "(1024, 27)"
            ]
          },
          "metadata": {},
          "execution_count": 59
        }
      ]
    },
    {
      "cell_type": "markdown",
      "source": [
        "### 값을 정수로 만들기\n",
        "* 계산 결과가 실수로 나왔을 때 강제로 정수로 만들어야 할 때는 int에 괄호를 붙이고 숫자 또는 계산식을 넣으면 됨\n",
        "* 특히 int에 문자열을 넣어도 정수로 만들 수 있음. 단, 정수로 된 문자열이라야 함\n",
        "\n",
        "```\n",
        "int(숫자)\n",
        "int(계산식)\n",
        "int('문자열')\n",
        "```"
      ],
      "metadata": {
        "id": "ZZgx8SDsKV83"
      }
    },
    {
      "cell_type": "code",
      "source": [
        "# int는 정수(integer)를 뜻하며 값을 정수로 만들어 줌 (소수점 이하는 버림)\n",
        "int(3.3), int(5 / 2), int('10')"
      ],
      "metadata": {
        "id": "95zogp0ZKOAq",
        "colab": {
          "base_uri": "https://localhost:8080/"
        },
        "outputId": "e14840f4-d3e0-45ca-fef1-0c2f16f58541"
      },
      "execution_count": 65,
      "outputs": [
        {
          "output_type": "execute_result",
          "data": {
            "text/plain": [
              "(3, 2, 10)"
            ]
          },
          "metadata": {},
          "execution_count": 65
        }
      ]
    },
    {
      "cell_type": "markdown",
      "source": [
        "### 몫과 나머지 함께 구하기"
      ],
      "metadata": {
        "id": "9in5eqasKroi"
      }
    },
    {
      "cell_type": "code",
      "source": [
        "divmod(5, 2) # 5를 2로 나눴을 때의 몫과 나머지를 구할 수 있음."
      ],
      "metadata": {
        "id": "M1bIF6YsKoJY",
        "colab": {
          "base_uri": "https://localhost:8080/"
        },
        "outputId": "191510dc-1069-4ccb-9af1-69640ad58a0e"
      },
      "execution_count": 66,
      "outputs": [
        {
          "output_type": "execute_result",
          "data": {
            "text/plain": [
              "(2, 1)"
            ]
          },
          "metadata": {},
          "execution_count": 66
        }
      ]
    },
    {
      "cell_type": "markdown",
      "source": [
        "## 실수 계산"
      ],
      "metadata": {
        "id": "BD1O76ZHLu2J"
      }
    },
    {
      "cell_type": "markdown",
      "source": [
        "### 실수끼리의 계산"
      ],
      "metadata": {
        "id": "eBsE7rHvL2Ms"
      }
    },
    {
      "cell_type": "code",
      "source": [
        "# 실수끼리의 덧셈\n",
        "3.5 + 2.1 # 둘 중의 하나가 실수라면"
      ],
      "metadata": {
        "id": "Yjb3OslqL39w",
        "colab": {
          "base_uri": "https://localhost:8080/"
        },
        "outputId": "40a7b379-5e95-463d-c0c4-b1a70b74154c"
      },
      "execution_count": 67,
      "outputs": [
        {
          "output_type": "execute_result",
          "data": {
            "text/plain": [
              "5.6"
            ]
          },
          "metadata": {},
          "execution_count": 67
        }
      ]
    },
    {
      "cell_type": "code",
      "source": [
        "# 실수끼리의 뺄셈\n",
        "4.3 - 2.7 # 부동소수점 오차 발생\n",
        "2.7 - 1.5"
      ],
      "metadata": {
        "id": "KL9BWk0gL5fh",
        "colab": {
          "base_uri": "https://localhost:8080/"
        },
        "outputId": "98291557-f68b-4b20-c854-fbbdddb8b5fa"
      },
      "execution_count": 69,
      "outputs": [
        {
          "output_type": "execute_result",
          "data": {
            "text/plain": [
              "1.2000000000000002"
            ]
          },
          "metadata": {},
          "execution_count": 69
        }
      ]
    },
    {
      "cell_type": "code",
      "source": [
        "# 실수끼리의 곱셈\n",
        "1.5 * 3.1"
      ],
      "metadata": {
        "id": "Oogn5JO3L6n8",
        "colab": {
          "base_uri": "https://localhost:8080/"
        },
        "outputId": "16268d27-4565-4d49-f7ce-5c8d32982c45"
      },
      "execution_count": 70,
      "outputs": [
        {
          "output_type": "execute_result",
          "data": {
            "text/plain": [
              "4.65"
            ]
          },
          "metadata": {},
          "execution_count": 70
        }
      ]
    },
    {
      "cell_type": "code",
      "source": [
        "# 실수끼리의 나눗셈\n",
        "5.5 / 3.1"
      ],
      "metadata": {
        "id": "dnjKSfe2MDwO",
        "colab": {
          "base_uri": "https://localhost:8080/"
        },
        "outputId": "49debc2b-1f8e-4401-95ce-4201cdc66505"
      },
      "execution_count": 71,
      "outputs": [
        {
          "output_type": "execute_result",
          "data": {
            "text/plain": [
              "1.7741935483870968"
            ]
          },
          "metadata": {},
          "execution_count": 71
        }
      ]
    },
    {
      "cell_type": "markdown",
      "source": [
        "### 실수와 정수 간의 계산\n",
        "* 실수와 정수를 함께 계산하면 표현 범위가 넓은 실수로 계산됨 (실수가 정수보다 표현 범위가 넓음)"
      ],
      "metadata": {
        "id": "AqMMy-DQNDsA"
      }
    },
    {
      "cell_type": "code",
      "source": [
        "4.2 + 5, 5 + 4.2"
      ],
      "metadata": {
        "id": "ZbHqA1MaMFin",
        "colab": {
          "base_uri": "https://localhost:8080/"
        },
        "outputId": "59462185-a4e7-4ac5-91e1-581d461dfa3b"
      },
      "execution_count": 73,
      "outputs": [
        {
          "output_type": "execute_result",
          "data": {
            "text/plain": [
              "(9.2, 9.2)"
            ]
          },
          "metadata": {},
          "execution_count": 73
        }
      ]
    },
    {
      "cell_type": "markdown",
      "source": [
        "### 값을 실수로 만들기\n",
        "* `float`에 괄호를 붙이고 숫자 또는 계산식을 넣으면 됨\n",
        "* 특히 `float`에 문자열을 넣어도 실수로 만들 수 있음\n",
        "* 단, 실수 또는 정수로 된 문자열이라야 함\n",
        "```\n",
        "float(숫자)\n",
        "float(계산식)\n",
        "float('문자열')\n",
        "```"
      ],
      "metadata": {
        "id": "6cAVoZcaNaUQ"
      }
    },
    {
      "cell_type": "code",
      "source": [
        "float(5), float(1 + 2), float('5.4')"
      ],
      "metadata": {
        "id": "L67RYqxuNW6o",
        "colab": {
          "base_uri": "https://localhost:8080/"
        },
        "outputId": "2bb4d231-c68e-44e8-b62e-9f7c0a2a0972"
      },
      "execution_count": 77,
      "outputs": [
        {
          "output_type": "execute_result",
          "data": {
            "text/plain": [
              "(5.0, 3.0, 5.4)"
            ]
          },
          "metadata": {},
          "execution_count": 77
        }
      ]
    },
    {
      "cell_type": "markdown",
      "source": [
        "* `float`는 부동소수점(**float**ing point)에서 따왔으며 값을 실수로 만들어줌\n",
        "* 즉, 실수는 `float` 자료형"
      ],
      "metadata": {
        "id": "Fph9ADULNq_n"
      }
    },
    {
      "cell_type": "code",
      "source": [],
      "metadata": {
        "id": "ujH30tMzNoEM"
      },
      "execution_count": 78,
      "outputs": []
    },
    {
      "cell_type": "markdown",
      "source": [
        "## 괄호 사용하기"
      ],
      "metadata": {
        "id": "3Exm1k0DN9Hq"
      }
    },
    {
      "cell_type": "code",
      "source": [
        "35 + 1 * 2 # 연산자는 */ 우선"
      ],
      "metadata": {
        "id": "PCobIGMMNu-8",
        "colab": {
          "base_uri": "https://localhost:8080/"
        },
        "outputId": "ba71f75f-b63d-46b8-d24d-71c63b065332"
      },
      "execution_count": 79,
      "outputs": [
        {
          "output_type": "execute_result",
          "data": {
            "text/plain": [
              "37"
            ]
          },
          "metadata": {},
          "execution_count": 79
        }
      ]
    },
    {
      "cell_type": "markdown",
      "source": [
        "* 만약 곱셈보다 덧셈을 먼저 계산하고 싶다면 덧셈 부분을 괄호로 묶어주면 됨"
      ],
      "metadata": {
        "id": "VKuGvEnnOGQI"
      }
    },
    {
      "cell_type": "code",
      "source": [
        "(35 + 1) * 2"
      ],
      "metadata": {
        "id": "O89qrcdGOEsh",
        "colab": {
          "base_uri": "https://localhost:8080/"
        },
        "outputId": "560f265e-94bf-4ac6-e850-8f8def3919f7"
      },
      "execution_count": 80,
      "outputs": [
        {
          "output_type": "execute_result",
          "data": {
            "text/plain": [
              "72"
            ]
          },
          "metadata": {},
          "execution_count": 80
        }
      ]
    }
  ]
}