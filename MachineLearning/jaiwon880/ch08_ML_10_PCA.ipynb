{
  "nbformat": 4,
  "nbformat_minor": 0,
  "metadata": {
    "colab": {
      "provenance": [],
      "include_colab_link": true
    },
    "kernelspec": {
      "name": "python3",
      "display_name": "Python 3"
    },
    "language_info": {
      "name": "python"
    }
  },
  "cells": [
    {
      "cell_type": "markdown",
      "metadata": {
        "id": "view-in-github",
        "colab_type": "text"
      },
      "source": [
        "<a href=\"https://colab.research.google.com/github/jaiwon880/MachineLearning_jw/blob/main/jaiwon880/ch08_ML_10_PCA.ipynb\" target=\"_parent\"><img src=\"https://colab.research.google.com/assets/colab-badge.svg\" alt=\"Open In Colab\"/></a>"
      ]
    },
    {
      "cell_type": "code",
      "execution_count": 1,
      "metadata": {
        "id": "rJV6m3PmO_w9"
      },
      "outputs": [],
      "source": [
        "# 필수 라이브러리\n",
        "import numpy as np\n",
        "import pandas as pd\n",
        "import matplotlib.pyplot as plt\n",
        "import seaborn as sns"
      ]
    },
    {
      "cell_type": "code",
      "source": [
        "# https://github.com/BigData23th/Data/raw/main/customer_pca.csv\n",
        "df = pd.read_csv(\"https://github.com/BigData23th/Data/raw/main/customer_pca.csv\")\n",
        "df # 데이터 구조가 복잡해서 x, y축으로 하는 2차원 그래프로 나타낼 수가 X"
      ],
      "metadata": {
        "colab": {
          "base_uri": "https://localhost:8080/",
          "height": 487
        },
        "id": "HNEJ_X5TSOVq",
        "outputId": "9c74b1a5-0188-4917-a8e2-ca086207c17f"
      },
      "execution_count": 2,
      "outputs": [
        {
          "output_type": "execute_result",
          "data": {
            "text/plain": [
              "         amt  category_entertainment  category_food_dining  \\\n",
              "0  -1.402327               -1.135617             -0.971069   \n",
              "1   1.079407                0.414075              0.168880   \n",
              "2   1.200151                0.747127              1.622968   \n",
              "3  -1.474915               -1.129427             -1.539741   \n",
              "4   0.901491                0.257905             -0.320220   \n",
              "..       ...                     ...                   ...   \n",
              "95  0.965514                0.426639              0.196184   \n",
              "96 -0.839991               -0.715988              0.394918   \n",
              "97 -1.107688               -0.926597             -1.190202   \n",
              "98 -0.940815               -0.807895             -1.093267   \n",
              "99  0.599983                0.976691              0.611158   \n",
              "\n",
              "    category_gas_transport  category_grocery  category_health_fitness  \\\n",
              "0                -1.000180         -1.118217                -1.561756   \n",
              "1                 2.090013          0.767268                 1.040236   \n",
              "2                -0.606627          0.439476                 1.376630   \n",
              "3                -0.930355         -1.079803                -1.222903   \n",
              "4                 2.083588          0.540547                 0.705908   \n",
              "..                     ...               ...                      ...   \n",
              "95                2.086544          0.727562                 0.725503   \n",
              "96               -0.398366         -0.721701                -1.263462   \n",
              "97               -1.342390         -0.850378                -1.073294   \n",
              "98               -1.342878         -0.676572                -1.287731   \n",
              "99                1.174361         -0.015887                 1.530824   \n",
              "\n",
              "    category_home  category_kids_pets  category_misc  category_personal_care  \\\n",
              "0       -1.145051           -1.276913      -1.124693               -1.070260   \n",
              "1        0.844969            1.127922       1.210503                1.807350   \n",
              "2        2.126364            0.378610      -0.196523                0.127825   \n",
              "3       -1.572733           -1.516610      -1.274986               -1.185705   \n",
              "4        1.097814            0.955178       1.198524                1.640103   \n",
              "..            ...                 ...            ...                     ...   \n",
              "95       0.940589            1.923480       1.086851                1.810368   \n",
              "96      -0.576780           -0.190013      -0.818620               -0.286312   \n",
              "97      -1.011957           -1.616986      -1.182972               -0.974736   \n",
              "98      -1.305887           -1.463747      -1.050452               -0.895722   \n",
              "99       1.103355            0.929397       1.172695               -0.398034   \n",
              "\n",
              "    category_shopping  category_travel  label  \n",
              "0           -1.141424        -0.619930      0  \n",
              "1            0.659967        -0.222587      3  \n",
              "2            1.299938         2.766891      1  \n",
              "3           -1.166127        -0.601675      0  \n",
              "4            0.578781        -0.484796      3  \n",
              "..                ...              ...    ...  \n",
              "95           0.252344        -0.401038      3  \n",
              "96          -0.940283        -0.504166      0  \n",
              "97          -0.664583         0.193335      0  \n",
              "98          -0.708094         0.954537      0  \n",
              "99          -0.020631        -0.086794      3  \n",
              "\n",
              "[100 rows x 13 columns]"
            ],
            "text/html": [
              "\n",
              "  <div id=\"df-46750c01-8051-4c99-ae5b-d42a511405ba\">\n",
              "    <div class=\"colab-df-container\">\n",
              "      <div>\n",
              "<style scoped>\n",
              "    .dataframe tbody tr th:only-of-type {\n",
              "        vertical-align: middle;\n",
              "    }\n",
              "\n",
              "    .dataframe tbody tr th {\n",
              "        vertical-align: top;\n",
              "    }\n",
              "\n",
              "    .dataframe thead th {\n",
              "        text-align: right;\n",
              "    }\n",
              "</style>\n",
              "<table border=\"1\" class=\"dataframe\">\n",
              "  <thead>\n",
              "    <tr style=\"text-align: right;\">\n",
              "      <th></th>\n",
              "      <th>amt</th>\n",
              "      <th>category_entertainment</th>\n",
              "      <th>category_food_dining</th>\n",
              "      <th>category_gas_transport</th>\n",
              "      <th>category_grocery</th>\n",
              "      <th>category_health_fitness</th>\n",
              "      <th>category_home</th>\n",
              "      <th>category_kids_pets</th>\n",
              "      <th>category_misc</th>\n",
              "      <th>category_personal_care</th>\n",
              "      <th>category_shopping</th>\n",
              "      <th>category_travel</th>\n",
              "      <th>label</th>\n",
              "    </tr>\n",
              "  </thead>\n",
              "  <tbody>\n",
              "    <tr>\n",
              "      <th>0</th>\n",
              "      <td>-1.402327</td>\n",
              "      <td>-1.135617</td>\n",
              "      <td>-0.971069</td>\n",
              "      <td>-1.000180</td>\n",
              "      <td>-1.118217</td>\n",
              "      <td>-1.561756</td>\n",
              "      <td>-1.145051</td>\n",
              "      <td>-1.276913</td>\n",
              "      <td>-1.124693</td>\n",
              "      <td>-1.070260</td>\n",
              "      <td>-1.141424</td>\n",
              "      <td>-0.619930</td>\n",
              "      <td>0</td>\n",
              "    </tr>\n",
              "    <tr>\n",
              "      <th>1</th>\n",
              "      <td>1.079407</td>\n",
              "      <td>0.414075</td>\n",
              "      <td>0.168880</td>\n",
              "      <td>2.090013</td>\n",
              "      <td>0.767268</td>\n",
              "      <td>1.040236</td>\n",
              "      <td>0.844969</td>\n",
              "      <td>1.127922</td>\n",
              "      <td>1.210503</td>\n",
              "      <td>1.807350</td>\n",
              "      <td>0.659967</td>\n",
              "      <td>-0.222587</td>\n",
              "      <td>3</td>\n",
              "    </tr>\n",
              "    <tr>\n",
              "      <th>2</th>\n",
              "      <td>1.200151</td>\n",
              "      <td>0.747127</td>\n",
              "      <td>1.622968</td>\n",
              "      <td>-0.606627</td>\n",
              "      <td>0.439476</td>\n",
              "      <td>1.376630</td>\n",
              "      <td>2.126364</td>\n",
              "      <td>0.378610</td>\n",
              "      <td>-0.196523</td>\n",
              "      <td>0.127825</td>\n",
              "      <td>1.299938</td>\n",
              "      <td>2.766891</td>\n",
              "      <td>1</td>\n",
              "    </tr>\n",
              "    <tr>\n",
              "      <th>3</th>\n",
              "      <td>-1.474915</td>\n",
              "      <td>-1.129427</td>\n",
              "      <td>-1.539741</td>\n",
              "      <td>-0.930355</td>\n",
              "      <td>-1.079803</td>\n",
              "      <td>-1.222903</td>\n",
              "      <td>-1.572733</td>\n",
              "      <td>-1.516610</td>\n",
              "      <td>-1.274986</td>\n",
              "      <td>-1.185705</td>\n",
              "      <td>-1.166127</td>\n",
              "      <td>-0.601675</td>\n",
              "      <td>0</td>\n",
              "    </tr>\n",
              "    <tr>\n",
              "      <th>4</th>\n",
              "      <td>0.901491</td>\n",
              "      <td>0.257905</td>\n",
              "      <td>-0.320220</td>\n",
              "      <td>2.083588</td>\n",
              "      <td>0.540547</td>\n",
              "      <td>0.705908</td>\n",
              "      <td>1.097814</td>\n",
              "      <td>0.955178</td>\n",
              "      <td>1.198524</td>\n",
              "      <td>1.640103</td>\n",
              "      <td>0.578781</td>\n",
              "      <td>-0.484796</td>\n",
              "      <td>3</td>\n",
              "    </tr>\n",
              "    <tr>\n",
              "      <th>...</th>\n",
              "      <td>...</td>\n",
              "      <td>...</td>\n",
              "      <td>...</td>\n",
              "      <td>...</td>\n",
              "      <td>...</td>\n",
              "      <td>...</td>\n",
              "      <td>...</td>\n",
              "      <td>...</td>\n",
              "      <td>...</td>\n",
              "      <td>...</td>\n",
              "      <td>...</td>\n",
              "      <td>...</td>\n",
              "      <td>...</td>\n",
              "    </tr>\n",
              "    <tr>\n",
              "      <th>95</th>\n",
              "      <td>0.965514</td>\n",
              "      <td>0.426639</td>\n",
              "      <td>0.196184</td>\n",
              "      <td>2.086544</td>\n",
              "      <td>0.727562</td>\n",
              "      <td>0.725503</td>\n",
              "      <td>0.940589</td>\n",
              "      <td>1.923480</td>\n",
              "      <td>1.086851</td>\n",
              "      <td>1.810368</td>\n",
              "      <td>0.252344</td>\n",
              "      <td>-0.401038</td>\n",
              "      <td>3</td>\n",
              "    </tr>\n",
              "    <tr>\n",
              "      <th>96</th>\n",
              "      <td>-0.839991</td>\n",
              "      <td>-0.715988</td>\n",
              "      <td>0.394918</td>\n",
              "      <td>-0.398366</td>\n",
              "      <td>-0.721701</td>\n",
              "      <td>-1.263462</td>\n",
              "      <td>-0.576780</td>\n",
              "      <td>-0.190013</td>\n",
              "      <td>-0.818620</td>\n",
              "      <td>-0.286312</td>\n",
              "      <td>-0.940283</td>\n",
              "      <td>-0.504166</td>\n",
              "      <td>0</td>\n",
              "    </tr>\n",
              "    <tr>\n",
              "      <th>97</th>\n",
              "      <td>-1.107688</td>\n",
              "      <td>-0.926597</td>\n",
              "      <td>-1.190202</td>\n",
              "      <td>-1.342390</td>\n",
              "      <td>-0.850378</td>\n",
              "      <td>-1.073294</td>\n",
              "      <td>-1.011957</td>\n",
              "      <td>-1.616986</td>\n",
              "      <td>-1.182972</td>\n",
              "      <td>-0.974736</td>\n",
              "      <td>-0.664583</td>\n",
              "      <td>0.193335</td>\n",
              "      <td>0</td>\n",
              "    </tr>\n",
              "    <tr>\n",
              "      <th>98</th>\n",
              "      <td>-0.940815</td>\n",
              "      <td>-0.807895</td>\n",
              "      <td>-1.093267</td>\n",
              "      <td>-1.342878</td>\n",
              "      <td>-0.676572</td>\n",
              "      <td>-1.287731</td>\n",
              "      <td>-1.305887</td>\n",
              "      <td>-1.463747</td>\n",
              "      <td>-1.050452</td>\n",
              "      <td>-0.895722</td>\n",
              "      <td>-0.708094</td>\n",
              "      <td>0.954537</td>\n",
              "      <td>0</td>\n",
              "    </tr>\n",
              "    <tr>\n",
              "      <th>99</th>\n",
              "      <td>0.599983</td>\n",
              "      <td>0.976691</td>\n",
              "      <td>0.611158</td>\n",
              "      <td>1.174361</td>\n",
              "      <td>-0.015887</td>\n",
              "      <td>1.530824</td>\n",
              "      <td>1.103355</td>\n",
              "      <td>0.929397</td>\n",
              "      <td>1.172695</td>\n",
              "      <td>-0.398034</td>\n",
              "      <td>-0.020631</td>\n",
              "      <td>-0.086794</td>\n",
              "      <td>3</td>\n",
              "    </tr>\n",
              "  </tbody>\n",
              "</table>\n",
              "<p>100 rows × 13 columns</p>\n",
              "</div>\n",
              "      <button class=\"colab-df-convert\" onclick=\"convertToInteractive('df-46750c01-8051-4c99-ae5b-d42a511405ba')\"\n",
              "              title=\"Convert this dataframe to an interactive table.\"\n",
              "              style=\"display:none;\">\n",
              "        \n",
              "  <svg xmlns=\"http://www.w3.org/2000/svg\" height=\"24px\"viewBox=\"0 0 24 24\"\n",
              "       width=\"24px\">\n",
              "    <path d=\"M0 0h24v24H0V0z\" fill=\"none\"/>\n",
              "    <path d=\"M18.56 5.44l.94 2.06.94-2.06 2.06-.94-2.06-.94-.94-2.06-.94 2.06-2.06.94zm-11 1L8.5 8.5l.94-2.06 2.06-.94-2.06-.94L8.5 2.5l-.94 2.06-2.06.94zm10 10l.94 2.06.94-2.06 2.06-.94-2.06-.94-.94-2.06-.94 2.06-2.06.94z\"/><path d=\"M17.41 7.96l-1.37-1.37c-.4-.4-.92-.59-1.43-.59-.52 0-1.04.2-1.43.59L10.3 9.45l-7.72 7.72c-.78.78-.78 2.05 0 2.83L4 21.41c.39.39.9.59 1.41.59.51 0 1.02-.2 1.41-.59l7.78-7.78 2.81-2.81c.8-.78.8-2.07 0-2.86zM5.41 20L4 18.59l7.72-7.72 1.47 1.35L5.41 20z\"/>\n",
              "  </svg>\n",
              "      </button>\n",
              "      \n",
              "  <style>\n",
              "    .colab-df-container {\n",
              "      display:flex;\n",
              "      flex-wrap:wrap;\n",
              "      gap: 12px;\n",
              "    }\n",
              "\n",
              "    .colab-df-convert {\n",
              "      background-color: #E8F0FE;\n",
              "      border: none;\n",
              "      border-radius: 50%;\n",
              "      cursor: pointer;\n",
              "      display: none;\n",
              "      fill: #1967D2;\n",
              "      height: 32px;\n",
              "      padding: 0 0 0 0;\n",
              "      width: 32px;\n",
              "    }\n",
              "\n",
              "    .colab-df-convert:hover {\n",
              "      background-color: #E2EBFA;\n",
              "      box-shadow: 0px 1px 2px rgba(60, 64, 67, 0.3), 0px 1px 3px 1px rgba(60, 64, 67, 0.15);\n",
              "      fill: #174EA6;\n",
              "    }\n",
              "\n",
              "    [theme=dark] .colab-df-convert {\n",
              "      background-color: #3B4455;\n",
              "      fill: #D2E3FC;\n",
              "    }\n",
              "\n",
              "    [theme=dark] .colab-df-convert:hover {\n",
              "      background-color: #434B5C;\n",
              "      box-shadow: 0px 1px 3px 1px rgba(0, 0, 0, 0.15);\n",
              "      filter: drop-shadow(0px 1px 2px rgba(0, 0, 0, 0.3));\n",
              "      fill: #FFFFFF;\n",
              "    }\n",
              "  </style>\n",
              "\n",
              "      <script>\n",
              "        const buttonEl =\n",
              "          document.querySelector('#df-46750c01-8051-4c99-ae5b-d42a511405ba button.colab-df-convert');\n",
              "        buttonEl.style.display =\n",
              "          google.colab.kernel.accessAllowed ? 'block' : 'none';\n",
              "\n",
              "        async function convertToInteractive(key) {\n",
              "          const element = document.querySelector('#df-46750c01-8051-4c99-ae5b-d42a511405ba');\n",
              "          const dataTable =\n",
              "            await google.colab.kernel.invokeFunction('convertToInteractive',\n",
              "                                                     [key], {});\n",
              "          if (!dataTable) return;\n",
              "\n",
              "          const docLinkHtml = 'Like what you see? Visit the ' +\n",
              "            '<a target=\"_blank\" href=https://colab.research.google.com/notebooks/data_table.ipynb>data table notebook</a>'\n",
              "            + ' to learn more about interactive tables.';\n",
              "          element.innerHTML = '';\n",
              "          dataTable['output_type'] = 'display_data';\n",
              "          await google.colab.output.renderOutput(dataTable, element);\n",
              "          const docLink = document.createElement('div');\n",
              "          docLink.innerHTML = docLinkHtml;\n",
              "          element.appendChild(docLink);\n",
              "        }\n",
              "      </script>\n",
              "    </div>\n",
              "  </div>\n",
              "  "
            ]
          },
          "metadata": {},
          "execution_count": 2
        }
      ]
    },
    {
      "cell_type": "code",
      "source": [
        "df.info()"
      ],
      "metadata": {
        "colab": {
          "base_uri": "https://localhost:8080/"
        },
        "id": "pxLYEgjTTVWz",
        "outputId": "618a7e0d-7a68-488e-dceb-7a4e9cdb40be"
      },
      "execution_count": 3,
      "outputs": [
        {
          "output_type": "stream",
          "name": "stdout",
          "text": [
            "<class 'pandas.core.frame.DataFrame'>\n",
            "RangeIndex: 100 entries, 0 to 99\n",
            "Data columns (total 13 columns):\n",
            " #   Column                   Non-Null Count  Dtype  \n",
            "---  ------                   --------------  -----  \n",
            " 0   amt                      100 non-null    float64\n",
            " 1   category_entertainment   100 non-null    float64\n",
            " 2   category_food_dining     100 non-null    float64\n",
            " 3   category_gas_transport   100 non-null    float64\n",
            " 4   category_grocery         100 non-null    float64\n",
            " 5   category_health_fitness  100 non-null    float64\n",
            " 6   category_home            100 non-null    float64\n",
            " 7   category_kids_pets       100 non-null    float64\n",
            " 8   category_misc            100 non-null    float64\n",
            " 9   category_personal_care   100 non-null    float64\n",
            " 10  category_shopping        100 non-null    float64\n",
            " 11  category_travel          100 non-null    float64\n",
            " 12  label                    100 non-null    int64  \n",
            "dtypes: float64(12), int64(1)\n",
            "memory usage: 10.3 KB\n"
          ]
        }
      ]
    },
    {
      "cell_type": "code",
      "source": [
        "# 종속변수와 독립변수 분리 (X, y)\n",
        "X = df.drop('label', axis=1) # 독립변수들\n",
        "y = df.label # 종속변수"
      ],
      "metadata": {
        "id": "TdD1Ncp5Sxj2"
      },
      "execution_count": 4,
      "outputs": []
    },
    {
      "cell_type": "markdown",
      "source": [
        "# 그래프 표현을 위한 차원 축소"
      ],
      "metadata": {
        "id": "-CD8sfHuTlXQ"
      }
    },
    {
      "cell_type": "code",
      "source": [
        "# PCA 알고리즘\n",
        "from sklearn.decomposition import PCA"
      ],
      "metadata": {
        "id": "JwpQ01zSThhA"
      },
      "execution_count": 5,
      "outputs": []
    },
    {
      "cell_type": "code",
      "source": [
        "# 주성분갯수 2로 지정 (여러 개의 변수들의 특성을 2개로 합쳐서 처리)\n",
        "pca = PCA(n_components=2)"
      ],
      "metadata": {
        "id": "VzI7ZxNvTvCB"
      },
      "execution_count": 6,
      "outputs": []
    },
    {
      "cell_type": "code",
      "source": [
        "pca.fit(X)\n",
        "df_pca = pca.transform(X)\n",
        "# pca.fit_transform(X)"
      ],
      "metadata": {
        "id": "AhrudZ_zT4B5"
      },
      "execution_count": 8,
      "outputs": []
    },
    {
      "cell_type": "code",
      "source": [
        "# 주성분 2개를 가지는 2차원 배열(열 2개)이 됨\n",
        "df_pca"
      ],
      "metadata": {
        "id": "PwYEwM2nUE-1",
        "colab": {
          "base_uri": "https://localhost:8080/"
        },
        "outputId": "a3db9173-608a-436b-93a3-a452bd143aaf"
      },
      "execution_count": 9,
      "outputs": [
        {
          "output_type": "execute_result",
          "data": {
            "text/plain": [
              "array([[-3.92906072e+00,  1.02604491e-01],\n",
              "       [ 3.10758276e+00, -1.74887930e+00],\n",
              "       [ 3.02379272e+00,  3.21221215e+00],\n",
              "       [-4.28241767e+00,  1.13781030e-02],\n",
              "       [ 2.59065802e+00, -1.90612064e+00],\n",
              "       [ 8.70343520e-01, -1.79154348e-02],\n",
              "       [-1.16508938e+00,  2.00387900e+00],\n",
              "       [ 1.41163657e+00, -1.21220170e+00],\n",
              "       [ 1.79302072e-01, -1.15337545e+00],\n",
              "       [-2.74166293e+00, -3.48112299e-02],\n",
              "       [ 4.03108363e-01, -2.56426911e-01],\n",
              "       [-4.32816586e+00,  1.09280479e-01],\n",
              "       [-1.06779010e+00, -4.71336448e-01],\n",
              "       [-3.54208654e+00,  2.09373453e-01],\n",
              "       [ 3.00321739e+00,  6.85140300e-02],\n",
              "       [ 5.08464052e+00, -1.92234923e+00],\n",
              "       [-1.39044460e+00,  3.22162225e-01],\n",
              "       [-2.64318989e+00, -4.59744830e-01],\n",
              "       [-7.37714393e-01, -9.30393910e-01],\n",
              "       [-3.93420145e+00,  1.62749639e-01],\n",
              "       [ 3.16675507e-01, -4.22288613e-01],\n",
              "       [ 7.31864853e+00,  5.17885391e-02],\n",
              "       [ 6.60448573e-01, -1.13828656e+00],\n",
              "       [-3.96099431e+00, -5.54999191e-02],\n",
              "       [ 2.88515690e+00, -1.50950875e+00],\n",
              "       [-9.13413956e-01, -2.84250823e-01],\n",
              "       [ 7.47738674e+00,  4.13602819e-01],\n",
              "       [ 8.51161986e-01,  2.66450095e+00],\n",
              "       [ 3.11683289e+00,  3.55512199e+00],\n",
              "       [-2.61734209e+00, -2.27449931e-03],\n",
              "       [-1.22771428e-01, -3.31216229e-01],\n",
              "       [ 9.13108512e-01,  3.00138893e+00],\n",
              "       [-9.55686582e-02, -2.02640440e-01],\n",
              "       [ 2.51249575e+00, -6.33108713e-01],\n",
              "       [ 3.12230426e+00,  3.70599880e+00],\n",
              "       [ 3.14778237e+00,  4.33267256e+00],\n",
              "       [ 6.06549063e-01, -9.86110799e-01],\n",
              "       [-3.46744343e+00,  1.08940594e+00],\n",
              "       [ 6.18615770e-02, -1.27174586e+00],\n",
              "       [ 2.87266476e-01, -1.05338012e+00],\n",
              "       [ 5.08834370e-01, -2.02343984e-01],\n",
              "       [-9.01515768e-01, -2.68070767e-01],\n",
              "       [-8.05819264e-02, -6.27176745e-01],\n",
              "       [-2.57697663e+00, -1.32747276e-01],\n",
              "       [ 2.92716445e+00,  4.17160726e-01],\n",
              "       [ 7.53139122e+00,  8.91638114e-01],\n",
              "       [ 2.37952005e+00, -1.70940926e+00],\n",
              "       [-1.24997746e+00,  2.93538981e-01],\n",
              "       [ 5.08939438e-01,  5.05213153e-01],\n",
              "       [ 2.00027356e+00, -5.82652255e-01],\n",
              "       [-4.11163191e+00,  1.20451458e-02],\n",
              "       [ 7.19921286e-01, -1.02373898e+00],\n",
              "       [ 5.13207228e+00, -3.55005462e-02],\n",
              "       [-1.30152112e+00, -2.92916652e-01],\n",
              "       [-1.26229904e+00,  1.99571763e+00],\n",
              "       [-3.92072783e+00,  4.19591569e-01],\n",
              "       [-3.92335605e+00,  2.90238232e-01],\n",
              "       [-1.07974232e+00, -7.56236332e-01],\n",
              "       [ 2.29847276e+00, -1.71731618e+00],\n",
              "       [-2.41712125e+00, -1.65314491e-01],\n",
              "       [-1.94038751e+00,  8.65325435e-02],\n",
              "       [ 9.61908159e-01,  3.07626115e+00],\n",
              "       [ 3.07761364e+00,  6.23734925e-01],\n",
              "       [ 6.98825143e-02, -1.26850385e+00],\n",
              "       [-3.83324310e+00,  1.04062564e-01],\n",
              "       [ 5.07062308e+00,  3.66619197e-01],\n",
              "       [ 3.03194691e+00,  3.70983803e+00],\n",
              "       [-3.79352069e+00,  2.43265665e-01],\n",
              "       [ 8.44571030e-01, -9.03608885e-01],\n",
              "       [ 1.10497065e+00, -5.69239958e-01],\n",
              "       [-1.20868859e+00, -5.47974662e-01],\n",
              "       [-3.74634015e+00,  6.45711112e-01],\n",
              "       [ 6.55382011e-01, -6.80909837e-01],\n",
              "       [ 3.18270985e+00, -1.60458982e+00],\n",
              "       [-6.86581666e-01,  4.12809181e-02],\n",
              "       [-1.14472565e+00, -5.80928792e-01],\n",
              "       [ 2.25158156e+00, -1.86551742e+00],\n",
              "       [-4.11846276e+00,  2.43692755e-01],\n",
              "       [-3.61019796e+00,  3.80018798e-01],\n",
              "       [-2.39950827e+00, -2.99975577e-01],\n",
              "       [-1.38050726e+00,  2.37925206e-01],\n",
              "       [ 5.69227545e-01, -9.45067658e-01],\n",
              "       [-7.54661391e-01, -5.46883930e-02],\n",
              "       [-2.06403817e+00, -2.02782822e-01],\n",
              "       [-1.25451597e+00, -5.30717565e-02],\n",
              "       [ 5.47010496e-01, -1.18056800e+00],\n",
              "       [ 7.28182232e+00,  3.68954923e-01],\n",
              "       [ 1.51779943e-01, -2.94127566e-01],\n",
              "       [-1.06550470e+00, -6.32866500e-01],\n",
              "       [ 2.20734751e+00, -1.60190057e+00],\n",
              "       [ 5.58915914e-01,  2.22725170e-01],\n",
              "       [-4.39374365e+00,  1.84102321e-02],\n",
              "       [-2.09512738e+00, -2.05503210e-01],\n",
              "       [-1.93572397e+00, -1.86190550e-01],\n",
              "       [ 1.57812958e-01, -5.61152392e-01],\n",
              "       [ 3.05786793e+00, -2.07006100e+00],\n",
              "       [-1.98087248e+00, -1.85123765e-01],\n",
              "       [-3.46538499e+00,  1.02229842e+00],\n",
              "       [-3.27716415e+00,  1.39247995e+00],\n",
              "       [ 2.17218468e+00, -6.13946378e-01]])"
            ]
          },
          "metadata": {},
          "execution_count": 9
        }
      ]
    },
    {
      "cell_type": "code",
      "source": [
        "# df하고 같은 index를 공유\n",
        "df2 = pd.DataFrame(df_pca, columns=['PC1','PC2'])\n",
        "df2"
      ],
      "metadata": {
        "colab": {
          "base_uri": "https://localhost:8080/",
          "height": 423
        },
        "id": "c0cV9aERUYmM",
        "outputId": "0af030b4-3eca-48ae-90b4-0042c3b30fe3"
      },
      "execution_count": 10,
      "outputs": [
        {
          "output_type": "execute_result",
          "data": {
            "text/plain": [
              "         PC1       PC2\n",
              "0  -3.929061  0.102604\n",
              "1   3.107583 -1.748879\n",
              "2   3.023793  3.212212\n",
              "3  -4.282418  0.011378\n",
              "4   2.590658 -1.906121\n",
              "..       ...       ...\n",
              "95  3.057868 -2.070061\n",
              "96 -1.980872 -0.185124\n",
              "97 -3.465385  1.022298\n",
              "98 -3.277164  1.392480\n",
              "99  2.172185 -0.613946\n",
              "\n",
              "[100 rows x 2 columns]"
            ],
            "text/html": [
              "\n",
              "  <div id=\"df-9deeee67-30f4-4599-be69-f7055e7b34bc\">\n",
              "    <div class=\"colab-df-container\">\n",
              "      <div>\n",
              "<style scoped>\n",
              "    .dataframe tbody tr th:only-of-type {\n",
              "        vertical-align: middle;\n",
              "    }\n",
              "\n",
              "    .dataframe tbody tr th {\n",
              "        vertical-align: top;\n",
              "    }\n",
              "\n",
              "    .dataframe thead th {\n",
              "        text-align: right;\n",
              "    }\n",
              "</style>\n",
              "<table border=\"1\" class=\"dataframe\">\n",
              "  <thead>\n",
              "    <tr style=\"text-align: right;\">\n",
              "      <th></th>\n",
              "      <th>PC1</th>\n",
              "      <th>PC2</th>\n",
              "    </tr>\n",
              "  </thead>\n",
              "  <tbody>\n",
              "    <tr>\n",
              "      <th>0</th>\n",
              "      <td>-3.929061</td>\n",
              "      <td>0.102604</td>\n",
              "    </tr>\n",
              "    <tr>\n",
              "      <th>1</th>\n",
              "      <td>3.107583</td>\n",
              "      <td>-1.748879</td>\n",
              "    </tr>\n",
              "    <tr>\n",
              "      <th>2</th>\n",
              "      <td>3.023793</td>\n",
              "      <td>3.212212</td>\n",
              "    </tr>\n",
              "    <tr>\n",
              "      <th>3</th>\n",
              "      <td>-4.282418</td>\n",
              "      <td>0.011378</td>\n",
              "    </tr>\n",
              "    <tr>\n",
              "      <th>4</th>\n",
              "      <td>2.590658</td>\n",
              "      <td>-1.906121</td>\n",
              "    </tr>\n",
              "    <tr>\n",
              "      <th>...</th>\n",
              "      <td>...</td>\n",
              "      <td>...</td>\n",
              "    </tr>\n",
              "    <tr>\n",
              "      <th>95</th>\n",
              "      <td>3.057868</td>\n",
              "      <td>-2.070061</td>\n",
              "    </tr>\n",
              "    <tr>\n",
              "      <th>96</th>\n",
              "      <td>-1.980872</td>\n",
              "      <td>-0.185124</td>\n",
              "    </tr>\n",
              "    <tr>\n",
              "      <th>97</th>\n",
              "      <td>-3.465385</td>\n",
              "      <td>1.022298</td>\n",
              "    </tr>\n",
              "    <tr>\n",
              "      <th>98</th>\n",
              "      <td>-3.277164</td>\n",
              "      <td>1.392480</td>\n",
              "    </tr>\n",
              "    <tr>\n",
              "      <th>99</th>\n",
              "      <td>2.172185</td>\n",
              "      <td>-0.613946</td>\n",
              "    </tr>\n",
              "  </tbody>\n",
              "</table>\n",
              "<p>100 rows × 2 columns</p>\n",
              "</div>\n",
              "      <button class=\"colab-df-convert\" onclick=\"convertToInteractive('df-9deeee67-30f4-4599-be69-f7055e7b34bc')\"\n",
              "              title=\"Convert this dataframe to an interactive table.\"\n",
              "              style=\"display:none;\">\n",
              "        \n",
              "  <svg xmlns=\"http://www.w3.org/2000/svg\" height=\"24px\"viewBox=\"0 0 24 24\"\n",
              "       width=\"24px\">\n",
              "    <path d=\"M0 0h24v24H0V0z\" fill=\"none\"/>\n",
              "    <path d=\"M18.56 5.44l.94 2.06.94-2.06 2.06-.94-2.06-.94-.94-2.06-.94 2.06-2.06.94zm-11 1L8.5 8.5l.94-2.06 2.06-.94-2.06-.94L8.5 2.5l-.94 2.06-2.06.94zm10 10l.94 2.06.94-2.06 2.06-.94-2.06-.94-.94-2.06-.94 2.06-2.06.94z\"/><path d=\"M17.41 7.96l-1.37-1.37c-.4-.4-.92-.59-1.43-.59-.52 0-1.04.2-1.43.59L10.3 9.45l-7.72 7.72c-.78.78-.78 2.05 0 2.83L4 21.41c.39.39.9.59 1.41.59.51 0 1.02-.2 1.41-.59l7.78-7.78 2.81-2.81c.8-.78.8-2.07 0-2.86zM5.41 20L4 18.59l7.72-7.72 1.47 1.35L5.41 20z\"/>\n",
              "  </svg>\n",
              "      </button>\n",
              "      \n",
              "  <style>\n",
              "    .colab-df-container {\n",
              "      display:flex;\n",
              "      flex-wrap:wrap;\n",
              "      gap: 12px;\n",
              "    }\n",
              "\n",
              "    .colab-df-convert {\n",
              "      background-color: #E8F0FE;\n",
              "      border: none;\n",
              "      border-radius: 50%;\n",
              "      cursor: pointer;\n",
              "      display: none;\n",
              "      fill: #1967D2;\n",
              "      height: 32px;\n",
              "      padding: 0 0 0 0;\n",
              "      width: 32px;\n",
              "    }\n",
              "\n",
              "    .colab-df-convert:hover {\n",
              "      background-color: #E2EBFA;\n",
              "      box-shadow: 0px 1px 2px rgba(60, 64, 67, 0.3), 0px 1px 3px 1px rgba(60, 64, 67, 0.15);\n",
              "      fill: #174EA6;\n",
              "    }\n",
              "\n",
              "    [theme=dark] .colab-df-convert {\n",
              "      background-color: #3B4455;\n",
              "      fill: #D2E3FC;\n",
              "    }\n",
              "\n",
              "    [theme=dark] .colab-df-convert:hover {\n",
              "      background-color: #434B5C;\n",
              "      box-shadow: 0px 1px 3px 1px rgba(0, 0, 0, 0.15);\n",
              "      filter: drop-shadow(0px 1px 2px rgba(0, 0, 0, 0.3));\n",
              "      fill: #FFFFFF;\n",
              "    }\n",
              "  </style>\n",
              "\n",
              "      <script>\n",
              "        const buttonEl =\n",
              "          document.querySelector('#df-9deeee67-30f4-4599-be69-f7055e7b34bc button.colab-df-convert');\n",
              "        buttonEl.style.display =\n",
              "          google.colab.kernel.accessAllowed ? 'block' : 'none';\n",
              "\n",
              "        async function convertToInteractive(key) {\n",
              "          const element = document.querySelector('#df-9deeee67-30f4-4599-be69-f7055e7b34bc');\n",
              "          const dataTable =\n",
              "            await google.colab.kernel.invokeFunction('convertToInteractive',\n",
              "                                                     [key], {});\n",
              "          if (!dataTable) return;\n",
              "\n",
              "          const docLinkHtml = 'Like what you see? Visit the ' +\n",
              "            '<a target=\"_blank\" href=https://colab.research.google.com/notebooks/data_table.ipynb>data table notebook</a>'\n",
              "            + ' to learn more about interactive tables.';\n",
              "          element.innerHTML = '';\n",
              "          dataTable['output_type'] = 'display_data';\n",
              "          await google.colab.output.renderOutput(dataTable, element);\n",
              "          const docLink = document.createElement('div');\n",
              "          docLink.innerHTML = docLinkHtml;\n",
              "          element.appendChild(docLink);\n",
              "        }\n",
              "      </script>\n",
              "    </div>\n",
              "  </div>\n",
              "  "
            ]
          },
          "metadata": {},
          "execution_count": 10
        }
      ]
    },
    {
      "cell_type": "code",
      "source": [
        "# 목표변수들 (df) -> 차원축소 (df2) / index의 변화는 X -> y 라벨을 붙여서 연결\n",
        "df2 = df2.join(y)\n",
        "df2"
      ],
      "metadata": {
        "colab": {
          "base_uri": "https://localhost:8080/",
          "height": 423
        },
        "id": "5tb45qMiUvID",
        "outputId": "d090d6a6-76df-4b3c-9157-25f983073ce5"
      },
      "execution_count": 11,
      "outputs": [
        {
          "output_type": "execute_result",
          "data": {
            "text/plain": [
              "         PC1       PC2  label\n",
              "0  -3.929061  0.102604      0\n",
              "1   3.107583 -1.748879      3\n",
              "2   3.023793  3.212212      1\n",
              "3  -4.282418  0.011378      0\n",
              "4   2.590658 -1.906121      3\n",
              "..       ...       ...    ...\n",
              "95  3.057868 -2.070061      3\n",
              "96 -1.980872 -0.185124      0\n",
              "97 -3.465385  1.022298      0\n",
              "98 -3.277164  1.392480      0\n",
              "99  2.172185 -0.613946      3\n",
              "\n",
              "[100 rows x 3 columns]"
            ],
            "text/html": [
              "\n",
              "  <div id=\"df-d288fc77-5d66-4fa9-9e8f-4466bc2c0be2\">\n",
              "    <div class=\"colab-df-container\">\n",
              "      <div>\n",
              "<style scoped>\n",
              "    .dataframe tbody tr th:only-of-type {\n",
              "        vertical-align: middle;\n",
              "    }\n",
              "\n",
              "    .dataframe tbody tr th {\n",
              "        vertical-align: top;\n",
              "    }\n",
              "\n",
              "    .dataframe thead th {\n",
              "        text-align: right;\n",
              "    }\n",
              "</style>\n",
              "<table border=\"1\" class=\"dataframe\">\n",
              "  <thead>\n",
              "    <tr style=\"text-align: right;\">\n",
              "      <th></th>\n",
              "      <th>PC1</th>\n",
              "      <th>PC2</th>\n",
              "      <th>label</th>\n",
              "    </tr>\n",
              "  </thead>\n",
              "  <tbody>\n",
              "    <tr>\n",
              "      <th>0</th>\n",
              "      <td>-3.929061</td>\n",
              "      <td>0.102604</td>\n",
              "      <td>0</td>\n",
              "    </tr>\n",
              "    <tr>\n",
              "      <th>1</th>\n",
              "      <td>3.107583</td>\n",
              "      <td>-1.748879</td>\n",
              "      <td>3</td>\n",
              "    </tr>\n",
              "    <tr>\n",
              "      <th>2</th>\n",
              "      <td>3.023793</td>\n",
              "      <td>3.212212</td>\n",
              "      <td>1</td>\n",
              "    </tr>\n",
              "    <tr>\n",
              "      <th>3</th>\n",
              "      <td>-4.282418</td>\n",
              "      <td>0.011378</td>\n",
              "      <td>0</td>\n",
              "    </tr>\n",
              "    <tr>\n",
              "      <th>4</th>\n",
              "      <td>2.590658</td>\n",
              "      <td>-1.906121</td>\n",
              "      <td>3</td>\n",
              "    </tr>\n",
              "    <tr>\n",
              "      <th>...</th>\n",
              "      <td>...</td>\n",
              "      <td>...</td>\n",
              "      <td>...</td>\n",
              "    </tr>\n",
              "    <tr>\n",
              "      <th>95</th>\n",
              "      <td>3.057868</td>\n",
              "      <td>-2.070061</td>\n",
              "      <td>3</td>\n",
              "    </tr>\n",
              "    <tr>\n",
              "      <th>96</th>\n",
              "      <td>-1.980872</td>\n",
              "      <td>-0.185124</td>\n",
              "      <td>0</td>\n",
              "    </tr>\n",
              "    <tr>\n",
              "      <th>97</th>\n",
              "      <td>-3.465385</td>\n",
              "      <td>1.022298</td>\n",
              "      <td>0</td>\n",
              "    </tr>\n",
              "    <tr>\n",
              "      <th>98</th>\n",
              "      <td>-3.277164</td>\n",
              "      <td>1.392480</td>\n",
              "      <td>0</td>\n",
              "    </tr>\n",
              "    <tr>\n",
              "      <th>99</th>\n",
              "      <td>2.172185</td>\n",
              "      <td>-0.613946</td>\n",
              "      <td>3</td>\n",
              "    </tr>\n",
              "  </tbody>\n",
              "</table>\n",
              "<p>100 rows × 3 columns</p>\n",
              "</div>\n",
              "      <button class=\"colab-df-convert\" onclick=\"convertToInteractive('df-d288fc77-5d66-4fa9-9e8f-4466bc2c0be2')\"\n",
              "              title=\"Convert this dataframe to an interactive table.\"\n",
              "              style=\"display:none;\">\n",
              "        \n",
              "  <svg xmlns=\"http://www.w3.org/2000/svg\" height=\"24px\"viewBox=\"0 0 24 24\"\n",
              "       width=\"24px\">\n",
              "    <path d=\"M0 0h24v24H0V0z\" fill=\"none\"/>\n",
              "    <path d=\"M18.56 5.44l.94 2.06.94-2.06 2.06-.94-2.06-.94-.94-2.06-.94 2.06-2.06.94zm-11 1L8.5 8.5l.94-2.06 2.06-.94-2.06-.94L8.5 2.5l-.94 2.06-2.06.94zm10 10l.94 2.06.94-2.06 2.06-.94-2.06-.94-.94-2.06-.94 2.06-2.06.94z\"/><path d=\"M17.41 7.96l-1.37-1.37c-.4-.4-.92-.59-1.43-.59-.52 0-1.04.2-1.43.59L10.3 9.45l-7.72 7.72c-.78.78-.78 2.05 0 2.83L4 21.41c.39.39.9.59 1.41.59.51 0 1.02-.2 1.41-.59l7.78-7.78 2.81-2.81c.8-.78.8-2.07 0-2.86zM5.41 20L4 18.59l7.72-7.72 1.47 1.35L5.41 20z\"/>\n",
              "  </svg>\n",
              "      </button>\n",
              "      \n",
              "  <style>\n",
              "    .colab-df-container {\n",
              "      display:flex;\n",
              "      flex-wrap:wrap;\n",
              "      gap: 12px;\n",
              "    }\n",
              "\n",
              "    .colab-df-convert {\n",
              "      background-color: #E8F0FE;\n",
              "      border: none;\n",
              "      border-radius: 50%;\n",
              "      cursor: pointer;\n",
              "      display: none;\n",
              "      fill: #1967D2;\n",
              "      height: 32px;\n",
              "      padding: 0 0 0 0;\n",
              "      width: 32px;\n",
              "    }\n",
              "\n",
              "    .colab-df-convert:hover {\n",
              "      background-color: #E2EBFA;\n",
              "      box-shadow: 0px 1px 2px rgba(60, 64, 67, 0.3), 0px 1px 3px 1px rgba(60, 64, 67, 0.15);\n",
              "      fill: #174EA6;\n",
              "    }\n",
              "\n",
              "    [theme=dark] .colab-df-convert {\n",
              "      background-color: #3B4455;\n",
              "      fill: #D2E3FC;\n",
              "    }\n",
              "\n",
              "    [theme=dark] .colab-df-convert:hover {\n",
              "      background-color: #434B5C;\n",
              "      box-shadow: 0px 1px 3px 1px rgba(0, 0, 0, 0.15);\n",
              "      filter: drop-shadow(0px 1px 2px rgba(0, 0, 0, 0.3));\n",
              "      fill: #FFFFFF;\n",
              "    }\n",
              "  </style>\n",
              "\n",
              "      <script>\n",
              "        const buttonEl =\n",
              "          document.querySelector('#df-d288fc77-5d66-4fa9-9e8f-4466bc2c0be2 button.colab-df-convert');\n",
              "        buttonEl.style.display =\n",
              "          google.colab.kernel.accessAllowed ? 'block' : 'none';\n",
              "\n",
              "        async function convertToInteractive(key) {\n",
              "          const element = document.querySelector('#df-d288fc77-5d66-4fa9-9e8f-4466bc2c0be2');\n",
              "          const dataTable =\n",
              "            await google.colab.kernel.invokeFunction('convertToInteractive',\n",
              "                                                     [key], {});\n",
              "          if (!dataTable) return;\n",
              "\n",
              "          const docLinkHtml = 'Like what you see? Visit the ' +\n",
              "            '<a target=\"_blank\" href=https://colab.research.google.com/notebooks/data_table.ipynb>data table notebook</a>'\n",
              "            + ' to learn more about interactive tables.';\n",
              "          element.innerHTML = '';\n",
              "          dataTable['output_type'] = 'display_data';\n",
              "          await google.colab.output.renderOutput(dataTable, element);\n",
              "          const docLink = document.createElement('div');\n",
              "          docLink.innerHTML = docLinkHtml;\n",
              "          element.appendChild(docLink);\n",
              "        }\n",
              "      </script>\n",
              "    </div>\n",
              "  </div>\n",
              "  "
            ]
          },
          "metadata": {},
          "execution_count": 11
        }
      ]
    },
    {
      "cell_type": "code",
      "source": [
        "sns.scatterplot(x='PC1', y='PC2', hue='label', data=df2, palette='rainbow')\n",
        "# 변수 자체에 대한 해석은 어렵지만\n",
        "# 특성별로 얼마나 잘 나뉘었는지는 확인 가능"
      ],
      "metadata": {
        "colab": {
          "base_uri": "https://localhost:8080/",
          "height": 297
        },
        "id": "csJGMbrgVDSB",
        "outputId": "2c51064d-d711-4f4a-acd3-6150c2b44f0d"
      },
      "execution_count": 12,
      "outputs": [
        {
          "output_type": "execute_result",
          "data": {
            "text/plain": [
              "<Axes: xlabel='PC1', ylabel='PC2'>"
            ]
          },
          "metadata": {},
          "execution_count": 12
        },
        {
          "output_type": "display_data",
          "data": {
            "text/plain": [
              "<Figure size 432x288 with 1 Axes>"
            ],
            "image/png": "[encoded data removed]"
          },
          "metadata": {
            "needs_background": "light"
          }
        }
      ]
    },
    {
      "cell_type": "code",
      "source": [
        "# 각 주성분 (PC1, PC2)과 기존 독립변수 간의 관계 확인\n",
        "pca.components_"
      ],
      "metadata": {
        "colab": {
          "base_uri": "https://localhost:8080/"
        },
        "id": "63xQFQktVwko",
        "outputId": "10343cbf-0bca-4b16-f0a4-391ce012d11a"
      },
      "execution_count": 13,
      "outputs": [
        {
          "output_type": "execute_result",
          "data": {
            "text/plain": [
              "array([[ 0.3484681 ,  0.32447242,  0.30303652,  0.14186907,  0.30618347,\n",
              "         0.31297263,  0.29718852,  0.3045823 ,  0.29341337,  0.30287672,\n",
              "         0.32053447,  0.08927503],\n",
              "       [ 0.05827591,  0.06034266,  0.15264674, -0.54435586,  0.03109502,\n",
              "         0.03790586,  0.23809571, -0.2315275 , -0.2471928 , -0.20898284,\n",
              "         0.14479001,  0.65946781]])"
            ]
          },
          "metadata": {},
          "execution_count": 13
        }
      ]
    },
    {
      "cell_type": "code",
      "source": [
        "# 주성분과 변수 간의 상관관계 df\n",
        "df3 = pd.DataFrame(pca.components_, columns=X.columns, index=['PC1', 'PC2'])\n",
        "df3"
      ],
      "metadata": {
        "colab": {
          "base_uri": "https://localhost:8080/",
          "height": 176
        },
        "id": "kgd7jbG6V4dd",
        "outputId": "0977efc6-eab5-4c98-9a45-b106c1a3e38d"
      },
      "execution_count": 14,
      "outputs": [
        {
          "output_type": "execute_result",
          "data": {
            "text/plain": [
              "          amt  category_entertainment  category_food_dining  \\\n",
              "PC1  0.348468                0.324472              0.303037   \n",
              "PC2  0.058276                0.060343              0.152647   \n",
              "\n",
              "     category_gas_transport  category_grocery  category_health_fitness  \\\n",
              "PC1                0.141869          0.306183                 0.312973   \n",
              "PC2               -0.544356          0.031095                 0.037906   \n",
              "\n",
              "     category_home  category_kids_pets  category_misc  category_personal_care  \\\n",
              "PC1       0.297189            0.304582       0.293413                0.302877   \n",
              "PC2       0.238096           -0.231528      -0.247193               -0.208983   \n",
              "\n",
              "     category_shopping  category_travel  \n",
              "PC1           0.320534         0.089275  \n",
              "PC2           0.144790         0.659468  "
            ],
            "text/html": [
              "\n",
              "  <div id=\"df-c86d6c29-f9e4-44b5-ba34-18e1fae788c7\">\n",
              "    <div class=\"colab-df-container\">\n",
              "      <div>\n",
              "<style scoped>\n",
              "    .dataframe tbody tr th:only-of-type {\n",
              "        vertical-align: middle;\n",
              "    }\n",
              "\n",
              "    .dataframe tbody tr th {\n",
              "        vertical-align: top;\n",
              "    }\n",
              "\n",
              "    .dataframe thead th {\n",
              "        text-align: right;\n",
              "    }\n",
              "</style>\n",
              "<table border=\"1\" class=\"dataframe\">\n",
              "  <thead>\n",
              "    <tr style=\"text-align: right;\">\n",
              "      <th></th>\n",
              "      <th>amt</th>\n",
              "      <th>category_entertainment</th>\n",
              "      <th>category_food_dining</th>\n",
              "      <th>category_gas_transport</th>\n",
              "      <th>category_grocery</th>\n",
              "      <th>category_health_fitness</th>\n",
              "      <th>category_home</th>\n",
              "      <th>category_kids_pets</th>\n",
              "      <th>category_misc</th>\n",
              "      <th>category_personal_care</th>\n",
              "      <th>category_shopping</th>\n",
              "      <th>category_travel</th>\n",
              "    </tr>\n",
              "  </thead>\n",
              "  <tbody>\n",
              "    <tr>\n",
              "      <th>PC1</th>\n",
              "      <td>0.348468</td>\n",
              "      <td>0.324472</td>\n",
              "      <td>0.303037</td>\n",
              "      <td>0.141869</td>\n",
              "      <td>0.306183</td>\n",
              "      <td>0.312973</td>\n",
              "      <td>0.297189</td>\n",
              "      <td>0.304582</td>\n",
              "      <td>0.293413</td>\n",
              "      <td>0.302877</td>\n",
              "      <td>0.320534</td>\n",
              "      <td>0.089275</td>\n",
              "    </tr>\n",
              "    <tr>\n",
              "      <th>PC2</th>\n",
              "      <td>0.058276</td>\n",
              "      <td>0.060343</td>\n",
              "      <td>0.152647</td>\n",
              "      <td>-0.544356</td>\n",
              "      <td>0.031095</td>\n",
              "      <td>0.037906</td>\n",
              "      <td>0.238096</td>\n",
              "      <td>-0.231528</td>\n",
              "      <td>-0.247193</td>\n",
              "      <td>-0.208983</td>\n",
              "      <td>0.144790</td>\n",
              "      <td>0.659468</td>\n",
              "    </tr>\n",
              "  </tbody>\n",
              "</table>\n",
              "</div>\n",
              "      <button class=\"colab-df-convert\" onclick=\"convertToInteractive('df-c86d6c29-f9e4-44b5-ba34-18e1fae788c7')\"\n",
              "              title=\"Convert this dataframe to an interactive table.\"\n",
              "              style=\"display:none;\">\n",
              "        \n",
              "  <svg xmlns=\"http://www.w3.org/2000/svg\" height=\"24px\"viewBox=\"0 0 24 24\"\n",
              "       width=\"24px\">\n",
              "    <path d=\"M0 0h24v24H0V0z\" fill=\"none\"/>\n",
              "    <path d=\"M18.56 5.44l.94 2.06.94-2.06 2.06-.94-2.06-.94-.94-2.06-.94 2.06-2.06.94zm-11 1L8.5 8.5l.94-2.06 2.06-.94-2.06-.94L8.5 2.5l-.94 2.06-2.06.94zm10 10l.94 2.06.94-2.06 2.06-.94-2.06-.94-.94-2.06-.94 2.06-2.06.94z\"/><path d=\"M17.41 7.96l-1.37-1.37c-.4-.4-.92-.59-1.43-.59-.52 0-1.04.2-1.43.59L10.3 9.45l-7.72 7.72c-.78.78-.78 2.05 0 2.83L4 21.41c.39.39.9.59 1.41.59.51 0 1.02-.2 1.41-.59l7.78-7.78 2.81-2.81c.8-.78.8-2.07 0-2.86zM5.41 20L4 18.59l7.72-7.72 1.47 1.35L5.41 20z\"/>\n",
              "  </svg>\n",
              "      </button>\n",
              "      \n",
              "  <style>\n",
              "    .colab-df-container {\n",
              "      display:flex;\n",
              "      flex-wrap:wrap;\n",
              "      gap: 12px;\n",
              "    }\n",
              "\n",
              "    .colab-df-convert {\n",
              "      background-color: #E8F0FE;\n",
              "      border: none;\n",
              "      border-radius: 50%;\n",
              "      cursor: pointer;\n",
              "      display: none;\n",
              "      fill: #1967D2;\n",
              "      height: 32px;\n",
              "      padding: 0 0 0 0;\n",
              "      width: 32px;\n",
              "    }\n",
              "\n",
              "    .colab-df-convert:hover {\n",
              "      background-color: #E2EBFA;\n",
              "      box-shadow: 0px 1px 2px rgba(60, 64, 67, 0.3), 0px 1px 3px 1px rgba(60, 64, 67, 0.15);\n",
              "      fill: #174EA6;\n",
              "    }\n",
              "\n",
              "    [theme=dark] .colab-df-convert {\n",
              "      background-color: #3B4455;\n",
              "      fill: #D2E3FC;\n",
              "    }\n",
              "\n",
              "    [theme=dark] .colab-df-convert:hover {\n",
              "      background-color: #434B5C;\n",
              "      box-shadow: 0px 1px 3px 1px rgba(0, 0, 0, 0.15);\n",
              "      filter: drop-shadow(0px 1px 2px rgba(0, 0, 0, 0.3));\n",
              "      fill: #FFFFFF;\n",
              "    }\n",
              "  </style>\n",
              "\n",
              "      <script>\n",
              "        const buttonEl =\n",
              "          document.querySelector('#df-c86d6c29-f9e4-44b5-ba34-18e1fae788c7 button.colab-df-convert');\n",
              "        buttonEl.style.display =\n",
              "          google.colab.kernel.accessAllowed ? 'block' : 'none';\n",
              "\n",
              "        async function convertToInteractive(key) {\n",
              "          const element = document.querySelector('#df-c86d6c29-f9e4-44b5-ba34-18e1fae788c7');\n",
              "          const dataTable =\n",
              "            await google.colab.kernel.invokeFunction('convertToInteractive',\n",
              "                                                     [key], {});\n",
              "          if (!dataTable) return;\n",
              "\n",
              "          const docLinkHtml = 'Like what you see? Visit the ' +\n",
              "            '<a target=\"_blank\" href=https://colab.research.google.com/notebooks/data_table.ipynb>data table notebook</a>'\n",
              "            + ' to learn more about interactive tables.';\n",
              "          element.innerHTML = '';\n",
              "          dataTable['output_type'] = 'display_data';\n",
              "          await google.colab.output.renderOutput(dataTable, element);\n",
              "          const docLink = document.createElement('div');\n",
              "          docLink.innerHTML = docLinkHtml;\n",
              "          element.appendChild(docLink);\n",
              "        }\n",
              "      </script>\n",
              "    </div>\n",
              "  </div>\n",
              "  "
            ]
          },
          "metadata": {},
          "execution_count": 14
        }
      ]
    },
    {
      "cell_type": "code",
      "source": [
        "# 히트맵\n",
        "sns.heatmap(df3, cmap='coolwarm')"
      ],
      "metadata": {
        "colab": {
          "base_uri": "https://localhost:8080/",
          "height": 394
        },
        "id": "vozF_eV5WSdx",
        "outputId": "62d9e2da-008a-4f1c-9f07-ce3125e43925"
      },
      "execution_count": 15,
      "outputs": [
        {
          "output_type": "execute_result",
          "data": {
            "text/plain": [
              "<Axes: >"
            ]
          },
          "metadata": {},
          "execution_count": 15
        },
        {
          "output_type": "display_data",
          "data": {
            "text/plain": [
              "<Figure size 432x288 with 2 Axes>"
            ],
            "image/png": "[encoded data removed]"
          },
          "metadata": {
            "needs_background": "light"
          }
        }
      ]
    },
    {
      "cell_type": "markdown",
      "source": [
        "# 다차원 데이터 처리"
      ],
      "metadata": {
        "id": "VTu6PlhGXUtH"
      }
    },
    {
      "cell_type": "code",
      "source": [
        "anonymous = pd.read_csv('https://bit.ly/3Gl0qfO')\n",
        "anonymous"
      ],
      "metadata": {
        "colab": {
          "base_uri": "https://localhost:8080/",
          "height": 487
        },
        "id": "BT_1wPXUdyx_",
        "outputId": "cbb7ddfc-b593-4cd2-c5fa-8f0181a85e28"
      },
      "execution_count": 16,
      "outputs": [
        {
          "output_type": "execute_result",
          "data": {
            "text/plain": [
              "       class        V1        V2       V3   V4       V5      V6       V7  \\\n",
              "0          1  0.000000  0.000000  0.56758  0.0  0.00000  0.0000  0.00000   \n",
              "1          1  0.000000  0.000000  0.56758  0.0  0.00000  0.0000  0.00000   \n",
              "2          1  0.000000  0.000000  0.56758  0.0  0.00000  0.0000  0.00000   \n",
              "3          1  0.000000  0.000000  0.56758  0.0  0.00000  0.0000  0.00000   \n",
              "4          1  0.000000  0.000000  0.56758  0.0  0.00000  0.0000  0.00000   \n",
              "...      ...       ...       ...      ...  ...      ...     ...      ...   \n",
              "19995      0  0.003989  0.316790  0.00000  0.0  0.75463  0.0000  0.54697   \n",
              "19996      0  0.000000  2.601400  1.81890  0.0  0.00000  0.0000  0.25596   \n",
              "19997      0  0.000000  2.298500  0.95090  0.0  0.88928  0.0000  0.15201   \n",
              "19998      0  0.227150  0.049184  1.52300  0.0  1.44170  1.9881  0.57948   \n",
              "19999      0  0.000000  3.829800  0.00000  0.0  1.89840  0.0000  0.00000   \n",
              "\n",
              "             V8       V9  ...     V4287     V4288     V4289     V4290  \\\n",
              "0      0.825850  0.83788  ... -0.257770  0.122200  0.348620  0.129570   \n",
              "1      0.825850  0.83788  ... -0.153160  0.140620 -0.030201  0.101340   \n",
              "2      0.825850  0.83788  ... -0.401220  0.137900  0.138350  0.157460   \n",
              "3      0.825850  0.83788  ... -0.155870 -0.266860  0.158930 -0.132040   \n",
              "4      0.825850  0.83788  ...  0.240200  0.446050 -0.163560  0.453110   \n",
              "...         ...      ...  ...       ...       ...       ...       ...   \n",
              "19995  2.011200  0.00000  ... -0.091805 -0.032054  0.229830 -0.087756   \n",
              "19996  0.090454  0.00000  ... -0.369120 -0.384540  0.048926  0.383610   \n",
              "19997  0.000000  0.00000  ... -0.397390  0.317710 -0.215280  0.229490   \n",
              "19998  0.634800  0.00000  ... -0.368830 -0.271760 -0.006920 -0.235180   \n",
              "19999  0.000000  0.00000  ... -0.300460  0.252680 -0.038118 -0.067386   \n",
              "\n",
              "          V4291     V4292     V4293     V4294     V4295    V4296  \n",
              "0      0.438460 -0.108020  0.128330  0.318820 -0.041559  0.22589  \n",
              "1     -0.145460 -0.166650  0.401300  0.035392  0.019906  0.31952  \n",
              "2      0.512160 -0.330690  0.070346  0.179250 -0.188740  0.16386  \n",
              "3      0.322210 -0.042086  0.588970  0.526990 -0.574320  0.20891  \n",
              "4      0.590730  0.356800  0.395780  0.035871 -0.293430  0.38124  \n",
              "...         ...       ...       ...       ...       ...      ...  \n",
              "19995  0.276940 -0.322200 -0.053252 -0.156980 -0.043542  0.12565  \n",
              "19996  0.273910 -0.034337 -0.264020  0.016412  0.320100  0.25905  \n",
              "19997  0.190690  0.158690  0.185860  0.208300  0.082322  0.07128  \n",
              "19998  0.347830  0.534220  0.410420  0.172900 -0.204870  0.17142  \n",
              "19999  0.021725  0.170900  0.060645  0.257890 -0.237110  0.17635  \n",
              "\n",
              "[20000 rows x 4297 columns]"
            ],
            "text/html": [
              "\n",
              "  <div id=\"df-d15e94c4-8780-4bca-950a-63cecde0da01\">\n",
              "    <div class=\"colab-df-container\">\n",
              "      <div>\n",
              "<style scoped>\n",
              "    .dataframe tbody tr th:only-of-type {\n",
              "        vertical-align: middle;\n",
              "    }\n",
              "\n",
              "    .dataframe tbody tr th {\n",
              "        vertical-align: top;\n",
              "    }\n",
              "\n",
              "    .dataframe thead th {\n",
              "        text-align: right;\n",
              "    }\n",
              "</style>\n",
              "<table border=\"1\" class=\"dataframe\">\n",
              "  <thead>\n",
              "    <tr style=\"text-align: right;\">\n",
              "      <th></th>\n",
              "      <th>class</th>\n",
              "      <th>V1</th>\n",
              "      <th>V2</th>\n",
              "      <th>V3</th>\n",
              "      <th>V4</th>\n",
              "      <th>V5</th>\n",
              "      <th>V6</th>\n",
              "      <th>V7</th>\n",
              "      <th>V8</th>\n",
              "      <th>V9</th>\n",
              "      <th>...</th>\n",
              "      <th>V4287</th>\n",
              "      <th>V4288</th>\n",
              "      <th>V4289</th>\n",
              "      <th>V4290</th>\n",
              "      <th>V4291</th>\n",
              "      <th>V4292</th>\n",
              "      <th>V4293</th>\n",
              "      <th>V4294</th>\n",
              "      <th>V4295</th>\n",
              "      <th>V4296</th>\n",
              "    </tr>\n",
              "  </thead>\n",
              "  <tbody>\n",
              "    <tr>\n",
              "      <th>0</th>\n",
              "      <td>1</td>\n",
              "      <td>0.000000</td>\n",
              "      <td>0.000000</td>\n",
              "      <td>0.56758</td>\n",
              "      <td>0.0</td>\n",
              "      <td>0.00000</td>\n",
              "      <td>0.0000</td>\n",
              "      <td>0.00000</td>\n",
              "      <td>0.825850</td>\n",
              "      <td>0.83788</td>\n",
              "      <td>...</td>\n",
              "      <td>-0.257770</td>\n",
              "      <td>0.122200</td>\n",
              "      <td>0.348620</td>\n",
              "      <td>0.129570</td>\n",
              "      <td>0.438460</td>\n",
              "      <td>-0.108020</td>\n",
              "      <td>0.128330</td>\n",
              "      <td>0.318820</td>\n",
              "      <td>-0.041559</td>\n",
              "      <td>0.22589</td>\n",
              "    </tr>\n",
              "    <tr>\n",
              "      <th>1</th>\n",
              "      <td>1</td>\n",
              "      <td>0.000000</td>\n",
              "      <td>0.000000</td>\n",
              "      <td>0.56758</td>\n",
              "      <td>0.0</td>\n",
              "      <td>0.00000</td>\n",
              "      <td>0.0000</td>\n",
              "      <td>0.00000</td>\n",
              "      <td>0.825850</td>\n",
              "      <td>0.83788</td>\n",
              "      <td>...</td>\n",
              "      <td>-0.153160</td>\n",
              "      <td>0.140620</td>\n",
              "      <td>-0.030201</td>\n",
              "      <td>0.101340</td>\n",
              "      <td>-0.145460</td>\n",
              "      <td>-0.166650</td>\n",
              "      <td>0.401300</td>\n",
              "      <td>0.035392</td>\n",
              "      <td>0.019906</td>\n",
              "      <td>0.31952</td>\n",
              "    </tr>\n",
              "    <tr>\n",
              "      <th>2</th>\n",
              "      <td>1</td>\n",
              "      <td>0.000000</td>\n",
              "      <td>0.000000</td>\n",
              "      <td>0.56758</td>\n",
              "      <td>0.0</td>\n",
              "      <td>0.00000</td>\n",
              "      <td>0.0000</td>\n",
              "      <td>0.00000</td>\n",
              "      <td>0.825850</td>\n",
              "      <td>0.83788</td>\n",
              "      <td>...</td>\n",
              "      <td>-0.401220</td>\n",
              "      <td>0.137900</td>\n",
              "      <td>0.138350</td>\n",
              "      <td>0.157460</td>\n",
              "      <td>0.512160</td>\n",
              "      <td>-0.330690</td>\n",
              "      <td>0.070346</td>\n",
              "      <td>0.179250</td>\n",
              "      <td>-0.188740</td>\n",
              "      <td>0.16386</td>\n",
              "    </tr>\n",
              "    <tr>\n",
              "      <th>3</th>\n",
              "      <td>1</td>\n",
              "      <td>0.000000</td>\n",
              "      <td>0.000000</td>\n",
              "      <td>0.56758</td>\n",
              "      <td>0.0</td>\n",
              "      <td>0.00000</td>\n",
              "      <td>0.0000</td>\n",
              "      <td>0.00000</td>\n",
              "      <td>0.825850</td>\n",
              "      <td>0.83788</td>\n",
              "      <td>...</td>\n",
              "      <td>-0.155870</td>\n",
              "      <td>-0.266860</td>\n",
              "      <td>0.158930</td>\n",
              "      <td>-0.132040</td>\n",
              "      <td>0.322210</td>\n",
              "      <td>-0.042086</td>\n",
              "      <td>0.588970</td>\n",
              "      <td>0.526990</td>\n",
              "      <td>-0.574320</td>\n",
              "      <td>0.20891</td>\n",
              "    </tr>\n",
              "    <tr>\n",
              "      <th>4</th>\n",
              "      <td>1</td>\n",
              "      <td>0.000000</td>\n",
              "      <td>0.000000</td>\n",
              "      <td>0.56758</td>\n",
              "      <td>0.0</td>\n",
              "      <td>0.00000</td>\n",
              "      <td>0.0000</td>\n",
              "      <td>0.00000</td>\n",
              "      <td>0.825850</td>\n",
              "      <td>0.83788</td>\n",
              "      <td>...</td>\n",
              "      <td>0.240200</td>\n",
              "      <td>0.446050</td>\n",
              "      <td>-0.163560</td>\n",
              "      <td>0.453110</td>\n",
              "      <td>0.590730</td>\n",
              "      <td>0.356800</td>\n",
              "      <td>0.395780</td>\n",
              "      <td>0.035871</td>\n",
              "      <td>-0.293430</td>\n",
              "      <td>0.38124</td>\n",
              "    </tr>\n",
              "    <tr>\n",
              "      <th>...</th>\n",
              "      <td>...</td>\n",
              "      <td>...</td>\n",
              "      <td>...</td>\n",
              "      <td>...</td>\n",
              "      <td>...</td>\n",
              "      <td>...</td>\n",
              "      <td>...</td>\n",
              "      <td>...</td>\n",
              "      <td>...</td>\n",
              "      <td>...</td>\n",
              "      <td>...</td>\n",
              "      <td>...</td>\n",
              "      <td>...</td>\n",
              "      <td>...</td>\n",
              "      <td>...</td>\n",
              "      <td>...</td>\n",
              "      <td>...</td>\n",
              "      <td>...</td>\n",
              "      <td>...</td>\n",
              "      <td>...</td>\n",
              "      <td>...</td>\n",
              "    </tr>\n",
              "    <tr>\n",
              "      <th>19995</th>\n",
              "      <td>0</td>\n",
              "      <td>0.003989</td>\n",
              "      <td>0.316790</td>\n",
              "      <td>0.00000</td>\n",
              "      <td>0.0</td>\n",
              "      <td>0.75463</td>\n",
              "      <td>0.0000</td>\n",
              "      <td>0.54697</td>\n",
              "      <td>2.011200</td>\n",
              "      <td>0.00000</td>\n",
              "      <td>...</td>\n",
              "      <td>-0.091805</td>\n",
              "      <td>-0.032054</td>\n",
              "      <td>0.229830</td>\n",
              "      <td>-0.087756</td>\n",
              "      <td>0.276940</td>\n",
              "      <td>-0.322200</td>\n",
              "      <td>-0.053252</td>\n",
              "      <td>-0.156980</td>\n",
              "      <td>-0.043542</td>\n",
              "      <td>0.12565</td>\n",
              "    </tr>\n",
              "    <tr>\n",
              "      <th>19996</th>\n",
              "      <td>0</td>\n",
              "      <td>0.000000</td>\n",
              "      <td>2.601400</td>\n",
              "      <td>1.81890</td>\n",
              "      <td>0.0</td>\n",
              "      <td>0.00000</td>\n",
              "      <td>0.0000</td>\n",
              "      <td>0.25596</td>\n",
              "      <td>0.090454</td>\n",
              "      <td>0.00000</td>\n",
              "      <td>...</td>\n",
              "      <td>-0.369120</td>\n",
              "      <td>-0.384540</td>\n",
              "      <td>0.048926</td>\n",
              "      <td>0.383610</td>\n",
              "      <td>0.273910</td>\n",
              "      <td>-0.034337</td>\n",
              "      <td>-0.264020</td>\n",
              "      <td>0.016412</td>\n",
              "      <td>0.320100</td>\n",
              "      <td>0.25905</td>\n",
              "    </tr>\n",
              "    <tr>\n",
              "      <th>19997</th>\n",
              "      <td>0</td>\n",
              "      <td>0.000000</td>\n",
              "      <td>2.298500</td>\n",
              "      <td>0.95090</td>\n",
              "      <td>0.0</td>\n",
              "      <td>0.88928</td>\n",
              "      <td>0.0000</td>\n",
              "      <td>0.15201</td>\n",
              "      <td>0.000000</td>\n",
              "      <td>0.00000</td>\n",
              "      <td>...</td>\n",
              "      <td>-0.397390</td>\n",
              "      <td>0.317710</td>\n",
              "      <td>-0.215280</td>\n",
              "      <td>0.229490</td>\n",
              "      <td>0.190690</td>\n",
              "      <td>0.158690</td>\n",
              "      <td>0.185860</td>\n",
              "      <td>0.208300</td>\n",
              "      <td>0.082322</td>\n",
              "      <td>0.07128</td>\n",
              "    </tr>\n",
              "    <tr>\n",
              "      <th>19998</th>\n",
              "      <td>0</td>\n",
              "      <td>0.227150</td>\n",
              "      <td>0.049184</td>\n",
              "      <td>1.52300</td>\n",
              "      <td>0.0</td>\n",
              "      <td>1.44170</td>\n",
              "      <td>1.9881</td>\n",
              "      <td>0.57948</td>\n",
              "      <td>0.634800</td>\n",
              "      <td>0.00000</td>\n",
              "      <td>...</td>\n",
              "      <td>-0.368830</td>\n",
              "      <td>-0.271760</td>\n",
              "      <td>-0.006920</td>\n",
              "      <td>-0.235180</td>\n",
              "      <td>0.347830</td>\n",
              "      <td>0.534220</td>\n",
              "      <td>0.410420</td>\n",
              "      <td>0.172900</td>\n",
              "      <td>-0.204870</td>\n",
              "      <td>0.17142</td>\n",
              "    </tr>\n",
              "    <tr>\n",
              "      <th>19999</th>\n",
              "      <td>0</td>\n",
              "      <td>0.000000</td>\n",
              "      <td>3.829800</td>\n",
              "      <td>0.00000</td>\n",
              "      <td>0.0</td>\n",
              "      <td>1.89840</td>\n",
              "      <td>0.0000</td>\n",
              "      <td>0.00000</td>\n",
              "      <td>0.000000</td>\n",
              "      <td>0.00000</td>\n",
              "      <td>...</td>\n",
              "      <td>-0.300460</td>\n",
              "      <td>0.252680</td>\n",
              "      <td>-0.038118</td>\n",
              "      <td>-0.067386</td>\n",
              "      <td>0.021725</td>\n",
              "      <td>0.170900</td>\n",
              "      <td>0.060645</td>\n",
              "      <td>0.257890</td>\n",
              "      <td>-0.237110</td>\n",
              "      <td>0.17635</td>\n",
              "    </tr>\n",
              "  </tbody>\n",
              "</table>\n",
              "<p>20000 rows × 4297 columns</p>\n",
              "</div>\n",
              "      <button class=\"colab-df-convert\" onclick=\"convertToInteractive('df-d15e94c4-8780-4bca-950a-63cecde0da01')\"\n",
              "              title=\"Convert this dataframe to an interactive table.\"\n",
              "              style=\"display:none;\">\n",
              "        \n",
              "  <svg xmlns=\"http://www.w3.org/2000/svg\" height=\"24px\"viewBox=\"0 0 24 24\"\n",
              "       width=\"24px\">\n",
              "    <path d=\"M0 0h24v24H0V0z\" fill=\"none\"/>\n",
              "    <path d=\"M18.56 5.44l.94 2.06.94-2.06 2.06-.94-2.06-.94-.94-2.06-.94 2.06-2.06.94zm-11 1L8.5 8.5l.94-2.06 2.06-.94-2.06-.94L8.5 2.5l-.94 2.06-2.06.94zm10 10l.94 2.06.94-2.06 2.06-.94-2.06-.94-.94-2.06-.94 2.06-2.06.94z\"/><path d=\"M17.41 7.96l-1.37-1.37c-.4-.4-.92-.59-1.43-.59-.52 0-1.04.2-1.43.59L10.3 9.45l-7.72 7.72c-.78.78-.78 2.05 0 2.83L4 21.41c.39.39.9.59 1.41.59.51 0 1.02-.2 1.41-.59l7.78-7.78 2.81-2.81c.8-.78.8-2.07 0-2.86zM5.41 20L4 18.59l7.72-7.72 1.47 1.35L5.41 20z\"/>\n",
              "  </svg>\n",
              "      </button>\n",
              "      \n",
              "  <style>\n",
              "    .colab-df-container {\n",
              "      display:flex;\n",
              "      flex-wrap:wrap;\n",
              "      gap: 12px;\n",
              "    }\n",
              "\n",
              "    .colab-df-convert {\n",
              "      background-color: #E8F0FE;\n",
              "      border: none;\n",
              "      border-radius: 50%;\n",
              "      cursor: pointer;\n",
              "      display: none;\n",
              "      fill: #1967D2;\n",
              "      height: 32px;\n",
              "      padding: 0 0 0 0;\n",
              "      width: 32px;\n",
              "    }\n",
              "\n",
              "    .colab-df-convert:hover {\n",
              "      background-color: #E2EBFA;\n",
              "      box-shadow: 0px 1px 2px rgba(60, 64, 67, 0.3), 0px 1px 3px 1px rgba(60, 64, 67, 0.15);\n",
              "      fill: #174EA6;\n",
              "    }\n",
              "\n",
              "    [theme=dark] .colab-df-convert {\n",
              "      background-color: #3B4455;\n",
              "      fill: #D2E3FC;\n",
              "    }\n",
              "\n",
              "    [theme=dark] .colab-df-convert:hover {\n",
              "      background-color: #434B5C;\n",
              "      box-shadow: 0px 1px 3px 1px rgba(0, 0, 0, 0.15);\n",
              "      filter: drop-shadow(0px 1px 2px rgba(0, 0, 0, 0.3));\n",
              "      fill: #FFFFFF;\n",
              "    }\n",
              "  </style>\n",
              "\n",
              "      <script>\n",
              "        const buttonEl =\n",
              "          document.querySelector('#df-d15e94c4-8780-4bca-950a-63cecde0da01 button.colab-df-convert');\n",
              "        buttonEl.style.display =\n",
              "          google.colab.kernel.accessAllowed ? 'block' : 'none';\n",
              "\n",
              "        async function convertToInteractive(key) {\n",
              "          const element = document.querySelector('#df-d15e94c4-8780-4bca-950a-63cecde0da01');\n",
              "          const dataTable =\n",
              "            await google.colab.kernel.invokeFunction('convertToInteractive',\n",
              "                                                     [key], {});\n",
              "          if (!dataTable) return;\n",
              "\n",
              "          const docLinkHtml = 'Like what you see? Visit the ' +\n",
              "            '<a target=\"_blank\" href=https://colab.research.google.com/notebooks/data_table.ipynb>data table notebook</a>'\n",
              "            + ' to learn more about interactive tables.';\n",
              "          element.innerHTML = '';\n",
              "          dataTable['output_type'] = 'display_data';\n",
              "          await google.colab.output.renderOutput(dataTable, element);\n",
              "          const docLink = document.createElement('div');\n",
              "          docLink.innerHTML = docLinkHtml;\n",
              "          element.appendChild(docLink);\n",
              "        }\n",
              "      </script>\n",
              "    </div>\n",
              "  </div>\n",
              "  "
            ]
          },
          "metadata": {},
          "execution_count": 16
        }
      ]
    },
    {
      "cell_type": "code",
      "source": [
        "# anonymous['class']\n",
        "anonymous['class'].value_counts()"
      ],
      "metadata": {
        "colab": {
          "base_uri": "https://localhost:8080/"
        },
        "id": "nfSnxAaIeE4H",
        "outputId": "79929353-c49e-413e-b92d-c41c4b9262d1"
      },
      "execution_count": 17,
      "outputs": [
        {
          "output_type": "execute_result",
          "data": {
            "text/plain": [
              "0    15000\n",
              "1     5000\n",
              "Name: class, dtype: int64"
            ]
          },
          "metadata": {},
          "execution_count": 17
        }
      ]
    },
    {
      "cell_type": "code",
      "source": [
        "# anonymous.isna().sum()\n",
        "anonymous.isna().sum().sum()"
      ],
      "metadata": {
        "colab": {
          "base_uri": "https://localhost:8080/"
        },
        "id": "IRpTv0zbeRS6",
        "outputId": "e5e7b175-a355-4ffc-bb52-0a90d2e2ad99"
      },
      "execution_count": 18,
      "outputs": [
        {
          "output_type": "execute_result",
          "data": {
            "text/plain": [
              "0"
            ]
          },
          "metadata": {},
          "execution_count": 18
        }
      ]
    },
    {
      "cell_type": "markdown",
      "source": [
        "# PCA에 따른 모델링 성능/결과 비교"
      ],
      "metadata": {
        "id": "FqBaE-r0eqc4"
      }
    },
    {
      "cell_type": "markdown",
      "source": [
        "## PCA X"
      ],
      "metadata": {
        "id": "YidLpA-whvOd"
      }
    },
    {
      "cell_type": "code",
      "source": [
        "# 훈련셋/시험셋\n",
        "from sklearn.model_selection import train_test_split\n",
        "X_train, X_test, y_train, y_test = train_test_split(\n",
        "    anonymous.drop('class', axis=1), # X\n",
        "    anonymous['class'], # y\n",
        "    test_size=0.2,\n",
        "    random_state=23\n",
        ")"
      ],
      "metadata": {
        "id": "WzVG6RGBek_-"
      },
      "execution_count": 21,
      "outputs": []
    },
    {
      "cell_type": "code",
      "source": [
        "# 스케일링 작업\n",
        "from sklearn.preprocessing import StandardScaler\n",
        "\n",
        "scaler = StandardScaler()\n",
        "scaler.fit(X_train)\n",
        "# 훈련셋 -> 훈련셋 스케일링\n",
        "X_train_scaled = scaler.transform(X_train)\n",
        "# (모델링 훈련된 건 훈련셋 기준이기 때문에 스케일링 기준도 훈련셋)\n",
        "# 훈련셋 -> 시험셋 스케일링 \n",
        "X_test_scaled = scaler.transform(X_test)\n",
        "# ---\n",
        "# X_train에 대한 학습 및 변환\n",
        "# 이미 학습된 X_train을 바탕으로 X_test를 학습"
      ],
      "metadata": {
        "id": "0BoWMSIafGrO"
      },
      "execution_count": 22,
      "outputs": []
    },
    {
      "cell_type": "code",
      "source": [
        "# 모델링 (랜덤포레스트)\n",
        "from sklearn.ensemble import RandomForestClassifier # class -> 1,0 이진분류\n",
        "\n",
        "model_1 = RandomForestClassifier(random_state=23)"
      ],
      "metadata": {
        "id": "mWgKZdp-fzIq"
      },
      "execution_count": 23,
      "outputs": []
    },
    {
      "cell_type": "code",
      "source": [
        "# 시간측정 (PCA을 안한 원본 데이터 학습 속도)\n",
        "import time\n",
        "start_time = time.time()\n",
        "model_1.fit(X_train_scaled, y_train)\n",
        "print(time.time() - start_time)"
      ],
      "metadata": {
        "colab": {
          "base_uri": "https://localhost:8080/"
        },
        "id": "TSPuBPNHgIEx",
        "outputId": "2e7c0e4d-770b-4779-c097-5ed9ffe21bfa"
      },
      "execution_count": 24,
      "outputs": [
        {
          "output_type": "stream",
          "name": "stdout",
          "text": [
            "126.3411762714386\n"
          ]
        }
      ]
    },
    {
      "cell_type": "code",
      "source": [
        "# 모델 평가\n",
        "from sklearn.metrics import accuracy_score, roc_auc_score\n",
        "\n",
        "# 첫번째 모델을 통한 예측값\n",
        "pred_1 = model_1.predict(X_test_scaled)\n",
        "accuracy_score(y_test, pred_1) # 정확도, 일치도\n",
        "# 0.75"
      ],
      "metadata": {
        "colab": {
          "base_uri": "https://localhost:8080/"
        },
        "id": "RftgVyywgXTB",
        "outputId": "e04c8952-9e3f-4c8a-b1aa-ff2a175ac999"
      },
      "execution_count": 25,
      "outputs": [
        {
          "output_type": "execute_result",
          "data": {
            "text/plain": [
              "0.95525"
            ]
          },
          "metadata": {},
          "execution_count": 25
        }
      ]
    },
    {
      "cell_type": "code",
      "source": [
        "# '1'으로 분류할 확률값\n",
        "proba_1 = model_1.predict_proba(X_test_scaled) # 1번째 열들만 선택\n",
        "# proba_1[:, 1] -> : - 모든 행 / 1 - 열의 인덱스\n",
        "roc_auc_score(y_test, proba_1[:, 1])"
      ],
      "metadata": {
        "colab": {
          "base_uri": "https://localhost:8080/"
        },
        "id": "LSFk3wk-hYtg",
        "outputId": "71aec30b-fff4-40a7-e577-7dbe778e9b15"
      },
      "execution_count": 26,
      "outputs": [
        {
          "output_type": "execute_result",
          "data": {
            "text/plain": [
              "0.9967081026539351"
            ]
          },
          "metadata": {},
          "execution_count": 26
        }
      ]
    },
    {
      "cell_type": "markdown",
      "source": [
        "## PCA O"
      ],
      "metadata": {
        "id": "wX3ZCj1rhyEz"
      }
    },
    {
      "cell_type": "code",
      "source": [
        "pca = PCA(n_components=2) # 2차원으로 축소 (주성분 2개)\n",
        "pca.fit(X_train_scaled)# 스케일링한 독립변수들을 가진 훈련셋 데이터를..."
      ],
      "metadata": {
        "colab": {
          "base_uri": "https://localhost:8080/",
          "height": 74
        },
        "id": "p4tWs6xqh0Oz",
        "outputId": "362feaee-0a4f-4c2c-f941-61f75d8ba1cd"
      },
      "execution_count": 27,
      "outputs": [
        {
          "output_type": "execute_result",
          "data": {
            "text/plain": [
              "PCA(n_components=2)"
            ],
            "text/html": [
              "<style>#sk-container-id-1 {color: black;background-color: white;}#sk-container-id-1 pre{padding: 0;}#sk-container-id-1 div.sk-toggleable {background-color: white;}#sk-container-id-1 label.sk-toggleable__label {cursor: pointer;display: block;width: 100%;margin-bottom: 0;padding: 0.3em;box-sizing: border-box;text-align: center;}#sk-container-id-1 label.sk-toggleable__label-arrow:before {content: \"▸\";float: left;margin-right: 0.25em;color: #696969;}#sk-container-id-1 label.sk-toggleable__label-arrow:hover:before {color: black;}#sk-container-id-1 div.sk-estimator:hover label.sk-toggleable__label-arrow:before {color: black;}#sk-container-id-1 div.sk-toggleable__content {max-height: 0;max-width: 0;overflow: hidden;text-align: left;background-color: #f0f8ff;}#sk-container-id-1 div.sk-toggleable__content pre {margin: 0.2em;color: black;border-radius: 0.25em;background-color: #f0f8ff;}#sk-container-id-1 input.sk-toggleable__control:checked~div.sk-toggleable__content {max-height: 200px;max-width: 100%;overflow: auto;}#sk-container-id-1 input.sk-toggleable__control:checked~label.sk-toggleable__label-arrow:before {content: \"▾\";}#sk-container-id-1 div.sk-estimator input.sk-toggleable__control:checked~label.sk-toggleable__label {background-color: #d4ebff;}#sk-container-id-1 div.sk-label input.sk-toggleable__control:checked~label.sk-toggleable__label {background-color: #d4ebff;}#sk-container-id-1 input.sk-hidden--visually {border: 0;clip: rect(1px 1px 1px 1px);clip: rect(1px, 1px, 1px, 1px);height: 1px;margin: -1px;overflow: hidden;padding: 0;position: absolute;width: 1px;}#sk-container-id-1 div.sk-estimator {font-family: monospace;background-color: #f0f8ff;border: 1px dotted black;border-radius: 0.25em;box-sizing: border-box;margin-bottom: 0.5em;}#sk-container-id-1 div.sk-estimator:hover {background-color: #d4ebff;}#sk-container-id-1 div.sk-parallel-item::after {content: \"\";width: 100%;border-bottom: 1px solid gray;flex-grow: 1;}#sk-container-id-1 div.sk-label:hover label.sk-toggleable__label {background-color: #d4ebff;}#sk-container-id-1 div.sk-serial::before {content: \"\";position: absolute;border-left: 1px solid gray;box-sizing: border-box;top: 0;bottom: 0;left: 50%;z-index: 0;}#sk-container-id-1 div.sk-serial {display: flex;flex-direction: column;align-items: center;background-color: white;padding-right: 0.2em;padding-left: 0.2em;position: relative;}#sk-container-id-1 div.sk-item {position: relative;z-index: 1;}#sk-container-id-1 div.sk-parallel {display: flex;align-items: stretch;justify-content: center;background-color: white;position: relative;}#sk-container-id-1 div.sk-item::before, #sk-container-id-1 div.sk-parallel-item::before {content: \"\";position: absolute;border-left: 1px solid gray;box-sizing: border-box;top: 0;bottom: 0;left: 50%;z-index: -1;}#sk-container-id-1 div.sk-parallel-item {display: flex;flex-direction: column;z-index: 1;position: relative;background-color: white;}#sk-container-id-1 div.sk-parallel-item:first-child::after {align-self: flex-end;width: 50%;}#sk-container-id-1 div.sk-parallel-item:last-child::after {align-self: flex-start;width: 50%;}#sk-container-id-1 div.sk-parallel-item:only-child::after {width: 0;}#sk-container-id-1 div.sk-dashed-wrapped {border: 1px dashed gray;margin: 0 0.4em 0.5em 0.4em;box-sizing: border-box;padding-bottom: 0.4em;background-color: white;}#sk-container-id-1 div.sk-label label {font-family: monospace;font-weight: bold;display: inline-block;line-height: 1.2em;}#sk-container-id-1 div.sk-label-container {text-align: center;}#sk-container-id-1 div.sk-container {/* jupyter's `normalize.less` sets `[hidden] { display: none; }` but bootstrap.min.css set `[hidden] { display: none !important; }` so we also need the `!important` here to be able to override the default hidden behavior on the sphinx rendered scikit-learn.org. See: https://github.com/scikit-learn/scikit-learn/issues/21755 */display: inline-block !important;position: relative;}#sk-container-id-1 div.sk-text-repr-fallback {display: none;}</style><div id=\"sk-container-id-1\" class=\"sk-top-container\"><div class=\"sk-text-repr-fallback\"><pre>PCA(n_components=2)</pre><b>In a Jupyter environment, please rerun this cell to show the HTML representation or trust the notebook. <br />On GitHub, the HTML representation is unable to render, please try loading this page with nbviewer.org.</b></div><div class=\"sk-container\" hidden><div class=\"sk-item\"><div class=\"sk-estimator sk-toggleable\"><input class=\"sk-toggleable__control sk-hidden--visually\" id=\"sk-estimator-id-1\" type=\"checkbox\" checked><label for=\"sk-estimator-id-1\" class=\"sk-toggleable__label sk-toggleable__label-arrow\">PCA</label><div class=\"sk-toggleable__content\"><pre>PCA(n_components=2)</pre></div></div></div></div></div>"
            ]
          },
          "metadata": {},
          "execution_count": 27
        }
      ]
    },
    {
      "cell_type": "code",
      "source": [
        "# explained_variance_ratio_ : 기존 변수들의 분산을 (새롭게 만든) 주성분이 어느 비율로 설명(나타내 주고 있는지)해주고 있는지\n",
        "pca.explained_variance_ratio_# 기본 변수들을 얼마 정도 반영하였냐 -> 0.08? 100% -> 8% 밖에 설명을 못해주고 있음"
      ],
      "metadata": {
        "colab": {
          "base_uri": "https://localhost:8080/"
        },
        "id": "Sg-yb6uyiCb5",
        "outputId": "928a3e4f-2fed-4b67-94fa-92bd04057bff"
      },
      "execution_count": 44,
      "outputs": [
        {
          "output_type": "execute_result",
          "data": {
            "text/plain": [
              "array([0.06117381, 0.04073396, 0.03548429, 0.03164448, 0.02767855,\n",
              "       0.02369079, 0.02086305, 0.01966472, 0.01817575, 0.01670769,\n",
              "       0.01613372, 0.01535047, 0.01402847, 0.01368887, 0.01338732,\n",
              "       0.01264791, 0.01213306, 0.01112376, 0.01087692, 0.01040974,\n",
              "       0.00999974, 0.00975442, 0.00925988, 0.00888867, 0.00861074,\n",
              "       0.00827748, 0.00816303, 0.00778196, 0.00761516, 0.00741726,\n",
              "       0.0071377 , 0.00703397, 0.00681648, 0.00660365, 0.00644595,\n",
              "       0.00626374, 0.00614692, 0.00605504, 0.00586816, 0.00572537,\n",
              "       0.00563283, 0.00537481, 0.00528518, 0.00521511, 0.00503165,\n",
              "       0.00495881, 0.00485321, 0.00464498, 0.0046406 , 0.0045825 ,\n",
              "       0.00447156, 0.00433448, 0.00428225, 0.00411571, 0.00409731,\n",
              "       0.00399297, 0.0039645 , 0.00390237, 0.00380143, 0.00374979,\n",
              "       0.0036782 , 0.00350941, 0.00345614, 0.00337988, 0.00331213,\n",
              "       0.00325462, 0.00322047, 0.00317518, 0.00309738, 0.0030726 ,\n",
              "       0.0030369 , 0.00298147, 0.00292053, 0.00288409, 0.00280775,\n",
              "       0.00279356, 0.00276013, 0.00274297, 0.00265607, 0.00259768,\n",
              "       0.00255981, 0.00251777, 0.00249645, 0.00248645, 0.00247253,\n",
              "       0.00245504, 0.00235983, 0.00231398, 0.00228917, 0.00225013,\n",
              "       0.00221683, 0.00216962, 0.00213893, 0.00210014, 0.00209326,\n",
              "       0.0020546 , 0.00205052, 0.00200803, 0.00199844, 0.0019519 ,\n",
              "       0.00194763, 0.00190077, 0.00187891, 0.00187012, 0.00183477,\n",
              "       0.00182445, 0.00180572, 0.00177008, 0.00175738, 0.00173865,\n",
              "       0.00172991, 0.0017079 , 0.00167097, 0.00165757, 0.00164061,\n",
              "       0.00163146, 0.00160949, 0.00159568, 0.00157211, 0.00155681,\n",
              "       0.00154475, 0.00153123, 0.0015185 , 0.00150279, 0.00148449,\n",
              "       0.00146582, 0.00145731, 0.00143712, 0.00141865, 0.0014135 ,\n",
              "       0.00140707, 0.0013873 , 0.0013735 , 0.00136209, 0.00135566,\n",
              "       0.00134984, 0.0013311 , 0.00132572, 0.00131944, 0.00129726,\n",
              "       0.00129545, 0.00127321, 0.0012579 , 0.00124983, 0.00124549,\n",
              "       0.00122193, 0.0012148 , 0.00121447, 0.00120086, 0.00118837,\n",
              "       0.00117566, 0.00117042, 0.00116511, 0.00114348, 0.00114178,\n",
              "       0.00112324, 0.00111682, 0.00111252, 0.00109478, 0.00108434,\n",
              "       0.00107857, 0.0010709 , 0.00106574, 0.00105475, 0.00104694,\n",
              "       0.00104292, 0.00103034, 0.00102559, 0.0010125 , 0.00100968,\n",
              "       0.00099758, 0.00099293, 0.00098277, 0.00097138, 0.00096742,\n",
              "       0.00095141, 0.00094516, 0.00094055, 0.00093481, 0.0009262 ,\n",
              "       0.00092357, 0.00091816, 0.00090644, 0.00090429, 0.00090109,\n",
              "       0.00089429, 0.00088363, 0.00087597, 0.00087257, 0.00086762,\n",
              "       0.00086105, 0.00085533, 0.00085255, 0.00084597, 0.00084017,\n",
              "       0.00083752, 0.00083242, 0.00082655, 0.00082619, 0.00082115,\n",
              "       0.00080912, 0.00080166, 0.00079508, 0.0007937 , 0.00078711,\n",
              "       0.00078262, 0.00078073, 0.00077184, 0.00076996, 0.00075975,\n",
              "       0.00075787, 0.0007533 , 0.00074984, 0.00074651, 0.00074576,\n",
              "       0.0007424 , 0.00074016, 0.00072786, 0.00072501, 0.00072059,\n",
              "       0.00071632, 0.00071445, 0.00071063, 0.00070504, 0.00070323,\n",
              "       0.00069616, 0.00069439, 0.00068908, 0.00068356, 0.00068091,\n",
              "       0.00067718, 0.00067525, 0.00066859, 0.00066668, 0.00066322,\n",
              "       0.00065952, 0.00065372, 0.00064968, 0.0006492 , 0.00064453,\n",
              "       0.00064128, 0.00063881, 0.00063514, 0.00063202, 0.00063075,\n",
              "       0.00062453, 0.00062169, 0.00062111, 0.00061734, 0.00061589,\n",
              "       0.00060978, 0.00060866, 0.0006053 , 0.00060391, 0.00060074,\n",
              "       0.00059948, 0.00059622, 0.00059268, 0.00058971, 0.00058785,\n",
              "       0.00058416, 0.00057885, 0.00057653, 0.00057447, 0.00057159,\n",
              "       0.00056976, 0.0005674 , 0.00056379, 0.00056123, 0.00055981,\n",
              "       0.00055518, 0.00055427, 0.00055143, 0.00054918, 0.00054701,\n",
              "       0.00054595, 0.00054357, 0.00053964, 0.00053762, 0.00053628,\n",
              "       0.00053397, 0.00053254, 0.00052986, 0.00052798, 0.0005231 ,\n",
              "       0.00052242, 0.00052138, 0.00051784, 0.00051725, 0.00051349,\n",
              "       0.00051254, 0.00050978, 0.0005066 , 0.00050444, 0.00050284,\n",
              "       0.00050093, 0.00049855, 0.00049796, 0.00049616, 0.00049299,\n",
              "       0.00049055, 0.00048757, 0.00048516, 0.00048211, 0.00048109,\n",
              "       0.00048015, 0.00047801, 0.0004778 , 0.00047698, 0.00047395,\n",
              "       0.00047244, 0.00047037, 0.00046762, 0.00046392, 0.00046345,\n",
              "       0.00046146, 0.00045853, 0.00045725, 0.00045631, 0.00045497,\n",
              "       0.00045327, 0.00045046, 0.00044786, 0.00044689, 0.0004448 ,\n",
              "       0.00044339, 0.00044218, 0.00044074, 0.00043899, 0.00043671,\n",
              "       0.00043647, 0.00043487, 0.0004329 , 0.00042945, 0.00042847,\n",
              "       0.00042809, 0.00042634, 0.00042408, 0.00042148, 0.00042057,\n",
              "       0.00041915, 0.00041759, 0.00041622, 0.00041595, 0.00041199,\n",
              "       0.00041132, 0.00040954, 0.00040814, 0.00040546, 0.00040467,\n",
              "       0.00040273, 0.00040035, 0.00039882, 0.00039723, 0.00039575,\n",
              "       0.00039405, 0.00039303, 0.00039144, 0.00039052, 0.00038956,\n",
              "       0.00038846, 0.00038727, 0.00038702, 0.00038453, 0.00038339,\n",
              "       0.00038182, 0.00038124, 0.00037787, 0.00037716, 0.00037666,\n",
              "       0.00037485, 0.00037295, 0.00037168, 0.0003687 , 0.00036823,\n",
              "       0.0003681 , 0.0003659 , 0.00036477, 0.00036304, 0.000362  ,\n",
              "       0.00036072, 0.0003585 , 0.00035581, 0.00035528, 0.00035246,\n",
              "       0.00035185, 0.00035103, 0.00034975, 0.00034869, 0.00034642,\n",
              "       0.0003455 , 0.00034384, 0.00034095, 0.00033991, 0.00033868,\n",
              "       0.00033597, 0.00033407, 0.000332  , 0.00033177, 0.00032998])"
            ]
          },
          "metadata": {},
          "execution_count": 44
        }
      ]
    },
    {
      "cell_type": "code",
      "source": [
        "# 적절한 주성분 갯수를 찾기 위해 반복문 사용 (엘보우 기법)\n",
        "var_ratio = [] # ratio를 받아줄 리스트\n",
        "for i in range(100, 550, 50): # 반복문\n",
        "    # 100, 150, 200, ...., 500\n",
        "    pca = PCA(n_components=i) # 주성분의 갯수 i\n",
        "    pca.fit_transform(X_train_scaled) # 훈련셋의 스케일링된 데이터 -> 학습 및 변환\n",
        "    ratio = pca.explained_variance_ratio_.sum() # 기존 변수에 대한 설명력\n",
        "    var_ratio.append(ratio)"
      ],
      "metadata": {
        "id": "Qd6YJYariwtx",
        "colab": {
          "base_uri": "https://localhost:8080/",
          "height": 397
        },
        "outputId": "ced8e032-0a13-4f6f-c8c6-9b8ab632185f"
      },
      "execution_count": 45,
      "outputs": [
        {
          "output_type": "error",
          "ename": "ValueError",
          "evalue": "ignored",
          "traceback": [
            "\u001b[0;31m---------------------------------------------------------------------------\u001b[0m",
            "\u001b[0;31mValueError\u001b[0m                                Traceback (most recent call last)",
            "\u001b[0;32m<ipython-input-45-f4e2f83371aa>\u001b[0m in \u001b[0;36m<module>\u001b[0;34m\u001b[0m\n\u001b[1;32m      4\u001b[0m     \u001b[0;31m# 100, 150, 200, ...., 500\u001b[0m\u001b[0;34m\u001b[0m\u001b[0;34m\u001b[0m\u001b[0m\n\u001b[1;32m      5\u001b[0m     \u001b[0mpca\u001b[0m \u001b[0;34m=\u001b[0m \u001b[0mPCA\u001b[0m\u001b[0;34m(\u001b[0m\u001b[0mn_components\u001b[0m\u001b[0;34m=\u001b[0m\u001b[0mi\u001b[0m\u001b[0;34m)\u001b[0m \u001b[0;31m# 주성분의 갯수 i\u001b[0m\u001b[0;34m\u001b[0m\u001b[0;34m\u001b[0m\u001b[0m\n\u001b[0;32m----> 6\u001b[0;31m     \u001b[0mpca\u001b[0m\u001b[0;34m.\u001b[0m\u001b[0mfit_transform\u001b[0m\u001b[0;34m(\u001b[0m\u001b[0mX_train_scaled\u001b[0m\u001b[0;34m)\u001b[0m \u001b[0;31m# 훈련셋의 스케일링된 데이터 -> 학습 및 변환\u001b[0m\u001b[0;34m\u001b[0m\u001b[0;34m\u001b[0m\u001b[0m\n\u001b[0m\u001b[1;32m      7\u001b[0m     \u001b[0mratio\u001b[0m \u001b[0;34m=\u001b[0m \u001b[0mpca\u001b[0m\u001b[0;34m.\u001b[0m\u001b[0mexplained_variance_ratio_\u001b[0m\u001b[0;34m.\u001b[0m\u001b[0msum\u001b[0m\u001b[0;34m(\u001b[0m\u001b[0;34m)\u001b[0m \u001b[0;31m# 기존 변수에 대한 설명력\u001b[0m\u001b[0;34m\u001b[0m\u001b[0;34m\u001b[0m\u001b[0m\n\u001b[1;32m      8\u001b[0m     \u001b[0mvar_ratio\u001b[0m\u001b[0;34m.\u001b[0m\u001b[0mappend\u001b[0m\u001b[0;34m(\u001b[0m\u001b[0mratio\u001b[0m\u001b[0;34m)\u001b[0m\u001b[0;34m\u001b[0m\u001b[0;34m\u001b[0m\u001b[0m\n",
            "\u001b[0;32m/usr/local/lib/python3.9/dist-packages/sklearn/utils/_set_output.py\u001b[0m in \u001b[0;36mwrapped\u001b[0;34m(self, X, *args, **kwargs)\u001b[0m\n\u001b[1;32m    138\u001b[0m     \u001b[0;34m@\u001b[0m\u001b[0mwraps\u001b[0m\u001b[0;34m(\u001b[0m\u001b[0mf\u001b[0m\u001b[0;34m)\u001b[0m\u001b[0;34m\u001b[0m\u001b[0;34m\u001b[0m\u001b[0m\n\u001b[1;32m    139\u001b[0m     \u001b[0;32mdef\u001b[0m \u001b[0mwrapped\u001b[0m\u001b[0;34m(\u001b[0m\u001b[0mself\u001b[0m\u001b[0;34m,\u001b[0m \u001b[0mX\u001b[0m\u001b[0;34m,\u001b[0m \u001b[0;34m*\u001b[0m\u001b[0margs\u001b[0m\u001b[0;34m,\u001b[0m \u001b[0;34m**\u001b[0m\u001b[0mkwargs\u001b[0m\u001b[0;34m)\u001b[0m\u001b[0;34m:\u001b[0m\u001b[0;34m\u001b[0m\u001b[0;34m\u001b[0m\u001b[0m\n\u001b[0;32m--> 140\u001b[0;31m         \u001b[0mdata_to_wrap\u001b[0m \u001b[0;34m=\u001b[0m \u001b[0mf\u001b[0m\u001b[0;34m(\u001b[0m\u001b[0mself\u001b[0m\u001b[0;34m,\u001b[0m \u001b[0mX\u001b[0m\u001b[0;34m,\u001b[0m \u001b[0;34m*\u001b[0m\u001b[0margs\u001b[0m\u001b[0;34m,\u001b[0m \u001b[0;34m**\u001b[0m\u001b[0mkwargs\u001b[0m\u001b[0;34m)\u001b[0m\u001b[0;34m\u001b[0m\u001b[0;34m\u001b[0m\u001b[0m\n\u001b[0m\u001b[1;32m    141\u001b[0m         \u001b[0;32mif\u001b[0m \u001b[0misinstance\u001b[0m\u001b[0;34m(\u001b[0m\u001b[0mdata_to_wrap\u001b[0m\u001b[0;34m,\u001b[0m \u001b[0mtuple\u001b[0m\u001b[0;34m)\u001b[0m\u001b[0;34m:\u001b[0m\u001b[0;34m\u001b[0m\u001b[0;34m\u001b[0m\u001b[0m\n\u001b[1;32m    142\u001b[0m             \u001b[0;31m# only wrap the first output for cross decomposition\u001b[0m\u001b[0;34m\u001b[0m\u001b[0;34m\u001b[0m\u001b[0m\n",
            "\u001b[0;32m/usr/local/lib/python3.9/dist-packages/sklearn/decomposition/_pca.py\u001b[0m in \u001b[0;36mfit_transform\u001b[0;34m(self, X, y)\u001b[0m\n\u001b[1;32m    460\u001b[0m         \u001b[0mself\u001b[0m\u001b[0;34m.\u001b[0m\u001b[0m_validate_params\u001b[0m\u001b[0;34m(\u001b[0m\u001b[0;34m)\u001b[0m\u001b[0;34m\u001b[0m\u001b[0;34m\u001b[0m\u001b[0m\n\u001b[1;32m    461\u001b[0m \u001b[0;34m\u001b[0m\u001b[0m\n\u001b[0;32m--> 462\u001b[0;31m         \u001b[0mU\u001b[0m\u001b[0;34m,\u001b[0m \u001b[0mS\u001b[0m\u001b[0;34m,\u001b[0m \u001b[0mVt\u001b[0m \u001b[0;34m=\u001b[0m \u001b[0mself\u001b[0m\u001b[0;34m.\u001b[0m\u001b[0m_fit\u001b[0m\u001b[0;34m(\u001b[0m\u001b[0mX\u001b[0m\u001b[0;34m)\u001b[0m\u001b[0;34m\u001b[0m\u001b[0;34m\u001b[0m\u001b[0m\n\u001b[0m\u001b[1;32m    463\u001b[0m         \u001b[0mU\u001b[0m \u001b[0;34m=\u001b[0m \u001b[0mU\u001b[0m\u001b[0;34m[\u001b[0m\u001b[0;34m:\u001b[0m\u001b[0;34m,\u001b[0m \u001b[0;34m:\u001b[0m \u001b[0mself\u001b[0m\u001b[0;34m.\u001b[0m\u001b[0mn_components_\u001b[0m\u001b[0;34m]\u001b[0m\u001b[0;34m\u001b[0m\u001b[0;34m\u001b[0m\u001b[0m\n\u001b[1;32m    464\u001b[0m \u001b[0;34m\u001b[0m\u001b[0m\n",
            "\u001b[0;32m/usr/local/lib/python3.9/dist-packages/sklearn/decomposition/_pca.py\u001b[0m in \u001b[0;36m_fit\u001b[0;34m(self, X)\u001b[0m\n\u001b[1;32m    510\u001b[0m         \u001b[0;31m# Call different fits for either full or truncated SVD\u001b[0m\u001b[0;34m\u001b[0m\u001b[0;34m\u001b[0m\u001b[0m\n\u001b[1;32m    511\u001b[0m         \u001b[0;32mif\u001b[0m \u001b[0mself\u001b[0m\u001b[0;34m.\u001b[0m\u001b[0m_fit_svd_solver\u001b[0m \u001b[0;34m==\u001b[0m \u001b[0;34m\"full\"\u001b[0m\u001b[0;34m:\u001b[0m\u001b[0;34m\u001b[0m\u001b[0;34m\u001b[0m\u001b[0m\n\u001b[0;32m--> 512\u001b[0;31m             \u001b[0;32mreturn\u001b[0m \u001b[0mself\u001b[0m\u001b[0;34m.\u001b[0m\u001b[0m_fit_full\u001b[0m\u001b[0;34m(\u001b[0m\u001b[0mX\u001b[0m\u001b[0;34m,\u001b[0m \u001b[0mn_components\u001b[0m\u001b[0;34m)\u001b[0m\u001b[0;34m\u001b[0m\u001b[0;34m\u001b[0m\u001b[0m\n\u001b[0m\u001b[1;32m    513\u001b[0m         \u001b[0;32melif\u001b[0m \u001b[0mself\u001b[0m\u001b[0;34m.\u001b[0m\u001b[0m_fit_svd_solver\u001b[0m \u001b[0;32min\u001b[0m \u001b[0;34m[\u001b[0m\u001b[0;34m\"arpack\"\u001b[0m\u001b[0;34m,\u001b[0m \u001b[0;34m\"randomized\"\u001b[0m\u001b[0;34m]\u001b[0m\u001b[0;34m:\u001b[0m\u001b[0;34m\u001b[0m\u001b[0;34m\u001b[0m\u001b[0m\n\u001b[1;32m    514\u001b[0m             \u001b[0;32mreturn\u001b[0m \u001b[0mself\u001b[0m\u001b[0;34m.\u001b[0m\u001b[0m_fit_truncated\u001b[0m\u001b[0;34m(\u001b[0m\u001b[0mX\u001b[0m\u001b[0;34m,\u001b[0m \u001b[0mn_components\u001b[0m\u001b[0;34m,\u001b[0m \u001b[0mself\u001b[0m\u001b[0;34m.\u001b[0m\u001b[0m_fit_svd_solver\u001b[0m\u001b[0;34m)\u001b[0m\u001b[0;34m\u001b[0m\u001b[0;34m\u001b[0m\u001b[0m\n",
            "\u001b[0;32m/usr/local/lib/python3.9/dist-packages/sklearn/decomposition/_pca.py\u001b[0m in \u001b[0;36m_fit_full\u001b[0;34m(self, X, n_components)\u001b[0m\n\u001b[1;32m    524\u001b[0m                 )\n\u001b[1;32m    525\u001b[0m         \u001b[0;32melif\u001b[0m \u001b[0;32mnot\u001b[0m \u001b[0;36m0\u001b[0m \u001b[0;34m<=\u001b[0m \u001b[0mn_components\u001b[0m \u001b[0;34m<=\u001b[0m \u001b[0mmin\u001b[0m\u001b[0;34m(\u001b[0m\u001b[0mn_samples\u001b[0m\u001b[0;34m,\u001b[0m \u001b[0mn_features\u001b[0m\u001b[0;34m)\u001b[0m\u001b[0;34m:\u001b[0m\u001b[0;34m\u001b[0m\u001b[0;34m\u001b[0m\u001b[0m\n\u001b[0;32m--> 526\u001b[0;31m             raise ValueError(\n\u001b[0m\u001b[1;32m    527\u001b[0m                 \u001b[0;34m\"n_components=%r must be between 0 and \"\u001b[0m\u001b[0;34m\u001b[0m\u001b[0;34m\u001b[0m\u001b[0m\n\u001b[1;32m    528\u001b[0m                 \u001b[0;34m\"min(n_samples, n_features)=%r with \"\u001b[0m\u001b[0;34m\u001b[0m\u001b[0;34m\u001b[0m\u001b[0m\n",
            "\u001b[0;31mValueError\u001b[0m: n_components=450 must be between 0 and min(n_samples, n_features)=400 with svd_solver='full'"
          ]
        }
      ]
    },
    {
      "cell_type": "code",
      "source": [
        "# range(100, 550, 50) -> 기존 변수에 대한 설명력 (ratio 원소)\n",
        "sns.lineplot(x=range(100, 550, 50), y=var_ratio)"
      ],
      "metadata": {
        "colab": {
          "base_uri": "https://localhost:8080/",
          "height": 287
        },
        "id": "48-b2zFVjpUu",
        "outputId": "73886254-c71a-4bf9-8d8c-47cea83cf7d0"
      },
      "execution_count": 29,
      "outputs": [
        {
          "output_type": "execute_result",
          "data": {
            "text/plain": [
              "<Axes: >"
            ]
          },
          "metadata": {},
          "execution_count": 29
        },
        {
          "output_type": "display_data",
          "data": {
            "text/plain": [
              "<Figure size 432x288 with 1 Axes>"
            ],
            "image/png": "[encoded data removed]"
          },
          "metadata": {
            "needs_background": "light"
          }
        }
      ]
    },
    {
      "cell_type": "code",
      "source": [
        "# 80% -> 400\n",
        "list(zip(range(100, 550, 50), var_ratio))"
      ],
      "metadata": {
        "colab": {
          "base_uri": "https://localhost:8080/"
        },
        "outputId": "14a541f2-24db-4757-f68c-d3085105f0c1",
        "id": "cQ-FvvSlk4rK"
      },
      "execution_count": 38,
      "outputs": [
        {
          "output_type": "execute_result",
          "data": {
            "text/plain": [
              "[(100, 0.6307088845500132),\n",
              " (150, 0.6920748895558858),\n",
              " (200, 0.7318066925240987),\n",
              " (250, 0.7604730389765711),\n",
              " (300, 0.7828213241398003),\n",
              " (350, 0.8011134069618693),\n",
              " (400, 0.816504084073834),\n",
              " (450, 0.8286837698100773),\n",
              " (500, 0.8402888564318681)]"
            ]
          },
          "metadata": {},
          "execution_count": 38
        }
      ]
    },
    {
      "cell_type": "code",
      "source": [
        "# 4000개 넘는 변수(차원) -> 400개 (80%)\n",
        "# 1. 속도\n",
        "# 2. 평가 (정확성, 점수...) -> accuracy score, roc_auc_score..."
      ],
      "metadata": {
        "id": "5LC3TFgZk4rR"
      },
      "execution_count": 39,
      "outputs": []
    },
    {
      "cell_type": "code",
      "source": [
        "# 차원축소 -> 4000이상 => 400. 80%\n",
        "pca = PCA(n_components=400, random_state=23)\n",
        "X_train_scaled_pca = pca.fit_transform(X_train_scaled)\n",
        "X_test_scaled_pca = pca.transform(X_test_scaled)"
      ],
      "metadata": {
        "id": "TP8F2yoGk4rR"
      },
      "execution_count": 40,
      "outputs": []
    },
    {
      "cell_type": "code",
      "source": [
        "# 모델링\n",
        "model_2 = RandomForestClassifier(random_state=23)\n",
        "start_time = time.time()\n",
        "model_2.fit(X_train_scaled_pca, y_train) # pca(차원축소)한 데이터\n",
        "print(time.time() - start_time) # 속도는 개선"
      ],
      "metadata": {
        "colab": {
          "base_uri": "https://localhost:8080/"
        },
        "outputId": "c01e5099-c388-49fa-e9f9-f0267d8c58ff",
        "id": "UUoUwKJgk4rR"
      },
      "execution_count": 41,
      "outputs": [
        {
          "output_type": "stream",
          "name": "stdout",
          "text": [
            "73.32603669166565\n"
          ]
        }
      ]
    },
    {
      "cell_type": "code",
      "source": [
        "# 정확도\n",
        "pred_2 = model_2.predict(X_test_scaled_pca)\n",
        "accuracy_score(y_test, pred_2) # 원본 : 0.95525 / 오버피팅 개선?"
      ],
      "metadata": {
        "colab": {
          "base_uri": "https://localhost:8080/"
        },
        "outputId": "b10e838f-8896-4b18-b8ee-2d2874c3beee",
        "id": "3Rsex3Y7k4rR"
      },
      "execution_count": 42,
      "outputs": [
        {
          "output_type": "execute_result",
          "data": {
            "text/plain": [
              "0.74475"
            ]
          },
          "metadata": {},
          "execution_count": 42
        }
      ]
    },
    {
      "cell_type": "code",
      "source": [
        "# AUC\n",
        "proba_2 = model_2.predict_proba(X_test_scaled_pca)\n",
        "roc_auc_score(y_test, proba_2[:, 1]) # 원본 : 0.9967081026539351"
      ],
      "metadata": {
        "colab": {
          "base_uri": "https://localhost:8080/"
        },
        "outputId": "76733e35-9cf9-4696-d0ee-b551e4efd7a2",
        "id": "ewv38xoGk4rR"
      },
      "execution_count": 43,
      "outputs": [
        {
          "output_type": "execute_result",
          "data": {
            "text/plain": [
              "0.6641838938518042"
            ]
          },
          "metadata": {},
          "execution_count": 43
        }
      ]
    }
  ]
}