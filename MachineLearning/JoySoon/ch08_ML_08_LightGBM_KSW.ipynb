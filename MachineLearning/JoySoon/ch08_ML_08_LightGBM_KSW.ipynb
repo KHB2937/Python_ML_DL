{
  "cells": [
    {
      "cell_type": "markdown",
      "metadata": {
        "id": "view-in-github",
        "colab_type": "text"
      },
      "source": [
        "<a href=\"https://colab.research.google.com/github/JoySoon/MachineLearning/blob/backup/JoySoon/ch08_ML_08_LightGBM_KSW.ipynb\" target=\"_parent\"><img src=\"https://colab.research.google.com/assets/colab-badge.svg\" alt=\"Open In Colab\"/></a>"
      ]
    },
    {
      "cell_type": "markdown",
      "metadata": {
        "id": "QF64CxX3Odfi"
      },
      "source": [
        "# Kaggle 데이터 다운로드 받기"
      ]
    },
    {
      "cell_type": "markdown",
      "metadata": {
        "id": "u8iq3sVpAlWS"
      },
      "source": [
        "**데이터셋 다운로드**\n",
        "1. csv를 그냥 다운로드 받는다 (Jupyter)\n",
        "    * Colab이면? 다시 업로드 (100mb? 20분씩...)\n",
        "2. github에 올린다 -> (파일하나당) 150MB? -> 안 올라감\n",
        "3. google drive -> 느려... -> 기본 n시간\n",
        "4. wget : 링크를 입력하면 해당 링크의 파일을 다운로드\n",
        "```\n",
        "# !wget {파일 링크 주소}\n",
        "# 예시\n",
        "!wget https://...\n",
        "```\n",
        "5. kaggle api로 직접 다운로드\n",
        "- kaggle.json -> 인증파일 (인증코드)\n",
        "```\n",
        "# colab에서 인증파일 적용하는 법\n",
        "!rm -r ~/.kaggle\n",
        "!mkdir ~/.kaggle\n",
        "!mv ./kaggle.json ~/.kaggle/\n",
        "!chmod 600 ~/.kaggle/kaggle.json\n",
        "```\n",
        "```\n",
        "# Kaggle API를 사용해서 파일을 다운로드\n",
        "# Kaggle > DataSet > Copy API command\n",
        "!kaggle datasets download -d kartik2112/fraud-detection\n",
        "```"
      ]
    },
    {
      "cell_type": "markdown",
      "metadata": {
        "id": "0Rnn1JgZOgEk"
      },
      "source": [
        "## 인증 및 데이터 받기"
      ]
    },
    {
      "cell_type": "code",
      "execution_count": null,
      "metadata": {
        "colab": {
          "base_uri": "https://localhost:8080/",
          "height": 94
        },
        "id": "E6o3Z60dLs1T",
        "outputId": "3f75bd51-b4eb-4240-bd45-658fecd1a6c8"
      },
      "outputs": [
        {
          "data": {
            "text/html": [
              "\n",
              "     <input type=\"file\" id=\"files-a058a53b-a797-4504-a3dc-d1dea74c54c2\" name=\"files[]\" multiple disabled\n",
              "        style=\"border:none\" />\n",
              "     <output id=\"result-a058a53b-a797-4504-a3dc-d1dea74c54c2\">\n",
              "      Upload widget is only available when the cell has been executed in the\n",
              "      current browser session. Please rerun this cell to enable.\n",
              "      </output>\n",
              "      <script>// Copyright 2017 Google LLC\n",
              "//\n",
              "// Licensed under the Apache License, Version 2.0 (the \"License\");\n",
              "// you may not use this file except in compliance with the License.\n",
              "// You may obtain a copy of the License at\n",
              "//\n",
              "//      http://www.apache.org/licenses/LICENSE-2.0\n",
              "//\n",
              "// Unless required by applicable law or agreed to in writing, software\n",
              "// distributed under the License is distributed on an \"AS IS\" BASIS,\n",
              "// WITHOUT WARRANTIES OR CONDITIONS OF ANY KIND, either express or implied.\n",
              "// See the License for the specific language governing permissions and\n",
              "// limitations under the License.\n",
              "\n",
              "/**\n",
              " * @fileoverview Helpers for google.colab Python module.\n",
              " */\n",
              "(function(scope) {\n",
              "function span(text, styleAttributes = {}) {\n",
              "  const element = document.createElement('span');\n",
              "  element.textContent = text;\n",
              "  for (const key of Object.keys(styleAttributes)) {\n",
              "    element.style[key] = styleAttributes[key];\n",
              "  }\n",
              "  return element;\n",
              "}\n",
              "\n",
              "// Max number of bytes which will be uploaded at a time.\n",
              "const MAX_PAYLOAD_SIZE = 100 * 1024;\n",
              "\n",
              "function _uploadFiles(inputId, outputId) {\n",
              "  const steps = uploadFilesStep(inputId, outputId);\n",
              "  const outputElement = document.getElementById(outputId);\n",
              "  // Cache steps on the outputElement to make it available for the next call\n",
              "  // to uploadFilesContinue from Python.\n",
              "  outputElement.steps = steps;\n",
              "\n",
              "  return _uploadFilesContinue(outputId);\n",
              "}\n",
              "\n",
              "// This is roughly an async generator (not supported in the browser yet),\n",
              "// where there are multiple asynchronous steps and the Python side is going\n",
              "// to poll for completion of each step.\n",
              "// This uses a Promise to block the python side on completion of each step,\n",
              "// then passes the result of the previous step as the input to the next step.\n",
              "function _uploadFilesContinue(outputId) {\n",
              "  const outputElement = document.getElementById(outputId);\n",
              "  const steps = outputElement.steps;\n",
              "\n",
              "  const next = steps.next(outputElement.lastPromiseValue);\n",
              "  return Promise.resolve(next.value.promise).then((value) => {\n",
              "    // Cache the last promise value to make it available to the next\n",
              "    // step of the generator.\n",
              "    outputElement.lastPromiseValue = value;\n",
              "    return next.value.response;\n",
              "  });\n",
              "}\n",
              "\n",
              "/**\n",
              " * Generator function which is called between each async step of the upload\n",
              " * process.\n",
              " * @param {string} inputId Element ID of the input file picker element.\n",
              " * @param {string} outputId Element ID of the output display.\n",
              " * @return {!Iterable<!Object>} Iterable of next steps.\n",
              " */\n",
              "function* uploadFilesStep(inputId, outputId) {\n",
              "  const inputElement = document.getElementById(inputId);\n",
              "  inputElement.disabled = false;\n",
              "\n",
              "  const outputElement = document.getElementById(outputId);\n",
              "  outputElement.innerHTML = '';\n",
              "\n",
              "  const pickedPromise = new Promise((resolve) => {\n",
              "    inputElement.addEventListener('change', (e) => {\n",
              "      resolve(e.target.files);\n",
              "    });\n",
              "  });\n",
              "\n",
              "  const cancel = document.createElement('button');\n",
              "  inputElement.parentElement.appendChild(cancel);\n",
              "  cancel.textContent = 'Cancel upload';\n",
              "  const cancelPromise = new Promise((resolve) => {\n",
              "    cancel.onclick = () => {\n",
              "      resolve(null);\n",
              "    };\n",
              "  });\n",
              "\n",
              "  // Wait for the user to pick the files.\n",
              "  const files = yield {\n",
              "    promise: Promise.race([pickedPromise, cancelPromise]),\n",
              "    response: {\n",
              "      action: 'starting',\n",
              "    }\n",
              "  };\n",
              "\n",
              "  cancel.remove();\n",
              "\n",
              "  // Disable the input element since further picks are not allowed.\n",
              "  inputElement.disabled = true;\n",
              "\n",
              "  if (!files) {\n",
              "    return {\n",
              "      response: {\n",
              "        action: 'complete',\n",
              "      }\n",
              "    };\n",
              "  }\n",
              "\n",
              "  for (const file of files) {\n",
              "    const li = document.createElement('li');\n",
              "    li.append(span(file.name, {fontWeight: 'bold'}));\n",
              "    li.append(span(\n",
              "        `(${file.type || 'n/a'}) - ${file.size} bytes, ` +\n",
              "        `last modified: ${\n",
              "            file.lastModifiedDate ? file.lastModifiedDate.toLocaleDateString() :\n",
              "                                    'n/a'} - `));\n",
              "    const percent = span('0% done');\n",
              "    li.appendChild(percent);\n",
              "\n",
              "    outputElement.appendChild(li);\n",
              "\n",
              "    const fileDataPromise = new Promise((resolve) => {\n",
              "      const reader = new FileReader();\n",
              "      reader.onload = (e) => {\n",
              "        resolve(e.target.result);\n",
              "      };\n",
              "      reader.readAsArrayBuffer(file);\n",
              "    });\n",
              "    // Wait for the data to be ready.\n",
              "    let fileData = yield {\n",
              "      promise: fileDataPromise,\n",
              "      response: {\n",
              "        action: 'continue',\n",
              "      }\n",
              "    };\n",
              "\n",
              "    // Use a chunked sending to avoid message size limits. See b/62115660.\n",
              "    let position = 0;\n",
              "    do {\n",
              "      const length = Math.min(fileData.byteLength - position, MAX_PAYLOAD_SIZE);\n",
              "      const chunk = new Uint8Array(fileData, position, length);\n",
              "      position += length;\n",
              "\n",
              "      const base64 = btoa(String.fromCharCode.apply(null, chunk));\n",
              "      yield {\n",
              "        response: {\n",
              "          action: 'append',\n",
              "          file: file.name,\n",
              "          data: base64,\n",
              "        },\n",
              "      };\n",
              "\n",
              "      let percentDone = fileData.byteLength === 0 ?\n",
              "          100 :\n",
              "          Math.round((position / fileData.byteLength) * 100);\n",
              "      percent.textContent = `${percentDone}% done`;\n",
              "\n",
              "    } while (position < fileData.byteLength);\n",
              "  }\n",
              "\n",
              "  // All done.\n",
              "  yield {\n",
              "    response: {\n",
              "      action: 'complete',\n",
              "    }\n",
              "  };\n",
              "}\n",
              "\n",
              "scope.google = scope.google || {};\n",
              "scope.google.colab = scope.google.colab || {};\n",
              "scope.google.colab._files = {\n",
              "  _uploadFiles,\n",
              "  _uploadFilesContinue,\n",
              "};\n",
              "})(self);\n",
              "</script> "
            ],
            "text/plain": [
              "<IPython.core.display.HTML object>"
            ]
          },
          "metadata": {},
          "output_type": "display_data"
        },
        {
          "name": "stdout",
          "output_type": "stream",
          "text": [
            "Saving kaggle.json to kaggle.json\n"
          ]
        },
        {
          "data": {
            "text/plain": [
              "{'kaggle.json': b'{\"username\":\"joysoon\",\"key\":\"9fd20747bbab771acf23c422942a3bdf\"}'}"
            ]
          },
          "execution_count": 2,
          "metadata": {},
          "output_type": "execute_result"
        }
      ],
      "source": [
        "# https://www.kaggle.com/datasets/kartik2112/fraud-detection\n",
        "\n",
        "# 1. 본인 kaggle 계정 인증 받음\n",
        "# kaggle > Profile 이미지 > Account > Account > API > Create New API Token\n",
        "from google.colab import files\n",
        "files.upload()"
      ]
    },
    {
      "cell_type": "code",
      "execution_count": null,
      "metadata": {
        "colab": {
          "base_uri": "https://localhost:8080/"
        },
        "id": "7RPCLShJNVAA",
        "outputId": "a1f23a68-c5a3-4cf3-df46-eb72ceb21d1b"
      },
      "outputs": [
        {
          "name": "stdout",
          "output_type": "stream",
          "text": [
            "--2023-03-24 03:13:40--  https://github.com/BigData23th/Data/raw/main/kaggle.json\n",
            "Resolving github.com (github.com)... 140.82.114.4\n",
            "Connecting to github.com (github.com)|140.82.114.4|:443... connected.\n",
            "HTTP request sent, awaiting response... 302 Found\n",
            "Location: https://raw.githubusercontent.com/BigData23th/Data/main/kaggle.json [following]\n",
            "--2023-03-24 03:13:40--  https://raw.githubusercontent.com/BigData23th/Data/main/kaggle.json\n",
            "Resolving raw.githubusercontent.com (raw.githubusercontent.com)... 185.199.109.133, 185.199.111.133, 185.199.110.133, ...\n",
            "Connecting to raw.githubusercontent.com (raw.githubusercontent.com)|185.199.109.133|:443... connected.\n",
            "HTTP request sent, awaiting response... 200 OK\n",
            "Length: 65 [text/plain]\n",
            "Saving to: ‘kaggle.json.2’\n",
            "\n",
            "kaggle.json.2       100%[===================>]      65  --.-KB/s    in 0s      \n",
            "\n",
            "2023-03-24 03:13:40 (1.75 MB/s) - ‘kaggle.json.2’ saved [65/65]\n",
            "\n"
          ]
        }
      ],
      "source": [
        "# 2. 강사의 kaggle.json (주기적 리셋)\n",
        "# https://github.com/BigData23th/Data/raw/main/kaggle.json\n",
        "!wget https://github.com/BigData23th/Data/raw/main/kaggle.json"
      ]
    },
    {
      "cell_type": "code",
      "execution_count": null,
      "metadata": {
        "colab": {
          "base_uri": "https://localhost:8080/"
        },
        "id": "kLeZiBiBNBRn",
        "outputId": "6a61023b-e147-4047-dc89-870d61ef6056"
      },
      "outputs": [
        {
          "name": "stdout",
          "output_type": "stream",
          "text": [
            "fraud-detection.zip: Skipping, found more recently modified local copy (use --force to force download)\n"
          ]
        }
      ],
      "source": [
        "# 인증 및 파일 다운로드 받기\n",
        "!rm -r ~/.kaggle\n",
        "!mkdir ~/.kaggle\n",
        "!mv ./kaggle.json ~/.kaggle/\n",
        "!chmod 600 ~/.kaggle/kaggle.json\n",
        "!kaggle datasets download -d kartik2112/fraud-detection"
      ]
    },
    {
      "cell_type": "code",
      "execution_count": null,
      "metadata": {
        "colab": {
          "base_uri": "https://localhost:8080/"
        },
        "id": "lwReiOvLNqsU",
        "outputId": "0e428ea7-3a1d-41b3-8af0-3bd9ec568fcf"
      },
      "outputs": [
        {
          "name": "stdout",
          "output_type": "stream",
          "text": [
            "ref                                                                title                                                size  lastUpdated          downloadCount  voteCount  usabilityRating  \n",
            "-----------------------------------------------------------------  --------------------------------------------------  -----  -------------------  -------------  ---------  ---------------  \n",
            "zusmani/pakistan-toshakhana-files                                  Pakistan ToshaKhana Files                             1MB  2023-03-15 16:25:43           2393        115  1.0              \n",
            "ramkrijal/tomato-daily-prices                                      Tomato Daily Prices                                  10KB  2023-03-10 15:39:14           1468         47  1.0              \n",
            "themrityunjaypathak/covid-cases-and-deaths-worldwide               Covid Cases and Deaths WorldWide                      8KB  2023-02-01 12:22:51          14907        482  1.0              \n",
            "datascientistanna/customers-dataset                                Shop Customer Data                                   23KB  2023-02-07 18:42:21          13578        302  1.0              \n",
            "priyankkhanna/flipkart-product-dataset-by-priyank-khanna           Flipkart Product Dataset                              2MB  2023-03-03 13:44:42           1242         31  1.0              \n",
            "amaanansari09/most-streamed-songs-all-time                         Most Streamed Songs (All Time)                        8KB  2023-03-08 10:56:24           2567         67  1.0              \n",
            "utsh0dey/25k-movie-dataset                                         25k IMDb Movie Dataset                                5MB  2023-02-27 18:11:44            997         30  1.0              \n",
            "nidzsharma/covid-19-variant-data                                   COVID-19 Variant Data                                67KB  2023-03-12 14:07:53            725         30  1.0              \n",
            "rkiattisak/student-performance-in-mathematics                      Student performance prediction                        9KB  2023-03-12 04:32:56           2537         60  1.0              \n",
            "ashpalsingh1525/netflix                                            Netflix Cleaned Dataset                              86KB  2023-02-25 12:48:42           1127         38  1.0              \n",
            "imrulhasanrobi/world-population-all-countries-different-parameter  World Population all countries different parameter    8KB  2023-03-16 01:24:18            805         33  1.0              \n",
            "rayhan32/la-liga-player-status-season-2022-2023                    La Liga Player Status  Season 2022-2023              14KB  2023-03-15 19:52:19            588         31  1.0              \n",
            "thedevastator/airbnb-prices-in-european-cities                     Airbnb Prices in European Cities                      4MB  2023-02-20 09:48:04           5268         96  1.0              \n",
            "mirzahasnine/loan-data-set                                         Loan Data Set                                        11KB  2023-03-12 05:02:43           1185         35  0.9411765        \n",
            "mehmettahiraslan/customer-shopping-dataset                         Customer Shopping Dataset - Retail Sales Data         2MB  2023-03-09 07:44:35           1677         59  1.0              \n",
            "ulrikthygepedersen/shark-tank-companies                            Shark Tank Companies                                 70KB  2023-03-02 12:05:27            771         34  1.0              \n",
            "tarique7/airline-incidents-safety-data                             Airline Incidents Safety Data                         7MB  2023-03-08 09:28:38            654         30  1.0              \n",
            "rkiattisak/traveler-trip-data                                      Traveler Trip Dataset                                 4KB  2023-03-06 07:11:05           1416         39  1.0              \n",
            "rkiattisak/salaly-prediction-for-beginer                           Salary Prediction dataset                             3KB  2023-03-07 02:45:11           1423         40  1.0              \n",
            "abdullahshahzad12345/ref-tk-data-02-to-22                          Gift Received by Pak Officials 2002-22 Tosha Khana  120KB  2023-03-14 15:49:14            166         24  1.0              \n"
          ]
        }
      ],
      "source": [
        "!kaggle datasets list"
      ]
    },
    {
      "cell_type": "markdown",
      "metadata": {
        "id": "IN140VPoOjmg"
      },
      "source": [
        "## 압축 풀기 & 합치기"
      ]
    },
    {
      "cell_type": "code",
      "execution_count": null,
      "metadata": {
        "colab": {
          "base_uri": "https://localhost:8080/"
        },
        "id": "503uZhQ1Olws",
        "outputId": "6b6799f2-b1a4-496f-d68c-d06d74f046c5"
      },
      "outputs": [
        {
          "name": "stdout",
          "output_type": "stream",
          "text": [
            "Archive:  /content/fraud-detection.zip\n",
            "replace fraudTest.csv? [y]es, [n]o, [A]ll, [N]one, [r]ename: "
          ]
        }
      ],
      "source": [
        "# zip -> unzip\n",
        "# 파일 우측 클릭 > 경로 복사\n",
        "# 파일 > fraudTest.csv, fraudTrain.csv 생성 확인\n",
        "!unzip /content/fraud-detection.zip"
      ]
    },
    {
      "cell_type": "code",
      "execution_count": null,
      "metadata": {
        "id": "vDgaqTz_O1fA"
      },
      "outputs": [],
      "source": [
        "# 라이브러리\n",
        "import numpy as np\n",
        "import pandas as pd\n",
        "import matplotlib.pyplot as plt\n",
        "import seaborn as sns"
      ]
    },
    {
      "cell_type": "code",
      "execution_count": null,
      "metadata": {
        "colab": {
          "base_uri": "https://localhost:8080/"
        },
        "id": "2Deky9SvPU4K",
        "outputId": "7639312c-0699-4acb-e502-71d73a88db3f"
      },
      "outputs": [
        {
          "name": "stdout",
          "output_type": "stream",
          "text": [
            "fraud-detection.zip  fraudTrain.csv  kaggle.json.2\n",
            "fraudTest.csv\t     kaggle.json.1   sample_data\n"
          ]
        }
      ],
      "source": [
        "# ls: 현재 경로에 있는 다른 파일/폴더를 불러오는 리눅스 명령\n",
        "!ls"
      ]
    },
    {
      "cell_type": "code",
      "execution_count": null,
      "metadata": {
        "colab": {
          "base_uri": "https://localhost:8080/",
          "height": 904
        },
        "id": "gC3Uk1O1PD_4",
        "outputId": "45284eea-1ffe-4a82-9fcb-cdd66f1ef733"
      },
      "outputs": [
        {
          "data": {
            "text/html": [
              "\n",
              "  <div id=\"df-49d310d9-cd31-419d-a6fc-75fd8a2ce2ce\">\n",
              "    <div class=\"colab-df-container\">\n",
              "      <div>\n",
              "<style scoped>\n",
              "    .dataframe tbody tr th:only-of-type {\n",
              "        vertical-align: middle;\n",
              "    }\n",
              "\n",
              "    .dataframe tbody tr th {\n",
              "        vertical-align: top;\n",
              "    }\n",
              "\n",
              "    .dataframe thead th {\n",
              "        text-align: right;\n",
              "    }\n",
              "</style>\n",
              "<table border=\"1\" class=\"dataframe\">\n",
              "  <thead>\n",
              "    <tr style=\"text-align: right;\">\n",
              "      <th></th>\n",
              "      <th>trans_date_trans_time</th>\n",
              "      <th>cc_num</th>\n",
              "      <th>merchant</th>\n",
              "      <th>category</th>\n",
              "      <th>amt</th>\n",
              "      <th>first</th>\n",
              "      <th>last</th>\n",
              "      <th>gender</th>\n",
              "      <th>street</th>\n",
              "      <th>city</th>\n",
              "      <th>...</th>\n",
              "      <th>lat</th>\n",
              "      <th>long</th>\n",
              "      <th>city_pop</th>\n",
              "      <th>job</th>\n",
              "      <th>dob</th>\n",
              "      <th>trans_num</th>\n",
              "      <th>unix_time</th>\n",
              "      <th>merch_lat</th>\n",
              "      <th>merch_long</th>\n",
              "      <th>is_fraud</th>\n",
              "    </tr>\n",
              "  </thead>\n",
              "  <tbody>\n",
              "    <tr>\n",
              "      <th>0</th>\n",
              "      <td>2019-01-01 00:00:18</td>\n",
              "      <td>2703186189652095</td>\n",
              "      <td>fraud_Rippin, Kub and Mann</td>\n",
              "      <td>misc_net</td>\n",
              "      <td>4.97</td>\n",
              "      <td>Jennifer</td>\n",
              "      <td>Banks</td>\n",
              "      <td>F</td>\n",
              "      <td>561 Perry Cove</td>\n",
              "      <td>Moravian Falls</td>\n",
              "      <td>...</td>\n",
              "      <td>36.0788</td>\n",
              "      <td>-81.1781</td>\n",
              "      <td>3495</td>\n",
              "      <td>Psychologist, counselling</td>\n",
              "      <td>1988-03-09</td>\n",
              "      <td>0b242abb623afc578575680df30655b9</td>\n",
              "      <td>1325376018</td>\n",
              "      <td>36.011293</td>\n",
              "      <td>-82.048315</td>\n",
              "      <td>0</td>\n",
              "    </tr>\n",
              "    <tr>\n",
              "      <th>1</th>\n",
              "      <td>2019-01-01 00:00:44</td>\n",
              "      <td>630423337322</td>\n",
              "      <td>fraud_Heller, Gutmann and Zieme</td>\n",
              "      <td>grocery_pos</td>\n",
              "      <td>107.23</td>\n",
              "      <td>Stephanie</td>\n",
              "      <td>Gill</td>\n",
              "      <td>F</td>\n",
              "      <td>43039 Riley Greens Suite 393</td>\n",
              "      <td>Orient</td>\n",
              "      <td>...</td>\n",
              "      <td>48.8878</td>\n",
              "      <td>-118.2105</td>\n",
              "      <td>149</td>\n",
              "      <td>Special educational needs teacher</td>\n",
              "      <td>1978-06-21</td>\n",
              "      <td>1f76529f8574734946361c461b024d99</td>\n",
              "      <td>1325376044</td>\n",
              "      <td>49.159047</td>\n",
              "      <td>-118.186462</td>\n",
              "      <td>0</td>\n",
              "    </tr>\n",
              "    <tr>\n",
              "      <th>2</th>\n",
              "      <td>2019-01-01 00:00:51</td>\n",
              "      <td>38859492057661</td>\n",
              "      <td>fraud_Lind-Buckridge</td>\n",
              "      <td>entertainment</td>\n",
              "      <td>220.11</td>\n",
              "      <td>Edward</td>\n",
              "      <td>Sanchez</td>\n",
              "      <td>M</td>\n",
              "      <td>594 White Dale Suite 530</td>\n",
              "      <td>Malad City</td>\n",
              "      <td>...</td>\n",
              "      <td>42.1808</td>\n",
              "      <td>-112.2620</td>\n",
              "      <td>4154</td>\n",
              "      <td>Nature conservation officer</td>\n",
              "      <td>1962-01-19</td>\n",
              "      <td>a1a22d70485983eac12b5b88dad1cf95</td>\n",
              "      <td>1325376051</td>\n",
              "      <td>43.150704</td>\n",
              "      <td>-112.154481</td>\n",
              "      <td>0</td>\n",
              "    </tr>\n",
              "    <tr>\n",
              "      <th>3</th>\n",
              "      <td>2019-01-01 00:01:16</td>\n",
              "      <td>3534093764340240</td>\n",
              "      <td>fraud_Kutch, Hermiston and Farrell</td>\n",
              "      <td>gas_transport</td>\n",
              "      <td>45.00</td>\n",
              "      <td>Jeremy</td>\n",
              "      <td>White</td>\n",
              "      <td>M</td>\n",
              "      <td>9443 Cynthia Court Apt. 038</td>\n",
              "      <td>Boulder</td>\n",
              "      <td>...</td>\n",
              "      <td>46.2306</td>\n",
              "      <td>-112.1138</td>\n",
              "      <td>1939</td>\n",
              "      <td>Patent attorney</td>\n",
              "      <td>1967-01-12</td>\n",
              "      <td>6b849c168bdad6f867558c3793159a81</td>\n",
              "      <td>1325376076</td>\n",
              "      <td>47.034331</td>\n",
              "      <td>-112.561071</td>\n",
              "      <td>0</td>\n",
              "    </tr>\n",
              "    <tr>\n",
              "      <th>4</th>\n",
              "      <td>2019-01-01 00:03:06</td>\n",
              "      <td>375534208663984</td>\n",
              "      <td>fraud_Keeling-Crist</td>\n",
              "      <td>misc_pos</td>\n",
              "      <td>41.96</td>\n",
              "      <td>Tyler</td>\n",
              "      <td>Garcia</td>\n",
              "      <td>M</td>\n",
              "      <td>408 Bradley Rest</td>\n",
              "      <td>Doe Hill</td>\n",
              "      <td>...</td>\n",
              "      <td>38.4207</td>\n",
              "      <td>-79.4629</td>\n",
              "      <td>99</td>\n",
              "      <td>Dance movement psychotherapist</td>\n",
              "      <td>1986-03-28</td>\n",
              "      <td>a41d7549acf90789359a9aa5346dcb46</td>\n",
              "      <td>1325376186</td>\n",
              "      <td>38.674999</td>\n",
              "      <td>-78.632459</td>\n",
              "      <td>0</td>\n",
              "    </tr>\n",
              "    <tr>\n",
              "      <th>...</th>\n",
              "      <td>...</td>\n",
              "      <td>...</td>\n",
              "      <td>...</td>\n",
              "      <td>...</td>\n",
              "      <td>...</td>\n",
              "      <td>...</td>\n",
              "      <td>...</td>\n",
              "      <td>...</td>\n",
              "      <td>...</td>\n",
              "      <td>...</td>\n",
              "      <td>...</td>\n",
              "      <td>...</td>\n",
              "      <td>...</td>\n",
              "      <td>...</td>\n",
              "      <td>...</td>\n",
              "      <td>...</td>\n",
              "      <td>...</td>\n",
              "      <td>...</td>\n",
              "      <td>...</td>\n",
              "      <td>...</td>\n",
              "      <td>...</td>\n",
              "    </tr>\n",
              "    <tr>\n",
              "      <th>1296670</th>\n",
              "      <td>2020-06-21 12:12:08</td>\n",
              "      <td>30263540414123</td>\n",
              "      <td>fraud_Reichel Inc</td>\n",
              "      <td>entertainment</td>\n",
              "      <td>15.56</td>\n",
              "      <td>Erik</td>\n",
              "      <td>Patterson</td>\n",
              "      <td>M</td>\n",
              "      <td>162 Jessica Row Apt. 072</td>\n",
              "      <td>Hatch</td>\n",
              "      <td>...</td>\n",
              "      <td>37.7175</td>\n",
              "      <td>-112.4777</td>\n",
              "      <td>258</td>\n",
              "      <td>Geoscientist</td>\n",
              "      <td>1961-11-24</td>\n",
              "      <td>440b587732da4dc1a6395aba5fb41669</td>\n",
              "      <td>1371816728</td>\n",
              "      <td>36.841266</td>\n",
              "      <td>-111.690765</td>\n",
              "      <td>0</td>\n",
              "    </tr>\n",
              "    <tr>\n",
              "      <th>1296671</th>\n",
              "      <td>2020-06-21 12:12:19</td>\n",
              "      <td>6011149206456997</td>\n",
              "      <td>fraud_Abernathy and Sons</td>\n",
              "      <td>food_dining</td>\n",
              "      <td>51.70</td>\n",
              "      <td>Jeffrey</td>\n",
              "      <td>White</td>\n",
              "      <td>M</td>\n",
              "      <td>8617 Holmes Terrace Suite 651</td>\n",
              "      <td>Tuscarora</td>\n",
              "      <td>...</td>\n",
              "      <td>39.2667</td>\n",
              "      <td>-77.5101</td>\n",
              "      <td>100</td>\n",
              "      <td>Production assistant, television</td>\n",
              "      <td>1979-12-11</td>\n",
              "      <td>278000d2e0d2277d1de2f890067dcc0a</td>\n",
              "      <td>1371816739</td>\n",
              "      <td>38.906881</td>\n",
              "      <td>-78.246528</td>\n",
              "      <td>0</td>\n",
              "    </tr>\n",
              "    <tr>\n",
              "      <th>1296672</th>\n",
              "      <td>2020-06-21 12:12:32</td>\n",
              "      <td>3514865930894695</td>\n",
              "      <td>fraud_Stiedemann Ltd</td>\n",
              "      <td>food_dining</td>\n",
              "      <td>105.93</td>\n",
              "      <td>Christopher</td>\n",
              "      <td>Castaneda</td>\n",
              "      <td>M</td>\n",
              "      <td>1632 Cohen Drive Suite 639</td>\n",
              "      <td>High Rolls Mountain Park</td>\n",
              "      <td>...</td>\n",
              "      <td>32.9396</td>\n",
              "      <td>-105.8189</td>\n",
              "      <td>899</td>\n",
              "      <td>Naval architect</td>\n",
              "      <td>1967-08-30</td>\n",
              "      <td>483f52fe67fabef353d552c1e662974c</td>\n",
              "      <td>1371816752</td>\n",
              "      <td>33.619513</td>\n",
              "      <td>-105.130529</td>\n",
              "      <td>0</td>\n",
              "    </tr>\n",
              "    <tr>\n",
              "      <th>1296673</th>\n",
              "      <td>2020-06-21 12:13:36</td>\n",
              "      <td>2720012583106919</td>\n",
              "      <td>fraud_Reinger, Weissnat and Strosin</td>\n",
              "      <td>food_dining</td>\n",
              "      <td>74.90</td>\n",
              "      <td>Joseph</td>\n",
              "      <td>Murray</td>\n",
              "      <td>M</td>\n",
              "      <td>42933 Ryan Underpass</td>\n",
              "      <td>Manderson</td>\n",
              "      <td>...</td>\n",
              "      <td>43.3526</td>\n",
              "      <td>-102.5411</td>\n",
              "      <td>1126</td>\n",
              "      <td>Volunteer coordinator</td>\n",
              "      <td>1980-08-18</td>\n",
              "      <td>d667cdcbadaaed3da3f4020e83591c83</td>\n",
              "      <td>1371816816</td>\n",
              "      <td>42.788940</td>\n",
              "      <td>-103.241160</td>\n",
              "      <td>0</td>\n",
              "    </tr>\n",
              "    <tr>\n",
              "      <th>1296674</th>\n",
              "      <td>2020-06-21 12:13:37</td>\n",
              "      <td>4292902571056973207</td>\n",
              "      <td>fraud_Langosh, Wintheiser and Hyatt</td>\n",
              "      <td>food_dining</td>\n",
              "      <td>4.30</td>\n",
              "      <td>Jeffrey</td>\n",
              "      <td>Smith</td>\n",
              "      <td>M</td>\n",
              "      <td>135 Joseph Mountains</td>\n",
              "      <td>Sula</td>\n",
              "      <td>...</td>\n",
              "      <td>45.8433</td>\n",
              "      <td>-113.8748</td>\n",
              "      <td>218</td>\n",
              "      <td>Therapist, horticultural</td>\n",
              "      <td>1995-08-16</td>\n",
              "      <td>8f7c8e4ab7f25875d753b422917c98c9</td>\n",
              "      <td>1371816817</td>\n",
              "      <td>46.565983</td>\n",
              "      <td>-114.186110</td>\n",
              "      <td>0</td>\n",
              "    </tr>\n",
              "  </tbody>\n",
              "</table>\n",
              "<p>1296675 rows × 22 columns</p>\n",
              "</div>\n",
              "      <button class=\"colab-df-convert\" onclick=\"convertToInteractive('df-49d310d9-cd31-419d-a6fc-75fd8a2ce2ce')\"\n",
              "              title=\"Convert this dataframe to an interactive table.\"\n",
              "              style=\"display:none;\">\n",
              "        \n",
              "  <svg xmlns=\"http://www.w3.org/2000/svg\" height=\"24px\"viewBox=\"0 0 24 24\"\n",
              "       width=\"24px\">\n",
              "    <path d=\"M0 0h24v24H0V0z\" fill=\"none\"/>\n",
              "    <path d=\"M18.56 5.44l.94 2.06.94-2.06 2.06-.94-2.06-.94-.94-2.06-.94 2.06-2.06.94zm-11 1L8.5 8.5l.94-2.06 2.06-.94-2.06-.94L8.5 2.5l-.94 2.06-2.06.94zm10 10l.94 2.06.94-2.06 2.06-.94-2.06-.94-.94-2.06-.94 2.06-2.06.94z\"/><path d=\"M17.41 7.96l-1.37-1.37c-.4-.4-.92-.59-1.43-.59-.52 0-1.04.2-1.43.59L10.3 9.45l-7.72 7.72c-.78.78-.78 2.05 0 2.83L4 21.41c.39.39.9.59 1.41.59.51 0 1.02-.2 1.41-.59l7.78-7.78 2.81-2.81c.8-.78.8-2.07 0-2.86zM5.41 20L4 18.59l7.72-7.72 1.47 1.35L5.41 20z\"/>\n",
              "  </svg>\n",
              "      </button>\n",
              "      \n",
              "  <style>\n",
              "    .colab-df-container {\n",
              "      display:flex;\n",
              "      flex-wrap:wrap;\n",
              "      gap: 12px;\n",
              "    }\n",
              "\n",
              "    .colab-df-convert {\n",
              "      background-color: #E8F0FE;\n",
              "      border: none;\n",
              "      border-radius: 50%;\n",
              "      cursor: pointer;\n",
              "      display: none;\n",
              "      fill: #1967D2;\n",
              "      height: 32px;\n",
              "      padding: 0 0 0 0;\n",
              "      width: 32px;\n",
              "    }\n",
              "\n",
              "    .colab-df-convert:hover {\n",
              "      background-color: #E2EBFA;\n",
              "      box-shadow: 0px 1px 2px rgba(60, 64, 67, 0.3), 0px 1px 3px 1px rgba(60, 64, 67, 0.15);\n",
              "      fill: #174EA6;\n",
              "    }\n",
              "\n",
              "    [theme=dark] .colab-df-convert {\n",
              "      background-color: #3B4455;\n",
              "      fill: #D2E3FC;\n",
              "    }\n",
              "\n",
              "    [theme=dark] .colab-df-convert:hover {\n",
              "      background-color: #434B5C;\n",
              "      box-shadow: 0px 1px 3px 1px rgba(0, 0, 0, 0.15);\n",
              "      filter: drop-shadow(0px 1px 2px rgba(0, 0, 0, 0.3));\n",
              "      fill: #FFFFFF;\n",
              "    }\n",
              "  </style>\n",
              "\n",
              "      <script>\n",
              "        const buttonEl =\n",
              "          document.querySelector('#df-49d310d9-cd31-419d-a6fc-75fd8a2ce2ce button.colab-df-convert');\n",
              "        buttonEl.style.display =\n",
              "          google.colab.kernel.accessAllowed ? 'block' : 'none';\n",
              "\n",
              "        async function convertToInteractive(key) {\n",
              "          const element = document.querySelector('#df-49d310d9-cd31-419d-a6fc-75fd8a2ce2ce');\n",
              "          const dataTable =\n",
              "            await google.colab.kernel.invokeFunction('convertToInteractive',\n",
              "                                                     [key], {});\n",
              "          if (!dataTable) return;\n",
              "\n",
              "          const docLinkHtml = 'Like what you see? Visit the ' +\n",
              "            '<a target=\"_blank\" href=https://colab.research.google.com/notebooks/data_table.ipynb>data table notebook</a>'\n",
              "            + ' to learn more about interactive tables.';\n",
              "          element.innerHTML = '';\n",
              "          dataTable['output_type'] = 'display_data';\n",
              "          await google.colab.output.renderOutput(dataTable, element);\n",
              "          const docLink = document.createElement('div');\n",
              "          docLink.innerHTML = docLinkHtml;\n",
              "          element.appendChild(docLink);\n",
              "        }\n",
              "      </script>\n",
              "    </div>\n",
              "  </div>\n",
              "  "
            ],
            "text/plain": [
              "        trans_date_trans_time               cc_num  \\\n",
              "0         2019-01-01 00:00:18     2703186189652095   \n",
              "1         2019-01-01 00:00:44         630423337322   \n",
              "2         2019-01-01 00:00:51       38859492057661   \n",
              "3         2019-01-01 00:01:16     3534093764340240   \n",
              "4         2019-01-01 00:03:06      375534208663984   \n",
              "...                       ...                  ...   \n",
              "1296670   2020-06-21 12:12:08       30263540414123   \n",
              "1296671   2020-06-21 12:12:19     6011149206456997   \n",
              "1296672   2020-06-21 12:12:32     3514865930894695   \n",
              "1296673   2020-06-21 12:13:36     2720012583106919   \n",
              "1296674   2020-06-21 12:13:37  4292902571056973207   \n",
              "\n",
              "                                    merchant       category     amt  \\\n",
              "0                 fraud_Rippin, Kub and Mann       misc_net    4.97   \n",
              "1            fraud_Heller, Gutmann and Zieme    grocery_pos  107.23   \n",
              "2                       fraud_Lind-Buckridge  entertainment  220.11   \n",
              "3         fraud_Kutch, Hermiston and Farrell  gas_transport   45.00   \n",
              "4                        fraud_Keeling-Crist       misc_pos   41.96   \n",
              "...                                      ...            ...     ...   \n",
              "1296670                    fraud_Reichel Inc  entertainment   15.56   \n",
              "1296671             fraud_Abernathy and Sons    food_dining   51.70   \n",
              "1296672                 fraud_Stiedemann Ltd    food_dining  105.93   \n",
              "1296673  fraud_Reinger, Weissnat and Strosin    food_dining   74.90   \n",
              "1296674  fraud_Langosh, Wintheiser and Hyatt    food_dining    4.30   \n",
              "\n",
              "               first       last gender                         street  \\\n",
              "0           Jennifer      Banks      F                 561 Perry Cove   \n",
              "1          Stephanie       Gill      F   43039 Riley Greens Suite 393   \n",
              "2             Edward    Sanchez      M       594 White Dale Suite 530   \n",
              "3             Jeremy      White      M    9443 Cynthia Court Apt. 038   \n",
              "4              Tyler     Garcia      M               408 Bradley Rest   \n",
              "...              ...        ...    ...                            ...   \n",
              "1296670         Erik  Patterson      M       162 Jessica Row Apt. 072   \n",
              "1296671      Jeffrey      White      M  8617 Holmes Terrace Suite 651   \n",
              "1296672  Christopher  Castaneda      M     1632 Cohen Drive Suite 639   \n",
              "1296673       Joseph     Murray      M           42933 Ryan Underpass   \n",
              "1296674      Jeffrey      Smith      M           135 Joseph Mountains   \n",
              "\n",
              "                             city  ...      lat      long  city_pop  \\\n",
              "0                  Moravian Falls  ...  36.0788  -81.1781      3495   \n",
              "1                          Orient  ...  48.8878 -118.2105       149   \n",
              "2                      Malad City  ...  42.1808 -112.2620      4154   \n",
              "3                         Boulder  ...  46.2306 -112.1138      1939   \n",
              "4                        Doe Hill  ...  38.4207  -79.4629        99   \n",
              "...                           ...  ...      ...       ...       ...   \n",
              "1296670                     Hatch  ...  37.7175 -112.4777       258   \n",
              "1296671                 Tuscarora  ...  39.2667  -77.5101       100   \n",
              "1296672  High Rolls Mountain Park  ...  32.9396 -105.8189       899   \n",
              "1296673                 Manderson  ...  43.3526 -102.5411      1126   \n",
              "1296674                      Sula  ...  45.8433 -113.8748       218   \n",
              "\n",
              "                                       job         dob  \\\n",
              "0                Psychologist, counselling  1988-03-09   \n",
              "1        Special educational needs teacher  1978-06-21   \n",
              "2              Nature conservation officer  1962-01-19   \n",
              "3                          Patent attorney  1967-01-12   \n",
              "4           Dance movement psychotherapist  1986-03-28   \n",
              "...                                    ...         ...   \n",
              "1296670                       Geoscientist  1961-11-24   \n",
              "1296671   Production assistant, television  1979-12-11   \n",
              "1296672                    Naval architect  1967-08-30   \n",
              "1296673              Volunteer coordinator  1980-08-18   \n",
              "1296674           Therapist, horticultural  1995-08-16   \n",
              "\n",
              "                                trans_num   unix_time  merch_lat  merch_long  \\\n",
              "0        0b242abb623afc578575680df30655b9  1325376018  36.011293  -82.048315   \n",
              "1        1f76529f8574734946361c461b024d99  1325376044  49.159047 -118.186462   \n",
              "2        a1a22d70485983eac12b5b88dad1cf95  1325376051  43.150704 -112.154481   \n",
              "3        6b849c168bdad6f867558c3793159a81  1325376076  47.034331 -112.561071   \n",
              "4        a41d7549acf90789359a9aa5346dcb46  1325376186  38.674999  -78.632459   \n",
              "...                                   ...         ...        ...         ...   \n",
              "1296670  440b587732da4dc1a6395aba5fb41669  1371816728  36.841266 -111.690765   \n",
              "1296671  278000d2e0d2277d1de2f890067dcc0a  1371816739  38.906881  -78.246528   \n",
              "1296672  483f52fe67fabef353d552c1e662974c  1371816752  33.619513 -105.130529   \n",
              "1296673  d667cdcbadaaed3da3f4020e83591c83  1371816816  42.788940 -103.241160   \n",
              "1296674  8f7c8e4ab7f25875d753b422917c98c9  1371816817  46.565983 -114.186110   \n",
              "\n",
              "         is_fraud  \n",
              "0               0  \n",
              "1               0  \n",
              "2               0  \n",
              "3               0  \n",
              "4               0  \n",
              "...           ...  \n",
              "1296670         0  \n",
              "1296671         0  \n",
              "1296672         0  \n",
              "1296673         0  \n",
              "1296674         0  \n",
              "\n",
              "[1296675 rows x 22 columns]"
            ]
          },
          "execution_count": 9,
          "metadata": {},
          "output_type": "execute_result"
        }
      ],
      "source": [
        "# train = pd.read_csv('fraudTrain.csv')\n",
        "train = pd.read_csv('fraudTrain.csv', index_col=0) # 첫번째 열을 인덱스 컬럼으로 지정\n",
        "train"
      ]
    },
    {
      "cell_type": "code",
      "execution_count": null,
      "metadata": {
        "colab": {
          "base_uri": "https://localhost:8080/"
        },
        "id": "qT_YWfXHPo3c",
        "outputId": "d3552bb4-30d5-4467-bfa1-b9d1cf6980bf"
      },
      "outputs": [
        {
          "name": "stdout",
          "output_type": "stream",
          "text": [
            "<class 'pandas.core.frame.DataFrame'>\n",
            "Int64Index: 1296675 entries, 0 to 1296674\n",
            "Data columns (total 22 columns):\n",
            " #   Column                 Non-Null Count    Dtype  \n",
            "---  ------                 --------------    -----  \n",
            " 0   trans_date_trans_time  1296675 non-null  object \n",
            " 1   cc_num                 1296675 non-null  int64  \n",
            " 2   merchant               1296675 non-null  object \n",
            " 3   category               1296675 non-null  object \n",
            " 4   amt                    1296675 non-null  float64\n",
            " 5   first                  1296675 non-null  object \n",
            " 6   last                   1296675 non-null  object \n",
            " 7   gender                 1296675 non-null  object \n",
            " 8   street                 1296675 non-null  object \n",
            " 9   city                   1296675 non-null  object \n",
            " 10  state                  1296675 non-null  object \n",
            " 11  zip                    1296675 non-null  int64  \n",
            " 12  lat                    1296675 non-null  float64\n",
            " 13  long                   1296675 non-null  float64\n",
            " 14  city_pop               1296675 non-null  int64  \n",
            " 15  job                    1296675 non-null  object \n",
            " 16  dob                    1296675 non-null  object \n",
            " 17  trans_num              1296675 non-null  object \n",
            " 18  unix_time              1296675 non-null  int64  \n",
            " 19  merch_lat              1296675 non-null  float64\n",
            " 20  merch_long             1296675 non-null  float64\n",
            " 21  is_fraud               1296675 non-null  int64  \n",
            "dtypes: float64(5), int64(5), object(12)\n",
            "memory usage: 227.5+ MB\n"
          ]
        }
      ],
      "source": [
        "train.info() # 1296675 / 1.3M"
      ]
    },
    {
      "cell_type": "code",
      "execution_count": null,
      "metadata": {
        "colab": {
          "base_uri": "https://localhost:8080/",
          "height": 577
        },
        "id": "btJM_uj-PdK2",
        "outputId": "fe3ed8f5-5420-4fe2-a272-8c054d3280c6"
      },
      "outputs": [
        {
          "data": {
            "text/html": [
              "\n",
              "  <div id=\"df-a7792fc2-3a4b-4cdc-a207-9c10de89bc58\">\n",
              "    <div class=\"colab-df-container\">\n",
              "      <div>\n",
              "<style scoped>\n",
              "    .dataframe tbody tr th:only-of-type {\n",
              "        vertical-align: middle;\n",
              "    }\n",
              "\n",
              "    .dataframe tbody tr th {\n",
              "        vertical-align: top;\n",
              "    }\n",
              "\n",
              "    .dataframe thead th {\n",
              "        text-align: right;\n",
              "    }\n",
              "</style>\n",
              "<table border=\"1\" class=\"dataframe\">\n",
              "  <thead>\n",
              "    <tr style=\"text-align: right;\">\n",
              "      <th></th>\n",
              "      <th>trans_date_trans_time</th>\n",
              "      <th>cc_num</th>\n",
              "      <th>merchant</th>\n",
              "      <th>category</th>\n",
              "      <th>amt</th>\n",
              "      <th>first</th>\n",
              "      <th>last</th>\n",
              "      <th>gender</th>\n",
              "      <th>street</th>\n",
              "      <th>city</th>\n",
              "      <th>...</th>\n",
              "      <th>lat</th>\n",
              "      <th>long</th>\n",
              "      <th>city_pop</th>\n",
              "      <th>job</th>\n",
              "      <th>dob</th>\n",
              "      <th>trans_num</th>\n",
              "      <th>unix_time</th>\n",
              "      <th>merch_lat</th>\n",
              "      <th>merch_long</th>\n",
              "      <th>is_fraud</th>\n",
              "    </tr>\n",
              "  </thead>\n",
              "  <tbody>\n",
              "    <tr>\n",
              "      <th>0</th>\n",
              "      <td>2019-01-01 00:00:18</td>\n",
              "      <td>2703186189652095</td>\n",
              "      <td>fraud_Rippin, Kub and Mann</td>\n",
              "      <td>misc_net</td>\n",
              "      <td>4.97</td>\n",
              "      <td>Jennifer</td>\n",
              "      <td>Banks</td>\n",
              "      <td>F</td>\n",
              "      <td>561 Perry Cove</td>\n",
              "      <td>Moravian Falls</td>\n",
              "      <td>...</td>\n",
              "      <td>36.0788</td>\n",
              "      <td>-81.1781</td>\n",
              "      <td>3495</td>\n",
              "      <td>Psychologist, counselling</td>\n",
              "      <td>1988-03-09</td>\n",
              "      <td>0b242abb623afc578575680df30655b9</td>\n",
              "      <td>1325376018</td>\n",
              "      <td>36.011293</td>\n",
              "      <td>-82.048315</td>\n",
              "      <td>0</td>\n",
              "    </tr>\n",
              "    <tr>\n",
              "      <th>1</th>\n",
              "      <td>2019-01-01 00:00:44</td>\n",
              "      <td>630423337322</td>\n",
              "      <td>fraud_Heller, Gutmann and Zieme</td>\n",
              "      <td>grocery_pos</td>\n",
              "      <td>107.23</td>\n",
              "      <td>Stephanie</td>\n",
              "      <td>Gill</td>\n",
              "      <td>F</td>\n",
              "      <td>43039 Riley Greens Suite 393</td>\n",
              "      <td>Orient</td>\n",
              "      <td>...</td>\n",
              "      <td>48.8878</td>\n",
              "      <td>-118.2105</td>\n",
              "      <td>149</td>\n",
              "      <td>Special educational needs teacher</td>\n",
              "      <td>1978-06-21</td>\n",
              "      <td>1f76529f8574734946361c461b024d99</td>\n",
              "      <td>1325376044</td>\n",
              "      <td>49.159047</td>\n",
              "      <td>-118.186462</td>\n",
              "      <td>0</td>\n",
              "    </tr>\n",
              "    <tr>\n",
              "      <th>2</th>\n",
              "      <td>2019-01-01 00:00:51</td>\n",
              "      <td>38859492057661</td>\n",
              "      <td>fraud_Lind-Buckridge</td>\n",
              "      <td>entertainment</td>\n",
              "      <td>220.11</td>\n",
              "      <td>Edward</td>\n",
              "      <td>Sanchez</td>\n",
              "      <td>M</td>\n",
              "      <td>594 White Dale Suite 530</td>\n",
              "      <td>Malad City</td>\n",
              "      <td>...</td>\n",
              "      <td>42.1808</td>\n",
              "      <td>-112.2620</td>\n",
              "      <td>4154</td>\n",
              "      <td>Nature conservation officer</td>\n",
              "      <td>1962-01-19</td>\n",
              "      <td>a1a22d70485983eac12b5b88dad1cf95</td>\n",
              "      <td>1325376051</td>\n",
              "      <td>43.150704</td>\n",
              "      <td>-112.154481</td>\n",
              "      <td>0</td>\n",
              "    </tr>\n",
              "    <tr>\n",
              "      <th>3</th>\n",
              "      <td>2019-01-01 00:01:16</td>\n",
              "      <td>3534093764340240</td>\n",
              "      <td>fraud_Kutch, Hermiston and Farrell</td>\n",
              "      <td>gas_transport</td>\n",
              "      <td>45.00</td>\n",
              "      <td>Jeremy</td>\n",
              "      <td>White</td>\n",
              "      <td>M</td>\n",
              "      <td>9443 Cynthia Court Apt. 038</td>\n",
              "      <td>Boulder</td>\n",
              "      <td>...</td>\n",
              "      <td>46.2306</td>\n",
              "      <td>-112.1138</td>\n",
              "      <td>1939</td>\n",
              "      <td>Patent attorney</td>\n",
              "      <td>1967-01-12</td>\n",
              "      <td>6b849c168bdad6f867558c3793159a81</td>\n",
              "      <td>1325376076</td>\n",
              "      <td>47.034331</td>\n",
              "      <td>-112.561071</td>\n",
              "      <td>0</td>\n",
              "    </tr>\n",
              "    <tr>\n",
              "      <th>4</th>\n",
              "      <td>2019-01-01 00:03:06</td>\n",
              "      <td>375534208663984</td>\n",
              "      <td>fraud_Keeling-Crist</td>\n",
              "      <td>misc_pos</td>\n",
              "      <td>41.96</td>\n",
              "      <td>Tyler</td>\n",
              "      <td>Garcia</td>\n",
              "      <td>M</td>\n",
              "      <td>408 Bradley Rest</td>\n",
              "      <td>Doe Hill</td>\n",
              "      <td>...</td>\n",
              "      <td>38.4207</td>\n",
              "      <td>-79.4629</td>\n",
              "      <td>99</td>\n",
              "      <td>Dance movement psychotherapist</td>\n",
              "      <td>1986-03-28</td>\n",
              "      <td>a41d7549acf90789359a9aa5346dcb46</td>\n",
              "      <td>1325376186</td>\n",
              "      <td>38.674999</td>\n",
              "      <td>-78.632459</td>\n",
              "      <td>0</td>\n",
              "    </tr>\n",
              "  </tbody>\n",
              "</table>\n",
              "<p>5 rows × 22 columns</p>\n",
              "</div>\n",
              "      <button class=\"colab-df-convert\" onclick=\"convertToInteractive('df-a7792fc2-3a4b-4cdc-a207-9c10de89bc58')\"\n",
              "              title=\"Convert this dataframe to an interactive table.\"\n",
              "              style=\"display:none;\">\n",
              "        \n",
              "  <svg xmlns=\"http://www.w3.org/2000/svg\" height=\"24px\"viewBox=\"0 0 24 24\"\n",
              "       width=\"24px\">\n",
              "    <path d=\"M0 0h24v24H0V0z\" fill=\"none\"/>\n",
              "    <path d=\"M18.56 5.44l.94 2.06.94-2.06 2.06-.94-2.06-.94-.94-2.06-.94 2.06-2.06.94zm-11 1L8.5 8.5l.94-2.06 2.06-.94-2.06-.94L8.5 2.5l-.94 2.06-2.06.94zm10 10l.94 2.06.94-2.06 2.06-.94-2.06-.94-.94-2.06-.94 2.06-2.06.94z\"/><path d=\"M17.41 7.96l-1.37-1.37c-.4-.4-.92-.59-1.43-.59-.52 0-1.04.2-1.43.59L10.3 9.45l-7.72 7.72c-.78.78-.78 2.05 0 2.83L4 21.41c.39.39.9.59 1.41.59.51 0 1.02-.2 1.41-.59l7.78-7.78 2.81-2.81c.8-.78.8-2.07 0-2.86zM5.41 20L4 18.59l7.72-7.72 1.47 1.35L5.41 20z\"/>\n",
              "  </svg>\n",
              "      </button>\n",
              "      \n",
              "  <style>\n",
              "    .colab-df-container {\n",
              "      display:flex;\n",
              "      flex-wrap:wrap;\n",
              "      gap: 12px;\n",
              "    }\n",
              "\n",
              "    .colab-df-convert {\n",
              "      background-color: #E8F0FE;\n",
              "      border: none;\n",
              "      border-radius: 50%;\n",
              "      cursor: pointer;\n",
              "      display: none;\n",
              "      fill: #1967D2;\n",
              "      height: 32px;\n",
              "      padding: 0 0 0 0;\n",
              "      width: 32px;\n",
              "    }\n",
              "\n",
              "    .colab-df-convert:hover {\n",
              "      background-color: #E2EBFA;\n",
              "      box-shadow: 0px 1px 2px rgba(60, 64, 67, 0.3), 0px 1px 3px 1px rgba(60, 64, 67, 0.15);\n",
              "      fill: #174EA6;\n",
              "    }\n",
              "\n",
              "    [theme=dark] .colab-df-convert {\n",
              "      background-color: #3B4455;\n",
              "      fill: #D2E3FC;\n",
              "    }\n",
              "\n",
              "    [theme=dark] .colab-df-convert:hover {\n",
              "      background-color: #434B5C;\n",
              "      box-shadow: 0px 1px 3px 1px rgba(0, 0, 0, 0.15);\n",
              "      filter: drop-shadow(0px 1px 2px rgba(0, 0, 0, 0.3));\n",
              "      fill: #FFFFFF;\n",
              "    }\n",
              "  </style>\n",
              "\n",
              "      <script>\n",
              "        const buttonEl =\n",
              "          document.querySelector('#df-a7792fc2-3a4b-4cdc-a207-9c10de89bc58 button.colab-df-convert');\n",
              "        buttonEl.style.display =\n",
              "          google.colab.kernel.accessAllowed ? 'block' : 'none';\n",
              "\n",
              "        async function convertToInteractive(key) {\n",
              "          const element = document.querySelector('#df-a7792fc2-3a4b-4cdc-a207-9c10de89bc58');\n",
              "          const dataTable =\n",
              "            await google.colab.kernel.invokeFunction('convertToInteractive',\n",
              "                                                     [key], {});\n",
              "          if (!dataTable) return;\n",
              "\n",
              "          const docLinkHtml = 'Like what you see? Visit the ' +\n",
              "            '<a target=\"_blank\" href=https://colab.research.google.com/notebooks/data_table.ipynb>data table notebook</a>'\n",
              "            + ' to learn more about interactive tables.';\n",
              "          element.innerHTML = '';\n",
              "          dataTable['output_type'] = 'display_data';\n",
              "          await google.colab.output.renderOutput(dataTable, element);\n",
              "          const docLink = document.createElement('div');\n",
              "          docLink.innerHTML = docLinkHtml;\n",
              "          element.appendChild(docLink);\n",
              "        }\n",
              "      </script>\n",
              "    </div>\n",
              "  </div>\n",
              "  "
            ],
            "text/plain": [
              "  trans_date_trans_time            cc_num                            merchant  \\\n",
              "0   2019-01-01 00:00:18  2703186189652095          fraud_Rippin, Kub and Mann   \n",
              "1   2019-01-01 00:00:44      630423337322     fraud_Heller, Gutmann and Zieme   \n",
              "2   2019-01-01 00:00:51    38859492057661                fraud_Lind-Buckridge   \n",
              "3   2019-01-01 00:01:16  3534093764340240  fraud_Kutch, Hermiston and Farrell   \n",
              "4   2019-01-01 00:03:06   375534208663984                 fraud_Keeling-Crist   \n",
              "\n",
              "        category     amt      first     last gender  \\\n",
              "0       misc_net    4.97   Jennifer    Banks      F   \n",
              "1    grocery_pos  107.23  Stephanie     Gill      F   \n",
              "2  entertainment  220.11     Edward  Sanchez      M   \n",
              "3  gas_transport   45.00     Jeremy    White      M   \n",
              "4       misc_pos   41.96      Tyler   Garcia      M   \n",
              "\n",
              "                         street            city  ...      lat      long  \\\n",
              "0                561 Perry Cove  Moravian Falls  ...  36.0788  -81.1781   \n",
              "1  43039 Riley Greens Suite 393          Orient  ...  48.8878 -118.2105   \n",
              "2      594 White Dale Suite 530      Malad City  ...  42.1808 -112.2620   \n",
              "3   9443 Cynthia Court Apt. 038         Boulder  ...  46.2306 -112.1138   \n",
              "4              408 Bradley Rest        Doe Hill  ...  38.4207  -79.4629   \n",
              "\n",
              "   city_pop                                job         dob  \\\n",
              "0      3495          Psychologist, counselling  1988-03-09   \n",
              "1       149  Special educational needs teacher  1978-06-21   \n",
              "2      4154        Nature conservation officer  1962-01-19   \n",
              "3      1939                    Patent attorney  1967-01-12   \n",
              "4        99     Dance movement psychotherapist  1986-03-28   \n",
              "\n",
              "                          trans_num   unix_time  merch_lat  merch_long  \\\n",
              "0  0b242abb623afc578575680df30655b9  1325376018  36.011293  -82.048315   \n",
              "1  1f76529f8574734946361c461b024d99  1325376044  49.159047 -118.186462   \n",
              "2  a1a22d70485983eac12b5b88dad1cf95  1325376051  43.150704 -112.154481   \n",
              "3  6b849c168bdad6f867558c3793159a81  1325376076  47.034331 -112.561071   \n",
              "4  a41d7549acf90789359a9aa5346dcb46  1325376186  38.674999  -78.632459   \n",
              "\n",
              "   is_fraud  \n",
              "0         0  \n",
              "1         0  \n",
              "2         0  \n",
              "3         0  \n",
              "4         0  \n",
              "\n",
              "[5 rows x 22 columns]"
            ]
          },
          "execution_count": 11,
          "metadata": {},
          "output_type": "execute_result"
        }
      ],
      "source": [
        "train.head()"
      ]
    },
    {
      "cell_type": "code",
      "execution_count": null,
      "metadata": {
        "id": "7XZjFvlcPxli"
      },
      "outputs": [],
      "source": [
        "test = pd.read_csv('fraudTest.csv', index_col=0)"
      ]
    },
    {
      "cell_type": "code",
      "execution_count": null,
      "metadata": {
        "colab": {
          "base_uri": "https://localhost:8080/",
          "height": 507
        },
        "id": "DMvxzSnkP3gy",
        "outputId": "fb15b0f2-b1f9-446b-db09-079a8079e795"
      },
      "outputs": [
        {
          "data": {
            "text/html": [
              "\n",
              "  <div id=\"df-51440dda-b9e4-4ae7-86a8-76f44fd0fd53\">\n",
              "    <div class=\"colab-df-container\">\n",
              "      <div>\n",
              "<style scoped>\n",
              "    .dataframe tbody tr th:only-of-type {\n",
              "        vertical-align: middle;\n",
              "    }\n",
              "\n",
              "    .dataframe tbody tr th {\n",
              "        vertical-align: top;\n",
              "    }\n",
              "\n",
              "    .dataframe thead th {\n",
              "        text-align: right;\n",
              "    }\n",
              "</style>\n",
              "<table border=\"1\" class=\"dataframe\">\n",
              "  <thead>\n",
              "    <tr style=\"text-align: right;\">\n",
              "      <th></th>\n",
              "      <th>trans_date_trans_time</th>\n",
              "      <th>cc_num</th>\n",
              "      <th>merchant</th>\n",
              "      <th>category</th>\n",
              "      <th>amt</th>\n",
              "      <th>first</th>\n",
              "      <th>last</th>\n",
              "      <th>gender</th>\n",
              "      <th>street</th>\n",
              "      <th>city</th>\n",
              "      <th>...</th>\n",
              "      <th>lat</th>\n",
              "      <th>long</th>\n",
              "      <th>city_pop</th>\n",
              "      <th>job</th>\n",
              "      <th>dob</th>\n",
              "      <th>trans_num</th>\n",
              "      <th>unix_time</th>\n",
              "      <th>merch_lat</th>\n",
              "      <th>merch_long</th>\n",
              "      <th>is_fraud</th>\n",
              "    </tr>\n",
              "  </thead>\n",
              "  <tbody>\n",
              "    <tr>\n",
              "      <th>0</th>\n",
              "      <td>2020-06-21 12:14:25</td>\n",
              "      <td>2291163933867244</td>\n",
              "      <td>fraud_Kirlin and Sons</td>\n",
              "      <td>personal_care</td>\n",
              "      <td>2.86</td>\n",
              "      <td>Jeff</td>\n",
              "      <td>Elliott</td>\n",
              "      <td>M</td>\n",
              "      <td>351 Darlene Green</td>\n",
              "      <td>Columbia</td>\n",
              "      <td>...</td>\n",
              "      <td>33.9659</td>\n",
              "      <td>-80.9355</td>\n",
              "      <td>333497</td>\n",
              "      <td>Mechanical engineer</td>\n",
              "      <td>1968-03-19</td>\n",
              "      <td>2da90c7d74bd46a0caf3777415b3ebd3</td>\n",
              "      <td>1371816865</td>\n",
              "      <td>33.986391</td>\n",
              "      <td>-81.200714</td>\n",
              "      <td>0</td>\n",
              "    </tr>\n",
              "    <tr>\n",
              "      <th>1</th>\n",
              "      <td>2020-06-21 12:14:33</td>\n",
              "      <td>3573030041201292</td>\n",
              "      <td>fraud_Sporer-Keebler</td>\n",
              "      <td>personal_care</td>\n",
              "      <td>29.84</td>\n",
              "      <td>Joanne</td>\n",
              "      <td>Williams</td>\n",
              "      <td>F</td>\n",
              "      <td>3638 Marsh Union</td>\n",
              "      <td>Altonah</td>\n",
              "      <td>...</td>\n",
              "      <td>40.3207</td>\n",
              "      <td>-110.4360</td>\n",
              "      <td>302</td>\n",
              "      <td>Sales professional, IT</td>\n",
              "      <td>1990-01-17</td>\n",
              "      <td>324cc204407e99f51b0d6ca0055005e7</td>\n",
              "      <td>1371816873</td>\n",
              "      <td>39.450498</td>\n",
              "      <td>-109.960431</td>\n",
              "      <td>0</td>\n",
              "    </tr>\n",
              "    <tr>\n",
              "      <th>2</th>\n",
              "      <td>2020-06-21 12:14:53</td>\n",
              "      <td>3598215285024754</td>\n",
              "      <td>fraud_Swaniawski, Nitzsche and Welch</td>\n",
              "      <td>health_fitness</td>\n",
              "      <td>41.28</td>\n",
              "      <td>Ashley</td>\n",
              "      <td>Lopez</td>\n",
              "      <td>F</td>\n",
              "      <td>9333 Valentine Point</td>\n",
              "      <td>Bellmore</td>\n",
              "      <td>...</td>\n",
              "      <td>40.6729</td>\n",
              "      <td>-73.5365</td>\n",
              "      <td>34496</td>\n",
              "      <td>Librarian, public</td>\n",
              "      <td>1970-10-21</td>\n",
              "      <td>c81755dbbbea9d5c77f094348a7579be</td>\n",
              "      <td>1371816893</td>\n",
              "      <td>40.495810</td>\n",
              "      <td>-74.196111</td>\n",
              "      <td>0</td>\n",
              "    </tr>\n",
              "    <tr>\n",
              "      <th>3</th>\n",
              "      <td>2020-06-21 12:15:15</td>\n",
              "      <td>3591919803438423</td>\n",
              "      <td>fraud_Haley Group</td>\n",
              "      <td>misc_pos</td>\n",
              "      <td>60.05</td>\n",
              "      <td>Brian</td>\n",
              "      <td>Williams</td>\n",
              "      <td>M</td>\n",
              "      <td>32941 Krystal Mill Apt. 552</td>\n",
              "      <td>Titusville</td>\n",
              "      <td>...</td>\n",
              "      <td>28.5697</td>\n",
              "      <td>-80.8191</td>\n",
              "      <td>54767</td>\n",
              "      <td>Set designer</td>\n",
              "      <td>1987-07-25</td>\n",
              "      <td>2159175b9efe66dc301f149d3d5abf8c</td>\n",
              "      <td>1371816915</td>\n",
              "      <td>28.812398</td>\n",
              "      <td>-80.883061</td>\n",
              "      <td>0</td>\n",
              "    </tr>\n",
              "    <tr>\n",
              "      <th>4</th>\n",
              "      <td>2020-06-21 12:15:17</td>\n",
              "      <td>3526826139003047</td>\n",
              "      <td>fraud_Johnston-Casper</td>\n",
              "      <td>travel</td>\n",
              "      <td>3.19</td>\n",
              "      <td>Nathan</td>\n",
              "      <td>Massey</td>\n",
              "      <td>M</td>\n",
              "      <td>5783 Evan Roads Apt. 465</td>\n",
              "      <td>Falmouth</td>\n",
              "      <td>...</td>\n",
              "      <td>44.2529</td>\n",
              "      <td>-85.0170</td>\n",
              "      <td>1126</td>\n",
              "      <td>Furniture designer</td>\n",
              "      <td>1955-07-06</td>\n",
              "      <td>57ff021bd3f328f8738bb535c302a31b</td>\n",
              "      <td>1371816917</td>\n",
              "      <td>44.959148</td>\n",
              "      <td>-85.884734</td>\n",
              "      <td>0</td>\n",
              "    </tr>\n",
              "  </tbody>\n",
              "</table>\n",
              "<p>5 rows × 22 columns</p>\n",
              "</div>\n",
              "      <button class=\"colab-df-convert\" onclick=\"convertToInteractive('df-51440dda-b9e4-4ae7-86a8-76f44fd0fd53')\"\n",
              "              title=\"Convert this dataframe to an interactive table.\"\n",
              "              style=\"display:none;\">\n",
              "        \n",
              "  <svg xmlns=\"http://www.w3.org/2000/svg\" height=\"24px\"viewBox=\"0 0 24 24\"\n",
              "       width=\"24px\">\n",
              "    <path d=\"M0 0h24v24H0V0z\" fill=\"none\"/>\n",
              "    <path d=\"M18.56 5.44l.94 2.06.94-2.06 2.06-.94-2.06-.94-.94-2.06-.94 2.06-2.06.94zm-11 1L8.5 8.5l.94-2.06 2.06-.94-2.06-.94L8.5 2.5l-.94 2.06-2.06.94zm10 10l.94 2.06.94-2.06 2.06-.94-2.06-.94-.94-2.06-.94 2.06-2.06.94z\"/><path d=\"M17.41 7.96l-1.37-1.37c-.4-.4-.92-.59-1.43-.59-.52 0-1.04.2-1.43.59L10.3 9.45l-7.72 7.72c-.78.78-.78 2.05 0 2.83L4 21.41c.39.39.9.59 1.41.59.51 0 1.02-.2 1.41-.59l7.78-7.78 2.81-2.81c.8-.78.8-2.07 0-2.86zM5.41 20L4 18.59l7.72-7.72 1.47 1.35L5.41 20z\"/>\n",
              "  </svg>\n",
              "      </button>\n",
              "      \n",
              "  <style>\n",
              "    .colab-df-container {\n",
              "      display:flex;\n",
              "      flex-wrap:wrap;\n",
              "      gap: 12px;\n",
              "    }\n",
              "\n",
              "    .colab-df-convert {\n",
              "      background-color: #E8F0FE;\n",
              "      border: none;\n",
              "      border-radius: 50%;\n",
              "      cursor: pointer;\n",
              "      display: none;\n",
              "      fill: #1967D2;\n",
              "      height: 32px;\n",
              "      padding: 0 0 0 0;\n",
              "      width: 32px;\n",
              "    }\n",
              "\n",
              "    .colab-df-convert:hover {\n",
              "      background-color: #E2EBFA;\n",
              "      box-shadow: 0px 1px 2px rgba(60, 64, 67, 0.3), 0px 1px 3px 1px rgba(60, 64, 67, 0.15);\n",
              "      fill: #174EA6;\n",
              "    }\n",
              "\n",
              "    [theme=dark] .colab-df-convert {\n",
              "      background-color: #3B4455;\n",
              "      fill: #D2E3FC;\n",
              "    }\n",
              "\n",
              "    [theme=dark] .colab-df-convert:hover {\n",
              "      background-color: #434B5C;\n",
              "      box-shadow: 0px 1px 3px 1px rgba(0, 0, 0, 0.15);\n",
              "      filter: drop-shadow(0px 1px 2px rgba(0, 0, 0, 0.3));\n",
              "      fill: #FFFFFF;\n",
              "    }\n",
              "  </style>\n",
              "\n",
              "      <script>\n",
              "        const buttonEl =\n",
              "          document.querySelector('#df-51440dda-b9e4-4ae7-86a8-76f44fd0fd53 button.colab-df-convert');\n",
              "        buttonEl.style.display =\n",
              "          google.colab.kernel.accessAllowed ? 'block' : 'none';\n",
              "\n",
              "        async function convertToInteractive(key) {\n",
              "          const element = document.querySelector('#df-51440dda-b9e4-4ae7-86a8-76f44fd0fd53');\n",
              "          const dataTable =\n",
              "            await google.colab.kernel.invokeFunction('convertToInteractive',\n",
              "                                                     [key], {});\n",
              "          if (!dataTable) return;\n",
              "\n",
              "          const docLinkHtml = 'Like what you see? Visit the ' +\n",
              "            '<a target=\"_blank\" href=https://colab.research.google.com/notebooks/data_table.ipynb>data table notebook</a>'\n",
              "            + ' to learn more about interactive tables.';\n",
              "          element.innerHTML = '';\n",
              "          dataTable['output_type'] = 'display_data';\n",
              "          await google.colab.output.renderOutput(dataTable, element);\n",
              "          const docLink = document.createElement('div');\n",
              "          docLink.innerHTML = docLinkHtml;\n",
              "          element.appendChild(docLink);\n",
              "        }\n",
              "      </script>\n",
              "    </div>\n",
              "  </div>\n",
              "  "
            ],
            "text/plain": [
              "  trans_date_trans_time            cc_num  \\\n",
              "0   2020-06-21 12:14:25  2291163933867244   \n",
              "1   2020-06-21 12:14:33  3573030041201292   \n",
              "2   2020-06-21 12:14:53  3598215285024754   \n",
              "3   2020-06-21 12:15:15  3591919803438423   \n",
              "4   2020-06-21 12:15:17  3526826139003047   \n",
              "\n",
              "                               merchant        category    amt   first  \\\n",
              "0                 fraud_Kirlin and Sons   personal_care   2.86    Jeff   \n",
              "1                  fraud_Sporer-Keebler   personal_care  29.84  Joanne   \n",
              "2  fraud_Swaniawski, Nitzsche and Welch  health_fitness  41.28  Ashley   \n",
              "3                     fraud_Haley Group        misc_pos  60.05   Brian   \n",
              "4                 fraud_Johnston-Casper          travel   3.19  Nathan   \n",
              "\n",
              "       last gender                       street        city  ...      lat  \\\n",
              "0   Elliott      M            351 Darlene Green    Columbia  ...  33.9659   \n",
              "1  Williams      F             3638 Marsh Union     Altonah  ...  40.3207   \n",
              "2     Lopez      F         9333 Valentine Point    Bellmore  ...  40.6729   \n",
              "3  Williams      M  32941 Krystal Mill Apt. 552  Titusville  ...  28.5697   \n",
              "4    Massey      M     5783 Evan Roads Apt. 465    Falmouth  ...  44.2529   \n",
              "\n",
              "       long  city_pop                     job         dob  \\\n",
              "0  -80.9355    333497     Mechanical engineer  1968-03-19   \n",
              "1 -110.4360       302  Sales professional, IT  1990-01-17   \n",
              "2  -73.5365     34496       Librarian, public  1970-10-21   \n",
              "3  -80.8191     54767            Set designer  1987-07-25   \n",
              "4  -85.0170      1126      Furniture designer  1955-07-06   \n",
              "\n",
              "                          trans_num   unix_time  merch_lat  merch_long  \\\n",
              "0  2da90c7d74bd46a0caf3777415b3ebd3  1371816865  33.986391  -81.200714   \n",
              "1  324cc204407e99f51b0d6ca0055005e7  1371816873  39.450498 -109.960431   \n",
              "2  c81755dbbbea9d5c77f094348a7579be  1371816893  40.495810  -74.196111   \n",
              "3  2159175b9efe66dc301f149d3d5abf8c  1371816915  28.812398  -80.883061   \n",
              "4  57ff021bd3f328f8738bb535c302a31b  1371816917  44.959148  -85.884734   \n",
              "\n",
              "   is_fraud  \n",
              "0         0  \n",
              "1         0  \n",
              "2         0  \n",
              "3         0  \n",
              "4         0  \n",
              "\n",
              "[5 rows x 22 columns]"
            ]
          },
          "execution_count": 13,
          "metadata": {},
          "output_type": "execute_result"
        }
      ],
      "source": [
        "test.head()"
      ]
    },
    {
      "cell_type": "code",
      "execution_count": null,
      "metadata": {
        "colab": {
          "base_uri": "https://localhost:8080/"
        },
        "id": "e8oJsOPjP9lz",
        "outputId": "1f66cde3-b8dd-4478-e93d-a3f34d41e1a8"
      },
      "outputs": [
        {
          "name": "stdout",
          "output_type": "stream",
          "text": [
            "<class 'pandas.core.frame.DataFrame'>\n",
            "Int64Index: 555719 entries, 0 to 555718\n",
            "Data columns (total 22 columns):\n",
            " #   Column                 Non-Null Count   Dtype  \n",
            "---  ------                 --------------   -----  \n",
            " 0   trans_date_trans_time  555719 non-null  object \n",
            " 1   cc_num                 555719 non-null  int64  \n",
            " 2   merchant               555719 non-null  object \n",
            " 3   category               555719 non-null  object \n",
            " 4   amt                    555719 non-null  float64\n",
            " 5   first                  555719 non-null  object \n",
            " 6   last                   555719 non-null  object \n",
            " 7   gender                 555719 non-null  object \n",
            " 8   street                 555719 non-null  object \n",
            " 9   city                   555719 non-null  object \n",
            " 10  state                  555719 non-null  object \n",
            " 11  zip                    555719 non-null  int64  \n",
            " 12  lat                    555719 non-null  float64\n",
            " 13  long                   555719 non-null  float64\n",
            " 14  city_pop               555719 non-null  int64  \n",
            " 15  job                    555719 non-null  object \n",
            " 16  dob                    555719 non-null  object \n",
            " 17  trans_num              555719 non-null  object \n",
            " 18  unix_time              555719 non-null  int64  \n",
            " 19  merch_lat              555719 non-null  float64\n",
            " 20  merch_long             555719 non-null  float64\n",
            " 21  is_fraud               555719 non-null  int64  \n",
            "dtypes: float64(5), int64(5), object(12)\n",
            "memory usage: 97.5+ MB\n"
          ]
        }
      ],
      "source": [
        "test.info() # 555719 / 0.55M"
      ]
    },
    {
      "cell_type": "code",
      "execution_count": null,
      "metadata": {
        "colab": {
          "base_uri": "https://localhost:8080/",
          "height": 852
        },
        "id": "B2F-7BvYQJuV",
        "outputId": "aff293b1-51dc-484f-ae54-7bd65740f021"
      },
      "outputs": [
        {
          "data": {
            "text/html": [
              "\n",
              "  <div id=\"df-1fd7fe2c-6c02-43fc-aca6-b9b9376b132c\">\n",
              "    <div class=\"colab-df-container\">\n",
              "      <div>\n",
              "<style scoped>\n",
              "    .dataframe tbody tr th:only-of-type {\n",
              "        vertical-align: middle;\n",
              "    }\n",
              "\n",
              "    .dataframe tbody tr th {\n",
              "        vertical-align: top;\n",
              "    }\n",
              "\n",
              "    .dataframe thead th {\n",
              "        text-align: right;\n",
              "    }\n",
              "</style>\n",
              "<table border=\"1\" class=\"dataframe\">\n",
              "  <thead>\n",
              "    <tr style=\"text-align: right;\">\n",
              "      <th></th>\n",
              "      <th>trans_date_trans_time</th>\n",
              "      <th>cc_num</th>\n",
              "      <th>merchant</th>\n",
              "      <th>category</th>\n",
              "      <th>amt</th>\n",
              "      <th>first</th>\n",
              "      <th>last</th>\n",
              "      <th>gender</th>\n",
              "      <th>street</th>\n",
              "      <th>city</th>\n",
              "      <th>...</th>\n",
              "      <th>lat</th>\n",
              "      <th>long</th>\n",
              "      <th>city_pop</th>\n",
              "      <th>job</th>\n",
              "      <th>dob</th>\n",
              "      <th>trans_num</th>\n",
              "      <th>unix_time</th>\n",
              "      <th>merch_lat</th>\n",
              "      <th>merch_long</th>\n",
              "      <th>is_fraud</th>\n",
              "    </tr>\n",
              "  </thead>\n",
              "  <tbody>\n",
              "    <tr>\n",
              "      <th>0</th>\n",
              "      <td>2019-01-01 00:00:18</td>\n",
              "      <td>2703186189652095</td>\n",
              "      <td>fraud_Rippin, Kub and Mann</td>\n",
              "      <td>misc_net</td>\n",
              "      <td>4.97</td>\n",
              "      <td>Jennifer</td>\n",
              "      <td>Banks</td>\n",
              "      <td>F</td>\n",
              "      <td>561 Perry Cove</td>\n",
              "      <td>Moravian Falls</td>\n",
              "      <td>...</td>\n",
              "      <td>36.0788</td>\n",
              "      <td>-81.1781</td>\n",
              "      <td>3495</td>\n",
              "      <td>Psychologist, counselling</td>\n",
              "      <td>1988-03-09</td>\n",
              "      <td>0b242abb623afc578575680df30655b9</td>\n",
              "      <td>1325376018</td>\n",
              "      <td>36.011293</td>\n",
              "      <td>-82.048315</td>\n",
              "      <td>0</td>\n",
              "    </tr>\n",
              "    <tr>\n",
              "      <th>1</th>\n",
              "      <td>2019-01-01 00:00:44</td>\n",
              "      <td>630423337322</td>\n",
              "      <td>fraud_Heller, Gutmann and Zieme</td>\n",
              "      <td>grocery_pos</td>\n",
              "      <td>107.23</td>\n",
              "      <td>Stephanie</td>\n",
              "      <td>Gill</td>\n",
              "      <td>F</td>\n",
              "      <td>43039 Riley Greens Suite 393</td>\n",
              "      <td>Orient</td>\n",
              "      <td>...</td>\n",
              "      <td>48.8878</td>\n",
              "      <td>-118.2105</td>\n",
              "      <td>149</td>\n",
              "      <td>Special educational needs teacher</td>\n",
              "      <td>1978-06-21</td>\n",
              "      <td>1f76529f8574734946361c461b024d99</td>\n",
              "      <td>1325376044</td>\n",
              "      <td>49.159047</td>\n",
              "      <td>-118.186462</td>\n",
              "      <td>0</td>\n",
              "    </tr>\n",
              "    <tr>\n",
              "      <th>2</th>\n",
              "      <td>2019-01-01 00:00:51</td>\n",
              "      <td>38859492057661</td>\n",
              "      <td>fraud_Lind-Buckridge</td>\n",
              "      <td>entertainment</td>\n",
              "      <td>220.11</td>\n",
              "      <td>Edward</td>\n",
              "      <td>Sanchez</td>\n",
              "      <td>M</td>\n",
              "      <td>594 White Dale Suite 530</td>\n",
              "      <td>Malad City</td>\n",
              "      <td>...</td>\n",
              "      <td>42.1808</td>\n",
              "      <td>-112.2620</td>\n",
              "      <td>4154</td>\n",
              "      <td>Nature conservation officer</td>\n",
              "      <td>1962-01-19</td>\n",
              "      <td>a1a22d70485983eac12b5b88dad1cf95</td>\n",
              "      <td>1325376051</td>\n",
              "      <td>43.150704</td>\n",
              "      <td>-112.154481</td>\n",
              "      <td>0</td>\n",
              "    </tr>\n",
              "    <tr>\n",
              "      <th>3</th>\n",
              "      <td>2019-01-01 00:01:16</td>\n",
              "      <td>3534093764340240</td>\n",
              "      <td>fraud_Kutch, Hermiston and Farrell</td>\n",
              "      <td>gas_transport</td>\n",
              "      <td>45.00</td>\n",
              "      <td>Jeremy</td>\n",
              "      <td>White</td>\n",
              "      <td>M</td>\n",
              "      <td>9443 Cynthia Court Apt. 038</td>\n",
              "      <td>Boulder</td>\n",
              "      <td>...</td>\n",
              "      <td>46.2306</td>\n",
              "      <td>-112.1138</td>\n",
              "      <td>1939</td>\n",
              "      <td>Patent attorney</td>\n",
              "      <td>1967-01-12</td>\n",
              "      <td>6b849c168bdad6f867558c3793159a81</td>\n",
              "      <td>1325376076</td>\n",
              "      <td>47.034331</td>\n",
              "      <td>-112.561071</td>\n",
              "      <td>0</td>\n",
              "    </tr>\n",
              "    <tr>\n",
              "      <th>4</th>\n",
              "      <td>2019-01-01 00:03:06</td>\n",
              "      <td>375534208663984</td>\n",
              "      <td>fraud_Keeling-Crist</td>\n",
              "      <td>misc_pos</td>\n",
              "      <td>41.96</td>\n",
              "      <td>Tyler</td>\n",
              "      <td>Garcia</td>\n",
              "      <td>M</td>\n",
              "      <td>408 Bradley Rest</td>\n",
              "      <td>Doe Hill</td>\n",
              "      <td>...</td>\n",
              "      <td>38.4207</td>\n",
              "      <td>-79.4629</td>\n",
              "      <td>99</td>\n",
              "      <td>Dance movement psychotherapist</td>\n",
              "      <td>1986-03-28</td>\n",
              "      <td>a41d7549acf90789359a9aa5346dcb46</td>\n",
              "      <td>1325376186</td>\n",
              "      <td>38.674999</td>\n",
              "      <td>-78.632459</td>\n",
              "      <td>0</td>\n",
              "    </tr>\n",
              "    <tr>\n",
              "      <th>...</th>\n",
              "      <td>...</td>\n",
              "      <td>...</td>\n",
              "      <td>...</td>\n",
              "      <td>...</td>\n",
              "      <td>...</td>\n",
              "      <td>...</td>\n",
              "      <td>...</td>\n",
              "      <td>...</td>\n",
              "      <td>...</td>\n",
              "      <td>...</td>\n",
              "      <td>...</td>\n",
              "      <td>...</td>\n",
              "      <td>...</td>\n",
              "      <td>...</td>\n",
              "      <td>...</td>\n",
              "      <td>...</td>\n",
              "      <td>...</td>\n",
              "      <td>...</td>\n",
              "      <td>...</td>\n",
              "      <td>...</td>\n",
              "      <td>...</td>\n",
              "    </tr>\n",
              "    <tr>\n",
              "      <th>1852389</th>\n",
              "      <td>2020-12-31 23:59:07</td>\n",
              "      <td>30560609640617</td>\n",
              "      <td>fraud_Reilly and Sons</td>\n",
              "      <td>health_fitness</td>\n",
              "      <td>43.77</td>\n",
              "      <td>Michael</td>\n",
              "      <td>Olson</td>\n",
              "      <td>M</td>\n",
              "      <td>558 Michael Estates</td>\n",
              "      <td>Luray</td>\n",
              "      <td>...</td>\n",
              "      <td>40.4931</td>\n",
              "      <td>-91.8912</td>\n",
              "      <td>519</td>\n",
              "      <td>Town planner</td>\n",
              "      <td>1966-02-13</td>\n",
              "      <td>9b1f753c79894c9f4b71f04581835ada</td>\n",
              "      <td>1388534347</td>\n",
              "      <td>39.946837</td>\n",
              "      <td>-91.333331</td>\n",
              "      <td>0</td>\n",
              "    </tr>\n",
              "    <tr>\n",
              "      <th>1852390</th>\n",
              "      <td>2020-12-31 23:59:09</td>\n",
              "      <td>3556613125071656</td>\n",
              "      <td>fraud_Hoppe-Parisian</td>\n",
              "      <td>kids_pets</td>\n",
              "      <td>111.84</td>\n",
              "      <td>Jose</td>\n",
              "      <td>Vasquez</td>\n",
              "      <td>M</td>\n",
              "      <td>572 Davis Mountains</td>\n",
              "      <td>Lake Jackson</td>\n",
              "      <td>...</td>\n",
              "      <td>29.0393</td>\n",
              "      <td>-95.4401</td>\n",
              "      <td>28739</td>\n",
              "      <td>Futures trader</td>\n",
              "      <td>1999-12-27</td>\n",
              "      <td>2090647dac2c89a1d86c514c427f5b91</td>\n",
              "      <td>1388534349</td>\n",
              "      <td>29.661049</td>\n",
              "      <td>-96.186633</td>\n",
              "      <td>0</td>\n",
              "    </tr>\n",
              "    <tr>\n",
              "      <th>1852391</th>\n",
              "      <td>2020-12-31 23:59:15</td>\n",
              "      <td>6011724471098086</td>\n",
              "      <td>fraud_Rau-Robel</td>\n",
              "      <td>kids_pets</td>\n",
              "      <td>86.88</td>\n",
              "      <td>Ann</td>\n",
              "      <td>Lawson</td>\n",
              "      <td>F</td>\n",
              "      <td>144 Evans Islands Apt. 683</td>\n",
              "      <td>Burbank</td>\n",
              "      <td>...</td>\n",
              "      <td>46.1966</td>\n",
              "      <td>-118.9017</td>\n",
              "      <td>3684</td>\n",
              "      <td>Musician</td>\n",
              "      <td>1981-11-29</td>\n",
              "      <td>6c5b7c8add471975aa0fec023b2e8408</td>\n",
              "      <td>1388534355</td>\n",
              "      <td>46.658340</td>\n",
              "      <td>-119.715054</td>\n",
              "      <td>0</td>\n",
              "    </tr>\n",
              "    <tr>\n",
              "      <th>1852392</th>\n",
              "      <td>2020-12-31 23:59:24</td>\n",
              "      <td>4079773899158</td>\n",
              "      <td>fraud_Breitenberg LLC</td>\n",
              "      <td>travel</td>\n",
              "      <td>7.99</td>\n",
              "      <td>Eric</td>\n",
              "      <td>Preston</td>\n",
              "      <td>M</td>\n",
              "      <td>7020 Doyle Stream Apt. 951</td>\n",
              "      <td>Mesa</td>\n",
              "      <td>...</td>\n",
              "      <td>44.6255</td>\n",
              "      <td>-116.4493</td>\n",
              "      <td>129</td>\n",
              "      <td>Cartographer</td>\n",
              "      <td>1965-12-15</td>\n",
              "      <td>14392d723bb7737606b2700ac791b7aa</td>\n",
              "      <td>1388534364</td>\n",
              "      <td>44.470525</td>\n",
              "      <td>-117.080888</td>\n",
              "      <td>0</td>\n",
              "    </tr>\n",
              "    <tr>\n",
              "      <th>1852393</th>\n",
              "      <td>2020-12-31 23:59:34</td>\n",
              "      <td>4170689372027579</td>\n",
              "      <td>fraud_Dare-Marvin</td>\n",
              "      <td>entertainment</td>\n",
              "      <td>38.13</td>\n",
              "      <td>Samuel</td>\n",
              "      <td>Frey</td>\n",
              "      <td>M</td>\n",
              "      <td>830 Myers Plaza Apt. 384</td>\n",
              "      <td>Edmond</td>\n",
              "      <td>...</td>\n",
              "      <td>35.6665</td>\n",
              "      <td>-97.4798</td>\n",
              "      <td>116001</td>\n",
              "      <td>Media buyer</td>\n",
              "      <td>1993-05-10</td>\n",
              "      <td>1765bb45b3aa3224b4cdcb6e7a96cee3</td>\n",
              "      <td>1388534374</td>\n",
              "      <td>36.210097</td>\n",
              "      <td>-97.036372</td>\n",
              "      <td>0</td>\n",
              "    </tr>\n",
              "  </tbody>\n",
              "</table>\n",
              "<p>1852394 rows × 22 columns</p>\n",
              "</div>\n",
              "      <button class=\"colab-df-convert\" onclick=\"convertToInteractive('df-1fd7fe2c-6c02-43fc-aca6-b9b9376b132c')\"\n",
              "              title=\"Convert this dataframe to an interactive table.\"\n",
              "              style=\"display:none;\">\n",
              "        \n",
              "  <svg xmlns=\"http://www.w3.org/2000/svg\" height=\"24px\"viewBox=\"0 0 24 24\"\n",
              "       width=\"24px\">\n",
              "    <path d=\"M0 0h24v24H0V0z\" fill=\"none\"/>\n",
              "    <path d=\"M18.56 5.44l.94 2.06.94-2.06 2.06-.94-2.06-.94-.94-2.06-.94 2.06-2.06.94zm-11 1L8.5 8.5l.94-2.06 2.06-.94-2.06-.94L8.5 2.5l-.94 2.06-2.06.94zm10 10l.94 2.06.94-2.06 2.06-.94-2.06-.94-.94-2.06-.94 2.06-2.06.94z\"/><path d=\"M17.41 7.96l-1.37-1.37c-.4-.4-.92-.59-1.43-.59-.52 0-1.04.2-1.43.59L10.3 9.45l-7.72 7.72c-.78.78-.78 2.05 0 2.83L4 21.41c.39.39.9.59 1.41.59.51 0 1.02-.2 1.41-.59l7.78-7.78 2.81-2.81c.8-.78.8-2.07 0-2.86zM5.41 20L4 18.59l7.72-7.72 1.47 1.35L5.41 20z\"/>\n",
              "  </svg>\n",
              "      </button>\n",
              "      \n",
              "  <style>\n",
              "    .colab-df-container {\n",
              "      display:flex;\n",
              "      flex-wrap:wrap;\n",
              "      gap: 12px;\n",
              "    }\n",
              "\n",
              "    .colab-df-convert {\n",
              "      background-color: #E8F0FE;\n",
              "      border: none;\n",
              "      border-radius: 50%;\n",
              "      cursor: pointer;\n",
              "      display: none;\n",
              "      fill: #1967D2;\n",
              "      height: 32px;\n",
              "      padding: 0 0 0 0;\n",
              "      width: 32px;\n",
              "    }\n",
              "\n",
              "    .colab-df-convert:hover {\n",
              "      background-color: #E2EBFA;\n",
              "      box-shadow: 0px 1px 2px rgba(60, 64, 67, 0.3), 0px 1px 3px 1px rgba(60, 64, 67, 0.15);\n",
              "      fill: #174EA6;\n",
              "    }\n",
              "\n",
              "    [theme=dark] .colab-df-convert {\n",
              "      background-color: #3B4455;\n",
              "      fill: #D2E3FC;\n",
              "    }\n",
              "\n",
              "    [theme=dark] .colab-df-convert:hover {\n",
              "      background-color: #434B5C;\n",
              "      box-shadow: 0px 1px 3px 1px rgba(0, 0, 0, 0.15);\n",
              "      filter: drop-shadow(0px 1px 2px rgba(0, 0, 0, 0.3));\n",
              "      fill: #FFFFFF;\n",
              "    }\n",
              "  </style>\n",
              "\n",
              "      <script>\n",
              "        const buttonEl =\n",
              "          document.querySelector('#df-1fd7fe2c-6c02-43fc-aca6-b9b9376b132c button.colab-df-convert');\n",
              "        buttonEl.style.display =\n",
              "          google.colab.kernel.accessAllowed ? 'block' : 'none';\n",
              "\n",
              "        async function convertToInteractive(key) {\n",
              "          const element = document.querySelector('#df-1fd7fe2c-6c02-43fc-aca6-b9b9376b132c');\n",
              "          const dataTable =\n",
              "            await google.colab.kernel.invokeFunction('convertToInteractive',\n",
              "                                                     [key], {});\n",
              "          if (!dataTable) return;\n",
              "\n",
              "          const docLinkHtml = 'Like what you see? Visit the ' +\n",
              "            '<a target=\"_blank\" href=https://colab.research.google.com/notebooks/data_table.ipynb>data table notebook</a>'\n",
              "            + ' to learn more about interactive tables.';\n",
              "          element.innerHTML = '';\n",
              "          dataTable['output_type'] = 'display_data';\n",
              "          await google.colab.output.renderOutput(dataTable, element);\n",
              "          const docLink = document.createElement('div');\n",
              "          docLink.innerHTML = docLinkHtml;\n",
              "          element.appendChild(docLink);\n",
              "        }\n",
              "      </script>\n",
              "    </div>\n",
              "  </div>\n",
              "  "
            ],
            "text/plain": [
              "        trans_date_trans_time            cc_num  \\\n",
              "0         2019-01-01 00:00:18  2703186189652095   \n",
              "1         2019-01-01 00:00:44      630423337322   \n",
              "2         2019-01-01 00:00:51    38859492057661   \n",
              "3         2019-01-01 00:01:16  3534093764340240   \n",
              "4         2019-01-01 00:03:06   375534208663984   \n",
              "...                       ...               ...   \n",
              "1852389   2020-12-31 23:59:07    30560609640617   \n",
              "1852390   2020-12-31 23:59:09  3556613125071656   \n",
              "1852391   2020-12-31 23:59:15  6011724471098086   \n",
              "1852392   2020-12-31 23:59:24     4079773899158   \n",
              "1852393   2020-12-31 23:59:34  4170689372027579   \n",
              "\n",
              "                                   merchant        category     amt  \\\n",
              "0                fraud_Rippin, Kub and Mann        misc_net    4.97   \n",
              "1           fraud_Heller, Gutmann and Zieme     grocery_pos  107.23   \n",
              "2                      fraud_Lind-Buckridge   entertainment  220.11   \n",
              "3        fraud_Kutch, Hermiston and Farrell   gas_transport   45.00   \n",
              "4                       fraud_Keeling-Crist        misc_pos   41.96   \n",
              "...                                     ...             ...     ...   \n",
              "1852389               fraud_Reilly and Sons  health_fitness   43.77   \n",
              "1852390                fraud_Hoppe-Parisian       kids_pets  111.84   \n",
              "1852391                     fraud_Rau-Robel       kids_pets   86.88   \n",
              "1852392               fraud_Breitenberg LLC          travel    7.99   \n",
              "1852393                   fraud_Dare-Marvin   entertainment   38.13   \n",
              "\n",
              "             first     last gender                        street  \\\n",
              "0         Jennifer    Banks      F                561 Perry Cove   \n",
              "1        Stephanie     Gill      F  43039 Riley Greens Suite 393   \n",
              "2           Edward  Sanchez      M      594 White Dale Suite 530   \n",
              "3           Jeremy    White      M   9443 Cynthia Court Apt. 038   \n",
              "4            Tyler   Garcia      M              408 Bradley Rest   \n",
              "...            ...      ...    ...                           ...   \n",
              "1852389    Michael    Olson      M           558 Michael Estates   \n",
              "1852390       Jose  Vasquez      M           572 Davis Mountains   \n",
              "1852391        Ann   Lawson      F    144 Evans Islands Apt. 683   \n",
              "1852392       Eric  Preston      M    7020 Doyle Stream Apt. 951   \n",
              "1852393     Samuel     Frey      M      830 Myers Plaza Apt. 384   \n",
              "\n",
              "                   city  ...      lat      long  city_pop  \\\n",
              "0        Moravian Falls  ...  36.0788  -81.1781      3495   \n",
              "1                Orient  ...  48.8878 -118.2105       149   \n",
              "2            Malad City  ...  42.1808 -112.2620      4154   \n",
              "3               Boulder  ...  46.2306 -112.1138      1939   \n",
              "4              Doe Hill  ...  38.4207  -79.4629        99   \n",
              "...                 ...  ...      ...       ...       ...   \n",
              "1852389           Luray  ...  40.4931  -91.8912       519   \n",
              "1852390    Lake Jackson  ...  29.0393  -95.4401     28739   \n",
              "1852391         Burbank  ...  46.1966 -118.9017      3684   \n",
              "1852392            Mesa  ...  44.6255 -116.4493       129   \n",
              "1852393          Edmond  ...  35.6665  -97.4798    116001   \n",
              "\n",
              "                                       job         dob  \\\n",
              "0                Psychologist, counselling  1988-03-09   \n",
              "1        Special educational needs teacher  1978-06-21   \n",
              "2              Nature conservation officer  1962-01-19   \n",
              "3                          Patent attorney  1967-01-12   \n",
              "4           Dance movement psychotherapist  1986-03-28   \n",
              "...                                    ...         ...   \n",
              "1852389                       Town planner  1966-02-13   \n",
              "1852390                     Futures trader  1999-12-27   \n",
              "1852391                           Musician  1981-11-29   \n",
              "1852392                       Cartographer  1965-12-15   \n",
              "1852393                        Media buyer  1993-05-10   \n",
              "\n",
              "                                trans_num   unix_time  merch_lat  merch_long  \\\n",
              "0        0b242abb623afc578575680df30655b9  1325376018  36.011293  -82.048315   \n",
              "1        1f76529f8574734946361c461b024d99  1325376044  49.159047 -118.186462   \n",
              "2        a1a22d70485983eac12b5b88dad1cf95  1325376051  43.150704 -112.154481   \n",
              "3        6b849c168bdad6f867558c3793159a81  1325376076  47.034331 -112.561071   \n",
              "4        a41d7549acf90789359a9aa5346dcb46  1325376186  38.674999  -78.632459   \n",
              "...                                   ...         ...        ...         ...   \n",
              "1852389  9b1f753c79894c9f4b71f04581835ada  1388534347  39.946837  -91.333331   \n",
              "1852390  2090647dac2c89a1d86c514c427f5b91  1388534349  29.661049  -96.186633   \n",
              "1852391  6c5b7c8add471975aa0fec023b2e8408  1388534355  46.658340 -119.715054   \n",
              "1852392  14392d723bb7737606b2700ac791b7aa  1388534364  44.470525 -117.080888   \n",
              "1852393  1765bb45b3aa3224b4cdcb6e7a96cee3  1388534374  36.210097  -97.036372   \n",
              "\n",
              "         is_fraud  \n",
              "0               0  \n",
              "1               0  \n",
              "2               0  \n",
              "3               0  \n",
              "4               0  \n",
              "...           ...  \n",
              "1852389         0  \n",
              "1852390         0  \n",
              "1852391         0  \n",
              "1852392         0  \n",
              "1852393         0  \n",
              "\n",
              "[1852394 rows x 22 columns]"
            ]
          },
          "execution_count": 15,
          "metadata": {},
          "output_type": "execute_result"
        }
      ],
      "source": [
        "# 열이 일치하는 두 데이터를 위아래로 합쳐준다 -> pd.concat([합쳐줄 df들])\n",
        "# df = pd.concat([train, test]) # 인덱스가 겹치면 같은 데이터인 줄 안다\n",
        "df = pd.concat([train, test], ignore_index=True) \n",
        "df"
      ]
    },
    {
      "cell_type": "markdown",
      "metadata": {
        "id": "w5KOHooUSiAh"
      },
      "source": [
        "# 데이터 분석\n",
        "* https://www.kaggle.com/datasets/kartik2112/fraud-detection/code?datasetId=817870&sortBy=voteCount"
      ]
    },
    {
      "cell_type": "code",
      "execution_count": null,
      "metadata": {
        "colab": {
          "base_uri": "https://localhost:8080/"
        },
        "id": "OHkxNOizRW4D",
        "outputId": "174ea32c-8cc0-4e10-89b7-55cbefd554aa"
      },
      "outputs": [
        {
          "data": {
            "text/plain": [
              "Index(['trans_date_trans_time', 'cc_num', 'merchant', 'category', 'amt',\n",
              "       'first', 'last', 'gender', 'street', 'city', 'state', 'zip', 'lat',\n",
              "       'long', 'city_pop', 'job', 'dob', 'trans_num', 'unix_time', 'merch_lat',\n",
              "       'merch_long', 'is_fraud'],\n",
              "      dtype='object')"
            ]
          },
          "execution_count": 16,
          "metadata": {},
          "output_type": "execute_result"
        }
      ],
      "source": [
        "df.columns"
      ]
    },
    {
      "cell_type": "markdown",
      "metadata": {
        "id": "F-UABD7mVTUK"
      },
      "source": [
        "**Credit Card Transactions Fraud Detection Dataset**\n",
        "* 이상거래 (fraud) : 갑자기 해킹이나 전산 오류 등으로 인해 잘못된 금액이 결제\n",
        "* 전산 측에서 갑작스러운 오류/전산상의 실수 데이터등을 잡아내서 '이상거래'를 분류\n",
        "* 카드 결제 데이터 셋 -> ( ... ) => is_fraud (예측값, 종속변수)"
      ]
    },
    {
      "cell_type": "markdown",
      "metadata": {
        "id": "y5iN5QRjRdMB"
      },
      "source": [
        "* trans_date_trans_time : 거래 시간 (날짜로 표시된 시간)\n",
        "* cc_num : 카드 번호. 고윳값이기 때문에 여기서는 id처럼 활용할 수 있음(Credit Card) -> 동명 이인더라도 카드번호는 다르겠죠?\n",
        "* merchant : 거래 상점\n",
        "* category : 거래 상점의 범주(애완용품, 여행, 엔터테인먼트 등)\n",
        "* amt: 거래금액 (amount)\n",
        "* first / last : 이름\n",
        "* gender : 성별\n",
        "* city / street / state / zip : 고객 거주지 정보\n",
        "* lat / long : 고객주소에 대한 위도 및 경도\n",
        "    * 위경도 -> 지구/지도를 기준으로 했을 때 좌표값\n",
        "* city_pop : 고객의 zipcode (우편번호) 속하는 인구 수\n",
        "* job : 직업\n",
        "* dob : 생년월일\n",
        "* trans_num : 거래번호\n",
        "* unix_time : 거래시간 (유닉스 타임스탬프 - 전산상으로 변환된 시간)\n",
        "* merch_lat / merch_long : 상점의 위경도\n",
        "---\n",
        "* is_fraud : 사기거래 여부 (이상거래 여부) -> 종속변수"
      ]
    },
    {
      "cell_type": "code",
      "execution_count": null,
      "metadata": {
        "colab": {
          "base_uri": "https://localhost:8080/"
        },
        "id": "U5UBDNS1Rput",
        "outputId": "84de48aa-7601-47ee-d3b0-b3283f5b1807"
      },
      "outputs": [
        {
          "name": "stdout",
          "output_type": "stream",
          "text": [
            "<class 'pandas.core.frame.DataFrame'>\n",
            "RangeIndex: 1852394 entries, 0 to 1852393\n",
            "Data columns (total 22 columns):\n",
            " #   Column                 Non-Null Count    Dtype  \n",
            "---  ------                 --------------    -----  \n",
            " 0   trans_date_trans_time  1852394 non-null  object \n",
            " 1   cc_num                 1852394 non-null  int64  \n",
            " 2   merchant               1852394 non-null  object \n",
            " 3   category               1852394 non-null  object \n",
            " 4   amt                    1852394 non-null  float64\n",
            " 5   first                  1852394 non-null  object \n",
            " 6   last                   1852394 non-null  object \n",
            " 7   gender                 1852394 non-null  object \n",
            " 8   street                 1852394 non-null  object \n",
            " 9   city                   1852394 non-null  object \n",
            " 10  state                  1852394 non-null  object \n",
            " 11  zip                    1852394 non-null  int64  \n",
            " 12  lat                    1852394 non-null  float64\n",
            " 13  long                   1852394 non-null  float64\n",
            " 14  city_pop               1852394 non-null  int64  \n",
            " 15  job                    1852394 non-null  object \n",
            " 16  dob                    1852394 non-null  object \n",
            " 17  trans_num              1852394 non-null  object \n",
            " 18  unix_time              1852394 non-null  int64  \n",
            " 19  merch_lat              1852394 non-null  float64\n",
            " 20  merch_long             1852394 non-null  float64\n",
            " 21  is_fraud               1852394 non-null  int64  \n",
            "dtypes: float64(5), int64(5), object(12)\n",
            "memory usage: 310.9+ MB\n"
          ]
        }
      ],
      "source": [
        "# df.info() # not-null count가 안나오고 있음 (데이터가 많아서)\n",
        "# 데이터가 많아도 not-null count를 보여줌\n",
        "# 다행히 null (결측치) 없는 데이터\n",
        "df.info(show_counts=True)"
      ]
    },
    {
      "cell_type": "code",
      "execution_count": null,
      "metadata": {
        "colab": {
          "base_uri": "https://localhost:8080/",
          "height": 300
        },
        "id": "5C-2-FJXR_SZ",
        "outputId": "adb45545-2d44-4fd9-f100-b91757caa905"
      },
      "outputs": [
        {
          "data": {
            "text/html": [
              "\n",
              "  <div id=\"df-0db266c6-29b4-47dc-937f-70fbe355ed2c\">\n",
              "    <div class=\"colab-df-container\">\n",
              "      <div>\n",
              "<style scoped>\n",
              "    .dataframe tbody tr th:only-of-type {\n",
              "        vertical-align: middle;\n",
              "    }\n",
              "\n",
              "    .dataframe tbody tr th {\n",
              "        vertical-align: top;\n",
              "    }\n",
              "\n",
              "    .dataframe thead th {\n",
              "        text-align: right;\n",
              "    }\n",
              "</style>\n",
              "<table border=\"1\" class=\"dataframe\">\n",
              "  <thead>\n",
              "    <tr style=\"text-align: right;\">\n",
              "      <th></th>\n",
              "      <th>cc_num</th>\n",
              "      <th>amt</th>\n",
              "      <th>zip</th>\n",
              "      <th>lat</th>\n",
              "      <th>long</th>\n",
              "      <th>city_pop</th>\n",
              "      <th>unix_time</th>\n",
              "      <th>merch_lat</th>\n",
              "      <th>merch_long</th>\n",
              "      <th>is_fraud</th>\n",
              "    </tr>\n",
              "  </thead>\n",
              "  <tbody>\n",
              "    <tr>\n",
              "      <th>count</th>\n",
              "      <td>1852394.00</td>\n",
              "      <td>1852394.00</td>\n",
              "      <td>1852394.00</td>\n",
              "      <td>1852394.00</td>\n",
              "      <td>1852394.00</td>\n",
              "      <td>1852394.00</td>\n",
              "      <td>1852394.00</td>\n",
              "      <td>1852394.00</td>\n",
              "      <td>1852394.00</td>\n",
              "      <td>1852394.00</td>\n",
              "    </tr>\n",
              "    <tr>\n",
              "      <th>mean</th>\n",
              "      <td>417386038393710400.00</td>\n",
              "      <td>70.06</td>\n",
              "      <td>48813.26</td>\n",
              "      <td>38.54</td>\n",
              "      <td>-90.23</td>\n",
              "      <td>88643.67</td>\n",
              "      <td>1358674218.83</td>\n",
              "      <td>38.54</td>\n",
              "      <td>-90.23</td>\n",
              "      <td>0.01</td>\n",
              "    </tr>\n",
              "    <tr>\n",
              "      <th>std</th>\n",
              "      <td>1309115265318734848.00</td>\n",
              "      <td>159.25</td>\n",
              "      <td>26881.85</td>\n",
              "      <td>5.07</td>\n",
              "      <td>13.75</td>\n",
              "      <td>301487.62</td>\n",
              "      <td>18195081.39</td>\n",
              "      <td>5.11</td>\n",
              "      <td>13.76</td>\n",
              "      <td>0.07</td>\n",
              "    </tr>\n",
              "    <tr>\n",
              "      <th>min</th>\n",
              "      <td>60416207185.00</td>\n",
              "      <td>1.00</td>\n",
              "      <td>1257.00</td>\n",
              "      <td>20.03</td>\n",
              "      <td>-165.67</td>\n",
              "      <td>23.00</td>\n",
              "      <td>1325376018.00</td>\n",
              "      <td>19.03</td>\n",
              "      <td>-166.67</td>\n",
              "      <td>0.00</td>\n",
              "    </tr>\n",
              "    <tr>\n",
              "      <th>25%</th>\n",
              "      <td>180042946491150.00</td>\n",
              "      <td>9.64</td>\n",
              "      <td>26237.00</td>\n",
              "      <td>34.67</td>\n",
              "      <td>-96.80</td>\n",
              "      <td>741.00</td>\n",
              "      <td>1343016823.75</td>\n",
              "      <td>34.74</td>\n",
              "      <td>-96.90</td>\n",
              "      <td>0.00</td>\n",
              "    </tr>\n",
              "    <tr>\n",
              "      <th>50%</th>\n",
              "      <td>3521417320836166.00</td>\n",
              "      <td>47.45</td>\n",
              "      <td>48174.00</td>\n",
              "      <td>39.35</td>\n",
              "      <td>-87.48</td>\n",
              "      <td>2443.00</td>\n",
              "      <td>1357089331.00</td>\n",
              "      <td>39.37</td>\n",
              "      <td>-87.44</td>\n",
              "      <td>0.00</td>\n",
              "    </tr>\n",
              "    <tr>\n",
              "      <th>75%</th>\n",
              "      <td>4642255475285942.00</td>\n",
              "      <td>83.10</td>\n",
              "      <td>72042.00</td>\n",
              "      <td>41.94</td>\n",
              "      <td>-80.16</td>\n",
              "      <td>20328.00</td>\n",
              "      <td>1374581485.25</td>\n",
              "      <td>41.96</td>\n",
              "      <td>-80.25</td>\n",
              "      <td>0.00</td>\n",
              "    </tr>\n",
              "    <tr>\n",
              "      <th>max</th>\n",
              "      <td>4992346398065154048.00</td>\n",
              "      <td>28948.90</td>\n",
              "      <td>99921.00</td>\n",
              "      <td>66.69</td>\n",
              "      <td>-67.95</td>\n",
              "      <td>2906700.00</td>\n",
              "      <td>1388534374.00</td>\n",
              "      <td>67.51</td>\n",
              "      <td>-66.95</td>\n",
              "      <td>1.00</td>\n",
              "    </tr>\n",
              "  </tbody>\n",
              "</table>\n",
              "</div>\n",
              "      <button class=\"colab-df-convert\" onclick=\"convertToInteractive('df-0db266c6-29b4-47dc-937f-70fbe355ed2c')\"\n",
              "              title=\"Convert this dataframe to an interactive table.\"\n",
              "              style=\"display:none;\">\n",
              "        \n",
              "  <svg xmlns=\"http://www.w3.org/2000/svg\" height=\"24px\"viewBox=\"0 0 24 24\"\n",
              "       width=\"24px\">\n",
              "    <path d=\"M0 0h24v24H0V0z\" fill=\"none\"/>\n",
              "    <path d=\"M18.56 5.44l.94 2.06.94-2.06 2.06-.94-2.06-.94-.94-2.06-.94 2.06-2.06.94zm-11 1L8.5 8.5l.94-2.06 2.06-.94-2.06-.94L8.5 2.5l-.94 2.06-2.06.94zm10 10l.94 2.06.94-2.06 2.06-.94-2.06-.94-.94-2.06-.94 2.06-2.06.94z\"/><path d=\"M17.41 7.96l-1.37-1.37c-.4-.4-.92-.59-1.43-.59-.52 0-1.04.2-1.43.59L10.3 9.45l-7.72 7.72c-.78.78-.78 2.05 0 2.83L4 21.41c.39.39.9.59 1.41.59.51 0 1.02-.2 1.41-.59l7.78-7.78 2.81-2.81c.8-.78.8-2.07 0-2.86zM5.41 20L4 18.59l7.72-7.72 1.47 1.35L5.41 20z\"/>\n",
              "  </svg>\n",
              "      </button>\n",
              "      \n",
              "  <style>\n",
              "    .colab-df-container {\n",
              "      display:flex;\n",
              "      flex-wrap:wrap;\n",
              "      gap: 12px;\n",
              "    }\n",
              "\n",
              "    .colab-df-convert {\n",
              "      background-color: #E8F0FE;\n",
              "      border: none;\n",
              "      border-radius: 50%;\n",
              "      cursor: pointer;\n",
              "      display: none;\n",
              "      fill: #1967D2;\n",
              "      height: 32px;\n",
              "      padding: 0 0 0 0;\n",
              "      width: 32px;\n",
              "    }\n",
              "\n",
              "    .colab-df-convert:hover {\n",
              "      background-color: #E2EBFA;\n",
              "      box-shadow: 0px 1px 2px rgba(60, 64, 67, 0.3), 0px 1px 3px 1px rgba(60, 64, 67, 0.15);\n",
              "      fill: #174EA6;\n",
              "    }\n",
              "\n",
              "    [theme=dark] .colab-df-convert {\n",
              "      background-color: #3B4455;\n",
              "      fill: #D2E3FC;\n",
              "    }\n",
              "\n",
              "    [theme=dark] .colab-df-convert:hover {\n",
              "      background-color: #434B5C;\n",
              "      box-shadow: 0px 1px 3px 1px rgba(0, 0, 0, 0.15);\n",
              "      filter: drop-shadow(0px 1px 2px rgba(0, 0, 0, 0.3));\n",
              "      fill: #FFFFFF;\n",
              "    }\n",
              "  </style>\n",
              "\n",
              "      <script>\n",
              "        const buttonEl =\n",
              "          document.querySelector('#df-0db266c6-29b4-47dc-937f-70fbe355ed2c button.colab-df-convert');\n",
              "        buttonEl.style.display =\n",
              "          google.colab.kernel.accessAllowed ? 'block' : 'none';\n",
              "\n",
              "        async function convertToInteractive(key) {\n",
              "          const element = document.querySelector('#df-0db266c6-29b4-47dc-937f-70fbe355ed2c');\n",
              "          const dataTable =\n",
              "            await google.colab.kernel.invokeFunction('convertToInteractive',\n",
              "                                                     [key], {});\n",
              "          if (!dataTable) return;\n",
              "\n",
              "          const docLinkHtml = 'Like what you see? Visit the ' +\n",
              "            '<a target=\"_blank\" href=https://colab.research.google.com/notebooks/data_table.ipynb>data table notebook</a>'\n",
              "            + ' to learn more about interactive tables.';\n",
              "          element.innerHTML = '';\n",
              "          dataTable['output_type'] = 'display_data';\n",
              "          await google.colab.output.renderOutput(dataTable, element);\n",
              "          const docLink = document.createElement('div');\n",
              "          docLink.innerHTML = docLinkHtml;\n",
              "          element.appendChild(docLink);\n",
              "        }\n",
              "      </script>\n",
              "    </div>\n",
              "  </div>\n",
              "  "
            ],
            "text/plain": [
              "                      cc_num        amt        zip        lat       long  \\\n",
              "count             1852394.00 1852394.00 1852394.00 1852394.00 1852394.00   \n",
              "mean   417386038393710400.00      70.06   48813.26      38.54     -90.23   \n",
              "std   1309115265318734848.00     159.25   26881.85       5.07      13.75   \n",
              "min           60416207185.00       1.00    1257.00      20.03    -165.67   \n",
              "25%       180042946491150.00       9.64   26237.00      34.67     -96.80   \n",
              "50%      3521417320836166.00      47.45   48174.00      39.35     -87.48   \n",
              "75%      4642255475285942.00      83.10   72042.00      41.94     -80.16   \n",
              "max   4992346398065154048.00   28948.90   99921.00      66.69     -67.95   \n",
              "\n",
              "        city_pop     unix_time  merch_lat  merch_long   is_fraud  \n",
              "count 1852394.00    1852394.00 1852394.00  1852394.00 1852394.00  \n",
              "mean    88643.67 1358674218.83      38.54      -90.23       0.01  \n",
              "std    301487.62   18195081.39       5.11       13.76       0.07  \n",
              "min        23.00 1325376018.00      19.03     -166.67       0.00  \n",
              "25%       741.00 1343016823.75      34.74      -96.90       0.00  \n",
              "50%      2443.00 1357089331.00      39.37      -87.44       0.00  \n",
              "75%     20328.00 1374581485.25      41.96      -80.25       0.00  \n",
              "max   2906700.00 1388534374.00      67.51      -66.95       1.00  "
            ]
          },
          "execution_count": 18,
          "metadata": {},
          "output_type": "execute_result"
        }
      ],
      "source": [
        "pd.options.display.float_format = '{:.2f}'.format\n",
        "df.describe() # int, float 수치형 데이터 관련 통계 데이터 표시\n",
        "# amt: 거래금액 (amount)\n",
        "# city_pop : 고객의 zipcode 속하는 인구 수\n",
        "# -> 선형 모델 어려움, 거리 기반 어렵겠다..."
      ]
    },
    {
      "cell_type": "code",
      "execution_count": null,
      "metadata": {
        "id": "sF3XVod4SfKm"
      },
      "outputs": [],
      "source": [
        "df.describe(include='O')"
      ]
    },
    {
      "cell_type": "markdown",
      "metadata": {
        "id": "sbgdrxFbSpYb"
      },
      "source": [
        "* trans_date_trans_time : 거래 시간\n",
        "* merchant : 거래 상점\n",
        "* category : 거래 상점의 범주(애완용품, 여행, 엔터테인먼트 등)\n",
        "* first / last : 이름\n",
        "* gender : 성별 (F/M)\n",
        "* city / street / state / zip : 고객 거주지 정보\n",
        "* job : 직업\n",
        "* dob : 생년월일\n",
        "* trans_num : 거래번호"
      ]
    },
    {
      "cell_type": "markdown",
      "metadata": {
        "id": "04H3GtbVTGVG"
      },
      "source": [
        "# 전처리"
      ]
    },
    {
      "cell_type": "code",
      "execution_count": null,
      "metadata": {
        "id": "CaHc4vnDUR6r"
      },
      "outputs": [],
      "source": [
        "# 사용되지 않는 변수 제거\n",
        "# df.drop(..., axis=1) -> 원본 안 바꿔주는 것\n",
        "# 1. df = df.drop(..., axis=1)\n",
        "# inplace=True -> 모든 df에 있는 메소드에서 존재하지 X\n",
        "# 깊은 복사, 얕은 복사 문제 때문에 가능하면 새로운 사본을 만들어서 처리 (immutable)\n",
        "# 2. df.drop(..., axis=1, inplace=True)\n",
        "# pd -> 판다스 자체에서 불러오는 것이기 때문에 inplace X\n",
        "df.drop([\n",
        "    'first', 'last', # cc_num - credit card number 특정\n",
        "    'street', 'city', 'state', 'zip', # 주소는 위도(latitude), 경도(longitude)로 대체 가능\n",
        "    'trans_num', 'unix_time', # trans_date_trans_time : 거래가 일어난 시간 + cc_num\n",
        "], axis=1, inplace=True)\n",
        "# 이름 -> 이름 조합을 만들어서 full name / cc_num 고객은 특정 가능\n",
        "# 주소 -> 위도경도(lat, long)\n",
        "# 거래번호 / 유닉스타임 (중복) -> trans_date_trans_time\n",
        "# 직업, 가게명"
      ]
    },
    {
      "cell_type": "code",
      "execution_count": null,
      "metadata": {
        "id": "mr-XpFhjWO4S"
      },
      "outputs": [],
      "source": [
        "df.columns, len(df.columns)"
      ]
    },
    {
      "cell_type": "markdown",
      "metadata": {
        "id": "gXTAy3m0ZUpD"
      },
      "source": [
        "## trans_date_trans_time"
      ]
    },
    {
      "cell_type": "code",
      "execution_count": null,
      "metadata": {
        "id": "nNcsK96FZX78"
      },
      "outputs": [],
      "source": [
        "# trans_date_trans_time  object => datetime 타입으로 바꿔줘야함\n",
        "df.info()"
      ]
    },
    {
      "cell_type": "code",
      "execution_count": null,
      "metadata": {
        "id": "tDcrYyFWZgSh"
      },
      "outputs": [],
      "source": [
        "# pd.to_datetime -> 문자열 형태의 날짜데이터를, dt으로 포맷을 바꿔줌\n",
        "# https://dataindependent.com/pandas/pandas-to-datetime-string-to-date-pd-to_datetime/\n",
        "pd.to_datetime(df.trans_date_trans_time)"
      ]
    },
    {
      "cell_type": "markdown",
      "metadata": {
        "id": "hwd0pF1CaT_W"
      },
      "source": [
        "## 피쳐 엔지니어링\n",
        "* 이상거래 : 원래 고객의 거래패턴에서 벗어나는 거래"
      ]
    },
    {
      "cell_type": "markdown",
      "metadata": {
        "id": "J1-ngjS6aeJh"
      },
      "source": [
        "### 결제 금액\n",
        "* 평균에서 벗어난다 -> 정규분포(z 점수)에서 얼마나 멀리 벗어나 있는지\n",
        "* 서로 다른 개인 -> 특정 -> cc_num : 카드번호별로 묶어서 -> 결제 금액 평균\n",
        "* 혹시나 너무 갑자기 큰 금액을 썼다면? => 이상거래"
      ]
    },
    {
      "cell_type": "code",
      "execution_count": null,
      "metadata": {
        "id": "HYzLQTuZa12W"
      },
      "outputs": [],
      "source": [
        "# (groupby로 묶어준 그룹/속성).agg : 특정한 그룹별로 통계값, 대표값 추출\n",
        "# mean -> 통계값 / std -> 표준편차 : Z점수 (x - 평균) / 표준편차 => 평균으로부터 얼마나 떨어져 있는지 표준화한 값\n",
        "# df.groupby('cc_num').amt.mean()\n",
        "# df.groupby('cc_num').amt.std()\n",
        "amt_info = df.groupby('cc_num').amt.agg(['mean','std'])\n",
        "# index(행 인덱스 이름)로 각 cc_num -> reset index?\n",
        "amt_info.head()\n",
        "# 카드번호별로 평균 소비액(mean), 표준편차(std)"
      ]
    },
    {
      "cell_type": "code",
      "execution_count": null,
      "metadata": {
        "id": "GtaBe_W1c9QB"
      },
      "outputs": [],
      "source": [
        "# 두 개의 데이터프레임을 열 방향으로 합쳐줄 때 -> merge\n",
        "# A.merge(B) -> A가 왼쪽, B가 오른쪽해서 두 df을 합쳐줌\n",
        "# 같은 CC_NUM을 가진 거래 기록과, CC_NUM별 소비기록 평균 및 표준편차를 매칭\n",
        "# 거래 기록 수 > CC_NUM보다 많음 => 같은 CC_NUM을 가졌을 경우 같은 평균, 표준편차를 공유\n",
        "df = df.merge(amt_info, left_on='cc_num', right_index=True, how='left')"
      ]
    },
    {
      "cell_type": "code",
      "execution_count": null,
      "metadata": {
        "id": "M6QVS1MbdXDP"
      },
      "outputs": [],
      "source": [
        "df.columns"
      ]
    },
    {
      "cell_type": "code",
      "execution_count": null,
      "metadata": {
        "id": "3W90noACeHRM"
      },
      "outputs": [],
      "source": [
        "# amt (각 거래 기록별 소비금액)\n",
        "# mean (cc_num별 평균 소비금액)\n",
        "# std (cc_num별 소비금액의 표준편차)\n",
        "# https://losskatsu.github.io/statistics/mean-vairance/\n",
        "# z점수 : 특정한 값이 평균 기준으로 얼마나 멀리 떨어져있는지\n",
        "df[['cc_num', 'amt', 'mean', 'std']].head()"
      ]
    },
    {
      "cell_type": "code",
      "execution_count": null,
      "metadata": {
        "id": "4duQYuH4erie"
      },
      "outputs": [],
      "source": [
        "# z-score = (amt / mean) / std\n",
        "# 벡터화 연산 (행들을 열들간 연산)\n",
        "(df['amt'] - df['mean']) / df['std']"
      ]
    },
    {
      "cell_type": "code",
      "execution_count": null,
      "metadata": {
        "id": "H5ockYPea0Q9"
      },
      "outputs": [],
      "source": [
        "df.apply(lambda x: (x['amt'] - x['mean']) / x['std'], axis=1)"
      ]
    },
    {
      "cell_type": "code",
      "execution_count": null,
      "metadata": {
        "colab": {
          "background_save": true
        },
        "id": "gzO_KT7Fa9FA"
      },
      "outputs": [],
      "source": [
        "df['amt_z_score'] = (df['amt'] - df['mean']) / df['std']"
      ]
    },
    {
      "cell_type": "code",
      "execution_count": null,
      "metadata": {
        "id": "juzMsf_ee1xu"
      },
      "outputs": [],
      "source": [
        "# 특정 amt값이 평균 대비 얼마나 떨어져 있는지 (부호 : 어느 방향)\n",
        "df['amt_z_score'].head()"
      ]
    },
    {
      "cell_type": "code",
      "execution_count": null,
      "metadata": {
        "id": "1j8CMERnfXAF"
      },
      "outputs": [],
      "source": [
        "# z-score 산출을 위해 쓰인 다른 열들 drop\n",
        "df.drop(['mean', 'std'], axis = 1, inplace=True)"
      ]
    },
    {
      "cell_type": "markdown",
      "metadata": {
        "id": "IHL60q7-fhg2"
      },
      "source": [
        "### 범주별 결제금액\n",
        "* cc_num -> 카드번호별 / category -> (상점의) 분류.카테고리.범주"
      ]
    },
    {
      "cell_type": "code",
      "execution_count": 33,
      "metadata": {
        "id": "tjESMmTafdKu",
        "colab": {
          "base_uri": "https://localhost:8080/",
          "height": 455
        },
        "outputId": "8a7f7c35-6bc6-458b-d060-11db0b68e18e"
      },
      "outputs": [
        {
          "data": {
            "text/html": [
              "\n",
              "  <div id=\"df-82b09db2-71f5-4d97-a460-ad6ddcc3e160\">\n",
              "    <div class=\"colab-df-container\">\n",
              "      <div>\n",
              "<style scoped>\n",
              "    .dataframe tbody tr th:only-of-type {\n",
              "        vertical-align: middle;\n",
              "    }\n",
              "\n",
              "    .dataframe tbody tr th {\n",
              "        vertical-align: top;\n",
              "    }\n",
              "\n",
              "    .dataframe thead th {\n",
              "        text-align: right;\n",
              "    }\n",
              "</style>\n",
              "<table border=\"1\" class=\"dataframe\">\n",
              "  <thead>\n",
              "    <tr style=\"text-align: right;\">\n",
              "      <th></th>\n",
              "      <th></th>\n",
              "      <th>mean</th>\n",
              "      <th>std</th>\n",
              "    </tr>\n",
              "    <tr>\n",
              "      <th>cc_num</th>\n",
              "      <th>category</th>\n",
              "      <th></th>\n",
              "      <th></th>\n",
              "    </tr>\n",
              "  </thead>\n",
              "  <tbody>\n",
              "    <tr>\n",
              "      <th rowspan=\"5\" valign=\"top\">60416207185</th>\n",
              "      <th>entertainment</th>\n",
              "      <td>51.84</td>\n",
              "      <td>65.49</td>\n",
              "    </tr>\n",
              "    <tr>\n",
              "      <th>food_dining</th>\n",
              "      <td>26.74</td>\n",
              "      <td>46.38</td>\n",
              "    </tr>\n",
              "    <tr>\n",
              "      <th>gas_transport</th>\n",
              "      <td>59.78</td>\n",
              "      <td>15.76</td>\n",
              "    </tr>\n",
              "    <tr>\n",
              "      <th>grocery_net</th>\n",
              "      <td>52.15</td>\n",
              "      <td>17.69</td>\n",
              "    </tr>\n",
              "    <tr>\n",
              "      <th>grocery_pos</th>\n",
              "      <td>101.56</td>\n",
              "      <td>21.89</td>\n",
              "    </tr>\n",
              "    <tr>\n",
              "      <th>...</th>\n",
              "      <th>...</th>\n",
              "      <td>...</td>\n",
              "      <td>...</td>\n",
              "    </tr>\n",
              "    <tr>\n",
              "      <th rowspan=\"5\" valign=\"top\">4992346398065154184</th>\n",
              "      <th>misc_pos</th>\n",
              "      <td>60.00</td>\n",
              "      <td>167.23</td>\n",
              "    </tr>\n",
              "    <tr>\n",
              "      <th>personal_care</th>\n",
              "      <td>48.78</td>\n",
              "      <td>49.52</td>\n",
              "    </tr>\n",
              "    <tr>\n",
              "      <th>shopping_net</th>\n",
              "      <td>86.28</td>\n",
              "      <td>217.05</td>\n",
              "    </tr>\n",
              "    <tr>\n",
              "      <th>shopping_pos</th>\n",
              "      <td>64.21</td>\n",
              "      <td>169.24</td>\n",
              "    </tr>\n",
              "    <tr>\n",
              "      <th>travel</th>\n",
              "      <td>70.53</td>\n",
              "      <td>496.59</td>\n",
              "    </tr>\n",
              "  </tbody>\n",
              "</table>\n",
              "<p>13171 rows × 2 columns</p>\n",
              "</div>\n",
              "      <button class=\"colab-df-convert\" onclick=\"convertToInteractive('df-82b09db2-71f5-4d97-a460-ad6ddcc3e160')\"\n",
              "              title=\"Convert this dataframe to an interactive table.\"\n",
              "              style=\"display:none;\">\n",
              "        \n",
              "  <svg xmlns=\"http://www.w3.org/2000/svg\" height=\"24px\"viewBox=\"0 0 24 24\"\n",
              "       width=\"24px\">\n",
              "    <path d=\"M0 0h24v24H0V0z\" fill=\"none\"/>\n",
              "    <path d=\"M18.56 5.44l.94 2.06.94-2.06 2.06-.94-2.06-.94-.94-2.06-.94 2.06-2.06.94zm-11 1L8.5 8.5l.94-2.06 2.06-.94-2.06-.94L8.5 2.5l-.94 2.06-2.06.94zm10 10l.94 2.06.94-2.06 2.06-.94-2.06-.94-.94-2.06-.94 2.06-2.06.94z\"/><path d=\"M17.41 7.96l-1.37-1.37c-.4-.4-.92-.59-1.43-.59-.52 0-1.04.2-1.43.59L10.3 9.45l-7.72 7.72c-.78.78-.78 2.05 0 2.83L4 21.41c.39.39.9.59 1.41.59.51 0 1.02-.2 1.41-.59l7.78-7.78 2.81-2.81c.8-.78.8-2.07 0-2.86zM5.41 20L4 18.59l7.72-7.72 1.47 1.35L5.41 20z\"/>\n",
              "  </svg>\n",
              "      </button>\n",
              "      \n",
              "  <style>\n",
              "    .colab-df-container {\n",
              "      display:flex;\n",
              "      flex-wrap:wrap;\n",
              "      gap: 12px;\n",
              "    }\n",
              "\n",
              "    .colab-df-convert {\n",
              "      background-color: #E8F0FE;\n",
              "      border: none;\n",
              "      border-radius: 50%;\n",
              "      cursor: pointer;\n",
              "      display: none;\n",
              "      fill: #1967D2;\n",
              "      height: 32px;\n",
              "      padding: 0 0 0 0;\n",
              "      width: 32px;\n",
              "    }\n",
              "\n",
              "    .colab-df-convert:hover {\n",
              "      background-color: #E2EBFA;\n",
              "      box-shadow: 0px 1px 2px rgba(60, 64, 67, 0.3), 0px 1px 3px 1px rgba(60, 64, 67, 0.15);\n",
              "      fill: #174EA6;\n",
              "    }\n",
              "\n",
              "    [theme=dark] .colab-df-convert {\n",
              "      background-color: #3B4455;\n",
              "      fill: #D2E3FC;\n",
              "    }\n",
              "\n",
              "    [theme=dark] .colab-df-convert:hover {\n",
              "      background-color: #434B5C;\n",
              "      box-shadow: 0px 1px 3px 1px rgba(0, 0, 0, 0.15);\n",
              "      filter: drop-shadow(0px 1px 2px rgba(0, 0, 0, 0.3));\n",
              "      fill: #FFFFFF;\n",
              "    }\n",
              "  </style>\n",
              "\n",
              "      <script>\n",
              "        const buttonEl =\n",
              "          document.querySelector('#df-82b09db2-71f5-4d97-a460-ad6ddcc3e160 button.colab-df-convert');\n",
              "        buttonEl.style.display =\n",
              "          google.colab.kernel.accessAllowed ? 'block' : 'none';\n",
              "\n",
              "        async function convertToInteractive(key) {\n",
              "          const element = document.querySelector('#df-82b09db2-71f5-4d97-a460-ad6ddcc3e160');\n",
              "          const dataTable =\n",
              "            await google.colab.kernel.invokeFunction('convertToInteractive',\n",
              "                                                     [key], {});\n",
              "          if (!dataTable) return;\n",
              "\n",
              "          const docLinkHtml = 'Like what you see? Visit the ' +\n",
              "            '<a target=\"_blank\" href=https://colab.research.google.com/notebooks/data_table.ipynb>data table notebook</a>'\n",
              "            + ' to learn more about interactive tables.';\n",
              "          element.innerHTML = '';\n",
              "          dataTable['output_type'] = 'display_data';\n",
              "          await google.colab.output.renderOutput(dataTable, element);\n",
              "          const docLink = document.createElement('div');\n",
              "          docLink.innerHTML = docLinkHtml;\n",
              "          element.appendChild(docLink);\n",
              "        }\n",
              "      </script>\n",
              "    </div>\n",
              "  </div>\n",
              "  "
            ],
            "text/plain": [
              "                                    mean    std\n",
              "cc_num              category                   \n",
              "60416207185         entertainment  51.84  65.49\n",
              "                    food_dining    26.74  46.38\n",
              "                    gas_transport  59.78  15.76\n",
              "                    grocery_net    52.15  17.69\n",
              "                    grocery_pos   101.56  21.89\n",
              "...                                  ...    ...\n",
              "4992346398065154184 misc_pos       60.00 167.23\n",
              "                    personal_care  48.78  49.52\n",
              "                    shopping_net   86.28 217.05\n",
              "                    shopping_pos   64.21 169.24\n",
              "                    travel         70.53 496.59\n",
              "\n",
              "[13171 rows x 2 columns]"
            ]
          },
          "execution_count": 33,
          "metadata": {},
          "output_type": "execute_result"
        }
      ],
      "source": [
        "# 2개 이상의 그룹으로 나눌 때는 df.groupby([열 이름들...])\n",
        "category_info = df.groupby(['cc_num', 'category']).amt.agg(['mean', 'std'])\n",
        "category_info # cc_num, category별로 -> 평균값 (결제액), 표준편차"
      ]
    },
    {
      "cell_type": "code",
      "execution_count": 34,
      "metadata": {
        "id": "Zo6FNhOLf2Xc"
      },
      "outputs": [],
      "source": [
        "# df와 category_info를 합쳐주겠다 -> cc_num과 category를 기준으로\n",
        "df = df.merge(category_info, left_on = ['cc_num', 'category'], right_index=True, how='left')\n",
        "# mean, std\n",
        "# reset index 안했다?\n",
        "# df.merge(category_info, on = ['cc_num', 'categoty'], how='left')"
      ]
    },
    {
      "cell_type": "code",
      "execution_count": 35,
      "metadata": {
        "id": "M7prFpuPgd0F",
        "colab": {
          "base_uri": "https://localhost:8080/",
          "height": 206
        },
        "outputId": "0ab52d3f-44a0-4412-91e8-39c68e053cbb"
      },
      "outputs": [
        {
          "data": {
            "text/html": [
              "\n",
              "  <div id=\"df-f3e364be-9188-4324-9f41-4324221d6795\">\n",
              "    <div class=\"colab-df-container\">\n",
              "      <div>\n",
              "<style scoped>\n",
              "    .dataframe tbody tr th:only-of-type {\n",
              "        vertical-align: middle;\n",
              "    }\n",
              "\n",
              "    .dataframe tbody tr th {\n",
              "        vertical-align: top;\n",
              "    }\n",
              "\n",
              "    .dataframe thead th {\n",
              "        text-align: right;\n",
              "    }\n",
              "</style>\n",
              "<table border=\"1\" class=\"dataframe\">\n",
              "  <thead>\n",
              "    <tr style=\"text-align: right;\">\n",
              "      <th></th>\n",
              "      <th>cc_num</th>\n",
              "      <th>category</th>\n",
              "      <th>amt</th>\n",
              "      <th>mean</th>\n",
              "      <th>std</th>\n",
              "    </tr>\n",
              "  </thead>\n",
              "  <tbody>\n",
              "    <tr>\n",
              "      <th>0</th>\n",
              "      <td>2703186189652095</td>\n",
              "      <td>misc_net</td>\n",
              "      <td>4.97</td>\n",
              "      <td>84.86</td>\n",
              "      <td>116.07</td>\n",
              "    </tr>\n",
              "    <tr>\n",
              "      <th>1</th>\n",
              "      <td>630423337322</td>\n",
              "      <td>grocery_pos</td>\n",
              "      <td>107.23</td>\n",
              "      <td>99.64</td>\n",
              "      <td>23.90</td>\n",
              "    </tr>\n",
              "    <tr>\n",
              "      <th>2</th>\n",
              "      <td>38859492057661</td>\n",
              "      <td>entertainment</td>\n",
              "      <td>220.11</td>\n",
              "      <td>46.65</td>\n",
              "      <td>60.39</td>\n",
              "    </tr>\n",
              "    <tr>\n",
              "      <th>3</th>\n",
              "      <td>3534093764340240</td>\n",
              "      <td>gas_transport</td>\n",
              "      <td>45.00</td>\n",
              "      <td>61.54</td>\n",
              "      <td>15.75</td>\n",
              "    </tr>\n",
              "    <tr>\n",
              "      <th>4</th>\n",
              "      <td>375534208663984</td>\n",
              "      <td>misc_pos</td>\n",
              "      <td>41.96</td>\n",
              "      <td>35.48</td>\n",
              "      <td>4.93</td>\n",
              "    </tr>\n",
              "  </tbody>\n",
              "</table>\n",
              "</div>\n",
              "      <button class=\"colab-df-convert\" onclick=\"convertToInteractive('df-f3e364be-9188-4324-9f41-4324221d6795')\"\n",
              "              title=\"Convert this dataframe to an interactive table.\"\n",
              "              style=\"display:none;\">\n",
              "        \n",
              "  <svg xmlns=\"http://www.w3.org/2000/svg\" height=\"24px\"viewBox=\"0 0 24 24\"\n",
              "       width=\"24px\">\n",
              "    <path d=\"M0 0h24v24H0V0z\" fill=\"none\"/>\n",
              "    <path d=\"M18.56 5.44l.94 2.06.94-2.06 2.06-.94-2.06-.94-.94-2.06-.94 2.06-2.06.94zm-11 1L8.5 8.5l.94-2.06 2.06-.94-2.06-.94L8.5 2.5l-.94 2.06-2.06.94zm10 10l.94 2.06.94-2.06 2.06-.94-2.06-.94-.94-2.06-.94 2.06-2.06.94z\"/><path d=\"M17.41 7.96l-1.37-1.37c-.4-.4-.92-.59-1.43-.59-.52 0-1.04.2-1.43.59L10.3 9.45l-7.72 7.72c-.78.78-.78 2.05 0 2.83L4 21.41c.39.39.9.59 1.41.59.51 0 1.02-.2 1.41-.59l7.78-7.78 2.81-2.81c.8-.78.8-2.07 0-2.86zM5.41 20L4 18.59l7.72-7.72 1.47 1.35L5.41 20z\"/>\n",
              "  </svg>\n",
              "      </button>\n",
              "      \n",
              "  <style>\n",
              "    .colab-df-container {\n",
              "      display:flex;\n",
              "      flex-wrap:wrap;\n",
              "      gap: 12px;\n",
              "    }\n",
              "\n",
              "    .colab-df-convert {\n",
              "      background-color: #E8F0FE;\n",
              "      border: none;\n",
              "      border-radius: 50%;\n",
              "      cursor: pointer;\n",
              "      display: none;\n",
              "      fill: #1967D2;\n",
              "      height: 32px;\n",
              "      padding: 0 0 0 0;\n",
              "      width: 32px;\n",
              "    }\n",
              "\n",
              "    .colab-df-convert:hover {\n",
              "      background-color: #E2EBFA;\n",
              "      box-shadow: 0px 1px 2px rgba(60, 64, 67, 0.3), 0px 1px 3px 1px rgba(60, 64, 67, 0.15);\n",
              "      fill: #174EA6;\n",
              "    }\n",
              "\n",
              "    [theme=dark] .colab-df-convert {\n",
              "      background-color: #3B4455;\n",
              "      fill: #D2E3FC;\n",
              "    }\n",
              "\n",
              "    [theme=dark] .colab-df-convert:hover {\n",
              "      background-color: #434B5C;\n",
              "      box-shadow: 0px 1px 3px 1px rgba(0, 0, 0, 0.15);\n",
              "      filter: drop-shadow(0px 1px 2px rgba(0, 0, 0, 0.3));\n",
              "      fill: #FFFFFF;\n",
              "    }\n",
              "  </style>\n",
              "\n",
              "      <script>\n",
              "        const buttonEl =\n",
              "          document.querySelector('#df-f3e364be-9188-4324-9f41-4324221d6795 button.colab-df-convert');\n",
              "        buttonEl.style.display =\n",
              "          google.colab.kernel.accessAllowed ? 'block' : 'none';\n",
              "\n",
              "        async function convertToInteractive(key) {\n",
              "          const element = document.querySelector('#df-f3e364be-9188-4324-9f41-4324221d6795');\n",
              "          const dataTable =\n",
              "            await google.colab.kernel.invokeFunction('convertToInteractive',\n",
              "                                                     [key], {});\n",
              "          if (!dataTable) return;\n",
              "\n",
              "          const docLinkHtml = 'Like what you see? Visit the ' +\n",
              "            '<a target=\"_blank\" href=https://colab.research.google.com/notebooks/data_table.ipynb>data table notebook</a>'\n",
              "            + ' to learn more about interactive tables.';\n",
              "          element.innerHTML = '';\n",
              "          dataTable['output_type'] = 'display_data';\n",
              "          await google.colab.output.renderOutput(dataTable, element);\n",
              "          const docLink = document.createElement('div');\n",
              "          docLink.innerHTML = docLinkHtml;\n",
              "          element.appendChild(docLink);\n",
              "        }\n",
              "      </script>\n",
              "    </div>\n",
              "  </div>\n",
              "  "
            ],
            "text/plain": [
              "             cc_num       category    amt  mean    std\n",
              "0  2703186189652095       misc_net   4.97 84.86 116.07\n",
              "1      630423337322    grocery_pos 107.23 99.64  23.90\n",
              "2    38859492057661  entertainment 220.11 46.65  60.39\n",
              "3  3534093764340240  gas_transport  45.00 61.54  15.75\n",
              "4   375534208663984       misc_pos  41.96 35.48   4.93"
            ]
          },
          "execution_count": 35,
          "metadata": {},
          "output_type": "execute_result"
        }
      ],
      "source": [
        "# cc_num, category / mean, std / amt => z-score\n",
        "df[['cc_num', 'category', 'amt', 'mean', 'std']].head()"
      ]
    },
    {
      "cell_type": "code",
      "execution_count": 36,
      "metadata": {
        "id": "IHt6qzeWgsN1"
      },
      "outputs": [],
      "source": [
        "# 범주별 결제금액 z-score\n",
        "df['cat_z_score'] = (df['amt'] - df['mean']) / df['std']"
      ]
    },
    {
      "cell_type": "code",
      "execution_count": 37,
      "metadata": {
        "id": "mOPh13xcg1Q9",
        "colab": {
          "base_uri": "https://localhost:8080/"
        },
        "outputId": "99b56bb3-dc71-41bf-97ce-ad6b0f0872fb"
      },
      "outputs": [
        {
          "data": {
            "text/plain": [
              "0   -0.69\n",
              "1    0.32\n",
              "2    2.87\n",
              "3   -1.05\n",
              "4    1.31\n",
              "Name: cat_z_score, dtype: float64"
            ]
          },
          "execution_count": 37,
          "metadata": {},
          "output_type": "execute_result"
        }
      ],
      "source": [
        "df['cat_z_score'].head() # 1.69 (95%), 2.58 (99%)"
      ]
    },
    {
      "cell_type": "code",
      "execution_count": 38,
      "metadata": {
        "id": "j4FtZDZjhXNr"
      },
      "outputs": [],
      "source": [
        "# z-score 산출을 위해 쓰인 다른 열들 drop\n",
        "df.drop(['mean', 'std'], axis=1, inplace=True)"
      ]
    },
    {
      "cell_type": "markdown",
      "metadata": {
        "id": "KHvjQBKXhZOI"
      },
      "source": [
        "### 위.경도 -> 거리 산출"
      ]
    },
    {
      "cell_type": "code",
      "execution_count": 39,
      "metadata": {
        "id": "h91E4kVrhXdb"
      },
      "outputs": [],
      "source": [
        "# 두 지점 간의 거리 (위경도)\n",
        "# latitude(위도, lat), longitude(경도, long, lng)\n",
        "# geopy.distance.distance((lat1, lng1), (lat2, lng2)) -> 거리"
      ]
    },
    {
      "cell_type": "code",
      "execution_count": 40,
      "metadata": {
        "id": "-JaTUhGbhwhO"
      },
      "outputs": [],
      "source": [
        "# coordinate(좌표) - 위,경도.\n",
        "# -- 좌표 : (위도, 경도) - latitude : 북/남 | logitude : 동/서\n",
        "# 1. 상점 위경도 (merchant)\n",
        "# 2. 고객 위경도 (customer)\n",
        "# zip -> 2개 이상의 리스트를 원소 순서대로 묶어주겠음\n",
        "df['merch_coord'] = pd.Series(zip(df.merch_lat, df.merch_long))\n",
        "df['cust_coord'] = pd.Series(zip(df['lat'], df['long']))"
      ]
    },
    {
      "cell_type": "code",
      "execution_count": 41,
      "metadata": {
        "id": "Q3KWPY1PijgA"
      },
      "outputs": [],
      "source": [
        "import geopy.distance # 거리 구하는 파이썬 라이브러리\n",
        "#  df.apply(lambda x: geopy.distance.distance(x['merch_coord'], x['cust_coord']).km, axis=1)\n",
        "def get_distance(row): \n",
        "    coord1 = row['merch_coord'] # [merch_lat, merch_long] / 상점 위경도\n",
        "    coord2 = row['cust_coord'] # [lat, long] / 고객 위경도\n",
        "    return geopy.distance.distance(coord1, coord2).km"
      ]
    },
    {
      "cell_type": "code",
      "execution_count": null,
      "metadata": {
        "id": "c0e0Gd5Eia1q"
      },
      "outputs": [],
      "source": [
        "df['distance'] = df.apply(get_distance, axis=1)"
      ]
    },
    {
      "cell_type": "code",
      "execution_count": null,
      "metadata": {
        "id": "55g62jz8jUbS"
      },
      "outputs": [],
      "source": [
        "df['distance'].head() # km"
      ]
    },
    {
      "cell_type": "code",
      "execution_count": null,
      "metadata": {
        "id": "acH9g2a_3hp-"
      },
      "outputs": [],
      "source": [
        "df2 = df.copy()"
      ]
    },
    {
      "cell_type": "code",
      "execution_count": null,
      "metadata": {
        "id": "NZ47haBE3jKe"
      },
      "outputs": [],
      "source": [
        "# .km 빼먹고 했다?\n",
        "# 78.77 km => 78.77 / km => 78.77 (string) => float\n",
        "# df['distance'] = df['distance'].str.split(expand=True)[0].astype('float64')"
      ]
    },
    {
      "cell_type": "code",
      "execution_count": null,
      "metadata": {
        "id": "Tzvnvf7G4Mpe"
      },
      "outputs": [],
      "source": [
        "# 거주 위치 - 결제 위치가 너무 차이난다?\n",
        "# z-점수\n",
        "distance_info = df.groupby('cc_num').distance.agg(['mean','std'])"
      ]
    },
    {
      "cell_type": "code",
      "execution_count": null,
      "metadata": {
        "id": "ZfZLA4Va4gQO"
      },
      "outputs": [],
      "source": [
        "distance_info"
      ]
    },
    {
      "cell_type": "code",
      "execution_count": null,
      "metadata": {
        "id": "QbwYsMJQ4oVv"
      },
      "outputs": [],
      "source": [
        "df = df.merge(distance_info, left_on='cc_num', right_index=True, how='left')\n",
        "df"
      ]
    },
    {
      "cell_type": "code",
      "execution_count": null,
      "metadata": {
        "id": "mqdoXbse5B1P"
      },
      "outputs": [],
      "source": [
        "# z_score : 평균을 0으로 뒀을 때 얼마나 떨어있는지를 표준화 (z점수, 표준정규분포)\n",
        "df['distance_z_score'] = (df['distance'] - df['mean']) / df['std']"
      ]
    },
    {
      "cell_type": "code",
      "execution_count": null,
      "metadata": {
        "id": "g7elWxgp5S82"
      },
      "outputs": [],
      "source": [
        "df['distance_z_score'].head()"
      ]
    },
    {
      "cell_type": "code",
      "execution_count": null,
      "metadata": {
        "id": "Ry3xbff05X07"
      },
      "outputs": [],
      "source": [
        "# 사용한 통계치 drop\n",
        "df.drop(['mean', 'std'], axis=1, inplace=True)"
      ]
    },
    {
      "cell_type": "code",
      "execution_count": null,
      "metadata": {
        "id": "agPmPq8y5dYN"
      },
      "outputs": [],
      "source": [
        "df.isna().mean()"
      ]
    },
    {
      "cell_type": "markdown",
      "metadata": {
        "id": "TZ6_V1QJ5oNs"
      },
      "source": [
        "### 생년월일 (dob) -> 연령"
      ]
    },
    {
      "cell_type": "code",
      "execution_count": null,
      "metadata": {
        "id": "saRDYKQo52hJ"
      },
      "outputs": [],
      "source": [
        "df['dob']"
      ]
    },
    {
      "cell_type": "code",
      "execution_count": null,
      "metadata": {
        "id": "LLcdwGjO55tB"
      },
      "outputs": [],
      "source": [
        "pd.to_datetime(df['dob'])"
      ]
    },
    {
      "cell_type": "code",
      "execution_count": null,
      "metadata": {
        "id": "tgtHAqbk6GWs"
      },
      "outputs": [],
      "source": [
        "# year\n",
        "# pd.to_datetime(df['dob']).year # 에러남 (year 없음)\n",
        "# dt 속성 : 특정 시리즈/df에서 dt의 메소드/속성을 사용할 수 있게함 (참고: str)\n",
        "pd.to_datetime(df['dob']).dt.year"
      ]
    },
    {
      "cell_type": "code",
      "execution_count": null,
      "metadata": {
        "id": "Gx5TgOgC6dFs"
      },
      "outputs": [],
      "source": [
        "# 만 나이\n",
        "# 2023 - pd.to_datetime(df['dob']).dt.year\n",
        "df['age'] = 2023 - pd.to_datetime(df['dob']).dt.year"
      ]
    },
    {
      "cell_type": "code",
      "execution_count": null,
      "metadata": {
        "id": "JeZKsRWi6iqv"
      },
      "outputs": [],
      "source": [
        "df['age']"
      ]
    },
    {
      "cell_type": "markdown",
      "metadata": {
        "id": "N03rDYo36qF9"
      },
      "source": [
        "## 범주형 변수 처리"
      ]
    },
    {
      "cell_type": "code",
      "execution_count": null,
      "metadata": {
        "id": "RPwKD4g87Y18"
      },
      "outputs": [],
      "source": [
        "# 필요없는 열(변수) drop\n",
        "# cc_num, lat, long, merch_let, merch_long, dob, merch_coord, cust_coord\n",
        "df.drop(['cc_num', 'lat', 'long', 'merch_lat', 'merch_long',\n",
        "         'dob', 'merch_coord', 'cust_coord'], axis=1, inplace=True)"
      ]
    },
    {
      "cell_type": "code",
      "execution_count": null,
      "metadata": {
        "id": "cpuGn_BBi03U"
      },
      "outputs": [],
      "source": [
        "df.drop(['merchant', 'job'], axis=1, inplace=True)"
      ]
    },
    {
      "cell_type": "code",
      "execution_count": null,
      "metadata": {
        "id": "infGcyGf7J6H"
      },
      "outputs": [],
      "source": [
        "# 더미 변수 만들기\n",
        "df.describe(include='object')"
      ]
    },
    {
      "cell_type": "code",
      "execution_count": null,
      "metadata": {
        "id": "jEjTTwBM7feH"
      },
      "outputs": [],
      "source": [
        "df = pd.get_dummies(df, columns = df.describe(include='O').columns)\n",
        "df"
      ]
    },
    {
      "cell_type": "markdown",
      "metadata": {
        "id": "lzMZq52q7y-n"
      },
      "source": [
        "# 모델링"
      ]
    },
    {
      "cell_type": "markdown",
      "metadata": {
        "id": "DFOyjKN171YU"
      },
      "source": [
        "## 훈련셋/시험셋"
      ]
    },
    {
      "cell_type": "code",
      "execution_count": null,
      "metadata": {
        "id": "dHI_Uz8773Cb"
      },
      "outputs": [],
      "source": [
        "# 과거의 이상거래를 사용해서 -> 미래의 이상거래를 감지\n",
        "# 시간 단위로 훈련셋/시험셋을 나눠줘야함\n",
        "# grid search cv, train_test_split\n",
        "# 날짜 단위로 나눠주기"
      ]
    },
    {
      "cell_type": "code",
      "execution_count": null,
      "metadata": {
        "id": "Cd-aBwGX8E-x"
      },
      "outputs": [],
      "source": [
        "df.index"
      ]
    },
    {
      "cell_type": "code",
      "execution_count": null,
      "metadata": {
        "id": "w4I3Ayu08JeP"
      },
      "outputs": [],
      "source": [
        "# trans_date_trans_time -> dt 인덱스\n",
        "df.set_index('trans_date_trans_time', inplaces=True)"
      ]
    },
    {
      "cell_type": "code",
      "execution_count": null,
      "metadata": {
        "id": "YYkNzR8y8Qns"
      },
      "outputs": [],
      "source": [
        "df.index # 2020-07-01 이전, 이후 데이터 나눠서 train, test"
      ]
    },
    {
      "cell_type": "code",
      "execution_count": null,
      "metadata": {
        "id": "eL3rk0Gs8Zmy"
      },
      "outputs": [],
      "source": [
        "train = df[df.index < '2020-07-01'] # 2020년 7월 1일 이전 데이터 (경계 미포함)\n",
        "test = df[df.index >= '2020-07-01'] # 2020년 7월 1일 이후 데이터 (경계 포함)"
      ]
    },
    {
      "cell_type": "code",
      "execution_count": null,
      "metadata": {
        "id": "R-VBEwA18neE"
      },
      "outputs": [],
      "source": [
        "# 예측값(종속변수, y) : is_fraud\n",
        "# 관측값(독립변수, X) : 나머지\n",
        "X_train = train.drop('is_fraud', axis=1)\n",
        "y_train = train['is_fraud']\n",
        "X_test = test.drop('is_fraud', axis=1)\n",
        "y_test = test['is_fraud']"
      ]
    },
    {
      "cell_type": "markdown",
      "metadata": {
        "id": "rZgPOIx8-Otd"
      },
      "source": [
        "## 모델 학습"
      ]
    },
    {
      "cell_type": "code",
      "execution_count": null,
      "metadata": {
        "id": "IJLeOYAn9Fcc"
      },
      "outputs": [],
      "source": [
        "import lightgbm as lgb"
      ]
    },
    {
      "cell_type": "code",
      "execution_count": null,
      "metadata": {
        "id": "q7Y5OQFc9eNz"
      },
      "outputs": [],
      "source": [
        "# 연속형 변수를 예측하는 '회귀' 문제를 푼다면? lgb.LGBMRegressor\n",
        "# 범주형 변수를 예측하는 '분류' 문제를 푼다면? lgb.LGBMClassifier\n",
        "model = lgb.LGBMVlassifier(random_state=324)"
      ]
    },
    {
      "cell_type": "code",
      "execution_count": null,
      "metadata": {
        "id": "7ilDPN1f9ycb"
      },
      "outputs": [],
      "source": [
        "model.fif(X_train, y_train)"
      ]
    },
    {
      "cell_type": "code",
      "execution_count": null,
      "metadata": {
        "id": "hZK5JuNu91TM"
      },
      "outputs": [],
      "source": [
        "pred = model.predict(X_test)"
      ]
    },
    {
      "cell_type": "code",
      "execution_count": null,
      "metadata": {
        "id": "TE08-3p-97Dr"
      },
      "outputs": [],
      "source": [
        "from sklearn.metrics import accuracy_score\n",
        "accuracy_score(y_test, pred)"
      ]
    },
    {
      "cell_type": "code",
      "execution_count": null,
      "metadata": {
        "id": "2B6lmdWfk_UM"
      },
      "outputs": [],
      "source": [
        "df.is_fraud.mean()"
      ]
    },
    {
      "cell_type": "code",
      "execution_count": null,
      "metadata": {
        "id": "tokvzZVd-EjJ"
      },
      "outputs": [],
      "source": [
        "1 - df.is_fraud.mean()"
      ]
    },
    {
      "cell_type": "markdown",
      "metadata": {
        "id": "CXsz9aaJCgfL"
      },
      "source": [
        "# 평가"
      ]
    },
    {
      "cell_type": "code",
      "execution_count": null,
      "metadata": {
        "id": "mfe9yYSACiR0"
      },
      "outputs": [],
      "source": [
        "from sklearn.metrics import confusion_matrix, classification_report, roc_auc_score"
      ]
    },
    {
      "cell_type": "code",
      "execution_count": null,
      "metadata": {
        "id": "yRSdxdd_C8iD"
      },
      "outputs": [],
      "source": [
        "# 실제 y값, 예측 y값을 넣어주면 confusion matrix를 그려주는 함수\n",
        "def confusion_matrix_view(y_test, pred):\n",
        "    cf_matrix = confusion_matrix(y_test, pred) # 배열 \n",
        "    #  [ [ TN , FP ],\n",
        "    #    [ FN , TP ] ]\n",
        "    print(cf_matrix)\n",
        "    group_names = ['TN','FP','FN','TP'] # 각기 4개의 그룹으로\n",
        "    # TN : 실제 0, 분류 0\n",
        "    # TP : 실제 1, 분류 1\n",
        "    # FP : 위양성, 실제 0, 분류 1 -> 1종 오류\n",
        "    # FN : 위음성, 실제 1, 분류 0 -> 2종 오류\n",
        "    group_counts = [\"{0:0.0f}\".format(value) for value in\n",
        "                    cf_matrix.flatten()] # 그룹별 갯수 / arr.flatten() -> 한 줄로\n",
        "    group_percentages = [\"{0:.2%}\".format(value) for value in\n",
        "                        cf_matrix.flatten()/np.sum(cf_matrix)] # 그룹별 비중, 비율\n",
        "                        # flatten -> 2 x 2 -> 4 -> 합계로 나눠준 것\n",
        "    # v1 : 그룹명 -> 이진분류(TN,FP,FN,TP...) -> 3개이상이면? 0->1, 1->1...\n",
        "    # v2 : 그룹별 갯수\n",
        "    # v3 : 그룹별 비중(비율)\n",
        "    # \\n -> Enter (줄바꿈)\n",
        "    labels = [f\"{v1}\\n{v2}\\n{v3}\" for v1, v2, v3 in\n",
        "            zip(group_names,group_counts,group_percentages)]\n",
        "    labels = np.asarray(labels).reshape(2,2) # 2 x 2\n",
        "    # ['TN','FP','FN','TP']\n",
        "    '''\n",
        "      [['TN','FP'],\n",
        "       ['FN','TP']]\n",
        "    '''\n",
        "    # seaborn.heatmap(열마다 크기에 따라서 색상/짙음 정도를 결정)\n",
        "    # cmap -> colormap -> 어떠한 색상표를 쓸 것이냐\n",
        "    sns.heatmap(cf_matrix, annot=labels, fmt='', cmap='coolwarm')\n",
        "    plt.ylabel('True') # 실제값\n",
        "    plt.xlabel('Predicted') # 예측값\n",
        "    plt.show()\n",
        "    # 분류 리포트\n",
        "    print(classification_report(y_test, pred))"
      ]
    },
    {
      "cell_type": "code",
      "execution_count": null,
      "metadata": {
        "id": "Cwz3BiDcDHEj"
      },
      "outputs": [],
      "source": [
        "confusion_matrix_view(y_test, pred)"
      ]
    },
    {
      "cell_type": "code",
      "execution_count": null,
      "metadata": {
        "id": "5thGDmawGRxs"
      },
      "outputs": [],
      "source": [
        "# 정밀도 - precision - 1종 오류 (FP)\n",
        "# 재현율 - recall - 2종 오류 (FN)\n",
        "# f1 점수 - 정밀도와 재현율의 조화평균 -> 두 수치의 영향력을 모두 확인\n",
        "print(classification_report(y_test, pred))"
      ]
    },
    {
      "cell_type": "code",
      "execution_count": null,
      "metadata": {
        "id": "xZIVkgaBGs_o"
      },
      "outputs": [],
      "source": [
        "# 0, 1 => 분류되기 전에 얼마나 각각의 확률이 산출되는지\n",
        "model.predict_probr(X_test)"
      ]
    },
    {
      "cell_type": "code",
      "execution_count": null,
      "metadata": {
        "id": "qf4PbQLcG2Pp"
      },
      "outputs": [],
      "source": [
        "# 각 행 -> 입력받은 시험셋의 행 데이터별로, 각각의 분류가 될 확률\n",
        "# 2차원 행열 -> 각각 열\n",
        "# 1(0)열 : 0에 대한 예측값 (확률값)\n",
        "# 2(1)열 : 1에 대한 예측값 (확률값)\n",
        "proba = model.predict_proba(X_test)\n",
        "proba"
      ]
    },
    {
      "cell_type": "code",
      "execution_count": null,
      "metadata": {
        "id": "YDjXbnbSHUDi"
      },
      "outputs": [],
      "source": [
        "# numpy 인덱싱 -> [행, 열] -> [:(모든 행), n]\n",
        "# 예측값이 1이 될 확률 / 이상거래일 확률\n",
        "proba = [:,1]"
      ]
    },
    {
      "cell_type": "code",
      "execution_count": null,
      "metadata": {
        "id": "G8m6sc3JHlxW"
      },
      "outputs": [],
      "source": [
        "# proba = 이상거래일 확률 예측치\n",
        "proba = proba[:, 1]"
      ]
    },
    {
      "cell_type": "code",
      "execution_count": null,
      "metadata": {
        "id": "vrJO16BbHsoi"
      },
      "outputs": [],
      "source": [
        "# default : 0.5보다 크면 -> 1로 분류\n",
        "# 민감하게 혹은 둔감하게 처리 가능\n",
        "# case 1 : 0.2만 넘으면 1로 분류 (느슨함)\n",
        "# case 2 : 0.8을 넘어야 1로 분류 (엄격함)\n",
        "# 벡터화 연산으로 비교 연산 (> 0.2) => T/F => astype(int) 0/1\n",
        "proba_int1 = (broba > 0.2).astype(int)\n",
        "proba_int1"
      ]
    },
    {
      "cell_type": "markdown",
      "metadata": {
        "id": "H5NFq861IaFQ"
      },
      "source": [
        "0과 1로 구성되어 있는 데이터에 `mean` 평균을 내면 -> 1의 비중을 알 수 있음 -> 예측치로 환산한다면? -> 이상거래로 분류된 비중"
      ]
    },
    {
      "cell_type": "code",
      "execution_count": null,
      "metadata": {
        "id": "e8gE_GrqIRi0"
      },
      "outputs": [],
      "source": [
        "pred.mean() # 기준이 0.5일 때의 예측치"
      ]
    },
    {
      "cell_type": "code",
      "execution_count": null,
      "metadata": {
        "id": "RF-UUAbaIPUu"
      },
      "outputs": [],
      "source": [
        "proba_int1.mean() # 기준이 0.2일 때의 예측치"
      ]
    },
    {
      "cell_type": "code",
      "execution_count": null,
      "metadata": {
        "id": "WGNdbWw8IqA8"
      },
      "outputs": [],
      "source": [
        "proba_int1.mean "
      ]
    },
    {
      "cell_type": "code",
      "execution_count": null,
      "metadata": {
        "id": "_8WWdB6Lr768"
      },
      "outputs": [],
      "source": [
        "proba_int2 = (proba > 0.8) * 1\n",
        "proba_int2"
      ]
    },
    {
      "cell_type": "code",
      "execution_count": null,
      "metadata": {
        "id": "2jGervS_IxF5"
      },
      "outputs": [],
      "source": [
        "proba_int2.mean() # 기준이 0.8일 때의 예측치"
      ]
    },
    {
      "cell_type": "code",
      "execution_count": null,
      "metadata": {
        "id": "FQQ6qVbEI_Mn"
      },
      "outputs": [],
      "source": [
        "# 0.5 를 기준으로 했을 때의 혼동행렬, 분류리포트\n",
        "confusion_matrix_view(y_test, pred)"
      ]
    },
    {
      "cell_type": "code",
      "execution_count": null,
      "metadata": {
        "id": "vikClHH-JDsg"
      },
      "outputs": [],
      "source": [
        "# 0.2 를 기준으로 했을 때의 혼동행렬, 분류리포트\n",
        "confusion_matrix_view(y_test, proba_int1)\n",
        "# FP가 늘었음 (1종 오류가 늘었음 -> 이상거래가 아닌데 맞다고 판단한 것이 늘었음)\n",
        "# FN은 줄었음 (2종 오류가 줄었음 -> 이상거래 맞는데 아니라고 판단한 것이 줄었음)"
      ]
    },
    {
      "cell_type": "code",
      "execution_count": null,
      "metadata": {
        "id": "71UnnsKJJbzP"
      },
      "outputs": [],
      "source": [
        "# 0.8 를 기준으로 했을 때의 혼동행렬, 분류리포트\n",
        "confusion_matrix_view(y_test, proba_int2)\n",
        "# FP가 줄었음 (1종 오류가 줄었음 -> 이상거래가 아닌데 맞다고 판단한 것이 줄었음)\n",
        "# FN은 늘었음 (2종 오류가 늘었음 -> 이상거래 맞는데 아니라고 판단한 것이 늘었음)"
      ]
    },
    {
      "cell_type": "markdown",
      "metadata": {
        "id": "TBKYbEVKJ1vf"
      },
      "source": [
        "## ROC 곡선 & AUC"
      ]
    },
    {
      "cell_type": "markdown",
      "metadata": {
        "id": "tsYrV-ihKOdH"
      },
      "source": [
        "![ROC](https://i.imgur.com/euCumVh.png)"
      ]
    },
    {
      "cell_type": "markdown",
      "metadata": {
        "id": "5FdUHKGLKaCs"
      },
      "source": [
        "* [참고](https://losskatsu.github.io/machine-learning/stat-roc-curve/#2-%EB%AF%BC%EA%B0%90%EB%8F%84%EC%99%80-%ED%8A%B9%EC%9D%B4%EB%8F%84)\n",
        "* 이진분류 모델을 평가하는 방법으로 기준점에 영향을 받지 않기 때문에 여러 모델을 비교할 때 요긴하게 사용\n",
        "* AUC는 ROC 곡선의 아래 면적을 의미\n",
        "    * 0.5~1 사이의 값을 지니며 높을수록 좋은 모델\n",
        "\n",
        "## ROC 곡선\n",
        "> 민감도, 특이도 개념을 활용\n",
        "\n",
        "### 민감도 (TPR)\n",
        "$TPR = \\frac{TP(참 양성)}{TP(참 양성) + FN(거짓 음성)}$\n",
        "* 재현율과 수식이 같음\n",
        "* 실제 1인 것 중 얼마만큼 제대로(1로) 예측되었는지\n",
        "* 1에 가까울 수록 좋은 수치\n",
        "\n",
        "### 특이도 (TNR) **\n",
        "$TNR = \\frac{TN(참 음성)}{FP(거짓 양성) + TN(참 음성)}$\n",
        "* 실제 0인 것 중 얼마만큼 제대로(0로) 예측되었는지\n",
        "* 1에 가까울 수록 좋은 수치\n",
        "\n",
        "$FPR = \\frac{FP(거짓 양성)}{FP(거짓 양성) + TN(참 음성)}$\n",
        "* 실제 0인 것 중 얼마만큼 잘못(1로) 예측되었는지\n",
        "* 0에 가까울 수록 좋은 수치\n",
        "$FPR = 1 - TNR$\n",
        "\n",
        "민감도(TPR)을 높이기 위해서 기준을 낮추면, 반대로 FPR은 증가하게 되어 있음\n",
        "(역의 관계)\n",
        "하지만 예측력이 좋은 모델이라면 그 변화치가 높지 않음\n",
        "\n",
        "![ROC](https://i.imgur.com/euCumVh.png)\n",
        "* 기준점을 바꿨을 때 TPR, FPR이 어떻게 바뀌는지 보여주는 그래프\n",
        "* 최악의 경우 (학습이 전혀 안될 경우) -> 빨간색 점선\n",
        "\n",
        "### AUC (Area Under the ROC Curve)\n",
        "* ROC 곡선의 아래쪽에 해당하는 면적\n",
        "* 0.5~1 사이의 값을 가지며 커질 수록 더 좋은 분류기라는 의미\n",
        "![AUC](https://i.imgur.com/udlCMW4.png)"
      ]
    },
    {
      "cell_type": "code",
      "execution_count": null,
      "metadata": {
        "id": "zIYttFnmMOKJ"
      },
      "outputs": [],
      "source": [
        "# 0과 1을 얼마나 잘 분류하는지 (성능 좋은지)\n",
        "# proba -> 1이 될 확률\n",
        "roc_auc_score(y_test, proba)"
      ]
    },
    {
      "cell_type": "markdown",
      "metadata": {
        "id": "tiOZBH1aQF8u"
      },
      "source": [
        "# 하이퍼 패러미터 튜닝\n",
        "* 그리드 서치 : 주입할 패러미터 목록들을 딕셔너리 형태로 넣어서, 각각의 패러미터들을 모두 조합한 모델들을 학습시켜봐서, 최적의 모델을 찾는 것\n",
        "    * 너무 다 시도해봤자, 결국은 시간낭비일 수 있음\n",
        "    * 빨리 적당한 패러미터 조합이 필요할 수도 있음\n",
        "* 랜덤 서치 : 더 넓은 영역의 하이퍼 파라미터 값을 더 짧은 시간에 다양하게 활용\n",
        "    * 일부만 추출해서 모델링 -> 시간이 더 짧아짐"
      ]
    },
    {
      "cell_type": "markdown",
      "metadata": {
        "id": "MkXbndcMQuqz"
      },
      "source": [
        "## 랜덤 서치"
      ]
    },
    {
      "cell_type": "code",
      "execution_count": null,
      "metadata": {
        "id": "ZvEjcEb3QFtE"
      },
      "outputs": [],
      "source": [
        "from sklearn.model_selection import RandomizedSearchCV"
      ]
    },
    {
      "cell_type": "code",
      "execution_count": null,
      "metadata": {
        "id": "2S7how6CQ4H7"
      },
      "outputs": [],
      "source": [
        "# 랜덤 서치에 사용될 파라미터들 (딕셔너리)\n",
        "params = {\n",
        "    \"n_esimators\": [100, 500, 1000], # 총 생성할 트리 개수\n",
        "    \"learning_rate\": [0.01, 0.05, 0.1, 0.3], # 경사하강법에 적용할 학습률 (오차를 어느 범위만큼 수정할까)\n",
        "    # 너무 작으면 -> 오버피팅, 시간 오래걸림 / 너무 크면 -> 학습이 제대로 안됨\n",
        "    \"lambda_l1\": [0, 10, 20, 30, 50],\n",
        "    \"lambda_l2\": [0, 10, 20, 30, 50],\n",
        "    # 경사하강법과 관련 -> 오버피팅 줄이기\n",
        "    \"max_depth\": [5, 10, 15, 20], # 트리의 최대깊이 / 과적합\n",
        "    \"subsample\": [0.6, 0.8, 1] # 일부의 데이터만 사용해서 트리를 만들게 (1: 전체)\n",
        "}"
      ]
    },
    {
      "cell_type": "markdown",
      "metadata": {
        "id": "cZRpboXiRFWT"
      },
      "source": [
        "**L1 정규화(lambda_l1)와 L2 정규화(lambda_l2)**\n",
        "* 라쏘 회귀(lasso regression) - L1 정규화\n",
        "* 릿지 회귀(rigde regression) - L2 정규화\n",
        "> 둘 다 매개 변수에 패널티를 가해서 그 영향력(계수)을 감소 시키는 방법.<br>\n",
        "오버피팅을 방지하는 목적으로 쓰임"
      ]
    },
    {
      "cell_type": "code",
      "execution_count": null,
      "metadata": {
        "id": "dvtgLB_4R0XO"
      },
      "outputs": [],
      "source": [
        "model2 = lgb.LGBMClassifier(random_state=26)\n",
        "# (학습에 쓰일 모델, param_distributions 랜덤 서치에 쓰일 파라미터들, n_iter 몇 번 조합을 추출할지\n",
        "#  scoring 모델 간 비교 수치, n_jobs cpu 코어 개수 (-1: 전체))\n",
        "rs = RandomizedSearchCV(model2, param_distributions=params, n_iter=30,\n",
        "                        scoring='roc_auc', random_state=26, n_jobs=-1)"
      ]
    },
    {
      "cell_type": "code",
      "execution_count": null,
      "metadata": {
        "id": "gUVwR04nSW_m"
      },
      "outputs": [],
      "source": [
        "import time\n",
        "start = time.time() \n",
        "rs.fit(X_train, y_train)\n",
        "print(time.time() - start)"
      ]
    },
    {
      "cell_type": "code",
      "execution_count": null,
      "metadata": {
        "id": "Tk0BCXGiSpwl"
      },
      "outputs": [],
      "source": [
        "rs.best_params_ # 이 조합을 쓰면 됨"
      ]
    },
    {
      "cell_type": "code",
      "execution_count": null,
      "metadata": {
        "id": "wWdZXMKdd3nK"
      },
      "outputs": [],
      "source": [
        "rs.best_score_ # 5개 정도로 나온 값들이 평균치"
      ]
    },
    {
      "cell_type": "code",
      "execution_count": null,
      "metadata": {
        "id": "fzf_BkJSd85q"
      },
      "outputs": [],
      "source": [
        "rs_proba = rs.predict_proba(X_test)"
      ]
    },
    {
      "cell_type": "code",
      "execution_count": null,
      "metadata": {
        "id": "96C8QwwmeDkh"
      },
      "outputs": [],
      "source": [
        "# rs_proba[:, 1] : proba -> 0열 : 0이 될 확률, 1열: 1이 될 확률\n",
        "# [모든행중에, 1번째열] -> 1이 될 확률만 호출\n",
        "# roc_auc_score(y_test, rs_proba[:, 1])\n",
        "confusion_matrix_view(y_test, rs.predict(X_test))"
      ]
    },
    {
      "cell_type": "code",
      "execution_count": null,
      "metadata": {
        "id": "zZh5sFA5ec_i"
      },
      "outputs": [],
      "source": [
        "# 0.2로 조금 더 느슨하게 (정밀도를 희생하고, 재현율 높임)\n",
        "rs_proba_int1 = (rs_proba[:,1] > 0.2).astype('int') # 1이 될 확률이 0.2만 넘어가도 1로 취급\n",
        "confusion_matrix_view(y_test, rs_proba_int1)"
      ]
    },
    {
      "cell_type": "code",
      "execution_count": null,
      "metadata": {
        "id": "mrThHQZSfE7b"
      },
      "outputs": [],
      "source": [
        "# 0.8로 조금 더 엄격하게 (정밀도를 높이고, 재현율 희생)\n",
        "rs_proba_int2 = (rs_proba[:,1] > 0.8).astype('int') # 1이 될 확률이 0.8이 넘어야 1로 취급\n",
        "confusion_matrix_view(y_test, rs_proba_int2)"
      ]
    },
    {
      "cell_type": "markdown",
      "metadata": {
        "id": "UrENMTHBjHkF"
      },
      "source": [
        "# 변수 중요도"
      ]
    },
    {
      "cell_type": "code",
      "execution_count": null,
      "metadata": {
        "id": "pgOSlL92jTmC"
      },
      "outputs": [],
      "source": [
        "model.feature_importances_"
      ]
    },
    {
      "cell_type": "code",
      "execution_count": null,
      "metadata": {
        "id": "eEa3L48DjJzv"
      },
      "outputs": [],
      "source": [
        "feature_imp = pd.DataFrame({'features': X_train.columns, 'values': model.feature_importances_})\n",
        "plt.figure(figsize=(20, 10))\n",
        "sns.barplot(x='values', y='features',\n",
        "            data=feature_imp.sort_values(by='values', ascending=False).head(10))\n",
        "plt.show()"
      ]
    }
  ],
  "metadata": {
    "colab": {
      "provenance": [],
      "include_colab_link": true
    },
    "kernelspec": {
      "display_name": "Python 3",
      "name": "python3"
    },
    "language_info": {
      "name": "python"
    }
  },
  "nbformat": 4,
  "nbformat_minor": 0
}