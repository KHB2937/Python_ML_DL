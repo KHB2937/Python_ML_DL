{
  "cells": [
    {
      "cell_type": "markdown",
      "metadata": {
        "colab_type": "text",
        "id": "view-in-github"
      },
      "source": [
        "<a href=\"https://colab.research.google.com/github/KHB2937/MachineLearning/blob/main/MachineLearning/Kwak99/MLProject/MLNtest5_ipynb%EC%9D%98_%EC%82%AC%EB%B3%B8.ipynb\" target=\"_parent\"><img src=\"https://colab.research.google.com/assets/colab-badge.svg\" alt=\"Open In Colab\"/></a>"
      ]
    },
    {
      "cell_type": "markdown",
      "metadata": {
        "id": "XDGOoN6sU2jq"
      },
      "source": [
        "## 나는 랜덤포레스트"
      ]
    },
    {
      "cell_type": "code",
      "execution_count": null,
      "metadata": {
        "id": "LXN2SYeVERgE"
      },
      "outputs": [],
      "source": [
        "# 1. 나눔폰트\n",
        "!sudo apt-get install -y fonts-nanum\n",
        "!sudo fc-cache -fv\n",
        "!rm ~/.cache/matplotlib -rf\n",
        "# 2. 런타임 재시작 -> 런타임 / 런타임 다시 시작 (Ctrl + M .)\n",
        "exit()"
      ]
    },
    {
      "cell_type": "code",
      "execution_count": 1,
      "metadata": {
        "id": "WS-rLW0WETl7"
      },
      "outputs": [],
      "source": [
        "# 3. 기본 폰트를 나.바.고로 세팅\n",
        "import matplotlib.pyplot as plt\n",
        "plt.rc('font', family='NanumBarunGothic')"
      ]
    },
    {
      "cell_type": "code",
      "execution_count": 146,
      "metadata": {
        "id": "i3OxIe-gSATc"
      },
      "outputs": [],
      "source": [
        "import pandas as pd\n",
        "import numpy as np\n",
        "import matplotlib.pyplot as plt\n",
        "from sklearn.preprocessing import MinMaxScaler\n",
        "\n",
        "from sklearn.preprocessing import PolynomialFeatures\n",
        "from math import sqrt\n",
        "from sklearn.linear_model import Lasso\n",
        "from sklearn.ensemble import AdaBoostRegressor\n",
        "from sklearn.model_selection import train_test_split\n",
        "from sklearn.ensemble import RandomForestRegressor\n",
        "from sklearn.impute import SimpleImputer\n",
        "from sklearn.metrics import mean_squared_error\n",
        "from sklearn.model_selection import GridSearchCV\n",
        "from sklearn.tree import DecisionTreeRegressor"
      ]
    },
    {
      "cell_type": "code",
      "execution_count": 273,
      "metadata": {
        "colab": {
          "base_uri": "https://localhost:8080/",
          "height": 658
        },
        "id": "QfLtqkTFSMsE",
        "outputId": "c49812fb-bfa1-435a-d42f-a3047b5fe59d"
      },
      "outputs": [
        {
          "data": {
            "text/html": [
              "\n",
              "  <div id=\"df-d2db85e6-5354-45f7-ac35-d814ab120f97\">\n",
              "    <div class=\"colab-df-container\">\n",
              "      <div>\n",
              "<style scoped>\n",
              "    .dataframe tbody tr th:only-of-type {\n",
              "        vertical-align: middle;\n",
              "    }\n",
              "\n",
              "    .dataframe tbody tr th {\n",
              "        vertical-align: top;\n",
              "    }\n",
              "\n",
              "    .dataframe thead th {\n",
              "        text-align: right;\n",
              "    }\n",
              "</style>\n",
              "<table border=\"1\" class=\"dataframe\">\n",
              "  <thead>\n",
              "    <tr style=\"text-align: right;\">\n",
              "      <th></th>\n",
              "      <th>시군구</th>\n",
              "      <th>전용면적(㎡)</th>\n",
              "      <th>계약년월</th>\n",
              "      <th>계약일</th>\n",
              "      <th>거래금액(만원)</th>\n",
              "      <th>건축년도</th>\n",
              "      <th>거래유형</th>\n",
              "    </tr>\n",
              "  </thead>\n",
              "  <tbody>\n",
              "    <tr>\n",
              "      <th>0</th>\n",
              "      <td>강원도 강릉시 견소동</td>\n",
              "      <td>84.9300</td>\n",
              "      <td>202301</td>\n",
              "      <td>4</td>\n",
              "      <td>25,000</td>\n",
              "      <td>1997.0</td>\n",
              "      <td>중개거래</td>\n",
              "    </tr>\n",
              "    <tr>\n",
              "      <th>1</th>\n",
              "      <td>강원도 강릉시 견소동</td>\n",
              "      <td>84.9900</td>\n",
              "      <td>202301</td>\n",
              "      <td>5</td>\n",
              "      <td>29,800</td>\n",
              "      <td>2005.0</td>\n",
              "      <td>중개거래</td>\n",
              "    </tr>\n",
              "    <tr>\n",
              "      <th>2</th>\n",
              "      <td>강원도 강릉시 견소동</td>\n",
              "      <td>84.9900</td>\n",
              "      <td>202301</td>\n",
              "      <td>25</td>\n",
              "      <td>28,500</td>\n",
              "      <td>2005.0</td>\n",
              "      <td>중개거래</td>\n",
              "    </tr>\n",
              "    <tr>\n",
              "      <th>3</th>\n",
              "      <td>강원도 강릉시 교동</td>\n",
              "      <td>59.8600</td>\n",
              "      <td>202301</td>\n",
              "      <td>4</td>\n",
              "      <td>20,000</td>\n",
              "      <td>2002.0</td>\n",
              "      <td>직거래</td>\n",
              "    </tr>\n",
              "    <tr>\n",
              "      <th>4</th>\n",
              "      <td>강원도 강릉시 교동</td>\n",
              "      <td>59.8400</td>\n",
              "      <td>202301</td>\n",
              "      <td>11</td>\n",
              "      <td>25,000</td>\n",
              "      <td>2002.0</td>\n",
              "      <td>중개거래</td>\n",
              "    </tr>\n",
              "    <tr>\n",
              "      <th>...</th>\n",
              "      <td>...</td>\n",
              "      <td>...</td>\n",
              "      <td>...</td>\n",
              "      <td>...</td>\n",
              "      <td>...</td>\n",
              "      <td>...</td>\n",
              "      <td>...</td>\n",
              "    </tr>\n",
              "    <tr>\n",
              "      <th>52008</th>\n",
              "      <td>충청북도 충주시 호암동</td>\n",
              "      <td>84.9289</td>\n",
              "      <td>202302</td>\n",
              "      <td>16</td>\n",
              "      <td>23,000</td>\n",
              "      <td>2007.0</td>\n",
              "      <td>중개거래</td>\n",
              "    </tr>\n",
              "    <tr>\n",
              "      <th>52009</th>\n",
              "      <td>충청북도 충주시 호암동</td>\n",
              "      <td>84.9289</td>\n",
              "      <td>202302</td>\n",
              "      <td>21</td>\n",
              "      <td>23,000</td>\n",
              "      <td>2007.0</td>\n",
              "      <td>중개거래</td>\n",
              "    </tr>\n",
              "    <tr>\n",
              "      <th>52010</th>\n",
              "      <td>충청북도 충주시 호암동</td>\n",
              "      <td>84.6800</td>\n",
              "      <td>202302</td>\n",
              "      <td>2</td>\n",
              "      <td>20,800</td>\n",
              "      <td>2002.0</td>\n",
              "      <td>중개거래</td>\n",
              "    </tr>\n",
              "    <tr>\n",
              "      <th>52011</th>\n",
              "      <td>충청북도 충주시 호암동</td>\n",
              "      <td>84.9500</td>\n",
              "      <td>202302</td>\n",
              "      <td>2</td>\n",
              "      <td>40,000</td>\n",
              "      <td>2019.0</td>\n",
              "      <td>중개거래</td>\n",
              "    </tr>\n",
              "    <tr>\n",
              "      <th>52012</th>\n",
              "      <td>충청북도 충주시 호암동</td>\n",
              "      <td>99.8000</td>\n",
              "      <td>202302</td>\n",
              "      <td>16</td>\n",
              "      <td>49,000</td>\n",
              "      <td>2019.0</td>\n",
              "      <td>중개거래</td>\n",
              "    </tr>\n",
              "  </tbody>\n",
              "</table>\n",
              "<p>52013 rows × 7 columns</p>\n",
              "</div>\n",
              "      <button class=\"colab-df-convert\" onclick=\"convertToInteractive('df-d2db85e6-5354-45f7-ac35-d814ab120f97')\"\n",
              "              title=\"Convert this dataframe to an interactive table.\"\n",
              "              style=\"display:none;\">\n",
              "        \n",
              "  <svg xmlns=\"http://www.w3.org/2000/svg\" height=\"24px\"viewBox=\"0 0 24 24\"\n",
              "       width=\"24px\">\n",
              "    <path d=\"M0 0h24v24H0V0z\" fill=\"none\"/>\n",
              "    <path d=\"M18.56 5.44l.94 2.06.94-2.06 2.06-.94-2.06-.94-.94-2.06-.94 2.06-2.06.94zm-11 1L8.5 8.5l.94-2.06 2.06-.94-2.06-.94L8.5 2.5l-.94 2.06-2.06.94zm10 10l.94 2.06.94-2.06 2.06-.94-2.06-.94-.94-2.06-.94 2.06-2.06.94z\"/><path d=\"M17.41 7.96l-1.37-1.37c-.4-.4-.92-.59-1.43-.59-.52 0-1.04.2-1.43.59L10.3 9.45l-7.72 7.72c-.78.78-.78 2.05 0 2.83L4 21.41c.39.39.9.59 1.41.59.51 0 1.02-.2 1.41-.59l7.78-7.78 2.81-2.81c.8-.78.8-2.07 0-2.86zM5.41 20L4 18.59l7.72-7.72 1.47 1.35L5.41 20z\"/>\n",
              "  </svg>\n",
              "      </button>\n",
              "      \n",
              "  <style>\n",
              "    .colab-df-container {\n",
              "      display:flex;\n",
              "      flex-wrap:wrap;\n",
              "      gap: 12px;\n",
              "    }\n",
              "\n",
              "    .colab-df-convert {\n",
              "      background-color: #E8F0FE;\n",
              "      border: none;\n",
              "      border-radius: 50%;\n",
              "      cursor: pointer;\n",
              "      display: none;\n",
              "      fill: #1967D2;\n",
              "      height: 32px;\n",
              "      padding: 0 0 0 0;\n",
              "      width: 32px;\n",
              "    }\n",
              "\n",
              "    .colab-df-convert:hover {\n",
              "      background-color: #E2EBFA;\n",
              "      box-shadow: 0px 1px 2px rgba(60, 64, 67, 0.3), 0px 1px 3px 1px rgba(60, 64, 67, 0.15);\n",
              "      fill: #174EA6;\n",
              "    }\n",
              "\n",
              "    [theme=dark] .colab-df-convert {\n",
              "      background-color: #3B4455;\n",
              "      fill: #D2E3FC;\n",
              "    }\n",
              "\n",
              "    [theme=dark] .colab-df-convert:hover {\n",
              "      background-color: #434B5C;\n",
              "      box-shadow: 0px 1px 3px 1px rgba(0, 0, 0, 0.15);\n",
              "      filter: drop-shadow(0px 1px 2px rgba(0, 0, 0, 0.3));\n",
              "      fill: #FFFFFF;\n",
              "    }\n",
              "  </style>\n",
              "\n",
              "      <script>\n",
              "        const buttonEl =\n",
              "          document.querySelector('#df-d2db85e6-5354-45f7-ac35-d814ab120f97 button.colab-df-convert');\n",
              "        buttonEl.style.display =\n",
              "          google.colab.kernel.accessAllowed ? 'block' : 'none';\n",
              "\n",
              "        async function convertToInteractive(key) {\n",
              "          const element = document.querySelector('#df-d2db85e6-5354-45f7-ac35-d814ab120f97');\n",
              "          const dataTable =\n",
              "            await google.colab.kernel.invokeFunction('convertToInteractive',\n",
              "                                                     [key], {});\n",
              "          if (!dataTable) return;\n",
              "\n",
              "          const docLinkHtml = 'Like what you see? Visit the ' +\n",
              "            '<a target=\"_blank\" href=https://colab.research.google.com/notebooks/data_table.ipynb>data table notebook</a>'\n",
              "            + ' to learn more about interactive tables.';\n",
              "          element.innerHTML = '';\n",
              "          dataTable['output_type'] = 'display_data';\n",
              "          await google.colab.output.renderOutput(dataTable, element);\n",
              "          const docLink = document.createElement('div');\n",
              "          docLink.innerHTML = docLinkHtml;\n",
              "          element.appendChild(docLink);\n",
              "        }\n",
              "      </script>\n",
              "    </div>\n",
              "  </div>\n",
              "  "
            ],
            "text/plain": [
              "                시군구  전용면적(㎡)    계약년월  계약일        거래금액(만원)    건축년도  거래유형\n",
              "0       강원도 강릉시 견소동  84.9300  202301    4          25,000  1997.0  중개거래\n",
              "1       강원도 강릉시 견소동  84.9900  202301    5          29,800  2005.0  중개거래\n",
              "2       강원도 강릉시 견소동  84.9900  202301   25          28,500  2005.0  중개거래\n",
              "3        강원도 강릉시 교동  59.8600  202301    4          20,000  2002.0   직거래\n",
              "4        강원도 강릉시 교동  59.8400  202301   11          25,000  2002.0  중개거래\n",
              "...             ...      ...     ...  ...             ...     ...   ...\n",
              "52008  충청북도 충주시 호암동  84.9289  202302   16          23,000  2007.0  중개거래\n",
              "52009  충청북도 충주시 호암동  84.9289  202302   21          23,000  2007.0  중개거래\n",
              "52010  충청북도 충주시 호암동  84.6800  202302    2          20,800  2002.0  중개거래\n",
              "52011  충청북도 충주시 호암동  84.9500  202302    2          40,000  2019.0  중개거래\n",
              "52012  충청북도 충주시 호암동  99.8000  202302   16          49,000  2019.0  중개거래\n",
              "\n",
              "[52013 rows x 7 columns]"
            ]
          },
          "execution_count": 273,
          "metadata": {},
          "output_type": "execute_result"
        }
      ],
      "source": [
        "\n",
        "df_apt1 = pd.read_csv('https://github.com/jaiwon880/ML_Projiect/raw/main/Data/%EC%95%84%ED%8C%8C%ED%8A%B8_%EB%A7%A4%EB%A7%A4__%EC%8B%A4%EA%B1%B0%EB%9E%98%EA%B0%80_20230321134107_1%EC%9B%94.csv')\n",
        "df_apt2 = pd.read_csv('https://raw.githubusercontent.com/jaiwon880/ML_Projiect/main/Data/%EC%95%84%ED%8C%8C%ED%8A%B8_%EB%A7%A4%EB%A7%A4__%EC%8B%A4%EA%B1%B0%EB%9E%98%EA%B0%80_20230321134120_2%EC%9B%94.csv')\n",
        "df = pd.concat([df_apt1, df_apt2], ignore_index=True)\n",
        "df\n"
      ]
    },
    {
      "cell_type": "markdown",
      "metadata": {
        "id": "FEtPFWSnMeBZ"
      },
      "source": [
        "## 전처리"
      ]
    },
    {
      "cell_type": "code",
      "execution_count": 274,
      "metadata": {
        "colab": {
          "base_uri": "https://localhost:8080/",
          "height": 354
        },
        "id": "2hEUNbuZTIsK",
        "outputId": "310a5570-5f19-4967-8da7-0eb784d07a66"
      },
      "outputs": [
        {
          "data": {
            "text/html": [
              "\n",
              "  <div id=\"df-3df6749c-5fb6-4263-9347-2f2e4f742cc7\">\n",
              "    <div class=\"colab-df-container\">\n",
              "      <div>\n",
              "<style scoped>\n",
              "    .dataframe tbody tr th:only-of-type {\n",
              "        vertical-align: middle;\n",
              "    }\n",
              "\n",
              "    .dataframe tbody tr th {\n",
              "        vertical-align: top;\n",
              "    }\n",
              "\n",
              "    .dataframe thead th {\n",
              "        text-align: right;\n",
              "    }\n",
              "</style>\n",
              "<table border=\"1\" class=\"dataframe\">\n",
              "  <thead>\n",
              "    <tr style=\"text-align: right;\">\n",
              "      <th></th>\n",
              "      <th>시군구</th>\n",
              "      <th>전용면적(㎡)</th>\n",
              "      <th>계약년월</th>\n",
              "      <th>계약일</th>\n",
              "      <th>거래금액(만원)</th>\n",
              "      <th>건축년도</th>\n",
              "      <th>거래유형_중개거래</th>\n",
              "      <th>거래유형_직거래</th>\n",
              "    </tr>\n",
              "  </thead>\n",
              "  <tbody>\n",
              "    <tr>\n",
              "      <th>0</th>\n",
              "      <td>강원도 강릉시 견소동</td>\n",
              "      <td>84.93</td>\n",
              "      <td>202301</td>\n",
              "      <td>4</td>\n",
              "      <td>25,000</td>\n",
              "      <td>1997.0</td>\n",
              "      <td>1</td>\n",
              "      <td>0</td>\n",
              "    </tr>\n",
              "    <tr>\n",
              "      <th>1</th>\n",
              "      <td>강원도 강릉시 견소동</td>\n",
              "      <td>84.99</td>\n",
              "      <td>202301</td>\n",
              "      <td>5</td>\n",
              "      <td>29,800</td>\n",
              "      <td>2005.0</td>\n",
              "      <td>1</td>\n",
              "      <td>0</td>\n",
              "    </tr>\n",
              "    <tr>\n",
              "      <th>2</th>\n",
              "      <td>강원도 강릉시 견소동</td>\n",
              "      <td>84.99</td>\n",
              "      <td>202301</td>\n",
              "      <td>25</td>\n",
              "      <td>28,500</td>\n",
              "      <td>2005.0</td>\n",
              "      <td>1</td>\n",
              "      <td>0</td>\n",
              "    </tr>\n",
              "    <tr>\n",
              "      <th>3</th>\n",
              "      <td>강원도 강릉시 교동</td>\n",
              "      <td>59.86</td>\n",
              "      <td>202301</td>\n",
              "      <td>4</td>\n",
              "      <td>20,000</td>\n",
              "      <td>2002.0</td>\n",
              "      <td>0</td>\n",
              "      <td>1</td>\n",
              "    </tr>\n",
              "    <tr>\n",
              "      <th>4</th>\n",
              "      <td>강원도 강릉시 교동</td>\n",
              "      <td>59.84</td>\n",
              "      <td>202301</td>\n",
              "      <td>11</td>\n",
              "      <td>25,000</td>\n",
              "      <td>2002.0</td>\n",
              "      <td>1</td>\n",
              "      <td>0</td>\n",
              "    </tr>\n",
              "  </tbody>\n",
              "</table>\n",
              "</div>\n",
              "      <button class=\"colab-df-convert\" onclick=\"convertToInteractive('df-3df6749c-5fb6-4263-9347-2f2e4f742cc7')\"\n",
              "              title=\"Convert this dataframe to an interactive table.\"\n",
              "              style=\"display:none;\">\n",
              "        \n",
              "  <svg xmlns=\"http://www.w3.org/2000/svg\" height=\"24px\"viewBox=\"0 0 24 24\"\n",
              "       width=\"24px\">\n",
              "    <path d=\"M0 0h24v24H0V0z\" fill=\"none\"/>\n",
              "    <path d=\"M18.56 5.44l.94 2.06.94-2.06 2.06-.94-2.06-.94-.94-2.06-.94 2.06-2.06.94zm-11 1L8.5 8.5l.94-2.06 2.06-.94-2.06-.94L8.5 2.5l-.94 2.06-2.06.94zm10 10l.94 2.06.94-2.06 2.06-.94-2.06-.94-.94-2.06-.94 2.06-2.06.94z\"/><path d=\"M17.41 7.96l-1.37-1.37c-.4-.4-.92-.59-1.43-.59-.52 0-1.04.2-1.43.59L10.3 9.45l-7.72 7.72c-.78.78-.78 2.05 0 2.83L4 21.41c.39.39.9.59 1.41.59.51 0 1.02-.2 1.41-.59l7.78-7.78 2.81-2.81c.8-.78.8-2.07 0-2.86zM5.41 20L4 18.59l7.72-7.72 1.47 1.35L5.41 20z\"/>\n",
              "  </svg>\n",
              "      </button>\n",
              "      \n",
              "  <style>\n",
              "    .colab-df-container {\n",
              "      display:flex;\n",
              "      flex-wrap:wrap;\n",
              "      gap: 12px;\n",
              "    }\n",
              "\n",
              "    .colab-df-convert {\n",
              "      background-color: #E8F0FE;\n",
              "      border: none;\n",
              "      border-radius: 50%;\n",
              "      cursor: pointer;\n",
              "      display: none;\n",
              "      fill: #1967D2;\n",
              "      height: 32px;\n",
              "      padding: 0 0 0 0;\n",
              "      width: 32px;\n",
              "    }\n",
              "\n",
              "    .colab-df-convert:hover {\n",
              "      background-color: #E2EBFA;\n",
              "      box-shadow: 0px 1px 2px rgba(60, 64, 67, 0.3), 0px 1px 3px 1px rgba(60, 64, 67, 0.15);\n",
              "      fill: #174EA6;\n",
              "    }\n",
              "\n",
              "    [theme=dark] .colab-df-convert {\n",
              "      background-color: #3B4455;\n",
              "      fill: #D2E3FC;\n",
              "    }\n",
              "\n",
              "    [theme=dark] .colab-df-convert:hover {\n",
              "      background-color: #434B5C;\n",
              "      box-shadow: 0px 1px 3px 1px rgba(0, 0, 0, 0.15);\n",
              "      filter: drop-shadow(0px 1px 2px rgba(0, 0, 0, 0.3));\n",
              "      fill: #FFFFFF;\n",
              "    }\n",
              "  </style>\n",
              "\n",
              "      <script>\n",
              "        const buttonEl =\n",
              "          document.querySelector('#df-3df6749c-5fb6-4263-9347-2f2e4f742cc7 button.colab-df-convert');\n",
              "        buttonEl.style.display =\n",
              "          google.colab.kernel.accessAllowed ? 'block' : 'none';\n",
              "\n",
              "        async function convertToInteractive(key) {\n",
              "          const element = document.querySelector('#df-3df6749c-5fb6-4263-9347-2f2e4f742cc7');\n",
              "          const dataTable =\n",
              "            await google.colab.kernel.invokeFunction('convertToInteractive',\n",
              "                                                     [key], {});\n",
              "          if (!dataTable) return;\n",
              "\n",
              "          const docLinkHtml = 'Like what you see? Visit the ' +\n",
              "            '<a target=\"_blank\" href=https://colab.research.google.com/notebooks/data_table.ipynb>data table notebook</a>'\n",
              "            + ' to learn more about interactive tables.';\n",
              "          element.innerHTML = '';\n",
              "          dataTable['output_type'] = 'display_data';\n",
              "          await google.colab.output.renderOutput(dataTable, element);\n",
              "          const docLink = document.createElement('div');\n",
              "          docLink.innerHTML = docLinkHtml;\n",
              "          element.appendChild(docLink);\n",
              "        }\n",
              "      </script>\n",
              "    </div>\n",
              "  </div>\n",
              "  "
            ],
            "text/plain": [
              "           시군구  전용면적(㎡)    계약년월  계약일        거래금액(만원)    건축년도  거래유형_중개거래  \\\n",
              "0  강원도 강릉시 견소동    84.93  202301    4          25,000  1997.0          1   \n",
              "1  강원도 강릉시 견소동    84.99  202301    5          29,800  2005.0          1   \n",
              "2  강원도 강릉시 견소동    84.99  202301   25          28,500  2005.0          1   \n",
              "3   강원도 강릉시 교동    59.86  202301    4          20,000  2002.0          0   \n",
              "4   강원도 강릉시 교동    59.84  202301   11          25,000  2002.0          1   \n",
              "\n",
              "   거래유형_직거래  \n",
              "0         0  \n",
              "1         0  \n",
              "2         0  \n",
              "3         1  \n",
              "4         0  "
            ]
          },
          "execution_count": 274,
          "metadata": {},
          "output_type": "execute_result"
        }
      ],
      "source": [
        "df = pd.get_dummies(data=df, columns=['거래유형']) #pandas 데이터 셋에 그대로 인코딩 \n",
        "df.head(5) "
      ]
    },
    {
      "cell_type": "code",
      "execution_count": 275,
      "metadata": {
        "colab": {
          "base_uri": "https://localhost:8080/",
          "height": 381
        },
        "id": "EteNnMS8eef3",
        "outputId": "6957f62e-9d8b-476f-9d89-e780abcc0957"
      },
      "outputs": [
        {
          "data": {
            "text/html": [
              "\n",
              "  <div id=\"df-cb49b7b2-e8f4-4847-8eca-ad3473f975dd\">\n",
              "    <div class=\"colab-df-container\">\n",
              "      <div>\n",
              "<style scoped>\n",
              "    .dataframe tbody tr th:only-of-type {\n",
              "        vertical-align: middle;\n",
              "    }\n",
              "\n",
              "    .dataframe tbody tr th {\n",
              "        vertical-align: top;\n",
              "    }\n",
              "\n",
              "    .dataframe thead th {\n",
              "        text-align: right;\n",
              "    }\n",
              "</style>\n",
              "<table border=\"1\" class=\"dataframe\">\n",
              "  <thead>\n",
              "    <tr style=\"text-align: right;\">\n",
              "      <th></th>\n",
              "      <th>전용면적(㎡)</th>\n",
              "      <th>계약년월</th>\n",
              "      <th>계약일</th>\n",
              "      <th>건축년도</th>\n",
              "      <th>거래유형_중개거래</th>\n",
              "      <th>거래유형_직거래</th>\n",
              "    </tr>\n",
              "  </thead>\n",
              "  <tbody>\n",
              "    <tr>\n",
              "      <th>count</th>\n",
              "      <td>52013.000000</td>\n",
              "      <td>52013.000000</td>\n",
              "      <td>52013.000000</td>\n",
              "      <td>52003.000000</td>\n",
              "      <td>52013.000000</td>\n",
              "      <td>52013.000000</td>\n",
              "    </tr>\n",
              "    <tr>\n",
              "      <th>mean</th>\n",
              "      <td>73.537838</td>\n",
              "      <td>202301.615442</td>\n",
              "      <td>15.228558</td>\n",
              "      <td>2006.086860</td>\n",
              "      <td>0.891335</td>\n",
              "      <td>0.108665</td>\n",
              "    </tr>\n",
              "    <tr>\n",
              "      <th>std</th>\n",
              "      <td>22.838342</td>\n",
              "      <td>0.486495</td>\n",
              "      <td>8.287285</td>\n",
              "      <td>10.634784</td>\n",
              "      <td>0.311222</td>\n",
              "      <td>0.311222</td>\n",
              "    </tr>\n",
              "    <tr>\n",
              "      <th>min</th>\n",
              "      <td>11.790000</td>\n",
              "      <td>202301.000000</td>\n",
              "      <td>1.000000</td>\n",
              "      <td>1962.000000</td>\n",
              "      <td>0.000000</td>\n",
              "      <td>0.000000</td>\n",
              "    </tr>\n",
              "    <tr>\n",
              "      <th>25%</th>\n",
              "      <td>59.820000</td>\n",
              "      <td>202301.000000</td>\n",
              "      <td>8.000000</td>\n",
              "      <td>1997.000000</td>\n",
              "      <td>1.000000</td>\n",
              "      <td>0.000000</td>\n",
              "    </tr>\n",
              "    <tr>\n",
              "      <th>50%</th>\n",
              "      <td>75.925800</td>\n",
              "      <td>202302.000000</td>\n",
              "      <td>15.000000</td>\n",
              "      <td>2006.000000</td>\n",
              "      <td>1.000000</td>\n",
              "      <td>0.000000</td>\n",
              "    </tr>\n",
              "    <tr>\n",
              "      <th>75%</th>\n",
              "      <td>84.950000</td>\n",
              "      <td>202302.000000</td>\n",
              "      <td>22.000000</td>\n",
              "      <td>2017.000000</td>\n",
              "      <td>1.000000</td>\n",
              "      <td>0.000000</td>\n",
              "    </tr>\n",
              "    <tr>\n",
              "      <th>max</th>\n",
              "      <td>290.997100</td>\n",
              "      <td>202302.000000</td>\n",
              "      <td>31.000000</td>\n",
              "      <td>2023.000000</td>\n",
              "      <td>1.000000</td>\n",
              "      <td>1.000000</td>\n",
              "    </tr>\n",
              "  </tbody>\n",
              "</table>\n",
              "</div>\n",
              "      <button class=\"colab-df-convert\" onclick=\"convertToInteractive('df-cb49b7b2-e8f4-4847-8eca-ad3473f975dd')\"\n",
              "              title=\"Convert this dataframe to an interactive table.\"\n",
              "              style=\"display:none;\">\n",
              "        \n",
              "  <svg xmlns=\"http://www.w3.org/2000/svg\" height=\"24px\"viewBox=\"0 0 24 24\"\n",
              "       width=\"24px\">\n",
              "    <path d=\"M0 0h24v24H0V0z\" fill=\"none\"/>\n",
              "    <path d=\"M18.56 5.44l.94 2.06.94-2.06 2.06-.94-2.06-.94-.94-2.06-.94 2.06-2.06.94zm-11 1L8.5 8.5l.94-2.06 2.06-.94-2.06-.94L8.5 2.5l-.94 2.06-2.06.94zm10 10l.94 2.06.94-2.06 2.06-.94-2.06-.94-.94-2.06-.94 2.06-2.06.94z\"/><path d=\"M17.41 7.96l-1.37-1.37c-.4-.4-.92-.59-1.43-.59-.52 0-1.04.2-1.43.59L10.3 9.45l-7.72 7.72c-.78.78-.78 2.05 0 2.83L4 21.41c.39.39.9.59 1.41.59.51 0 1.02-.2 1.41-.59l7.78-7.78 2.81-2.81c.8-.78.8-2.07 0-2.86zM5.41 20L4 18.59l7.72-7.72 1.47 1.35L5.41 20z\"/>\n",
              "  </svg>\n",
              "      </button>\n",
              "      \n",
              "  <style>\n",
              "    .colab-df-container {\n",
              "      display:flex;\n",
              "      flex-wrap:wrap;\n",
              "      gap: 12px;\n",
              "    }\n",
              "\n",
              "    .colab-df-convert {\n",
              "      background-color: #E8F0FE;\n",
              "      border: none;\n",
              "      border-radius: 50%;\n",
              "      cursor: pointer;\n",
              "      display: none;\n",
              "      fill: #1967D2;\n",
              "      height: 32px;\n",
              "      padding: 0 0 0 0;\n",
              "      width: 32px;\n",
              "    }\n",
              "\n",
              "    .colab-df-convert:hover {\n",
              "      background-color: #E2EBFA;\n",
              "      box-shadow: 0px 1px 2px rgba(60, 64, 67, 0.3), 0px 1px 3px 1px rgba(60, 64, 67, 0.15);\n",
              "      fill: #174EA6;\n",
              "    }\n",
              "\n",
              "    [theme=dark] .colab-df-convert {\n",
              "      background-color: #3B4455;\n",
              "      fill: #D2E3FC;\n",
              "    }\n",
              "\n",
              "    [theme=dark] .colab-df-convert:hover {\n",
              "      background-color: #434B5C;\n",
              "      box-shadow: 0px 1px 3px 1px rgba(0, 0, 0, 0.15);\n",
              "      filter: drop-shadow(0px 1px 2px rgba(0, 0, 0, 0.3));\n",
              "      fill: #FFFFFF;\n",
              "    }\n",
              "  </style>\n",
              "\n",
              "      <script>\n",
              "        const buttonEl =\n",
              "          document.querySelector('#df-cb49b7b2-e8f4-4847-8eca-ad3473f975dd button.colab-df-convert');\n",
              "        buttonEl.style.display =\n",
              "          google.colab.kernel.accessAllowed ? 'block' : 'none';\n",
              "\n",
              "        async function convertToInteractive(key) {\n",
              "          const element = document.querySelector('#df-cb49b7b2-e8f4-4847-8eca-ad3473f975dd');\n",
              "          const dataTable =\n",
              "            await google.colab.kernel.invokeFunction('convertToInteractive',\n",
              "                                                     [key], {});\n",
              "          if (!dataTable) return;\n",
              "\n",
              "          const docLinkHtml = 'Like what you see? Visit the ' +\n",
              "            '<a target=\"_blank\" href=https://colab.research.google.com/notebooks/data_table.ipynb>data table notebook</a>'\n",
              "            + ' to learn more about interactive tables.';\n",
              "          element.innerHTML = '';\n",
              "          dataTable['output_type'] = 'display_data';\n",
              "          await google.colab.output.renderOutput(dataTable, element);\n",
              "          const docLink = document.createElement('div');\n",
              "          docLink.innerHTML = docLinkHtml;\n",
              "          element.appendChild(docLink);\n",
              "        }\n",
              "      </script>\n",
              "    </div>\n",
              "  </div>\n",
              "  "
            ],
            "text/plain": [
              "            전용면적(㎡)           계약년월           계약일          건축년도     거래유형_중개거래  \\\n",
              "count  52013.000000   52013.000000  52013.000000  52003.000000  52013.000000   \n",
              "mean      73.537838  202301.615442     15.228558   2006.086860      0.891335   \n",
              "std       22.838342       0.486495      8.287285     10.634784      0.311222   \n",
              "min       11.790000  202301.000000      1.000000   1962.000000      0.000000   \n",
              "25%       59.820000  202301.000000      8.000000   1997.000000      1.000000   \n",
              "50%       75.925800  202302.000000     15.000000   2006.000000      1.000000   \n",
              "75%       84.950000  202302.000000     22.000000   2017.000000      1.000000   \n",
              "max      290.997100  202302.000000     31.000000   2023.000000      1.000000   \n",
              "\n",
              "           거래유형_직거래  \n",
              "count  52013.000000  \n",
              "mean       0.108665  \n",
              "std        0.311222  \n",
              "min        0.000000  \n",
              "25%        0.000000  \n",
              "50%        0.000000  \n",
              "75%        0.000000  \n",
              "max        1.000000  "
            ]
          },
          "execution_count": 275,
          "metadata": {},
          "output_type": "execute_result"
        }
      ],
      "source": [
        "df.describe()"
      ]
    },
    {
      "cell_type": "code",
      "execution_count": 276,
      "metadata": {
        "id": "0ZtK-a2XKNNr"
      },
      "outputs": [],
      "source": [
        "df.drop(columns='거래유형_중개거래', inplace = True) # 중개거래 날리고\n",
        "df.rename(columns = {'거래유형_직거래' : '거래유형'}, inplace = True) # 직거래는 1 중개는 0으로 나타냄\n",
        "df[\"거래금액(만원)\"] = df[\"거래금액(만원)\"].str.replace(\",\", \"\").astype(int) # 거래금액 컬럼의 쉼표를 제거하고 정수형으로 변환\n",
        "df[\"평당가\"] = (df[\"거래금액(만원)\"] / df[\"전용면적(㎡)\"]*3.3) # 평당가 계산하여 새로운 컬럼 추가\n",
        "\n",
        "df['건축년도'].unique()\n",
        "df['거래유형'] = df['거래유형'].astype(int)\n",
        "\n",
        "df.isna().sum() # NaN값 찾고 날리기기\n",
        "df.dropna(inplace=True)\n",
        "\n",
        "df['금리'] = df.apply(lambda x: 3.25 if ((x['계약년월']== 202301) & (x['계약일'] < 13)) else 3.5, axis=1)\n",
        "df.drop(columns='시군구', inplace=True)\n",
        "df.drop(columns='거래금액(만원)', inplace=True)\n",
        "df['날짜'] = pd.to_datetime(df['계약년월'].astype(str) + df['계약일'].astype(str), format='%Y%m%d')\n",
        "# 계약년월과 계약일 열 삭제 후 인덱스 설정\n",
        "df = df.drop(['계약년월', '계약일'], axis=1)\n",
        "df = df.set_index('날짜')"
      ]
    },
    {
      "cell_type": "code",
      "execution_count": 293,
      "metadata": {
        "colab": {
          "base_uri": "https://localhost:8080/",
          "height": 455
        },
        "id": "qwEI1DtgOFdN",
        "outputId": "dd79c8dd-2037-44ee-fa39-a47c0e5c3129"
      },
      "outputs": [
        {
          "data": {
            "text/html": [
              "\n",
              "  <div id=\"df-fc3a1fca-49b3-4edb-bb45-8ddeb6d34fe1\">\n",
              "    <div class=\"colab-df-container\">\n",
              "      <div>\n",
              "<style scoped>\n",
              "    .dataframe tbody tr th:only-of-type {\n",
              "        vertical-align: middle;\n",
              "    }\n",
              "\n",
              "    .dataframe tbody tr th {\n",
              "        vertical-align: top;\n",
              "    }\n",
              "\n",
              "    .dataframe thead th {\n",
              "        text-align: right;\n",
              "    }\n",
              "</style>\n",
              "<table border=\"1\" class=\"dataframe\">\n",
              "  <thead>\n",
              "    <tr style=\"text-align: right;\">\n",
              "      <th></th>\n",
              "      <th>전용면적(㎡)</th>\n",
              "      <th>건축년도</th>\n",
              "      <th>거래유형</th>\n",
              "      <th>평당가</th>\n",
              "      <th>금리</th>\n",
              "    </tr>\n",
              "    <tr>\n",
              "      <th>날짜</th>\n",
              "      <th></th>\n",
              "      <th></th>\n",
              "      <th></th>\n",
              "      <th></th>\n",
              "      <th></th>\n",
              "    </tr>\n",
              "  </thead>\n",
              "  <tbody>\n",
              "    <tr>\n",
              "      <th>2023-01-04</th>\n",
              "      <td>84.9300</td>\n",
              "      <td>1997.0</td>\n",
              "      <td>0</td>\n",
              "      <td>971.388202</td>\n",
              "      <td>3.25</td>\n",
              "    </tr>\n",
              "    <tr>\n",
              "      <th>2023-01-05</th>\n",
              "      <td>84.9900</td>\n",
              "      <td>2005.0</td>\n",
              "      <td>0</td>\n",
              "      <td>1157.077303</td>\n",
              "      <td>3.25</td>\n",
              "    </tr>\n",
              "    <tr>\n",
              "      <th>2023-01-25</th>\n",
              "      <td>84.9900</td>\n",
              "      <td>2005.0</td>\n",
              "      <td>0</td>\n",
              "      <td>1106.600777</td>\n",
              "      <td>3.50</td>\n",
              "    </tr>\n",
              "    <tr>\n",
              "      <th>2023-01-04</th>\n",
              "      <td>59.8600</td>\n",
              "      <td>2002.0</td>\n",
              "      <td>1</td>\n",
              "      <td>1102.572670</td>\n",
              "      <td>3.25</td>\n",
              "    </tr>\n",
              "    <tr>\n",
              "      <th>2023-01-11</th>\n",
              "      <td>59.8400</td>\n",
              "      <td>2002.0</td>\n",
              "      <td>0</td>\n",
              "      <td>1378.676471</td>\n",
              "      <td>3.25</td>\n",
              "    </tr>\n",
              "    <tr>\n",
              "      <th>...</th>\n",
              "      <td>...</td>\n",
              "      <td>...</td>\n",
              "      <td>...</td>\n",
              "      <td>...</td>\n",
              "      <td>...</td>\n",
              "    </tr>\n",
              "    <tr>\n",
              "      <th>2023-02-16</th>\n",
              "      <td>84.9289</td>\n",
              "      <td>2007.0</td>\n",
              "      <td>0</td>\n",
              "      <td>893.688721</td>\n",
              "      <td>3.50</td>\n",
              "    </tr>\n",
              "    <tr>\n",
              "      <th>2023-02-21</th>\n",
              "      <td>84.9289</td>\n",
              "      <td>2007.0</td>\n",
              "      <td>0</td>\n",
              "      <td>893.688721</td>\n",
              "      <td>3.50</td>\n",
              "    </tr>\n",
              "    <tr>\n",
              "      <th>2023-02-02</th>\n",
              "      <td>84.6800</td>\n",
              "      <td>2002.0</td>\n",
              "      <td>0</td>\n",
              "      <td>810.581011</td>\n",
              "      <td>3.50</td>\n",
              "    </tr>\n",
              "    <tr>\n",
              "      <th>2023-02-02</th>\n",
              "      <td>84.9500</td>\n",
              "      <td>2019.0</td>\n",
              "      <td>0</td>\n",
              "      <td>1553.855209</td>\n",
              "      <td>3.50</td>\n",
              "    </tr>\n",
              "    <tr>\n",
              "      <th>2023-02-16</th>\n",
              "      <td>99.8000</td>\n",
              "      <td>2019.0</td>\n",
              "      <td>0</td>\n",
              "      <td>1620.240481</td>\n",
              "      <td>3.50</td>\n",
              "    </tr>\n",
              "  </tbody>\n",
              "</table>\n",
              "<p>52003 rows × 5 columns</p>\n",
              "</div>\n",
              "      <button class=\"colab-df-convert\" onclick=\"convertToInteractive('df-fc3a1fca-49b3-4edb-bb45-8ddeb6d34fe1')\"\n",
              "              title=\"Convert this dataframe to an interactive table.\"\n",
              "              style=\"display:none;\">\n",
              "        \n",
              "  <svg xmlns=\"http://www.w3.org/2000/svg\" height=\"24px\"viewBox=\"0 0 24 24\"\n",
              "       width=\"24px\">\n",
              "    <path d=\"M0 0h24v24H0V0z\" fill=\"none\"/>\n",
              "    <path d=\"M18.56 5.44l.94 2.06.94-2.06 2.06-.94-2.06-.94-.94-2.06-.94 2.06-2.06.94zm-11 1L8.5 8.5l.94-2.06 2.06-.94-2.06-.94L8.5 2.5l-.94 2.06-2.06.94zm10 10l.94 2.06.94-2.06 2.06-.94-2.06-.94-.94-2.06-.94 2.06-2.06.94z\"/><path d=\"M17.41 7.96l-1.37-1.37c-.4-.4-.92-.59-1.43-.59-.52 0-1.04.2-1.43.59L10.3 9.45l-7.72 7.72c-.78.78-.78 2.05 0 2.83L4 21.41c.39.39.9.59 1.41.59.51 0 1.02-.2 1.41-.59l7.78-7.78 2.81-2.81c.8-.78.8-2.07 0-2.86zM5.41 20L4 18.59l7.72-7.72 1.47 1.35L5.41 20z\"/>\n",
              "  </svg>\n",
              "      </button>\n",
              "      \n",
              "  <style>\n",
              "    .colab-df-container {\n",
              "      display:flex;\n",
              "      flex-wrap:wrap;\n",
              "      gap: 12px;\n",
              "    }\n",
              "\n",
              "    .colab-df-convert {\n",
              "      background-color: #E8F0FE;\n",
              "      border: none;\n",
              "      border-radius: 50%;\n",
              "      cursor: pointer;\n",
              "      display: none;\n",
              "      fill: #1967D2;\n",
              "      height: 32px;\n",
              "      padding: 0 0 0 0;\n",
              "      width: 32px;\n",
              "    }\n",
              "\n",
              "    .colab-df-convert:hover {\n",
              "      background-color: #E2EBFA;\n",
              "      box-shadow: 0px 1px 2px rgba(60, 64, 67, 0.3), 0px 1px 3px 1px rgba(60, 64, 67, 0.15);\n",
              "      fill: #174EA6;\n",
              "    }\n",
              "\n",
              "    [theme=dark] .colab-df-convert {\n",
              "      background-color: #3B4455;\n",
              "      fill: #D2E3FC;\n",
              "    }\n",
              "\n",
              "    [theme=dark] .colab-df-convert:hover {\n",
              "      background-color: #434B5C;\n",
              "      box-shadow: 0px 1px 3px 1px rgba(0, 0, 0, 0.15);\n",
              "      filter: drop-shadow(0px 1px 2px rgba(0, 0, 0, 0.3));\n",
              "      fill: #FFFFFF;\n",
              "    }\n",
              "  </style>\n",
              "\n",
              "      <script>\n",
              "        const buttonEl =\n",
              "          document.querySelector('#df-fc3a1fca-49b3-4edb-bb45-8ddeb6d34fe1 button.colab-df-convert');\n",
              "        buttonEl.style.display =\n",
              "          google.colab.kernel.accessAllowed ? 'block' : 'none';\n",
              "\n",
              "        async function convertToInteractive(key) {\n",
              "          const element = document.querySelector('#df-fc3a1fca-49b3-4edb-bb45-8ddeb6d34fe1');\n",
              "          const dataTable =\n",
              "            await google.colab.kernel.invokeFunction('convertToInteractive',\n",
              "                                                     [key], {});\n",
              "          if (!dataTable) return;\n",
              "\n",
              "          const docLinkHtml = 'Like what you see? Visit the ' +\n",
              "            '<a target=\"_blank\" href=https://colab.research.google.com/notebooks/data_table.ipynb>data table notebook</a>'\n",
              "            + ' to learn more about interactive tables.';\n",
              "          element.innerHTML = '';\n",
              "          dataTable['output_type'] = 'display_data';\n",
              "          await google.colab.output.renderOutput(dataTable, element);\n",
              "          const docLink = document.createElement('div');\n",
              "          docLink.innerHTML = docLinkHtml;\n",
              "          element.appendChild(docLink);\n",
              "        }\n",
              "      </script>\n",
              "    </div>\n",
              "  </div>\n",
              "  "
            ],
            "text/plain": [
              "            전용면적(㎡)    건축년도  거래유형          평당가    금리\n",
              "날짜                                                  \n",
              "2023-01-04  84.9300  1997.0     0   971.388202  3.25\n",
              "2023-01-05  84.9900  2005.0     0  1157.077303  3.25\n",
              "2023-01-25  84.9900  2005.0     0  1106.600777  3.50\n",
              "2023-01-04  59.8600  2002.0     1  1102.572670  3.25\n",
              "2023-01-11  59.8400  2002.0     0  1378.676471  3.25\n",
              "...             ...     ...   ...          ...   ...\n",
              "2023-02-16  84.9289  2007.0     0   893.688721  3.50\n",
              "2023-02-21  84.9289  2007.0     0   893.688721  3.50\n",
              "2023-02-02  84.6800  2002.0     0   810.581011  3.50\n",
              "2023-02-02  84.9500  2019.0     0  1553.855209  3.50\n",
              "2023-02-16  99.8000  2019.0     0  1620.240481  3.50\n",
              "\n",
              "[52003 rows x 5 columns]"
            ]
          },
          "execution_count": 293,
          "metadata": {},
          "output_type": "execute_result"
        }
      ],
      "source": [
        "df"
      ]
    },
    {
      "cell_type": "markdown",
      "metadata": {
        "id": "_dtebA3-MhEa"
      },
      "source": [
        "## 모델 테스트"
      ]
    },
    {
      "cell_type": "code",
      "execution_count": 307,
      "metadata": {
        "colab": {
          "base_uri": "https://localhost:8080/"
        },
        "id": "Eykl68rvXouz",
        "outputId": "d98ea645-d409-4437-9f34-38d29bd0eeaf"
      },
      "outputs": [
        {
          "data": {
            "text/plain": [
              "1285549.4072557003"
            ]
          },
          "execution_count": 307,
          "metadata": {},
          "output_type": "execute_result"
        }
      ],
      "source": [
        "X = df[['전용면적(㎡)', '건축년도', '거래유형', '금리']]\n",
        "# X = df.drop(\"거래금액(만원)\", axis=1)\n",
        "y = df[['평당가']]\n",
        "\n",
        "\n",
        "X_train, X_test, y_train, y_test = train_test_split(X, y, test_size=0.2, random_state=5)\n",
        "y_train = y_train.values.ravel()\n",
        "\n",
        "\n",
        "\n",
        "model = RandomForestRegressor(n_estimators=200, max_depth=6) # 랜덤 포레스트\n",
        "model.fit(X_train, y_train)\n",
        "predictions = model.predict(X_test)\n",
        "score = model.score(X_test, y_test)\n",
        "mean_squared_error(y_test, predictions)\n",
        "\n"
      ]
    },
    {
      "cell_type": "code",
      "execution_count": null,
      "metadata": {
        "id": "p5kMYZg0WvsZ"
      },
      "outputs": [],
      "source": [
        "# print(f\"최적의 파라미터 : {grid_search.best_params_}\") #그리드 서치 결과\n",
        "# print(f\"최고 성능 : {np.round(grid_search.best_score_ * 100, 2)}%\")"
      ]
    },
    {
      "cell_type": "code",
      "execution_count": 308,
      "metadata": {
        "colab": {
          "base_uri": "https://localhost:8080/"
        },
        "id": "aVyCufmuNXGE",
        "outputId": "4db2fe8d-e051-4976-d475-edb1a9eecfc3"
      },
      "outputs": [
        {
          "data": {
            "text/plain": [
              "1133.8207121303176"
            ]
          },
          "execution_count": 308,
          "metadata": {},
          "output_type": "execute_result"
        }
      ],
      "source": [
        "mean_squared_error(y_test, predictions) ** 0.5"
      ]
    },
    {
      "cell_type": "code",
      "execution_count": 309,
      "metadata": {
        "colab": {
          "base_uri": "https://localhost:8080/"
        },
        "id": "iMxz-jQUNjX8",
        "outputId": "b68f2c48-b5b3-4ec6-c48e-bcc59193f5ad"
      },
      "outputs": [
        {
          "data": {
            "text/plain": [
              "1133.8207121303176"
            ]
          },
          "execution_count": 309,
          "metadata": {},
          "output_type": "execute_result"
        }
      ],
      "source": [
        "mean_squared_error(y_test, predictions, squared=False)"
      ]
    },
    {
      "cell_type": "code",
      "execution_count": 310,
      "metadata": {
        "id": "XKcWVZoHczDX"
      },
      "outputs": [],
      "source": [
        "y_train_predict = model.predict(X_train)\n",
        "y_test_predict = model.predict(X_test)"
      ]
    },
    {
      "cell_type": "code",
      "execution_count": 311,
      "metadata": {
        "colab": {
          "base_uri": "https://localhost:8080/"
        },
        "id": "Q-T7pWkec0-X",
        "outputId": "af169e6d-51d3-49db-b74e-5091ef871d42"
      },
      "outputs": [
        {
          "name": "stdout",
          "output_type": "stream",
          "text": [
            "training set에서의 성능\n",
            "-----------------------\n",
            "1110.765747434115\n",
            "-----------------------\n",
            "test set에서의 성능\n",
            "-----------------------\n",
            "1133.8207121303176\n"
          ]
        }
      ],
      "source": [
        "mse = mean_squared_error(y_train, y_train_predict)\n",
        "print(\"training set에서의 성능\")\n",
        "print(\"-----------------------\")\n",
        "print(sqrt(mse))\n",
        "\n",
        "print(\"-----------------------\")\n",
        "mse = mean_squared_error(y_test, y_test_predict)\n",
        "print(\"test set에서의 성능\")\n",
        "print(\"-----------------------\")\n",
        "print(sqrt(mse))"
      ]
    },
    {
      "cell_type": "code",
      "execution_count": 312,
      "metadata": {
        "colab": {
          "base_uri": "https://localhost:8080/"
        },
        "id": "WhpSf7E_b7dJ",
        "outputId": "77c29db3-15ec-4944-cf0e-3f8a5521d77a"
      },
      "outputs": [
        {
          "data": {
            "text/plain": [
              "array([1445.22751582, 1424.0157509 , 1235.41832503, ..., 2695.66141274,\n",
              "       2004.32579067, 1853.67939594])"
            ]
          },
          "execution_count": 312,
          "metadata": {},
          "output_type": "execute_result"
        }
      ],
      "source": [
        "predictions"
      ]
    },
    {
      "cell_type": "code",
      "execution_count": 313,
      "metadata": {
        "id": "ZorejawM-5aF"
      },
      "outputs": [],
      "source": [
        "importances = model.feature_importances_"
      ]
    },
    {
      "cell_type": "code",
      "execution_count": null,
      "metadata": {
        "id": "hGCzPGUEDQ2n"
      },
      "outputs": [],
      "source": [
        "indices_sorted = np.argsort(importances)\n",
        "\n",
        "plt.figure()\n",
        "plt.title(\"Feature importances\")\n",
        "plt.bar(range(len(importances)), importances[indices_sorted])\n",
        "plt.xticks(range(len(importances)), X.columns[indices_sorted], rotation=90)\n",
        "plt.show()"
      ]
    },
    {
      "cell_type": "markdown",
      "metadata": {
        "id": "icqVlkxaYsI2"
      },
      "source": [
        "## 신규 데이터"
      ]
    },
    {
      "cell_type": "code",
      "execution_count": 316,
      "metadata": {
        "colab": {
          "base_uri": "https://localhost:8080/"
        },
        "id": "Pf9t72Z2YuUO",
        "outputId": "048f6a2f-410d-43fc-c524-89d55b25b803"
      },
      "outputs": [
        {
          "name": "stdout",
          "output_type": "stream",
          "text": [
            "평당가 : 1608.12만원\n"
          ]
        },
        {
          "name": "stderr",
          "output_type": "stream",
          "text": [
            "/usr/local/lib/python3.9/dist-packages/sklearn/base.py:439: UserWarning: X does not have valid feature names, but RandomForestRegressor was fitted with feature names\n",
            "  warnings.warn(\n"
          ]
        }
      ],
      "source": [
        "new_x = [[110.1, 1994.0, 0, 3.25]]\n",
        "new_df = pd.DataFrame(new_x, columns=['전용면적(㎡)', '건축년도', '거래유형', '금리'])\n",
        "new_df = pd.DataFrame(new_x)\n",
        "\n",
        "new_y = model.predict(new_df)\n",
        "print(\"평당가 : {:.2f}만원\".format(new_y[0]))\n"
      ]
    },
    {
      "cell_type": "markdown",
      "metadata": {
        "id": "77N-_fdAYp6e"
      },
      "source": [
        "## 배포"
      ]
    },
    {
      "cell_type": "code",
      "execution_count": 111,
      "metadata": {
        "id": "MfPupnnlBiK1"
      },
      "outputs": [],
      "source": [
        "!pip install mlxtend -q"
      ]
    },
    {
      "cell_type": "code",
      "execution_count": 263,
      "metadata": {
        "colab": {
          "base_uri": "https://localhost:8080/"
        },
        "id": "PnHlhOE2BsjU",
        "outputId": "49987ea1-3b83-484e-a202-ffe0fc0d64c0"
      },
      "outputs": [
        {
          "data": {
            "text/plain": [
              "['Randomforest.pkl']"
            ]
          },
          "execution_count": 263,
          "metadata": {},
          "output_type": "execute_result"
        }
      ],
      "source": [
        "import joblib # pkl 세이브파일을 만들어주는 라이브러리\n",
        "\n",
        "joblib.dump(model, 'Randomforest.pkl')"
      ]
    },
    {
      "cell_type": "code",
      "execution_count": 265,
      "metadata": {
        "colab": {
          "base_uri": "https://localhost:8080/",
          "height": 17
        },
        "id": "NbzcS7drBv6l",
        "outputId": "928e1a93-de89-451f-dc5c-93ec8ff8464f"
      },
      "outputs": [
        {
          "data": {
            "application/javascript": "\n    async function download(id, filename, size) {\n      if (!google.colab.kernel.accessAllowed) {\n        return;\n      }\n      const div = document.createElement('div');\n      const label = document.createElement('label');\n      label.textContent = `Downloading \"${filename}\": `;\n      div.appendChild(label);\n      const progress = document.createElement('progress');\n      progress.max = size;\n      div.appendChild(progress);\n      document.body.appendChild(div);\n\n      const buffers = [];\n      let downloaded = 0;\n\n      const channel = await google.colab.kernel.comms.open(id);\n      // Send a message to notify the kernel that we're ready.\n      channel.send({})\n\n      for await (const message of channel.messages) {\n        // Send a message to notify the kernel that we're ready.\n        channel.send({})\n        if (message.buffers) {\n          for (const buffer of message.buffers) {\n            buffers.push(buffer);\n            downloaded += buffer.byteLength;\n            progress.value = downloaded;\n          }\n        }\n      }\n      const blob = new Blob(buffers, {type: 'application/binary'});\n      const a = document.createElement('a');\n      a.href = window.URL.createObjectURL(blob);\n      a.download = filename;\n      div.appendChild(a);\n      a.click();\n      div.remove();\n    }\n  ",
            "text/plain": [
              "<IPython.core.display.Javascript object>"
            ]
          },
          "metadata": {},
          "output_type": "display_data"
        },
        {
          "data": {
            "application/javascript": "download(\"download_cbf0772b-5d3d-4aed-933f-4debcbdab158\", \"Randomforest.pkl\", 1639780)",
            "text/plain": [
              "<IPython.core.display.Javascript object>"
            ]
          },
          "metadata": {},
          "output_type": "display_data"
        }
      ],
      "source": [
        "from google.colab import files\n",
        "\n",
        "files.download('Randomforest.pkl') # 다운로드"
      ]
    },
    {
      "cell_type": "code",
      "execution_count": 114,
      "metadata": {
        "colab": {
          "base_uri": "https://localhost:8080/",
          "height": 74
        },
        "id": "EqpXKig8BzTH",
        "outputId": "c5d2a0da-b922-4ae6-ff96-0f6caeadfe0f"
      },
      "outputs": [
        {
          "data": {
            "text/html": [
              "<style>#sk-container-id-1 {color: black;background-color: white;}#sk-container-id-1 pre{padding: 0;}#sk-container-id-1 div.sk-toggleable {background-color: white;}#sk-container-id-1 label.sk-toggleable__label {cursor: pointer;display: block;width: 100%;margin-bottom: 0;padding: 0.3em;box-sizing: border-box;text-align: center;}#sk-container-id-1 label.sk-toggleable__label-arrow:before {content: \"▸\";float: left;margin-right: 0.25em;color: #696969;}#sk-container-id-1 label.sk-toggleable__label-arrow:hover:before {color: black;}#sk-container-id-1 div.sk-estimator:hover label.sk-toggleable__label-arrow:before {color: black;}#sk-container-id-1 div.sk-toggleable__content {max-height: 0;max-width: 0;overflow: hidden;text-align: left;background-color: #f0f8ff;}#sk-container-id-1 div.sk-toggleable__content pre {margin: 0.2em;color: black;border-radius: 0.25em;background-color: #f0f8ff;}#sk-container-id-1 input.sk-toggleable__control:checked~div.sk-toggleable__content {max-height: 200px;max-width: 100%;overflow: auto;}#sk-container-id-1 input.sk-toggleable__control:checked~label.sk-toggleable__label-arrow:before {content: \"▾\";}#sk-container-id-1 div.sk-estimator input.sk-toggleable__control:checked~label.sk-toggleable__label {background-color: #d4ebff;}#sk-container-id-1 div.sk-label input.sk-toggleable__control:checked~label.sk-toggleable__label {background-color: #d4ebff;}#sk-container-id-1 input.sk-hidden--visually {border: 0;clip: rect(1px 1px 1px 1px);clip: rect(1px, 1px, 1px, 1px);height: 1px;margin: -1px;overflow: hidden;padding: 0;position: absolute;width: 1px;}#sk-container-id-1 div.sk-estimator {font-family: monospace;background-color: #f0f8ff;border: 1px dotted black;border-radius: 0.25em;box-sizing: border-box;margin-bottom: 0.5em;}#sk-container-id-1 div.sk-estimator:hover {background-color: #d4ebff;}#sk-container-id-1 div.sk-parallel-item::after {content: \"\";width: 100%;border-bottom: 1px solid gray;flex-grow: 1;}#sk-container-id-1 div.sk-label:hover label.sk-toggleable__label {background-color: #d4ebff;}#sk-container-id-1 div.sk-serial::before {content: \"\";position: absolute;border-left: 1px solid gray;box-sizing: border-box;top: 0;bottom: 0;left: 50%;z-index: 0;}#sk-container-id-1 div.sk-serial {display: flex;flex-direction: column;align-items: center;background-color: white;padding-right: 0.2em;padding-left: 0.2em;position: relative;}#sk-container-id-1 div.sk-item {position: relative;z-index: 1;}#sk-container-id-1 div.sk-parallel {display: flex;align-items: stretch;justify-content: center;background-color: white;position: relative;}#sk-container-id-1 div.sk-item::before, #sk-container-id-1 div.sk-parallel-item::before {content: \"\";position: absolute;border-left: 1px solid gray;box-sizing: border-box;top: 0;bottom: 0;left: 50%;z-index: -1;}#sk-container-id-1 div.sk-parallel-item {display: flex;flex-direction: column;z-index: 1;position: relative;background-color: white;}#sk-container-id-1 div.sk-parallel-item:first-child::after {align-self: flex-end;width: 50%;}#sk-container-id-1 div.sk-parallel-item:last-child::after {align-self: flex-start;width: 50%;}#sk-container-id-1 div.sk-parallel-item:only-child::after {width: 0;}#sk-container-id-1 div.sk-dashed-wrapped {border: 1px dashed gray;margin: 0 0.4em 0.5em 0.4em;box-sizing: border-box;padding-bottom: 0.4em;background-color: white;}#sk-container-id-1 div.sk-label label {font-family: monospace;font-weight: bold;display: inline-block;line-height: 1.2em;}#sk-container-id-1 div.sk-label-container {text-align: center;}#sk-container-id-1 div.sk-container {/* jupyter's `normalize.less` sets `[hidden] { display: none; }` but bootstrap.min.css set `[hidden] { display: none !important; }` so we also need the `!important` here to be able to override the default hidden behavior on the sphinx rendered scikit-learn.org. See: https://github.com/scikit-learn/scikit-learn/issues/21755 */display: inline-block !important;position: relative;}#sk-container-id-1 div.sk-text-repr-fallback {display: none;}</style><div id=\"sk-container-id-1\" class=\"sk-top-container\"><div class=\"sk-text-repr-fallback\"><pre>RandomForestRegressor(max_depth=3, n_estimators=150)</pre><b>In a Jupyter environment, please rerun this cell to show the HTML representation or trust the notebook. <br />On GitHub, the HTML representation is unable to render, please try loading this page with nbviewer.org.</b></div><div class=\"sk-container\" hidden><div class=\"sk-item\"><div class=\"sk-estimator sk-toggleable\"><input class=\"sk-toggleable__control sk-hidden--visually\" id=\"sk-estimator-id-1\" type=\"checkbox\" checked><label for=\"sk-estimator-id-1\" class=\"sk-toggleable__label sk-toggleable__label-arrow\">RandomForestRegressor</label><div class=\"sk-toggleable__content\"><pre>RandomForestRegressor(max_depth=3, n_estimators=150)</pre></div></div></div></div></div>"
            ],
            "text/plain": [
              "RandomForestRegressor(max_depth=3, n_estimators=150)"
            ]
          },
          "execution_count": 114,
          "metadata": {},
          "output_type": "execute_result"
        }
      ],
      "source": [
        "model_from_joblib = joblib.load('/content/RandomForest.pkl')\n",
        "model_from_joblib"
      ]
    },
    {
      "cell_type": "code",
      "execution_count": 218,
      "metadata": {
        "colab": {
          "base_uri": "https://localhost:8080/"
        },
        "id": "yo0P6j3bB0z3",
        "outputId": "177933fa-9e68-475c-a9f5-97c8e07f903b"
      },
      "outputs": [
        {
          "name": "stdout",
          "output_type": "stream",
          "text": [
            "[23430.48579523]\n"
          ]
        },
        {
          "name": "stderr",
          "output_type": "stream",
          "text": [
            "/usr/local/lib/python3.9/dist-packages/sklearn/base.py:439: UserWarning: X does not have valid feature names, but RandomForestRegressor was fitted with feature names\n",
            "  warnings.warn(\n"
          ]
        }
      ],
      "source": [
        "import pandas as pd\n",
        "\n",
        "# 새로운 데이터\n",
        "new_x = [[90, 2022.0, 0, 900, 3.25]]\n",
        "new_df = pd.DataFrame(new_x, columns=['전용면적(㎡)', '건축년도', '거래유형', '금리'])\n",
        "# 전처리\n",
        "\n",
        "new_df = pd.DataFrame(new_x)\n",
        "\n",
        "# 모델 예측\n",
        "new_y = model.predict(new_df)\n",
        "print(new_y)"
      ]
    }
  ],
  "metadata": {
    "colab": {
      "authorship_tag": "ABX9TyPDzfena5REXVhohy2Pk+0X",
      "include_colab_link": true,
      "provenance": []
    },
    "kernelspec": {
      "display_name": "Python 3",
      "name": "python3"
    },
    "language_info": {
      "name": "python"
    }
  },
  "nbformat": 4,
  "nbformat_minor": 0
}
