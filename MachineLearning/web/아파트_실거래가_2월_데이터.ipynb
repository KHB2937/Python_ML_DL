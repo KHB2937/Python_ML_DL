{
  "nbformat": 4,
  "nbformat_minor": 0,
  "metadata": {
    "colab": {
      "provenance": [],
      "include_colab_link": true
    },
    "kernelspec": {
      "name": "python3",
      "display_name": "Python 3"
    },
    "language_info": {
      "name": "python"
    },
    "accelerator": "GPU",
    "gpuClass": "standard"
  },
  "cells": [
    {
      "cell_type": "markdown",
      "metadata": {
        "id": "view-in-github",
        "colab_type": "text"
      },
      "source": [
        "<a href=\"https://colab.research.google.com/github/jaiwon880/MachineLearning_jw/blob/main/web/%EC%95%84%ED%8C%8C%ED%8A%B8_%EC%8B%A4%EA%B1%B0%EB%9E%98%EA%B0%80_2%EC%9B%94_%EB%8D%B0%EC%9D%B4%ED%84%B0.ipynb\" target=\"_parent\"><img src=\"https://colab.research.google.com/assets/colab-badge.svg\" alt=\"Open In Colab\"/></a>"
      ]
    },
    {
      "cell_type": "markdown",
      "source": [
        "# 아파트 실거래가 예측"
      ],
      "metadata": {
        "id": "07IfQ4Px3USS"
      }
    },
    {
      "cell_type": "code",
      "source": [
        "# INPUT : 도/면적/계약년월/건축년도/유형\n",
        "# OUTPUT : 금액\n",
        "# EX) 서울 /50 / 2020 / 직거래 → 100억?\n",
        "# EX2) 경기도/ 30 / 1990/ 중개 → ???억\n",
        "\n",
        "# 시군구 전처리 - ex) 경기도 OO군 OO시 → 경기도 df[’’].split(’ ‘)[0]\n",
        "# 거래유형 전처리 - 중개 : 0 직 : 1\n",
        "# 피쳐엔지니어링 - ex) 면적당 금액?"
      ],
      "metadata": {
        "id": "PrbGK0kYOPmu"
      },
      "execution_count": 1,
      "outputs": []
    },
    {
      "cell_type": "code",
      "source": [
        "#@title 폰트 설정\n",
        "!sudo apt-get install -y fonts-nanum\n",
        "!sudo fc-cache -fv\n",
        "!rm ~/.cache/matplotlib -rf"
      ],
      "metadata": {
        "colab": {
          "base_uri": "https://localhost:8080/"
        },
        "id": "PhyiwsxW3TK8",
        "outputId": "4071fed7-8c57-48b8-ad08-2fb94f2248db"
      },
      "execution_count": null,
      "outputs": [
        {
          "output_type": "stream",
          "name": "stdout",
          "text": [
            "Reading package lists... Done\n",
            "Building dependency tree       \n",
            "Reading state information... Done\n",
            "fonts-nanum is already the newest version (20180306-3).\n",
            "0 upgraded, 0 newly installed, 0 to remove and 23 not upgraded.\n",
            "/usr/share/fonts: caching, new cache contents: 0 fonts, 1 dirs\n",
            "/usr/share/fonts/truetype: caching, new cache contents: 0 fonts, 3 dirs\n",
            "/usr/share/fonts/truetype/humor-sans: caching, new cache contents: 1 fonts, 0 dirs\n",
            "/usr/share/fonts/truetype/liberation: caching, new cache contents: 16 fonts, 0 dirs\n",
            "/usr/share/fonts/truetype/nanum: caching, new cache contents: 10 fonts, 0 dirs\n",
            "/usr/local/share/fonts: caching, new cache contents: 0 fonts, 0 dirs\n",
            "/root/.local/share/fonts: skipping, no such directory\n",
            "/root/.fonts: skipping, no such directory\n",
            "/usr/share/fonts/truetype: skipping, looped directory detected\n",
            "/usr/share/fonts/truetype/humor-sans: skipping, looped directory detected\n",
            "/usr/share/fonts/truetype/liberation: skipping, looped directory detected\n",
            "/usr/share/fonts/truetype/nanum: skipping, looped directory detected\n",
            "/var/cache/fontconfig: cleaning cache directory\n",
            "/root/.cache/fontconfig: not cleaning non-existent cache directory\n",
            "/root/.fontconfig: not cleaning non-existent cache directory\n",
            "fc-cache: succeeded\n"
          ]
        }
      ]
    },
    {
      "cell_type": "code",
      "source": [
        "import pandas as pd\n",
        "import numpy as np\n",
        "from sklearn.model_selection import train_test_split\n",
        "import matplotlib.pyplot as plt\n",
        "import xgboost as xgb"
      ],
      "metadata": {
        "id": "S_2aW-Z63i-L"
      },
      "execution_count": 2,
      "outputs": []
    },
    {
      "cell_type": "code",
      "source": [
        "plt.rc('font', family='NanumBarunGothic') "
      ],
      "metadata": {
        "id": "GTgVx6xq3eWR"
      },
      "execution_count": 3,
      "outputs": []
    },
    {
      "cell_type": "code",
      "source": [
        "#@title 시군구 - 전용면적, 계약년월, 거래 금액, 건축년도, 거래유형\n",
        "df_apt2 = pd.read_csv('https://github.com/jaiwon880/ML_Projiect/raw/main/Data/%EC%95%84%ED%8C%8C%ED%8A%B8_%EB%A7%A4%EB%A7%A4__%EC%8B%A4%EA%B1%B0%EB%9E%98%EA%B0%80_20230321134120_2%EC%9B%94.csv')\n",
        "df_apt2"
      ],
      "metadata": {
        "id": "HWkIn6N6KCb0",
        "outputId": "e24d8d70-094b-4020-bc62-6bdbaa1a7242",
        "colab": {
          "base_uri": "https://localhost:8080/",
          "height": 424
        }
      },
      "execution_count": 16,
      "outputs": [
        {
          "output_type": "execute_result",
          "data": {
            "text/plain": [
              "                시군구   전용면적(㎡)    계약년월  계약일        거래금액(만원)    건축년도  거래유형\n",
              "0       강원도 강릉시 견소동   84.9450  202302    7          25,500  1997.0  중개거래\n",
              "1       강원도 강릉시 견소동   84.9450  202302   23          16,000  1997.0   직거래\n",
              "2       강원도 강릉시 견소동   84.9450  202302   23          23,000  1997.0   직거래\n",
              "3       강원도 강릉시 견소동   84.9900  202302   11          29,000  2005.0  중개거래\n",
              "4        강원도 강릉시 교동  164.0098  202302   18          59,500  2009.0  중개거래\n",
              "...             ...       ...     ...  ...             ...     ...   ...\n",
              "32006  충청북도 충주시 호암동   84.9289  202302   16          23,000  2007.0  중개거래\n",
              "32007  충청북도 충주시 호암동   84.9289  202302   21          23,000  2007.0  중개거래\n",
              "32008  충청북도 충주시 호암동   84.6800  202302    2          20,800  2002.0  중개거래\n",
              "32009  충청북도 충주시 호암동   84.9500  202302    2          40,000  2019.0  중개거래\n",
              "32010  충청북도 충주시 호암동   99.8000  202302   16          49,000  2019.0  중개거래\n",
              "\n",
              "[32011 rows x 7 columns]"
            ],
            "text/html": [
              "\n",
              "  <div id=\"df-560a1d26-82db-4431-9c04-f8a07289869e\">\n",
              "    <div class=\"colab-df-container\">\n",
              "      <div>\n",
              "<style scoped>\n",
              "    .dataframe tbody tr th:only-of-type {\n",
              "        vertical-align: middle;\n",
              "    }\n",
              "\n",
              "    .dataframe tbody tr th {\n",
              "        vertical-align: top;\n",
              "    }\n",
              "\n",
              "    .dataframe thead th {\n",
              "        text-align: right;\n",
              "    }\n",
              "</style>\n",
              "<table border=\"1\" class=\"dataframe\">\n",
              "  <thead>\n",
              "    <tr style=\"text-align: right;\">\n",
              "      <th></th>\n",
              "      <th>시군구</th>\n",
              "      <th>전용면적(㎡)</th>\n",
              "      <th>계약년월</th>\n",
              "      <th>계약일</th>\n",
              "      <th>거래금액(만원)</th>\n",
              "      <th>건축년도</th>\n",
              "      <th>거래유형</th>\n",
              "    </tr>\n",
              "  </thead>\n",
              "  <tbody>\n",
              "    <tr>\n",
              "      <th>0</th>\n",
              "      <td>강원도 강릉시 견소동</td>\n",
              "      <td>84.9450</td>\n",
              "      <td>202302</td>\n",
              "      <td>7</td>\n",
              "      <td>25,500</td>\n",
              "      <td>1997.0</td>\n",
              "      <td>중개거래</td>\n",
              "    </tr>\n",
              "    <tr>\n",
              "      <th>1</th>\n",
              "      <td>강원도 강릉시 견소동</td>\n",
              "      <td>84.9450</td>\n",
              "      <td>202302</td>\n",
              "      <td>23</td>\n",
              "      <td>16,000</td>\n",
              "      <td>1997.0</td>\n",
              "      <td>직거래</td>\n",
              "    </tr>\n",
              "    <tr>\n",
              "      <th>2</th>\n",
              "      <td>강원도 강릉시 견소동</td>\n",
              "      <td>84.9450</td>\n",
              "      <td>202302</td>\n",
              "      <td>23</td>\n",
              "      <td>23,000</td>\n",
              "      <td>1997.0</td>\n",
              "      <td>직거래</td>\n",
              "    </tr>\n",
              "    <tr>\n",
              "      <th>3</th>\n",
              "      <td>강원도 강릉시 견소동</td>\n",
              "      <td>84.9900</td>\n",
              "      <td>202302</td>\n",
              "      <td>11</td>\n",
              "      <td>29,000</td>\n",
              "      <td>2005.0</td>\n",
              "      <td>중개거래</td>\n",
              "    </tr>\n",
              "    <tr>\n",
              "      <th>4</th>\n",
              "      <td>강원도 강릉시 교동</td>\n",
              "      <td>164.0098</td>\n",
              "      <td>202302</td>\n",
              "      <td>18</td>\n",
              "      <td>59,500</td>\n",
              "      <td>2009.0</td>\n",
              "      <td>중개거래</td>\n",
              "    </tr>\n",
              "    <tr>\n",
              "      <th>...</th>\n",
              "      <td>...</td>\n",
              "      <td>...</td>\n",
              "      <td>...</td>\n",
              "      <td>...</td>\n",
              "      <td>...</td>\n",
              "      <td>...</td>\n",
              "      <td>...</td>\n",
              "    </tr>\n",
              "    <tr>\n",
              "      <th>32006</th>\n",
              "      <td>충청북도 충주시 호암동</td>\n",
              "      <td>84.9289</td>\n",
              "      <td>202302</td>\n",
              "      <td>16</td>\n",
              "      <td>23,000</td>\n",
              "      <td>2007.0</td>\n",
              "      <td>중개거래</td>\n",
              "    </tr>\n",
              "    <tr>\n",
              "      <th>32007</th>\n",
              "      <td>충청북도 충주시 호암동</td>\n",
              "      <td>84.9289</td>\n",
              "      <td>202302</td>\n",
              "      <td>21</td>\n",
              "      <td>23,000</td>\n",
              "      <td>2007.0</td>\n",
              "      <td>중개거래</td>\n",
              "    </tr>\n",
              "    <tr>\n",
              "      <th>32008</th>\n",
              "      <td>충청북도 충주시 호암동</td>\n",
              "      <td>84.6800</td>\n",
              "      <td>202302</td>\n",
              "      <td>2</td>\n",
              "      <td>20,800</td>\n",
              "      <td>2002.0</td>\n",
              "      <td>중개거래</td>\n",
              "    </tr>\n",
              "    <tr>\n",
              "      <th>32009</th>\n",
              "      <td>충청북도 충주시 호암동</td>\n",
              "      <td>84.9500</td>\n",
              "      <td>202302</td>\n",
              "      <td>2</td>\n",
              "      <td>40,000</td>\n",
              "      <td>2019.0</td>\n",
              "      <td>중개거래</td>\n",
              "    </tr>\n",
              "    <tr>\n",
              "      <th>32010</th>\n",
              "      <td>충청북도 충주시 호암동</td>\n",
              "      <td>99.8000</td>\n",
              "      <td>202302</td>\n",
              "      <td>16</td>\n",
              "      <td>49,000</td>\n",
              "      <td>2019.0</td>\n",
              "      <td>중개거래</td>\n",
              "    </tr>\n",
              "  </tbody>\n",
              "</table>\n",
              "<p>32011 rows × 7 columns</p>\n",
              "</div>\n",
              "      <button class=\"colab-df-convert\" onclick=\"convertToInteractive('df-560a1d26-82db-4431-9c04-f8a07289869e')\"\n",
              "              title=\"Convert this dataframe to an interactive table.\"\n",
              "              style=\"display:none;\">\n",
              "        \n",
              "  <svg xmlns=\"http://www.w3.org/2000/svg\" height=\"24px\"viewBox=\"0 0 24 24\"\n",
              "       width=\"24px\">\n",
              "    <path d=\"M0 0h24v24H0V0z\" fill=\"none\"/>\n",
              "    <path d=\"M18.56 5.44l.94 2.06.94-2.06 2.06-.94-2.06-.94-.94-2.06-.94 2.06-2.06.94zm-11 1L8.5 8.5l.94-2.06 2.06-.94-2.06-.94L8.5 2.5l-.94 2.06-2.06.94zm10 10l.94 2.06.94-2.06 2.06-.94-2.06-.94-.94-2.06-.94 2.06-2.06.94z\"/><path d=\"M17.41 7.96l-1.37-1.37c-.4-.4-.92-.59-1.43-.59-.52 0-1.04.2-1.43.59L10.3 9.45l-7.72 7.72c-.78.78-.78 2.05 0 2.83L4 21.41c.39.39.9.59 1.41.59.51 0 1.02-.2 1.41-.59l7.78-7.78 2.81-2.81c.8-.78.8-2.07 0-2.86zM5.41 20L4 18.59l7.72-7.72 1.47 1.35L5.41 20z\"/>\n",
              "  </svg>\n",
              "      </button>\n",
              "      \n",
              "  <style>\n",
              "    .colab-df-container {\n",
              "      display:flex;\n",
              "      flex-wrap:wrap;\n",
              "      gap: 12px;\n",
              "    }\n",
              "\n",
              "    .colab-df-convert {\n",
              "      background-color: #E8F0FE;\n",
              "      border: none;\n",
              "      border-radius: 50%;\n",
              "      cursor: pointer;\n",
              "      display: none;\n",
              "      fill: #1967D2;\n",
              "      height: 32px;\n",
              "      padding: 0 0 0 0;\n",
              "      width: 32px;\n",
              "    }\n",
              "\n",
              "    .colab-df-convert:hover {\n",
              "      background-color: #E2EBFA;\n",
              "      box-shadow: 0px 1px 2px rgba(60, 64, 67, 0.3), 0px 1px 3px 1px rgba(60, 64, 67, 0.15);\n",
              "      fill: #174EA6;\n",
              "    }\n",
              "\n",
              "    [theme=dark] .colab-df-convert {\n",
              "      background-color: #3B4455;\n",
              "      fill: #D2E3FC;\n",
              "    }\n",
              "\n",
              "    [theme=dark] .colab-df-convert:hover {\n",
              "      background-color: #434B5C;\n",
              "      box-shadow: 0px 1px 3px 1px rgba(0, 0, 0, 0.15);\n",
              "      filter: drop-shadow(0px 1px 2px rgba(0, 0, 0, 0.3));\n",
              "      fill: #FFFFFF;\n",
              "    }\n",
              "  </style>\n",
              "\n",
              "      <script>\n",
              "        const buttonEl =\n",
              "          document.querySelector('#df-560a1d26-82db-4431-9c04-f8a07289869e button.colab-df-convert');\n",
              "        buttonEl.style.display =\n",
              "          google.colab.kernel.accessAllowed ? 'block' : 'none';\n",
              "\n",
              "        async function convertToInteractive(key) {\n",
              "          const element = document.querySelector('#df-560a1d26-82db-4431-9c04-f8a07289869e');\n",
              "          const dataTable =\n",
              "            await google.colab.kernel.invokeFunction('convertToInteractive',\n",
              "                                                     [key], {});\n",
              "          if (!dataTable) return;\n",
              "\n",
              "          const docLinkHtml = 'Like what you see? Visit the ' +\n",
              "            '<a target=\"_blank\" href=https://colab.research.google.com/notebooks/data_table.ipynb>data table notebook</a>'\n",
              "            + ' to learn more about interactive tables.';\n",
              "          element.innerHTML = '';\n",
              "          dataTable['output_type'] = 'display_data';\n",
              "          await google.colab.output.renderOutput(dataTable, element);\n",
              "          const docLink = document.createElement('div');\n",
              "          docLink.innerHTML = docLinkHtml;\n",
              "          element.appendChild(docLink);\n",
              "        }\n",
              "      </script>\n",
              "    </div>\n",
              "  </div>\n",
              "  "
            ]
          },
          "metadata": {},
          "execution_count": 16
        }
      ]
    },
    {
      "cell_type": "code",
      "source": [
        "df_apt2.info()"
      ],
      "metadata": {
        "colab": {
          "base_uri": "https://localhost:8080/"
        },
        "id": "Y0A-J17Fs2Tb",
        "outputId": "21606bf2-2d31-4db1-cab6-f60312393b40"
      },
      "execution_count": 6,
      "outputs": [
        {
          "output_type": "stream",
          "name": "stdout",
          "text": [
            "<class 'pandas.core.frame.DataFrame'>\n",
            "RangeIndex: 32011 entries, 0 to 32010\n",
            "Data columns (total 7 columns):\n",
            " #   Column    Non-Null Count  Dtype  \n",
            "---  ------    --------------  -----  \n",
            " 0   시군구       32011 non-null  object \n",
            " 1   전용면적(㎡)   32011 non-null  float64\n",
            " 2   계약년월      32011 non-null  int64  \n",
            " 3   계약일       32011 non-null  int64  \n",
            " 4   거래금액(만원)  32011 non-null  object \n",
            " 5   건축년도      32005 non-null  float64\n",
            " 6   거래유형      32011 non-null  object \n",
            "dtypes: float64(2), int64(2), object(3)\n",
            "memory usage: 1.7+ MB\n"
          ]
        }
      ]
    },
    {
      "cell_type": "code",
      "source": [
        "df_apt2['거래금액(만원)'].str.strip().replace(' ','')\n",
        "df_apt2"
      ],
      "metadata": {
        "colab": {
          "base_uri": "https://localhost:8080/",
          "height": 424
        },
        "id": "P9giKfQvdtYM",
        "outputId": "9ced2a3c-7f4c-4f74-abd8-62526705277e"
      },
      "execution_count": 17,
      "outputs": [
        {
          "output_type": "execute_result",
          "data": {
            "text/plain": [
              "                시군구   전용면적(㎡)    계약년월  계약일        거래금액(만원)    건축년도  거래유형\n",
              "0       강원도 강릉시 견소동   84.9450  202302    7          25,500  1997.0  중개거래\n",
              "1       강원도 강릉시 견소동   84.9450  202302   23          16,000  1997.0   직거래\n",
              "2       강원도 강릉시 견소동   84.9450  202302   23          23,000  1997.0   직거래\n",
              "3       강원도 강릉시 견소동   84.9900  202302   11          29,000  2005.0  중개거래\n",
              "4        강원도 강릉시 교동  164.0098  202302   18          59,500  2009.0  중개거래\n",
              "...             ...       ...     ...  ...             ...     ...   ...\n",
              "32006  충청북도 충주시 호암동   84.9289  202302   16          23,000  2007.0  중개거래\n",
              "32007  충청북도 충주시 호암동   84.9289  202302   21          23,000  2007.0  중개거래\n",
              "32008  충청북도 충주시 호암동   84.6800  202302    2          20,800  2002.0  중개거래\n",
              "32009  충청북도 충주시 호암동   84.9500  202302    2          40,000  2019.0  중개거래\n",
              "32010  충청북도 충주시 호암동   99.8000  202302   16          49,000  2019.0  중개거래\n",
              "\n",
              "[32011 rows x 7 columns]"
            ],
            "text/html": [
              "\n",
              "  <div id=\"df-a6687fe0-577e-4ee5-864a-d11c39ea9f8b\">\n",
              "    <div class=\"colab-df-container\">\n",
              "      <div>\n",
              "<style scoped>\n",
              "    .dataframe tbody tr th:only-of-type {\n",
              "        vertical-align: middle;\n",
              "    }\n",
              "\n",
              "    .dataframe tbody tr th {\n",
              "        vertical-align: top;\n",
              "    }\n",
              "\n",
              "    .dataframe thead th {\n",
              "        text-align: right;\n",
              "    }\n",
              "</style>\n",
              "<table border=\"1\" class=\"dataframe\">\n",
              "  <thead>\n",
              "    <tr style=\"text-align: right;\">\n",
              "      <th></th>\n",
              "      <th>시군구</th>\n",
              "      <th>전용면적(㎡)</th>\n",
              "      <th>계약년월</th>\n",
              "      <th>계약일</th>\n",
              "      <th>거래금액(만원)</th>\n",
              "      <th>건축년도</th>\n",
              "      <th>거래유형</th>\n",
              "    </tr>\n",
              "  </thead>\n",
              "  <tbody>\n",
              "    <tr>\n",
              "      <th>0</th>\n",
              "      <td>강원도 강릉시 견소동</td>\n",
              "      <td>84.9450</td>\n",
              "      <td>202302</td>\n",
              "      <td>7</td>\n",
              "      <td>25,500</td>\n",
              "      <td>1997.0</td>\n",
              "      <td>중개거래</td>\n",
              "    </tr>\n",
              "    <tr>\n",
              "      <th>1</th>\n",
              "      <td>강원도 강릉시 견소동</td>\n",
              "      <td>84.9450</td>\n",
              "      <td>202302</td>\n",
              "      <td>23</td>\n",
              "      <td>16,000</td>\n",
              "      <td>1997.0</td>\n",
              "      <td>직거래</td>\n",
              "    </tr>\n",
              "    <tr>\n",
              "      <th>2</th>\n",
              "      <td>강원도 강릉시 견소동</td>\n",
              "      <td>84.9450</td>\n",
              "      <td>202302</td>\n",
              "      <td>23</td>\n",
              "      <td>23,000</td>\n",
              "      <td>1997.0</td>\n",
              "      <td>직거래</td>\n",
              "    </tr>\n",
              "    <tr>\n",
              "      <th>3</th>\n",
              "      <td>강원도 강릉시 견소동</td>\n",
              "      <td>84.9900</td>\n",
              "      <td>202302</td>\n",
              "      <td>11</td>\n",
              "      <td>29,000</td>\n",
              "      <td>2005.0</td>\n",
              "      <td>중개거래</td>\n",
              "    </tr>\n",
              "    <tr>\n",
              "      <th>4</th>\n",
              "      <td>강원도 강릉시 교동</td>\n",
              "      <td>164.0098</td>\n",
              "      <td>202302</td>\n",
              "      <td>18</td>\n",
              "      <td>59,500</td>\n",
              "      <td>2009.0</td>\n",
              "      <td>중개거래</td>\n",
              "    </tr>\n",
              "    <tr>\n",
              "      <th>...</th>\n",
              "      <td>...</td>\n",
              "      <td>...</td>\n",
              "      <td>...</td>\n",
              "      <td>...</td>\n",
              "      <td>...</td>\n",
              "      <td>...</td>\n",
              "      <td>...</td>\n",
              "    </tr>\n",
              "    <tr>\n",
              "      <th>32006</th>\n",
              "      <td>충청북도 충주시 호암동</td>\n",
              "      <td>84.9289</td>\n",
              "      <td>202302</td>\n",
              "      <td>16</td>\n",
              "      <td>23,000</td>\n",
              "      <td>2007.0</td>\n",
              "      <td>중개거래</td>\n",
              "    </tr>\n",
              "    <tr>\n",
              "      <th>32007</th>\n",
              "      <td>충청북도 충주시 호암동</td>\n",
              "      <td>84.9289</td>\n",
              "      <td>202302</td>\n",
              "      <td>21</td>\n",
              "      <td>23,000</td>\n",
              "      <td>2007.0</td>\n",
              "      <td>중개거래</td>\n",
              "    </tr>\n",
              "    <tr>\n",
              "      <th>32008</th>\n",
              "      <td>충청북도 충주시 호암동</td>\n",
              "      <td>84.6800</td>\n",
              "      <td>202302</td>\n",
              "      <td>2</td>\n",
              "      <td>20,800</td>\n",
              "      <td>2002.0</td>\n",
              "      <td>중개거래</td>\n",
              "    </tr>\n",
              "    <tr>\n",
              "      <th>32009</th>\n",
              "      <td>충청북도 충주시 호암동</td>\n",
              "      <td>84.9500</td>\n",
              "      <td>202302</td>\n",
              "      <td>2</td>\n",
              "      <td>40,000</td>\n",
              "      <td>2019.0</td>\n",
              "      <td>중개거래</td>\n",
              "    </tr>\n",
              "    <tr>\n",
              "      <th>32010</th>\n",
              "      <td>충청북도 충주시 호암동</td>\n",
              "      <td>99.8000</td>\n",
              "      <td>202302</td>\n",
              "      <td>16</td>\n",
              "      <td>49,000</td>\n",
              "      <td>2019.0</td>\n",
              "      <td>중개거래</td>\n",
              "    </tr>\n",
              "  </tbody>\n",
              "</table>\n",
              "<p>32011 rows × 7 columns</p>\n",
              "</div>\n",
              "      <button class=\"colab-df-convert\" onclick=\"convertToInteractive('df-a6687fe0-577e-4ee5-864a-d11c39ea9f8b')\"\n",
              "              title=\"Convert this dataframe to an interactive table.\"\n",
              "              style=\"display:none;\">\n",
              "        \n",
              "  <svg xmlns=\"http://www.w3.org/2000/svg\" height=\"24px\"viewBox=\"0 0 24 24\"\n",
              "       width=\"24px\">\n",
              "    <path d=\"M0 0h24v24H0V0z\" fill=\"none\"/>\n",
              "    <path d=\"M18.56 5.44l.94 2.06.94-2.06 2.06-.94-2.06-.94-.94-2.06-.94 2.06-2.06.94zm-11 1L8.5 8.5l.94-2.06 2.06-.94-2.06-.94L8.5 2.5l-.94 2.06-2.06.94zm10 10l.94 2.06.94-2.06 2.06-.94-2.06-.94-.94-2.06-.94 2.06-2.06.94z\"/><path d=\"M17.41 7.96l-1.37-1.37c-.4-.4-.92-.59-1.43-.59-.52 0-1.04.2-1.43.59L10.3 9.45l-7.72 7.72c-.78.78-.78 2.05 0 2.83L4 21.41c.39.39.9.59 1.41.59.51 0 1.02-.2 1.41-.59l7.78-7.78 2.81-2.81c.8-.78.8-2.07 0-2.86zM5.41 20L4 18.59l7.72-7.72 1.47 1.35L5.41 20z\"/>\n",
              "  </svg>\n",
              "      </button>\n",
              "      \n",
              "  <style>\n",
              "    .colab-df-container {\n",
              "      display:flex;\n",
              "      flex-wrap:wrap;\n",
              "      gap: 12px;\n",
              "    }\n",
              "\n",
              "    .colab-df-convert {\n",
              "      background-color: #E8F0FE;\n",
              "      border: none;\n",
              "      border-radius: 50%;\n",
              "      cursor: pointer;\n",
              "      display: none;\n",
              "      fill: #1967D2;\n",
              "      height: 32px;\n",
              "      padding: 0 0 0 0;\n",
              "      width: 32px;\n",
              "    }\n",
              "\n",
              "    .colab-df-convert:hover {\n",
              "      background-color: #E2EBFA;\n",
              "      box-shadow: 0px 1px 2px rgba(60, 64, 67, 0.3), 0px 1px 3px 1px rgba(60, 64, 67, 0.15);\n",
              "      fill: #174EA6;\n",
              "    }\n",
              "\n",
              "    [theme=dark] .colab-df-convert {\n",
              "      background-color: #3B4455;\n",
              "      fill: #D2E3FC;\n",
              "    }\n",
              "\n",
              "    [theme=dark] .colab-df-convert:hover {\n",
              "      background-color: #434B5C;\n",
              "      box-shadow: 0px 1px 3px 1px rgba(0, 0, 0, 0.15);\n",
              "      filter: drop-shadow(0px 1px 2px rgba(0, 0, 0, 0.3));\n",
              "      fill: #FFFFFF;\n",
              "    }\n",
              "  </style>\n",
              "\n",
              "      <script>\n",
              "        const buttonEl =\n",
              "          document.querySelector('#df-a6687fe0-577e-4ee5-864a-d11c39ea9f8b button.colab-df-convert');\n",
              "        buttonEl.style.display =\n",
              "          google.colab.kernel.accessAllowed ? 'block' : 'none';\n",
              "\n",
              "        async function convertToInteractive(key) {\n",
              "          const element = document.querySelector('#df-a6687fe0-577e-4ee5-864a-d11c39ea9f8b');\n",
              "          const dataTable =\n",
              "            await google.colab.kernel.invokeFunction('convertToInteractive',\n",
              "                                                     [key], {});\n",
              "          if (!dataTable) return;\n",
              "\n",
              "          const docLinkHtml = 'Like what you see? Visit the ' +\n",
              "            '<a target=\"_blank\" href=https://colab.research.google.com/notebooks/data_table.ipynb>data table notebook</a>'\n",
              "            + ' to learn more about interactive tables.';\n",
              "          element.innerHTML = '';\n",
              "          dataTable['output_type'] = 'display_data';\n",
              "          await google.colab.output.renderOutput(dataTable, element);\n",
              "          const docLink = document.createElement('div');\n",
              "          docLink.innerHTML = docLinkHtml;\n",
              "          element.appendChild(docLink);\n",
              "        }\n",
              "      </script>\n",
              "    </div>\n",
              "  </div>\n",
              "  "
            ]
          },
          "metadata": {},
          "execution_count": 17
        }
      ]
    },
    {
      "cell_type": "code",
      "source": [
        "df_apt2.describe(include='all') # 54억 ^_^... 700마넌"
      ],
      "metadata": {
        "id": "tADQlcmqC6eQ"
      },
      "execution_count": null,
      "outputs": []
    },
    {
      "cell_type": "code",
      "source": [
        "df_apt2['거래금액(만원)'].str.strip().replace(' ','')\n",
        "df_apt2"
      ],
      "metadata": {
        "colab": {
          "base_uri": "https://localhost:8080/",
          "height": 424
        },
        "id": "AogoVd24tUdl",
        "outputId": "d44f1028-674f-4931-b5aa-c91350794405"
      },
      "execution_count": 18,
      "outputs": [
        {
          "output_type": "execute_result",
          "data": {
            "text/plain": [
              "                시군구   전용면적(㎡)    계약년월  계약일        거래금액(만원)    건축년도  거래유형\n",
              "0       강원도 강릉시 견소동   84.9450  202302    7          25,500  1997.0  중개거래\n",
              "1       강원도 강릉시 견소동   84.9450  202302   23          16,000  1997.0   직거래\n",
              "2       강원도 강릉시 견소동   84.9450  202302   23          23,000  1997.0   직거래\n",
              "3       강원도 강릉시 견소동   84.9900  202302   11          29,000  2005.0  중개거래\n",
              "4        강원도 강릉시 교동  164.0098  202302   18          59,500  2009.0  중개거래\n",
              "...             ...       ...     ...  ...             ...     ...   ...\n",
              "32006  충청북도 충주시 호암동   84.9289  202302   16          23,000  2007.0  중개거래\n",
              "32007  충청북도 충주시 호암동   84.9289  202302   21          23,000  2007.0  중개거래\n",
              "32008  충청북도 충주시 호암동   84.6800  202302    2          20,800  2002.0  중개거래\n",
              "32009  충청북도 충주시 호암동   84.9500  202302    2          40,000  2019.0  중개거래\n",
              "32010  충청북도 충주시 호암동   99.8000  202302   16          49,000  2019.0  중개거래\n",
              "\n",
              "[32011 rows x 7 columns]"
            ],
            "text/html": [
              "\n",
              "  <div id=\"df-4d801293-1e5a-45e3-b2c2-8b923282dbfb\">\n",
              "    <div class=\"colab-df-container\">\n",
              "      <div>\n",
              "<style scoped>\n",
              "    .dataframe tbody tr th:only-of-type {\n",
              "        vertical-align: middle;\n",
              "    }\n",
              "\n",
              "    .dataframe tbody tr th {\n",
              "        vertical-align: top;\n",
              "    }\n",
              "\n",
              "    .dataframe thead th {\n",
              "        text-align: right;\n",
              "    }\n",
              "</style>\n",
              "<table border=\"1\" class=\"dataframe\">\n",
              "  <thead>\n",
              "    <tr style=\"text-align: right;\">\n",
              "      <th></th>\n",
              "      <th>시군구</th>\n",
              "      <th>전용면적(㎡)</th>\n",
              "      <th>계약년월</th>\n",
              "      <th>계약일</th>\n",
              "      <th>거래금액(만원)</th>\n",
              "      <th>건축년도</th>\n",
              "      <th>거래유형</th>\n",
              "    </tr>\n",
              "  </thead>\n",
              "  <tbody>\n",
              "    <tr>\n",
              "      <th>0</th>\n",
              "      <td>강원도 강릉시 견소동</td>\n",
              "      <td>84.9450</td>\n",
              "      <td>202302</td>\n",
              "      <td>7</td>\n",
              "      <td>25,500</td>\n",
              "      <td>1997.0</td>\n",
              "      <td>중개거래</td>\n",
              "    </tr>\n",
              "    <tr>\n",
              "      <th>1</th>\n",
              "      <td>강원도 강릉시 견소동</td>\n",
              "      <td>84.9450</td>\n",
              "      <td>202302</td>\n",
              "      <td>23</td>\n",
              "      <td>16,000</td>\n",
              "      <td>1997.0</td>\n",
              "      <td>직거래</td>\n",
              "    </tr>\n",
              "    <tr>\n",
              "      <th>2</th>\n",
              "      <td>강원도 강릉시 견소동</td>\n",
              "      <td>84.9450</td>\n",
              "      <td>202302</td>\n",
              "      <td>23</td>\n",
              "      <td>23,000</td>\n",
              "      <td>1997.0</td>\n",
              "      <td>직거래</td>\n",
              "    </tr>\n",
              "    <tr>\n",
              "      <th>3</th>\n",
              "      <td>강원도 강릉시 견소동</td>\n",
              "      <td>84.9900</td>\n",
              "      <td>202302</td>\n",
              "      <td>11</td>\n",
              "      <td>29,000</td>\n",
              "      <td>2005.0</td>\n",
              "      <td>중개거래</td>\n",
              "    </tr>\n",
              "    <tr>\n",
              "      <th>4</th>\n",
              "      <td>강원도 강릉시 교동</td>\n",
              "      <td>164.0098</td>\n",
              "      <td>202302</td>\n",
              "      <td>18</td>\n",
              "      <td>59,500</td>\n",
              "      <td>2009.0</td>\n",
              "      <td>중개거래</td>\n",
              "    </tr>\n",
              "    <tr>\n",
              "      <th>...</th>\n",
              "      <td>...</td>\n",
              "      <td>...</td>\n",
              "      <td>...</td>\n",
              "      <td>...</td>\n",
              "      <td>...</td>\n",
              "      <td>...</td>\n",
              "      <td>...</td>\n",
              "    </tr>\n",
              "    <tr>\n",
              "      <th>32006</th>\n",
              "      <td>충청북도 충주시 호암동</td>\n",
              "      <td>84.9289</td>\n",
              "      <td>202302</td>\n",
              "      <td>16</td>\n",
              "      <td>23,000</td>\n",
              "      <td>2007.0</td>\n",
              "      <td>중개거래</td>\n",
              "    </tr>\n",
              "    <tr>\n",
              "      <th>32007</th>\n",
              "      <td>충청북도 충주시 호암동</td>\n",
              "      <td>84.9289</td>\n",
              "      <td>202302</td>\n",
              "      <td>21</td>\n",
              "      <td>23,000</td>\n",
              "      <td>2007.0</td>\n",
              "      <td>중개거래</td>\n",
              "    </tr>\n",
              "    <tr>\n",
              "      <th>32008</th>\n",
              "      <td>충청북도 충주시 호암동</td>\n",
              "      <td>84.6800</td>\n",
              "      <td>202302</td>\n",
              "      <td>2</td>\n",
              "      <td>20,800</td>\n",
              "      <td>2002.0</td>\n",
              "      <td>중개거래</td>\n",
              "    </tr>\n",
              "    <tr>\n",
              "      <th>32009</th>\n",
              "      <td>충청북도 충주시 호암동</td>\n",
              "      <td>84.9500</td>\n",
              "      <td>202302</td>\n",
              "      <td>2</td>\n",
              "      <td>40,000</td>\n",
              "      <td>2019.0</td>\n",
              "      <td>중개거래</td>\n",
              "    </tr>\n",
              "    <tr>\n",
              "      <th>32010</th>\n",
              "      <td>충청북도 충주시 호암동</td>\n",
              "      <td>99.8000</td>\n",
              "      <td>202302</td>\n",
              "      <td>16</td>\n",
              "      <td>49,000</td>\n",
              "      <td>2019.0</td>\n",
              "      <td>중개거래</td>\n",
              "    </tr>\n",
              "  </tbody>\n",
              "</table>\n",
              "<p>32011 rows × 7 columns</p>\n",
              "</div>\n",
              "      <button class=\"colab-df-convert\" onclick=\"convertToInteractive('df-4d801293-1e5a-45e3-b2c2-8b923282dbfb')\"\n",
              "              title=\"Convert this dataframe to an interactive table.\"\n",
              "              style=\"display:none;\">\n",
              "        \n",
              "  <svg xmlns=\"http://www.w3.org/2000/svg\" height=\"24px\"viewBox=\"0 0 24 24\"\n",
              "       width=\"24px\">\n",
              "    <path d=\"M0 0h24v24H0V0z\" fill=\"none\"/>\n",
              "    <path d=\"M18.56 5.44l.94 2.06.94-2.06 2.06-.94-2.06-.94-.94-2.06-.94 2.06-2.06.94zm-11 1L8.5 8.5l.94-2.06 2.06-.94-2.06-.94L8.5 2.5l-.94 2.06-2.06.94zm10 10l.94 2.06.94-2.06 2.06-.94-2.06-.94-.94-2.06-.94 2.06-2.06.94z\"/><path d=\"M17.41 7.96l-1.37-1.37c-.4-.4-.92-.59-1.43-.59-.52 0-1.04.2-1.43.59L10.3 9.45l-7.72 7.72c-.78.78-.78 2.05 0 2.83L4 21.41c.39.39.9.59 1.41.59.51 0 1.02-.2 1.41-.59l7.78-7.78 2.81-2.81c.8-.78.8-2.07 0-2.86zM5.41 20L4 18.59l7.72-7.72 1.47 1.35L5.41 20z\"/>\n",
              "  </svg>\n",
              "      </button>\n",
              "      \n",
              "  <style>\n",
              "    .colab-df-container {\n",
              "      display:flex;\n",
              "      flex-wrap:wrap;\n",
              "      gap: 12px;\n",
              "    }\n",
              "\n",
              "    .colab-df-convert {\n",
              "      background-color: #E8F0FE;\n",
              "      border: none;\n",
              "      border-radius: 50%;\n",
              "      cursor: pointer;\n",
              "      display: none;\n",
              "      fill: #1967D2;\n",
              "      height: 32px;\n",
              "      padding: 0 0 0 0;\n",
              "      width: 32px;\n",
              "    }\n",
              "\n",
              "    .colab-df-convert:hover {\n",
              "      background-color: #E2EBFA;\n",
              "      box-shadow: 0px 1px 2px rgba(60, 64, 67, 0.3), 0px 1px 3px 1px rgba(60, 64, 67, 0.15);\n",
              "      fill: #174EA6;\n",
              "    }\n",
              "\n",
              "    [theme=dark] .colab-df-convert {\n",
              "      background-color: #3B4455;\n",
              "      fill: #D2E3FC;\n",
              "    }\n",
              "\n",
              "    [theme=dark] .colab-df-convert:hover {\n",
              "      background-color: #434B5C;\n",
              "      box-shadow: 0px 1px 3px 1px rgba(0, 0, 0, 0.15);\n",
              "      filter: drop-shadow(0px 1px 2px rgba(0, 0, 0, 0.3));\n",
              "      fill: #FFFFFF;\n",
              "    }\n",
              "  </style>\n",
              "\n",
              "      <script>\n",
              "        const buttonEl =\n",
              "          document.querySelector('#df-4d801293-1e5a-45e3-b2c2-8b923282dbfb button.colab-df-convert');\n",
              "        buttonEl.style.display =\n",
              "          google.colab.kernel.accessAllowed ? 'block' : 'none';\n",
              "\n",
              "        async function convertToInteractive(key) {\n",
              "          const element = document.querySelector('#df-4d801293-1e5a-45e3-b2c2-8b923282dbfb');\n",
              "          const dataTable =\n",
              "            await google.colab.kernel.invokeFunction('convertToInteractive',\n",
              "                                                     [key], {});\n",
              "          if (!dataTable) return;\n",
              "\n",
              "          const docLinkHtml = 'Like what you see? Visit the ' +\n",
              "            '<a target=\"_blank\" href=https://colab.research.google.com/notebooks/data_table.ipynb>data table notebook</a>'\n",
              "            + ' to learn more about interactive tables.';\n",
              "          element.innerHTML = '';\n",
              "          dataTable['output_type'] = 'display_data';\n",
              "          await google.colab.output.renderOutput(dataTable, element);\n",
              "          const docLink = document.createElement('div');\n",
              "          docLink.innerHTML = docLinkHtml;\n",
              "          element.appendChild(docLink);\n",
              "        }\n",
              "      </script>\n",
              "    </div>\n",
              "  </div>\n",
              "  "
            ]
          },
          "metadata": {},
          "execution_count": 18
        }
      ]
    },
    {
      "cell_type": "code",
      "source": [
        "#@title 평당가 금액\n",
        "df_apt2[\"거래금액(만원)\"] = df_apt2[\"거래금액(만원)\"].str.replace(\",\", \"\").astype(int) # 거래금액 컬럼의 쉼표를 제거하고 정수형으로 변환\n",
        "df_apt2[\"평당가\"] = (df_apt2[\"거래금액(만원)\"] / df_apt2[\"전용면적(㎡)\"]) * 3.3 # 평당가 계산하여 새로운 컬럼 추가\n",
        "df_apt2[\"평당가\"]"
      ],
      "metadata": {
        "colab": {
          "base_uri": "https://localhost:8080/"
        },
        "id": "_-ilnkEv3Do7",
        "outputId": "3a1e0168-f582-409f-c7f6-d734173b7c50"
      },
      "execution_count": 19,
      "outputs": [
        {
          "output_type": "execute_result",
          "data": {
            "text/plain": [
              "0         990.641003\n",
              "1         621.578669\n",
              "2         893.519336\n",
              "3        1126.014825\n",
              "4        1197.184558\n",
              "            ...     \n",
              "32006     893.688721\n",
              "32007     893.688721\n",
              "32008     810.581011\n",
              "32009    1553.855209\n",
              "32010    1620.240481\n",
              "Name: 평당가, Length: 32011, dtype: float64"
            ]
          },
          "metadata": {},
          "execution_count": 19
        }
      ]
    },
    {
      "cell_type": "code",
      "source": [
        "df_apt2 = df_apt2.drop('시군구', axis=1)\n",
        "df_apt2['거래유형'] = df_apt2['거래유형'].replace({'중개거래': 0, '직거래': 1})"
      ],
      "metadata": {
        "id": "_enxr4lkACVQ"
      },
      "execution_count": 20,
      "outputs": []
    },
    {
      "cell_type": "code",
      "source": [
        "#@title 결측치 건축년도 4개 삭제 \n",
        "df_apt2.isna().sum()\n",
        "df_apt2.dropna(inplace=True)"
      ],
      "metadata": {
        "id": "H-ONGrShOVTs"
      },
      "execution_count": 22,
      "outputs": []
    },
    {
      "cell_type": "code",
      "source": [
        "df_apt2.isna().sum()"
      ],
      "metadata": {
        "id": "nRQIbDgUQAJl",
        "colab": {
          "base_uri": "https://localhost:8080/"
        },
        "outputId": "3814a848-c183-40a4-f30a-6c8bcba0b6f6"
      },
      "execution_count": 21,
      "outputs": [
        {
          "output_type": "execute_result",
          "data": {
            "text/plain": [
              "전용면적(㎡)     0\n",
              "계약년월        0\n",
              "계약일         0\n",
              "거래금액(만원)    0\n",
              "건축년도        6\n",
              "거래유형        0\n",
              "평당가         0\n",
              "dtype: int64"
            ]
          },
          "metadata": {},
          "execution_count": 21
        }
      ]
    },
    {
      "cell_type": "code",
      "source": [
        "df_apt2['금리'] = df_apt2.apply(lambda x: 3.25 if ((x['계약년월']== 202301) & (x['계약일'] < 13)) else 3.5, axis=1)"
      ],
      "metadata": {
        "id": "NCrkJ7DWVx39"
      },
      "execution_count": 23,
      "outputs": []
    },
    {
      "cell_type": "code",
      "source": [
        "#@title 훈련셋 테스트셋 나누기\n",
        "\n",
        "X = df_apt2.drop(\"거래금액(만원)\", axis=1)\n",
        "y = df_apt2[['거래금액(만원)']]\n",
        "\n",
        "\n",
        "X_train, X_test, y_train, y_test = train_test_split(X, y,\n",
        "                                                    test_size=0.2, random_state=100)\n",
        "\n",
        "print(X_train.shape, X_test.shape, y_train.shape, y_test.shape)"
      ],
      "metadata": {
        "colab": {
          "base_uri": "https://localhost:8080/"
        },
        "id": "IxB7W9APFA_M",
        "outputId": "b0558a2e-9bb3-4658-8fb2-245b5d974333"
      },
      "execution_count": 24,
      "outputs": [
        {
          "output_type": "stream",
          "name": "stdout",
          "text": [
            "(25604, 7) (6401, 7) (25604, 1) (6401, 1)\n"
          ]
        }
      ]
    },
    {
      "cell_type": "code",
      "source": [
        "#@title  선형회귀?\n",
        "\n",
        "from sklearn.linear_model import LinearRegression\n",
        "lr = LinearRegression()\n",
        "lr.fit(X_train, y_train)"
      ],
      "metadata": {
        "colab": {
          "base_uri": "https://localhost:8080/",
          "height": 75
        },
        "id": "oTivGVGgFgcG",
        "outputId": "070e6621-2368-4f18-9d7b-9c3ac30648d7"
      },
      "execution_count": 25,
      "outputs": [
        {
          "output_type": "execute_result",
          "data": {
            "text/plain": [
              "LinearRegression()"
            ],
            "text/html": [
              "<style>#sk-container-id-1 {color: black;background-color: white;}#sk-container-id-1 pre{padding: 0;}#sk-container-id-1 div.sk-toggleable {background-color: white;}#sk-container-id-1 label.sk-toggleable__label {cursor: pointer;display: block;width: 100%;margin-bottom: 0;padding: 0.3em;box-sizing: border-box;text-align: center;}#sk-container-id-1 label.sk-toggleable__label-arrow:before {content: \"▸\";float: left;margin-right: 0.25em;color: #696969;}#sk-container-id-1 label.sk-toggleable__label-arrow:hover:before {color: black;}#sk-container-id-1 div.sk-estimator:hover label.sk-toggleable__label-arrow:before {color: black;}#sk-container-id-1 div.sk-toggleable__content {max-height: 0;max-width: 0;overflow: hidden;text-align: left;background-color: #f0f8ff;}#sk-container-id-1 div.sk-toggleable__content pre {margin: 0.2em;color: black;border-radius: 0.25em;background-color: #f0f8ff;}#sk-container-id-1 input.sk-toggleable__control:checked~div.sk-toggleable__content {max-height: 200px;max-width: 100%;overflow: auto;}#sk-container-id-1 input.sk-toggleable__control:checked~label.sk-toggleable__label-arrow:before {content: \"▾\";}#sk-container-id-1 div.sk-estimator input.sk-toggleable__control:checked~label.sk-toggleable__label {background-color: #d4ebff;}#sk-container-id-1 div.sk-label input.sk-toggleable__control:checked~label.sk-toggleable__label {background-color: #d4ebff;}#sk-container-id-1 input.sk-hidden--visually {border: 0;clip: rect(1px 1px 1px 1px);clip: rect(1px, 1px, 1px, 1px);height: 1px;margin: -1px;overflow: hidden;padding: 0;position: absolute;width: 1px;}#sk-container-id-1 div.sk-estimator {font-family: monospace;background-color: #f0f8ff;border: 1px dotted black;border-radius: 0.25em;box-sizing: border-box;margin-bottom: 0.5em;}#sk-container-id-1 div.sk-estimator:hover {background-color: #d4ebff;}#sk-container-id-1 div.sk-parallel-item::after {content: \"\";width: 100%;border-bottom: 1px solid gray;flex-grow: 1;}#sk-container-id-1 div.sk-label:hover label.sk-toggleable__label {background-color: #d4ebff;}#sk-container-id-1 div.sk-serial::before {content: \"\";position: absolute;border-left: 1px solid gray;box-sizing: border-box;top: 0;bottom: 0;left: 50%;z-index: 0;}#sk-container-id-1 div.sk-serial {display: flex;flex-direction: column;align-items: center;background-color: white;padding-right: 0.2em;padding-left: 0.2em;position: relative;}#sk-container-id-1 div.sk-item {position: relative;z-index: 1;}#sk-container-id-1 div.sk-parallel {display: flex;align-items: stretch;justify-content: center;background-color: white;position: relative;}#sk-container-id-1 div.sk-item::before, #sk-container-id-1 div.sk-parallel-item::before {content: \"\";position: absolute;border-left: 1px solid gray;box-sizing: border-box;top: 0;bottom: 0;left: 50%;z-index: -1;}#sk-container-id-1 div.sk-parallel-item {display: flex;flex-direction: column;z-index: 1;position: relative;background-color: white;}#sk-container-id-1 div.sk-parallel-item:first-child::after {align-self: flex-end;width: 50%;}#sk-container-id-1 div.sk-parallel-item:last-child::after {align-self: flex-start;width: 50%;}#sk-container-id-1 div.sk-parallel-item:only-child::after {width: 0;}#sk-container-id-1 div.sk-dashed-wrapped {border: 1px dashed gray;margin: 0 0.4em 0.5em 0.4em;box-sizing: border-box;padding-bottom: 0.4em;background-color: white;}#sk-container-id-1 div.sk-label label {font-family: monospace;font-weight: bold;display: inline-block;line-height: 1.2em;}#sk-container-id-1 div.sk-label-container {text-align: center;}#sk-container-id-1 div.sk-container {/* jupyter's `normalize.less` sets `[hidden] { display: none; }` but bootstrap.min.css set `[hidden] { display: none !important; }` so we also need the `!important` here to be able to override the default hidden behavior on the sphinx rendered scikit-learn.org. See: https://github.com/scikit-learn/scikit-learn/issues/21755 */display: inline-block !important;position: relative;}#sk-container-id-1 div.sk-text-repr-fallback {display: none;}</style><div id=\"sk-container-id-1\" class=\"sk-top-container\"><div class=\"sk-text-repr-fallback\"><pre>LinearRegression()</pre><b>In a Jupyter environment, please rerun this cell to show the HTML representation or trust the notebook. <br />On GitHub, the HTML representation is unable to render, please try loading this page with nbviewer.org.</b></div><div class=\"sk-container\" hidden><div class=\"sk-item\"><div class=\"sk-estimator sk-toggleable\"><input class=\"sk-toggleable__control sk-hidden--visually\" id=\"sk-estimator-id-1\" type=\"checkbox\" checked><label for=\"sk-estimator-id-1\" class=\"sk-toggleable__label sk-toggleable__label-arrow\">LinearRegression</label><div class=\"sk-toggleable__content\"><pre>LinearRegression()</pre></div></div></div></div></div>"
            ]
          },
          "metadata": {},
          "execution_count": 25
        }
      ]
    },
    {
      "cell_type": "code",
      "source": [
        "from sklearn.metrics import mean_squared_error"
      ],
      "metadata": {
        "id": "mGn0UdO2QkHP"
      },
      "execution_count": 26,
      "outputs": []
    },
    {
      "cell_type": "code",
      "source": [
        "def rmse_error(y, y_pred):\n",
        "  rmse = mean_squared_error(y, y_pred) ** 0.5\n",
        "  return rmse\n",
        "\n",
        "print(rmse_error(lr.predict(X_train),y_train))\n",
        "print(rmse_error(lr.predict(X_test),y_test))"
      ],
      "metadata": {
        "colab": {
          "base_uri": "https://localhost:8080/"
        },
        "id": "GOwbGlSoQsEE",
        "outputId": "db8edace-794c-4a05-b7bf-3b82b108ff69"
      },
      "execution_count": 27,
      "outputs": [
        {
          "output_type": "stream",
          "name": "stdout",
          "text": [
            "9696.938413015156\n",
            "8671.654516716419\n"
          ]
        }
      ]
    },
    {
      "cell_type": "code",
      "source": [
        "# import requests\n",
        "# from bs4 import BeautifulSoup\n",
        "\n",
        "# # 크롤링할 페이지 URL\n",
        "# url = \"https://www.google.com/search?q=2022%EB%85%84%2C+2023%EB%85%84+%EA%B8%B0%EC%A4%80%EA%B8%88%EB%A6%AC&oq=2022%EB%85%84%2C+2023%EB%85%84+%EA%B8%B0%EC%A4%80%EA%B8%88%EB%A6%AC&aqs=chrome..69i57j0i512l4j0i30j0i8i30l4.6905j1j7&sourceid=chrome&ie=UTF-8\"\n",
        "\n",
        "# # requests 라이브러리를 사용하여 HTML 코드 가져오기\n",
        "# response = requests.get(url)\n",
        "# html = response.text\n",
        "\n",
        "# # BeautifulSoup 라이브러리를 사용하여 HTML 파싱\n",
        "# soup = BeautifulSoup(html, \"html.parser\")\n",
        "\n",
        "# # 최신 데이터 출력하기\n",
        "# table = soup.find_all(\"table\", {\"class\": \"ztXv9\"})\n",
        "\n",
        "# for tr in table[0].find_all(\"tr\"):\n",
        "#     td_list = tr.find_all(\"td\")\n",
        "#     if len(td_list) == 5:\n",
        "#         print(td_list[0].text.strip(), td_list[2].text.strip())"
      ],
      "metadata": {
        "id": "nJbP-WYoDSRe"
      },
      "execution_count": null,
      "outputs": []
    },
    {
      "cell_type": "code",
      "source": [
        "#@title get_dummies 쓰면. . . 이따구로 나와요 화가 나\n",
        "# df_apt1_2 = pd.get_dummies(df_apt1, columns=df_apt1.describe(include='O').columns)\n",
        "# df_apt1_2"
      ],
      "metadata": {
        "id": "Cb3z2L4lwVnh"
      },
      "execution_count": null,
      "outputs": []
    },
    {
      "cell_type": "code",
      "source": [
        "# X_train, X_test, y_train, y_test = train_test_split(X,y, test_size=0.2, random_state=100)"
      ],
      "metadata": {
        "id": "8ia1ky_ZxCPD"
      },
      "execution_count": null,
      "outputs": []
    }
  ]
}