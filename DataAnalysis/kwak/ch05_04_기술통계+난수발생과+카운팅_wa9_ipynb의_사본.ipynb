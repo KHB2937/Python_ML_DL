{
  "nbformat": 4,
  "nbformat_minor": 0,
  "metadata": {
    "colab": {
      "provenance": [],
      "include_colab_link": true
    },
    "kernelspec": {
      "name": "python3",
      "display_name": "Python 3"
    },
    "language_info": {
      "name": "python"
    }
  },
  "cells": [
    {
      "cell_type": "markdown",
      "metadata": {
        "id": "view-in-github",
        "colab_type": "text"
      },
      "source": [
        "<a href=\"https://colab.research.google.com/github/KHB2937/DataAnalysis/blob/main/kwak/ch05_04_%EA%B8%B0%EC%88%A0%ED%86%B5%EA%B3%84%2B%EB%82%9C%EC%88%98%EB%B0%9C%EC%83%9D%EA%B3%BC%2B%EC%B9%B4%EC%9A%B4%ED%8C%85_wa9_ipynb%EC%9D%98_%EC%82%AC%EB%B3%B8.ipynb\" target=\"_parent\"><img src=\"https://colab.research.google.com/assets/colab-badge.svg\" alt=\"Open In Colab\"/></a>"
      ]
    },
    {
      "cell_type": "markdown",
      "source": [
        "# 기술 통계"
      ],
      "metadata": {
        "id": "tqxkhX-JFimj"
      }
    },
    {
      "cell_type": "markdown",
      "source": [
        "## 기술 통계(descriptive statistics)\n",
        "> 데이터 집합에 대해 통계를 계산\n",
        "* 데이터의 개수(count)\n",
        "* 평균(mean, average)\n",
        "* 분산(variance)\n",
        "* 표준 편차(standard deviation)\n",
        "* 최댓값(maximum)\n",
        "* 최솟값(minimum)\n",
        "* 중앙값(median)\n",
        "* 사분위수(quartile)"
      ],
      "metadata": {
        "id": "gchQwkseFsUX"
      }
    },
    {
      "cell_type": "code",
      "source": [
        "import numpy as np"
      ],
      "metadata": {
        "id": "jttHEMK4F9XX"
      },
      "execution_count": 17,
      "outputs": []
    },
    {
      "cell_type": "code",
      "source": [
        "x = np.array([\n",
        "    18, 5, 10, 23, 19, -8, 10, 0, 0, 5, 2, 15, 8,\n",
        "    2, 5, 4, 15, -1, 4, -7, -24, 7, 9, -6, 23, -13\n",
        "])\n",
        "x"
      ],
      "metadata": {
        "colab": {
          "base_uri": "https://localhost:8080/"
        },
        "id": "TJpLQBYUVHNL",
        "outputId": "a4853f2b-649e-433c-b044-0b3e8a25ef99"
      },
      "execution_count": 2,
      "outputs": [
        {
          "output_type": "execute_result",
          "data": {
            "text/plain": [
              "array([ 18,   5,  10,  23,  19,  -8,  10,   0,   0,   5,   2,  15,   8,\n",
              "         2,   5,   4,  15,  -1,   4,  -7, -24,   7,   9,  -6,  23, -13])"
            ]
          },
          "metadata": {},
          "execution_count": 2
        }
      ]
    },
    {
      "cell_type": "markdown",
      "source": [
        "## 데이터의 개수"
      ],
      "metadata": {
        "id": "5bzioyHoF557"
      }
    },
    {
      "cell_type": "code",
      "source": [
        "len(x)"
      ],
      "metadata": {
        "colab": {
          "base_uri": "https://localhost:8080/"
        },
        "id": "wlTrzCbKFl4j",
        "outputId": "461f0825-335f-48a2-edf1-6b57373ec038"
      },
      "execution_count": 3,
      "outputs": [
        {
          "output_type": "execute_result",
          "data": {
            "text/plain": [
              "26"
            ]
          },
          "metadata": {},
          "execution_count": 3
        }
      ]
    },
    {
      "cell_type": "markdown",
      "source": [
        "## 표본 평균\n",
        "* 우리가 일반적으로 아는 평균\n",
        "* 통계용어로는 표본 평균(sample average, sample mean)\n",
        "<br>\n",
        "$\n",
        "\\bar{x} = \\frac{1}{N}\\displaystyle\\sum_{i=1}^{N}{x_i}\n",
        "$\n",
        "(𝑁은 데이터의 개수)"
      ],
      "metadata": {
        "id": "3xe5u1nkGBgM"
      }
    },
    {
      "cell_type": "code",
      "source": [
        "np.mean(x), x.mean()"
      ],
      "metadata": {
        "colab": {
          "base_uri": "https://localhost:8080/"
        },
        "id": "SiQn6qJlF_Y_",
        "outputId": "7e69f33e-5696-48ea-e888-96cf76ac439e"
      },
      "execution_count": 4,
      "outputs": [
        {
          "output_type": "execute_result",
          "data": {
            "text/plain": [
              "(4.8076923076923075, 4.8076923076923075)"
            ]
          },
          "metadata": {},
          "execution_count": 4
        }
      ]
    },
    {
      "cell_type": "markdown",
      "source": [
        "## 표본 분산\n",
        "* 표본 분산(sample variance) : 데이터와 표본 평균간의 거리의 제곱의 평균\n",
        "* 표본 분산이 작으면 데이터가 모여있는 것이고 크면 흩어져 있는 것\n",
        "<br>\n",
        "$\n",
        "s^2 = \\frac{1}{N}\\displaystyle\\sum_{i=1}^{N}{(x_i-\\bar{x})^2}\n",
        "$"
      ],
      "metadata": {
        "id": "sMmBl-uLHWwF"
      }
    },
    {
      "cell_type": "code",
      "source": [
        "np.var(x)"
      ],
      "metadata": {
        "colab": {
          "base_uri": "https://localhost:8080/"
        },
        "id": "ukbJg498HWZG",
        "outputId": "029625a8-0cef-49c5-830c-ec98893d7183"
      },
      "execution_count": 5,
      "outputs": [
        {
          "output_type": "execute_result",
          "data": {
            "text/plain": [
              "115.23224852071006"
            ]
          },
          "metadata": {},
          "execution_count": 5
        }
      ]
    },
    {
      "cell_type": "markdown",
      "source": [
        "## 표본 표준편차\n",
        "* 표본 표준편차(sample standard variance) : 표본 분산의 양의 제곱근 값 \n",
        "<br>\n",
        "$\n",
        "s = \\sqrt{s^2}\n",
        "$"
      ],
      "metadata": {
        "id": "ox3H6KB8H4Hd"
      }
    },
    {
      "cell_type": "code",
      "source": [
        "np.std(x)"
      ],
      "metadata": {
        "colab": {
          "base_uri": "https://localhost:8080/"
        },
        "id": "ESjtI9K9HP8g",
        "outputId": "922a1fdd-bbd9-4266-b723-d1695c7595de"
      },
      "execution_count": 6,
      "outputs": [
        {
          "output_type": "execute_result",
          "data": {
            "text/plain": [
              "10.734628476137871"
            ]
          },
          "metadata": {},
          "execution_count": 6
        }
      ]
    },
    {
      "cell_type": "markdown",
      "source": [
        "## 최댓값과 최솟값"
      ],
      "metadata": {
        "id": "68MH4LSRINEC"
      }
    },
    {
      "cell_type": "code",
      "source": [
        "# 최댓값 (maximum) / 최솟값 (minimum)\n",
        "np.max(x), np.min(x)"
      ],
      "metadata": {
        "colab": {
          "base_uri": "https://localhost:8080/"
        },
        "id": "E-KkdiALIPvE",
        "outputId": "6db1a72a-81f3-4df1-8df1-16fbbd288f4d"
      },
      "execution_count": 7,
      "outputs": [
        {
          "output_type": "execute_result",
          "data": {
            "text/plain": [
              "(23, -24)"
            ]
          },
          "metadata": {},
          "execution_count": 7
        }
      ]
    },
    {
      "cell_type": "markdown",
      "source": [
        "## 중앙값\n",
        "* 중앙값(median) : 데이터를 크기대로 정렬하였을 때 가장 가운데에 있는 수\n",
        "* 만약 데이터의 수가 짝수이면 가장 가운데에 있는 두 수의 평균을 사용\n"
      ],
      "metadata": {
        "id": "vGgHFClPIWQV"
      }
    },
    {
      "cell_type": "code",
      "source": [
        "np.median(x)"
      ],
      "metadata": {
        "colab": {
          "base_uri": "https://localhost:8080/"
        },
        "id": "LS2P0zPnIUvN",
        "outputId": "fb24cd6d-755b-4c89-9f9d-2fa419cfc246"
      },
      "execution_count": 9,
      "outputs": [
        {
          "output_type": "execute_result",
          "data": {
            "text/plain": [
              "5.0"
            ]
          },
          "metadata": {},
          "execution_count": 9
        }
      ]
    },
    {
      "cell_type": "markdown",
      "source": [
        "## 사분위수\n",
        "* 사분위수(quartile) : 데이터를 가장 작은 수부터 가장 큰 수까지 크기가 커지는 순서대로 정렬하였을 때 1/4, 2/4, 3/4 위치에 있는 수\n",
        "* 각각 1사분위수, 2사분위수, 3사분위수라고 함\n",
        "* 1/4의 위치란 전체 데이터의 수가 만약 100개이면 25번째 순서, 즉 하위 25%\n",
        "* 따라서 2사분위수는 중앙값과 같음\n",
        "* 때로는 위치를 1/100 단위로 나눈 백분위수(percentile)을 사용하기도 함\n",
        "* 1사분위수는 25% 백분위수와 같음\n"
      ],
      "metadata": {
        "id": "b1pLnirSIfsI"
      }
    },
    {
      "cell_type": "code",
      "source": [
        "np.percentile(x, 0) #최솟값 "
      ],
      "metadata": {
        "colab": {
          "base_uri": "https://localhost:8080/"
        },
        "id": "EHTZ62T8Ici8",
        "outputId": "0c213f6b-fadd-4fab-e248-3f61ec974790"
      },
      "execution_count": 10,
      "outputs": [
        {
          "output_type": "execute_result",
          "data": {
            "text/plain": [
              "-24.0"
            ]
          },
          "metadata": {},
          "execution_count": 10
        }
      ]
    },
    {
      "cell_type": "code",
      "source": [
        "np.percentile(x, 25)"
      ],
      "metadata": {
        "colab": {
          "base_uri": "https://localhost:8080/"
        },
        "id": "h8tVnPH6Ixcv",
        "outputId": "bd806dcb-d6ff-4247-86af-376305d13493"
      },
      "execution_count": 11,
      "outputs": [
        {
          "output_type": "execute_result",
          "data": {
            "text/plain": [
              "0.0"
            ]
          },
          "metadata": {},
          "execution_count": 11
        }
      ]
    },
    {
      "cell_type": "code",
      "source": [
        "np.percentile(x, 50)"
      ],
      "metadata": {
        "colab": {
          "base_uri": "https://localhost:8080/"
        },
        "id": "PuT1HTElIza1",
        "outputId": "514fbfb5-7c38-400a-e186-12737bd8989e"
      },
      "execution_count": 12,
      "outputs": [
        {
          "output_type": "execute_result",
          "data": {
            "text/plain": [
              "5.0"
            ]
          },
          "metadata": {},
          "execution_count": 12
        }
      ]
    },
    {
      "cell_type": "code",
      "source": [
        "np.percentile(x, 75)"
      ],
      "metadata": {
        "colab": {
          "base_uri": "https://localhost:8080/"
        },
        "id": "v7wB_7N_I0zM",
        "outputId": "d87b9efc-b9ee-467f-d878-1755ce9be2b8"
      },
      "execution_count": 13,
      "outputs": [
        {
          "output_type": "execute_result",
          "data": {
            "text/plain": [
              "10.0"
            ]
          },
          "metadata": {},
          "execution_count": 13
        }
      ]
    },
    {
      "cell_type": "code",
      "source": [
        "np.percentile(x, 100)"
      ],
      "metadata": {
        "colab": {
          "base_uri": "https://localhost:8080/"
        },
        "id": "JbCd4SqGI20l",
        "outputId": "17d6ba2d-f42b-4e4a-bb86-43a48f803b99"
      },
      "execution_count": 14,
      "outputs": [
        {
          "output_type": "execute_result",
          "data": {
            "text/plain": [
              "23.0"
            ]
          },
          "metadata": {},
          "execution_count": 14
        }
      ]
    },
    {
      "cell_type": "markdown",
      "source": [
        "# 난수 발생과 카운팅"
      ],
      "metadata": {
        "id": "x1uZuajeI9Si"
      }
    },
    {
      "cell_type": "markdown",
      "source": [
        "## 시드 설정\n",
        "* 컴퓨터 프로그램에서 발생하는 무작위 수는 사실 엄격한 의미의 무작위 수가 아님\n",
        "* 어떤 특정한 시작 숫자를 정해 주면 컴퓨터가 정해진 알고리즘에 의해 마치 난수처럼 보이는 수열을 생성. 이런 시작 숫자를 시드(seed)라고 함\n",
        "* 일단 생성된 난수는 다음번 난수 생성을 위한 시드값이 됨. 따라서 시드값은 한 번만 정해주면 됨.\n",
        "* 시드는 보통 현재 시각 등을 이용하여 자동으로 정해지지만 사람이 수동으로 설정할 수도 있음 * 특정한 시드값이 사용되면 그 다음에 만들어지는 난수들은 모두 예측할 수 있음\n",
        "* 고정된 결과를 얻기 위해서 실습엔 시드를 설정"
      ],
      "metadata": {
        "id": "ZCEj6C5UJHHc"
      }
    },
    {
      "cell_type": "code",
      "source": [
        "import random\n",
        "np.random.seed(0) # 시드값 고정"
      ],
      "metadata": {
        "id": "R9wwclqfI8_9"
      },
      "execution_count": 25,
      "outputs": []
    },
    {
      "cell_type": "markdown",
      "source": [
        "### `rand` : 0과 1 사이의 난수를 발생"
      ],
      "metadata": {
        "id": "OQRCx_xUJf6l"
      }
    },
    {
      "cell_type": "code",
      "source": [
        "np.random.rand(5) # n개의 길이를 가지는 배열에 각각 0-1사이의 난수를 채워줌"
      ],
      "metadata": {
        "colab": {
          "base_uri": "https://localhost:8080/"
        },
        "id": "w26duH5TJb7f",
        "outputId": "f7a0a265-602c-4d87-8bdb-99e3e2bba164"
      },
      "execution_count": 30,
      "outputs": [
        {
          "output_type": "execute_result",
          "data": {
            "text/plain": [
              "array([0.0202184 , 0.83261985, 0.77815675, 0.87001215, 0.97861834])"
            ]
          },
          "metadata": {},
          "execution_count": 30
        }
      ]
    },
    {
      "cell_type": "code",
      "source": [
        "np.random.rand(10)"
      ],
      "metadata": {
        "colab": {
          "base_uri": "https://localhost:8080/"
        },
        "id": "bnSQUYKVJkl8",
        "outputId": "d1595209-5327-4d8b-9f43-7c17e722dc38"
      },
      "execution_count": 29,
      "outputs": [
        {
          "output_type": "execute_result",
          "data": {
            "text/plain": [
              "array([0.43758721, 0.891773  , 0.96366276, 0.38344152, 0.79172504,\n",
              "       0.52889492, 0.56804456, 0.92559664, 0.07103606, 0.0871293 ])"
            ]
          },
          "metadata": {},
          "execution_count": 29
        }
      ]
    },
    {
      "cell_type": "markdown",
      "source": [
        "## 데이터의 순서 변경"
      ],
      "metadata": {
        "id": "TvJHX9FmJtgQ"
      }
    },
    {
      "cell_type": "markdown",
      "source": [
        "### `shuffle`\n",
        "* 데이터의 순서를 변경\n",
        "* 자체 변환(in-place) 함수 (원본에 영향)"
      ],
      "metadata": {
        "id": "89jdzc8rJyqB"
      }
    },
    {
      "cell_type": "code",
      "source": [
        "x = np.arange(10)\n",
        "x"
      ],
      "metadata": {
        "colab": {
          "base_uri": "https://localhost:8080/"
        },
        "id": "vUHakdiQJpjl",
        "outputId": "55277934-b5ca-46bd-dca3-1bc71837962e"
      },
      "execution_count": 27,
      "outputs": [
        {
          "output_type": "execute_result",
          "data": {
            "text/plain": [
              "array([0, 1, 2, 3, 4, 5, 6, 7, 8, 9])"
            ]
          },
          "metadata": {},
          "execution_count": 27
        }
      ]
    },
    {
      "cell_type": "code",
      "source": [
        "np.random.shuffle(x)\n",
        "x"
      ],
      "metadata": {
        "colab": {
          "base_uri": "https://localhost:8080/"
        },
        "id": "ReqSVnNlJ7S0",
        "outputId": "78e12b40-f94c-4ac9-ebe3-0d455719c8ce"
      },
      "execution_count": 31,
      "outputs": [
        {
          "output_type": "execute_result",
          "data": {
            "text/plain": [
              "array([1, 5, 2, 4, 7, 3, 6, 9, 8, 0])"
            ]
          },
          "metadata": {},
          "execution_count": 31
        }
      ]
    },
    {
      "cell_type": "markdown",
      "source": [
        "## 데이터 샘플링\n",
        "* 표본선택 혹은 샘플링(sampling) : 이미 있는 데이터 집합에서 일부를 무작위로 선택하는 것"
      ],
      "metadata": {
        "id": "MbQrSKXMKJAg"
      }
    },
    {
      "cell_type": "markdown",
      "source": [
        "### `choice` : 샘플링에 사용\n",
        "```\n",
        "numpy.random.choice(a, size=None, replace=True, p=None)\n",
        "```\n",
        "* a : 배열이면 원래의 데이터, 정수이면 arange(a) 명령으로 데이터 생성\n",
        "* size : 정수. 샘플 숫자\n",
        "* replace : 불리언. True이면 한번 선택한 데이터를 다시 선택 가능 (복원/비복원 추출)\n",
        "* p : 배열. 각 데이터가 선택될 수 있는 확률"
      ],
      "metadata": {
        "id": "gEkehbizKWrq"
      }
    },
    {
      "cell_type": "code",
      "source": [
        "np.random.choice(5, 5, replace=False)"
      ],
      "metadata": {
        "colab": {
          "base_uri": "https://localhost:8080/"
        },
        "id": "YvjoHXqIJ9KJ",
        "outputId": "b182b852-bb93-4964-b1ac-56ba94abd85e"
      },
      "execution_count": 32,
      "outputs": [
        {
          "output_type": "execute_result",
          "data": {
            "text/plain": [
              "array([2, 3, 0, 4, 1])"
            ]
          },
          "metadata": {},
          "execution_count": 32
        }
      ]
    },
    {
      "cell_type": "code",
      "source": [
        "np.random.choice(5, 3, replace=False)"
      ],
      "metadata": {
        "colab": {
          "base_uri": "https://localhost:8080/"
        },
        "id": "knplEnwIKnYh",
        "outputId": "2d0396b0-3b3d-46f6-bf6b-99ee66fb0713"
      },
      "execution_count": 33,
      "outputs": [
        {
          "output_type": "execute_result",
          "data": {
            "text/plain": [
              "array([3, 1, 4])"
            ]
          },
          "metadata": {},
          "execution_count": 33
        }
      ]
    },
    {
      "cell_type": "code",
      "source": [
        "np.random.choice(5, 10, replace=True)#복원 5개중 10개선택 (뽑은거 또 뽑음음)"
      ],
      "metadata": {
        "colab": {
          "base_uri": "https://localhost:8080/"
        },
        "id": "4Yd_3i6QKqMw",
        "outputId": "fe9ecf7f-cecf-42d2-f9d2-83f00804e923"
      },
      "execution_count": 34,
      "outputs": [
        {
          "output_type": "execute_result",
          "data": {
            "text/plain": [
              "array([2, 4, 2, 0, 0, 4, 0, 4, 1, 4])"
            ]
          },
          "metadata": {},
          "execution_count": 34
        }
      ]
    },
    {
      "cell_type": "code",
      "source": [
        "np.random.choice(5, 10, p=[0.1, 0, 0.3, 0.6, 0])"
      ],
      "metadata": {
        "colab": {
          "base_uri": "https://localhost:8080/"
        },
        "id": "lkbuDYTuKvBN",
        "outputId": "77face7b-5647-4e0e-d6b1-8d34c679fa9d"
      },
      "execution_count": 35,
      "outputs": [
        {
          "output_type": "execute_result",
          "data": {
            "text/plain": [
              "array([3, 2, 3, 3, 0, 3, 3, 2, 2, 2])"
            ]
          },
          "metadata": {},
          "execution_count": 35
        }
      ]
    },
    {
      "cell_type": "markdown",
      "source": [
        "## 난수 생성\n",
        "* `rand` : 0부터 1 사이의 균일 분포\n",
        "* `randn` : 표준 정규 분포\n",
        "* `randint` : 균일 분포의 정수 난수"
      ],
      "metadata": {
        "id": "D8oZhgNLLCgd"
      }
    },
    {
      "cell_type": "markdown",
      "source": [
        "### `rand` : 0부터 1 사이에서 균일한 확률 분포로 실수 난수를 생성\n",
        "* 숫자 인수는 생성할 난수의 크기\n",
        "* 여러 개의 인수를 넣으면 해당 크기를 가진 행렬을 생성"
      ],
      "metadata": {
        "id": "BcH0M0-_LPMP"
      }
    },
    {
      "cell_type": "code",
      "source": [
        "np.random.rand(10)"
      ],
      "metadata": {
        "colab": {
          "base_uri": "https://localhost:8080/"
        },
        "id": "EWqs3z-zK0k_",
        "outputId": "649dec37-c43e-4890-ef5d-d7a2cce2ee9d"
      },
      "execution_count": 36,
      "outputs": [
        {
          "output_type": "execute_result",
          "data": {
            "text/plain": [
              "array([0.36371077, 0.57019677, 0.43860151, 0.98837384, 0.10204481,\n",
              "       0.20887676, 0.16130952, 0.65310833, 0.2532916 , 0.46631077])"
            ]
          },
          "metadata": {},
          "execution_count": 36
        }
      ]
    },
    {
      "cell_type": "code",
      "source": [
        "np.random.rand(3, 5)"
      ],
      "metadata": {
        "colab": {
          "base_uri": "https://localhost:8080/"
        },
        "id": "DJTNzp8oLbVj",
        "outputId": "a42e2d31-3211-4da2-ec24-e425018c0f7d"
      },
      "execution_count": 37,
      "outputs": [
        {
          "output_type": "execute_result",
          "data": {
            "text/plain": [
              "array([[0.24442559, 0.15896958, 0.11037514, 0.65632959, 0.13818295],\n",
              "       [0.19658236, 0.36872517, 0.82099323, 0.09710128, 0.83794491],\n",
              "       [0.09609841, 0.97645947, 0.4686512 , 0.97676109, 0.60484552]])"
            ]
          },
          "metadata": {},
          "execution_count": 37
        }
      ]
    },
    {
      "cell_type": "markdown",
      "source": [
        "### `randn` : 기댓값이 0이고 표준편차가 1인 표준 정규 분포(standard normal distribution)를 따르는 난수를 생성"
      ],
      "metadata": {
        "id": "HdWD5uVkLjQt"
      }
    },
    {
      "cell_type": "code",
      "source": [
        "np.random.randn(10)"
      ],
      "metadata": {
        "colab": {
          "base_uri": "https://localhost:8080/"
        },
        "id": "AlJYbewHLeZB",
        "outputId": "973b4a89-b80e-4c41-ed58-e9289710d618"
      },
      "execution_count": 38,
      "outputs": [
        {
          "output_type": "execute_result",
          "data": {
            "text/plain": [
              "array([-0.63432209, -0.36274117, -0.67246045, -0.35955316, -0.81314628,\n",
              "       -1.7262826 ,  0.17742614, -0.40178094, -1.63019835,  0.46278226])"
            ]
          },
          "metadata": {},
          "execution_count": 38
        }
      ]
    },
    {
      "cell_type": "code",
      "source": [
        "np.random.randn(3, 5)"
      ],
      "metadata": {
        "colab": {
          "base_uri": "https://localhost:8080/"
        },
        "id": "gbDMC1OxLt3f",
        "outputId": "c43efa1b-ec23-4252-a4c3-04e6fcf7b463"
      },
      "execution_count": 39,
      "outputs": [
        {
          "output_type": "execute_result",
          "data": {
            "text/plain": [
              "array([[-0.90729836,  0.0519454 ,  0.72909056,  0.12898291,  1.13940068],\n",
              "       [-1.23482582,  0.40234164, -0.68481009, -0.87079715, -0.57884966],\n",
              "       [-0.31155253,  0.05616534, -1.16514984,  0.90082649,  0.46566244]])"
            ]
          },
          "metadata": {},
          "execution_count": 39
        }
      ]
    },
    {
      "cell_type": "markdown",
      "source": [
        "### `randint`\n",
        "```\n",
        "numpy.random.randint(low, high=None, size=None)\n",
        "```\n",
        "만약 `high`를 입력하지 않으면 0과 `low`사이의 숫자, `high`를 입력하면 `low`와 `high`는 사이의 숫자를 출력. `size`는 난수의 숫자"
      ],
      "metadata": {
        "id": "FDtGkcnjLzTM"
      }
    },
    {
      "cell_type": "code",
      "source": [
        "np.random.randint(10, size=10)"
      ],
      "metadata": {
        "colab": {
          "base_uri": "https://localhost:8080/"
        },
        "id": "H5eTlhBGLy_D",
        "outputId": "4d8eb59b-9861-4fc8-fb51-e165f99dd8f2"
      },
      "execution_count": 41,
      "outputs": [
        {
          "output_type": "execute_result",
          "data": {
            "text/plain": [
              "array([2, 8, 4, 3, 0, 4, 3, 6, 9, 8])"
            ]
          },
          "metadata": {},
          "execution_count": 41
        }
      ]
    },
    {
      "cell_type": "code",
      "source": [
        "np.random.randint(10,20, size=10)"
      ],
      "metadata": {
        "colab": {
          "base_uri": "https://localhost:8080/"
        },
        "id": "xlpHLyNALuyj",
        "outputId": "27345840-8f84-474c-aa9e-a5a0fdca867e"
      },
      "execution_count": 42,
      "outputs": [
        {
          "output_type": "execute_result",
          "data": {
            "text/plain": [
              "array([10, 18, 15, 19, 10, 19, 16, 15, 13, 11])"
            ]
          },
          "metadata": {},
          "execution_count": 42
        }
      ]
    },
    {
      "cell_type": "code",
      "source": [
        "np.random.randint(10,20, size=(3, 5))"
      ],
      "metadata": {
        "colab": {
          "base_uri": "https://localhost:8080/"
        },
        "id": "RwOU04I2ME1f",
        "outputId": "24ecbe87-ab35-40e6-9a3d-17f59bbcf251"
      },
      "execution_count": 45,
      "outputs": [
        {
          "output_type": "execute_result",
          "data": {
            "text/plain": [
              "array([[18, 10, 14, 19, 16],\n",
              "       [15, 17, 18, 18, 19],\n",
              "       [12, 18, 16, 16, 19]])"
            ]
          },
          "metadata": {},
          "execution_count": 45
        }
      ]
    },
    {
      "cell_type": "markdown",
      "source": [
        "## 💡 연습문제 7\n",
        "1. 동전을 10번 던져 앞면(숫자 1)과 뒷면(숫자 0)이 나오는 가상 실험을 작성하라\n",
        "2. 주사위를 100번 던져서 나오는 숫자의 평균\n",
        "3. 가격이 10,000원인 주식이 있다. 이 주식의 일간 수익률(%)은 기댓값이 0%이고 표준편차가 1%인 표준 정규 분포를 따른다고 하자. 250일 동안의 주가를 무작위로 생성하라"
      ],
      "metadata": {
        "id": "dCofCh17MOVI"
      }
    },
    {
      "cell_type": "code",
      "source": [
        "# 1.\n",
        "np.random.choice([0, 1], size=10, replace=True)"
      ],
      "metadata": {
        "colab": {
          "base_uri": "https://localhost:8080/"
        },
        "id": "wSVBjqWJMGJ3",
        "outputId": "0fcec696-aa58-4640-b292-92f9b650b961"
      },
      "execution_count": 46,
      "outputs": [
        {
          "output_type": "execute_result",
          "data": {
            "text/plain": [
              "array([1, 1, 0, 0, 0, 1, 0, 1, 0, 1])"
            ]
          },
          "metadata": {},
          "execution_count": 46
        }
      ]
    },
    {
      "cell_type": "code",
      "source": [
        "# 2.\n",
        "np.random.randint(1, 7, 100).mean()\n",
        "np.random.choice(range(1, 7), 100, replace=True).mean()"
      ],
      "metadata": {
        "colab": {
          "base_uri": "https://localhost:8080/"
        },
        "id": "rpstIcwsNB-3",
        "outputId": "161012d4-184d-453a-9d23-c386f763c9c2"
      },
      "execution_count": 49,
      "outputs": [
        {
          "output_type": "execute_result",
          "data": {
            "text/plain": [
              "3.42"
            ]
          },
          "metadata": {},
          "execution_count": 49
        }
      ]
    },
    {
      "cell_type": "code",
      "source": [
        "# 3.\n",
        "a = np.random.randn(250)/100#일간 수익률의 표준 정규분포를 따르는(0.1%) 수익률 분포"
      ],
      "metadata": {
        "id": "zrCTnmQBNjbm"
      },
      "execution_count": 53,
      "outputs": []
    },
    {
      "cell_type": "code",
      "source": [
        "a "
      ],
      "metadata": {
        "colab": {
          "base_uri": "https://localhost:8080/"
        },
        "id": "69sVrwIPiw_j",
        "outputId": "b2ca7d54-5090-41b5-996c-a3184338f188"
      },
      "execution_count": 54,
      "outputs": [
        {
          "output_type": "execute_result",
          "data": {
            "text/plain": [
              "array([-1.54305643e-02,  1.65946033e-02, -9.70092222e-03,  1.29233496e-02,\n",
              "       -9.38761907e-03, -1.21253290e-02,  1.67364748e-02,  1.97539178e-02,\n",
              "       -1.17701205e-02,  1.28612871e-02,  8.71773490e-03, -9.85959963e-03,\n",
              "        9.34594650e-04, -1.61964135e-02, -1.62542609e-02, -5.14445498e-03,\n",
              "        3.12787072e-03,  1.56451260e-02,  8.18435504e-03,  4.02149816e-03,\n",
              "        1.18055558e-03,  3.54427721e-04, -4.77901096e-03,  6.23693170e-03,\n",
              "       -2.46952308e-02, -1.14912376e-02, -5.00970786e-03,  1.47594784e-04,\n",
              "       -3.91050579e-03, -3.88419578e-03,  1.05014196e-02, -3.20693872e-04,\n",
              "       -4.77338656e-04, -2.77342949e-03, -4.72136268e-03, -1.85329637e-03,\n",
              "        1.95420226e-03,  1.48838294e-02,  3.24843567e-03, -1.18814232e-02,\n",
              "       -1.49414282e-03, -3.03328915e-03, -1.35969704e-02, -2.13801735e-02,\n",
              "        4.00937099e-03,  7.06842389e-03,  7.92607785e-03, -2.33423082e-03,\n",
              "        8.59745314e-03,  3.66280535e-03,  7.26423161e-03,  1.79384552e-04,\n",
              "       -2.28547991e-02, -1.47884513e-02, -1.35319994e-02, -2.89455283e-04,\n",
              "       -1.71743247e-02, -1.15290926e-02,  9.41030811e-03, -1.02852693e-02,\n",
              "        6.55358098e-04,  4.10470290e-03, -1.16893036e-02, -1.91440763e-02,\n",
              "        7.32355692e-04,  7.49688133e-03,  8.61383002e-04, -1.73723493e-02,\n",
              "        1.54933777e-03, -3.06099839e-03,  9.01940817e-03,  8.32378766e-03,\n",
              "       -4.21705878e-03, -2.25102829e-02, -1.68572411e-02,  7.95706156e-03,\n",
              "       -3.42584529e-03,  3.68466907e-03, -9.74300398e-04,  6.38873498e-03,\n",
              "        1.06138668e-02, -7.73586770e-03, -6.96015438e-03, -4.12356440e-03,\n",
              "       -1.81030697e-02,  1.53082680e-02, -3.32510932e-04, -7.19820378e-04,\n",
              "        6.86529783e-04,  1.16556960e-02, -2.48495962e-03, -4.79482926e-03,\n",
              "       -8.41456671e-03, -1.34346249e-03, -7.57249672e-03,  1.63389801e-03,\n",
              "       -9.39805434e-03,  5.56344157e-03, -1.46217032e-02, -1.64254441e-03,\n",
              "        6.56636677e-03, -8.01201043e-03, -8.27585338e-03, -5.74829043e-03,\n",
              "       -2.07515845e-04, -1.14888952e-02,  1.75039066e-02,  1.18641832e-02,\n",
              "       -4.70147241e-03,  7.59823716e-03, -2.82994349e-03, -6.55994180e-03,\n",
              "        1.24212850e-02, -1.46855646e-02,  8.45067053e-03, -5.84190471e-03,\n",
              "       -5.30002369e-03,  1.48760981e-02, -5.88254817e-03, -1.40026191e-02,\n",
              "        3.05732433e-02,  3.25540031e-03,  3.85129741e-03,  3.44041564e-03,\n",
              "       -1.10931502e-02,  3.42057513e-03, -5.76887123e-03,  1.13274122e-02,\n",
              "        4.99166204e-03,  8.60161983e-03, -4.27433228e-04, -7.51771468e-04,\n",
              "       -1.63576967e-03, -6.26979908e-03,  1.64650580e-02, -1.13275442e-03,\n",
              "        1.33844805e-02,  3.45790962e-03,  5.66636928e-03, -1.75982722e-02,\n",
              "       -1.25596928e-02,  9.99327972e-03,  4.01681980e-04,  5.08473989e-03,\n",
              "        2.35333669e-03, -8.54504872e-03,  5.56776133e-03, -1.14480657e-02,\n",
              "       -5.24587051e-04,  5.54647259e-03, -1.78917486e-03, -2.03510357e-03,\n",
              "        3.96692602e-03,  1.04508300e-02, -1.67242863e-02,  5.68466213e-03,\n",
              "       -3.69916074e-03,  9.49620217e-03, -1.92983748e-04,  1.39899247e-03,\n",
              "       -1.34673130e-02, -1.19974717e-02, -1.13613554e-02, -2.08212975e-02,\n",
              "       -1.65279195e-02,  6.83384035e-03, -2.34924655e-03,  9.20402707e-03,\n",
              "        9.37379898e-03,  6.21740853e-03, -1.68086937e-02,  6.61217747e-03,\n",
              "        6.24507479e-03,  1.18991667e-02, -6.82961987e-03, -6.53126506e-03,\n",
              "        4.29766650e-03, -1.73271971e-03,  1.08060125e-02, -2.89279430e-02,\n",
              "       -7.61401332e-03,  1.97513784e-02,  1.10593412e-02,  1.11319836e-02,\n",
              "       -5.52499373e-05, -1.29947161e-02,  1.68392246e-02,  1.28237242e-02,\n",
              "       -3.43690224e-03, -1.15738312e-02, -6.08917010e-03, -1.00218322e-02,\n",
              "       -5.11008522e-03, -1.97161176e-02,  9.92744768e-03,  1.21169846e-02,\n",
              "       -7.42269288e-03,  1.09854667e-02, -1.29482133e-02, -2.30105665e-02,\n",
              "        2.65181314e-02,  1.24011278e-03,  9.10395829e-03,  5.45170045e-03,\n",
              "        7.89964813e-03,  1.99339379e-03, -1.39994935e-03, -1.13065905e-03,\n",
              "       -3.09592764e-03, -5.71847002e-04, -9.37661759e-03, -5.63310038e-03,\n",
              "        8.93263427e-03, -4.40111295e-03, -9.05112893e-03, -3.24566482e-03,\n",
              "        2.83288178e-03, -7.97924624e-03,  1.56672894e-02,  1.11945991e-02,\n",
              "       -9.68579604e-03,  1.23322873e-02, -8.88071635e-03, -5.45084673e-03,\n",
              "        6.08529041e-03, -8.66789568e-03, -5.66190674e-03, -2.76452748e-03,\n",
              "       -2.14204050e-02,  1.17151627e-02,  7.34698736e-04, -2.38254846e-03,\n",
              "        3.31508150e-03, -8.62574894e-03,  2.72855164e-03, -1.95718820e-02,\n",
              "       -4.51991358e-03, -1.88771897e-03, -1.98897469e-02, -2.71683402e-03,\n",
              "        1.44934635e-03,  3.56005595e-03,  5.74871852e-03,  3.48210100e-04,\n",
              "        4.39764393e-06,  1.61204613e-03, -1.39804320e-02, -1.01704708e-02,\n",
              "       -1.08937084e-02,  7.50761402e-03])"
            ]
          },
          "metadata": {},
          "execution_count": 54
        }
      ]
    },
    {
      "cell_type": "code",
      "source": [
        "init = 10000\n",
        "stock = np.empty(250)\n",
        "for i, v in enumerate(a):\n",
        "    init += (1 + v)\n",
        "    stock[i] = init\n",
        "stock"
      ],
      "metadata": {
        "colab": {
          "base_uri": "https://localhost:8080/"
        },
        "id": "kpfgbSyCiglk",
        "outputId": "5373a162-8e63-4887-99c0-5265caac852c"
      },
      "execution_count": 55,
      "outputs": [
        {
          "output_type": "execute_result",
          "data": {
            "text/plain": [
              "array([10000.98456944, 10002.00116404, 10002.99146312, 10004.00438647,\n",
              "       10004.99499885, 10005.98287352, 10006.99960999, 10008.01936391,\n",
              "       10009.00759379, 10010.02045508, 10011.02917281, 10012.01931321,\n",
              "       10013.02024781, 10014.00405139, 10014.98779713, 10015.98265268,\n",
              "       10016.98578055, 10018.00142567, 10019.00961003, 10020.01363153,\n",
              "       10021.01481208, 10022.01516651, 10023.0103875 , 10024.01662443,\n",
              "       10024.9919292 , 10025.98043796, 10026.97542826, 10027.97557585,\n",
              "       10028.97166534, 10029.96778115, 10030.97828257, 10031.97796187,\n",
              "       10032.97748454, 10033.97471111, 10034.96998974, 10035.96813645,\n",
              "       10036.97009065, 10037.98497448, 10038.98822291, 10039.97634149,\n",
              "       10040.97484735, 10041.97181406, 10042.95821709, 10043.93683692,\n",
              "       10044.94084629, 10045.94791471, 10046.95584079, 10047.95350656,\n",
              "       10048.96210401, 10049.96576682, 10050.97303105, 10051.97321043,\n",
              "       10052.95035563, 10053.93556718, 10054.92203518, 10055.92174573,\n",
              "       10056.9045714 , 10057.89304231, 10058.90245262, 10059.89216735,\n",
              "       10060.89282271, 10061.89692741, 10062.88523811, 10063.86609403,\n",
              "       10064.86682639, 10065.87432327, 10066.87518465, 10067.8578123 ,\n",
              "       10068.85936164, 10069.85630064, 10070.86532005, 10071.87364384,\n",
              "       10072.86942678, 10073.84691649, 10074.83005925, 10075.83801631,\n",
              "       10076.83459047, 10077.83827514, 10078.83730084, 10079.84368957,\n",
              "       10080.85430344, 10081.84656757, 10082.83960742, 10083.83548385,\n",
              "       10084.81738078, 10085.83268905, 10086.83235654, 10087.83163672,\n",
              "       10088.83232325, 10089.84397895, 10090.84149399, 10091.83669916,\n",
              "       10092.82828459, 10093.82694113, 10094.81936863, 10095.82100253,\n",
              "       10096.81160447, 10097.81716792, 10098.80254621, 10099.80090367,\n",
              "       10100.80747004, 10101.79945803, 10102.79118217, 10103.78543388,\n",
              "       10104.78522637, 10105.77373747, 10106.79124138, 10107.80310556,\n",
              "       10108.79840409, 10109.80600232, 10110.80317238, 10111.79661244,\n",
              "       10112.80903372, 10113.79434816, 10114.80279883, 10115.79695693,\n",
              "       10116.7916569 , 10117.806533  , 10118.80065045, 10119.78664783,\n",
              "       10120.81722108, 10121.82047648, 10122.82432777, 10123.82776819,\n",
              "       10124.81667504, 10125.82009561, 10126.81432674, 10127.82565416,\n",
              "       10128.83064582, 10129.83924744, 10130.83882   , 10131.83806823,\n",
              "       10132.83643246, 10133.83016266, 10134.84662772, 10135.84549497,\n",
              "       10136.85887945, 10137.86233736, 10138.86800373, 10139.85040545,\n",
              "       10140.83784576, 10141.84783904, 10142.84824072, 10143.85332546,\n",
              "       10144.8556788 , 10145.84713375, 10146.85270151, 10147.84125345,\n",
              "       10148.84072886, 10149.84627533, 10150.84448616, 10151.84245105,\n",
              "       10152.84641798, 10153.85686881, 10154.84014452, 10155.84582919,\n",
              "       10156.84213003, 10157.85162623, 10158.85143324, 10159.85283224,\n",
              "       10160.83936492, 10161.82736745, 10162.8160061 , 10163.7951848 ,\n",
              "       10164.77865688, 10165.78549072, 10166.78314147, 10167.7923455 ,\n",
              "       10168.8017193 , 10169.80793671, 10170.79112801, 10171.79774019,\n",
              "       10172.80398527, 10173.81588443, 10174.80905481, 10175.80252355,\n",
              "       10176.80682121, 10177.80508849, 10178.81589451, 10179.78696656,\n",
              "       10180.77935255, 10181.79910393, 10182.81016327, 10183.82129525,\n",
              "       10184.82124   , 10185.80824529, 10186.82508451, 10187.83790824,\n",
              "       10188.83447133, 10189.8228975 , 10190.81680833, 10191.8067865 ,\n",
              "       10192.80167642, 10193.7819603 , 10194.79188775, 10195.80400473,\n",
              "       10196.79658204, 10197.8075675 , 10198.79461929, 10199.77160872,\n",
              "       10200.79812686, 10201.79936697, 10202.80847093, 10203.81392263,\n",
              "       10204.82182228, 10205.82381567, 10206.82241572, 10207.82128506,\n",
              "       10208.81818913, 10209.81761729, 10210.80824067, 10211.80260757,\n",
              "       10212.8115402 , 10213.80713909, 10214.79808796, 10215.7948423 ,\n",
              "       10216.79767518, 10217.78969593, 10218.80536322, 10219.81655782,\n",
              "       10220.80687202, 10221.81920431, 10222.81032359, 10223.80487275,\n",
              "       10224.81095804, 10225.80229014, 10226.79662824, 10227.79386371,\n",
              "       10228.7724433 , 10229.78415847, 10230.78489316, 10231.78251062,\n",
              "       10232.7858257 , 10233.77719995, 10234.7799285 , 10235.76035662,\n",
              "       10236.75583671, 10237.75394899, 10238.73405924, 10239.73134241,\n",
              "       10240.73279175, 10241.73635181, 10242.74210053, 10243.74244874,\n",
              "       10244.74245313, 10245.74406518, 10246.73008475, 10247.71991428,\n",
              "       10248.70902057, 10249.71652818])"
            ]
          },
          "metadata": {},
          "execution_count": 55
        }
      ]
    },
    {
      "cell_type": "code",
      "source": [],
      "metadata": {
        "colab": {
          "base_uri": "https://localhost:8080/"
        },
        "id": "C7CgIfRJN7lQ",
        "outputId": "631f257c-b481-4dd8-e915-d4f28501b7fa"
      },
      "execution_count": null,
      "outputs": [
        {
          "output_type": "execute_result",
          "data": {
            "text/plain": [
              "array([ 9968.24569061,  9805.52172515,  9798.93887103,  9944.87995133,\n",
              "        9996.72298327, 10057.89564959,  9922.96930879,  9970.29178757,\n",
              "        9985.09264399, 10037.91830117, 10080.34141693,  9943.27087728,\n",
              "        9939.15428244,  9863.82832836,  9858.88811928,  9770.41436592,\n",
              "        9898.64815922,  9813.6215047 ,  9725.40272392,  9732.65655233,\n",
              "        9627.82619918,  9586.94035449,  9507.37214356,  9641.53752326,\n",
              "        9717.30109408,  9711.71660794,  9673.72271651,  9764.74447753,\n",
              "        9804.31162059,  9853.14223038,  9850.56147198,  9684.2613353 ,\n",
              "        9673.36983564,  9621.86011642,  9683.9264325 ,  9781.91250933,\n",
              "        9717.55231377,  9763.06789394,  9932.54293905,  9866.22208637,\n",
              "       10032.16422056,  9946.63140825,  9948.91513051,  9947.80626305,\n",
              "        9948.95015133,  9865.60998051,  9807.28616123,  9741.80092199,\n",
              "        9773.65296712,  9805.90945388, 10024.18353955, 10161.61399384,\n",
              "       10109.8056916 , 10142.64937851, 10243.78355919, 10246.91834384,\n",
              "       10239.78222817, 10245.06338999, 10333.91643038, 10246.25169649,\n",
              "       10212.88278302, 10260.92756867, 10292.8849271 , 10317.54490488,\n",
              "       10279.39050348, 10379.36125504, 10600.84314912, 10643.92661814,\n",
              "       10623.36503178, 10703.65008136, 10645.94321045, 10566.1316021 ,\n",
              "       10569.59821755, 10296.60699067, 10177.78925686, 10142.37443247,\n",
              "       10005.10866694,  9901.79160246,  9858.54569226,  9696.57320809,\n",
              "        9657.19815908,  9605.50605861,  9607.94635744,  9718.83973996,\n",
              "        9735.60516774,  9737.65568298,  9747.34021556,  9769.50496298,\n",
              "        9670.17463024,  9659.07565591,  9688.89817194,  9556.08663305,\n",
              "        9638.8091763 ,  9743.04094874,  9681.52572764,  9658.16054727,\n",
              "        9573.34351405,  9640.29761022,  9537.9926234 ,  9516.77278258,\n",
              "        9435.03132657,  9439.83887857,  9270.46652622,  9393.43570876,\n",
              "        9302.82602446,  9308.39792263,  9288.61543195,  9217.82554578,\n",
              "        9135.99152156,  9221.5408131 ,  9173.06865128,  9197.94327848,\n",
              "        9124.22204958,  9065.17177868,  9107.98179405,  9192.72323049,\n",
              "        9176.60687885,  9046.12288209,  9226.8604442 ,  9147.82783489,\n",
              "        9006.80607364,  9240.48086499,  9203.14633819,  9068.62093982,\n",
              "        9006.64237801,  9039.74583238,  9056.94951347,  8979.80883009,\n",
              "        9143.48592488,  9095.79536043,  8988.03869251,  9074.38618688,\n",
              "        9194.99048224,  9119.82206972,  8992.02169002,  9084.67892253,\n",
              "        8898.68614577,  8789.53293411,  8874.56693209,  8869.65463316,\n",
              "        8846.2443019 ,  8877.45532084,  8863.89283965,  8748.77864028,\n",
              "        8860.41964758,  8977.82145306,  8996.25584402,  9000.31621552,\n",
              "        9210.88984632,  9185.42792146,  9161.5846649 ,  9194.97692313,\n",
              "        9330.26463747,  9478.87436392,  9454.36458902,  9483.51534916,\n",
              "        9352.82459204,  9323.64601389,  9245.30031193,  9152.21569279,\n",
              "        9306.11722091,  9232.38609543,  9183.3061855 ,  9216.90319987,\n",
              "        9336.52249843,  9381.44192045,  9640.30921785,  9633.11099386,\n",
              "        9658.03343571,  9684.65104095,  9823.63056633,  9873.45984697,\n",
              "        9861.98395417,  9768.54278098,  9792.42134455,  9929.64693492,\n",
              "        9888.89747172,  9941.20416383,  9965.67421805, 10051.72977401,\n",
              "        9970.83810266, 10204.81847891, 10074.28240989, 10037.45576073,\n",
              "       10131.61638452, 10161.68025124, 10246.02079085, 10195.19004257,\n",
              "       10187.56353242, 10188.80967353, 10348.69854894, 10420.14896737,\n",
              "       10503.16338784, 10434.06033537, 10535.15413445, 10558.91951041,\n",
              "       10705.59824618, 10921.2154348 , 10887.71288352, 10843.47576524,\n",
              "       10749.78325603, 10734.34876972, 10693.34082564, 10731.78385637,\n",
              "       10716.26925805, 10677.51930548, 10791.19058892, 10689.98214568,\n",
              "       10736.28130854, 10692.69826276, 10770.1528013 , 10919.34758658,\n",
              "       10886.25123476, 10934.26318507, 10953.81286756, 10866.2456339 ,\n",
              "       10892.41019616, 10923.90238756, 10969.00399297, 10947.24161006,\n",
              "       10957.55306875, 10831.80299044, 10793.01277931, 10853.01790238,\n",
              "       10949.87825314, 10903.63529406, 10915.05292993, 10939.94507107,\n",
              "       10961.98686657, 11021.26639597, 10820.89121704, 10815.55391307,\n",
              "       10841.40672108, 10732.95683939, 10912.62500283, 10930.25535982,\n",
              "       11101.13949076, 11013.3824274 , 10913.45799525, 10937.93166719,\n",
              "       10754.31788116, 10777.43596411, 10787.91370458, 10897.48279868,\n",
              "       10973.87865825, 10928.06520044, 10808.13005044, 10993.19822562,\n",
              "       10906.11945123, 10792.09329415])"
            ]
          },
          "metadata": {},
          "execution_count": 340
        }
      ]
    },
    {
      "cell_type": "markdown",
      "source": [
        "## 정수 데이터 카운팅\n",
        "* 만약 난수가 정수값이면 unique 명령이나 bincount 명령으로 데이터 값을 분석"
      ],
      "metadata": {
        "id": "zc2junJdO2d8"
      }
    },
    {
      "cell_type": "markdown",
      "source": [
        "### `unique`\n",
        "* unique 함수는 데이터에서 중복된 값을 제거하고 중복되지 않는 값의 리스트를 출력\n",
        "* return_counts 인수를 True 로 설정하면 각 값을 가진 데이터 갯수도 출력\n"
      ],
      "metadata": {
        "id": "NQWG8zU8PJtG"
      }
    },
    {
      "cell_type": "code",
      "source": [
        "np.unique([11, 11, 2, 2, 34, 34])"
      ],
      "metadata": {
        "colab": {
          "base_uri": "https://localhost:8080/"
        },
        "id": "Zy46ohsVPDJv",
        "outputId": "9b66fe4f-e449-41fd-d674-1403a0b51a82"
      },
      "execution_count": 56,
      "outputs": [
        {
          "output_type": "execute_result",
          "data": {
            "text/plain": [
              "array([ 2, 11, 34])"
            ]
          },
          "metadata": {},
          "execution_count": 56
        }
      ]
    },
    {
      "cell_type": "code",
      "source": [
        "a = np.array(['a', 'b', 'b', 'c', 'a'])\n",
        "index, count = np.unique(a, return_counts=True)"
      ],
      "metadata": {
        "id": "9l5BuLbwPPQF"
      },
      "execution_count": 58,
      "outputs": []
    },
    {
      "cell_type": "code",
      "source": [
        "index"
      ],
      "metadata": {
        "colab": {
          "base_uri": "https://localhost:8080/"
        },
        "id": "kMLRdBasPQ4L",
        "outputId": "a71449d0-db29-4037-b2d8-b3e50b86ccfd"
      },
      "execution_count": 59,
      "outputs": [
        {
          "output_type": "execute_result",
          "data": {
            "text/plain": [
              "array(['a', 'b', 'c'], dtype='<U1')"
            ]
          },
          "metadata": {},
          "execution_count": 59
        }
      ]
    },
    {
      "cell_type": "code",
      "source": [
        "count"
      ],
      "metadata": {
        "colab": {
          "base_uri": "https://localhost:8080/"
        },
        "id": "Kpx6OGmoPRi1",
        "outputId": "1e883c62-dfa5-44e5-c99c-78dc2b520b89"
      },
      "execution_count": 60,
      "outputs": [
        {
          "output_type": "execute_result",
          "data": {
            "text/plain": [
              "array([2, 2, 1])"
            ]
          },
          "metadata": {},
          "execution_count": 60
        }
      ]
    },
    {
      "cell_type": "code",
      "source": [
        "dict(zip(*np.unique(a, return_counts=True)))"
      ],
      "metadata": {
        "colab": {
          "base_uri": "https://localhost:8080/"
        },
        "id": "3GcEuX5Mj2sA",
        "outputId": "5312cddd-93a2-40cf-bdd5-3fe5dd9b735b"
      },
      "execution_count": 61,
      "outputs": [
        {
          "output_type": "execute_result",
          "data": {
            "text/plain": [
              "{'a': 2, 'b': 2, 'c': 1}"
            ]
          },
          "metadata": {},
          "execution_count": 61
        }
      ]
    },
    {
      "cell_type": "markdown",
      "source": [
        "### `bincount`\n",
        "* `unique` 함수는 데이터에 존재하는 값에 대해서만 갯수를 세므로 데이터 값이 나올 수 있음에도 불구하고 데이터가 하나도 없는 경우에는 정보를 주지 않음\n",
        "* 따라서 데이터가 주사위를 던졌을 때 나오는 수처럼 특정 범위안의 수인 경우에는 `bincount` 함수에 `minlength` 인수를 설정하여 쓰는 것이 더 편리\n",
        "* `bincount` 함수는 0 부터 `minlength` - 1 까지의 숫자에 대해 각각 카운트\n",
        "* 데이터가 없을 경우에는 카운트 값이 0이 됨"
      ],
      "metadata": {
        "id": "GihAHqezPWii"
      }
    },
    {
      "cell_type": "code",
      "source": [
        "np.bincount([1, 1, 2, 2, 2, 3], minlength=6)"
      ],
      "metadata": {
        "colab": {
          "base_uri": "https://localhost:8080/"
        },
        "id": "SWLVdyPEPmqk",
        "outputId": "5ad8ab11-acf2-4153-83bb-bcd6dee52731"
      },
      "execution_count": 62,
      "outputs": [
        {
          "output_type": "execute_result",
          "data": {
            "text/plain": [
              "array([0, 2, 3, 1, 0, 0])"
            ]
          },
          "metadata": {},
          "execution_count": 62
        }
      ]
    }
  ]
}