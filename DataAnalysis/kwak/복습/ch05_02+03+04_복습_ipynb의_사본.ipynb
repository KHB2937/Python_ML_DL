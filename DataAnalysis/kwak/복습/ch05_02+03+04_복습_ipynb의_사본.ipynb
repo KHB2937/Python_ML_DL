{
  "nbformat": 4,
  "nbformat_minor": 0,
  "metadata": {
    "colab": {
      "provenance": [],
      "include_colab_link": true
    },
    "kernelspec": {
      "name": "python3",
      "display_name": "Python 3"
    },
    "language_info": {
      "name": "python"
    }
  },
  "cells": [
    {
      "cell_type": "markdown",
      "metadata": {
        "id": "view-in-github",
        "colab_type": "text"
      },
      "source": [
        "<a href=\"https://colab.research.google.com/github/KHB2937/DataAnalysis/blob/main/kwak/%EB%B3%B5%EC%8A%B5/ch05_02%2B03%2B04_%EB%B3%B5%EC%8A%B5_ipynb%EC%9D%98_%EC%82%AC%EB%B3%B8.ipynb\" target=\"_parent\"><img src=\"https://colab.research.google.com/assets/colab-badge.svg\" alt=\"Open In Colab\"/></a>"
      ]
    },
    {
      "cell_type": "code",
      "execution_count": 1,
      "metadata": {
        "id": "geQity3WyLZf"
      },
      "outputs": [],
      "source": [
        "import numpy as np"
      ]
    },
    {
      "cell_type": "code",
      "source": [
        "arr1 = np.arange(1, 4)\n",
        "arr2 = np.arange(4, 7)\n",
        "np.concatenate([arr1, arr2, arr1], axis=0)"
      ],
      "metadata": {
        "colab": {
          "base_uri": "https://localhost:8080/"
        },
        "id": "ZJJfdpDzRAnW",
        "outputId": "53be7a8b-b5c2-49d0-fe5a-e0be58cd7888"
      },
      "execution_count": 4,
      "outputs": [
        {
          "output_type": "execute_result",
          "data": {
            "text/plain": [
              "array([1, 2, 3, 4, 5, 6, 1, 2, 3])"
            ]
          },
          "metadata": {},
          "execution_count": 4
        }
      ]
    },
    {
      "cell_type": "code",
      "source": [
        "arr1 = arr1.reshape(3, 1)\n",
        "arr2 = arr2.reshape(3, 1)\n",
        "# np.concatenate([arr1, arr2, arr1], axis=0)\n",
        "np.concatenate([arr1, arr2, arr1], axis=1)"
      ],
      "metadata": {
        "colab": {
          "base_uri": "https://localhost:8080/"
        },
        "id": "JUCQbtCyRbdO",
        "outputId": "bd259429-6573-4dc6-aa47-cc19d2db25ee"
      },
      "execution_count": 7,
      "outputs": [
        {
          "output_type": "execute_result",
          "data": {
            "text/plain": [
              "array([[1, 4, 1],\n",
              "       [2, 5, 2],\n",
              "       [3, 6, 3]])"
            ]
          },
          "metadata": {},
          "execution_count": 7
        }
      ]
    },
    {
      "cell_type": "code",
      "source": [
        "a1 = np.ones((2, 3))\n",
        "a2 = np.zeros((2, 2))\n",
        "np.hstack((a1, a2))"
      ],
      "metadata": {
        "colab": {
          "base_uri": "https://localhost:8080/"
        },
        "id": "epN0CFGZR2FC",
        "outputId": "78a11d51-d48c-4cf0-a139-55d65851e0a4"
      },
      "execution_count": 8,
      "outputs": [
        {
          "output_type": "execute_result",
          "data": {
            "text/plain": [
              "array([[1., 1., 1., 0., 0.],\n",
              "       [1., 1., 1., 0., 0.]])"
            ]
          },
          "metadata": {},
          "execution_count": 8
        }
      ]
    },
    {
      "cell_type": "code",
      "source": [
        "# b1 = np.ones((2, 3))\n",
        "b1 = np.ones_like(a1)\n",
        "b2 = np.zeros((3, 3))\n",
        "np.vstack((b1, b2))"
      ],
      "metadata": {
        "colab": {
          "base_uri": "https://localhost:8080/"
        },
        "id": "UZKQXOfCSBsH",
        "outputId": "9ca38a51-5a61-481e-eccf-479184b533d8"
      },
      "execution_count": 10,
      "outputs": [
        {
          "output_type": "execute_result",
          "data": {
            "text/plain": [
              "array([[1., 1., 1.],\n",
              "       [1., 1., 1.],\n",
              "       [0., 0., 0.],\n",
              "       [0., 0., 0.],\n",
              "       [0., 0., 0.]])"
            ]
          },
          "metadata": {},
          "execution_count": 10
        }
      ]
    },
    {
      "cell_type": "code",
      "source": [
        "c1 = np.ones((3, 4))\n",
        "c2 = np.zeros_like(c1)\n",
        "np.dstack((c1, c2))"
      ],
      "metadata": {
        "colab": {
          "base_uri": "https://localhost:8080/"
        },
        "id": "902R8jCySeqD",
        "outputId": "6b7588bd-5ce8-40ec-dc64-51d1085edb67"
      },
      "execution_count": 11,
      "outputs": [
        {
          "output_type": "execute_result",
          "data": {
            "text/plain": [
              "array([[[1., 0.],\n",
              "        [1., 0.],\n",
              "        [1., 0.],\n",
              "        [1., 0.]],\n",
              "\n",
              "       [[1., 0.],\n",
              "        [1., 0.],\n",
              "        [1., 0.],\n",
              "        [1., 0.]],\n",
              "\n",
              "       [[1., 0.],\n",
              "        [1., 0.],\n",
              "        [1., 0.],\n",
              "        [1., 0.]]])"
            ]
          },
          "metadata": {},
          "execution_count": 11
        }
      ]
    },
    {
      "cell_type": "code",
      "source": [
        "# c = stack([c1, c2])\n",
        "c = np.stack([c1, c2], axis=-1)\n",
        "c"
      ],
      "metadata": {
        "colab": {
          "base_uri": "https://localhost:8080/"
        },
        "id": "x_xi7KEESyJr",
        "outputId": "6fdc5a05-0137-43f5-d9bf-6d6b2cf40d43"
      },
      "execution_count": 14,
      "outputs": [
        {
          "output_type": "execute_result",
          "data": {
            "text/plain": [
              "array([[[1., 0.],\n",
              "        [1., 0.],\n",
              "        [1., 0.],\n",
              "        [1., 0.]],\n",
              "\n",
              "       [[1., 0.],\n",
              "        [1., 0.],\n",
              "        [1., 0.],\n",
              "        [1., 0.]],\n",
              "\n",
              "       [[1., 0.],\n",
              "        [1., 0.],\n",
              "        [1., 0.],\n",
              "        [1., 0.]]])"
            ]
          },
          "metadata": {},
          "execution_count": 14
        }
      ]
    },
    {
      "cell_type": "code",
      "source": [
        "np.stack([c1, c2], axis=1)#열 기준"
      ],
      "metadata": {
        "colab": {
          "base_uri": "https://localhost:8080/"
        },
        "id": "uCcWMY-xSbJh",
        "outputId": "3b3e0e0f-02b0-4184-8ecd-022b3c6a1768"
      },
      "execution_count": 13,
      "outputs": [
        {
          "output_type": "execute_result",
          "data": {
            "text/plain": [
              "array([[[1., 1., 1., 1.],\n",
              "        [0., 0., 0., 0.]],\n",
              "\n",
              "       [[1., 1., 1., 1.],\n",
              "        [0., 0., 0., 0.]],\n",
              "\n",
              "       [[1., 1., 1., 1.],\n",
              "        [0., 0., 0., 0.]]])"
            ]
          },
          "metadata": {},
          "execution_count": 13
        }
      ]
    },
    {
      "cell_type": "code",
      "source": [
        "np.stack([c1, c2], axis=0)"
      ],
      "metadata": {
        "colab": {
          "base_uri": "https://localhost:8080/"
        },
        "id": "vj_Ee0XrR2hO",
        "outputId": "bc4ce716-99d3-48c8-ad2d-719397de9628"
      },
      "execution_count": 16,
      "outputs": [
        {
          "output_type": "execute_result",
          "data": {
            "text/plain": [
              "array([[[1., 1., 1., 1.],\n",
              "        [1., 1., 1., 1.],\n",
              "        [1., 1., 1., 1.]],\n",
              "\n",
              "       [[0., 0., 0., 0.],\n",
              "        [0., 0., 0., 0.],\n",
              "        [0., 0., 0., 0.]]])"
            ]
          },
          "metadata": {},
          "execution_count": 16
        }
      ]
    },
    {
      "cell_type": "code",
      "source": [
        "# r_ -> hstack\n",
        "np.r_[np.arange(1, 4), np.arange(4, 7)]"
      ],
      "metadata": {
        "colab": {
          "base_uri": "https://localhost:8080/"
        },
        "id": "8FuufQiOUFqe",
        "outputId": "27ef2bb9-1038-43cf-d05d-ec1f2bc4e25b"
      },
      "execution_count": 18,
      "outputs": [
        {
          "output_type": "execute_result",
          "data": {
            "text/plain": [
              "array([1, 2, 3, 4, 5, 6])"
            ]
          },
          "metadata": {},
          "execution_count": 18
        }
      ]
    },
    {
      "cell_type": "code",
      "source": [
        "np.r_[np.arange(1, 4), np.arange(4, 7), np.arange(4, 7)]"
      ],
      "metadata": {
        "colab": {
          "base_uri": "https://localhost:8080/"
        },
        "id": "3IvsOazyUNJ0",
        "outputId": "0c4eeb8b-3ef4-4747-b8bb-e1519a735334"
      },
      "execution_count": 19,
      "outputs": [
        {
          "output_type": "execute_result",
          "data": {
            "text/plain": [
              "array([1, 2, 3, 4, 5, 6, 4, 5, 6])"
            ]
          },
          "metadata": {},
          "execution_count": 19
        }
      ]
    },
    {
      "cell_type": "code",
      "source": [
        "np.concatenate((np.arange(1, 4)[:, np.newaxis], np.arange(4, 7)[:, np.newaxis]), axis=1)"
      ],
      "metadata": {
        "colab": {
          "base_uri": "https://localhost:8080/"
        },
        "id": "lJlhxW_SUbRL",
        "outputId": "aaea9c6c-d348-40d5-f679-94592e0147a9"
      },
      "execution_count": 24,
      "outputs": [
        {
          "output_type": "execute_result",
          "data": {
            "text/plain": [
              "array([[1, 4],\n",
              "       [2, 5],\n",
              "       [3, 6]])"
            ]
          },
          "metadata": {},
          "execution_count": 24
        }
      ]
    },
    {
      "cell_type": "code",
      "source": [
        "a = np.arange(6).reshape(2, -1)\n",
        "print(np.tile(a, 3))\n",
        "print(np.repeat(a, (3)))"
      ],
      "metadata": {
        "colab": {
          "base_uri": "https://localhost:8080/"
        },
        "id": "8wcJynNAU_nZ",
        "outputId": "57ed64ce-f2e4-4a14-a6d4-8ae9dac93c9a"
      },
      "execution_count": 27,
      "outputs": [
        {
          "output_type": "stream",
          "name": "stdout",
          "text": [
            "[[0 1 2 0 1 2 0 1 2]\n",
            " [3 4 5 3 4 5 3 4 5]]\n",
            "[0 0 0 1 1 1 2 2 2 3 3 3 4 4 4 5 5 5]\n"
          ]
        }
      ]
    },
    {
      "cell_type": "code",
      "source": [
        "arr = np.arange(7)\n",
        "arr"
      ],
      "metadata": {
        "colab": {
          "base_uri": "https://localhost:8080/"
        },
        "id": "4DWKnekqVho6",
        "outputId": "31668e13-2f26-4e87-bcd0-fc4b814c73ae"
      },
      "execution_count": 29,
      "outputs": [
        {
          "output_type": "execute_result",
          "data": {
            "text/plain": [
              "array([0, 1, 2, 3, 4, 5, 6])"
            ]
          },
          "metadata": {},
          "execution_count": 29
        }
      ]
    },
    {
      "cell_type": "code",
      "source": [
        "np.array_split(arr, 3)"
      ],
      "metadata": {
        "colab": {
          "base_uri": "https://localhost:8080/"
        },
        "id": "hD2MFiOZVOKZ",
        "outputId": "3d3cae08-a344-442c-cfda-ee5cd6fb27dd"
      },
      "execution_count": 30,
      "outputs": [
        {
          "output_type": "execute_result",
          "data": {
            "text/plain": [
              "[array([0, 1, 2]), array([3, 4]), array([5, 6])]"
            ]
          },
          "metadata": {},
          "execution_count": 30
        }
      ]
    },
    {
      "cell_type": "code",
      "source": [
        "arr = np.arange(6)\n",
        "np.split(arr, 3) #array_split -> 되는대로 3등분, split: 엄격하게 약수로 맞게 입력해야 쪼개줌"
      ],
      "metadata": {
        "colab": {
          "base_uri": "https://localhost:8080/"
        },
        "id": "FKZ9_-eJU6sk",
        "outputId": "db1e90a9-b5b2-40cb-b5bb-4904f31aa24a"
      },
      "execution_count": 32,
      "outputs": [
        {
          "output_type": "execute_result",
          "data": {
            "text/plain": [
              "[array([0, 1]), array([2, 3]), array([4, 5])]"
            ]
          },
          "metadata": {},
          "execution_count": 32
        }
      ]
    },
    {
      "cell_type": "code",
      "source": [
        "arr = np.arange(1, 19).reshape(-1, 3)\n",
        "arr"
      ],
      "metadata": {
        "colab": {
          "base_uri": "https://localhost:8080/"
        },
        "id": "JQkVdTGnV4iL",
        "outputId": "362cacbe-659e-492d-9208-f518ea72ab5c"
      },
      "execution_count": 33,
      "outputs": [
        {
          "output_type": "execute_result",
          "data": {
            "text/plain": [
              "array([[ 1,  2,  3],\n",
              "       [ 4,  5,  6],\n",
              "       [ 7,  8,  9],\n",
              "       [10, 11, 12],\n",
              "       [13, 14, 15],\n",
              "       [16, 17, 18]])"
            ]
          },
          "metadata": {},
          "execution_count": 33
        }
      ]
    },
    {
      "cell_type": "code",
      "source": [
        "np.array_split(arr, 3, axis=1)"
      ],
      "metadata": {
        "colab": {
          "base_uri": "https://localhost:8080/"
        },
        "id": "WZRxVsLyWBi7",
        "outputId": "73aab5df-b0c2-4ad9-babb-aab4245c6dd5"
      },
      "execution_count": 35,
      "outputs": [
        {
          "output_type": "execute_result",
          "data": {
            "text/plain": [
              "[array([[ 1],\n",
              "        [ 4],\n",
              "        [ 7],\n",
              "        [10],\n",
              "        [13],\n",
              "        [16]]), array([[ 2],\n",
              "        [ 5],\n",
              "        [ 8],\n",
              "        [11],\n",
              "        [14],\n",
              "        [17]]), array([[ 3],\n",
              "        [ 6],\n",
              "        [ 9],\n",
              "        [12],\n",
              "        [15],\n",
              "        [18]])]"
            ]
          },
          "metadata": {},
          "execution_count": 35
        }
      ]
    },
    {
      "cell_type": "markdown",
      "source": [
        "## 브로드 캐스팅"
      ],
      "metadata": {
        "id": "iFVfFP3BWyz0"
      }
    },
    {
      "cell_type": "code",
      "source": [
        "# 브로드캐스팅 : 크기가 작은 배열을 자동으로 반복 확장하여 크기가 큰 배열에 맞추는 방법\n",
        "x = np.arange(5)\n",
        "x + 1"
      ],
      "metadata": {
        "colab": {
          "base_uri": "https://localhost:8080/"
        },
        "id": "vKUdtgx6WHc9",
        "outputId": "729bb125-3e3d-4dd3-c562-10a61027eb78"
      },
      "execution_count": 36,
      "outputs": [
        {
          "output_type": "execute_result",
          "data": {
            "text/plain": [
              "array([1, 2, 3, 4, 5])"
            ]
          },
          "metadata": {},
          "execution_count": 36
        }
      ]
    },
    {
      "cell_type": "code",
      "source": [
        "x + np.ones_like(x) * 1"
      ],
      "metadata": {
        "colab": {
          "base_uri": "https://localhost:8080/"
        },
        "id": "NOIeQB50WH0d",
        "outputId": "94f273dc-8139-4082-831f-6040985abb53"
      },
      "execution_count": 40,
      "outputs": [
        {
          "output_type": "execute_result",
          "data": {
            "text/plain": [
              "array([1, 2, 3, 4, 5])"
            ]
          },
          "metadata": {},
          "execution_count": 40
        }
      ]
    },
    {
      "cell_type": "code",
      "source": [
        "x + 10"
      ],
      "metadata": {
        "colab": {
          "base_uri": "https://localhost:8080/"
        },
        "id": "k7hJxIAlW4Mv",
        "outputId": "042c8eef-e59b-4d02-c7d9-ceb5f9d47832"
      },
      "execution_count": 41,
      "outputs": [
        {
          "output_type": "execute_result",
          "data": {
            "text/plain": [
              "array([10, 11, 12, 13, 14])"
            ]
          },
          "metadata": {},
          "execution_count": 41
        }
      ]
    },
    {
      "cell_type": "code",
      "source": [
        "np.ones_like(x) * 10"
      ],
      "metadata": {
        "colab": {
          "base_uri": "https://localhost:8080/"
        },
        "id": "qZza1TBAWIEW",
        "outputId": "fdb71783-2c9a-4394-f187-54c485853049"
      },
      "execution_count": 42,
      "outputs": [
        {
          "output_type": "execute_result",
          "data": {
            "text/plain": [
              "array([10, 10, 10, 10, 10])"
            ]
          },
          "metadata": {},
          "execution_count": 42
        }
      ]
    },
    {
      "cell_type": "code",
      "source": [
        "x+ np.full_like(x, 10)"
      ],
      "metadata": {
        "colab": {
          "base_uri": "https://localhost:8080/"
        },
        "id": "I_YxY2ZQWIVm",
        "outputId": "247d960e-90ad-41fa-9452-a13037165170"
      },
      "execution_count": 43,
      "outputs": [
        {
          "output_type": "execute_result",
          "data": {
            "text/plain": [
              "array([10, 11, 12, 13, 14])"
            ]
          },
          "metadata": {},
          "execution_count": 43
        }
      ]
    },
    {
      "cell_type": "code",
      "source": [
        "x = np.vstack([range(7)[i:i+3] for i in range(5)])\n",
        "x"
      ],
      "metadata": {
        "colab": {
          "base_uri": "https://localhost:8080/"
        },
        "id": "p4XoKhw6WI8b",
        "outputId": "e8147504-4ba9-424a-fb64-62944e98ce41"
      },
      "execution_count": 64,
      "outputs": [
        {
          "output_type": "execute_result",
          "data": {
            "text/plain": [
              "array([[0, 1, 2],\n",
              "       [1, 2, 3],\n",
              "       [2, 3, 4],\n",
              "       [3, 4, 5],\n",
              "       [4, 5, 6]])"
            ]
          },
          "metadata": {},
          "execution_count": 64
        }
      ]
    },
    {
      "cell_type": "code",
      "source": [
        "y = np.arange(5).reshape(-1, 1)\n",
        "y"
      ],
      "metadata": {
        "colab": {
          "base_uri": "https://localhost:8080/"
        },
        "id": "23lMofu7XTkL",
        "outputId": "1186599b-47a8-4567-878c-9d01846def1d"
      },
      "execution_count": 46,
      "outputs": [
        {
          "output_type": "execute_result",
          "data": {
            "text/plain": [
              "array([[0],\n",
              "       [1],\n",
              "       [2],\n",
              "       [3],\n",
              "       [4]])"
            ]
          },
          "metadata": {},
          "execution_count": 46
        }
      ]
    },
    {
      "cell_type": "code",
      "source": [
        "x + y"
      ],
      "metadata": {
        "colab": {
          "base_uri": "https://localhost:8080/"
        },
        "id": "8FtoYg2KXX5y",
        "outputId": "10877f24-2483-4647-a82c-9eb7c363537e"
      },
      "execution_count": 47,
      "outputs": [
        {
          "output_type": "execute_result",
          "data": {
            "text/plain": [
              "array([[ 0,  1,  2],\n",
              "       [ 2,  3,  4],\n",
              "       [ 4,  5,  6],\n",
              "       [ 6,  7,  8],\n",
              "       [ 8,  9, 10]])"
            ]
          },
          "metadata": {},
          "execution_count": 47
        }
      ]
    },
    {
      "cell_type": "code",
      "source": [
        "x = np.arange(1, 5)"
      ],
      "metadata": {
        "id": "X2VDwEtHXaxD"
      },
      "execution_count": 49,
      "outputs": []
    },
    {
      "cell_type": "code",
      "source": [
        "np.sum(x)"
      ],
      "metadata": {
        "colab": {
          "base_uri": "https://localhost:8080/"
        },
        "id": "qfBvFBG7Xa4S",
        "outputId": "c9ca4c82-6c16-4103-9572-712622b9d909"
      },
      "execution_count": 50,
      "outputs": [
        {
          "output_type": "execute_result",
          "data": {
            "text/plain": [
              "10"
            ]
          },
          "metadata": {},
          "execution_count": 50
        }
      ]
    },
    {
      "cell_type": "code",
      "source": [
        "x.min()"
      ],
      "metadata": {
        "colab": {
          "base_uri": "https://localhost:8080/"
        },
        "id": "UjGFkgYOXa-p",
        "outputId": "645e2ae7-00e7-4fec-8247-a8c136c36d06"
      },
      "execution_count": 51,
      "outputs": [
        {
          "output_type": "execute_result",
          "data": {
            "text/plain": [
              "1"
            ]
          },
          "metadata": {},
          "execution_count": 51
        }
      ]
    },
    {
      "cell_type": "code",
      "source": [
        "x.argmin(), x.argmax()"
      ],
      "metadata": {
        "colab": {
          "base_uri": "https://localhost:8080/"
        },
        "id": "tdGpj6PuXbF4",
        "outputId": "7373a8db-7b96-4c5c-bc46-7db44c2db392"
      },
      "execution_count": 54,
      "outputs": [
        {
          "output_type": "execute_result",
          "data": {
            "text/plain": [
              "(0, 3)"
            ]
          },
          "metadata": {},
          "execution_count": 54
        }
      ]
    },
    {
      "cell_type": "code",
      "source": [
        "x.mean()"
      ],
      "metadata": {
        "colab": {
          "base_uri": "https://localhost:8080/"
        },
        "id": "TGDvXBE5XbMp",
        "outputId": "c80e1924-4367-414f-d1c7-e8d2d96ccd14"
      },
      "execution_count": 55,
      "outputs": [
        {
          "output_type": "execute_result",
          "data": {
            "text/plain": [
              "2.5"
            ]
          },
          "metadata": {},
          "execution_count": 55
        }
      ]
    },
    {
      "cell_type": "code",
      "source": [
        "np.median(x)"
      ],
      "metadata": {
        "colab": {
          "base_uri": "https://localhost:8080/"
        },
        "id": "QaDkEicQXbUH",
        "outputId": "115aa9a8-004f-49d5-c0fe-110c7d217508"
      },
      "execution_count": 58,
      "outputs": [
        {
          "output_type": "execute_result",
          "data": {
            "text/plain": [
              "2.5"
            ]
          },
          "metadata": {},
          "execution_count": 58
        }
      ]
    },
    {
      "cell_type": "code",
      "source": [
        "np.any(x > 4), np.any(x > 2)"
      ],
      "metadata": {
        "colab": {
          "base_uri": "https://localhost:8080/"
        },
        "id": "3f9Ak0nAXbbE",
        "outputId": "39032cec-bd95-47e8-ddb2-d0d01cc7dd9f"
      },
      "execution_count": 59,
      "outputs": [
        {
          "output_type": "execute_result",
          "data": {
            "text/plain": [
              "(False, True)"
            ]
          },
          "metadata": {},
          "execution_count": 59
        }
      ]
    },
    {
      "cell_type": "code",
      "source": [
        "np.all(x > 4), np.all(x > 2), np.all(x >= 0)"
      ],
      "metadata": {
        "colab": {
          "base_uri": "https://localhost:8080/"
        },
        "id": "sHvvXcXrXbh_",
        "outputId": "87b55396-89f1-4042-d99b-6fa12c0cdb5d"
      },
      "execution_count": 60,
      "outputs": [
        {
          "output_type": "execute_result",
          "data": {
            "text/plain": [
              "(False, False, True)"
            ]
          },
          "metadata": {},
          "execution_count": 60
        }
      ]
    },
    {
      "cell_type": "code",
      "source": [
        "x.sum(axis=0) # 행 내부의 있는 열들간의 연산, 행의 대푯값(axis=0)"
      ],
      "metadata": {
        "colab": {
          "base_uri": "https://localhost:8080/"
        },
        "id": "Rqi9eBZ3Xbo2",
        "outputId": "1ad8b615-d31b-4a02-bed4-97853d86e908"
      },
      "execution_count": 66,
      "outputs": [
        {
          "output_type": "execute_result",
          "data": {
            "text/plain": [
              "array([10, 15, 20])"
            ]
          },
          "metadata": {},
          "execution_count": 66
        }
      ]
    },
    {
      "cell_type": "code",
      "source": [
        "x.sum(axis=1)# 열 내부의 있는 행들간의 연산, 열의 대푯값(axis=0)"
      ],
      "metadata": {
        "colab": {
          "base_uri": "https://localhost:8080/"
        },
        "id": "euLVlN7BXbv4",
        "outputId": "940585bf-2c76-47c0-9c33-4aaab50e1b8f"
      },
      "execution_count": 65,
      "outputs": [
        {
          "output_type": "execute_result",
          "data": {
            "text/plain": [
              "array([ 3,  6,  9, 12, 15])"
            ]
          },
          "metadata": {},
          "execution_count": 65
        }
      ]
    },
    {
      "cell_type": "code",
      "source": [
        "a = np.random.randint(1, 20, 12).reshape(3, -1)\n",
        "a"
      ],
      "metadata": {
        "colab": {
          "base_uri": "https://localhost:8080/"
        },
        "id": "NgotpGX9Xb2p",
        "outputId": "aff0273c-10e5-41ec-9988-39b2b931eb51"
      },
      "execution_count": 92,
      "outputs": [
        {
          "output_type": "execute_result",
          "data": {
            "text/plain": [
              "array([[ 1,  1,  5, 15],\n",
              "       [11, 11,  5, 14],\n",
              "       [ 6, 17,  8,  9]])"
            ]
          },
          "metadata": {},
          "execution_count": 92
        }
      ]
    },
    {
      "cell_type": "code",
      "source": [
        "np.sort(a)\n",
        "np.sort(a, axis=1)# 행 정리\n",
        "# a.sum(axis=0)\n"
      ],
      "metadata": {
        "colab": {
          "base_uri": "https://localhost:8080/"
        },
        "id": "7TAr4zutXb9T",
        "outputId": "9f76c698-ee5e-4053-d5a7-d88d6e0505cc"
      },
      "execution_count": 95,
      "outputs": [
        {
          "output_type": "execute_result",
          "data": {
            "text/plain": [
              "array([[ 1,  1,  5, 15],\n",
              "       [ 5, 11, 11, 14],\n",
              "       [ 6,  8,  9, 17]])"
            ]
          },
          "metadata": {},
          "execution_count": 95
        }
      ]
    },
    {
      "cell_type": "code",
      "source": [
        "np.sort(a, axis=0)# 열 정리"
      ],
      "metadata": {
        "colab": {
          "base_uri": "https://localhost:8080/"
        },
        "id": "c17-iO6MZINZ",
        "outputId": "1e0f4f87-d62e-4349-c3f7-556de8690963"
      },
      "execution_count": 78,
      "outputs": [
        {
          "output_type": "execute_result",
          "data": {
            "text/plain": [
              "array([[ 7,  8,  8,  1],\n",
              "       [ 8, 11, 18,  2],\n",
              "       [16, 18, 19,  9]])"
            ]
          },
          "metadata": {},
          "execution_count": 78
        }
      ]
    },
    {
      "cell_type": "code",
      "source": [
        "np.argsort(a)"
      ],
      "metadata": {
        "colab": {
          "base_uri": "https://localhost:8080/"
        },
        "id": "ozknpBVrZyoU",
        "outputId": "991fc643-8a97-44d1-8752-c88f66fdfa5b"
      },
      "execution_count": 81,
      "outputs": [
        {
          "output_type": "execute_result",
          "data": {
            "text/plain": [
              "array([[0, 2, 3, 1],\n",
              "       [3, 0, 1, 2],\n",
              "       [3, 1, 0, 2]])"
            ]
          },
          "metadata": {},
          "execution_count": 81
        }
      ]
    },
    {
      "cell_type": "code",
      "source": [
        "np.argsort(a, axis=0)"
      ],
      "metadata": {
        "colab": {
          "base_uri": "https://localhost:8080/"
        },
        "id": "gTx6UsVlaFD4",
        "outputId": "61a96fe9-d1fe-4373-c79f-f1c7d5358982"
      },
      "execution_count": 83,
      "outputs": [
        {
          "output_type": "execute_result",
          "data": {
            "text/plain": [
              "array([[0, 2, 0, 2],\n",
              "       [1, 1, 2, 1],\n",
              "       [2, 0, 1, 0]])"
            ]
          },
          "metadata": {},
          "execution_count": 83
        }
      ]
    },
    {
      "cell_type": "code",
      "source": [
        "np.argsort(a, axis=1)"
      ],
      "metadata": {
        "colab": {
          "base_uri": "https://localhost:8080/"
        },
        "id": "AUN3kNvCaII1",
        "outputId": "859feb9d-c86b-4151-edb1-8657cff0f151"
      },
      "execution_count": 96,
      "outputs": [
        {
          "output_type": "execute_result",
          "data": {
            "text/plain": [
              "array([[0, 1, 2, 3],\n",
              "       [2, 0, 1, 3],\n",
              "       [0, 2, 3, 1]])"
            ]
          },
          "metadata": {},
          "execution_count": 96
        }
      ]
    },
    {
      "cell_type": "code",
      "source": [
        "x = np.random.randint(1, 100, 12).reshape(3, -1)\n",
        "x"
      ],
      "metadata": {
        "colab": {
          "base_uri": "https://localhost:8080/"
        },
        "id": "yr8Z_alcemMf",
        "outputId": "6bb406a8-c0e1-4fec-fd78-1b26a4b4d994"
      },
      "execution_count": 98,
      "outputs": [
        {
          "output_type": "execute_result",
          "data": {
            "text/plain": [
              "array([[ 8, 62, 74, 13],\n",
              "       [ 2, 76, 21, 25],\n",
              "       [96, 81,  6, 94]])"
            ]
          },
          "metadata": {},
          "execution_count": 98
        }
      ]
    },
    {
      "cell_type": "code",
      "source": [
        "x[:, np.argsort(x[1])]"
      ],
      "metadata": {
        "colab": {
          "base_uri": "https://localhost:8080/"
        },
        "id": "nN9IaBRlegQ3",
        "outputId": "bcd97ae7-ae7f-4c5b-9e5c-d1a82a3310e5"
      },
      "execution_count": 100,
      "outputs": [
        {
          "output_type": "execute_result",
          "data": {
            "text/plain": [
              "array([[ 8, 74, 13, 62],\n",
              "       [ 2, 21, 25, 76],\n",
              "       [96,  6, 94, 81]])"
            ]
          },
          "metadata": {},
          "execution_count": 100
        }
      ]
    },
    {
      "cell_type": "code",
      "source": [
        "x = np.random.randint(-30, 30, 30)\n",
        "x"
      ],
      "metadata": {
        "colab": {
          "base_uri": "https://localhost:8080/"
        },
        "id": "u0VDKvLCe1tU",
        "outputId": "906994fd-df3d-4c47-f9f2-fd213f1633ab"
      },
      "execution_count": 103,
      "outputs": [
        {
          "output_type": "execute_result",
          "data": {
            "text/plain": [
              "array([ 26,  -4,  -4,  14,  -9,  23,  22, -16,  14, -24, -26,  25,  25,\n",
              "       -24, -26,   1, -20, -27, -18,  -1, -29,  -8, -24,  21,   8,  21,\n",
              "        23,  10, -18, -23])"
            ]
          },
          "metadata": {},
          "execution_count": 103
        }
      ]
    },
    {
      "cell_type": "code",
      "source": [
        "np.mean(x), x.mean()"
      ],
      "metadata": {
        "colab": {
          "base_uri": "https://localhost:8080/"
        },
        "id": "MTTLnqT5e-cX",
        "outputId": "d1ee826e-cd98-4078-d232-8fe0b8c89f74"
      },
      "execution_count": 104,
      "outputs": [
        {
          "output_type": "execute_result",
          "data": {
            "text/plain": [
              "(-2.2666666666666666, -2.2666666666666666)"
            ]
          },
          "metadata": {},
          "execution_count": 104
        }
      ]
    },
    {
      "cell_type": "code",
      "source": [
        "np.var(x)"
      ],
      "metadata": {
        "colab": {
          "base_uri": "https://localhost:8080/"
        },
        "id": "b6CW6jEVfCQi",
        "outputId": "91b1b6b3-cbc9-4d9a-d7ef-4df4f49adae7"
      },
      "execution_count": 106,
      "outputs": [
        {
          "output_type": "execute_result",
          "data": {
            "text/plain": [
              "380.4622222222223"
            ]
          },
          "metadata": {},
          "execution_count": 106
        }
      ]
    },
    {
      "cell_type": "code",
      "source": [
        "np.std(x), x.std()"
      ],
      "metadata": {
        "colab": {
          "base_uri": "https://localhost:8080/"
        },
        "id": "BunSv5GzfGMk",
        "outputId": "d582e76f-43f8-42ef-9a25-04cdaa24c198"
      },
      "execution_count": 109,
      "outputs": [
        {
          "output_type": "execute_result",
          "data": {
            "text/plain": [
              "(19.50544083639799, 19.50544083639799)"
            ]
          },
          "metadata": {},
          "execution_count": 109
        }
      ]
    },
    {
      "cell_type": "code",
      "source": [
        "np.max(x), np.min(x)"
      ],
      "metadata": {
        "colab": {
          "base_uri": "https://localhost:8080/"
        },
        "id": "n2Tlhm-ZfGiz",
        "outputId": "02afb920-8b29-4c15-d415-895d8c183b1d"
      },
      "execution_count": 108,
      "outputs": [
        {
          "output_type": "execute_result",
          "data": {
            "text/plain": [
              "(26, -29)"
            ]
          },
          "metadata": {},
          "execution_count": 108
        }
      ]
    },
    {
      "cell_type": "code",
      "source": [
        "np.median(x)"
      ],
      "metadata": {
        "colab": {
          "base_uri": "https://localhost:8080/"
        },
        "id": "VtKgbRVgfGyI",
        "outputId": "2ec47138-2caa-409a-fb7b-23cd3fbf08e9"
      },
      "execution_count": 111,
      "outputs": [
        {
          "output_type": "execute_result",
          "data": {
            "text/plain": [
              "-4.0"
            ]
          },
          "metadata": {},
          "execution_count": 111
        }
      ]
    },
    {
      "cell_type": "code",
      "source": [
        "np.quantile(x, 0), np.percentile(x, 0)"
      ],
      "metadata": {
        "colab": {
          "base_uri": "https://localhost:8080/"
        },
        "id": "NQt9ovsAfibS",
        "outputId": "e276b439-0b7a-48c6-94e4-907899f3092f"
      },
      "execution_count": 115,
      "outputs": [
        {
          "output_type": "execute_result",
          "data": {
            "text/plain": [
              "(-29, -29.0)"
            ]
          },
          "metadata": {},
          "execution_count": 115
        }
      ]
    },
    {
      "cell_type": "code",
      "source": [
        "np.quantile(x, 1/4), np.percentile(x, 25)"
      ],
      "metadata": {
        "colab": {
          "base_uri": "https://localhost:8080/"
        },
        "id": "P44pJgYmfmpc",
        "outputId": "c060de20-c85e-4f0d-be53-224eaed2a91f"
      },
      "execution_count": 121,
      "outputs": [
        {
          "output_type": "execute_result",
          "data": {
            "text/plain": [
              "(-22.25, -22.25)"
            ]
          },
          "metadata": {},
          "execution_count": 121
        }
      ]
    },
    {
      "cell_type": "code",
      "source": [
        "np.quantile(x, 4/4), np.percentile(x, 100)"
      ],
      "metadata": {
        "colab": {
          "base_uri": "https://localhost:8080/"
        },
        "id": "Povox3w3gR_J",
        "outputId": "5537da18-bedc-4983-f50d-5e2d9e089bfa"
      },
      "execution_count": 122,
      "outputs": [
        {
          "output_type": "execute_result",
          "data": {
            "text/plain": [
              "(26.0, 26.0)"
            ]
          },
          "metadata": {},
          "execution_count": 122
        }
      ]
    },
    {
      "cell_type": "code",
      "source": [
        "np.random.seed(10)"
      ],
      "metadata": {
        "id": "OnZYM8iWgl8A"
      },
      "execution_count": 125,
      "outputs": []
    },
    {
      "cell_type": "code",
      "source": [
        "x = np.random.rand(5)\n",
        "x"
      ],
      "metadata": {
        "colab": {
          "base_uri": "https://localhost:8080/"
        },
        "id": "cG5apcruggq8",
        "outputId": "ccc26b09-bba1-487b-9eb6-6128228cdcd8"
      },
      "execution_count": 127,
      "outputs": [
        {
          "output_type": "execute_result",
          "data": {
            "text/plain": [
              "array([0.22479665, 0.19806286, 0.76053071, 0.16911084, 0.08833981])"
            ]
          },
          "metadata": {},
          "execution_count": 127
        }
      ]
    },
    {
      "cell_type": "code",
      "source": [
        "x = np.arange(10)\n",
        "x"
      ],
      "metadata": {
        "colab": {
          "base_uri": "https://localhost:8080/"
        },
        "id": "OpgIItd_gr3B",
        "outputId": "1289cba6-5b87-452c-f0e1-4c1dbe1a1cc1"
      },
      "execution_count": 128,
      "outputs": [
        {
          "output_type": "execute_result",
          "data": {
            "text/plain": [
              "array([0, 1, 2, 3, 4, 5, 6, 7, 8, 9])"
            ]
          },
          "metadata": {},
          "execution_count": 128
        }
      ]
    },
    {
      "cell_type": "code",
      "source": [
        "np.random.shuffle(x)"
      ],
      "metadata": {
        "id": "gQXQkcr-gu3q"
      },
      "execution_count": 132,
      "outputs": []
    },
    {
      "cell_type": "code",
      "source": [
        "x"
      ],
      "metadata": {
        "colab": {
          "base_uri": "https://localhost:8080/"
        },
        "id": "EJiyNWkRg1N0",
        "outputId": "956cb908-3648-4e43-8ab3-6ee33dd91d31"
      },
      "execution_count": 133,
      "outputs": [
        {
          "output_type": "execute_result",
          "data": {
            "text/plain": [
              "array([1, 0, 8, 2, 5, 4, 9, 7, 3, 6])"
            ]
          },
          "metadata": {},
          "execution_count": 133
        }
      ]
    },
    {
      "cell_type": "code",
      "source": [
        "np.random.choice(x, 5, replace=False)"
      ],
      "metadata": {
        "colab": {
          "base_uri": "https://localhost:8080/"
        },
        "id": "WfhUsrmkg1wU",
        "outputId": "35504ce6-b565-4b5f-9e8d-ca221978db35"
      },
      "execution_count": 134,
      "outputs": [
        {
          "output_type": "execute_result",
          "data": {
            "text/plain": [
              "array([8, 1, 6, 4, 5])"
            ]
          },
          "metadata": {},
          "execution_count": 134
        }
      ]
    },
    {
      "cell_type": "code",
      "source": [
        "np.random.choice(5, 5, replace=False)"
      ],
      "metadata": {
        "colab": {
          "base_uri": "https://localhost:8080/"
        },
        "id": "F5FkDKGng8g2",
        "outputId": "93d624fb-01a6-4b05-e1d2-5cab6fca88cc"
      },
      "execution_count": 135,
      "outputs": [
        {
          "output_type": "execute_result",
          "data": {
            "text/plain": [
              "array([0, 4, 1, 2, 3])"
            ]
          },
          "metadata": {},
          "execution_count": 135
        }
      ]
    },
    {
      "cell_type": "code",
      "source": [
        "np.random.choice(np.arange(1, 45), 6, replace=False)"
      ],
      "metadata": {
        "colab": {
          "base_uri": "https://localhost:8080/"
        },
        "id": "cp6UvkE8g8xU",
        "outputId": "043f154b-0e4c-411c-82be-c825f723e791"
      },
      "execution_count": 136,
      "outputs": [
        {
          "output_type": "execute_result",
          "data": {
            "text/plain": [
              "array([ 4, 34, 39, 37, 26, 40])"
            ]
          },
          "metadata": {},
          "execution_count": 136
        }
      ]
    },
    {
      "cell_type": "code",
      "source": [
        "np.random.choice(np.arange(1, 7), 6)\n",
        "np.random.choice(np.arange(1, 7), 6, replace=True)\n"
      ],
      "metadata": {
        "colab": {
          "base_uri": "https://localhost:8080/"
        },
        "id": "3Z4FF6Q7hK2P",
        "outputId": "38015659-6494-4330-a796-7e078940cfea"
      },
      "execution_count": 138,
      "outputs": [
        {
          "output_type": "execute_result",
          "data": {
            "text/plain": [
              "array([1, 4, 4, 2, 3, 6])"
            ]
          },
          "metadata": {},
          "execution_count": 138
        }
      ]
    },
    {
      "cell_type": "code",
      "source": [
        "np.random.choice(np.arange(1, 7), 6, p=[0, 0, 0.6, 0.2, 0.2, 0])"
      ],
      "metadata": {
        "colab": {
          "base_uri": "https://localhost:8080/"
        },
        "id": "a2ZYuXsJheXy",
        "outputId": "045bb8e7-9194-4123-9738-ffa08a2a9225"
      },
      "execution_count": 141,
      "outputs": [
        {
          "output_type": "execute_result",
          "data": {
            "text/plain": [
              "array([3, 4, 5, 3, 4, 3])"
            ]
          },
          "metadata": {},
          "execution_count": 141
        }
      ]
    },
    {
      "cell_type": "code",
      "source": [
        "np.random.randn(10)"
      ],
      "metadata": {
        "colab": {
          "base_uri": "https://localhost:8080/"
        },
        "id": "WZnbfkfyhy9e",
        "outputId": "c2446853-dd98-40bc-b189-0d9b67d0f911"
      },
      "execution_count": 142,
      "outputs": [
        {
          "output_type": "execute_result",
          "data": {
            "text/plain": [
              "array([-0.56543268,  0.00785023, -1.12679091,  1.513816  , -0.60729449,\n",
              "        0.4183223 ,  0.98655675, -0.30135904, -0.01763348,  0.5991161 ])"
            ]
          },
          "metadata": {},
          "execution_count": 142
        }
      ]
    },
    {
      "cell_type": "code",
      "source": [
        "np.random.randn(3, 5)"
      ],
      "metadata": {
        "colab": {
          "base_uri": "https://localhost:8080/"
        },
        "id": "tUH_wNwph64B",
        "outputId": "e5ad9751-78ee-4815-9b6f-3232e552983c"
      },
      "execution_count": 144,
      "outputs": [
        {
          "output_type": "execute_result",
          "data": {
            "text/plain": [
              "array([[-0.30260529, -0.74546586, -0.12852298,  1.24799151,  1.06226014],\n",
              "       [-1.62863338,  0.11242771, -0.99150251,  0.67879534,  0.40970681],\n",
              "       [-0.48951405, -0.00982034, -1.32018186,  0.42574122,  0.46648588]])"
            ]
          },
          "metadata": {},
          "execution_count": 144
        }
      ]
    },
    {
      "cell_type": "code",
      "source": [
        "np.random.randint(1, 10)"
      ],
      "metadata": {
        "colab": {
          "base_uri": "https://localhost:8080/"
        },
        "id": "tU_1BNNBh8A3",
        "outputId": "c12ca2cf-6016-4ce8-82ad-ebe9816ca4fd"
      },
      "execution_count": 145,
      "outputs": [
        {
          "output_type": "execute_result",
          "data": {
            "text/plain": [
              "8"
            ]
          },
          "metadata": {},
          "execution_count": 145
        }
      ]
    },
    {
      "cell_type": "code",
      "source": [
        "np.random.randint(1, 10, size=100)"
      ],
      "metadata": {
        "colab": {
          "base_uri": "https://localhost:8080/"
        },
        "id": "2F8bw1O9iLOr",
        "outputId": "70263d3c-1d47-4a3d-a076-51f70266da87"
      },
      "execution_count": 147,
      "outputs": [
        {
          "output_type": "execute_result",
          "data": {
            "text/plain": [
              "array([2, 7, 7, 8, 4, 1, 8, 8, 1, 3, 3, 1, 6, 9, 1, 6, 4, 7, 8, 9, 1, 7,\n",
              "       1, 2, 1, 2, 5, 1, 2, 8, 4, 1, 9, 2, 6, 5, 6, 5, 4, 5, 5, 2, 2, 3,\n",
              "       2, 2, 3, 3, 3, 6, 9, 2, 8, 2, 8, 2, 9, 1, 7, 8, 6, 2, 3, 7, 2, 6,\n",
              "       9, 1, 4, 7, 4, 1, 3, 9, 9, 1, 8, 8, 5, 7, 4, 5, 6, 4, 6, 3, 4, 3,\n",
              "       3, 6, 9, 5, 2, 7, 8, 2, 8, 2, 3, 3])"
            ]
          },
          "metadata": {},
          "execution_count": 147
        }
      ]
    },
    {
      "cell_type": "code",
      "source": [],
      "metadata": {
        "id": "BcgCUKDciLdV"
      },
      "execution_count": null,
      "outputs": []
    },
    {
      "cell_type": "code",
      "source": [
        "price = 10000\n",
        "\n",
        "days = 250\n",
        "daliy_earning_rate = np.random.randn(days) / 100\n",
        "\n",
        "price_arr = np.empty(days)\n",
        "for i, v in enumerate(daliy_earning_rate):\n",
        "    price += (1+v)\n",
        "    print(price)\n",
        "    price_arr[i] = price\n",
        "price_arr"
      ],
      "metadata": {
        "colab": {
          "base_uri": "https://localhost:8080/"
        },
        "id": "6ATaxrb1iLpn",
        "outputId": "569a063c-b854-4934-ba94-0791abc68b32"
      },
      "execution_count": 148,
      "outputs": [
        {
          "output_type": "stream",
          "name": "stdout",
          "text": [
            "10000.995971293483\n",
            "10001.98935122846\n",
            "10002.978384510352\n",
            "10003.979879808889\n",
            "10004.977018961017\n",
            "10005.967907144664\n",
            "10006.970577438755\n",
            "10007.962287696655\n",
            "10008.966663193616\n",
            "10009.967979364343\n",
            "10010.969846158609\n",
            "10011.958782769003\n",
            "10012.959043906316\n",
            "10013.964818568002\n",
            "10014.95145402124\n",
            "10015.953606757335\n",
            "10016.969085013428\n",
            "10017.9835693349\n",
            "10018.972277641478\n",
            "10019.954911300349\n",
            "10020.943590841043\n",
            "10021.948391376021\n",
            "10022.965989482276\n",
            "10023.970020604113\n",
            "10024.988433828226\n",
            "10025.97033857575\n",
            "10026.965288664305\n",
            "10027.981315325189\n",
            "10028.99320910397\n",
            "10029.995762046887\n",
            "10031.005797934333\n",
            "10032.009033041633\n",
            "10033.005497904986\n",
            "10034.010069672235\n",
            "10035.00040660589\n",
            "10035.999763066726\n",
            "10036.986593424672\n",
            "10037.984979519539\n",
            "10039.00331358106\n",
            "10040.007608538535\n",
            "10041.000923046817\n",
            "10042.006902406429\n",
            "10043.015245383496\n",
            "10044.00337897129\n",
            "10045.012018054562\n",
            "10046.01953688386\n",
            "10047.014609548725\n",
            "10048.027558746513\n",
            "10049.028180440624\n",
            "10050.035185868655\n",
            "10051.0568826298\n",
            "10052.062118986789\n",
            "10053.071707637304\n",
            "10054.061550799226\n",
            "10055.068577455855\n",
            "10056.07258823735\n",
            "10057.066045638434\n",
            "10058.058695960272\n",
            "10059.054575829967\n",
            "10060.042070389061\n",
            "10061.05331046754\n",
            "10062.043967249594\n",
            "10063.039185313532\n",
            "10064.039754249854\n",
            "10065.038726565457\n",
            "10066.03797654492\n",
            "10067.056542138616\n",
            "10068.056785032668\n",
            "10069.068244396809\n",
            "10070.052681727211\n",
            "10071.05748960621\n",
            "10072.070152896775\n",
            "10073.083211463581\n",
            "10074.069964023096\n",
            "10075.081599963985\n",
            "10076.084131038671\n",
            "10077.089748054232\n",
            "10078.094031456081\n",
            "10079.094994013143\n",
            "10080.099313074988\n",
            "10081.109538274623\n",
            "10082.101541154645\n",
            "10083.089239163986\n",
            "10084.080796458453\n",
            "10085.070956037585\n",
            "10086.068747416948\n",
            "10087.073578046084\n",
            "10088.05400618937\n",
            "10089.064102379942\n",
            "10090.071124645894\n",
            "10091.061649551672\n",
            "10092.049987464963\n",
            "10093.054787025638\n",
            "10094.058468083553\n",
            "10095.060922226568\n",
            "10096.049742232179\n",
            "10097.05650302773\n",
            "10098.075828664652\n",
            "10099.05861848519\n",
            "10100.059341217006\n",
            "10101.04940057687\n",
            "10102.06384218499\n",
            "10103.056637913545\n",
            "10104.05450660386\n",
            "10105.044129739794\n",
            "10106.033900592422\n",
            "10107.016509138257\n",
            "10108.018578989544\n",
            "10109.009248150036\n",
            "10110.006142221977\n",
            "10111.031521198853\n",
            "10112.03022431702\n",
            "10113.021105604445\n",
            "10114.012966151719\n",
            "10115.023262525157\n",
            "10116.034919394564\n",
            "10117.032196631613\n",
            "10118.035962096215\n",
            "10119.03626489313\n",
            "10120.02781736764\n",
            "10121.034786674856\n",
            "10122.039500627909\n",
            "10123.032129824733\n",
            "10124.041104012189\n",
            "10125.047623444068\n",
            "10126.046361983434\n",
            "10127.047387109935\n",
            "10128.049086809393\n",
            "10129.05159193986\n",
            "10130.072499300846\n",
            "10131.075934136335\n",
            "10132.092354173163\n",
            "10133.089494860176\n",
            "10134.065735576873\n",
            "10135.064990474086\n",
            "10136.068106783627\n",
            "10137.07756687541\n",
            "10138.086541165763\n",
            "10139.080254634677\n",
            "10140.0635896716\n",
            "10141.0505444382\n",
            "10142.044303331164\n",
            "10143.027030180041\n",
            "10144.027756445665\n",
            "10145.015425247675\n",
            "10146.021105624852\n",
            "10147.016880578078\n",
            "10148.010225657512\n",
            "10149.008101112491\n",
            "10150.009670318761\n",
            "10151.006231843841\n",
            "10152.010629224915\n",
            "10153.00322192162\n",
            "10154.007608512162\n",
            "10154.999898133932\n",
            "10155.998445768024\n",
            "10157.000773257794\n",
            "10158.012903849745\n",
            "10159.016585029454\n",
            "10160.032689099653\n",
            "10161.04256398068\n",
            "10162.041288643415\n",
            "10163.04056382714\n",
            "10164.046987849559\n",
            "10165.050526976836\n",
            "10166.052417570227\n",
            "10167.05633652365\n",
            "10168.053757345733\n",
            "10169.056462559885\n",
            "10170.058539295715\n",
            "10171.06174840402\n",
            "10172.055956122307\n",
            "10173.061750764684\n",
            "10174.066049477942\n",
            "10175.067139415494\n",
            "10176.081879538298\n",
            "10177.086489913854\n",
            "10178.093998343185\n",
            "10179.105882974902\n",
            "10180.104902887055\n",
            "10181.114699365518\n",
            "10182.136726825194\n",
            "10183.132232538246\n",
            "10184.137924029903\n",
            "10185.146383868261\n",
            "10186.158323016087\n",
            "10187.166714778434\n",
            "10188.171612990309\n",
            "10189.193947392068\n",
            "10190.185997130175\n",
            "10191.185639757574\n",
            "10192.174052642411\n",
            "10193.163312486848\n",
            "10194.153130397104\n",
            "10195.160463859445\n",
            "10196.173138565913\n",
            "10197.16956269776\n",
            "10198.156475643964\n",
            "10199.155939282608\n",
            "10200.141400548486\n",
            "10201.133484768845\n",
            "10202.144669961808\n",
            "10203.149560697793\n",
            "10204.149426748088\n",
            "10205.172260722577\n",
            "10206.17552129809\n",
            "10207.174769462086\n",
            "10208.169642768611\n",
            "10209.172081576757\n",
            "10210.16887261206\n",
            "10211.16425833623\n",
            "10212.155872845258\n",
            "10213.142977379945\n",
            "10214.131801455176\n",
            "10215.106933861929\n",
            "10216.090539508334\n",
            "10217.107881445461\n",
            "10218.091497011928\n",
            "10219.10325004398\n",
            "10220.100805638278\n",
            "10221.10882563452\n",
            "10222.09832868956\n",
            "10223.114341973216\n",
            "10224.109893226814\n",
            "10225.11793776945\n",
            "10226.103975461303\n",
            "10227.10919302843\n",
            "10228.113601560271\n",
            "10229.11299127517\n",
            "10230.111553528193\n",
            "10231.114546809518\n",
            "10232.109566720288\n",
            "10233.106834594519\n",
            "10234.11888293902\n",
            "10235.112374858636\n",
            "10236.104136760434\n",
            "10237.128743724788\n",
            "10238.134831897696\n",
            "10239.125782732312\n",
            "10240.120730395049\n",
            "10241.119883023668\n",
            "10242.115733591283\n",
            "10243.103128898061\n",
            "10244.092806173107\n",
            "10245.112727657504\n",
            "10246.115003055766\n",
            "10247.110979028754\n",
            "10248.114443264882\n",
            "10249.104689708483\n",
            "10250.092268877343\n"
          ]
        },
        {
          "output_type": "execute_result",
          "data": {
            "text/plain": [
              "array([10000.99597129, 10001.98935123, 10002.97838451, 10003.97987981,\n",
              "       10004.97701896, 10005.96790714, 10006.97057744, 10007.9622877 ,\n",
              "       10008.96666319, 10009.96797936, 10010.96984616, 10011.95878277,\n",
              "       10012.95904391, 10013.96481857, 10014.95145402, 10015.95360676,\n",
              "       10016.96908501, 10017.98356933, 10018.97227764, 10019.9549113 ,\n",
              "       10020.94359084, 10021.94839138, 10022.96598948, 10023.9700206 ,\n",
              "       10024.98843383, 10025.97033858, 10026.96528866, 10027.98131533,\n",
              "       10028.9932091 , 10029.99576205, 10031.00579793, 10032.00903304,\n",
              "       10033.0054979 , 10034.01006967, 10035.00040661, 10035.99976307,\n",
              "       10036.98659342, 10037.98497952, 10039.00331358, 10040.00760854,\n",
              "       10041.00092305, 10042.00690241, 10043.01524538, 10044.00337897,\n",
              "       10045.01201805, 10046.01953688, 10047.01460955, 10048.02755875,\n",
              "       10049.02818044, 10050.03518587, 10051.05688263, 10052.06211899,\n",
              "       10053.07170764, 10054.0615508 , 10055.06857746, 10056.07258824,\n",
              "       10057.06604564, 10058.05869596, 10059.05457583, 10060.04207039,\n",
              "       10061.05331047, 10062.04396725, 10063.03918531, 10064.03975425,\n",
              "       10065.03872657, 10066.03797654, 10067.05654214, 10068.05678503,\n",
              "       10069.0682444 , 10070.05268173, 10071.05748961, 10072.0701529 ,\n",
              "       10073.08321146, 10074.06996402, 10075.08159996, 10076.08413104,\n",
              "       10077.08974805, 10078.09403146, 10079.09499401, 10080.09931307,\n",
              "       10081.10953827, 10082.10154115, 10083.08923916, 10084.08079646,\n",
              "       10085.07095604, 10086.06874742, 10087.07357805, 10088.05400619,\n",
              "       10089.06410238, 10090.07112465, 10091.06164955, 10092.04998746,\n",
              "       10093.05478703, 10094.05846808, 10095.06092223, 10096.04974223,\n",
              "       10097.05650303, 10098.07582866, 10099.05861849, 10100.05934122,\n",
              "       10101.04940058, 10102.06384218, 10103.05663791, 10104.0545066 ,\n",
              "       10105.04412974, 10106.03390059, 10107.01650914, 10108.01857899,\n",
              "       10109.00924815, 10110.00614222, 10111.0315212 , 10112.03022432,\n",
              "       10113.0211056 , 10114.01296615, 10115.02326253, 10116.03491939,\n",
              "       10117.03219663, 10118.0359621 , 10119.03626489, 10120.02781737,\n",
              "       10121.03478667, 10122.03950063, 10123.03212982, 10124.04110401,\n",
              "       10125.04762344, 10126.04636198, 10127.04738711, 10128.04908681,\n",
              "       10129.05159194, 10130.0724993 , 10131.07593414, 10132.09235417,\n",
              "       10133.08949486, 10134.06573558, 10135.06499047, 10136.06810678,\n",
              "       10137.07756688, 10138.08654117, 10139.08025463, 10140.06358967,\n",
              "       10141.05054444, 10142.04430333, 10143.02703018, 10144.02775645,\n",
              "       10145.01542525, 10146.02110562, 10147.01688058, 10148.01022566,\n",
              "       10149.00810111, 10150.00967032, 10151.00623184, 10152.01062922,\n",
              "       10153.00322192, 10154.00760851, 10154.99989813, 10155.99844577,\n",
              "       10157.00077326, 10158.01290385, 10159.01658503, 10160.0326891 ,\n",
              "       10161.04256398, 10162.04128864, 10163.04056383, 10164.04698785,\n",
              "       10165.05052698, 10166.05241757, 10167.05633652, 10168.05375735,\n",
              "       10169.05646256, 10170.0585393 , 10171.0617484 , 10172.05595612,\n",
              "       10173.06175076, 10174.06604948, 10175.06713942, 10176.08187954,\n",
              "       10177.08648991, 10178.09399834, 10179.10588297, 10180.10490289,\n",
              "       10181.11469937, 10182.13672683, 10183.13223254, 10184.13792403,\n",
              "       10185.14638387, 10186.15832302, 10187.16671478, 10188.17161299,\n",
              "       10189.19394739, 10190.18599713, 10191.18563976, 10192.17405264,\n",
              "       10193.16331249, 10194.1531304 , 10195.16046386, 10196.17313857,\n",
              "       10197.1695627 , 10198.15647564, 10199.15593928, 10200.14140055,\n",
              "       10201.13348477, 10202.14466996, 10203.1495607 , 10204.14942675,\n",
              "       10205.17226072, 10206.1755213 , 10207.17476946, 10208.16964277,\n",
              "       10209.17208158, 10210.16887261, 10211.16425834, 10212.15587285,\n",
              "       10213.14297738, 10214.13180146, 10215.10693386, 10216.09053951,\n",
              "       10217.10788145, 10218.09149701, 10219.10325004, 10220.10080564,\n",
              "       10221.10882563, 10222.09832869, 10223.11434197, 10224.10989323,\n",
              "       10225.11793777, 10226.10397546, 10227.10919303, 10228.11360156,\n",
              "       10229.11299128, 10230.11155353, 10231.11454681, 10232.10956672,\n",
              "       10233.10683459, 10234.11888294, 10235.11237486, 10236.10413676,\n",
              "       10237.12874372, 10238.1348319 , 10239.12578273, 10240.1207304 ,\n",
              "       10241.11988302, 10242.11573359, 10243.1031289 , 10244.09280617,\n",
              "       10245.11272766, 10246.11500306, 10247.11097903, 10248.11444326,\n",
              "       10249.10468971, 10250.09226888])"
            ]
          },
          "metadata": {},
          "execution_count": 148
        }
      ]
    },
    {
      "cell_type": "code",
      "source": [
        "x = np.random.randint(1, 10, 1000)\n",
        "x"
      ],
      "metadata": {
        "colab": {
          "base_uri": "https://localhost:8080/"
        },
        "id": "jQopVMDwj1GD",
        "outputId": "8dbef5a9-8113-41ca-868e-e15c13922491"
      },
      "execution_count": 152,
      "outputs": [
        {
          "output_type": "execute_result",
          "data": {
            "text/plain": [
              "array([9, 4, 7, 8, 8, 9, 8, 8, 4, 6, 3, 9, 8, 4, 9, 4, 6, 9, 5, 2, 7, 5,\n",
              "       7, 2, 7, 8, 6, 3, 9, 1, 1, 4, 4, 2, 2, 9, 8, 5, 5, 7, 4, 1, 1, 7,\n",
              "       3, 5, 3, 4, 3, 2, 2, 3, 1, 8, 8, 4, 2, 4, 4, 5, 7, 4, 4, 4, 5, 7,\n",
              "       1, 9, 9, 9, 8, 8, 3, 6, 3, 9, 6, 5, 4, 4, 9, 8, 3, 9, 1, 6, 3, 6,\n",
              "       5, 8, 6, 7, 2, 4, 7, 5, 2, 3, 9, 3, 5, 8, 7, 8, 7, 4, 7, 2, 7, 9,\n",
              "       9, 9, 1, 2, 9, 5, 3, 3, 4, 9, 4, 2, 8, 4, 7, 2, 1, 3, 1, 8, 1, 1,\n",
              "       2, 7, 5, 6, 1, 8, 7, 3, 3, 5, 2, 6, 1, 7, 9, 8, 5, 2, 6, 4, 4, 2,\n",
              "       9, 2, 6, 6, 1, 2, 8, 8, 9, 5, 3, 6, 6, 5, 3, 5, 7, 4, 7, 2, 9, 7,\n",
              "       2, 6, 1, 3, 2, 4, 9, 5, 7, 2, 3, 4, 4, 8, 8, 2, 6, 6, 6, 3, 4, 1,\n",
              "       1, 6, 9, 7, 7, 5, 6, 5, 5, 3, 9, 7, 8, 9, 4, 4, 4, 1, 2, 5, 1, 9,\n",
              "       8, 4, 9, 4, 4, 8, 8, 8, 5, 7, 3, 2, 3, 1, 7, 7, 5, 4, 6, 5, 2, 6,\n",
              "       4, 4, 2, 1, 6, 3, 8, 4, 8, 1, 5, 4, 6, 1, 2, 8, 1, 6, 1, 2, 9, 2,\n",
              "       8, 5, 4, 4, 1, 5, 7, 7, 7, 9, 4, 6, 8, 1, 9, 2, 3, 4, 6, 2, 7, 2,\n",
              "       1, 3, 1, 7, 8, 6, 7, 1, 5, 8, 1, 1, 8, 6, 1, 2, 1, 8, 8, 3, 8, 9,\n",
              "       6, 9, 3, 5, 1, 1, 2, 7, 6, 3, 1, 2, 8, 4, 2, 2, 5, 2, 8, 4, 3, 9,\n",
              "       6, 3, 5, 4, 3, 3, 7, 8, 8, 1, 1, 8, 1, 2, 8, 8, 4, 9, 6, 5, 2, 1,\n",
              "       4, 6, 2, 2, 3, 6, 9, 2, 9, 8, 7, 8, 6, 6, 6, 6, 6, 3, 9, 6, 1, 9,\n",
              "       3, 7, 7, 2, 8, 1, 9, 3, 5, 7, 6, 1, 1, 2, 8, 4, 8, 5, 9, 9, 8, 4,\n",
              "       2, 8, 8, 8, 1, 5, 5, 4, 3, 5, 3, 6, 3, 3, 9, 8, 3, 2, 6, 4, 8, 8,\n",
              "       5, 1, 3, 7, 6, 7, 8, 4, 3, 8, 6, 2, 2, 4, 2, 7, 8, 1, 4, 8, 6, 2,\n",
              "       3, 2, 7, 6, 9, 5, 7, 3, 2, 7, 1, 7, 6, 3, 1, 4, 2, 2, 3, 6, 2, 5,\n",
              "       8, 8, 5, 2, 2, 5, 8, 1, 2, 2, 5, 9, 4, 4, 8, 7, 5, 2, 2, 1, 1, 7,\n",
              "       3, 6, 1, 2, 5, 1, 9, 8, 4, 5, 8, 1, 5, 1, 8, 4, 9, 5, 5, 3, 8, 2,\n",
              "       8, 8, 8, 5, 4, 9, 7, 8, 2, 2, 5, 6, 9, 6, 1, 7, 9, 9, 7, 7, 5, 8,\n",
              "       2, 5, 2, 5, 7, 9, 8, 7, 4, 5, 4, 6, 3, 1, 8, 1, 4, 5, 9, 2, 5, 8,\n",
              "       8, 5, 1, 6, 2, 6, 5, 9, 3, 8, 3, 5, 3, 6, 8, 4, 4, 2, 8, 6, 2, 5,\n",
              "       9, 1, 7, 6, 5, 4, 6, 7, 3, 4, 5, 8, 3, 1, 3, 6, 6, 2, 5, 5, 9, 8,\n",
              "       1, 8, 5, 9, 6, 8, 6, 3, 2, 7, 3, 9, 5, 1, 5, 3, 4, 7, 5, 9, 7, 2,\n",
              "       2, 4, 9, 7, 6, 6, 9, 7, 4, 1, 5, 3, 8, 5, 8, 3, 7, 1, 2, 6, 9, 4,\n",
              "       6, 7, 7, 5, 5, 1, 4, 2, 8, 1, 4, 8, 5, 5, 3, 2, 4, 2, 3, 9, 9, 7,\n",
              "       9, 3, 2, 6, 7, 2, 8, 3, 5, 8, 3, 8, 6, 6, 6, 5, 5, 5, 1, 3, 4, 6,\n",
              "       1, 9, 6, 2, 8, 7, 7, 9, 2, 1, 1, 4, 2, 4, 3, 8, 5, 4, 3, 2, 8, 1,\n",
              "       8, 4, 9, 5, 2, 8, 2, 3, 8, 5, 4, 8, 6, 3, 7, 9, 6, 1, 3, 1, 7, 5,\n",
              "       2, 8, 8, 7, 9, 7, 8, 9, 4, 7, 3, 3, 4, 9, 7, 7, 1, 5, 5, 7, 7, 4,\n",
              "       2, 5, 8, 6, 7, 3, 3, 1, 9, 2, 2, 3, 9, 8, 6, 1, 1, 5, 9, 9, 6, 4,\n",
              "       4, 9, 7, 4, 4, 7, 4, 7, 1, 7, 2, 4, 3, 7, 5, 8, 1, 1, 7, 8, 2, 1,\n",
              "       3, 5, 5, 7, 3, 4, 1, 5, 5, 3, 3, 3, 1, 2, 2, 4, 2, 6, 4, 5, 2, 1,\n",
              "       5, 6, 1, 2, 8, 6, 5, 5, 9, 5, 4, 2, 5, 2, 5, 8, 8, 5, 8, 3, 5, 3,\n",
              "       8, 5, 4, 5, 4, 2, 1, 8, 7, 6, 2, 1, 3, 1, 8, 7, 4, 5, 7, 8, 1, 6,\n",
              "       3, 1, 3, 4, 5, 1, 5, 1, 3, 6, 9, 7, 5, 5, 6, 6, 1, 1, 6, 4, 8, 4,\n",
              "       2, 4, 4, 8, 8, 5, 1, 2, 7, 3, 9, 5, 8, 3, 3, 5, 1, 8, 5, 2, 4, 6,\n",
              "       1, 3, 1, 7, 4, 4, 3, 5, 7, 3, 4, 8, 7, 9, 7, 4, 3, 2, 3, 9, 1, 1,\n",
              "       2, 9, 2, 3, 1, 5, 6, 8, 7, 1, 6, 6, 4, 9, 6, 9, 2, 9, 9, 8, 8, 2,\n",
              "       8, 6, 1, 6, 6, 6, 2, 9, 3, 2, 8, 8, 3, 5, 8, 8, 3, 7, 3, 4, 9, 6,\n",
              "       7, 5, 7, 2, 4, 5, 9, 4, 8, 1, 5, 4, 7, 4, 6, 3, 8, 7, 8, 7, 9, 1,\n",
              "       6, 4, 8, 2, 5, 5, 1, 9, 1, 9])"
            ]
          },
          "metadata": {},
          "execution_count": 152
        }
      ]
    },
    {
      "cell_type": "code",
      "source": [
        "np.unique(x)"
      ],
      "metadata": {
        "colab": {
          "base_uri": "https://localhost:8080/"
        },
        "id": "Z5nfV9Y9kI8E",
        "outputId": "e9c29418-49bb-453e-eb3f-9103463620a8"
      },
      "execution_count": 153,
      "outputs": [
        {
          "output_type": "execute_result",
          "data": {
            "text/plain": [
              "array([1, 2, 3, 4, 5, 6, 7, 8, 9])"
            ]
          },
          "metadata": {},
          "execution_count": 153
        }
      ]
    },
    {
      "cell_type": "code",
      "source": [
        "np.unique(x, return_counts=True)"
      ],
      "metadata": {
        "colab": {
          "base_uri": "https://localhost:8080/"
        },
        "id": "eZZ017oUj1bI",
        "outputId": "f1f304af-c7af-42b4-f332-308a7a9cba51"
      },
      "execution_count": 154,
      "outputs": [
        {
          "output_type": "execute_result",
          "data": {
            "text/plain": [
              "(array([1, 2, 3, 4, 5, 6, 7, 8, 9]),\n",
              " array([111, 117, 106, 114, 122, 101, 102, 133,  94]))"
            ]
          },
          "metadata": {},
          "execution_count": 154
        }
      ]
    },
    {
      "cell_type": "code",
      "source": [
        "key, value = np.unique(x, return_counts=True)\n",
        "print(key)\n",
        "print(value)"
      ],
      "metadata": {
        "colab": {
          "base_uri": "https://localhost:8080/"
        },
        "id": "uJnRbQc4j1jv",
        "outputId": "0534bbc6-db66-4658-d79a-f852d44ebacf"
      },
      "execution_count": 155,
      "outputs": [
        {
          "output_type": "stream",
          "name": "stdout",
          "text": [
            "[1 2 3 4 5 6 7 8 9]\n",
            "[111 117 106 114 122 101 102 133  94]\n"
          ]
        }
      ]
    },
    {
      "cell_type": "code",
      "source": [
        "list(zip(key, value))"
      ],
      "metadata": {
        "colab": {
          "base_uri": "https://localhost:8080/"
        },
        "id": "kTngKzGZj1rM",
        "outputId": "3f64303b-8ccd-47ff-92ff-11e196c33969"
      },
      "execution_count": 156,
      "outputs": [
        {
          "output_type": "execute_result",
          "data": {
            "text/plain": [
              "[(1, 111),\n",
              " (2, 117),\n",
              " (3, 106),\n",
              " (4, 114),\n",
              " (5, 122),\n",
              " (6, 101),\n",
              " (7, 102),\n",
              " (8, 133),\n",
              " (9, 94)]"
            ]
          },
          "metadata": {},
          "execution_count": 156
        }
      ]
    },
    {
      "cell_type": "code",
      "source": [
        "dict(zip(key, value))"
      ],
      "metadata": {
        "colab": {
          "base_uri": "https://localhost:8080/"
        },
        "id": "fon-KugTj1yY",
        "outputId": "8bd81066-e95a-45c0-eea4-36d6da74149a"
      },
      "execution_count": 157,
      "outputs": [
        {
          "output_type": "execute_result",
          "data": {
            "text/plain": [
              "{1: 111, 2: 117, 3: 106, 4: 114, 5: 122, 6: 101, 7: 102, 8: 133, 9: 94}"
            ]
          },
          "metadata": {},
          "execution_count": 157
        }
      ]
    },
    {
      "cell_type": "code",
      "source": [
        "dict(zip(*np.unique(x,return_counts=True)))"
      ],
      "metadata": {
        "colab": {
          "base_uri": "https://localhost:8080/"
        },
        "id": "dFSwfTm1j15V",
        "outputId": "b9ea52f6-c0da-4632-b3f9-11f5c68f1295"
      },
      "execution_count": 158,
      "outputs": [
        {
          "output_type": "execute_result",
          "data": {
            "text/plain": [
              "{1: 111, 2: 117, 3: 106, 4: 114, 5: 122, 6: 101, 7: 102, 8: 133, 9: 94}"
            ]
          },
          "metadata": {},
          "execution_count": 158
        }
      ]
    },
    {
      "cell_type": "code",
      "source": [
        "np.bincount(x, minlength=30)"
      ],
      "metadata": {
        "colab": {
          "base_uri": "https://localhost:8080/"
        },
        "id": "GmBSCLCVj1_4",
        "outputId": "bb6ddab0-cb9a-486e-c19c-0ac80c57ade6"
      },
      "execution_count": 159,
      "outputs": [
        {
          "output_type": "execute_result",
          "data": {
            "text/plain": [
              "array([  0, 111, 117, 106, 114, 122, 101, 102, 133,  94,   0,   0,   0,\n",
              "         0,   0,   0,   0,   0,   0,   0,   0,   0,   0,   0,   0,   0,\n",
              "         0,   0,   0,   0])"
            ]
          },
          "metadata": {},
          "execution_count": 159
        }
      ]
    },
    {
      "cell_type": "code",
      "source": [
        "np.arange(30), np.bincount(x, minlength=6)"
      ],
      "metadata": {
        "colab": {
          "base_uri": "https://localhost:8080/"
        },
        "id": "r4Pccg08j2Gg",
        "outputId": "755d4613-70f1-4a16-cbcc-05cbf851ff55"
      },
      "execution_count": 160,
      "outputs": [
        {
          "output_type": "execute_result",
          "data": {
            "text/plain": [
              "(array([ 0,  1,  2,  3,  4,  5,  6,  7,  8,  9, 10, 11, 12, 13, 14, 15, 16,\n",
              "        17, 18, 19, 20, 21, 22, 23, 24, 25, 26, 27, 28, 29]),\n",
              " array([  0, 111, 117, 106, 114, 122, 101, 102, 133,  94]))"
            ]
          },
          "metadata": {},
          "execution_count": 160
        }
      ]
    },
    {
      "cell_type": "code",
      "source": [],
      "metadata": {
        "id": "k7PCq0J9j2M8"
      },
      "execution_count": null,
      "outputs": []
    }
  ]
}